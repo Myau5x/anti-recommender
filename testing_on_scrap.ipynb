{
 "cells": [
  {
   "cell_type": "code",
   "execution_count": 1,
   "metadata": {},
   "outputs": [],
   "source": [
    "import pandas as pd\n",
    "import numpy as np"
   ]
  },
  {
   "cell_type": "code",
   "execution_count": 2,
   "metadata": {},
   "outputs": [],
   "source": [
    "import pickle"
   ]
  },
  {
   "cell_type": "code",
   "execution_count": 3,
   "metadata": {},
   "outputs": [],
   "source": [
    "from sklearn.model_selection import train_test_split, cross_val_score, GridSearchCV\n",
    "from sklearn.ensemble import RandomForestClassifier, GradientBoostingClassifier"
   ]
  },
  {
   "cell_type": "code",
   "execution_count": 4,
   "metadata": {},
   "outputs": [],
   "source": [
    "from sklearn.metrics import auc, roc_auc_score, roc_curve, accuracy_score,  recall_score, precision_score\n",
    "from regression_tools.dftransformers import (\n",
    "    ColumnSelector, Identity, FeatureUnion, MapFeature, Intercept)"
   ]
  },
  {
   "cell_type": "code",
   "execution_count": 5,
   "metadata": {},
   "outputs": [],
   "source": [
    "from my_metr import plot_roc_curve"
   ]
  },
  {
   "cell_type": "code",
   "execution_count": 54,
   "metadata": {},
   "outputs": [],
   "source": [
    "from trans_rat import FillPrice, CategoriesTransformScr, RatingNormalizer, FillPriceScr\n"
   ]
  },
  {
   "cell_type": "code",
   "execution_count": 6,
   "metadata": {},
   "outputs": [],
   "source": [
    "import matplotlib.pyplot as plt\n",
    "%matplotlib inline"
   ]
  },
  {
   "cell_type": "code",
   "execution_count": 7,
   "metadata": {},
   "outputs": [],
   "source": [
    "from pymongo import MongoClient\n",
    "import time\n",
    "from bs4 import BeautifulSoup\n",
    "\n",
    "mc = MongoClient()\n",
    "db  = mc['raw_restaurants']\n",
    "rv_s = db['reviews_scrap']"
   ]
  },
  {
   "cell_type": "code",
   "execution_count": 8,
   "metadata": {},
   "outputs": [],
   "source": [
    "colClust_n = ['cl_t0', 'cl_t1', 'cl_t2', 'cl_t3', 'cl_t4', 'cl_t5',  'cl_t7',\n",
    "       'cl_t8', 'cl_t9', 'cl_t10', 'cl_t11', 'cl_t12', 'cl_t13', 'cl_t14',\n",
    "        'cl_t16', 'cl_t17']"
   ]
  },
  {
   "cell_type": "code",
   "execution_count": null,
   "metadata": {},
   "outputs": [],
   "source": [
    "#numbers_list = pickle.load(list_unpickle)"
   ]
  },
  {
   "cell_type": "code",
   "execution_count": 9,
   "metadata": {},
   "outputs": [],
   "source": [
    "clust_model_rf ={}\n",
    "clust_model_gr = {}"
   ]
  },
  {
   "cell_type": "code",
   "execution_count": 10,
   "metadata": {},
   "outputs": [],
   "source": [
    "for col in colClust_n:\n",
    "    filename_gr = 'grboost/mgr_'+col+'.pkl'\n",
    "    with open(filename_gr,'rb') as f:\n",
    "        clust_model_gr[col]= pickle.load( f)\n",
    "    filename_rf = 'rforest/mrf_'+col+'.pkl'\n",
    "    with open(filename_rf,'rb') as f:\n",
    "        clust_model_rf[col] =pickle.load( f)"
   ]
  },
  {
   "cell_type": "code",
   "execution_count": 11,
   "metadata": {},
   "outputs": [
    {
     "data": {
      "text/plain": [
       "GradientBoostingClassifier(criterion='friedman_mse', init=None,\n",
       "              learning_rate=0.05, loss='deviance', max_depth=3,\n",
       "              max_features='sqrt', max_leaf_nodes=None,\n",
       "              min_impurity_decrease=0.0, min_impurity_split=None,\n",
       "              min_samples_leaf=1, min_samples_split=2,\n",
       "              min_weight_fraction_leaf=0.0, n_estimators=300,\n",
       "              presort='auto', random_state=179, subsample=0.8, verbose=0,\n",
       "              warm_start=False)"
      ]
     },
     "execution_count": 11,
     "metadata": {},
     "output_type": "execute_result"
    }
   ],
   "source": [
    "clust_model_gr['cl_t3']"
   ]
  },
  {
   "cell_type": "code",
   "execution_count": 12,
   "metadata": {},
   "outputs": [],
   "source": [
    "user_cl = pd.read_csv('user_from_scr_clidf18.csv')"
   ]
  },
  {
   "cell_type": "code",
   "execution_count": 13,
   "metadata": {},
   "outputs": [],
   "source": [
    "rest = db['restaurants']\n",
    "\n",
    "rest_df = pd.DataFrame(list(rest.find({})))"
   ]
  },
  {
   "cell_type": "code",
   "execution_count": 24,
   "metadata": {},
   "outputs": [
    {
     "data": {
      "text/plain": [
       "(8946, 18)"
      ]
     },
     "execution_count": 24,
     "metadata": {},
     "output_type": "execute_result"
    }
   ],
   "source": [
    "rest_df.shape"
   ]
  },
  {
   "cell_type": "markdown",
   "metadata": {},
   "source": [
    "### надо почистить дату"
   ]
  },
  {
   "cell_type": "code",
   "execution_count": 14,
   "metadata": {},
   "outputs": [],
   "source": [
    "revs_df = pd.DataFrame(list(rv_s.find({})))"
   ]
  },
  {
   "cell_type": "code",
   "execution_count": 16,
   "metadata": {},
   "outputs": [
    {
     "data": {
      "text/plain": [
       "Index(['_id', 'alias', 'biz_id', 'category', 'date', 'id', 'rating', 'text',\n",
       "       'user_id'],\n",
       "      dtype='object')"
      ]
     },
     "execution_count": 16,
     "metadata": {},
     "output_type": "execute_result"
    }
   ],
   "source": [
    "revs_df.columns"
   ]
  },
  {
   "cell_type": "code",
   "execution_count": 19,
   "metadata": {},
   "outputs": [],
   "source": [
    "revs_df.drop(columns=[ '_id', 'category', 'date'], inplace= True)"
   ]
  },
  {
   "cell_type": "code",
   "execution_count": 21,
   "metadata": {},
   "outputs": [],
   "source": [
    "rest_alias = np.unique(revs_df.alias)"
   ]
  },
  {
   "cell_type": "code",
   "execution_count": 22,
   "metadata": {},
   "outputs": [
    {
     "data": {
      "text/plain": [
       "10222"
      ]
     },
     "execution_count": 22,
     "metadata": {},
     "output_type": "execute_result"
    }
   ],
   "source": [
    "len(rest_alias)"
   ]
  },
  {
   "cell_type": "code",
   "execution_count": 27,
   "metadata": {},
   "outputs": [],
   "source": [
    "act = (revs_df.rating.astype(float) < 3)"
   ]
  },
  {
   "cell_type": "code",
   "execution_count": 28,
   "metadata": {},
   "outputs": [
    {
     "data": {
      "text/html": [
       "<div>\n",
       "<style scoped>\n",
       "    .dataframe tbody tr th:only-of-type {\n",
       "        vertical-align: middle;\n",
       "    }\n",
       "\n",
       "    .dataframe tbody tr th {\n",
       "        vertical-align: top;\n",
       "    }\n",
       "\n",
       "    .dataframe thead th {\n",
       "        text-align: right;\n",
       "    }\n",
       "</style>\n",
       "<table border=\"1\" class=\"dataframe\">\n",
       "  <thead>\n",
       "    <tr style=\"text-align: right;\">\n",
       "      <th></th>\n",
       "      <th>_id</th>\n",
       "      <th>alias</th>\n",
       "      <th>categories</th>\n",
       "      <th>coordinates</th>\n",
       "      <th>display_phone</th>\n",
       "      <th>distance</th>\n",
       "      <th>id</th>\n",
       "      <th>image_url</th>\n",
       "      <th>is_closed</th>\n",
       "      <th>location</th>\n",
       "      <th>name</th>\n",
       "      <th>phone</th>\n",
       "      <th>price</th>\n",
       "      <th>rating</th>\n",
       "      <th>rev_API</th>\n",
       "      <th>review_count</th>\n",
       "      <th>transactions</th>\n",
       "      <th>url</th>\n",
       "    </tr>\n",
       "  </thead>\n",
       "  <tbody>\n",
       "    <tr>\n",
       "      <th>0</th>\n",
       "      <td>5bf90d4e7988471b045ba501</td>\n",
       "      <td>maono-seattle</td>\n",
       "      <td>[{'alias': 'hawaiian', 'title': 'Hawaiian'}, {...</td>\n",
       "      <td>{'latitude': 47.5636486287425, 'longitude': -1...</td>\n",
       "      <td>(206) 935-1075</td>\n",
       "      <td>1501.527536</td>\n",
       "      <td>gDAO-4m63svPUpii5b8kww</td>\n",
       "      <td>https://s3-media4.fl.yelpcdn.com/bphoto/rwJG59...</td>\n",
       "      <td>False</td>\n",
       "      <td>{'address1': '4437 California Ave SW', 'addres...</td>\n",
       "      <td>Ma'ono</td>\n",
       "      <td>+12069351075</td>\n",
       "      <td>$$</td>\n",
       "      <td>4.0</td>\n",
       "      <td>1</td>\n",
       "      <td>788</td>\n",
       "      <td>[]</td>\n",
       "      <td>https://www.yelp.com/biz/maono-seattle?adjust_...</td>\n",
       "    </tr>\n",
       "    <tr>\n",
       "      <th>1</th>\n",
       "      <td>5bf90d4e7988471b045ba502</td>\n",
       "      <td>ohs-sandwiches-seattle-2</td>\n",
       "      <td>[{'alias': 'sandwiches', 'title': 'Sandwiches'...</td>\n",
       "      <td>{'latitude': 47.5751165, 'longitude': -122.387...</td>\n",
       "      <td>(206) 420-3692</td>\n",
       "      <td>2616.713742</td>\n",
       "      <td>xzLAynrVb3No3ADUhMxlnQ</td>\n",
       "      <td>https://s3-media2.fl.yelpcdn.com/bphoto/zKlK95...</td>\n",
       "      <td>False</td>\n",
       "      <td>{'address1': '3217 California Ave SW', 'addres...</td>\n",
       "      <td>Oh's Sandwiches</td>\n",
       "      <td>+12064203692</td>\n",
       "      <td>NaN</td>\n",
       "      <td>4.5</td>\n",
       "      <td>1</td>\n",
       "      <td>32</td>\n",
       "      <td>[]</td>\n",
       "      <td>https://www.yelp.com/biz/ohs-sandwiches-seattl...</td>\n",
       "    </tr>\n",
       "    <tr>\n",
       "      <th>2</th>\n",
       "      <td>5bf90d4e7988471b045ba503</td>\n",
       "      <td>marination-ma-kai-seattle</td>\n",
       "      <td>[{'alias': 'korean', 'title': 'Korean'}, {'ali...</td>\n",
       "      <td>{'latitude': 47.5895547295386, 'longitude': -1...</td>\n",
       "      <td>(206) 328-8226</td>\n",
       "      <td>4061.556690</td>\n",
       "      <td>IsvlaFF0EPEhh3ahTuC4xg</td>\n",
       "      <td>https://s3-media1.fl.yelpcdn.com/bphoto/r19fwm...</td>\n",
       "      <td>False</td>\n",
       "      <td>{'address1': '1660 Harbor Ave SW', 'address2':...</td>\n",
       "      <td>Marination Ma Kai</td>\n",
       "      <td>+12063288226</td>\n",
       "      <td>$$</td>\n",
       "      <td>4.0</td>\n",
       "      <td>1</td>\n",
       "      <td>897</td>\n",
       "      <td>[]</td>\n",
       "      <td>https://www.yelp.com/biz/marination-ma-kai-sea...</td>\n",
       "    </tr>\n",
       "  </tbody>\n",
       "</table>\n",
       "</div>"
      ],
      "text/plain": [
       "                        _id                      alias  \\\n",
       "0  5bf90d4e7988471b045ba501              maono-seattle   \n",
       "1  5bf90d4e7988471b045ba502   ohs-sandwiches-seattle-2   \n",
       "2  5bf90d4e7988471b045ba503  marination-ma-kai-seattle   \n",
       "\n",
       "                                          categories  \\\n",
       "0  [{'alias': 'hawaiian', 'title': 'Hawaiian'}, {...   \n",
       "1  [{'alias': 'sandwiches', 'title': 'Sandwiches'...   \n",
       "2  [{'alias': 'korean', 'title': 'Korean'}, {'ali...   \n",
       "\n",
       "                                         coordinates   display_phone  \\\n",
       "0  {'latitude': 47.5636486287425, 'longitude': -1...  (206) 935-1075   \n",
       "1  {'latitude': 47.5751165, 'longitude': -122.387...  (206) 420-3692   \n",
       "2  {'latitude': 47.5895547295386, 'longitude': -1...  (206) 328-8226   \n",
       "\n",
       "      distance                      id  \\\n",
       "0  1501.527536  gDAO-4m63svPUpii5b8kww   \n",
       "1  2616.713742  xzLAynrVb3No3ADUhMxlnQ   \n",
       "2  4061.556690  IsvlaFF0EPEhh3ahTuC4xg   \n",
       "\n",
       "                                           image_url  is_closed  \\\n",
       "0  https://s3-media4.fl.yelpcdn.com/bphoto/rwJG59...      False   \n",
       "1  https://s3-media2.fl.yelpcdn.com/bphoto/zKlK95...      False   \n",
       "2  https://s3-media1.fl.yelpcdn.com/bphoto/r19fwm...      False   \n",
       "\n",
       "                                            location               name  \\\n",
       "0  {'address1': '4437 California Ave SW', 'addres...             Ma'ono   \n",
       "1  {'address1': '3217 California Ave SW', 'addres...    Oh's Sandwiches   \n",
       "2  {'address1': '1660 Harbor Ave SW', 'address2':...  Marination Ma Kai   \n",
       "\n",
       "          phone price  rating rev_API  review_count transactions  \\\n",
       "0  +12069351075    $$     4.0       1           788           []   \n",
       "1  +12064203692   NaN     4.5       1            32           []   \n",
       "2  +12063288226    $$     4.0       1           897           []   \n",
       "\n",
       "                                                 url  \n",
       "0  https://www.yelp.com/biz/maono-seattle?adjust_...  \n",
       "1  https://www.yelp.com/biz/ohs-sandwiches-seattl...  \n",
       "2  https://www.yelp.com/biz/marination-ma-kai-sea...  "
      ]
     },
     "execution_count": 28,
     "metadata": {},
     "output_type": "execute_result"
    }
   ],
   "source": [
    "rest_df.head(3)"
   ]
  },
  {
   "cell_type": "code",
   "execution_count": 29,
   "metadata": {},
   "outputs": [],
   "source": [
    "rest_clean = rest_df.drop(columns= ['_id','coordinates', 'display_phone', \n",
    "                                    'distance','image_url', 'name','location',\n",
    "                                   'is_closed','phone', 'transactions','url'])"
   ]
  },
  {
   "cell_type": "code",
   "execution_count": 31,
   "metadata": {},
   "outputs": [
    {
     "data": {
      "text/html": [
       "<div>\n",
       "<style scoped>\n",
       "    .dataframe tbody tr th:only-of-type {\n",
       "        vertical-align: middle;\n",
       "    }\n",
       "\n",
       "    .dataframe tbody tr th {\n",
       "        vertical-align: top;\n",
       "    }\n",
       "\n",
       "    .dataframe thead th {\n",
       "        text-align: right;\n",
       "    }\n",
       "</style>\n",
       "<table border=\"1\" class=\"dataframe\">\n",
       "  <thead>\n",
       "    <tr style=\"text-align: right;\">\n",
       "      <th></th>\n",
       "      <th>alias</th>\n",
       "      <th>categories</th>\n",
       "      <th>id</th>\n",
       "      <th>price</th>\n",
       "      <th>rating</th>\n",
       "      <th>rev_API</th>\n",
       "      <th>review_count</th>\n",
       "    </tr>\n",
       "  </thead>\n",
       "  <tbody>\n",
       "    <tr>\n",
       "      <th>0</th>\n",
       "      <td>maono-seattle</td>\n",
       "      <td>[{'alias': 'hawaiian', 'title': 'Hawaiian'}, {...</td>\n",
       "      <td>gDAO-4m63svPUpii5b8kww</td>\n",
       "      <td>$$</td>\n",
       "      <td>4.0</td>\n",
       "      <td>1</td>\n",
       "      <td>788</td>\n",
       "    </tr>\n",
       "    <tr>\n",
       "      <th>1</th>\n",
       "      <td>ohs-sandwiches-seattle-2</td>\n",
       "      <td>[{'alias': 'sandwiches', 'title': 'Sandwiches'...</td>\n",
       "      <td>xzLAynrVb3No3ADUhMxlnQ</td>\n",
       "      <td>NaN</td>\n",
       "      <td>4.5</td>\n",
       "      <td>1</td>\n",
       "      <td>32</td>\n",
       "    </tr>\n",
       "    <tr>\n",
       "      <th>2</th>\n",
       "      <td>marination-ma-kai-seattle</td>\n",
       "      <td>[{'alias': 'korean', 'title': 'Korean'}, {'ali...</td>\n",
       "      <td>IsvlaFF0EPEhh3ahTuC4xg</td>\n",
       "      <td>$$</td>\n",
       "      <td>4.0</td>\n",
       "      <td>1</td>\n",
       "      <td>897</td>\n",
       "    </tr>\n",
       "  </tbody>\n",
       "</table>\n",
       "</div>"
      ],
      "text/plain": [
       "                       alias  \\\n",
       "0              maono-seattle   \n",
       "1   ohs-sandwiches-seattle-2   \n",
       "2  marination-ma-kai-seattle   \n",
       "\n",
       "                                          categories                      id  \\\n",
       "0  [{'alias': 'hawaiian', 'title': 'Hawaiian'}, {...  gDAO-4m63svPUpii5b8kww   \n",
       "1  [{'alias': 'sandwiches', 'title': 'Sandwiches'...  xzLAynrVb3No3ADUhMxlnQ   \n",
       "2  [{'alias': 'korean', 'title': 'Korean'}, {'ali...  IsvlaFF0EPEhh3ahTuC4xg   \n",
       "\n",
       "  price  rating rev_API  review_count  \n",
       "0    $$     4.0       1           788  \n",
       "1   NaN     4.5       1            32  \n",
       "2    $$     4.0       1           897  "
      ]
     },
     "execution_count": 31,
     "metadata": {},
     "output_type": "execute_result"
    }
   ],
   "source": [
    "rest_clean.head(3)"
   ]
  },
  {
   "cell_type": "code",
   "execution_count": 35,
   "metadata": {},
   "outputs": [],
   "source": [
    "#Pipeline = Pipeline([FillPriceScr, CategoriesTransformScr, RatingNormalizer ])\n"
   ]
  },
  {
   "cell_type": "code",
   "execution_count": 93,
   "metadata": {},
   "outputs": [],
   "source": [
    "fpr = FillPriceScr()"
   ]
  },
  {
   "cell_type": "code",
   "execution_count": 94,
   "metadata": {},
   "outputs": [
    {
     "name": "stderr",
     "output_type": "stream",
     "text": [
      "/Users/olga/yelper/trans_rat.py:20: SettingWithCopyWarning: \n",
      "A value is trying to be set on a copy of a slice from a DataFrame\n",
      "\n",
      "See the caveats in the documentation: http://pandas.pydata.org/pandas-docs/stable/indexing.html#indexing-view-versus-copy\n",
      "  X[self.priceCol][pd.isnull(X[self.priceCol])] = '$$'\n"
     ]
    },
    {
     "data": {
      "text/html": [
       "<div>\n",
       "<style scoped>\n",
       "    .dataframe tbody tr th:only-of-type {\n",
       "        vertical-align: middle;\n",
       "    }\n",
       "\n",
       "    .dataframe tbody tr th {\n",
       "        vertical-align: top;\n",
       "    }\n",
       "\n",
       "    .dataframe thead th {\n",
       "        text-align: right;\n",
       "    }\n",
       "</style>\n",
       "<table border=\"1\" class=\"dataframe\">\n",
       "  <thead>\n",
       "    <tr style=\"text-align: right;\">\n",
       "      <th></th>\n",
       "      <th>alias</th>\n",
       "      <th>categories</th>\n",
       "      <th>id</th>\n",
       "      <th>RestaurantsPriceRange2</th>\n",
       "      <th>rating</th>\n",
       "      <th>rev_API</th>\n",
       "      <th>review_count</th>\n",
       "      <th>rest_isna</th>\n",
       "    </tr>\n",
       "  </thead>\n",
       "  <tbody>\n",
       "    <tr>\n",
       "      <th>0</th>\n",
       "      <td>maono-seattle</td>\n",
       "      <td>[{'alias': 'hawaiian', 'title': 'Hawaiian'}, {...</td>\n",
       "      <td>gDAO-4m63svPUpii5b8kww</td>\n",
       "      <td>2</td>\n",
       "      <td>4.0</td>\n",
       "      <td>1</td>\n",
       "      <td>788</td>\n",
       "      <td>False</td>\n",
       "    </tr>\n",
       "    <tr>\n",
       "      <th>1</th>\n",
       "      <td>ohs-sandwiches-seattle-2</td>\n",
       "      <td>[{'alias': 'sandwiches', 'title': 'Sandwiches'...</td>\n",
       "      <td>xzLAynrVb3No3ADUhMxlnQ</td>\n",
       "      <td>2</td>\n",
       "      <td>4.5</td>\n",
       "      <td>1</td>\n",
       "      <td>32</td>\n",
       "      <td>True</td>\n",
       "    </tr>\n",
       "  </tbody>\n",
       "</table>\n",
       "</div>"
      ],
      "text/plain": [
       "                      alias  \\\n",
       "0             maono-seattle   \n",
       "1  ohs-sandwiches-seattle-2   \n",
       "\n",
       "                                          categories                      id  \\\n",
       "0  [{'alias': 'hawaiian', 'title': 'Hawaiian'}, {...  gDAO-4m63svPUpii5b8kww   \n",
       "1  [{'alias': 'sandwiches', 'title': 'Sandwiches'...  xzLAynrVb3No3ADUhMxlnQ   \n",
       "\n",
       "   RestaurantsPriceRange2  rating rev_API  review_count  rest_isna  \n",
       "0                       2     4.0       1           788      False  \n",
       "1                       2     4.5       1            32       True  "
      ]
     },
     "execution_count": 94,
     "metadata": {},
     "output_type": "execute_result"
    }
   ],
   "source": [
    "rest_cl2 = fpr.transform(rest_clean)\n",
    "rest_cl2.head(2)"
   ]
  },
  {
   "cell_type": "code",
   "execution_count": 59,
   "metadata": {},
   "outputs": [
    {
     "data": {
      "text/html": [
       "<div>\n",
       "<style scoped>\n",
       "    .dataframe tbody tr th:only-of-type {\n",
       "        vertical-align: middle;\n",
       "    }\n",
       "\n",
       "    .dataframe tbody tr th {\n",
       "        vertical-align: top;\n",
       "    }\n",
       "\n",
       "    .dataframe thead th {\n",
       "        text-align: right;\n",
       "    }\n",
       "</style>\n",
       "<table border=\"1\" class=\"dataframe\">\n",
       "  <thead>\n",
       "    <tr style=\"text-align: right;\">\n",
       "      <th></th>\n",
       "      <th>Unnamed: 0</th>\n",
       "      <th>0</th>\n",
       "    </tr>\n",
       "  </thead>\n",
       "  <tbody>\n",
       "    <tr>\n",
       "      <th>0</th>\n",
       "      <td>Acai Bowls</td>\n",
       "      <td>0.000840</td>\n",
       "    </tr>\n",
       "    <tr>\n",
       "      <th>1</th>\n",
       "      <td>Active Life</td>\n",
       "      <td>0.004093</td>\n",
       "    </tr>\n",
       "    <tr>\n",
       "      <th>2</th>\n",
       "      <td>Afghan</td>\n",
       "      <td>0.002064</td>\n",
       "    </tr>\n",
       "  </tbody>\n",
       "</table>\n",
       "</div>"
      ],
      "text/plain": [
       "    Unnamed: 0         0\n",
       "0   Acai Bowls  0.000840\n",
       "1  Active Life  0.004093\n",
       "2       Afghan  0.002064"
      ]
     },
     "execution_count": 59,
     "metadata": {},
     "output_type": "execute_result"
    }
   ],
   "source": [
    "##Acai Bowls\n",
    "mod_cat = pd.read_csv('model_cat.csv')\n",
    "mod_cat.head(3)"
   ]
  },
  {
   "cell_type": "code",
   "execution_count": 67,
   "metadata": {},
   "outputs": [
    {
     "name": "stdout",
     "output_type": "stream",
     "text": [
      "<class 'pandas.core.frame.DataFrame'>\n",
      "RangeIndex: 8946 entries, 0 to 8945\n",
      "Data columns (total 8 columns):\n",
      "alias           8946 non-null object\n",
      "categories      8946 non-null object\n",
      "id              8946 non-null object\n",
      "price           8946 non-null int64\n",
      "rating          8946 non-null float64\n",
      "rev_API         8945 non-null object\n",
      "review_count    8946 non-null int64\n",
      "rest_isna       8946 non-null bool\n",
      "dtypes: bool(1), float64(1), int64(2), object(4)\n",
      "memory usage: 498.0+ KB\n"
     ]
    }
   ],
   "source": [
    "mod_fe = mod_cat.iloc[:,0].tolist()\n",
    "rest_cl2.info()"
   ]
  },
  {
   "cell_type": "code",
   "execution_count": 95,
   "metadata": {},
   "outputs": [
    {
     "data": {
      "text/html": [
       "<div>\n",
       "<style scoped>\n",
       "    .dataframe tbody tr th:only-of-type {\n",
       "        vertical-align: middle;\n",
       "    }\n",
       "\n",
       "    .dataframe tbody tr th {\n",
       "        vertical-align: top;\n",
       "    }\n",
       "\n",
       "    .dataframe thead th {\n",
       "        text-align: right;\n",
       "    }\n",
       "</style>\n",
       "<table border=\"1\" class=\"dataframe\">\n",
       "  <thead>\n",
       "    <tr style=\"text-align: right;\">\n",
       "      <th></th>\n",
       "      <th>alias</th>\n",
       "      <th>id</th>\n",
       "      <th>RestaurantsPriceRange2</th>\n",
       "      <th>stars</th>\n",
       "      <th>rev_API</th>\n",
       "      <th>review_count</th>\n",
       "      <th>rest_isna</th>\n",
       "      <th>Acai Bowls</th>\n",
       "      <th>Active Life</th>\n",
       "      <th>Afghan</th>\n",
       "      <th>...</th>\n",
       "      <th>Venues &amp; Event Spaces</th>\n",
       "      <th>Vietnamese</th>\n",
       "      <th>Waffles</th>\n",
       "      <th>Whiskey Bars</th>\n",
       "      <th>Wine &amp; Spirits</th>\n",
       "      <th>Wine Bars</th>\n",
       "      <th>Wineries</th>\n",
       "      <th>Wraps</th>\n",
       "      <th>num_of_categ</th>\n",
       "      <th>st_over_am</th>\n",
       "    </tr>\n",
       "  </thead>\n",
       "  <tbody>\n",
       "    <tr>\n",
       "      <th>0</th>\n",
       "      <td>maono-seattle</td>\n",
       "      <td>gDAO-4m63svPUpii5b8kww</td>\n",
       "      <td>2</td>\n",
       "      <td>4.0</td>\n",
       "      <td>1</td>\n",
       "      <td>788</td>\n",
       "      <td>False</td>\n",
       "      <td>False</td>\n",
       "      <td>False</td>\n",
       "      <td>False</td>\n",
       "      <td>...</td>\n",
       "      <td>False</td>\n",
       "      <td>False</td>\n",
       "      <td>False</td>\n",
       "      <td>False</td>\n",
       "      <td>False</td>\n",
       "      <td>False</td>\n",
       "      <td>False</td>\n",
       "      <td>False</td>\n",
       "      <td>2</td>\n",
       "      <td>0.016000</td>\n",
       "    </tr>\n",
       "    <tr>\n",
       "      <th>1</th>\n",
       "      <td>ohs-sandwiches-seattle-2</td>\n",
       "      <td>xzLAynrVb3No3ADUhMxlnQ</td>\n",
       "      <td>2</td>\n",
       "      <td>4.5</td>\n",
       "      <td>1</td>\n",
       "      <td>32</td>\n",
       "      <td>True</td>\n",
       "      <td>False</td>\n",
       "      <td>False</td>\n",
       "      <td>False</td>\n",
       "      <td>...</td>\n",
       "      <td>False</td>\n",
       "      <td>False</td>\n",
       "      <td>False</td>\n",
       "      <td>False</td>\n",
       "      <td>False</td>\n",
       "      <td>False</td>\n",
       "      <td>False</td>\n",
       "      <td>False</td>\n",
       "      <td>2</td>\n",
       "      <td>0.140621</td>\n",
       "    </tr>\n",
       "    <tr>\n",
       "      <th>2</th>\n",
       "      <td>marination-ma-kai-seattle</td>\n",
       "      <td>IsvlaFF0EPEhh3ahTuC4xg</td>\n",
       "      <td>2</td>\n",
       "      <td>4.0</td>\n",
       "      <td>1</td>\n",
       "      <td>897</td>\n",
       "      <td>False</td>\n",
       "      <td>False</td>\n",
       "      <td>False</td>\n",
       "      <td>False</td>\n",
       "      <td>...</td>\n",
       "      <td>False</td>\n",
       "      <td>False</td>\n",
       "      <td>False</td>\n",
       "      <td>False</td>\n",
       "      <td>False</td>\n",
       "      <td>False</td>\n",
       "      <td>False</td>\n",
       "      <td>False</td>\n",
       "      <td>3</td>\n",
       "      <td>0.016000</td>\n",
       "    </tr>\n",
       "    <tr>\n",
       "      <th>3</th>\n",
       "      <td>ittos-tapas-seattle-4</td>\n",
       "      <td>Dr9CxgdePozHGwU4beaYGQ</td>\n",
       "      <td>2</td>\n",
       "      <td>4.5</td>\n",
       "      <td>1</td>\n",
       "      <td>221</td>\n",
       "      <td>False</td>\n",
       "      <td>False</td>\n",
       "      <td>False</td>\n",
       "      <td>False</td>\n",
       "      <td>...</td>\n",
       "      <td>False</td>\n",
       "      <td>False</td>\n",
       "      <td>False</td>\n",
       "      <td>False</td>\n",
       "      <td>False</td>\n",
       "      <td>False</td>\n",
       "      <td>False</td>\n",
       "      <td>False</td>\n",
       "      <td>3</td>\n",
       "      <td>0.020362</td>\n",
       "    </tr>\n",
       "    <tr>\n",
       "      <th>4</th>\n",
       "      <td>pizzeria-credo-seattle</td>\n",
       "      <td>BeGo3TSuhF7fOv0dzp0s1g</td>\n",
       "      <td>2</td>\n",
       "      <td>4.5</td>\n",
       "      <td>1</td>\n",
       "      <td>405</td>\n",
       "      <td>False</td>\n",
       "      <td>False</td>\n",
       "      <td>False</td>\n",
       "      <td>False</td>\n",
       "      <td>...</td>\n",
       "      <td>False</td>\n",
       "      <td>False</td>\n",
       "      <td>False</td>\n",
       "      <td>False</td>\n",
       "      <td>False</td>\n",
       "      <td>False</td>\n",
       "      <td>False</td>\n",
       "      <td>False</td>\n",
       "      <td>2</td>\n",
       "      <td>0.018000</td>\n",
       "    </tr>\n",
       "  </tbody>\n",
       "</table>\n",
       "<p>5 rows × 217 columns</p>\n",
       "</div>"
      ],
      "text/plain": [
       "                       alias                      id  RestaurantsPriceRange2  \\\n",
       "0              maono-seattle  gDAO-4m63svPUpii5b8kww                       2   \n",
       "1   ohs-sandwiches-seattle-2  xzLAynrVb3No3ADUhMxlnQ                       2   \n",
       "2  marination-ma-kai-seattle  IsvlaFF0EPEhh3ahTuC4xg                       2   \n",
       "3      ittos-tapas-seattle-4  Dr9CxgdePozHGwU4beaYGQ                       2   \n",
       "4     pizzeria-credo-seattle  BeGo3TSuhF7fOv0dzp0s1g                       2   \n",
       "\n",
       "   stars rev_API  review_count  rest_isna  Acai Bowls  Active Life  Afghan  \\\n",
       "0    4.0       1           788      False       False        False   False   \n",
       "1    4.5       1            32       True       False        False   False   \n",
       "2    4.0       1           897      False       False        False   False   \n",
       "3    4.5       1           221      False       False        False   False   \n",
       "4    4.5       1           405      False       False        False   False   \n",
       "\n",
       "      ...      Venues & Event Spaces  Vietnamese  Waffles  Whiskey Bars  \\\n",
       "0     ...                      False       False    False         False   \n",
       "1     ...                      False       False    False         False   \n",
       "2     ...                      False       False    False         False   \n",
       "3     ...                      False       False    False         False   \n",
       "4     ...                      False       False    False         False   \n",
       "\n",
       "   Wine & Spirits  Wine Bars  Wineries  Wraps  num_of_categ  st_over_am  \n",
       "0           False      False     False  False             2    0.016000  \n",
       "1           False      False     False  False             2    0.140621  \n",
       "2           False      False     False  False             3    0.016000  \n",
       "3           False      False     False  False             3    0.020362  \n",
       "4           False      False     False  False             2    0.018000  \n",
       "\n",
       "[5 rows x 217 columns]"
      ]
     },
     "execution_count": 95,
     "metadata": {},
     "output_type": "execute_result"
    }
   ],
   "source": [
    "ct = CategoriesTransformScr(mod_fe)\n",
    "rn = RatingNormalizer(starCol = 'rating')\n",
    "rest_cx = rn.transform(ct.transform(rest_cl2))\n",
    "rest_cx.head()"
   ]
  },
  {
   "cell_type": "code",
   "execution_count": 96,
   "metadata": {},
   "outputs": [],
   "source": [
    "### i forgot to include review_count to model when train\n",
    "colPred1 = rest_cx.columns[2:4].union( rest_cx.columns[6:])"
   ]
  },
  {
   "cell_type": "code",
   "execution_count": 88,
   "metadata": {},
   "outputs": [],
   "source": [
    "with open('colPred213', 'rb') as f:\n",
    "    colPred = pickle.load(f)"
   ]
  },
  {
   "cell_type": "code",
   "execution_count": 97,
   "metadata": {},
   "outputs": [
    {
     "data": {
      "text/plain": [
       "Index([], dtype='object')"
      ]
     },
     "execution_count": 97,
     "metadata": {},
     "output_type": "execute_result"
    }
   ],
   "source": [
    "colPred[colPred != colPred1]"
   ]
  },
  {
   "cell_type": "code",
   "execution_count": 98,
   "metadata": {},
   "outputs": [
    {
     "data": {
      "text/plain": [
       "Index([], dtype='object')"
      ]
     },
     "execution_count": 98,
     "metadata": {},
     "output_type": "execute_result"
    }
   ],
   "source": [
    "colPred1[colPred != colPred1]"
   ]
  },
  {
   "cell_type": "code",
   "execution_count": 99,
   "metadata": {},
   "outputs": [
    {
     "data": {
      "text/plain": [
       "Index(['Acai Bowls', 'Active Life', 'Afghan', 'African', 'American (New)',\n",
       "       'American (Traditional)', 'Arabian', 'Arcades', 'Argentine',\n",
       "       'Art Galleries',\n",
       "       ...\n",
       "       'Waffles', 'Whiskey Bars', 'Wine & Spirits', 'Wine Bars', 'Wineries',\n",
       "       'Wraps', 'num_of_categ', 'rest_isna', 'st_over_am', 'stars'],\n",
       "      dtype='object', length=213)"
      ]
     },
     "execution_count": 99,
     "metadata": {},
     "output_type": "execute_result"
    }
   ],
   "source": [
    "colPred1"
   ]
  },
  {
   "cell_type": "code",
   "execution_count": 100,
   "metadata": {},
   "outputs": [],
   "source": [
    "X = rest_cx[colPred]"
   ]
  },
  {
   "cell_type": "code",
   "execution_count": null,
   "metadata": {},
   "outputs": [],
   "source": []
  },
  {
   "cell_type": "code",
   "execution_count": null,
   "metadata": {},
   "outputs": [],
   "source": []
  },
  {
   "cell_type": "code",
   "execution_count": null,
   "metadata": {},
   "outputs": [],
   "source": []
  },
  {
   "cell_type": "code",
   "execution_count": 79,
   "metadata": {},
   "outputs": [
    {
     "data": {
      "text/html": [
       "<div>\n",
       "<style scoped>\n",
       "    .dataframe tbody tr th:only-of-type {\n",
       "        vertical-align: middle;\n",
       "    }\n",
       "\n",
       "    .dataframe tbody tr th {\n",
       "        vertical-align: top;\n",
       "    }\n",
       "\n",
       "    .dataframe thead th {\n",
       "        text-align: right;\n",
       "    }\n",
       "</style>\n",
       "<table border=\"1\" class=\"dataframe\">\n",
       "  <thead>\n",
       "    <tr style=\"text-align: right;\">\n",
       "      <th></th>\n",
       "      <th>Acai Bowls</th>\n",
       "      <th>Active Life</th>\n",
       "      <th>Afghan</th>\n",
       "      <th>African</th>\n",
       "      <th>American (New)</th>\n",
       "      <th>American (Traditional)</th>\n",
       "      <th>Arabian</th>\n",
       "      <th>Arcades</th>\n",
       "      <th>Argentine</th>\n",
       "      <th>Art Galleries</th>\n",
       "      <th>...</th>\n",
       "      <th>Wine &amp; Spirits</th>\n",
       "      <th>Wine Bars</th>\n",
       "      <th>Wineries</th>\n",
       "      <th>Wraps</th>\n",
       "      <th>num_of_categ</th>\n",
       "      <th>price</th>\n",
       "      <th>rest_isna</th>\n",
       "      <th>review_count</th>\n",
       "      <th>st_over_am</th>\n",
       "      <th>stars</th>\n",
       "    </tr>\n",
       "  </thead>\n",
       "  <tbody>\n",
       "  </tbody>\n",
       "</table>\n",
       "<p>0 rows × 214 columns</p>\n",
       "</div>"
      ],
      "text/plain": [
       "Empty DataFrame\n",
       "Columns: [Acai Bowls, Active Life, Afghan, African, American (New), American (Traditional), Arabian, Arcades, Argentine, Art Galleries, Arts & Crafts, Arts & Entertainment, Asian Fusion, Automotive, Bagels, Bakeries, Barbeque, Bars, Beauty & Spas, Bed & Breakfast, Beer, Beer Bar, Beer Garden, Beer Gardens, Belgian, Bistros, Bowling, Brasseries, Brazilian, Breakfast & Brunch, Breweries, Brewpubs, British, Bubble Tea, Buffets, Burgers, Butcher, Cafes, Cafeteria, Cajun/Creole, Cambodian, Canadian (New), Cantonese, Caribbean, Casinos, Caterers, Cheese Shops, Cheesesteaks, Chicken Shop, Chicken Wings, Chinese, Chocolatiers & Shops, Cocktail Bars, Coffee & Tea, Coffee Roasteries, Colombian, Comfort Food, Convenience Stores, Creperies, Cuban, Cupcakes, Custom Cakes, Dance Clubs, Delicatessen, Delis, Desserts, Dim Sum, Diners, Dive Bars, Do-It-Yourself Food, Donairs, Donuts, Education, Ethiopian, Ethnic Food, Event Planning & Services, Falafel, Farmers Market, Fashion, Fast Food, Festivals, Filipino, Fish & Chips, Flowers & Gifts, Fondue, Food, Food Court, Food Delivery Services, Food Stands, Food Trucks, French, Fruits & Veggies, Gas Stations, Gastropubs, Gelato, German, Gluten-Free, Golf, Greek, Grocery, ...]\n",
       "Index: []\n",
       "\n",
       "[0 rows x 214 columns]"
      ]
     },
     "execution_count": 79,
     "metadata": {},
     "output_type": "execute_result"
    }
   ],
   "source": []
  },
  {
   "cell_type": "code",
   "execution_count": 101,
   "metadata": {},
   "outputs": [],
   "source": [
    "clt0 = clust_model_rf['cl_t0'].predict_proba(X)[:,1]"
   ]
  },
  {
   "cell_type": "code",
   "execution_count": 102,
   "metadata": {},
   "outputs": [
    {
     "data": {
      "text/plain": [
       "array([0.67499515, 0.2146956 , 0.71224975, ..., 0.21640103, 0.15179362,\n",
       "       0.42946443])"
      ]
     },
     "execution_count": 102,
     "metadata": {},
     "output_type": "execute_result"
    }
   ],
   "source": [
    "clt0"
   ]
  },
  {
   "cell_type": "code",
   "execution_count": 85,
   "metadata": {},
   "outputs": [],
   "source": [
    "r0 = clust_model_rf['cl_t0']"
   ]
  },
  {
   "cell_type": "markdown",
   "metadata": {},
   "source": [
    "## Restaurants Prediction\n",
    "make 2 dictionary, then 2 dataframe with cluster predictions"
   ]
  },
  {
   "cell_type": "code",
   "execution_count": 106,
   "metadata": {},
   "outputs": [
    {
     "name": "stdout",
     "output_type": "stream",
     "text": [
      "CPU times: user 13.3 s, sys: 1.17 s, total: 14.4 s\n",
      "Wall time: 9.24 s\n"
     ]
    }
   ],
   "source": [
    "%%time\n",
    "Y_rf = pd.DataFrame()\n",
    "Y_gr = pd.DataFrame()\n",
    "Y_rf['alias'] = rest_cx['alias']\n",
    "Y_gr['alias'] = rest_cx['alias']\n",
    "for col in colClust_n:\n",
    "    Y_rf[col] = clust_model_rf[col].predict_proba(X)[:,1]\n",
    "    Y_gr[col] = clust_model_gr[col].predict_proba(X)[:,1]\n"
   ]
  },
  {
   "cell_type": "code",
   "execution_count": 132,
   "metadata": {},
   "outputs": [
    {
     "data": {
      "text/html": [
       "<div>\n",
       "<style scoped>\n",
       "    .dataframe tbody tr th:only-of-type {\n",
       "        vertical-align: middle;\n",
       "    }\n",
       "\n",
       "    .dataframe tbody tr th {\n",
       "        vertical-align: top;\n",
       "    }\n",
       "\n",
       "    .dataframe thead th {\n",
       "        text-align: right;\n",
       "    }\n",
       "</style>\n",
       "<table border=\"1\" class=\"dataframe\">\n",
       "  <thead>\n",
       "    <tr style=\"text-align: right;\">\n",
       "      <th></th>\n",
       "      <th>alias</th>\n",
       "      <th>cl_t0</th>\n",
       "      <th>cl_t1</th>\n",
       "      <th>cl_t2</th>\n",
       "      <th>cl_t3</th>\n",
       "      <th>cl_t4</th>\n",
       "      <th>cl_t5</th>\n",
       "      <th>cl_t7</th>\n",
       "      <th>cl_t8</th>\n",
       "      <th>cl_t9</th>\n",
       "      <th>cl_t10</th>\n",
       "      <th>cl_t11</th>\n",
       "      <th>cl_t12</th>\n",
       "      <th>cl_t13</th>\n",
       "      <th>cl_t14</th>\n",
       "      <th>cl_t16</th>\n",
       "      <th>cl_t17</th>\n",
       "    </tr>\n",
       "  </thead>\n",
       "  <tbody>\n",
       "    <tr>\n",
       "      <th>0</th>\n",
       "      <td>maono-seattle</td>\n",
       "      <td>0.929968</td>\n",
       "      <td>0.992710</td>\n",
       "      <td>0.412188</td>\n",
       "      <td>0.016085</td>\n",
       "      <td>0.837059</td>\n",
       "      <td>0.919372</td>\n",
       "      <td>0.010737</td>\n",
       "      <td>0.035540</td>\n",
       "      <td>0.050482</td>\n",
       "      <td>0.009742</td>\n",
       "      <td>0.096255</td>\n",
       "      <td>2.309888e-03</td>\n",
       "      <td>0.074948</td>\n",
       "      <td>0.0</td>\n",
       "      <td>0.272277</td>\n",
       "      <td>0.037797</td>\n",
       "    </tr>\n",
       "    <tr>\n",
       "      <th>1</th>\n",
       "      <td>ohs-sandwiches-seattle-2</td>\n",
       "      <td>0.172442</td>\n",
       "      <td>0.302586</td>\n",
       "      <td>0.010211</td>\n",
       "      <td>0.004146</td>\n",
       "      <td>0.025425</td>\n",
       "      <td>0.049360</td>\n",
       "      <td>0.001897</td>\n",
       "      <td>0.002025</td>\n",
       "      <td>0.005802</td>\n",
       "      <td>0.000076</td>\n",
       "      <td>0.005502</td>\n",
       "      <td>1.293178e-09</td>\n",
       "      <td>0.001371</td>\n",
       "      <td>0.0</td>\n",
       "      <td>0.005165</td>\n",
       "      <td>0.000869</td>\n",
       "    </tr>\n",
       "    <tr>\n",
       "      <th>2</th>\n",
       "      <td>marination-ma-kai-seattle</td>\n",
       "      <td>0.953005</td>\n",
       "      <td>0.995034</td>\n",
       "      <td>0.428013</td>\n",
       "      <td>0.003022</td>\n",
       "      <td>0.780916</td>\n",
       "      <td>0.921224</td>\n",
       "      <td>0.004737</td>\n",
       "      <td>0.012592</td>\n",
       "      <td>0.024337</td>\n",
       "      <td>0.342402</td>\n",
       "      <td>0.059423</td>\n",
       "      <td>7.697930e-04</td>\n",
       "      <td>0.050621</td>\n",
       "      <td>0.0</td>\n",
       "      <td>0.290787</td>\n",
       "      <td>0.010165</td>\n",
       "    </tr>\n",
       "  </tbody>\n",
       "</table>\n",
       "</div>"
      ],
      "text/plain": [
       "                       alias     cl_t0     cl_t1     cl_t2     cl_t3  \\\n",
       "0              maono-seattle  0.929968  0.992710  0.412188  0.016085   \n",
       "1   ohs-sandwiches-seattle-2  0.172442  0.302586  0.010211  0.004146   \n",
       "2  marination-ma-kai-seattle  0.953005  0.995034  0.428013  0.003022   \n",
       "\n",
       "      cl_t4     cl_t5     cl_t7     cl_t8     cl_t9    cl_t10    cl_t11  \\\n",
       "0  0.837059  0.919372  0.010737  0.035540  0.050482  0.009742  0.096255   \n",
       "1  0.025425  0.049360  0.001897  0.002025  0.005802  0.000076  0.005502   \n",
       "2  0.780916  0.921224  0.004737  0.012592  0.024337  0.342402  0.059423   \n",
       "\n",
       "         cl_t12    cl_t13  cl_t14    cl_t16    cl_t17  \n",
       "0  2.309888e-03  0.074948     0.0  0.272277  0.037797  \n",
       "1  1.293178e-09  0.001371     0.0  0.005165  0.000869  \n",
       "2  7.697930e-04  0.050621     0.0  0.290787  0.010165  "
      ]
     },
     "execution_count": 132,
     "metadata": {},
     "output_type": "execute_result"
    }
   ],
   "source": [
    "Y_gr.head(3)"
   ]
  },
  {
   "cell_type": "code",
   "execution_count": 138,
   "metadata": {},
   "outputs": [],
   "source": [
    "Y_gr['rating'] = rest_cx.stars\n",
    "Y_rf['rating'] = rest_cx.stars\n"
   ]
  },
  {
   "cell_type": "code",
   "execution_count": 108,
   "metadata": {},
   "outputs": [
    {
     "data": {
      "text/html": [
       "<div>\n",
       "<style scoped>\n",
       "    .dataframe tbody tr th:only-of-type {\n",
       "        vertical-align: middle;\n",
       "    }\n",
       "\n",
       "    .dataframe tbody tr th {\n",
       "        vertical-align: top;\n",
       "    }\n",
       "\n",
       "    .dataframe thead th {\n",
       "        text-align: right;\n",
       "    }\n",
       "</style>\n",
       "<table border=\"1\" class=\"dataframe\">\n",
       "  <thead>\n",
       "    <tr style=\"text-align: right;\">\n",
       "      <th></th>\n",
       "      <th>Unnamed: 0</th>\n",
       "      <th>user_id</th>\n",
       "      <th>user_cl</th>\n",
       "    </tr>\n",
       "  </thead>\n",
       "  <tbody>\n",
       "    <tr>\n",
       "      <th>0</th>\n",
       "      <td>0</td>\n",
       "      <td>MVb93PtUPbSsVFa-3prvcg</td>\n",
       "      <td>2</td>\n",
       "    </tr>\n",
       "    <tr>\n",
       "      <th>1</th>\n",
       "      <td>1</td>\n",
       "      <td>6XwhYkbgsPZNQLLvTWIc3Q</td>\n",
       "      <td>2</td>\n",
       "    </tr>\n",
       "    <tr>\n",
       "      <th>2</th>\n",
       "      <td>2</td>\n",
       "      <td>Re5H1w9VR-YqlKL-ydOlOg</td>\n",
       "      <td>0</td>\n",
       "    </tr>\n",
       "    <tr>\n",
       "      <th>3</th>\n",
       "      <td>3</td>\n",
       "      <td>havBggvuzfE6IPfkT-njbg</td>\n",
       "      <td>1</td>\n",
       "    </tr>\n",
       "    <tr>\n",
       "      <th>4</th>\n",
       "      <td>4</td>\n",
       "      <td>_efP61KpqeC9K4TX0aqwyw</td>\n",
       "      <td>2</td>\n",
       "    </tr>\n",
       "  </tbody>\n",
       "</table>\n",
       "</div>"
      ],
      "text/plain": [
       "   Unnamed: 0                 user_id  user_cl\n",
       "0           0  MVb93PtUPbSsVFa-3prvcg        2\n",
       "1           1  6XwhYkbgsPZNQLLvTWIc3Q        2\n",
       "2           2  Re5H1w9VR-YqlKL-ydOlOg        0\n",
       "3           3  havBggvuzfE6IPfkT-njbg        1\n",
       "4           4  _efP61KpqeC9K4TX0aqwyw        2"
      ]
     },
     "execution_count": 108,
     "metadata": {},
     "output_type": "execute_result"
    }
   ],
   "source": [
    "user_cl.head()"
   ]
  },
  {
   "cell_type": "code",
   "execution_count": 115,
   "metadata": {},
   "outputs": [
    {
     "data": {
      "text/plain": [
       "((385, 3), Index(['Unnamed: 0', 'user_id', 'user_cl'], dtype='object'))"
      ]
     },
     "execution_count": 115,
     "metadata": {},
     "output_type": "execute_result"
    }
   ],
   "source": [
    "user_cl.shape, user_cl.columns\n"
   ]
  },
  {
   "cell_type": "code",
   "execution_count": null,
   "metadata": {},
   "outputs": [],
   "source": [
    "for col in colClust_n:\n",
    "    i = int(col[4:])\n",
    "    u_col = 'u'+col\n",
    "    user_cl[u_col] = (user_cl['user_cl']==i)\n",
    " "
   ]
  },
  {
   "cell_type": "code",
   "execution_count": 124,
   "metadata": {},
   "outputs": [
    {
     "data": {
      "text/html": [
       "<div>\n",
       "<style scoped>\n",
       "    .dataframe tbody tr th:only-of-type {\n",
       "        vertical-align: middle;\n",
       "    }\n",
       "\n",
       "    .dataframe tbody tr th {\n",
       "        vertical-align: top;\n",
       "    }\n",
       "\n",
       "    .dataframe thead th {\n",
       "        text-align: right;\n",
       "    }\n",
       "</style>\n",
       "<table border=\"1\" class=\"dataframe\">\n",
       "  <thead>\n",
       "    <tr style=\"text-align: right;\">\n",
       "      <th></th>\n",
       "      <th>Unnamed: 0</th>\n",
       "      <th>user_id</th>\n",
       "      <th>user_cl</th>\n",
       "      <th>ucl_t0</th>\n",
       "      <th>ucl_t1</th>\n",
       "      <th>ucl_t2</th>\n",
       "      <th>ucl_t3</th>\n",
       "      <th>ucl_t4</th>\n",
       "      <th>ucl_t5</th>\n",
       "      <th>ucl_t7</th>\n",
       "      <th>ucl_t8</th>\n",
       "      <th>ucl_t9</th>\n",
       "      <th>ucl_t10</th>\n",
       "      <th>ucl_t11</th>\n",
       "      <th>ucl_t12</th>\n",
       "      <th>ucl_t13</th>\n",
       "      <th>ucl_t14</th>\n",
       "      <th>ucl_t16</th>\n",
       "      <th>ucl_t17</th>\n",
       "    </tr>\n",
       "  </thead>\n",
       "  <tbody>\n",
       "    <tr>\n",
       "      <th>0</th>\n",
       "      <td>0</td>\n",
       "      <td>MVb93PtUPbSsVFa-3prvcg</td>\n",
       "      <td>2</td>\n",
       "      <td>False</td>\n",
       "      <td>False</td>\n",
       "      <td>True</td>\n",
       "      <td>False</td>\n",
       "      <td>False</td>\n",
       "      <td>False</td>\n",
       "      <td>False</td>\n",
       "      <td>False</td>\n",
       "      <td>False</td>\n",
       "      <td>False</td>\n",
       "      <td>False</td>\n",
       "      <td>False</td>\n",
       "      <td>False</td>\n",
       "      <td>False</td>\n",
       "      <td>False</td>\n",
       "      <td>False</td>\n",
       "    </tr>\n",
       "    <tr>\n",
       "      <th>1</th>\n",
       "      <td>1</td>\n",
       "      <td>6XwhYkbgsPZNQLLvTWIc3Q</td>\n",
       "      <td>2</td>\n",
       "      <td>False</td>\n",
       "      <td>False</td>\n",
       "      <td>True</td>\n",
       "      <td>False</td>\n",
       "      <td>False</td>\n",
       "      <td>False</td>\n",
       "      <td>False</td>\n",
       "      <td>False</td>\n",
       "      <td>False</td>\n",
       "      <td>False</td>\n",
       "      <td>False</td>\n",
       "      <td>False</td>\n",
       "      <td>False</td>\n",
       "      <td>False</td>\n",
       "      <td>False</td>\n",
       "      <td>False</td>\n",
       "    </tr>\n",
       "    <tr>\n",
       "      <th>2</th>\n",
       "      <td>2</td>\n",
       "      <td>Re5H1w9VR-YqlKL-ydOlOg</td>\n",
       "      <td>0</td>\n",
       "      <td>True</td>\n",
       "      <td>False</td>\n",
       "      <td>False</td>\n",
       "      <td>False</td>\n",
       "      <td>False</td>\n",
       "      <td>False</td>\n",
       "      <td>False</td>\n",
       "      <td>False</td>\n",
       "      <td>False</td>\n",
       "      <td>False</td>\n",
       "      <td>False</td>\n",
       "      <td>False</td>\n",
       "      <td>False</td>\n",
       "      <td>False</td>\n",
       "      <td>False</td>\n",
       "      <td>False</td>\n",
       "    </tr>\n",
       "    <tr>\n",
       "      <th>3</th>\n",
       "      <td>3</td>\n",
       "      <td>havBggvuzfE6IPfkT-njbg</td>\n",
       "      <td>1</td>\n",
       "      <td>False</td>\n",
       "      <td>True</td>\n",
       "      <td>False</td>\n",
       "      <td>False</td>\n",
       "      <td>False</td>\n",
       "      <td>False</td>\n",
       "      <td>False</td>\n",
       "      <td>False</td>\n",
       "      <td>False</td>\n",
       "      <td>False</td>\n",
       "      <td>False</td>\n",
       "      <td>False</td>\n",
       "      <td>False</td>\n",
       "      <td>False</td>\n",
       "      <td>False</td>\n",
       "      <td>False</td>\n",
       "    </tr>\n",
       "    <tr>\n",
       "      <th>4</th>\n",
       "      <td>4</td>\n",
       "      <td>_efP61KpqeC9K4TX0aqwyw</td>\n",
       "      <td>2</td>\n",
       "      <td>False</td>\n",
       "      <td>False</td>\n",
       "      <td>True</td>\n",
       "      <td>False</td>\n",
       "      <td>False</td>\n",
       "      <td>False</td>\n",
       "      <td>False</td>\n",
       "      <td>False</td>\n",
       "      <td>False</td>\n",
       "      <td>False</td>\n",
       "      <td>False</td>\n",
       "      <td>False</td>\n",
       "      <td>False</td>\n",
       "      <td>False</td>\n",
       "      <td>False</td>\n",
       "      <td>False</td>\n",
       "    </tr>\n",
       "  </tbody>\n",
       "</table>\n",
       "</div>"
      ],
      "text/plain": [
       "   Unnamed: 0                 user_id  user_cl  ucl_t0  ucl_t1  ucl_t2  \\\n",
       "0           0  MVb93PtUPbSsVFa-3prvcg        2   False   False    True   \n",
       "1           1  6XwhYkbgsPZNQLLvTWIc3Q        2   False   False    True   \n",
       "2           2  Re5H1w9VR-YqlKL-ydOlOg        0    True   False   False   \n",
       "3           3  havBggvuzfE6IPfkT-njbg        1   False    True   False   \n",
       "4           4  _efP61KpqeC9K4TX0aqwyw        2   False   False    True   \n",
       "\n",
       "   ucl_t3  ucl_t4  ucl_t5  ucl_t7  ucl_t8  ucl_t9  ucl_t10  ucl_t11  ucl_t12  \\\n",
       "0   False   False   False   False   False   False    False    False    False   \n",
       "1   False   False   False   False   False   False    False    False    False   \n",
       "2   False   False   False   False   False   False    False    False    False   \n",
       "3   False   False   False   False   False   False    False    False    False   \n",
       "4   False   False   False   False   False   False    False    False    False   \n",
       "\n",
       "   ucl_t13  ucl_t14  ucl_t16  ucl_t17  \n",
       "0    False    False    False    False  \n",
       "1    False    False    False    False  \n",
       "2    False    False    False    False  \n",
       "3    False    False    False    False  \n",
       "4    False    False    False    False  "
      ]
     },
     "execution_count": 124,
     "metadata": {},
     "output_type": "execute_result"
    }
   ],
   "source": [
    "user_cl.head()"
   ]
  },
  {
   "cell_type": "code",
   "execution_count": 123,
   "metadata": {},
   "outputs": [
    {
     "data": {
      "text/html": [
       "<div>\n",
       "<style scoped>\n",
       "    .dataframe tbody tr th:only-of-type {\n",
       "        vertical-align: middle;\n",
       "    }\n",
       "\n",
       "    .dataframe tbody tr th {\n",
       "        vertical-align: top;\n",
       "    }\n",
       "\n",
       "    .dataframe thead th {\n",
       "        text-align: right;\n",
       "    }\n",
       "</style>\n",
       "<table border=\"1\" class=\"dataframe\">\n",
       "  <thead>\n",
       "    <tr style=\"text-align: right;\">\n",
       "      <th></th>\n",
       "      <th>ucl_t0</th>\n",
       "      <th>ucl_t1</th>\n",
       "      <th>ucl_t2</th>\n",
       "      <th>ucl_t3</th>\n",
       "      <th>ucl_t4</th>\n",
       "      <th>ucl_t5</th>\n",
       "      <th>ucl_t7</th>\n",
       "      <th>ucl_t8</th>\n",
       "      <th>ucl_t9</th>\n",
       "      <th>ucl_t10</th>\n",
       "      <th>ucl_t11</th>\n",
       "      <th>ucl_t12</th>\n",
       "      <th>ucl_t13</th>\n",
       "      <th>ucl_t14</th>\n",
       "      <th>ucl_t16</th>\n",
       "      <th>ucl_t17</th>\n",
       "    </tr>\n",
       "    <tr>\n",
       "      <th>user_id</th>\n",
       "      <th></th>\n",
       "      <th></th>\n",
       "      <th></th>\n",
       "      <th></th>\n",
       "      <th></th>\n",
       "      <th></th>\n",
       "      <th></th>\n",
       "      <th></th>\n",
       "      <th></th>\n",
       "      <th></th>\n",
       "      <th></th>\n",
       "      <th></th>\n",
       "      <th></th>\n",
       "      <th></th>\n",
       "      <th></th>\n",
       "      <th></th>\n",
       "    </tr>\n",
       "  </thead>\n",
       "  <tbody>\n",
       "    <tr>\n",
       "      <th>-KlnVOvjklQn5OpTbxFGzA</th>\n",
       "      <td>False</td>\n",
       "      <td>True</td>\n",
       "      <td>False</td>\n",
       "      <td>False</td>\n",
       "      <td>False</td>\n",
       "      <td>False</td>\n",
       "      <td>False</td>\n",
       "      <td>False</td>\n",
       "      <td>False</td>\n",
       "      <td>False</td>\n",
       "      <td>False</td>\n",
       "      <td>False</td>\n",
       "      <td>False</td>\n",
       "      <td>False</td>\n",
       "      <td>False</td>\n",
       "      <td>False</td>\n",
       "    </tr>\n",
       "    <tr>\n",
       "      <th>-Yb1srF4RYtpn-6Yp8ojRg</th>\n",
       "      <td>True</td>\n",
       "      <td>True</td>\n",
       "      <td>True</td>\n",
       "      <td>False</td>\n",
       "      <td>True</td>\n",
       "      <td>False</td>\n",
       "      <td>True</td>\n",
       "      <td>False</td>\n",
       "      <td>True</td>\n",
       "      <td>False</td>\n",
       "      <td>True</td>\n",
       "      <td>False</td>\n",
       "      <td>False</td>\n",
       "      <td>False</td>\n",
       "      <td>False</td>\n",
       "      <td>False</td>\n",
       "    </tr>\n",
       "    <tr>\n",
       "      <th>1SVDSLiWxbWmBjenfDQkbA</th>\n",
       "      <td>False</td>\n",
       "      <td>True</td>\n",
       "      <td>False</td>\n",
       "      <td>False</td>\n",
       "      <td>True</td>\n",
       "      <td>True</td>\n",
       "      <td>False</td>\n",
       "      <td>False</td>\n",
       "      <td>False</td>\n",
       "      <td>False</td>\n",
       "      <td>False</td>\n",
       "      <td>False</td>\n",
       "      <td>False</td>\n",
       "      <td>False</td>\n",
       "      <td>False</td>\n",
       "      <td>False</td>\n",
       "    </tr>\n",
       "    <tr>\n",
       "      <th>1Vq3xObhRXBU8gnPIN9jsQ</th>\n",
       "      <td>True</td>\n",
       "      <td>False</td>\n",
       "      <td>False</td>\n",
       "      <td>False</td>\n",
       "      <td>False</td>\n",
       "      <td>False</td>\n",
       "      <td>False</td>\n",
       "      <td>False</td>\n",
       "      <td>False</td>\n",
       "      <td>False</td>\n",
       "      <td>False</td>\n",
       "      <td>False</td>\n",
       "      <td>False</td>\n",
       "      <td>False</td>\n",
       "      <td>False</td>\n",
       "      <td>False</td>\n",
       "    </tr>\n",
       "    <tr>\n",
       "      <th>2wdhN8Y2EJRswvkduFxnOQ</th>\n",
       "      <td>True</td>\n",
       "      <td>True</td>\n",
       "      <td>True</td>\n",
       "      <td>False</td>\n",
       "      <td>False</td>\n",
       "      <td>False</td>\n",
       "      <td>False</td>\n",
       "      <td>False</td>\n",
       "      <td>True</td>\n",
       "      <td>False</td>\n",
       "      <td>False</td>\n",
       "      <td>False</td>\n",
       "      <td>False</td>\n",
       "      <td>False</td>\n",
       "      <td>False</td>\n",
       "      <td>True</td>\n",
       "    </tr>\n",
       "  </tbody>\n",
       "</table>\n",
       "</div>"
      ],
      "text/plain": [
       "                        ucl_t0  ucl_t1  ucl_t2  ucl_t3  ucl_t4  ucl_t5  \\\n",
       "user_id                                                                  \n",
       "-KlnVOvjklQn5OpTbxFGzA   False    True   False   False   False   False   \n",
       "-Yb1srF4RYtpn-6Yp8ojRg    True    True    True   False    True   False   \n",
       "1SVDSLiWxbWmBjenfDQkbA   False    True   False   False    True    True   \n",
       "1Vq3xObhRXBU8gnPIN9jsQ    True   False   False   False   False   False   \n",
       "2wdhN8Y2EJRswvkduFxnOQ    True    True    True   False   False   False   \n",
       "\n",
       "                        ucl_t7  ucl_t8  ucl_t9  ucl_t10  ucl_t11  ucl_t12  \\\n",
       "user_id                                                                     \n",
       "-KlnVOvjklQn5OpTbxFGzA   False   False   False    False    False    False   \n",
       "-Yb1srF4RYtpn-6Yp8ojRg    True   False    True    False     True    False   \n",
       "1SVDSLiWxbWmBjenfDQkbA   False   False   False    False    False    False   \n",
       "1Vq3xObhRXBU8gnPIN9jsQ   False   False   False    False    False    False   \n",
       "2wdhN8Y2EJRswvkduFxnOQ   False   False    True    False    False    False   \n",
       "\n",
       "                        ucl_t13  ucl_t14  ucl_t16  ucl_t17  \n",
       "user_id                                                     \n",
       "-KlnVOvjklQn5OpTbxFGzA    False    False    False    False  \n",
       "-Yb1srF4RYtpn-6Yp8ojRg    False    False    False    False  \n",
       "1SVDSLiWxbWmBjenfDQkbA    False    False    False    False  \n",
       "1Vq3xObhRXBU8gnPIN9jsQ    False    False    False    False  \n",
       "2wdhN8Y2EJRswvkduFxnOQ    False    False    False     True  "
      ]
     },
     "execution_count": 123,
     "metadata": {},
     "output_type": "execute_result"
    }
   ],
   "source": [
    "   \n",
    "user_cl_n = user_cl.drop(columns=['Unnamed: 0','user_cl'])\n",
    "user_cl_n = user_cl_n.groupby('user_id').sum()\n",
    "user_cl_n.head()"
   ]
  },
  {
   "cell_type": "code",
   "execution_count": 127,
   "metadata": {},
   "outputs": [
    {
     "data": {
      "text/plain": [
       "(99, 16)"
      ]
     },
     "execution_count": 127,
     "metadata": {},
     "output_type": "execute_result"
    }
   ],
   "source": [
    "user_cl_n.shape"
   ]
  },
  {
   "cell_type": "code",
   "execution_count": null,
   "metadata": {},
   "outputs": [],
   "source": []
  },
  {
   "cell_type": "code",
   "execution_count": null,
   "metadata": {},
   "outputs": [],
   "source": []
  },
  {
   "cell_type": "code",
   "execution_count": 112,
   "metadata": {},
   "outputs": [
    {
     "data": {
      "text/html": [
       "<div>\n",
       "<style scoped>\n",
       "    .dataframe tbody tr th:only-of-type {\n",
       "        vertical-align: middle;\n",
       "    }\n",
       "\n",
       "    .dataframe tbody tr th {\n",
       "        vertical-align: top;\n",
       "    }\n",
       "\n",
       "    .dataframe thead th {\n",
       "        text-align: right;\n",
       "    }\n",
       "</style>\n",
       "<table border=\"1\" class=\"dataframe\">\n",
       "  <thead>\n",
       "    <tr style=\"text-align: right;\">\n",
       "      <th></th>\n",
       "      <th>alias</th>\n",
       "      <th>id</th>\n",
       "      <th>rating</th>\n",
       "      <th>user_id</th>\n",
       "    </tr>\n",
       "  </thead>\n",
       "  <tbody>\n",
       "    <tr>\n",
       "      <th>0</th>\n",
       "      <td>srivilai-thai-cuisine-seattle</td>\n",
       "      <td>ErsYo_9v8--feFCy92tymQ</td>\n",
       "      <td>5.0</td>\n",
       "      <td>_3KTfz0hcPl_yq4jOyOPiA</td>\n",
       "    </tr>\n",
       "    <tr>\n",
       "      <th>1</th>\n",
       "      <td>ohs-sandwiches-seattle-2</td>\n",
       "      <td>W1NnSItt-SwWHrzkRtZ44g</td>\n",
       "      <td>5.0</td>\n",
       "      <td>_3KTfz0hcPl_yq4jOyOPiA</td>\n",
       "    </tr>\n",
       "    <tr>\n",
       "      <th>2</th>\n",
       "      <td>saison-san-francisco-2</td>\n",
       "      <td>3Q5uzROHYl1i2B_t2sIl7w</td>\n",
       "      <td>3.0</td>\n",
       "      <td>_3KTfz0hcPl_yq4jOyOPiA</td>\n",
       "    </tr>\n",
       "    <tr>\n",
       "      <th>3</th>\n",
       "      <td>international-smoke-san-francisco-2</td>\n",
       "      <td>-GYe-Aq7NcNJ3u-U6fmwMg</td>\n",
       "      <td>5.0</td>\n",
       "      <td>_3KTfz0hcPl_yq4jOyOPiA</td>\n",
       "    </tr>\n",
       "    <tr>\n",
       "      <th>4</th>\n",
       "      <td>supercuts-san-francisco</td>\n",
       "      <td>pPlsW81ntC2qbF0QOe6pLQ</td>\n",
       "      <td>5.0</td>\n",
       "      <td>_3KTfz0hcPl_yq4jOyOPiA</td>\n",
       "    </tr>\n",
       "  </tbody>\n",
       "</table>\n",
       "</div>"
      ],
      "text/plain": [
       "                                 alias                      id rating  \\\n",
       "0        srivilai-thai-cuisine-seattle  ErsYo_9v8--feFCy92tymQ    5.0   \n",
       "1             ohs-sandwiches-seattle-2  W1NnSItt-SwWHrzkRtZ44g    5.0   \n",
       "2               saison-san-francisco-2  3Q5uzROHYl1i2B_t2sIl7w    3.0   \n",
       "3  international-smoke-san-francisco-2  -GYe-Aq7NcNJ3u-U6fmwMg    5.0   \n",
       "4              supercuts-san-francisco  pPlsW81ntC2qbF0QOe6pLQ    5.0   \n",
       "\n",
       "                  user_id  \n",
       "0  _3KTfz0hcPl_yq4jOyOPiA  \n",
       "1  _3KTfz0hcPl_yq4jOyOPiA  \n",
       "2  _3KTfz0hcPl_yq4jOyOPiA  \n",
       "3  _3KTfz0hcPl_yq4jOyOPiA  \n",
       "4  _3KTfz0hcPl_yq4jOyOPiA  "
      ]
     },
     "execution_count": 112,
     "metadata": {},
     "output_type": "execute_result"
    }
   ],
   "source": [
    "revs_df.head()"
   ]
  },
  {
   "cell_type": "code",
   "execution_count": 129,
   "metadata": {},
   "outputs": [],
   "source": [
    "rev_user = revs_df.join(user_cl_n, on = 'user_id', how = 'right')"
   ]
  },
  {
   "cell_type": "code",
   "execution_count": 131,
   "metadata": {},
   "outputs": [
    {
     "data": {
      "text/plain": [
       "(12563, 20)"
      ]
     },
     "execution_count": 131,
     "metadata": {},
     "output_type": "execute_result"
    }
   ],
   "source": [
    "rev_user.shape"
   ]
  },
  {
   "cell_type": "code",
   "execution_count": 139,
   "metadata": {},
   "outputs": [],
   "source": [
    "rev_user_biz_gr = rev_user.merge(Y_gr, on = 'alias')"
   ]
  },
  {
   "cell_type": "code",
   "execution_count": 140,
   "metadata": {},
   "outputs": [],
   "source": [
    "rev_user_biz_rf = rev_user.merge(Y_rf, on = 'alias')"
   ]
  },
  {
   "cell_type": "code",
   "execution_count": 141,
   "metadata": {},
   "outputs": [
    {
     "data": {
      "text/html": [
       "<div>\n",
       "<style scoped>\n",
       "    .dataframe tbody tr th:only-of-type {\n",
       "        vertical-align: middle;\n",
       "    }\n",
       "\n",
       "    .dataframe tbody tr th {\n",
       "        vertical-align: top;\n",
       "    }\n",
       "\n",
       "    .dataframe thead th {\n",
       "        text-align: right;\n",
       "    }\n",
       "</style>\n",
       "<table border=\"1\" class=\"dataframe\">\n",
       "  <thead>\n",
       "    <tr style=\"text-align: right;\">\n",
       "      <th></th>\n",
       "      <th>alias</th>\n",
       "      <th>id</th>\n",
       "      <th>rating_x</th>\n",
       "      <th>user_id</th>\n",
       "      <th>ucl_t0</th>\n",
       "      <th>ucl_t1</th>\n",
       "      <th>ucl_t2</th>\n",
       "      <th>ucl_t3</th>\n",
       "      <th>ucl_t4</th>\n",
       "      <th>ucl_t5</th>\n",
       "      <th>...</th>\n",
       "      <th>cl_t8</th>\n",
       "      <th>cl_t9</th>\n",
       "      <th>cl_t10</th>\n",
       "      <th>cl_t11</th>\n",
       "      <th>cl_t12</th>\n",
       "      <th>cl_t13</th>\n",
       "      <th>cl_t14</th>\n",
       "      <th>cl_t16</th>\n",
       "      <th>cl_t17</th>\n",
       "      <th>rating_y</th>\n",
       "    </tr>\n",
       "  </thead>\n",
       "  <tbody>\n",
       "    <tr>\n",
       "      <th>0</th>\n",
       "      <td>srivilai-thai-cuisine-seattle</td>\n",
       "      <td>ErsYo_9v8--feFCy92tymQ</td>\n",
       "      <td>5.0</td>\n",
       "      <td>_3KTfz0hcPl_yq4jOyOPiA</td>\n",
       "      <td>True</td>\n",
       "      <td>True</td>\n",
       "      <td>False</td>\n",
       "      <td>False</td>\n",
       "      <td>False</td>\n",
       "      <td>False</td>\n",
       "      <td>...</td>\n",
       "      <td>0.002361</td>\n",
       "      <td>0.006865</td>\n",
       "      <td>0.000325</td>\n",
       "      <td>0.011974</td>\n",
       "      <td>0.000438</td>\n",
       "      <td>0.003589</td>\n",
       "      <td>0.0</td>\n",
       "      <td>0.030197</td>\n",
       "      <td>0.003987</td>\n",
       "      <td>4.5</td>\n",
       "    </tr>\n",
       "    <tr>\n",
       "      <th>1</th>\n",
       "      <td>srivilai-thai-cuisine-seattle</td>\n",
       "      <td>_oJOAI1Agf5uSbQrT6gS0A</td>\n",
       "      <td>5.0</td>\n",
       "      <td>iJjKL0KxMZJCb8MmAsERvA</td>\n",
       "      <td>True</td>\n",
       "      <td>True</td>\n",
       "      <td>False</td>\n",
       "      <td>False</td>\n",
       "      <td>False</td>\n",
       "      <td>False</td>\n",
       "      <td>...</td>\n",
       "      <td>0.002361</td>\n",
       "      <td>0.006865</td>\n",
       "      <td>0.000325</td>\n",
       "      <td>0.011974</td>\n",
       "      <td>0.000438</td>\n",
       "      <td>0.003589</td>\n",
       "      <td>0.0</td>\n",
       "      <td>0.030197</td>\n",
       "      <td>0.003987</td>\n",
       "      <td>4.5</td>\n",
       "    </tr>\n",
       "    <tr>\n",
       "      <th>2</th>\n",
       "      <td>srivilai-thai-cuisine-seattle</td>\n",
       "      <td>OaaR9v40Id6czlxw6vicTg</td>\n",
       "      <td>4.0</td>\n",
       "      <td>3DLg6FHxYaueFO-47can0w</td>\n",
       "      <td>True</td>\n",
       "      <td>True</td>\n",
       "      <td>False</td>\n",
       "      <td>False</td>\n",
       "      <td>False</td>\n",
       "      <td>False</td>\n",
       "      <td>...</td>\n",
       "      <td>0.002361</td>\n",
       "      <td>0.006865</td>\n",
       "      <td>0.000325</td>\n",
       "      <td>0.011974</td>\n",
       "      <td>0.000438</td>\n",
       "      <td>0.003589</td>\n",
       "      <td>0.0</td>\n",
       "      <td>0.030197</td>\n",
       "      <td>0.003987</td>\n",
       "      <td>4.5</td>\n",
       "    </tr>\n",
       "  </tbody>\n",
       "</table>\n",
       "<p>3 rows × 37 columns</p>\n",
       "</div>"
      ],
      "text/plain": [
       "                           alias                      id rating_x  \\\n",
       "0  srivilai-thai-cuisine-seattle  ErsYo_9v8--feFCy92tymQ      5.0   \n",
       "1  srivilai-thai-cuisine-seattle  _oJOAI1Agf5uSbQrT6gS0A      5.0   \n",
       "2  srivilai-thai-cuisine-seattle  OaaR9v40Id6czlxw6vicTg      4.0   \n",
       "\n",
       "                  user_id  ucl_t0  ucl_t1  ucl_t2  ucl_t3  ucl_t4  ucl_t5  \\\n",
       "0  _3KTfz0hcPl_yq4jOyOPiA    True    True   False   False   False   False   \n",
       "1  iJjKL0KxMZJCb8MmAsERvA    True    True   False   False   False   False   \n",
       "2  3DLg6FHxYaueFO-47can0w    True    True   False   False   False   False   \n",
       "\n",
       "     ...        cl_t8     cl_t9    cl_t10    cl_t11    cl_t12    cl_t13  \\\n",
       "0    ...     0.002361  0.006865  0.000325  0.011974  0.000438  0.003589   \n",
       "1    ...     0.002361  0.006865  0.000325  0.011974  0.000438  0.003589   \n",
       "2    ...     0.002361  0.006865  0.000325  0.011974  0.000438  0.003589   \n",
       "\n",
       "   cl_t14    cl_t16    cl_t17  rating_y  \n",
       "0     0.0  0.030197  0.003987       4.5  \n",
       "1     0.0  0.030197  0.003987       4.5  \n",
       "2     0.0  0.030197  0.003987       4.5  \n",
       "\n",
       "[3 rows x 37 columns]"
      ]
     },
     "execution_count": 141,
     "metadata": {},
     "output_type": "execute_result"
    }
   ],
   "source": [
    "rev_user_biz_gr.head(3)"
   ]
  },
  {
   "cell_type": "code",
   "execution_count": 143,
   "metadata": {},
   "outputs": [],
   "source": [
    "with open('thres_72_gr', 'rb') as f:\n",
    "    th_gr72 = pickle.load(f)\n",
    "with open('thres_72_rf','rb') as f:\n",
    "    th_rf72 = pickle.load(f )"
   ]
  },
  {
   "cell_type": "code",
   "execution_count": 192,
   "metadata": {},
   "outputs": [],
   "source": [
    "with open('thres_30_gr', 'rb') as f:\n",
    "    th_gr30 = pickle.load(f)\n",
    "with open('thres_30_rf','rb') as f:\n",
    "    th_rf30 = pickle.load(f )"
   ]
  },
  {
   "cell_type": "code",
   "execution_count": 193,
   "metadata": {},
   "outputs": [],
   "source": [
    "def predict_rating(row, colClust_n, thres):\n",
    "    r = False\n",
    "    for col in colClust_n:\n",
    "        u_col = 'u'+col\n",
    "        if row[u_col] and row[col] >= thres[col]:\n",
    "            r = True\n",
    "    return r"
   ]
  },
  {
   "cell_type": "code",
   "execution_count": 194,
   "metadata": {},
   "outputs": [],
   "source": [
    "pred_gr = rev_user_biz_gr.apply(predict_rating, axis=1, args = (colClust_n, th_gr30))"
   ]
  },
  {
   "cell_type": "code",
   "execution_count": 195,
   "metadata": {},
   "outputs": [],
   "source": [
    "pred_rf = rev_user_biz_rf.apply(predict_rating, axis=1, args = (colClust_n, th_rf30))"
   ]
  },
  {
   "cell_type": "code",
   "execution_count": 154,
   "metadata": {},
   "outputs": [],
   "source": [
    "act = (rev_user_biz_gr['rating_x'].astype(float) <3)"
   ]
  },
  {
   "cell_type": "code",
   "execution_count": 188,
   "metadata": {},
   "outputs": [],
   "source": [
    "base35 = (rev_user_biz_gr['rating_y'].astype(float) <3.5)\n",
    "base4 = (rev_user_biz_gr['rating_y'].astype(float) <4)"
   ]
  },
  {
   "cell_type": "code",
   "execution_count": 190,
   "metadata": {},
   "outputs": [
    {
     "data": {
      "text/plain": [
       "(0.570230607966457, 0.6651034482758621, 0.21233411397345825)"
      ]
     },
     "execution_count": 190,
     "metadata": {},
     "output_type": "execute_result"
    }
   ],
   "source": [
    "recall_score(act, base4), accuracy_score(act, base4), precision_score(act, base4)"
   ]
  },
  {
   "cell_type": "code",
   "execution_count": 196,
   "metadata": {},
   "outputs": [
    {
     "data": {
      "text/plain": [
       "(0.21174004192872117, 0.8805031446540881, 0.7840670859538784)"
      ]
     },
     "execution_count": 196,
     "metadata": {},
     "output_type": "execute_result"
    }
   ],
   "source": [
    "recall_score(act, base35), recall_score(act, pred_gr), recall_score(act, pred_rf)"
   ]
  },
  {
   "cell_type": "code",
   "execution_count": 197,
   "metadata": {},
   "outputs": [
    {
     "data": {
      "text/plain": [
       "(0.8226206896551724, 0.31613793103448273, 0.43310344827586206)"
      ]
     },
     "execution_count": 197,
     "metadata": {},
     "output_type": "execute_result"
    }
   ],
   "source": [
    "accuracy_score(act, base35), accuracy_score(act, pred_gr), accuracy_score(act, pred_rf)"
   ]
  },
  {
   "cell_type": "code",
   "execution_count": 198,
   "metadata": {},
   "outputs": [
    {
     "data": {
      "text/plain": [
       "(0.27445652173913043, 0.1477832512315271, 0.16079105760963028)"
      ]
     },
     "execution_count": 198,
     "metadata": {},
     "output_type": "execute_result"
    }
   ],
   "source": [
    "precision_score(act, base35), precision_score(act, pred_gr), precision_score(act, pred_rf)"
   ]
  },
  {
   "cell_type": "code",
   "execution_count": 199,
   "metadata": {},
   "outputs": [
    {
     "data": {
      "text/plain": [
       "(0.13158620689655173, 0.10151724137931034, 0.784, 0.6416551724137931)"
      ]
     },
     "execution_count": 199,
     "metadata": {},
     "output_type": "execute_result"
    }
   ],
   "source": [
    "act.mean(), base35.mean(), pred_gr.mean(), pred_rf.mean()"
   ]
  },
  {
   "cell_type": "code",
   "execution_count": null,
   "metadata": {},
   "outputs": [],
   "source": []
  }
 ],
 "metadata": {
  "kernelspec": {
   "display_name": "Python 3",
   "language": "python",
   "name": "python3"
  },
  "language_info": {
   "codemirror_mode": {
    "name": "ipython",
    "version": 3
   },
   "file_extension": ".py",
   "mimetype": "text/x-python",
   "name": "python",
   "nbconvert_exporter": "python",
   "pygments_lexer": "ipython3",
   "version": "3.6.5"
  }
 },
 "nbformat": 4,
 "nbformat_minor": 2
}
