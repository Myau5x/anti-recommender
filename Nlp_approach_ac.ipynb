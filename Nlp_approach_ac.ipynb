{
 "cells": [
  {
   "cell_type": "code",
   "execution_count": 1,
   "metadata": {},
   "outputs": [],
   "source": [
    "import numpy as np\n",
    "import string\n",
    "import re\n",
    "\n",
    "from nltk.tokenize import word_tokenize\n",
    "from nltk.corpus import stopwords\n",
    "from nltk.stem.porter import PorterStemmer\n",
    "\n",
    "from pyspark.ml.clustering import KMeans\n",
    "from pyspark.ml.feature import CountVectorizer, IDF\n",
    "from pyspark.sql.functions import udf\n",
    "\n",
    "from pyspark.sql import Row\n",
    "\n",
    "PUNCTUATION = set(string.punctuation)\n",
    "STOPWORDS = set(stopwords.words('english'))"
   ]
  },
  {
   "cell_type": "code",
   "execution_count": 116,
   "metadata": {},
   "outputs": [],
   "source": [
    "from nlp_cl_start import print_cl"
   ]
  },
  {
   "cell_type": "code",
   "execution_count": 99,
   "metadata": {},
   "outputs": [],
   "source": [
    "api_f = ['attributes.RestaurantsPriceRange2', 'business_id', 'stars', 'review_count', 'categories']"
   ]
  },
  {
   "cell_type": "code",
   "execution_count": 15,
   "metadata": {},
   "outputs": [],
   "source": [
    "from pyspark.sql.types import ArrayType, StringType, BooleanType"
   ]
  },
  {
   "cell_type": "code",
   "execution_count": 70,
   "metadata": {},
   "outputs": [],
   "source": [
    "from pyspark.ml.evaluation import ClusteringEvaluator"
   ]
  },
  {
   "cell_type": "code",
   "execution_count": 16,
   "metadata": {},
   "outputs": [],
   "source": [
    "def if_restaurant(text):\n",
    "    if text is None:\n",
    "        return False\n",
    "    else:\n",
    "        return 'Restaurants' in text\n",
    "\n",
    "if_rest_udf = udf(if_restaurant, BooleanType())"
   ]
  },
  {
   "cell_type": "code",
   "execution_count": 3,
   "metadata": {},
   "outputs": [],
   "source": [
    "import pyspark as ps\n",
    "spark = (ps.sql.SparkSession.builder\n",
    "        .master(\"local[4]\")\n",
    "        .appName(\"yelp_academic\")\n",
    "        .getOrCreate()\n",
    "        )\n",
    "sc = spark.sparkContext"
   ]
  },
  {
   "cell_type": "code",
   "execution_count": 4,
   "metadata": {},
   "outputs": [],
   "source": [
    "import pandas as pd"
   ]
  },
  {
   "cell_type": "code",
   "execution_count": 12,
   "metadata": {},
   "outputs": [],
   "source": [
    "biz = spark.read.json('yelp_dataset/yelp_academic_dataset_business.json')"
   ]
  },
  {
   "cell_type": "code",
   "execution_count": 5,
   "metadata": {},
   "outputs": [],
   "source": [
    "rev = spark.read.json('yelp_dataset/yelp_academic_dataset_review.json')"
   ]
  },
  {
   "cell_type": "code",
   "execution_count": 6,
   "metadata": {},
   "outputs": [
    {
     "data": {
      "text/plain": [
       "Row(business_id='iCQpiavjjPzJ5_3gPD5Ebg', cool=0, date='2011-02-25', funny=0, review_id='x7mDIiDB3jEiPGPHOmDzyw', stars=2, text=\"The pizza was okay. Not the best I've had. I prefer Biaggio's on Flamingo / Fort Apache. The chef there can make a MUCH better NY style pizza. The pizzeria @ Cosmo was over priced for the quality and lack of personality in the food. Biaggio's is a much better pick if youre going for italian - family owned, home made recipes, people that actually CARE if you like their food. You dont get that at a pizzeria in a casino. I dont care what you say...\", useful=0, user_id='msQe1u7Z_XuqjGoqhB0J5g')"
      ]
     },
     "execution_count": 6,
     "metadata": {},
     "output_type": "execute_result"
    }
   ],
   "source": [
    "bad = rev.filter()"
   ]
  },
  {
   "cell_type": "code",
   "execution_count": 8,
   "metadata": {},
   "outputs": [],
   "source": [
    "bad = rev.filter('stars <= 3')"
   ]
  },
  {
   "cell_type": "code",
   "execution_count": 9,
   "metadata": {},
   "outputs": [
    {
     "data": {
      "text/plain": [
       "[Row(business_id='iCQpiavjjPzJ5_3gPD5Ebg', cool=0, date='2011-02-25', funny=0, review_id='x7mDIiDB3jEiPGPHOmDzyw', stars=2, text=\"The pizza was okay. Not the best I've had. I prefer Biaggio's on Flamingo / Fort Apache. The chef there can make a MUCH better NY style pizza. The pizzeria @ Cosmo was over priced for the quality and lack of personality in the food. Biaggio's is a much better pick if youre going for italian - family owned, home made recipes, people that actually CARE if you like their food. You dont get that at a pizzeria in a casino. I dont care what you say...\", useful=0, user_id='msQe1u7Z_XuqjGoqhB0J5g'),\n",
       " Row(business_id='jtQARsP6P-LbkyjbO1qNGg', cool=1, date='2014-10-23', funny=1, review_id='LZp4UX5zK3e-c5ZGSeo3kA', stars=1, text='Terrible. Dry corn bread. Rib tips were all fat and mushy and had no flavor. If you want bbq in this neighborhood go to john mulls roadkill grill. Trust me.', useful=3, user_id='msQe1u7Z_XuqjGoqhB0J5g')]"
      ]
     },
     "execution_count": 9,
     "metadata": {},
     "output_type": "execute_result"
    }
   ],
   "source": [
    "bad.take(2)"
   ]
  },
  {
   "cell_type": "code",
   "execution_count": 10,
   "metadata": {},
   "outputs": [
    {
     "data": {
      "text/plain": [
       "2019159"
      ]
     },
     "execution_count": 10,
     "metadata": {},
     "output_type": "execute_result"
    }
   ],
   "source": [
    "bad.count()"
   ]
  },
  {
   "cell_type": "code",
   "execution_count": 11,
   "metadata": {},
   "outputs": [
    {
     "data": {
      "text/plain": [
       "DataFrame[business_id: string, cool: bigint, date: string, funny: bigint, review_id: string, stars: bigint, text: string, useful: bigint, user_id: string]"
      ]
     },
     "execution_count": 11,
     "metadata": {},
     "output_type": "execute_result"
    }
   ],
   "source": [
    "bad.cache()"
   ]
  },
  {
   "cell_type": "code",
   "execution_count": 17,
   "metadata": {},
   "outputs": [],
   "source": [
    "rests = biz.filter(if_rest_udf(biz.categories))"
   ]
  },
  {
   "cell_type": "code",
   "execution_count": 18,
   "metadata": {},
   "outputs": [],
   "source": [
    "rests.join?"
   ]
  },
  {
   "cell_type": "code",
   "execution_count": 19,
   "metadata": {},
   "outputs": [],
   "source": [
    "bad_rest_rev = bad.join(rests.select('business_id'),'business_id')"
   ]
  },
  {
   "cell_type": "code",
   "execution_count": 21,
   "metadata": {},
   "outputs": [
    {
     "data": {
      "text/plain": [
       "1265432"
      ]
     },
     "execution_count": 21,
     "metadata": {},
     "output_type": "execute_result"
    }
   ],
   "source": [
    "bad_rest_rev.count()"
   ]
  },
  {
   "cell_type": "code",
   "execution_count": 23,
   "metadata": {},
   "outputs": [
    {
     "data": {
      "text/plain": [
       "DataFrame[business_id: string, cool: bigint, date: string, funny: bigint, review_id: string, stars: bigint, text: string, useful: bigint, user_id: string]"
      ]
     },
     "execution_count": 23,
     "metadata": {},
     "output_type": "execute_result"
    }
   ],
   "source": [
    "bad_rest_rev.cache()"
   ]
  },
  {
   "cell_type": "code",
   "execution_count": 25,
   "metadata": {},
   "outputs": [],
   "source": [
    "bad_sample = bad_rest_rev.select('business_id','review_id', 'stars', 'text').sample(False, 0.001, seed =91)"
   ]
  },
  {
   "cell_type": "code",
   "execution_count": 26,
   "metadata": {},
   "outputs": [
    {
     "name": "stdout",
     "output_type": "stream",
     "text": [
      "CPU times: user 1.96 ms, sys: 1.87 ms, total: 3.83 ms\n",
      "Wall time: 17.2 s\n"
     ]
    },
    {
     "data": {
      "text/plain": [
       "1219"
      ]
     },
     "execution_count": 26,
     "metadata": {},
     "output_type": "execute_result"
    }
   ],
   "source": [
    "%%time\n",
    "bad_sample.count()"
   ]
  },
  {
   "cell_type": "code",
   "execution_count": 27,
   "metadata": {},
   "outputs": [],
   "source": [
    "def tokenize(text):\n",
    "    regex = re.compile('<.+?>|[^a-zA-Z]')\n",
    "    clean_txt = regex.sub(' ', text)\n",
    "    tokens = clean_txt.split()\n",
    "    lowercased = [t.lower() for t in tokens]\n",
    "\n",
    "    no_punctuation = []\n",
    "    for word in lowercased:\n",
    "        punct_removed = ''.join([letter for letter in word if not letter in PUNCTUATION])\n",
    "        no_punctuation.append(punct_removed)\n",
    "    no_stopwords = [w for w in no_punctuation if not w in STOPWORDS]\n",
    "\n",
    "    STEMMER = PorterStemmer()\n",
    "    stemmed = [STEMMER.stem(w) for w in no_stopwords]\n",
    "    return [w for w in stemmed if w]"
   ]
  },
  {
   "cell_type": "code",
   "execution_count": 29,
   "metadata": {},
   "outputs": [],
   "source": [
    "udf_tokenize = udf(f=tokenize, returnType=ArrayType(StringType()))"
   ]
  },
  {
   "cell_type": "code",
   "execution_count": 31,
   "metadata": {},
   "outputs": [],
   "source": [
    "bad_sample = bad_sample.withColumn('token', udf_tokenize('text'))"
   ]
  },
  {
   "cell_type": "code",
   "execution_count": 33,
   "metadata": {},
   "outputs": [],
   "source": [
    "cv = CountVectorizer(minDF=10, vocabSize=5000, inputCol='token', outputCol='vectors')"
   ]
  },
  {
   "cell_type": "code",
   "execution_count": 35,
   "metadata": {},
   "outputs": [],
   "source": [
    "model = cv.fit(bad_sample)"
   ]
  },
  {
   "cell_type": "code",
   "execution_count": 36,
   "metadata": {},
   "outputs": [
    {
     "name": "stdout",
     "output_type": "stream",
     "text": [
      "CPU times: user 2.56 ms, sys: 1.54 ms, total: 4.1 ms\n",
      "Wall time: 124 ms\n"
     ]
    }
   ],
   "source": [
    "%%time\n",
    "sample_vect = model.transform(bad_sample)"
   ]
  },
  {
   "cell_type": "code",
   "execution_count": 38,
   "metadata": {},
   "outputs": [
    {
     "name": "stdout",
     "output_type": "stream",
     "text": [
      "CPU times: user 9.88 ms, sys: 4.2 ms, total: 14.1 ms\n",
      "Wall time: 1.28 s\n"
     ]
    },
    {
     "data": {
      "text/html": [
       "<div>\n",
       "<style scoped>\n",
       "    .dataframe tbody tr th:only-of-type {\n",
       "        vertical-align: middle;\n",
       "    }\n",
       "\n",
       "    .dataframe tbody tr th {\n",
       "        vertical-align: top;\n",
       "    }\n",
       "\n",
       "    .dataframe thead th {\n",
       "        text-align: right;\n",
       "    }\n",
       "</style>\n",
       "<table border=\"1\" class=\"dataframe\">\n",
       "  <thead>\n",
       "    <tr style=\"text-align: right;\">\n",
       "      <th></th>\n",
       "      <th>business_id</th>\n",
       "      <th>review_id</th>\n",
       "      <th>stars</th>\n",
       "      <th>text</th>\n",
       "      <th>token</th>\n",
       "      <th>vectors</th>\n",
       "    </tr>\n",
       "  </thead>\n",
       "  <tbody>\n",
       "    <tr>\n",
       "      <th>0</th>\n",
       "      <td>rPk01P-gHFZnBtRyfc7Wrg</td>\n",
       "      <td>GD0hHJCuCSkvPHCowIs5Tw</td>\n",
       "      <td>1</td>\n",
       "      <td>The food is not good. Enchilada sauce taste ve...</td>\n",
       "      <td>[food, good, enchilada, sauc, tast, bland, str...</td>\n",
       "      <td>(1.0, 0.0, 0.0, 1.0, 0.0, 0.0, 0.0, 0.0, 1.0, ...</td>\n",
       "    </tr>\n",
       "    <tr>\n",
       "      <th>1</th>\n",
       "      <td>aLcFhMe6DDJ430zelCpd2A</td>\n",
       "      <td>qp5HMCDxnXEmBudkZtskDg</td>\n",
       "      <td>2</td>\n",
       "      <td>Here is the best advice I can provide if you'r...</td>\n",
       "      <td>[best, advic, provid, think, head, khao, san, ...</td>\n",
       "      <td>(6.0, 4.0, 2.0, 2.0, 1.0, 0.0, 0.0, 1.0, 4.0, ...</td>\n",
       "    </tr>\n",
       "    <tr>\n",
       "      <th>2</th>\n",
       "      <td>FRIIEcW64yA_bW6sCBqBIA</td>\n",
       "      <td>XJs8cfkHZqFC88fKcEriww</td>\n",
       "      <td>3</td>\n",
       "      <td>Went for dinner with couple of friends. The re...</td>\n",
       "      <td>[went, dinner, coupl, friend, restaur, dim, li...</td>\n",
       "      <td>(0.0, 0.0, 1.0, 0.0, 0.0, 0.0, 0.0, 0.0, 0.0, ...</td>\n",
       "    </tr>\n",
       "  </tbody>\n",
       "</table>\n",
       "</div>"
      ],
      "text/plain": [
       "              business_id               review_id  stars  \\\n",
       "0  rPk01P-gHFZnBtRyfc7Wrg  GD0hHJCuCSkvPHCowIs5Tw      1   \n",
       "1  aLcFhMe6DDJ430zelCpd2A  qp5HMCDxnXEmBudkZtskDg      2   \n",
       "2  FRIIEcW64yA_bW6sCBqBIA  XJs8cfkHZqFC88fKcEriww      3   \n",
       "\n",
       "                                                text  \\\n",
       "0  The food is not good. Enchilada sauce taste ve...   \n",
       "1  Here is the best advice I can provide if you'r...   \n",
       "2  Went for dinner with couple of friends. The re...   \n",
       "\n",
       "                                               token  \\\n",
       "0  [food, good, enchilada, sauc, tast, bland, str...   \n",
       "1  [best, advic, provid, think, head, khao, san, ...   \n",
       "2  [went, dinner, coupl, friend, restaur, dim, li...   \n",
       "\n",
       "                                             vectors  \n",
       "0  (1.0, 0.0, 0.0, 1.0, 0.0, 0.0, 0.0, 0.0, 1.0, ...  \n",
       "1  (6.0, 4.0, 2.0, 2.0, 1.0, 0.0, 0.0, 1.0, 4.0, ...  \n",
       "2  (0.0, 0.0, 1.0, 0.0, 0.0, 0.0, 0.0, 0.0, 0.0, ...  "
      ]
     },
     "execution_count": 38,
     "metadata": {},
     "output_type": "execute_result"
    }
   ],
   "source": [
    "%%time\n",
    "sample_vect.limit(3).toPandas()"
   ]
  },
  {
   "cell_type": "code",
   "execution_count": 39,
   "metadata": {},
   "outputs": [
    {
     "name": "stdout",
     "output_type": "stream",
     "text": [
      "CPU times: user 9.96 ms, sys: 4.02 ms, total: 14 ms\n",
      "Wall time: 4.81 s\n"
     ]
    }
   ],
   "source": [
    "%%time\n",
    "idf = IDF(inputCol= 'vectors', outputCol= 'features')\n",
    "\n",
    "model2 = idf.fit(sample_vect)\n",
    "\n",
    "sample_tfidf = model2.transform(sample_vect)\n",
    "\n",
    "sample_tfidf.cache()"
   ]
  },
  {
   "cell_type": "code",
   "execution_count": 66,
   "metadata": {},
   "outputs": [
    {
     "data": {
      "text/plain": [
       "Row(business_id='rPk01P-gHFZnBtRyfc7Wrg', review_id='GD0hHJCuCSkvPHCowIs5Tw', stars=1, text=\"The food is not good. Enchilada sauce taste very bland and strange. Kids meal are bad and it's all over priced. It's an open kitchen too. I don't see how they pass health inspections . Won't go back.\", token=['food', 'good', 'enchilada', 'sauc', 'tast', 'bland', 'strang', 'kid', 'meal', 'bad', 'price', 'open', 'kitchen', 'see', 'pass', 'health', 'inspect', 'go', 'back'], vectors=SparseVector(1128, {0: 1.0, 3: 1.0, 8: 1.0, 11: 1.0, 26: 1.0, 36: 1.0, 50: 1.0, 57: 1.0, 63: 1.0, 109: 1.0, 154: 1.0, 191: 1.0, 251: 1.0, 291: 1.0, 514: 1.0, 1055: 1.0}), features=SparseVector(1128, {0: 0.6098, 3: 0.8801, 8: 1.1456, 11: 1.3166, 26: 1.7221, 36: 1.8439, 50: 2.1368, 57: 2.0314, 63: 2.1794, 109: 2.4061, 154: 2.6407, 191: 2.7628, 251: 3.1748, 291: 3.1554, 514: 3.6726, 1055: 4.7087}))"
      ]
     },
     "execution_count": 66,
     "metadata": {},
     "output_type": "execute_result"
    }
   ],
   "source": [
    "sample_tfidf.first()"
   ]
  },
  {
   "cell_type": "code",
   "execution_count": 96,
   "metadata": {},
   "outputs": [],
   "source": [
    "###number of cluster!! make sence to send so class\n",
    "cl_num = 20\n"
   ]
  },
  {
   "cell_type": "code",
   "execution_count": 97,
   "metadata": {},
   "outputs": [
    {
     "name": "stdout",
     "output_type": "stream",
     "text": [
      "CPU times: user 65.4 ms, sys: 21.1 ms, total: 86.6 ms\n",
      "Wall time: 1.54 s\n"
     ]
    }
   ],
   "source": [
    "%%time\n",
    "km = KMeans(k = cl_num)\n",
    "\n",
    "model_km = km.fit(sample_tfidf)\n",
    "\n",
    "centers = model_km.clusterCenters()"
   ]
  },
  {
   "cell_type": "code",
   "execution_count": null,
   "metadata": {},
   "outputs": [],
   "source": [
    "vocab = np.array(model.vocabulary)\n",
    "vocab[np.argsort(centers )[:2,-10:]]"
   ]
  },
  {
   "cell_type": "code",
   "execution_count": null,
   "metadata": {},
   "outputs": [],
   "source": [
    "sample_tfidf.columns"
   ]
  },
  {
   "cell_type": "code",
   "execution_count": 92,
   "metadata": {},
   "outputs": [
    {
     "data": {
      "text/plain": [
       "['business_id',\n",
       " 'review_id',\n",
       " 'stars',\n",
       " 'text',\n",
       " 'token',\n",
       " 'vectors',\n",
       " 'features',\n",
       " 'prediction']"
      ]
     },
     "execution_count": 92,
     "metadata": {},
     "output_type": "execute_result"
    }
   ],
   "source": [
    "pred = model_km.transform(sample_tfidf)\n",
    "pred.columns"
   ]
  },
  {
   "cell_type": "code",
   "execution_count": 88,
   "metadata": {},
   "outputs": [],
   "source": [
    "ClusteringEvaluator?"
   ]
  },
  {
   "cell_type": "code",
   "execution_count": 94,
   "metadata": {},
   "outputs": [
    {
     "name": "stdout",
     "output_type": "stream",
     "text": [
      "Silhouette with squared euclidean distance = -0.36086075681766144\n"
     ]
    }
   ],
   "source": [
    "evaluator = ClusteringEvaluator()\n",
    "\n",
    "silhouette = evaluator.evaluate(pred)\n",
    "print(\"Silhouette with squared euclidean distance = \" + str(silhouette))\n"
   ]
  },
  {
   "cell_type": "code",
   "execution_count": 100,
   "metadata": {},
   "outputs": [],
   "source": [
    "rest_with_cl_train =pred.join(biz.select(api_f ), 'business_id')"
   ]
  },
  {
   "cell_type": "code",
   "execution_count": 101,
   "metadata": {},
   "outputs": [
    {
     "data": {
      "text/plain": [
       "1219"
      ]
     },
     "execution_count": 101,
     "metadata": {},
     "output_type": "execute_result"
    }
   ],
   "source": [
    "rest_with_cl_train.count()"
   ]
  },
  {
   "cell_type": "code",
   "execution_count": 102,
   "metadata": {},
   "outputs": [],
   "source": [
    "clust_df = rest_with_cl_train.toPandas()"
   ]
  },
  {
   "cell_type": "code",
   "execution_count": 105,
   "metadata": {},
   "outputs": [
    {
     "data": {
      "text/html": [
       "<div>\n",
       "<style scoped>\n",
       "    .dataframe tbody tr th:only-of-type {\n",
       "        vertical-align: middle;\n",
       "    }\n",
       "\n",
       "    .dataframe tbody tr th {\n",
       "        vertical-align: top;\n",
       "    }\n",
       "\n",
       "    .dataframe thead th {\n",
       "        text-align: right;\n",
       "    }\n",
       "</style>\n",
       "<table border=\"1\" class=\"dataframe\">\n",
       "  <thead>\n",
       "    <tr style=\"text-align: right;\">\n",
       "      <th></th>\n",
       "      <th>business_id</th>\n",
       "      <th>review_id</th>\n",
       "      <th>stars</th>\n",
       "      <th>text</th>\n",
       "      <th>token</th>\n",
       "      <th>vectors</th>\n",
       "      <th>features</th>\n",
       "      <th>RestaurantsPriceRange2</th>\n",
       "      <th>stars</th>\n",
       "      <th>review_count</th>\n",
       "      <th>categories</th>\n",
       "    </tr>\n",
       "    <tr>\n",
       "      <th>prediction</th>\n",
       "      <th></th>\n",
       "      <th></th>\n",
       "      <th></th>\n",
       "      <th></th>\n",
       "      <th></th>\n",
       "      <th></th>\n",
       "      <th></th>\n",
       "      <th></th>\n",
       "      <th></th>\n",
       "      <th></th>\n",
       "      <th></th>\n",
       "    </tr>\n",
       "  </thead>\n",
       "  <tbody>\n",
       "    <tr>\n",
       "      <th>0</th>\n",
       "      <td>5</td>\n",
       "      <td>5</td>\n",
       "      <td>5</td>\n",
       "      <td>5</td>\n",
       "      <td>5</td>\n",
       "      <td>5</td>\n",
       "      <td>5</td>\n",
       "      <td>5</td>\n",
       "      <td>5</td>\n",
       "      <td>5</td>\n",
       "      <td>5</td>\n",
       "    </tr>\n",
       "    <tr>\n",
       "      <th>1</th>\n",
       "      <td>3</td>\n",
       "      <td>3</td>\n",
       "      <td>3</td>\n",
       "      <td>3</td>\n",
       "      <td>3</td>\n",
       "      <td>3</td>\n",
       "      <td>3</td>\n",
       "      <td>3</td>\n",
       "      <td>3</td>\n",
       "      <td>3</td>\n",
       "      <td>3</td>\n",
       "    </tr>\n",
       "    <tr>\n",
       "      <th>2</th>\n",
       "      <td>1</td>\n",
       "      <td>1</td>\n",
       "      <td>1</td>\n",
       "      <td>1</td>\n",
       "      <td>1</td>\n",
       "      <td>1</td>\n",
       "      <td>1</td>\n",
       "      <td>1</td>\n",
       "      <td>1</td>\n",
       "      <td>1</td>\n",
       "      <td>1</td>\n",
       "    </tr>\n",
       "    <tr>\n",
       "      <th>3</th>\n",
       "      <td>1</td>\n",
       "      <td>1</td>\n",
       "      <td>1</td>\n",
       "      <td>1</td>\n",
       "      <td>1</td>\n",
       "      <td>1</td>\n",
       "      <td>1</td>\n",
       "      <td>1</td>\n",
       "      <td>1</td>\n",
       "      <td>1</td>\n",
       "      <td>1</td>\n",
       "    </tr>\n",
       "    <tr>\n",
       "      <th>4</th>\n",
       "      <td>1</td>\n",
       "      <td>1</td>\n",
       "      <td>1</td>\n",
       "      <td>1</td>\n",
       "      <td>1</td>\n",
       "      <td>1</td>\n",
       "      <td>1</td>\n",
       "      <td>1</td>\n",
       "      <td>1</td>\n",
       "      <td>1</td>\n",
       "      <td>1</td>\n",
       "    </tr>\n",
       "    <tr>\n",
       "      <th>5</th>\n",
       "      <td>1168</td>\n",
       "      <td>1168</td>\n",
       "      <td>1168</td>\n",
       "      <td>1168</td>\n",
       "      <td>1168</td>\n",
       "      <td>1168</td>\n",
       "      <td>1168</td>\n",
       "      <td>1154</td>\n",
       "      <td>1168</td>\n",
       "      <td>1168</td>\n",
       "      <td>1168</td>\n",
       "    </tr>\n",
       "    <tr>\n",
       "      <th>6</th>\n",
       "      <td>1</td>\n",
       "      <td>1</td>\n",
       "      <td>1</td>\n",
       "      <td>1</td>\n",
       "      <td>1</td>\n",
       "      <td>1</td>\n",
       "      <td>1</td>\n",
       "      <td>1</td>\n",
       "      <td>1</td>\n",
       "      <td>1</td>\n",
       "      <td>1</td>\n",
       "    </tr>\n",
       "    <tr>\n",
       "      <th>7</th>\n",
       "      <td>1</td>\n",
       "      <td>1</td>\n",
       "      <td>1</td>\n",
       "      <td>1</td>\n",
       "      <td>1</td>\n",
       "      <td>1</td>\n",
       "      <td>1</td>\n",
       "      <td>1</td>\n",
       "      <td>1</td>\n",
       "      <td>1</td>\n",
       "      <td>1</td>\n",
       "    </tr>\n",
       "    <tr>\n",
       "      <th>8</th>\n",
       "      <td>4</td>\n",
       "      <td>4</td>\n",
       "      <td>4</td>\n",
       "      <td>4</td>\n",
       "      <td>4</td>\n",
       "      <td>4</td>\n",
       "      <td>4</td>\n",
       "      <td>4</td>\n",
       "      <td>4</td>\n",
       "      <td>4</td>\n",
       "      <td>4</td>\n",
       "    </tr>\n",
       "    <tr>\n",
       "      <th>9</th>\n",
       "      <td>1</td>\n",
       "      <td>1</td>\n",
       "      <td>1</td>\n",
       "      <td>1</td>\n",
       "      <td>1</td>\n",
       "      <td>1</td>\n",
       "      <td>1</td>\n",
       "      <td>1</td>\n",
       "      <td>1</td>\n",
       "      <td>1</td>\n",
       "      <td>1</td>\n",
       "    </tr>\n",
       "    <tr>\n",
       "      <th>10</th>\n",
       "      <td>1</td>\n",
       "      <td>1</td>\n",
       "      <td>1</td>\n",
       "      <td>1</td>\n",
       "      <td>1</td>\n",
       "      <td>1</td>\n",
       "      <td>1</td>\n",
       "      <td>1</td>\n",
       "      <td>1</td>\n",
       "      <td>1</td>\n",
       "      <td>1</td>\n",
       "    </tr>\n",
       "    <tr>\n",
       "      <th>11</th>\n",
       "      <td>1</td>\n",
       "      <td>1</td>\n",
       "      <td>1</td>\n",
       "      <td>1</td>\n",
       "      <td>1</td>\n",
       "      <td>1</td>\n",
       "      <td>1</td>\n",
       "      <td>1</td>\n",
       "      <td>1</td>\n",
       "      <td>1</td>\n",
       "      <td>1</td>\n",
       "    </tr>\n",
       "    <tr>\n",
       "      <th>12</th>\n",
       "      <td>21</td>\n",
       "      <td>21</td>\n",
       "      <td>21</td>\n",
       "      <td>21</td>\n",
       "      <td>21</td>\n",
       "      <td>21</td>\n",
       "      <td>21</td>\n",
       "      <td>19</td>\n",
       "      <td>21</td>\n",
       "      <td>21</td>\n",
       "      <td>21</td>\n",
       "    </tr>\n",
       "    <tr>\n",
       "      <th>13</th>\n",
       "      <td>1</td>\n",
       "      <td>1</td>\n",
       "      <td>1</td>\n",
       "      <td>1</td>\n",
       "      <td>1</td>\n",
       "      <td>1</td>\n",
       "      <td>1</td>\n",
       "      <td>1</td>\n",
       "      <td>1</td>\n",
       "      <td>1</td>\n",
       "      <td>1</td>\n",
       "    </tr>\n",
       "    <tr>\n",
       "      <th>14</th>\n",
       "      <td>1</td>\n",
       "      <td>1</td>\n",
       "      <td>1</td>\n",
       "      <td>1</td>\n",
       "      <td>1</td>\n",
       "      <td>1</td>\n",
       "      <td>1</td>\n",
       "      <td>1</td>\n",
       "      <td>1</td>\n",
       "      <td>1</td>\n",
       "      <td>1</td>\n",
       "    </tr>\n",
       "    <tr>\n",
       "      <th>15</th>\n",
       "      <td>1</td>\n",
       "      <td>1</td>\n",
       "      <td>1</td>\n",
       "      <td>1</td>\n",
       "      <td>1</td>\n",
       "      <td>1</td>\n",
       "      <td>1</td>\n",
       "      <td>1</td>\n",
       "      <td>1</td>\n",
       "      <td>1</td>\n",
       "      <td>1</td>\n",
       "    </tr>\n",
       "    <tr>\n",
       "      <th>16</th>\n",
       "      <td>4</td>\n",
       "      <td>4</td>\n",
       "      <td>4</td>\n",
       "      <td>4</td>\n",
       "      <td>4</td>\n",
       "      <td>4</td>\n",
       "      <td>4</td>\n",
       "      <td>4</td>\n",
       "      <td>4</td>\n",
       "      <td>4</td>\n",
       "      <td>4</td>\n",
       "    </tr>\n",
       "    <tr>\n",
       "      <th>17</th>\n",
       "      <td>1</td>\n",
       "      <td>1</td>\n",
       "      <td>1</td>\n",
       "      <td>1</td>\n",
       "      <td>1</td>\n",
       "      <td>1</td>\n",
       "      <td>1</td>\n",
       "      <td>1</td>\n",
       "      <td>1</td>\n",
       "      <td>1</td>\n",
       "      <td>1</td>\n",
       "    </tr>\n",
       "    <tr>\n",
       "      <th>18</th>\n",
       "      <td>1</td>\n",
       "      <td>1</td>\n",
       "      <td>1</td>\n",
       "      <td>1</td>\n",
       "      <td>1</td>\n",
       "      <td>1</td>\n",
       "      <td>1</td>\n",
       "      <td>1</td>\n",
       "      <td>1</td>\n",
       "      <td>1</td>\n",
       "      <td>1</td>\n",
       "    </tr>\n",
       "    <tr>\n",
       "      <th>19</th>\n",
       "      <td>1</td>\n",
       "      <td>1</td>\n",
       "      <td>1</td>\n",
       "      <td>1</td>\n",
       "      <td>1</td>\n",
       "      <td>1</td>\n",
       "      <td>1</td>\n",
       "      <td>1</td>\n",
       "      <td>1</td>\n",
       "      <td>1</td>\n",
       "      <td>1</td>\n",
       "    </tr>\n",
       "  </tbody>\n",
       "</table>\n",
       "</div>"
      ],
      "text/plain": [
       "            business_id  review_id  stars  text  token  vectors  features  \\\n",
       "prediction                                                                  \n",
       "0                     5          5      5     5      5        5         5   \n",
       "1                     3          3      3     3      3        3         3   \n",
       "2                     1          1      1     1      1        1         1   \n",
       "3                     1          1      1     1      1        1         1   \n",
       "4                     1          1      1     1      1        1         1   \n",
       "5                  1168       1168   1168  1168   1168     1168      1168   \n",
       "6                     1          1      1     1      1        1         1   \n",
       "7                     1          1      1     1      1        1         1   \n",
       "8                     4          4      4     4      4        4         4   \n",
       "9                     1          1      1     1      1        1         1   \n",
       "10                    1          1      1     1      1        1         1   \n",
       "11                    1          1      1     1      1        1         1   \n",
       "12                   21         21     21    21     21       21        21   \n",
       "13                    1          1      1     1      1        1         1   \n",
       "14                    1          1      1     1      1        1         1   \n",
       "15                    1          1      1     1      1        1         1   \n",
       "16                    4          4      4     4      4        4         4   \n",
       "17                    1          1      1     1      1        1         1   \n",
       "18                    1          1      1     1      1        1         1   \n",
       "19                    1          1      1     1      1        1         1   \n",
       "\n",
       "            RestaurantsPriceRange2  stars  review_count  categories  \n",
       "prediction                                                           \n",
       "0                                5      5             5           5  \n",
       "1                                3      3             3           3  \n",
       "2                                1      1             1           1  \n",
       "3                                1      1             1           1  \n",
       "4                                1      1             1           1  \n",
       "5                             1154   1168          1168        1168  \n",
       "6                                1      1             1           1  \n",
       "7                                1      1             1           1  \n",
       "8                                4      4             4           4  \n",
       "9                                1      1             1           1  \n",
       "10                               1      1             1           1  \n",
       "11                               1      1             1           1  \n",
       "12                              19     21            21          21  \n",
       "13                               1      1             1           1  \n",
       "14                               1      1             1           1  \n",
       "15                               1      1             1           1  \n",
       "16                               4      4             4           4  \n",
       "17                               1      1             1           1  \n",
       "18                               1      1             1           1  \n",
       "19                               1      1             1           1  "
      ]
     },
     "execution_count": 105,
     "metadata": {},
     "output_type": "execute_result"
    }
   ],
   "source": [
    "clust_df.groupby('prediction').count()"
   ]
  },
  {
   "cell_type": "code",
   "execution_count": 106,
   "metadata": {},
   "outputs": [],
   "source": [
    "clu12 = clust_df[clust_df.prediction == 12]"
   ]
  },
  {
   "cell_type": "code",
   "execution_count": 109,
   "metadata": {},
   "outputs": [
    {
     "data": {
      "text/html": [
       "<div>\n",
       "<style scoped>\n",
       "    .dataframe tbody tr th:only-of-type {\n",
       "        vertical-align: middle;\n",
       "    }\n",
       "\n",
       "    .dataframe tbody tr th {\n",
       "        vertical-align: top;\n",
       "    }\n",
       "\n",
       "    .dataframe thead th {\n",
       "        text-align: right;\n",
       "    }\n",
       "</style>\n",
       "<table border=\"1\" class=\"dataframe\">\n",
       "  <thead>\n",
       "    <tr style=\"text-align: right;\">\n",
       "      <th></th>\n",
       "      <th>business_id</th>\n",
       "      <th>stars</th>\n",
       "      <th>stars</th>\n",
       "      <th>categories</th>\n",
       "      <th>RestaurantsPriceRange2</th>\n",
       "      <th>token</th>\n",
       "    </tr>\n",
       "  </thead>\n",
       "  <tbody>\n",
       "    <tr>\n",
       "      <th>0</th>\n",
       "      <td>qfcdMhm1Ff28JHVpHca20g</td>\n",
       "      <td>2</td>\n",
       "      <td>1.5</td>\n",
       "      <td>Pizza, Restaurants</td>\n",
       "      <td>2</td>\n",
       "      <td>[good, pizza, deliveri, time, realli, bad, eve...</td>\n",
       "    </tr>\n",
       "    <tr>\n",
       "      <th>9</th>\n",
       "      <td>Z5eukYH32_nFljOTC2DJ0g</td>\n",
       "      <td>3</td>\n",
       "      <td>4.0</td>\n",
       "      <td>Pizza, Restaurants</td>\n",
       "      <td>2</td>\n",
       "      <td>[classic, ny, pizza, place, interior, design, ...</td>\n",
       "    </tr>\n",
       "    <tr>\n",
       "      <th>127</th>\n",
       "      <td>OXrFWgoz533T8tMRemkiww</td>\n",
       "      <td>2</td>\n",
       "      <td>4.0</td>\n",
       "      <td>Pizza, Italian, Restaurants</td>\n",
       "      <td>2</td>\n",
       "      <td>[sever, disappoint, trip, il, pizzaiolo, marke...</td>\n",
       "    </tr>\n",
       "    <tr>\n",
       "      <th>180</th>\n",
       "      <td>v9jNkOIBfP4aW2ru50Rn-A</td>\n",
       "      <td>2</td>\n",
       "      <td>2.5</td>\n",
       "      <td>Restaurants, Italian</td>\n",
       "      <td>2</td>\n",
       "      <td>[boyfriend, weekend, alway, best, experi, food...</td>\n",
       "    </tr>\n",
       "    <tr>\n",
       "      <th>192</th>\n",
       "      <td>A5Rkh7UymKm0_Rxm9K2PJw</td>\n",
       "      <td>2</td>\n",
       "      <td>4.0</td>\n",
       "      <td>Cocktail Bars, Vegetarian, Steakhouses, Americ...</td>\n",
       "      <td>2</td>\n",
       "      <td>[last, night, visit, yardhous, big, fan, sure,...</td>\n",
       "    </tr>\n",
       "    <tr>\n",
       "      <th>237</th>\n",
       "      <td>rHzf-EDTP9g6gQFYAz0RuQ</td>\n",
       "      <td>1</td>\n",
       "      <td>2.5</td>\n",
       "      <td>Salad, Restaurants, Pizza, Chicken Wings</td>\n",
       "      <td>None</td>\n",
       "      <td>[disappoint, panago, pizza, order, larg, peppe...</td>\n",
       "    </tr>\n",
       "    <tr>\n",
       "      <th>242</th>\n",
       "      <td>ai8nfTBNvL579cjIuqZajQ</td>\n",
       "      <td>3</td>\n",
       "      <td>4.0</td>\n",
       "      <td>Food, Restaurants, Pizza, Sandwiches, Desserts...</td>\n",
       "      <td>2</td>\n",
       "      <td>[want, tri, differ, pizza, place, one, ever, c...</td>\n",
       "    </tr>\n",
       "    <tr>\n",
       "      <th>336</th>\n",
       "      <td>CJvN2k3gjR7JspTx21icTQ</td>\n",
       "      <td>3</td>\n",
       "      <td>4.5</td>\n",
       "      <td>Pizza, Restaurants, Italian</td>\n",
       "      <td>1</td>\n",
       "      <td>[pizza, delici, big, fan, new, york, pizza, pi...</td>\n",
       "    </tr>\n",
       "    <tr>\n",
       "      <th>406</th>\n",
       "      <td>swi7mi1ixWpu5-tZO2mtsg</td>\n",
       "      <td>1</td>\n",
       "      <td>3.0</td>\n",
       "      <td>Italian, Restaurants, Sandwiches, Pizza</td>\n",
       "      <td>2</td>\n",
       "      <td>[earlier, even, place, order, grub, hub, inch,...</td>\n",
       "    </tr>\n",
       "    <tr>\n",
       "      <th>444</th>\n",
       "      <td>kd1VNJdd92T2eQ4hqvYQ5A</td>\n",
       "      <td>2</td>\n",
       "      <td>4.0</td>\n",
       "      <td>Pizza, Restaurants, Chicken Wings, Salad</td>\n",
       "      <td>1</td>\n",
       "      <td>[updat, sicilian, receiv, april, order, somewh...</td>\n",
       "    </tr>\n",
       "    <tr>\n",
       "      <th>487</th>\n",
       "      <td>Z0o7EnCj3fgzC7E3QRabhQ</td>\n",
       "      <td>3</td>\n",
       "      <td>4.0</td>\n",
       "      <td>Pizza, Italian, Restaurants</td>\n",
       "      <td>2</td>\n",
       "      <td>[servic, outstand, waiter, marcuswa, kind, one...</td>\n",
       "    </tr>\n",
       "    <tr>\n",
       "      <th>568</th>\n",
       "      <td>pSQFynH1VxkfSmehRXlZWw</td>\n",
       "      <td>3</td>\n",
       "      <td>4.0</td>\n",
       "      <td>Restaurants, Pizza, Tapas/Small Plates, Salad,...</td>\n",
       "      <td>2</td>\n",
       "      <td>[well, downtown, last, weekend, happen, hungri...</td>\n",
       "    </tr>\n",
       "    <tr>\n",
       "      <th>696</th>\n",
       "      <td>VXKIx4WUGw3jNad0BOcFYQ</td>\n",
       "      <td>3</td>\n",
       "      <td>4.0</td>\n",
       "      <td>Restaurants, Italian, Pizza</td>\n",
       "      <td>2</td>\n",
       "      <td>[want, love, place, ig, alway, mouthwat, food,...</td>\n",
       "    </tr>\n",
       "    <tr>\n",
       "      <th>707</th>\n",
       "      <td>k1QpHAkzKTrFYfk6u--VgQ</td>\n",
       "      <td>3</td>\n",
       "      <td>4.5</td>\n",
       "      <td>Salad, Pizza, Restaurants, Italian, Sandwiches</td>\n",
       "      <td>2</td>\n",
       "      <td>[went, idea, eat, someplac, never, alway, curi...</td>\n",
       "    </tr>\n",
       "    <tr>\n",
       "      <th>790</th>\n",
       "      <td>yPgUkQxj8CYPKF89HV65kg</td>\n",
       "      <td>1</td>\n",
       "      <td>4.0</td>\n",
       "      <td>Restaurants, Italian, Nightlife, Bars</td>\n",
       "      <td>2</td>\n",
       "      <td>[wow, got, back, lombardino, arriv, date, prom...</td>\n",
       "    </tr>\n",
       "    <tr>\n",
       "      <th>897</th>\n",
       "      <td>XX5DlErcTQ8qNb_seI_oBw</td>\n",
       "      <td>1</td>\n",
       "      <td>3.0</td>\n",
       "      <td>Restaurants, Pizza</td>\n",
       "      <td>1</td>\n",
       "      <td>[look, place, get, pizza, quickli, easili, sto...</td>\n",
       "    </tr>\n",
       "    <tr>\n",
       "      <th>995</th>\n",
       "      <td>dsAcgF6qtZy2m6d_yWCrGQ</td>\n",
       "      <td>3</td>\n",
       "      <td>3.5</td>\n",
       "      <td>Restaurants, Pizza</td>\n",
       "      <td>2</td>\n",
       "      <td>[romolo, salvati, know, pizza, fan, queen, mar...</td>\n",
       "    </tr>\n",
       "    <tr>\n",
       "      <th>1041</th>\n",
       "      <td>YrFYBMWnRWkRpy9XyMfMRw</td>\n",
       "      <td>2</td>\n",
       "      <td>3.0</td>\n",
       "      <td>Pizza, Nightlife, Bars, Chicken Wings, Burgers...</td>\n",
       "      <td>2</td>\n",
       "      <td>[excit, go, post, realli, good, wing, inde, pr...</td>\n",
       "    </tr>\n",
       "    <tr>\n",
       "      <th>1070</th>\n",
       "      <td>5oc3Jva4wWS4O44a-0Jd8Q</td>\n",
       "      <td>3</td>\n",
       "      <td>3.5</td>\n",
       "      <td>Bakeries, Food, Restaurants, Pizza</td>\n",
       "      <td>2</td>\n",
       "      <td>[pizza, good, would, total, give, place, five,...</td>\n",
       "    </tr>\n",
       "    <tr>\n",
       "      <th>1152</th>\n",
       "      <td>df3X3fIH59iw0LDynAKSlg</td>\n",
       "      <td>1</td>\n",
       "      <td>1.0</td>\n",
       "      <td>Food, Restaurants, Chicken Wings, Food Deliver...</td>\n",
       "      <td>None</td>\n",
       "      <td>[worst, pizza, place, ever, order, pizza, pizz...</td>\n",
       "    </tr>\n",
       "    <tr>\n",
       "      <th>1196</th>\n",
       "      <td>zSc_PmocVDJEtQwin0ts2w</td>\n",
       "      <td>3</td>\n",
       "      <td>3.5</td>\n",
       "      <td>Food Stands, Restaurants, Pizza</td>\n",
       "      <td>1</td>\n",
       "      <td>[night, drink, hard, pass, la, pizza, smell, d...</td>\n",
       "    </tr>\n",
       "  </tbody>\n",
       "</table>\n",
       "</div>"
      ],
      "text/plain": [
       "                 business_id  stars  stars  \\\n",
       "0     qfcdMhm1Ff28JHVpHca20g      2    1.5   \n",
       "9     Z5eukYH32_nFljOTC2DJ0g      3    4.0   \n",
       "127   OXrFWgoz533T8tMRemkiww      2    4.0   \n",
       "180   v9jNkOIBfP4aW2ru50Rn-A      2    2.5   \n",
       "192   A5Rkh7UymKm0_Rxm9K2PJw      2    4.0   \n",
       "237   rHzf-EDTP9g6gQFYAz0RuQ      1    2.5   \n",
       "242   ai8nfTBNvL579cjIuqZajQ      3    4.0   \n",
       "336   CJvN2k3gjR7JspTx21icTQ      3    4.5   \n",
       "406   swi7mi1ixWpu5-tZO2mtsg      1    3.0   \n",
       "444   kd1VNJdd92T2eQ4hqvYQ5A      2    4.0   \n",
       "487   Z0o7EnCj3fgzC7E3QRabhQ      3    4.0   \n",
       "568   pSQFynH1VxkfSmehRXlZWw      3    4.0   \n",
       "696   VXKIx4WUGw3jNad0BOcFYQ      3    4.0   \n",
       "707   k1QpHAkzKTrFYfk6u--VgQ      3    4.5   \n",
       "790   yPgUkQxj8CYPKF89HV65kg      1    4.0   \n",
       "897   XX5DlErcTQ8qNb_seI_oBw      1    3.0   \n",
       "995   dsAcgF6qtZy2m6d_yWCrGQ      3    3.5   \n",
       "1041  YrFYBMWnRWkRpy9XyMfMRw      2    3.0   \n",
       "1070  5oc3Jva4wWS4O44a-0Jd8Q      3    3.5   \n",
       "1152  df3X3fIH59iw0LDynAKSlg      1    1.0   \n",
       "1196  zSc_PmocVDJEtQwin0ts2w      3    3.5   \n",
       "\n",
       "                                             categories  \\\n",
       "0                                    Pizza, Restaurants   \n",
       "9                                    Pizza, Restaurants   \n",
       "127                         Pizza, Italian, Restaurants   \n",
       "180                                Restaurants, Italian   \n",
       "192   Cocktail Bars, Vegetarian, Steakhouses, Americ...   \n",
       "237            Salad, Restaurants, Pizza, Chicken Wings   \n",
       "242   Food, Restaurants, Pizza, Sandwiches, Desserts...   \n",
       "336                         Pizza, Restaurants, Italian   \n",
       "406             Italian, Restaurants, Sandwiches, Pizza   \n",
       "444            Pizza, Restaurants, Chicken Wings, Salad   \n",
       "487                         Pizza, Italian, Restaurants   \n",
       "568   Restaurants, Pizza, Tapas/Small Plates, Salad,...   \n",
       "696                         Restaurants, Italian, Pizza   \n",
       "707      Salad, Pizza, Restaurants, Italian, Sandwiches   \n",
       "790               Restaurants, Italian, Nightlife, Bars   \n",
       "897                                  Restaurants, Pizza   \n",
       "995                                  Restaurants, Pizza   \n",
       "1041  Pizza, Nightlife, Bars, Chicken Wings, Burgers...   \n",
       "1070                 Bakeries, Food, Restaurants, Pizza   \n",
       "1152  Food, Restaurants, Chicken Wings, Food Deliver...   \n",
       "1196                    Food Stands, Restaurants, Pizza   \n",
       "\n",
       "     RestaurantsPriceRange2                                              token  \n",
       "0                         2  [good, pizza, deliveri, time, realli, bad, eve...  \n",
       "9                         2  [classic, ny, pizza, place, interior, design, ...  \n",
       "127                       2  [sever, disappoint, trip, il, pizzaiolo, marke...  \n",
       "180                       2  [boyfriend, weekend, alway, best, experi, food...  \n",
       "192                       2  [last, night, visit, yardhous, big, fan, sure,...  \n",
       "237                    None  [disappoint, panago, pizza, order, larg, peppe...  \n",
       "242                       2  [want, tri, differ, pizza, place, one, ever, c...  \n",
       "336                       1  [pizza, delici, big, fan, new, york, pizza, pi...  \n",
       "406                       2  [earlier, even, place, order, grub, hub, inch,...  \n",
       "444                       1  [updat, sicilian, receiv, april, order, somewh...  \n",
       "487                       2  [servic, outstand, waiter, marcuswa, kind, one...  \n",
       "568                       2  [well, downtown, last, weekend, happen, hungri...  \n",
       "696                       2  [want, love, place, ig, alway, mouthwat, food,...  \n",
       "707                       2  [went, idea, eat, someplac, never, alway, curi...  \n",
       "790                       2  [wow, got, back, lombardino, arriv, date, prom...  \n",
       "897                       1  [look, place, get, pizza, quickli, easili, sto...  \n",
       "995                       2  [romolo, salvati, know, pizza, fan, queen, mar...  \n",
       "1041                      2  [excit, go, post, realli, good, wing, inde, pr...  \n",
       "1070                      2  [pizza, good, would, total, give, place, five,...  \n",
       "1152                   None  [worst, pizza, place, ever, order, pizza, pizz...  \n",
       "1196                      1  [night, drink, hard, pass, la, pizza, smell, d...  "
      ]
     },
     "execution_count": 109,
     "metadata": {},
     "output_type": "execute_result"
    }
   ],
   "source": [
    "clu12[['business_id','stars','categories','RestaurantsPriceRange2','token']]"
   ]
  },
  {
   "cell_type": "code",
   "execution_count": null,
   "metadata": {},
   "outputs": [],
   "source": []
  }
 ],
 "metadata": {
  "kernelspec": {
   "display_name": "Python 3",
   "language": "python",
   "name": "python3"
  },
  "language_info": {
   "codemirror_mode": {
    "name": "ipython",
    "version": 3
   },
   "file_extension": ".py",
   "mimetype": "text/x-python",
   "name": "python",
   "nbconvert_exporter": "python",
   "pygments_lexer": "ipython3",
   "version": "3.6.5"
  }
 },
 "nbformat": 4,
 "nbformat_minor": 2
}
