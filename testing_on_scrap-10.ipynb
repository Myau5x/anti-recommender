{
 "cells": [
  {
   "cell_type": "code",
   "execution_count": 1,
   "metadata": {},
   "outputs": [],
   "source": [
    "import pandas as pd\n",
    "import numpy as np"
   ]
  },
  {
   "cell_type": "code",
   "execution_count": 2,
   "metadata": {},
   "outputs": [],
   "source": [
    "import pickle"
   ]
  },
  {
   "cell_type": "code",
   "execution_count": 3,
   "metadata": {},
   "outputs": [],
   "source": [
    "from sklearn.model_selection import train_test_split, cross_val_score, GridSearchCV\n",
    "from sklearn.ensemble import RandomForestClassifier, GradientBoostingClassifier"
   ]
  },
  {
   "cell_type": "code",
   "execution_count": 4,
   "metadata": {},
   "outputs": [],
   "source": [
    "from sklearn.metrics import auc, roc_auc_score, roc_curve, accuracy_score,  recall_score, precision_score\n",
    "from regression_tools.dftransformers import (\n",
    "    ColumnSelector, Identity, FeatureUnion, MapFeature, Intercept)"
   ]
  },
  {
   "cell_type": "code",
   "execution_count": 5,
   "metadata": {},
   "outputs": [],
   "source": [
    "from my_metr import plot_roc_curve"
   ]
  },
  {
   "cell_type": "code",
   "execution_count": 6,
   "metadata": {},
   "outputs": [],
   "source": [
    "from trans_rat import FillPrice, CategoriesTransformScr, RatingNormalizer, FillPriceScr\n"
   ]
  },
  {
   "cell_type": "code",
   "execution_count": 7,
   "metadata": {},
   "outputs": [],
   "source": [
    "import matplotlib.pyplot as plt\n",
    "%matplotlib inline"
   ]
  },
  {
   "cell_type": "code",
   "execution_count": 8,
   "metadata": {},
   "outputs": [],
   "source": [
    "from pymongo import MongoClient\n",
    "import time\n",
    "from bs4 import BeautifulSoup\n",
    "\n",
    "mc = MongoClient()\n",
    "db  = mc['raw_restaurants']\n",
    "rv_s = db['reviews_scrap']"
   ]
  },
  {
   "cell_type": "code",
   "execution_count": 9,
   "metadata": {},
   "outputs": [],
   "source": [
    "colClust_n = ['cl_t0', 'cl_t1', 'cl_t3', 'cl_t4', 'cl_t5', 'cl_t8', 'cl_t9']"
   ]
  },
  {
   "cell_type": "code",
   "execution_count": null,
   "metadata": {},
   "outputs": [],
   "source": [
    "#numbers_list = pickle.load(list_unpickle)"
   ]
  },
  {
   "cell_type": "code",
   "execution_count": 10,
   "metadata": {},
   "outputs": [],
   "source": [
    "clust_model_rf ={}\n",
    "clust_model_gr = {}"
   ]
  },
  {
   "cell_type": "code",
   "execution_count": 11,
   "metadata": {},
   "outputs": [],
   "source": [
    "for col in colClust_n:\n",
    "    filename_gr = 'gr10boost/mgr_'+col+'.pkl'\n",
    "    with open(filename_gr,'rb') as f:\n",
    "        clust_model_gr[col]= pickle.load( f)\n",
    "    filename_rf = 'r10forest/mrf_'+col+'.pkl'\n",
    "    with open(filename_rf,'rb') as f:\n",
    "        clust_model_rf[col] =pickle.load( f)"
   ]
  },
  {
   "cell_type": "code",
   "execution_count": 12,
   "metadata": {},
   "outputs": [
    {
     "data": {
      "text/plain": [
       "GradientBoostingClassifier(criterion='friedman_mse', init=None,\n",
       "              learning_rate=0.05, loss='deviance', max_depth=6,\n",
       "              max_features='sqrt', max_leaf_nodes=None,\n",
       "              min_impurity_decrease=0.0, min_impurity_split=None,\n",
       "              min_samples_leaf=1, min_samples_split=2,\n",
       "              min_weight_fraction_leaf=0.0, n_estimators=300,\n",
       "              presort='auto', random_state=179, subsample=0.8, verbose=0,\n",
       "              warm_start=False)"
      ]
     },
     "execution_count": 12,
     "metadata": {},
     "output_type": "execute_result"
    }
   ],
   "source": [
    "clust_model_gr['cl_t3']"
   ]
  },
  {
   "cell_type": "code",
   "execution_count": 14,
   "metadata": {},
   "outputs": [],
   "source": [
    "user_cl = pd.read_csv('user_from_scr_clidf10.csv')"
   ]
  },
  {
   "cell_type": "code",
   "execution_count": 15,
   "metadata": {},
   "outputs": [],
   "source": [
    "rest = db['restaurants']\n",
    "\n",
    "rest_df = pd.DataFrame(list(rest.find({})))"
   ]
  },
  {
   "cell_type": "code",
   "execution_count": 16,
   "metadata": {},
   "outputs": [
    {
     "data": {
      "text/plain": [
       "(12615, 18)"
      ]
     },
     "execution_count": 16,
     "metadata": {},
     "output_type": "execute_result"
    }
   ],
   "source": [
    "rest_df.shape"
   ]
  },
  {
   "cell_type": "markdown",
   "metadata": {},
   "source": [
    "### надо почистить дату"
   ]
  },
  {
   "cell_type": "code",
   "execution_count": 17,
   "metadata": {},
   "outputs": [],
   "source": [
    "revs_df = pd.DataFrame(list(rv_s.find({})))"
   ]
  },
  {
   "cell_type": "code",
   "execution_count": 18,
   "metadata": {},
   "outputs": [
    {
     "data": {
      "text/plain": [
       "Index(['_id', 'alias', 'biz_id', 'category', 'date', 'id', 'rating', 'text',\n",
       "       'user_id'],\n",
       "      dtype='object')"
      ]
     },
     "execution_count": 18,
     "metadata": {},
     "output_type": "execute_result"
    }
   ],
   "source": [
    "revs_df.columns"
   ]
  },
  {
   "cell_type": "code",
   "execution_count": 19,
   "metadata": {},
   "outputs": [],
   "source": [
    "revs_df.drop(columns=[ '_id', 'category', 'date'], inplace= True)"
   ]
  },
  {
   "cell_type": "code",
   "execution_count": 20,
   "metadata": {},
   "outputs": [],
   "source": [
    "rest_alias = np.unique(revs_df.alias)"
   ]
  },
  {
   "cell_type": "code",
   "execution_count": 21,
   "metadata": {},
   "outputs": [
    {
     "data": {
      "text/plain": [
       "10222"
      ]
     },
     "execution_count": 21,
     "metadata": {},
     "output_type": "execute_result"
    }
   ],
   "source": [
    "len(rest_alias)"
   ]
  },
  {
   "cell_type": "code",
   "execution_count": 22,
   "metadata": {},
   "outputs": [
    {
     "data": {
      "text/html": [
       "<div>\n",
       "<style scoped>\n",
       "    .dataframe tbody tr th:only-of-type {\n",
       "        vertical-align: middle;\n",
       "    }\n",
       "\n",
       "    .dataframe tbody tr th {\n",
       "        vertical-align: top;\n",
       "    }\n",
       "\n",
       "    .dataframe thead th {\n",
       "        text-align: right;\n",
       "    }\n",
       "</style>\n",
       "<table border=\"1\" class=\"dataframe\">\n",
       "  <thead>\n",
       "    <tr style=\"text-align: right;\">\n",
       "      <th></th>\n",
       "      <th>_id</th>\n",
       "      <th>alias</th>\n",
       "      <th>categories</th>\n",
       "      <th>coordinates</th>\n",
       "      <th>display_phone</th>\n",
       "      <th>distance</th>\n",
       "      <th>id</th>\n",
       "      <th>image_url</th>\n",
       "      <th>is_closed</th>\n",
       "      <th>location</th>\n",
       "      <th>name</th>\n",
       "      <th>phone</th>\n",
       "      <th>price</th>\n",
       "      <th>rating</th>\n",
       "      <th>rev_API</th>\n",
       "      <th>review_count</th>\n",
       "      <th>transactions</th>\n",
       "      <th>url</th>\n",
       "    </tr>\n",
       "  </thead>\n",
       "  <tbody>\n",
       "    <tr>\n",
       "      <th>0</th>\n",
       "      <td>5bf90d4e7988471b045ba501</td>\n",
       "      <td>maono-seattle</td>\n",
       "      <td>[{'alias': 'hawaiian', 'title': 'Hawaiian'}, {...</td>\n",
       "      <td>{'latitude': 47.5636486287425, 'longitude': -1...</td>\n",
       "      <td>(206) 935-1075</td>\n",
       "      <td>1501.527536</td>\n",
       "      <td>gDAO-4m63svPUpii5b8kww</td>\n",
       "      <td>https://s3-media4.fl.yelpcdn.com/bphoto/rwJG59...</td>\n",
       "      <td>False</td>\n",
       "      <td>{'address1': '4437 California Ave SW', 'addres...</td>\n",
       "      <td>Ma'ono</td>\n",
       "      <td>+12069351075</td>\n",
       "      <td>$$</td>\n",
       "      <td>4.0</td>\n",
       "      <td>1</td>\n",
       "      <td>788</td>\n",
       "      <td>[]</td>\n",
       "      <td>https://www.yelp.com/biz/maono-seattle?adjust_...</td>\n",
       "    </tr>\n",
       "    <tr>\n",
       "      <th>1</th>\n",
       "      <td>5bf90d4e7988471b045ba502</td>\n",
       "      <td>ohs-sandwiches-seattle-2</td>\n",
       "      <td>[{'alias': 'sandwiches', 'title': 'Sandwiches'...</td>\n",
       "      <td>{'latitude': 47.5751165, 'longitude': -122.387...</td>\n",
       "      <td>(206) 420-3692</td>\n",
       "      <td>2616.713742</td>\n",
       "      <td>xzLAynrVb3No3ADUhMxlnQ</td>\n",
       "      <td>https://s3-media2.fl.yelpcdn.com/bphoto/zKlK95...</td>\n",
       "      <td>False</td>\n",
       "      <td>{'address1': '3217 California Ave SW', 'addres...</td>\n",
       "      <td>Oh's Sandwiches</td>\n",
       "      <td>+12064203692</td>\n",
       "      <td>NaN</td>\n",
       "      <td>4.5</td>\n",
       "      <td>1</td>\n",
       "      <td>32</td>\n",
       "      <td>[]</td>\n",
       "      <td>https://www.yelp.com/biz/ohs-sandwiches-seattl...</td>\n",
       "    </tr>\n",
       "    <tr>\n",
       "      <th>2</th>\n",
       "      <td>5bf90d4e7988471b045ba503</td>\n",
       "      <td>marination-ma-kai-seattle</td>\n",
       "      <td>[{'alias': 'korean', 'title': 'Korean'}, {'ali...</td>\n",
       "      <td>{'latitude': 47.5895547295386, 'longitude': -1...</td>\n",
       "      <td>(206) 328-8226</td>\n",
       "      <td>4061.556690</td>\n",
       "      <td>IsvlaFF0EPEhh3ahTuC4xg</td>\n",
       "      <td>https://s3-media1.fl.yelpcdn.com/bphoto/r19fwm...</td>\n",
       "      <td>False</td>\n",
       "      <td>{'address1': '1660 Harbor Ave SW', 'address2':...</td>\n",
       "      <td>Marination Ma Kai</td>\n",
       "      <td>+12063288226</td>\n",
       "      <td>$$</td>\n",
       "      <td>4.0</td>\n",
       "      <td>1</td>\n",
       "      <td>897</td>\n",
       "      <td>[]</td>\n",
       "      <td>https://www.yelp.com/biz/marination-ma-kai-sea...</td>\n",
       "    </tr>\n",
       "  </tbody>\n",
       "</table>\n",
       "</div>"
      ],
      "text/plain": [
       "                        _id                      alias  \\\n",
       "0  5bf90d4e7988471b045ba501              maono-seattle   \n",
       "1  5bf90d4e7988471b045ba502   ohs-sandwiches-seattle-2   \n",
       "2  5bf90d4e7988471b045ba503  marination-ma-kai-seattle   \n",
       "\n",
       "                                          categories  \\\n",
       "0  [{'alias': 'hawaiian', 'title': 'Hawaiian'}, {...   \n",
       "1  [{'alias': 'sandwiches', 'title': 'Sandwiches'...   \n",
       "2  [{'alias': 'korean', 'title': 'Korean'}, {'ali...   \n",
       "\n",
       "                                         coordinates   display_phone  \\\n",
       "0  {'latitude': 47.5636486287425, 'longitude': -1...  (206) 935-1075   \n",
       "1  {'latitude': 47.5751165, 'longitude': -122.387...  (206) 420-3692   \n",
       "2  {'latitude': 47.5895547295386, 'longitude': -1...  (206) 328-8226   \n",
       "\n",
       "      distance                      id  \\\n",
       "0  1501.527536  gDAO-4m63svPUpii5b8kww   \n",
       "1  2616.713742  xzLAynrVb3No3ADUhMxlnQ   \n",
       "2  4061.556690  IsvlaFF0EPEhh3ahTuC4xg   \n",
       "\n",
       "                                           image_url  is_closed  \\\n",
       "0  https://s3-media4.fl.yelpcdn.com/bphoto/rwJG59...      False   \n",
       "1  https://s3-media2.fl.yelpcdn.com/bphoto/zKlK95...      False   \n",
       "2  https://s3-media1.fl.yelpcdn.com/bphoto/r19fwm...      False   \n",
       "\n",
       "                                            location               name  \\\n",
       "0  {'address1': '4437 California Ave SW', 'addres...             Ma'ono   \n",
       "1  {'address1': '3217 California Ave SW', 'addres...    Oh's Sandwiches   \n",
       "2  {'address1': '1660 Harbor Ave SW', 'address2':...  Marination Ma Kai   \n",
       "\n",
       "          phone price  rating rev_API  review_count transactions  \\\n",
       "0  +12069351075    $$     4.0       1           788           []   \n",
       "1  +12064203692   NaN     4.5       1            32           []   \n",
       "2  +12063288226    $$     4.0       1           897           []   \n",
       "\n",
       "                                                 url  \n",
       "0  https://www.yelp.com/biz/maono-seattle?adjust_...  \n",
       "1  https://www.yelp.com/biz/ohs-sandwiches-seattl...  \n",
       "2  https://www.yelp.com/biz/marination-ma-kai-sea...  "
      ]
     },
     "execution_count": 22,
     "metadata": {},
     "output_type": "execute_result"
    }
   ],
   "source": [
    "rest_df.head(3)"
   ]
  },
  {
   "cell_type": "code",
   "execution_count": 23,
   "metadata": {},
   "outputs": [],
   "source": [
    "rest_clean = rest_df.drop(columns= ['_id','coordinates', 'display_phone', \n",
    "                                    'distance','image_url', 'name','location',\n",
    "                                   'is_closed','phone', 'transactions','url'])"
   ]
  },
  {
   "cell_type": "code",
   "execution_count": 24,
   "metadata": {},
   "outputs": [
    {
     "data": {
      "text/html": [
       "<div>\n",
       "<style scoped>\n",
       "    .dataframe tbody tr th:only-of-type {\n",
       "        vertical-align: middle;\n",
       "    }\n",
       "\n",
       "    .dataframe tbody tr th {\n",
       "        vertical-align: top;\n",
       "    }\n",
       "\n",
       "    .dataframe thead th {\n",
       "        text-align: right;\n",
       "    }\n",
       "</style>\n",
       "<table border=\"1\" class=\"dataframe\">\n",
       "  <thead>\n",
       "    <tr style=\"text-align: right;\">\n",
       "      <th></th>\n",
       "      <th>alias</th>\n",
       "      <th>categories</th>\n",
       "      <th>id</th>\n",
       "      <th>price</th>\n",
       "      <th>rating</th>\n",
       "      <th>rev_API</th>\n",
       "      <th>review_count</th>\n",
       "    </tr>\n",
       "  </thead>\n",
       "  <tbody>\n",
       "    <tr>\n",
       "      <th>0</th>\n",
       "      <td>maono-seattle</td>\n",
       "      <td>[{'alias': 'hawaiian', 'title': 'Hawaiian'}, {...</td>\n",
       "      <td>gDAO-4m63svPUpii5b8kww</td>\n",
       "      <td>$$</td>\n",
       "      <td>4.0</td>\n",
       "      <td>1</td>\n",
       "      <td>788</td>\n",
       "    </tr>\n",
       "    <tr>\n",
       "      <th>1</th>\n",
       "      <td>ohs-sandwiches-seattle-2</td>\n",
       "      <td>[{'alias': 'sandwiches', 'title': 'Sandwiches'...</td>\n",
       "      <td>xzLAynrVb3No3ADUhMxlnQ</td>\n",
       "      <td>NaN</td>\n",
       "      <td>4.5</td>\n",
       "      <td>1</td>\n",
       "      <td>32</td>\n",
       "    </tr>\n",
       "    <tr>\n",
       "      <th>2</th>\n",
       "      <td>marination-ma-kai-seattle</td>\n",
       "      <td>[{'alias': 'korean', 'title': 'Korean'}, {'ali...</td>\n",
       "      <td>IsvlaFF0EPEhh3ahTuC4xg</td>\n",
       "      <td>$$</td>\n",
       "      <td>4.0</td>\n",
       "      <td>1</td>\n",
       "      <td>897</td>\n",
       "    </tr>\n",
       "  </tbody>\n",
       "</table>\n",
       "</div>"
      ],
      "text/plain": [
       "                       alias  \\\n",
       "0              maono-seattle   \n",
       "1   ohs-sandwiches-seattle-2   \n",
       "2  marination-ma-kai-seattle   \n",
       "\n",
       "                                          categories                      id  \\\n",
       "0  [{'alias': 'hawaiian', 'title': 'Hawaiian'}, {...  gDAO-4m63svPUpii5b8kww   \n",
       "1  [{'alias': 'sandwiches', 'title': 'Sandwiches'...  xzLAynrVb3No3ADUhMxlnQ   \n",
       "2  [{'alias': 'korean', 'title': 'Korean'}, {'ali...  IsvlaFF0EPEhh3ahTuC4xg   \n",
       "\n",
       "  price  rating rev_API  review_count  \n",
       "0    $$     4.0       1           788  \n",
       "1   NaN     4.5       1            32  \n",
       "2    $$     4.0       1           897  "
      ]
     },
     "execution_count": 24,
     "metadata": {},
     "output_type": "execute_result"
    }
   ],
   "source": [
    "rest_clean.head(3)"
   ]
  },
  {
   "cell_type": "code",
   "execution_count": 35,
   "metadata": {},
   "outputs": [],
   "source": [
    "#Pipeline = Pipeline([FillPriceScr, CategoriesTransformScr, RatingNormalizer ])\n"
   ]
  },
  {
   "cell_type": "code",
   "execution_count": 25,
   "metadata": {},
   "outputs": [],
   "source": [
    "fpr = FillPriceScr()"
   ]
  },
  {
   "cell_type": "code",
   "execution_count": 26,
   "metadata": {},
   "outputs": [
    {
     "name": "stderr",
     "output_type": "stream",
     "text": [
      "/Users/olga/yelper/trans_rat.py:20: SettingWithCopyWarning: \n",
      "A value is trying to be set on a copy of a slice from a DataFrame\n",
      "\n",
      "See the caveats in the documentation: http://pandas.pydata.org/pandas-docs/stable/indexing.html#indexing-view-versus-copy\n",
      "  X[self.priceCol][pd.isnull(X[self.priceCol])] = '$$'\n"
     ]
    },
    {
     "data": {
      "text/html": [
       "<div>\n",
       "<style scoped>\n",
       "    .dataframe tbody tr th:only-of-type {\n",
       "        vertical-align: middle;\n",
       "    }\n",
       "\n",
       "    .dataframe tbody tr th {\n",
       "        vertical-align: top;\n",
       "    }\n",
       "\n",
       "    .dataframe thead th {\n",
       "        text-align: right;\n",
       "    }\n",
       "</style>\n",
       "<table border=\"1\" class=\"dataframe\">\n",
       "  <thead>\n",
       "    <tr style=\"text-align: right;\">\n",
       "      <th></th>\n",
       "      <th>alias</th>\n",
       "      <th>categories</th>\n",
       "      <th>id</th>\n",
       "      <th>RestaurantsPriceRange2</th>\n",
       "      <th>rating</th>\n",
       "      <th>rev_API</th>\n",
       "      <th>review_count</th>\n",
       "      <th>rest_isna</th>\n",
       "    </tr>\n",
       "  </thead>\n",
       "  <tbody>\n",
       "    <tr>\n",
       "      <th>0</th>\n",
       "      <td>maono-seattle</td>\n",
       "      <td>[{'alias': 'hawaiian', 'title': 'Hawaiian'}, {...</td>\n",
       "      <td>gDAO-4m63svPUpii5b8kww</td>\n",
       "      <td>2</td>\n",
       "      <td>4.0</td>\n",
       "      <td>1</td>\n",
       "      <td>788</td>\n",
       "      <td>False</td>\n",
       "    </tr>\n",
       "    <tr>\n",
       "      <th>1</th>\n",
       "      <td>ohs-sandwiches-seattle-2</td>\n",
       "      <td>[{'alias': 'sandwiches', 'title': 'Sandwiches'...</td>\n",
       "      <td>xzLAynrVb3No3ADUhMxlnQ</td>\n",
       "      <td>2</td>\n",
       "      <td>4.5</td>\n",
       "      <td>1</td>\n",
       "      <td>32</td>\n",
       "      <td>True</td>\n",
       "    </tr>\n",
       "  </tbody>\n",
       "</table>\n",
       "</div>"
      ],
      "text/plain": [
       "                      alias  \\\n",
       "0             maono-seattle   \n",
       "1  ohs-sandwiches-seattle-2   \n",
       "\n",
       "                                          categories                      id  \\\n",
       "0  [{'alias': 'hawaiian', 'title': 'Hawaiian'}, {...  gDAO-4m63svPUpii5b8kww   \n",
       "1  [{'alias': 'sandwiches', 'title': 'Sandwiches'...  xzLAynrVb3No3ADUhMxlnQ   \n",
       "\n",
       "   RestaurantsPriceRange2  rating rev_API  review_count  rest_isna  \n",
       "0                       2     4.0       1           788      False  \n",
       "1                       2     4.5       1            32       True  "
      ]
     },
     "execution_count": 26,
     "metadata": {},
     "output_type": "execute_result"
    }
   ],
   "source": [
    "rest_cl2 = fpr.transform(rest_clean)\n",
    "rest_cl2.head(2)"
   ]
  },
  {
   "cell_type": "code",
   "execution_count": 27,
   "metadata": {},
   "outputs": [
    {
     "data": {
      "text/html": [
       "<div>\n",
       "<style scoped>\n",
       "    .dataframe tbody tr th:only-of-type {\n",
       "        vertical-align: middle;\n",
       "    }\n",
       "\n",
       "    .dataframe tbody tr th {\n",
       "        vertical-align: top;\n",
       "    }\n",
       "\n",
       "    .dataframe thead th {\n",
       "        text-align: right;\n",
       "    }\n",
       "</style>\n",
       "<table border=\"1\" class=\"dataframe\">\n",
       "  <thead>\n",
       "    <tr style=\"text-align: right;\">\n",
       "      <th></th>\n",
       "      <th>Unnamed: 0</th>\n",
       "      <th>0</th>\n",
       "    </tr>\n",
       "  </thead>\n",
       "  <tbody>\n",
       "    <tr>\n",
       "      <th>0</th>\n",
       "      <td>Acai Bowls</td>\n",
       "      <td>0.000840</td>\n",
       "    </tr>\n",
       "    <tr>\n",
       "      <th>1</th>\n",
       "      <td>Active Life</td>\n",
       "      <td>0.004093</td>\n",
       "    </tr>\n",
       "    <tr>\n",
       "      <th>2</th>\n",
       "      <td>Afghan</td>\n",
       "      <td>0.002064</td>\n",
       "    </tr>\n",
       "  </tbody>\n",
       "</table>\n",
       "</div>"
      ],
      "text/plain": [
       "    Unnamed: 0         0\n",
       "0   Acai Bowls  0.000840\n",
       "1  Active Life  0.004093\n",
       "2       Afghan  0.002064"
      ]
     },
     "execution_count": 27,
     "metadata": {},
     "output_type": "execute_result"
    }
   ],
   "source": [
    "##Acai Bowls\n",
    "mod_cat = pd.read_csv('model_cat.csv')\n",
    "mod_cat.head(3)"
   ]
  },
  {
   "cell_type": "code",
   "execution_count": 28,
   "metadata": {},
   "outputs": [
    {
     "name": "stdout",
     "output_type": "stream",
     "text": [
      "<class 'pandas.core.frame.DataFrame'>\n",
      "RangeIndex: 12615 entries, 0 to 12614\n",
      "Data columns (total 8 columns):\n",
      "alias                     12615 non-null object\n",
      "categories                12615 non-null object\n",
      "id                        12615 non-null object\n",
      "RestaurantsPriceRange2    12615 non-null int64\n",
      "rating                    12615 non-null float64\n",
      "rev_API                   8945 non-null object\n",
      "review_count              12615 non-null int64\n",
      "rest_isna                 12615 non-null bool\n",
      "dtypes: bool(1), float64(1), int64(2), object(4)\n",
      "memory usage: 702.3+ KB\n"
     ]
    }
   ],
   "source": [
    "mod_fe = mod_cat.iloc[:,0].tolist()\n",
    "rest_cl2.info()"
   ]
  },
  {
   "cell_type": "code",
   "execution_count": 29,
   "metadata": {},
   "outputs": [
    {
     "data": {
      "text/html": [
       "<div>\n",
       "<style scoped>\n",
       "    .dataframe tbody tr th:only-of-type {\n",
       "        vertical-align: middle;\n",
       "    }\n",
       "\n",
       "    .dataframe tbody tr th {\n",
       "        vertical-align: top;\n",
       "    }\n",
       "\n",
       "    .dataframe thead th {\n",
       "        text-align: right;\n",
       "    }\n",
       "</style>\n",
       "<table border=\"1\" class=\"dataframe\">\n",
       "  <thead>\n",
       "    <tr style=\"text-align: right;\">\n",
       "      <th></th>\n",
       "      <th>alias</th>\n",
       "      <th>id</th>\n",
       "      <th>RestaurantsPriceRange2</th>\n",
       "      <th>stars</th>\n",
       "      <th>rev_API</th>\n",
       "      <th>review_count</th>\n",
       "      <th>rest_isna</th>\n",
       "      <th>Acai Bowls</th>\n",
       "      <th>Active Life</th>\n",
       "      <th>Afghan</th>\n",
       "      <th>...</th>\n",
       "      <th>Venues &amp; Event Spaces</th>\n",
       "      <th>Vietnamese</th>\n",
       "      <th>Waffles</th>\n",
       "      <th>Whiskey Bars</th>\n",
       "      <th>Wine &amp; Spirits</th>\n",
       "      <th>Wine Bars</th>\n",
       "      <th>Wineries</th>\n",
       "      <th>Wraps</th>\n",
       "      <th>num_of_categ</th>\n",
       "      <th>st_over_am</th>\n",
       "    </tr>\n",
       "  </thead>\n",
       "  <tbody>\n",
       "    <tr>\n",
       "      <th>0</th>\n",
       "      <td>maono-seattle</td>\n",
       "      <td>gDAO-4m63svPUpii5b8kww</td>\n",
       "      <td>2</td>\n",
       "      <td>4.0</td>\n",
       "      <td>1</td>\n",
       "      <td>788</td>\n",
       "      <td>False</td>\n",
       "      <td>False</td>\n",
       "      <td>False</td>\n",
       "      <td>False</td>\n",
       "      <td>...</td>\n",
       "      <td>False</td>\n",
       "      <td>False</td>\n",
       "      <td>False</td>\n",
       "      <td>False</td>\n",
       "      <td>False</td>\n",
       "      <td>False</td>\n",
       "      <td>False</td>\n",
       "      <td>False</td>\n",
       "      <td>2</td>\n",
       "      <td>0.016000</td>\n",
       "    </tr>\n",
       "    <tr>\n",
       "      <th>1</th>\n",
       "      <td>ohs-sandwiches-seattle-2</td>\n",
       "      <td>xzLAynrVb3No3ADUhMxlnQ</td>\n",
       "      <td>2</td>\n",
       "      <td>4.5</td>\n",
       "      <td>1</td>\n",
       "      <td>32</td>\n",
       "      <td>True</td>\n",
       "      <td>False</td>\n",
       "      <td>False</td>\n",
       "      <td>False</td>\n",
       "      <td>...</td>\n",
       "      <td>False</td>\n",
       "      <td>False</td>\n",
       "      <td>False</td>\n",
       "      <td>False</td>\n",
       "      <td>False</td>\n",
       "      <td>False</td>\n",
       "      <td>False</td>\n",
       "      <td>False</td>\n",
       "      <td>2</td>\n",
       "      <td>0.140621</td>\n",
       "    </tr>\n",
       "    <tr>\n",
       "      <th>2</th>\n",
       "      <td>marination-ma-kai-seattle</td>\n",
       "      <td>IsvlaFF0EPEhh3ahTuC4xg</td>\n",
       "      <td>2</td>\n",
       "      <td>4.0</td>\n",
       "      <td>1</td>\n",
       "      <td>897</td>\n",
       "      <td>False</td>\n",
       "      <td>False</td>\n",
       "      <td>False</td>\n",
       "      <td>False</td>\n",
       "      <td>...</td>\n",
       "      <td>False</td>\n",
       "      <td>False</td>\n",
       "      <td>False</td>\n",
       "      <td>False</td>\n",
       "      <td>False</td>\n",
       "      <td>False</td>\n",
       "      <td>False</td>\n",
       "      <td>False</td>\n",
       "      <td>3</td>\n",
       "      <td>0.016000</td>\n",
       "    </tr>\n",
       "    <tr>\n",
       "      <th>3</th>\n",
       "      <td>ittos-tapas-seattle-4</td>\n",
       "      <td>Dr9CxgdePozHGwU4beaYGQ</td>\n",
       "      <td>2</td>\n",
       "      <td>4.5</td>\n",
       "      <td>1</td>\n",
       "      <td>221</td>\n",
       "      <td>False</td>\n",
       "      <td>False</td>\n",
       "      <td>False</td>\n",
       "      <td>False</td>\n",
       "      <td>...</td>\n",
       "      <td>False</td>\n",
       "      <td>False</td>\n",
       "      <td>False</td>\n",
       "      <td>False</td>\n",
       "      <td>False</td>\n",
       "      <td>False</td>\n",
       "      <td>False</td>\n",
       "      <td>False</td>\n",
       "      <td>3</td>\n",
       "      <td>0.020362</td>\n",
       "    </tr>\n",
       "    <tr>\n",
       "      <th>4</th>\n",
       "      <td>pizzeria-credo-seattle</td>\n",
       "      <td>BeGo3TSuhF7fOv0dzp0s1g</td>\n",
       "      <td>2</td>\n",
       "      <td>4.5</td>\n",
       "      <td>1</td>\n",
       "      <td>405</td>\n",
       "      <td>False</td>\n",
       "      <td>False</td>\n",
       "      <td>False</td>\n",
       "      <td>False</td>\n",
       "      <td>...</td>\n",
       "      <td>False</td>\n",
       "      <td>False</td>\n",
       "      <td>False</td>\n",
       "      <td>False</td>\n",
       "      <td>False</td>\n",
       "      <td>False</td>\n",
       "      <td>False</td>\n",
       "      <td>False</td>\n",
       "      <td>2</td>\n",
       "      <td>0.018000</td>\n",
       "    </tr>\n",
       "  </tbody>\n",
       "</table>\n",
       "<p>5 rows × 217 columns</p>\n",
       "</div>"
      ],
      "text/plain": [
       "                       alias                      id  RestaurantsPriceRange2  \\\n",
       "0              maono-seattle  gDAO-4m63svPUpii5b8kww                       2   \n",
       "1   ohs-sandwiches-seattle-2  xzLAynrVb3No3ADUhMxlnQ                       2   \n",
       "2  marination-ma-kai-seattle  IsvlaFF0EPEhh3ahTuC4xg                       2   \n",
       "3      ittos-tapas-seattle-4  Dr9CxgdePozHGwU4beaYGQ                       2   \n",
       "4     pizzeria-credo-seattle  BeGo3TSuhF7fOv0dzp0s1g                       2   \n",
       "\n",
       "   stars rev_API  review_count  rest_isna  Acai Bowls  Active Life  Afghan  \\\n",
       "0    4.0       1           788      False       False        False   False   \n",
       "1    4.5       1            32       True       False        False   False   \n",
       "2    4.0       1           897      False       False        False   False   \n",
       "3    4.5       1           221      False       False        False   False   \n",
       "4    4.5       1           405      False       False        False   False   \n",
       "\n",
       "      ...      Venues & Event Spaces  Vietnamese  Waffles  Whiskey Bars  \\\n",
       "0     ...                      False       False    False         False   \n",
       "1     ...                      False       False    False         False   \n",
       "2     ...                      False       False    False         False   \n",
       "3     ...                      False       False    False         False   \n",
       "4     ...                      False       False    False         False   \n",
       "\n",
       "   Wine & Spirits  Wine Bars  Wineries  Wraps  num_of_categ  st_over_am  \n",
       "0           False      False     False  False             2    0.016000  \n",
       "1           False      False     False  False             2    0.140621  \n",
       "2           False      False     False  False             3    0.016000  \n",
       "3           False      False     False  False             3    0.020362  \n",
       "4           False      False     False  False             2    0.018000  \n",
       "\n",
       "[5 rows x 217 columns]"
      ]
     },
     "execution_count": 29,
     "metadata": {},
     "output_type": "execute_result"
    }
   ],
   "source": [
    "ct = CategoriesTransformScr(mod_fe)\n",
    "rn = RatingNormalizer(starCol = 'rating')\n",
    "rest_cx = rn.transform(ct.transform(rest_cl2))\n",
    "rest_cx.head()"
   ]
  },
  {
   "cell_type": "code",
   "execution_count": 30,
   "metadata": {},
   "outputs": [],
   "source": [
    "### i forgot to include review_count to model when train\n",
    "colPred1 = rest_cx.columns[2:4].union( rest_cx.columns[6:])"
   ]
  },
  {
   "cell_type": "code",
   "execution_count": 32,
   "metadata": {},
   "outputs": [],
   "source": [
    "with open('colPred213', 'rb') as f:\n",
    "    colPred = pickle.load(f)"
   ]
  },
  {
   "cell_type": "code",
   "execution_count": 31,
   "metadata": {},
   "outputs": [
    {
     "data": {
      "text/plain": [
       "213"
      ]
     },
     "execution_count": 31,
     "metadata": {},
     "output_type": "execute_result"
    }
   ],
   "source": [
    "len(colPred1)"
   ]
  },
  {
   "cell_type": "code",
   "execution_count": 33,
   "metadata": {},
   "outputs": [
    {
     "data": {
      "text/plain": [
       "Index([], dtype='object')"
      ]
     },
     "execution_count": 33,
     "metadata": {},
     "output_type": "execute_result"
    }
   ],
   "source": [
    "colPred1[colPred != colPred1]"
   ]
  },
  {
   "cell_type": "code",
   "execution_count": 34,
   "metadata": {},
   "outputs": [
    {
     "data": {
      "text/plain": [
       "Index(['Acai Bowls', 'Active Life', 'Afghan', 'African', 'American (New)',\n",
       "       'American (Traditional)', 'Arabian', 'Arcades', 'Argentine',\n",
       "       'Art Galleries',\n",
       "       ...\n",
       "       'Waffles', 'Whiskey Bars', 'Wine & Spirits', 'Wine Bars', 'Wineries',\n",
       "       'Wraps', 'num_of_categ', 'rest_isna', 'st_over_am', 'stars'],\n",
       "      dtype='object', length=213)"
      ]
     },
     "execution_count": 34,
     "metadata": {},
     "output_type": "execute_result"
    }
   ],
   "source": [
    "colPred1"
   ]
  },
  {
   "cell_type": "code",
   "execution_count": 34,
   "metadata": {},
   "outputs": [],
   "source": [
    "X = rest_cx[colPred]"
   ]
  },
  {
   "cell_type": "code",
   "execution_count": null,
   "metadata": {},
   "outputs": [],
   "source": []
  },
  {
   "cell_type": "code",
   "execution_count": null,
   "metadata": {},
   "outputs": [],
   "source": []
  },
  {
   "cell_type": "code",
   "execution_count": null,
   "metadata": {},
   "outputs": [],
   "source": []
  },
  {
   "cell_type": "code",
   "execution_count": 79,
   "metadata": {},
   "outputs": [
    {
     "data": {
      "text/html": [
       "<div>\n",
       "<style scoped>\n",
       "    .dataframe tbody tr th:only-of-type {\n",
       "        vertical-align: middle;\n",
       "    }\n",
       "\n",
       "    .dataframe tbody tr th {\n",
       "        vertical-align: top;\n",
       "    }\n",
       "\n",
       "    .dataframe thead th {\n",
       "        text-align: right;\n",
       "    }\n",
       "</style>\n",
       "<table border=\"1\" class=\"dataframe\">\n",
       "  <thead>\n",
       "    <tr style=\"text-align: right;\">\n",
       "      <th></th>\n",
       "      <th>Acai Bowls</th>\n",
       "      <th>Active Life</th>\n",
       "      <th>Afghan</th>\n",
       "      <th>African</th>\n",
       "      <th>American (New)</th>\n",
       "      <th>American (Traditional)</th>\n",
       "      <th>Arabian</th>\n",
       "      <th>Arcades</th>\n",
       "      <th>Argentine</th>\n",
       "      <th>Art Galleries</th>\n",
       "      <th>...</th>\n",
       "      <th>Wine &amp; Spirits</th>\n",
       "      <th>Wine Bars</th>\n",
       "      <th>Wineries</th>\n",
       "      <th>Wraps</th>\n",
       "      <th>num_of_categ</th>\n",
       "      <th>price</th>\n",
       "      <th>rest_isna</th>\n",
       "      <th>review_count</th>\n",
       "      <th>st_over_am</th>\n",
       "      <th>stars</th>\n",
       "    </tr>\n",
       "  </thead>\n",
       "  <tbody>\n",
       "  </tbody>\n",
       "</table>\n",
       "<p>0 rows × 214 columns</p>\n",
       "</div>"
      ],
      "text/plain": [
       "Empty DataFrame\n",
       "Columns: [Acai Bowls, Active Life, Afghan, African, American (New), American (Traditional), Arabian, Arcades, Argentine, Art Galleries, Arts & Crafts, Arts & Entertainment, Asian Fusion, Automotive, Bagels, Bakeries, Barbeque, Bars, Beauty & Spas, Bed & Breakfast, Beer, Beer Bar, Beer Garden, Beer Gardens, Belgian, Bistros, Bowling, Brasseries, Brazilian, Breakfast & Brunch, Breweries, Brewpubs, British, Bubble Tea, Buffets, Burgers, Butcher, Cafes, Cafeteria, Cajun/Creole, Cambodian, Canadian (New), Cantonese, Caribbean, Casinos, Caterers, Cheese Shops, Cheesesteaks, Chicken Shop, Chicken Wings, Chinese, Chocolatiers & Shops, Cocktail Bars, Coffee & Tea, Coffee Roasteries, Colombian, Comfort Food, Convenience Stores, Creperies, Cuban, Cupcakes, Custom Cakes, Dance Clubs, Delicatessen, Delis, Desserts, Dim Sum, Diners, Dive Bars, Do-It-Yourself Food, Donairs, Donuts, Education, Ethiopian, Ethnic Food, Event Planning & Services, Falafel, Farmers Market, Fashion, Fast Food, Festivals, Filipino, Fish & Chips, Flowers & Gifts, Fondue, Food, Food Court, Food Delivery Services, Food Stands, Food Trucks, French, Fruits & Veggies, Gas Stations, Gastropubs, Gelato, German, Gluten-Free, Golf, Greek, Grocery, ...]\n",
       "Index: []\n",
       "\n",
       "[0 rows x 214 columns]"
      ]
     },
     "execution_count": 79,
     "metadata": {},
     "output_type": "execute_result"
    }
   ],
   "source": []
  },
  {
   "cell_type": "code",
   "execution_count": 101,
   "metadata": {},
   "outputs": [],
   "source": [
    "clt0 = clust_model_rf['cl_t0'].predict_proba(X)[:,1]"
   ]
  },
  {
   "cell_type": "code",
   "execution_count": 102,
   "metadata": {},
   "outputs": [
    {
     "data": {
      "text/plain": [
       "array([0.67499515, 0.2146956 , 0.71224975, ..., 0.21640103, 0.15179362,\n",
       "       0.42946443])"
      ]
     },
     "execution_count": 102,
     "metadata": {},
     "output_type": "execute_result"
    }
   ],
   "source": [
    "clt0"
   ]
  },
  {
   "cell_type": "code",
   "execution_count": 85,
   "metadata": {},
   "outputs": [],
   "source": [
    "r0 = clust_model_rf['cl_t0']"
   ]
  },
  {
   "cell_type": "markdown",
   "metadata": {},
   "source": [
    "## Restaurants Prediction\n",
    "make 2 dictionary, then 2 dataframe with cluster predictions"
   ]
  },
  {
   "cell_type": "code",
   "execution_count": 35,
   "metadata": {},
   "outputs": [
    {
     "name": "stdout",
     "output_type": "stream",
     "text": [
      "CPU times: user 9.07 s, sys: 629 ms, total: 9.7 s\n",
      "Wall time: 5.27 s\n"
     ]
    }
   ],
   "source": [
    "%%time\n",
    "Y_rf = pd.DataFrame()\n",
    "Y_gr = pd.DataFrame()\n",
    "Y_rf['alias'] = rest_cx['alias']\n",
    "Y_gr['alias'] = rest_cx['alias']\n",
    "for col in colClust_n:\n",
    "    Y_rf[col] = clust_model_rf[col].predict_proba(X)[:,1]\n",
    "    Y_gr[col] = clust_model_gr[col].predict_proba(X)[:,1]\n"
   ]
  },
  {
   "cell_type": "code",
   "execution_count": 36,
   "metadata": {},
   "outputs": [
    {
     "data": {
      "text/html": [
       "<div>\n",
       "<style scoped>\n",
       "    .dataframe tbody tr th:only-of-type {\n",
       "        vertical-align: middle;\n",
       "    }\n",
       "\n",
       "    .dataframe tbody tr th {\n",
       "        vertical-align: top;\n",
       "    }\n",
       "\n",
       "    .dataframe thead th {\n",
       "        text-align: right;\n",
       "    }\n",
       "</style>\n",
       "<table border=\"1\" class=\"dataframe\">\n",
       "  <thead>\n",
       "    <tr style=\"text-align: right;\">\n",
       "      <th></th>\n",
       "      <th>alias</th>\n",
       "      <th>cl_t0</th>\n",
       "      <th>cl_t1</th>\n",
       "      <th>cl_t3</th>\n",
       "      <th>cl_t4</th>\n",
       "      <th>cl_t5</th>\n",
       "      <th>cl_t8</th>\n",
       "      <th>cl_t9</th>\n",
       "    </tr>\n",
       "  </thead>\n",
       "  <tbody>\n",
       "    <tr>\n",
       "      <th>0</th>\n",
       "      <td>maono-seattle</td>\n",
       "      <td>0.013198</td>\n",
       "      <td>0.983233</td>\n",
       "      <td>0.568952</td>\n",
       "      <td>0.125708</td>\n",
       "      <td>0.927498</td>\n",
       "      <td>0.307721</td>\n",
       "      <td>0.138859</td>\n",
       "    </tr>\n",
       "    <tr>\n",
       "      <th>1</th>\n",
       "      <td>ohs-sandwiches-seattle-2</td>\n",
       "      <td>0.003599</td>\n",
       "      <td>0.292209</td>\n",
       "      <td>0.029405</td>\n",
       "      <td>0.000707</td>\n",
       "      <td>0.064002</td>\n",
       "      <td>0.004664</td>\n",
       "      <td>0.005442</td>\n",
       "    </tr>\n",
       "    <tr>\n",
       "      <th>2</th>\n",
       "      <td>marination-ma-kai-seattle</td>\n",
       "      <td>0.007603</td>\n",
       "      <td>0.983881</td>\n",
       "      <td>0.643542</td>\n",
       "      <td>0.064276</td>\n",
       "      <td>0.924078</td>\n",
       "      <td>0.320205</td>\n",
       "      <td>0.064203</td>\n",
       "    </tr>\n",
       "  </tbody>\n",
       "</table>\n",
       "</div>"
      ],
      "text/plain": [
       "                       alias     cl_t0     cl_t1     cl_t3     cl_t4  \\\n",
       "0              maono-seattle  0.013198  0.983233  0.568952  0.125708   \n",
       "1   ohs-sandwiches-seattle-2  0.003599  0.292209  0.029405  0.000707   \n",
       "2  marination-ma-kai-seattle  0.007603  0.983881  0.643542  0.064276   \n",
       "\n",
       "      cl_t5     cl_t8     cl_t9  \n",
       "0  0.927498  0.307721  0.138859  \n",
       "1  0.064002  0.004664  0.005442  \n",
       "2  0.924078  0.320205  0.064203  "
      ]
     },
     "execution_count": 36,
     "metadata": {},
     "output_type": "execute_result"
    }
   ],
   "source": [
    "Y_gr.head(3)"
   ]
  },
  {
   "cell_type": "code",
   "execution_count": 37,
   "metadata": {},
   "outputs": [],
   "source": [
    "Y_gr['rating'] = rest_cx.stars\n",
    "Y_rf['rating'] = rest_cx.stars\n"
   ]
  },
  {
   "cell_type": "code",
   "execution_count": 38,
   "metadata": {},
   "outputs": [
    {
     "data": {
      "text/html": [
       "<div>\n",
       "<style scoped>\n",
       "    .dataframe tbody tr th:only-of-type {\n",
       "        vertical-align: middle;\n",
       "    }\n",
       "\n",
       "    .dataframe tbody tr th {\n",
       "        vertical-align: top;\n",
       "    }\n",
       "\n",
       "    .dataframe thead th {\n",
       "        text-align: right;\n",
       "    }\n",
       "</style>\n",
       "<table border=\"1\" class=\"dataframe\">\n",
       "  <thead>\n",
       "    <tr style=\"text-align: right;\">\n",
       "      <th></th>\n",
       "      <th>Unnamed: 0</th>\n",
       "      <th>user_id</th>\n",
       "      <th>user_cl</th>\n",
       "    </tr>\n",
       "  </thead>\n",
       "  <tbody>\n",
       "    <tr>\n",
       "      <th>0</th>\n",
       "      <td>0</td>\n",
       "      <td>SqPqSd7ql_UD5cYxRg_prA</td>\n",
       "      <td>8</td>\n",
       "    </tr>\n",
       "    <tr>\n",
       "      <th>1</th>\n",
       "      <td>1</td>\n",
       "      <td>zriuvFjGFSjvER9OgFJCew</td>\n",
       "      <td>6</td>\n",
       "    </tr>\n",
       "    <tr>\n",
       "      <th>2</th>\n",
       "      <td>2</td>\n",
       "      <td>havBggvuzfE6IPfkT-njbg</td>\n",
       "      <td>1</td>\n",
       "    </tr>\n",
       "    <tr>\n",
       "      <th>3</th>\n",
       "      <td>3</td>\n",
       "      <td>Y5b286tescycns--SAZ-yg</td>\n",
       "      <td>6</td>\n",
       "    </tr>\n",
       "    <tr>\n",
       "      <th>4</th>\n",
       "      <td>4</td>\n",
       "      <td>zxn9ZlFJKTTddjF6Du7rRA</td>\n",
       "      <td>0</td>\n",
       "    </tr>\n",
       "  </tbody>\n",
       "</table>\n",
       "</div>"
      ],
      "text/plain": [
       "   Unnamed: 0                 user_id  user_cl\n",
       "0           0  SqPqSd7ql_UD5cYxRg_prA        8\n",
       "1           1  zriuvFjGFSjvER9OgFJCew        6\n",
       "2           2  havBggvuzfE6IPfkT-njbg        1\n",
       "3           3  Y5b286tescycns--SAZ-yg        6\n",
       "4           4  zxn9ZlFJKTTddjF6Du7rRA        0"
      ]
     },
     "execution_count": 38,
     "metadata": {},
     "output_type": "execute_result"
    }
   ],
   "source": [
    "user_cl.head()"
   ]
  },
  {
   "cell_type": "code",
   "execution_count": 40,
   "metadata": {},
   "outputs": [
    {
     "data": {
      "text/plain": [
       "((385, 3), Index(['Unnamed: 0', 'user_id', 'user_cl'], dtype='object'))"
      ]
     },
     "execution_count": 40,
     "metadata": {},
     "output_type": "execute_result"
    }
   ],
   "source": [
    "user_cl.shape, user_cl.columns\n"
   ]
  },
  {
   "cell_type": "code",
   "execution_count": 39,
   "metadata": {},
   "outputs": [],
   "source": [
    "for col in colClust_n:\n",
    "    i = int(col[4:])\n",
    "    u_col = 'u'+col\n",
    "    user_cl[u_col] = (user_cl['user_cl']==i)\n",
    " "
   ]
  },
  {
   "cell_type": "code",
   "execution_count": 40,
   "metadata": {},
   "outputs": [
    {
     "data": {
      "text/html": [
       "<div>\n",
       "<style scoped>\n",
       "    .dataframe tbody tr th:only-of-type {\n",
       "        vertical-align: middle;\n",
       "    }\n",
       "\n",
       "    .dataframe tbody tr th {\n",
       "        vertical-align: top;\n",
       "    }\n",
       "\n",
       "    .dataframe thead th {\n",
       "        text-align: right;\n",
       "    }\n",
       "</style>\n",
       "<table border=\"1\" class=\"dataframe\">\n",
       "  <thead>\n",
       "    <tr style=\"text-align: right;\">\n",
       "      <th></th>\n",
       "      <th>Unnamed: 0</th>\n",
       "      <th>user_id</th>\n",
       "      <th>user_cl</th>\n",
       "      <th>ucl_t0</th>\n",
       "      <th>ucl_t1</th>\n",
       "      <th>ucl_t3</th>\n",
       "      <th>ucl_t4</th>\n",
       "      <th>ucl_t5</th>\n",
       "      <th>ucl_t8</th>\n",
       "      <th>ucl_t9</th>\n",
       "    </tr>\n",
       "  </thead>\n",
       "  <tbody>\n",
       "    <tr>\n",
       "      <th>0</th>\n",
       "      <td>0</td>\n",
       "      <td>SqPqSd7ql_UD5cYxRg_prA</td>\n",
       "      <td>8</td>\n",
       "      <td>False</td>\n",
       "      <td>False</td>\n",
       "      <td>False</td>\n",
       "      <td>False</td>\n",
       "      <td>False</td>\n",
       "      <td>True</td>\n",
       "      <td>False</td>\n",
       "    </tr>\n",
       "    <tr>\n",
       "      <th>1</th>\n",
       "      <td>1</td>\n",
       "      <td>zriuvFjGFSjvER9OgFJCew</td>\n",
       "      <td>6</td>\n",
       "      <td>False</td>\n",
       "      <td>False</td>\n",
       "      <td>False</td>\n",
       "      <td>False</td>\n",
       "      <td>False</td>\n",
       "      <td>False</td>\n",
       "      <td>False</td>\n",
       "    </tr>\n",
       "    <tr>\n",
       "      <th>2</th>\n",
       "      <td>2</td>\n",
       "      <td>havBggvuzfE6IPfkT-njbg</td>\n",
       "      <td>1</td>\n",
       "      <td>False</td>\n",
       "      <td>True</td>\n",
       "      <td>False</td>\n",
       "      <td>False</td>\n",
       "      <td>False</td>\n",
       "      <td>False</td>\n",
       "      <td>False</td>\n",
       "    </tr>\n",
       "    <tr>\n",
       "      <th>3</th>\n",
       "      <td>3</td>\n",
       "      <td>Y5b286tescycns--SAZ-yg</td>\n",
       "      <td>6</td>\n",
       "      <td>False</td>\n",
       "      <td>False</td>\n",
       "      <td>False</td>\n",
       "      <td>False</td>\n",
       "      <td>False</td>\n",
       "      <td>False</td>\n",
       "      <td>False</td>\n",
       "    </tr>\n",
       "    <tr>\n",
       "      <th>4</th>\n",
       "      <td>4</td>\n",
       "      <td>zxn9ZlFJKTTddjF6Du7rRA</td>\n",
       "      <td>0</td>\n",
       "      <td>True</td>\n",
       "      <td>False</td>\n",
       "      <td>False</td>\n",
       "      <td>False</td>\n",
       "      <td>False</td>\n",
       "      <td>False</td>\n",
       "      <td>False</td>\n",
       "    </tr>\n",
       "  </tbody>\n",
       "</table>\n",
       "</div>"
      ],
      "text/plain": [
       "   Unnamed: 0                 user_id  user_cl  ucl_t0  ucl_t1  ucl_t3  \\\n",
       "0           0  SqPqSd7ql_UD5cYxRg_prA        8   False   False   False   \n",
       "1           1  zriuvFjGFSjvER9OgFJCew        6   False   False   False   \n",
       "2           2  havBggvuzfE6IPfkT-njbg        1   False    True   False   \n",
       "3           3  Y5b286tescycns--SAZ-yg        6   False   False   False   \n",
       "4           4  zxn9ZlFJKTTddjF6Du7rRA        0    True   False   False   \n",
       "\n",
       "   ucl_t4  ucl_t5  ucl_t8  ucl_t9  \n",
       "0   False   False    True   False  \n",
       "1   False   False   False   False  \n",
       "2   False   False   False   False  \n",
       "3   False   False   False   False  \n",
       "4   False   False   False   False  "
      ]
     },
     "execution_count": 40,
     "metadata": {},
     "output_type": "execute_result"
    }
   ],
   "source": [
    "user_cl.head()"
   ]
  },
  {
   "cell_type": "code",
   "execution_count": 41,
   "metadata": {},
   "outputs": [
    {
     "data": {
      "text/html": [
       "<div>\n",
       "<style scoped>\n",
       "    .dataframe tbody tr th:only-of-type {\n",
       "        vertical-align: middle;\n",
       "    }\n",
       "\n",
       "    .dataframe tbody tr th {\n",
       "        vertical-align: top;\n",
       "    }\n",
       "\n",
       "    .dataframe thead th {\n",
       "        text-align: right;\n",
       "    }\n",
       "</style>\n",
       "<table border=\"1\" class=\"dataframe\">\n",
       "  <thead>\n",
       "    <tr style=\"text-align: right;\">\n",
       "      <th></th>\n",
       "      <th>ucl_t0</th>\n",
       "      <th>ucl_t1</th>\n",
       "      <th>ucl_t3</th>\n",
       "      <th>ucl_t4</th>\n",
       "      <th>ucl_t5</th>\n",
       "      <th>ucl_t8</th>\n",
       "      <th>ucl_t9</th>\n",
       "    </tr>\n",
       "    <tr>\n",
       "      <th>user_id</th>\n",
       "      <th></th>\n",
       "      <th></th>\n",
       "      <th></th>\n",
       "      <th></th>\n",
       "      <th></th>\n",
       "      <th></th>\n",
       "      <th></th>\n",
       "    </tr>\n",
       "  </thead>\n",
       "  <tbody>\n",
       "    <tr>\n",
       "      <th>-KlnVOvjklQn5OpTbxFGzA</th>\n",
       "      <td>False</td>\n",
       "      <td>True</td>\n",
       "      <td>False</td>\n",
       "      <td>False</td>\n",
       "      <td>False</td>\n",
       "      <td>False</td>\n",
       "      <td>False</td>\n",
       "    </tr>\n",
       "    <tr>\n",
       "      <th>-Yb1srF4RYtpn-6Yp8ojRg</th>\n",
       "      <td>True</td>\n",
       "      <td>True</td>\n",
       "      <td>True</td>\n",
       "      <td>False</td>\n",
       "      <td>False</td>\n",
       "      <td>False</td>\n",
       "      <td>True</td>\n",
       "    </tr>\n",
       "    <tr>\n",
       "      <th>1SVDSLiWxbWmBjenfDQkbA</th>\n",
       "      <td>False</td>\n",
       "      <td>True</td>\n",
       "      <td>False</td>\n",
       "      <td>False</td>\n",
       "      <td>True</td>\n",
       "      <td>False</td>\n",
       "      <td>False</td>\n",
       "    </tr>\n",
       "    <tr>\n",
       "      <th>1Vq3xObhRXBU8gnPIN9jsQ</th>\n",
       "      <td>False</td>\n",
       "      <td>True</td>\n",
       "      <td>False</td>\n",
       "      <td>False</td>\n",
       "      <td>False</td>\n",
       "      <td>False</td>\n",
       "      <td>False</td>\n",
       "    </tr>\n",
       "    <tr>\n",
       "      <th>2wdhN8Y2EJRswvkduFxnOQ</th>\n",
       "      <td>False</td>\n",
       "      <td>True</td>\n",
       "      <td>False</td>\n",
       "      <td>False</td>\n",
       "      <td>False</td>\n",
       "      <td>True</td>\n",
       "      <td>False</td>\n",
       "    </tr>\n",
       "  </tbody>\n",
       "</table>\n",
       "</div>"
      ],
      "text/plain": [
       "                        ucl_t0  ucl_t1  ucl_t3  ucl_t4  ucl_t5  ucl_t8  ucl_t9\n",
       "user_id                                                                       \n",
       "-KlnVOvjklQn5OpTbxFGzA   False    True   False   False   False   False   False\n",
       "-Yb1srF4RYtpn-6Yp8ojRg    True    True    True   False   False   False    True\n",
       "1SVDSLiWxbWmBjenfDQkbA   False    True   False   False    True   False   False\n",
       "1Vq3xObhRXBU8gnPIN9jsQ   False    True   False   False   False   False   False\n",
       "2wdhN8Y2EJRswvkduFxnOQ   False    True   False   False   False    True   False"
      ]
     },
     "execution_count": 41,
     "metadata": {},
     "output_type": "execute_result"
    }
   ],
   "source": [
    "   \n",
    "user_cl_n = user_cl.drop(columns=['Unnamed: 0','user_cl'])\n",
    "user_cl_n = user_cl_n.groupby('user_id').sum()\n",
    "user_cl_n.head()"
   ]
  },
  {
   "cell_type": "code",
   "execution_count": 44,
   "metadata": {},
   "outputs": [
    {
     "data": {
      "text/plain": [
       "(99, 16)"
      ]
     },
     "execution_count": 44,
     "metadata": {},
     "output_type": "execute_result"
    }
   ],
   "source": [
    "user_cl_n.shape"
   ]
  },
  {
   "cell_type": "code",
   "execution_count": null,
   "metadata": {},
   "outputs": [],
   "source": []
  },
  {
   "cell_type": "code",
   "execution_count": null,
   "metadata": {},
   "outputs": [],
   "source": []
  },
  {
   "cell_type": "code",
   "execution_count": 42,
   "metadata": {},
   "outputs": [
    {
     "data": {
      "text/html": [
       "<div>\n",
       "<style scoped>\n",
       "    .dataframe tbody tr th:only-of-type {\n",
       "        vertical-align: middle;\n",
       "    }\n",
       "\n",
       "    .dataframe tbody tr th {\n",
       "        vertical-align: top;\n",
       "    }\n",
       "\n",
       "    .dataframe thead th {\n",
       "        text-align: right;\n",
       "    }\n",
       "</style>\n",
       "<table border=\"1\" class=\"dataframe\">\n",
       "  <thead>\n",
       "    <tr style=\"text-align: right;\">\n",
       "      <th></th>\n",
       "      <th>alias</th>\n",
       "      <th>biz_id</th>\n",
       "      <th>id</th>\n",
       "      <th>rating</th>\n",
       "      <th>text</th>\n",
       "      <th>user_id</th>\n",
       "    </tr>\n",
       "  </thead>\n",
       "  <tbody>\n",
       "    <tr>\n",
       "      <th>0</th>\n",
       "      <td>srivilai-thai-cuisine-seattle</td>\n",
       "      <td>NaN</td>\n",
       "      <td>ErsYo_9v8--feFCy92tymQ</td>\n",
       "      <td>5.0</td>\n",
       "      <td>Fantastic Thai food with warm service. Authent...</td>\n",
       "      <td>_3KTfz0hcPl_yq4jOyOPiA</td>\n",
       "    </tr>\n",
       "    <tr>\n",
       "      <th>1</th>\n",
       "      <td>ohs-sandwiches-seattle-2</td>\n",
       "      <td>NaN</td>\n",
       "      <td>W1NnSItt-SwWHrzkRtZ44g</td>\n",
       "      <td>5.0</td>\n",
       "      <td>Fantastic Vietnamese sandwich: great flavors a...</td>\n",
       "      <td>_3KTfz0hcPl_yq4jOyOPiA</td>\n",
       "    </tr>\n",
       "    <tr>\n",
       "      <th>2</th>\n",
       "      <td>saison-san-francisco-2</td>\n",
       "      <td>NaN</td>\n",
       "      <td>3Q5uzROHYl1i2B_t2sIl7w</td>\n",
       "      <td>3.0</td>\n",
       "      <td>A fine dining restaurant that is in the midst ...</td>\n",
       "      <td>_3KTfz0hcPl_yq4jOyOPiA</td>\n",
       "    </tr>\n",
       "    <tr>\n",
       "      <th>3</th>\n",
       "      <td>international-smoke-san-francisco-2</td>\n",
       "      <td>NaN</td>\n",
       "      <td>-GYe-Aq7NcNJ3u-U6fmwMg</td>\n",
       "      <td>5.0</td>\n",
       "      <td>Great restaurant with an interesting mix of in...</td>\n",
       "      <td>_3KTfz0hcPl_yq4jOyOPiA</td>\n",
       "    </tr>\n",
       "    <tr>\n",
       "      <th>4</th>\n",
       "      <td>supercuts-san-francisco</td>\n",
       "      <td>NaN</td>\n",
       "      <td>pPlsW81ntC2qbF0QOe6pLQ</td>\n",
       "      <td>5.0</td>\n",
       "      <td>We always have a good experience here with Ani...</td>\n",
       "      <td>_3KTfz0hcPl_yq4jOyOPiA</td>\n",
       "    </tr>\n",
       "  </tbody>\n",
       "</table>\n",
       "</div>"
      ],
      "text/plain": [
       "                                 alias biz_id                      id rating  \\\n",
       "0        srivilai-thai-cuisine-seattle    NaN  ErsYo_9v8--feFCy92tymQ    5.0   \n",
       "1             ohs-sandwiches-seattle-2    NaN  W1NnSItt-SwWHrzkRtZ44g    5.0   \n",
       "2               saison-san-francisco-2    NaN  3Q5uzROHYl1i2B_t2sIl7w    3.0   \n",
       "3  international-smoke-san-francisco-2    NaN  -GYe-Aq7NcNJ3u-U6fmwMg    5.0   \n",
       "4              supercuts-san-francisco    NaN  pPlsW81ntC2qbF0QOe6pLQ    5.0   \n",
       "\n",
       "                                                text                 user_id  \n",
       "0  Fantastic Thai food with warm service. Authent...  _3KTfz0hcPl_yq4jOyOPiA  \n",
       "1  Fantastic Vietnamese sandwich: great flavors a...  _3KTfz0hcPl_yq4jOyOPiA  \n",
       "2  A fine dining restaurant that is in the midst ...  _3KTfz0hcPl_yq4jOyOPiA  \n",
       "3  Great restaurant with an interesting mix of in...  _3KTfz0hcPl_yq4jOyOPiA  \n",
       "4  We always have a good experience here with Ani...  _3KTfz0hcPl_yq4jOyOPiA  "
      ]
     },
     "execution_count": 42,
     "metadata": {},
     "output_type": "execute_result"
    }
   ],
   "source": [
    "revs_df.head()"
   ]
  },
  {
   "cell_type": "code",
   "execution_count": 43,
   "metadata": {},
   "outputs": [],
   "source": [
    "rev_user = revs_df.join(user_cl_n, on = 'user_id', how = 'right')"
   ]
  },
  {
   "cell_type": "code",
   "execution_count": 44,
   "metadata": {},
   "outputs": [
    {
     "data": {
      "text/plain": [
       "(12563, 13)"
      ]
     },
     "execution_count": 44,
     "metadata": {},
     "output_type": "execute_result"
    }
   ],
   "source": [
    "rev_user.shape"
   ]
  },
  {
   "cell_type": "code",
   "execution_count": 48,
   "metadata": {},
   "outputs": [],
   "source": [
    "rr = np.unique(rev_user.alias)\n",
    "with open('new_r', 'wb') as f:\n",
    "    pickle.dump(rr,f)"
   ]
  },
  {
   "cell_type": "code",
   "execution_count": 45,
   "metadata": {},
   "outputs": [],
   "source": [
    "rev_user_biz_gr = rev_user.merge(Y_gr, on = 'alias')"
   ]
  },
  {
   "cell_type": "code",
   "execution_count": 46,
   "metadata": {},
   "outputs": [],
   "source": [
    "rev_user_biz_rf = rev_user.merge(Y_rf, on = 'alias')"
   ]
  },
  {
   "cell_type": "code",
   "execution_count": 47,
   "metadata": {},
   "outputs": [
    {
     "data": {
      "text/plain": [
       "(4448, 21)"
      ]
     },
     "execution_count": 47,
     "metadata": {},
     "output_type": "execute_result"
    }
   ],
   "source": [
    "rev_user_biz_gr.shape"
   ]
  },
  {
   "cell_type": "code",
   "execution_count": 48,
   "metadata": {},
   "outputs": [
    {
     "data": {
      "text/html": [
       "<div>\n",
       "<style scoped>\n",
       "    .dataframe tbody tr th:only-of-type {\n",
       "        vertical-align: middle;\n",
       "    }\n",
       "\n",
       "    .dataframe tbody tr th {\n",
       "        vertical-align: top;\n",
       "    }\n",
       "\n",
       "    .dataframe thead th {\n",
       "        text-align: right;\n",
       "    }\n",
       "</style>\n",
       "<table border=\"1\" class=\"dataframe\">\n",
       "  <thead>\n",
       "    <tr style=\"text-align: right;\">\n",
       "      <th></th>\n",
       "      <th>alias</th>\n",
       "      <th>biz_id</th>\n",
       "      <th>id</th>\n",
       "      <th>rating_x</th>\n",
       "      <th>text</th>\n",
       "      <th>user_id</th>\n",
       "      <th>ucl_t0</th>\n",
       "      <th>ucl_t1</th>\n",
       "      <th>ucl_t3</th>\n",
       "      <th>ucl_t4</th>\n",
       "      <th>...</th>\n",
       "      <th>ucl_t8</th>\n",
       "      <th>ucl_t9</th>\n",
       "      <th>cl_t0</th>\n",
       "      <th>cl_t1</th>\n",
       "      <th>cl_t3</th>\n",
       "      <th>cl_t4</th>\n",
       "      <th>cl_t5</th>\n",
       "      <th>cl_t8</th>\n",
       "      <th>cl_t9</th>\n",
       "      <th>rating_y</th>\n",
       "    </tr>\n",
       "  </thead>\n",
       "  <tbody>\n",
       "    <tr>\n",
       "      <th>0</th>\n",
       "      <td>srivilai-thai-cuisine-seattle</td>\n",
       "      <td>NaN</td>\n",
       "      <td>ErsYo_9v8--feFCy92tymQ</td>\n",
       "      <td>5.0</td>\n",
       "      <td>Fantastic Thai food with warm service. Authent...</td>\n",
       "      <td>_3KTfz0hcPl_yq4jOyOPiA</td>\n",
       "      <td>False</td>\n",
       "      <td>True</td>\n",
       "      <td>False</td>\n",
       "      <td>False</td>\n",
       "      <td>...</td>\n",
       "      <td>False</td>\n",
       "      <td>False</td>\n",
       "      <td>0.002571</td>\n",
       "      <td>0.959184</td>\n",
       "      <td>0.120192</td>\n",
       "      <td>0.005282</td>\n",
       "      <td>0.497195</td>\n",
       "      <td>0.029079</td>\n",
       "      <td>0.013973</td>\n",
       "      <td>4.5</td>\n",
       "    </tr>\n",
       "    <tr>\n",
       "      <th>1</th>\n",
       "      <td>srivilai-thai-cuisine-seattle</td>\n",
       "      <td>iJjKL0KxMZJCb8MmAsERvA</td>\n",
       "      <td>_oJOAI1Agf5uSbQrT6gS0A</td>\n",
       "      <td>5.0</td>\n",
       "      <td>Today is my 3rd visit and I'm pleased.  The di...</td>\n",
       "      <td>iJjKL0KxMZJCb8MmAsERvA</td>\n",
       "      <td>False</td>\n",
       "      <td>True</td>\n",
       "      <td>False</td>\n",
       "      <td>False</td>\n",
       "      <td>...</td>\n",
       "      <td>False</td>\n",
       "      <td>True</td>\n",
       "      <td>0.002571</td>\n",
       "      <td>0.959184</td>\n",
       "      <td>0.120192</td>\n",
       "      <td>0.005282</td>\n",
       "      <td>0.497195</td>\n",
       "      <td>0.029079</td>\n",
       "      <td>0.013973</td>\n",
       "      <td>4.5</td>\n",
       "    </tr>\n",
       "    <tr>\n",
       "      <th>2</th>\n",
       "      <td>srivilai-thai-cuisine-seattle</td>\n",
       "      <td>3DLg6FHxYaueFO-47can0w</td>\n",
       "      <td>OaaR9v40Id6czlxw6vicTg</td>\n",
       "      <td>4.0</td>\n",
       "      <td>My boyfriend and I came here last week to cele...</td>\n",
       "      <td>3DLg6FHxYaueFO-47can0w</td>\n",
       "      <td>False</td>\n",
       "      <td>True</td>\n",
       "      <td>False</td>\n",
       "      <td>False</td>\n",
       "      <td>...</td>\n",
       "      <td>False</td>\n",
       "      <td>False</td>\n",
       "      <td>0.002571</td>\n",
       "      <td>0.959184</td>\n",
       "      <td>0.120192</td>\n",
       "      <td>0.005282</td>\n",
       "      <td>0.497195</td>\n",
       "      <td>0.029079</td>\n",
       "      <td>0.013973</td>\n",
       "      <td>4.5</td>\n",
       "    </tr>\n",
       "  </tbody>\n",
       "</table>\n",
       "<p>3 rows × 21 columns</p>\n",
       "</div>"
      ],
      "text/plain": [
       "                           alias                  biz_id  \\\n",
       "0  srivilai-thai-cuisine-seattle                     NaN   \n",
       "1  srivilai-thai-cuisine-seattle  iJjKL0KxMZJCb8MmAsERvA   \n",
       "2  srivilai-thai-cuisine-seattle  3DLg6FHxYaueFO-47can0w   \n",
       "\n",
       "                       id rating_x  \\\n",
       "0  ErsYo_9v8--feFCy92tymQ      5.0   \n",
       "1  _oJOAI1Agf5uSbQrT6gS0A      5.0   \n",
       "2  OaaR9v40Id6czlxw6vicTg      4.0   \n",
       "\n",
       "                                                text                 user_id  \\\n",
       "0  Fantastic Thai food with warm service. Authent...  _3KTfz0hcPl_yq4jOyOPiA   \n",
       "1  Today is my 3rd visit and I'm pleased.  The di...  iJjKL0KxMZJCb8MmAsERvA   \n",
       "2  My boyfriend and I came here last week to cele...  3DLg6FHxYaueFO-47can0w   \n",
       "\n",
       "   ucl_t0  ucl_t1  ucl_t3  ucl_t4    ...     ucl_t8  ucl_t9     cl_t0  \\\n",
       "0   False    True   False   False    ...      False   False  0.002571   \n",
       "1   False    True   False   False    ...      False    True  0.002571   \n",
       "2   False    True   False   False    ...      False   False  0.002571   \n",
       "\n",
       "      cl_t1     cl_t3     cl_t4     cl_t5     cl_t8     cl_t9  rating_y  \n",
       "0  0.959184  0.120192  0.005282  0.497195  0.029079  0.013973       4.5  \n",
       "1  0.959184  0.120192  0.005282  0.497195  0.029079  0.013973       4.5  \n",
       "2  0.959184  0.120192  0.005282  0.497195  0.029079  0.013973       4.5  \n",
       "\n",
       "[3 rows x 21 columns]"
      ]
     },
     "execution_count": 48,
     "metadata": {},
     "output_type": "execute_result"
    }
   ],
   "source": [
    "rev_user_biz_gr.head(3)"
   ]
  },
  {
   "cell_type": "code",
   "execution_count": 49,
   "metadata": {},
   "outputs": [],
   "source": [
    "with open('thres_1072_gr', 'rb') as f:\n",
    "    th_gr72 = pickle.load(f)\n",
    "with open('thres_1072_rf','rb') as f:\n",
    "    th_rf72 = pickle.load(f )"
   ]
  },
  {
   "cell_type": "code",
   "execution_count": 50,
   "metadata": {},
   "outputs": [],
   "source": [
    "with open('thres_1035_gr', 'rb') as f:\n",
    "    th_gr35 = pickle.load(f)\n",
    "with open('thres_1035_rf','rb') as f:\n",
    "    th_rf35 = pickle.load(f )"
   ]
  },
  {
   "cell_type": "code",
   "execution_count": 51,
   "metadata": {},
   "outputs": [],
   "source": [
    "def predict_rating(row, colClust_n, thres):\n",
    "    r = False\n",
    "    for col in colClust_n:\n",
    "        u_col = 'u'+col\n",
    "        if row[u_col] and row[col] >= thres[col]:\n",
    "            r = True\n",
    "    return r"
   ]
  },
  {
   "cell_type": "code",
   "execution_count": 52,
   "metadata": {},
   "outputs": [],
   "source": [
    "pred_gr = rev_user_biz_gr.apply(predict_rating, axis=1, args = (colClust_n, th_gr35))"
   ]
  },
  {
   "cell_type": "code",
   "execution_count": 53,
   "metadata": {},
   "outputs": [],
   "source": [
    "pred_rf = rev_user_biz_rf.apply(predict_rating, axis=1, args = (colClust_n, th_rf35))"
   ]
  },
  {
   "cell_type": "code",
   "execution_count": 54,
   "metadata": {},
   "outputs": [],
   "source": [
    "act = (rev_user_biz_gr['rating_x'].astype(float) <3)\n",
    "act_plus = (rev_user_biz_gr['rating_x'].astype(float) <4)"
   ]
  },
  {
   "cell_type": "code",
   "execution_count": 55,
   "metadata": {},
   "outputs": [],
   "source": [
    "base35 = (rev_user_biz_gr['rating_y'].astype(float) <3.5)\n",
    "base4 = (rev_user_biz_gr['rating_y'].astype(float) <4)\n",
    "base45 = (rev_user_biz_gr['rating_y'].astype(float) <4.5)\n",
    "base5 = (rev_user_biz_gr['rating_y'].astype(float) <5)\n"
   ]
  },
  {
   "cell_type": "code",
   "execution_count": 56,
   "metadata": {},
   "outputs": [
    {
     "data": {
      "text/plain": [
       "(0.596252129471891, 0.6827787769784173, 0.22965879265091863)"
      ]
     },
     "execution_count": 56,
     "metadata": {},
     "output_type": "execute_result"
    }
   ],
   "source": [
    "recall_score(act, base4), accuracy_score(act, base4), precision_score(act, base4)"
   ]
  },
  {
   "cell_type": "code",
   "execution_count": 57,
   "metadata": {},
   "outputs": [
    {
     "data": {
      "text/plain": [
       "(0.25383304940374785, 0.8620102214650767, 0.7206132879045997)"
      ]
     },
     "execution_count": 57,
     "metadata": {},
     "output_type": "execute_result"
    }
   ],
   "source": [
    "recall_score(act, base35), recall_score(act, pred_gr), recall_score(act, pred_rf)"
   ]
  },
  {
   "cell_type": "code",
   "execution_count": 58,
   "metadata": {},
   "outputs": [
    {
     "data": {
      "text/plain": [
       "(0.8235161870503597, 0.3356564748201439, 0.4435701438848921)"
      ]
     },
     "execution_count": 58,
     "metadata": {},
     "output_type": "execute_result"
    }
   ],
   "source": [
    "accuracy_score(act, base35), accuracy_score(act, pred_gr), accuracy_score(act, pred_rf)"
   ]
  },
  {
   "cell_type": "code",
   "execution_count": 59,
   "metadata": {},
   "outputs": [
    {
     "data": {
      "text/plain": [
       "(0.3004032258064516, 0.14970414201183432, 0.1547183613752743)"
      ]
     },
     "execution_count": 59,
     "metadata": {},
     "output_type": "execute_result"
    }
   ],
   "source": [
    "precision_score(act, base35), precision_score(act, pred_gr), precision_score(act, pred_rf)"
   ]
  },
  {
   "cell_type": "code",
   "execution_count": 60,
   "metadata": {},
   "outputs": [],
   "source": [
    "from sklearn.metrics import confusion_matrix"
   ]
  },
  {
   "cell_type": "code",
   "execution_count": 61,
   "metadata": {},
   "outputs": [
    {
     "data": {
      "text/plain": [
       "array([[3514,  347],\n",
       "       [ 438,  149]])"
      ]
     },
     "execution_count": 61,
     "metadata": {},
     "output_type": "execute_result"
    }
   ],
   "source": [
    "confusion_matrix(act, base35)"
   ]
  },
  {
   "cell_type": "code",
   "execution_count": 62,
   "metadata": {},
   "outputs": [
    {
     "data": {
      "text/plain": [
       "array([[2687, 1174],\n",
       "       [ 237,  350]])"
      ]
     },
     "execution_count": 62,
     "metadata": {},
     "output_type": "execute_result"
    }
   ],
   "source": [
    "confusion_matrix(act, base4)"
   ]
  },
  {
   "cell_type": "code",
   "execution_count": 63,
   "metadata": {},
   "outputs": [
    {
     "data": {
      "text/plain": [
       "array([[ 980, 2881],\n",
       "       [  40,  547]])"
      ]
     },
     "execution_count": 63,
     "metadata": {},
     "output_type": "execute_result"
    }
   ],
   "source": [
    "confusion_matrix(act, base45)"
   ]
  },
  {
   "cell_type": "code",
   "execution_count": 64,
   "metadata": {},
   "outputs": [
    {
     "data": {
      "text/plain": [
       "array([[ 987, 2874],\n",
       "       [  81,  506]])"
      ]
     },
     "execution_count": 64,
     "metadata": {},
     "output_type": "execute_result"
    }
   ],
   "source": [
    "confusion_matrix(act, pred_gr)"
   ]
  },
  {
   "cell_type": "code",
   "execution_count": 65,
   "metadata": {},
   "outputs": [
    {
     "data": {
      "text/plain": [
       "array([[1550, 2311],\n",
       "       [ 164,  423]])"
      ]
     },
     "execution_count": 65,
     "metadata": {},
     "output_type": "execute_result"
    }
   ],
   "source": [
    "confusion_matrix(act, pred_rf)"
   ]
  },
  {
   "cell_type": "code",
   "execution_count": 66,
   "metadata": {},
   "outputs": [
    {
     "data": {
      "text/plain": [
       "array([[1325, 1711],\n",
       "       [ 389, 1023]])"
      ]
     },
     "execution_count": 66,
     "metadata": {},
     "output_type": "execute_result"
    }
   ],
   "source": [
    "confusion_matrix(act_plus, pred_rf)"
   ]
  },
  {
   "cell_type": "code",
   "execution_count": 67,
   "metadata": {},
   "outputs": [
    {
     "data": {
      "text/plain": [
       "array([[2214,  822],\n",
       "       [ 710,  702]])"
      ]
     },
     "execution_count": 67,
     "metadata": {},
     "output_type": "execute_result"
    }
   ],
   "source": [
    "confusion_matrix(act_plus, base4)"
   ]
  },
  {
   "cell_type": "markdown",
   "metadata": {},
   "source": [
    "### Summary after validation on real data"
   ]
  },
  {
   "cell_type": "markdown",
   "metadata": {},
   "source": [
    "Random Forest models catch bad restaraunts better than base 35, base4, \n",
    "and in same time missed less really good restaraunts than base 4\n",
    "    \n",
    "With thresholds corresponding true positive rate 35 "
   ]
  },
  {
   "cell_type": "code",
   "execution_count": 238,
   "metadata": {},
   "outputs": [
    {
     "data": {
      "text/plain": [
       "(3.778758620689655, 1.1139002849742248)"
      ]
     },
     "execution_count": 238,
     "metadata": {},
     "output_type": "execute_result"
    }
   ],
   "source": [
    "rev_user_biz_gr['rating_x'].astype(float).mean(), rev_user_biz_gr['rating_x'].astype(float).std()"
   ]
  },
  {
   "cell_type": "code",
   "execution_count": 279,
   "metadata": {},
   "outputs": [
    {
     "data": {
      "text/plain": [
       "array([[False, False, False],\n",
       "       [False, False, False],\n",
       "       [False, False, False],\n",
       "       [False, False, False]])"
      ]
     },
     "execution_count": 279,
     "metadata": {},
     "output_type": "execute_result"
    }
   ],
   "source": []
  },
  {
   "cell_type": "code",
   "execution_count": 259,
   "metadata": {},
   "outputs": [],
   "source": [
    "i = np.random.choice(np.array([0, 1,2]), (4,3))"
   ]
  },
  {
   "cell_type": "code",
   "execution_count": 260,
   "metadata": {},
   "outputs": [],
   "source": [
    "a = np.array([True, False, True])"
   ]
  },
  {
   "cell_type": "code",
   "execution_count": 261,
   "metadata": {},
   "outputs": [
    {
     "data": {
      "text/plain": [
       "array([[ True,  True, False],\n",
       "       [ True,  True, False],\n",
       "       [ True, False,  True],\n",
       "       [ True,  True, False]])"
      ]
     },
     "execution_count": 261,
     "metadata": {},
     "output_type": "execute_result"
    }
   ],
   "source": [
    "a[i]"
   ]
  },
  {
   "cell_type": "markdown",
   "metadata": {},
   "source": [
    "### Have to calculate that result is not random"
   ]
  },
  {
   "cell_type": "markdown",
   "metadata": {},
   "source": [
    "??? bootstrap"
   ]
  },
  {
   "cell_type": "code",
   "execution_count": 68,
   "metadata": {},
   "outputs": [],
   "source": [
    "from numpy import sqrt\n",
    "import scipy.stats as scs\n",
    "\n",
    "\n",
    "def z_test(ctr_old, ctr_new, nobs_old, nobs_new,\n",
    "           effect_size=0., two_tailed=True, alpha=.05):\n",
    "    \"\"\"Perform z-test to compare two proprtions (e.g., click through rates (ctr)).\n",
    "\n",
    "        Note: if you set two_tailed=False, z_test assumes H_A is that the effect is\n",
    "        non-negative, so the p-value is computed based on the weight in the upper tail.\n",
    "\n",
    "        Arguments:\n",
    "            ctr_old (float):    baseline proportion (ctr)\n",
    "            ctr_new (float):    new proportion\n",
    "            nobs_old (int):     number of observations in baseline sample\n",
    "            nobs_new (int):     number of observations in new sample\n",
    "            effect_size (float):    size of effect\n",
    "            two_tailed (bool):  True to use two-tailed test; False to use one-sided test\n",
    "                                where alternative hypothesis if that effect_size is non-negative\n",
    "            alpha (float):      significance level\n",
    "\n",
    "        Returns:\n",
    "            z-score, p-value, and whether to reject the null hypothesis\n",
    "    \"\"\"\n",
    "    conversion = (ctr_old * nobs_old + ctr_new * nobs_new) / \\\n",
    "                 (nobs_old + nobs_new)\n",
    "\n",
    "    se = sqrt(conversion * (1 - conversion) * (1 / nobs_old + 1 / nobs_new))\n",
    "\n",
    "    z_score = (ctr_new - ctr_old - effect_size) / se\n",
    "\n",
    "    if two_tailed:\n",
    "        p_val = (1 - scs.norm.cdf(abs(z_score))) * 2\n",
    "    else:\n",
    "        # Because H_A: estimated effect_size > effect_size\n",
    "        p_val = 1 - scs.norm.cdf(z_score)\n",
    "\n",
    "    reject_null = p_val < alpha\n",
    "    print('z-score: %s, p-value: %s, reject null: %s' % (z_score, p_val, reject_null))\n",
    "    return z_score, p_val, reject_null"
   ]
  },
  {
   "cell_type": "code",
   "execution_count": 74,
   "metadata": {},
   "outputs": [
    {
     "name": "stdout",
     "output_type": "stream",
     "text": [
      "z-score: 3.1716214069866235, p-value: 0.0007579524466680976, reject null: True\n"
     ]
    },
    {
     "data": {
      "text/plain": [
       "(3.1716214069866235, 0.0007579524466680976, True)"
      ]
     },
     "execution_count": 74,
     "metadata": {},
     "output_type": "execute_result"
    }
   ],
   "source": [
    "z_test(0.596252129471891,0.7819420783645656,587,587, effect_size=0.1, two_tailed=False)"
   ]
  },
  {
   "cell_type": "code",
   "execution_count": 72,
   "metadata": {},
   "outputs": [
    {
     "data": {
      "text/plain": [
       "587"
      ]
     },
     "execution_count": 72,
     "metadata": {},
     "output_type": "execute_result"
    }
   ],
   "source": [
    "act.sum()"
   ]
  },
  {
   "cell_type": "code",
   "execution_count": null,
   "metadata": {},
   "outputs": [],
   "source": []
  }
 ],
 "metadata": {
  "kernelspec": {
   "display_name": "Python 3",
   "language": "python",
   "name": "python3"
  },
  "language_info": {
   "codemirror_mode": {
    "name": "ipython",
    "version": 3
   },
   "file_extension": ".py",
   "mimetype": "text/x-python",
   "name": "python",
   "nbconvert_exporter": "python",
   "pygments_lexer": "ipython3",
   "version": "3.6.5"
  }
 },
 "nbformat": 4,
 "nbformat_minor": 2
}
