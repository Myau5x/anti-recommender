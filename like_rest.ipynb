{
 "cells": [
  {
   "cell_type": "code",
   "execution_count": 36,
   "metadata": {},
   "outputs": [],
   "source": [
    "import pandas as pd\n",
    "import numpy as np"
   ]
  },
  {
   "cell_type": "code",
   "execution_count": 132,
   "metadata": {},
   "outputs": [],
   "source": [
    "import matplotlib.pyplot as plt\n",
    "%matplotlib inline"
   ]
  },
  {
   "cell_type": "code",
   "execution_count": 208,
   "metadata": {},
   "outputs": [],
   "source": [
    "from coldstart import expand_factors, similar_rest, similar_cat, find_k_similar"
   ]
  },
  {
   "cell_type": "code",
   "execution_count": 35,
   "metadata": {},
   "outputs": [],
   "source": [
    "from train_model import str_to_l"
   ]
  },
  {
   "cell_type": "code",
   "execution_count": 27,
   "metadata": {},
   "outputs": [],
   "source": [
    "biz_df = pd.read_csv('biz_with_F.csv')"
   ]
  },
  {
   "cell_type": "code",
   "execution_count": 29,
   "metadata": {},
   "outputs": [],
   "source": [
    "biz_df['categories'] = biz_df['categories'].map(str_to_l)\n",
    "biz_df['rat_to_rev'] = biz_df['stars']/biz_df['review_count']"
   ]
  },
  {
   "cell_type": "code",
   "execution_count": 8,
   "metadata": {},
   "outputs": [
    {
     "name": "stdout",
     "output_type": "stream",
     "text": [
      "<class 'pandas.core.frame.DataFrame'>\n",
      "RangeIndex: 57173 entries, 0 to 57172\n",
      "Data columns (total 9 columns):\n",
      "Unnamed: 0                57173 non-null int64\n",
      "RestaurantsPriceRange2    51111 non-null float64\n",
      "business_id               57173 non-null object\n",
      "stars                     57173 non-null float64\n",
      "review_count              57173 non-null int64\n",
      "categories                57173 non-null object\n",
      "biz_num                   57173 non-null int64\n",
      "id                        53931 non-null float64\n",
      "features                  53931 non-null object\n",
      "dtypes: float64(3), int64(3), object(3)\n",
      "memory usage: 3.9+ MB\n"
     ]
    }
   ],
   "source": [
    "biz_df.info()"
   ]
  },
  {
   "cell_type": "code",
   "execution_count": null,
   "metadata": {},
   "outputs": [],
   "source": [
    "### Заполнить цену во всем треннинг сете и во всем датасете"
   ]
  },
  {
   "cell_type": "code",
   "execution_count": 50,
   "metadata": {},
   "outputs": [],
   "source": [
    "biz_df['RestaurantsPriceRange2'] = biz_df['RestaurantsPriceRange2'].fillna(2)"
   ]
  },
  {
   "cell_type": "code",
   "execution_count": 52,
   "metadata": {},
   "outputs": [
    {
     "data": {
      "text/plain": [
       "((3242, 10), (53931, 10))"
      ]
     },
     "execution_count": 52,
     "metadata": {},
     "output_type": "execute_result"
    }
   ],
   "source": [
    "test = biz_df[pd.isnull(biz_df.id)]\n",
    "train = biz_df[~pd.isnull(biz_df.id)]\n",
    "\n",
    "test.shape, train.shape"
   ]
  },
  {
   "cell_type": "code",
   "execution_count": 48,
   "metadata": {},
   "outputs": [
    {
     "data": {
      "text/plain": [
       "'[-0.49883636832237244, 0.11051841080188751, 1.0938549041748047, 1.7710814476013184, -0.05432644858956337, -0.7591550946235657]'"
      ]
     },
     "execution_count": 48,
     "metadata": {},
     "output_type": "execute_result"
    }
   ],
   "source": []
  },
  {
   "cell_type": "code",
   "execution_count": 53,
   "metadata": {},
   "outputs": [
    {
     "data": {
      "text/plain": [
       "0"
      ]
     },
     "execution_count": 53,
     "metadata": {},
     "output_type": "execute_result"
    }
   ],
   "source": [
    "len(train[pd.isnull(train.RestaurantsPriceRange2)])"
   ]
  },
  {
   "cell_type": "code",
   "execution_count": 54,
   "metadata": {},
   "outputs": [
    {
     "data": {
      "text/plain": [
       "0"
      ]
     },
     "execution_count": 54,
     "metadata": {},
     "output_type": "execute_result"
    }
   ],
   "source": [
    "len(test[pd.isnull(test.RestaurantsPriceRange2)])"
   ]
  },
  {
   "cell_type": "code",
   "execution_count": 55,
   "metadata": {},
   "outputs": [
    {
     "data": {
      "text/html": [
       "<div>\n",
       "<style scoped>\n",
       "    .dataframe tbody tr th:only-of-type {\n",
       "        vertical-align: middle;\n",
       "    }\n",
       "\n",
       "    .dataframe tbody tr th {\n",
       "        vertical-align: top;\n",
       "    }\n",
       "\n",
       "    .dataframe thead th {\n",
       "        text-align: right;\n",
       "    }\n",
       "</style>\n",
       "<table border=\"1\" class=\"dataframe\">\n",
       "  <thead>\n",
       "    <tr style=\"text-align: right;\">\n",
       "      <th></th>\n",
       "      <th>Unnamed: 0</th>\n",
       "      <th>RestaurantsPriceRange2</th>\n",
       "      <th>stars</th>\n",
       "      <th>review_count</th>\n",
       "      <th>biz_num</th>\n",
       "      <th>id</th>\n",
       "      <th>rat_to_rev</th>\n",
       "    </tr>\n",
       "  </thead>\n",
       "  <tbody>\n",
       "    <tr>\n",
       "      <th>count</th>\n",
       "      <td>53931.000000</td>\n",
       "      <td>53931.000000</td>\n",
       "      <td>53931.000000</td>\n",
       "      <td>53931.000000</td>\n",
       "      <td>5.393100e+04</td>\n",
       "      <td>5.393100e+04</td>\n",
       "      <td>53931.000000</td>\n",
       "    </tr>\n",
       "    <tr>\n",
       "      <th>mean</th>\n",
       "      <td>28588.182326</td>\n",
       "      <td>1.703807</td>\n",
       "      <td>3.448193</td>\n",
       "      <td>67.456398</td>\n",
       "      <td>-3.164461e+06</td>\n",
       "      <td>-3.164461e+06</td>\n",
       "      <td>0.281167</td>\n",
       "    </tr>\n",
       "    <tr>\n",
       "      <th>std</th>\n",
       "      <td>16492.599579</td>\n",
       "      <td>0.601448</td>\n",
       "      <td>0.781084</td>\n",
       "      <td>166.800347</td>\n",
       "      <td>1.242820e+09</td>\n",
       "      <td>1.242820e+09</td>\n",
       "      <td>0.327242</td>\n",
       "    </tr>\n",
       "    <tr>\n",
       "      <th>min</th>\n",
       "      <td>0.000000</td>\n",
       "      <td>1.000000</td>\n",
       "      <td>1.000000</td>\n",
       "      <td>3.000000</td>\n",
       "      <td>-2.147478e+09</td>\n",
       "      <td>-2.147478e+09</td>\n",
       "      <td>0.000502</td>\n",
       "    </tr>\n",
       "    <tr>\n",
       "      <th>25%</th>\n",
       "      <td>14316.500000</td>\n",
       "      <td>1.000000</td>\n",
       "      <td>3.000000</td>\n",
       "      <td>8.000000</td>\n",
       "      <td>-1.086039e+09</td>\n",
       "      <td>-1.086039e+09</td>\n",
       "      <td>0.054054</td>\n",
       "    </tr>\n",
       "    <tr>\n",
       "      <th>50%</th>\n",
       "      <td>28591.000000</td>\n",
       "      <td>2.000000</td>\n",
       "      <td>3.500000</td>\n",
       "      <td>22.000000</td>\n",
       "      <td>-4.163377e+06</td>\n",
       "      <td>-4.163377e+06</td>\n",
       "      <td>0.148148</td>\n",
       "    </tr>\n",
       "    <tr>\n",
       "      <th>75%</th>\n",
       "      <td>42863.500000</td>\n",
       "      <td>2.000000</td>\n",
       "      <td>4.000000</td>\n",
       "      <td>63.000000</td>\n",
       "      <td>1.072152e+09</td>\n",
       "      <td>1.072152e+09</td>\n",
       "      <td>0.388889</td>\n",
       "    </tr>\n",
       "    <tr>\n",
       "      <th>max</th>\n",
       "      <td>57172.000000</td>\n",
       "      <td>4.000000</td>\n",
       "      <td>5.000000</td>\n",
       "      <td>7968.000000</td>\n",
       "      <td>2.147459e+09</td>\n",
       "      <td>2.147459e+09</td>\n",
       "      <td>1.666667</td>\n",
       "    </tr>\n",
       "  </tbody>\n",
       "</table>\n",
       "</div>"
      ],
      "text/plain": [
       "         Unnamed: 0  RestaurantsPriceRange2         stars  review_count  \\\n",
       "count  53931.000000            53931.000000  53931.000000  53931.000000   \n",
       "mean   28588.182326                1.703807      3.448193     67.456398   \n",
       "std    16492.599579                0.601448      0.781084    166.800347   \n",
       "min        0.000000                1.000000      1.000000      3.000000   \n",
       "25%    14316.500000                1.000000      3.000000      8.000000   \n",
       "50%    28591.000000                2.000000      3.500000     22.000000   \n",
       "75%    42863.500000                2.000000      4.000000     63.000000   \n",
       "max    57172.000000                4.000000      5.000000   7968.000000   \n",
       "\n",
       "            biz_num            id    rat_to_rev  \n",
       "count  5.393100e+04  5.393100e+04  53931.000000  \n",
       "mean  -3.164461e+06 -3.164461e+06      0.281167  \n",
       "std    1.242820e+09  1.242820e+09      0.327242  \n",
       "min   -2.147478e+09 -2.147478e+09      0.000502  \n",
       "25%   -1.086039e+09 -1.086039e+09      0.054054  \n",
       "50%   -4.163377e+06 -4.163377e+06      0.148148  \n",
       "75%    1.072152e+09  1.072152e+09      0.388889  \n",
       "max    2.147459e+09  2.147459e+09      1.666667  "
      ]
     },
     "execution_count": 55,
     "metadata": {},
     "output_type": "execute_result"
    }
   ],
   "source": [
    "train.describe()"
   ]
  },
  {
   "cell_type": "code",
   "execution_count": 56,
   "metadata": {},
   "outputs": [
    {
     "data": {
      "text/plain": [
       "['Event Planning & Services', 'Caterers', 'Restaurants', 'Breakfast & Brunch']"
      ]
     },
     "execution_count": 56,
     "metadata": {},
     "output_type": "execute_result"
    }
   ],
   "source": [
    "train.categories[4]"
   ]
  },
  {
   "cell_type": "code",
   "execution_count": 57,
   "metadata": {},
   "outputs": [
    {
     "data": {
      "text/plain": [
       "Unnamed: 0                                                             3538\n",
       "RestaurantsPriceRange2                                                    2\n",
       "business_id                                          MMh9G9Mg9iLEeUzmg7Lyqw\n",
       "stars                                                                     4\n",
       "review_count                                                             23\n",
       "categories                        [Food Trucks, Food, Restaurants, Mexican]\n",
       "biz_num                                                           502158358\n",
       "id                                                              5.02158e+08\n",
       "features                  [0.3375687599182129, -0.0874842181801796, 1.40...\n",
       "rat_to_rev                                                         0.173913\n",
       "Name: 3538, dtype: object"
      ]
     },
     "execution_count": 57,
     "metadata": {},
     "output_type": "execute_result"
    }
   ],
   "source": [
    "train.iloc[3333]"
   ]
  },
  {
   "cell_type": "code",
   "execution_count": 58,
   "metadata": {},
   "outputs": [
    {
     "data": {
      "text/plain": [
       "Unnamed: 0                                  3851\n",
       "RestaurantsPriceRange2                         2\n",
       "business_id               25eFMLlnsrZVLoKkqpjpCg\n",
       "stars                                          4\n",
       "review_count                                   4\n",
       "categories                 [Korean, Restaurants]\n",
       "biz_num                                944332333\n",
       "id                                           NaN\n",
       "features                                     NaN\n",
       "rat_to_rev                                     1\n",
       "Name: 3851, dtype: object"
      ]
     },
     "execution_count": 58,
     "metadata": {},
     "output_type": "execute_result"
    }
   ],
   "source": [
    "test.iloc[222]"
   ]
  },
  {
   "cell_type": "code",
   "execution_count": 89,
   "metadata": {},
   "outputs": [
    {
     "data": {
      "text/plain": [
       "0.7880434782608696"
      ]
     },
     "execution_count": 89,
     "metadata": {},
     "output_type": "execute_result"
    }
   ],
   "source": [
    "r1 = train.iloc[3333]\n",
    "r2 = test.iloc[223]\n",
    "similar_rest(r1,r2)\n"
   ]
  },
  {
   "cell_type": "code",
   "execution_count": 144,
   "metadata": {},
   "outputs": [
    {
     "name": "stdout",
     "output_type": "stream",
     "text": [
      "CPU times: user 7.29 s, sys: 87.2 ms, total: 7.38 s\n",
      "Wall time: 7.38 s\n"
     ]
    }
   ],
   "source": [
    "%%time\n",
    "x = train.apply(similar_rest, axis = 1,r2= r2)"
   ]
  },
  {
   "cell_type": "code",
   "execution_count": 145,
   "metadata": {},
   "outputs": [
    {
     "data": {
      "text/plain": [
       "count    53931.000000\n",
       "mean         1.222898\n",
       "std          0.355776\n",
       "min          0.200000\n",
       "25%          0.958333\n",
       "50%          1.208333\n",
       "75%          1.458333\n",
       "max          3.291667\n",
       "dtype: float64"
      ]
     },
     "execution_count": 145,
     "metadata": {},
     "output_type": "execute_result"
    }
   ],
   "source": [
    "x.describe()"
   ]
  },
  {
   "cell_type": "code",
   "execution_count": 154,
   "metadata": {},
   "outputs": [
    {
     "data": {
      "text/plain": [
       "2697"
      ]
     },
     "execution_count": 154,
     "metadata": {},
     "output_type": "execute_result"
    }
   ],
   "source": [
    "(x >np.percentile(x, 95)).sum()"
   ]
  },
  {
   "cell_type": "code",
   "execution_count": 163,
   "metadata": {},
   "outputs": [
    {
     "data": {
      "text/plain": [
       "'[0.4572981894016266, 0.46191635727882385, 0.4901009202003479, 1.9467405080795288, 1.0112497806549072, 0.0902012512087822]'"
      ]
     },
     "execution_count": 163,
     "metadata": {},
     "output_type": "execute_result"
    }
   ],
   "source": [
    "a =(train['features'].iloc[0])\n",
    "a"
   ]
  },
  {
   "cell_type": "code",
   "execution_count": 167,
   "metadata": {},
   "outputs": [
    {
     "name": "stdout",
     "output_type": "stream",
     "text": [
      "CPU times: user 181 ms, sys: 95.3 ms, total: 276 ms\n",
      "Wall time: 276 ms\n"
     ]
    }
   ],
   "source": [
    "%%time\n",
    "b = train['features'].map(lambda x: x[1:-1]).str.split(',')\n"
   ]
  },
  {
   "cell_type": "code",
   "execution_count": 172,
   "metadata": {},
   "outputs": [
    {
     "data": {
      "text/plain": [
       "(0    [0.4572981894016266,  0.46191635727882385,  0....\n",
       " 1    [0.32101115584373474,  -0.6140308976173401,  0...\n",
       " 2    [-0.7168925404548645,  0.23761771619319916,  0...\n",
       " 3    [-0.337391197681427,  0.7905454039573669,  1.5...\n",
       " 4    [-1.165808081626892,  0.21498383581638336,  0....\n",
       " Name: features, dtype: object, list, list, 6, str)"
      ]
     },
     "execution_count": 172,
     "metadata": {},
     "output_type": "execute_result"
    }
   ],
   "source": [
    "b.head(), type(b[33]), type(b[33]), len(b[33]), type(b[33][0])"
   ]
  },
  {
   "cell_type": "code",
   "execution_count": 180,
   "metadata": {},
   "outputs": [],
   "source": [
    "train_expand = expand_factors(train)\n",
    "feat_c = train_expand.columns[-6:]"
   ]
  },
  {
   "cell_type": "code",
   "execution_count": 195,
   "metadata": {},
   "outputs": [
    {
     "data": {
      "text/plain": [
       "800"
      ]
     },
     "execution_count": 195,
     "metadata": {},
     "output_type": "execute_result"
    }
   ],
   "source": [
    "len(train_expand[feat_c][(x >np.percentile(x, 98.5))])"
   ]
  },
  {
   "cell_type": "code",
   "execution_count": 186,
   "metadata": {},
   "outputs": [
    {
     "data": {
      "text/plain": [
       "feature_0   -0.164966\n",
       "feature_1   -0.064750\n",
       "feature_2    0.852187\n",
       "feature_3    0.389767\n",
       "feature_4   -0.756901\n",
       "feature_5   -0.170802\n",
       "dtype: float64"
      ]
     },
     "execution_count": 186,
     "metadata": {},
     "output_type": "execute_result"
    }
   ],
   "source": [
    "train_expand[feat_c][(x >np.percentile(x, 95))].mean(axis = 0)"
   ]
  },
  {
   "cell_type": "code",
   "execution_count": 189,
   "metadata": {},
   "outputs": [
    {
     "data": {
      "text/plain": [
       "-1373"
      ]
     },
     "execution_count": 189,
     "metadata": {},
     "output_type": "execute_result"
    }
   ],
   "source": [
    "len(look) -295042"
   ]
  },
  {
   "cell_type": "code",
   "execution_count": 198,
   "metadata": {},
   "outputs": [
    {
     "data": {
      "text/plain": [
       "Index(['Unnamed: 0', 'RestaurantsPriceRange2', 'business_id', 'stars',\n",
       "       'review_count', 'categories', 'biz_num', 'id', 'rat_to_rev',\n",
       "       'feature_0', 'feature_1', 'feature_2', 'feature_3', 'feature_4',\n",
       "       'feature_5'],\n",
       "      dtype='object')"
      ]
     },
     "execution_count": 198,
     "metadata": {},
     "output_type": "execute_result"
    }
   ],
   "source": [
    "train_expand.columns"
   ]
  },
  {
   "cell_type": "code",
   "execution_count": 204,
   "metadata": {},
   "outputs": [],
   "source": [
    "X_test = test[:3].copy()"
   ]
  },
  {
   "cell_type": "code",
   "execution_count": 205,
   "metadata": {},
   "outputs": [],
   "source": [
    "for col in feat_c:\n",
    "    X_test[col] = 0"
   ]
  },
  {
   "cell_type": "code",
   "execution_count": 212,
   "metadata": {},
   "outputs": [
    {
     "data": {
      "text/plain": [
       "Int64Index([7, 25, 50], dtype='int64')"
      ]
     },
     "execution_count": 212,
     "metadata": {},
     "output_type": "execute_result"
    }
   ],
   "source": [
    "Y =X_test.copy()\n",
    "Y.index"
   ]
  },
  {
   "cell_type": "code",
   "execution_count": 215,
   "metadata": {},
   "outputs": [],
   "source": [
    "Y.loc[7,:] = find_k_similar(train_expand, Y.loc[7,:])"
   ]
  },
  {
   "cell_type": "code",
   "execution_count": 216,
   "metadata": {},
   "outputs": [
    {
     "data": {
      "text/plain": [
       "Unnamed: 0                      NaN\n",
       "RestaurantsPriceRange2          NaN\n",
       "business_id                     NaN\n",
       "stars                           NaN\n",
       "review_count                    NaN\n",
       "categories                      NaN\n",
       "biz_num                         NaN\n",
       "id                              NaN\n",
       "features                        NaN\n",
       "rat_to_rev                      NaN\n",
       "feature_0                -0.0298472\n",
       "feature_1                -0.0611764\n",
       "feature_2                  0.690563\n",
       "feature_3                 0.0637666\n",
       "feature_4                 -0.679339\n",
       "feature_5                 -0.153558\n",
       "Name: 7, dtype: object"
      ]
     },
     "execution_count": 216,
     "metadata": {},
     "output_type": "execute_result"
    }
   ],
   "source": [
    "Y.loc[7,:]"
   ]
  },
  {
   "cell_type": "code",
   "execution_count": null,
   "metadata": {},
   "outputs": [],
   "source": []
  }
 ],
 "metadata": {
  "kernelspec": {
   "display_name": "Python 3",
   "language": "python",
   "name": "python3"
  },
  "language_info": {
   "codemirror_mode": {
    "name": "ipython",
    "version": 3
   },
   "file_extension": ".py",
   "mimetype": "text/x-python",
   "name": "python",
   "nbconvert_exporter": "python",
   "pygments_lexer": "ipython3",
   "version": "3.6.5"
  }
 },
 "nbformat": 4,
 "nbformat_minor": 2
}
