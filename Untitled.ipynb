{
 "cells": [
  {
   "cell_type": "code",
   "execution_count": 1,
   "metadata": {},
   "outputs": [],
   "source": [
    "from sklearn.cluster import KMeans\n",
    "from sklearn.feature_extraction.text import CountVectorizer\n",
    "import numpy as np\n",
    "import pickle\n"
   ]
  },
  {
   "cell_type": "code",
   "execution_count": 24,
   "metadata": {},
   "outputs": [],
   "source": [
    "import pandas as pd"
   ]
  },
  {
   "cell_type": "code",
   "execution_count": 3,
   "metadata": {},
   "outputs": [],
   "source": [
    "\n",
    "with open('model_parts/cv.mdl','rb') as f:\n",
    "    cv = pickle.load(f)\n",
    "with open('model_parts/km.mdl','rb') as f:\n",
    "    km = pickle.load(f)\n",
    "with open('model_parts/idf', 'rb') as f:\n",
    "    new_idf =pickle.load( f)"
   ]
  },
  {
   "cell_type": "code",
   "execution_count": 4,
   "metadata": {},
   "outputs": [],
   "source": [
    "with open('r_first.txt') as f:\n",
    "    r1 = f.read()"
   ]
  },
  {
   "cell_type": "code",
   "execution_count": 15,
   "metadata": {},
   "outputs": [],
   "source": [
    "r2 = [r1,r1,r1, r1]"
   ]
  },
  {
   "cell_type": "code",
   "execution_count": 13,
   "metadata": {},
   "outputs": [],
   "source": [
    "def ClusterReviews(X, countvectorizer, idf, clustering ):\n",
    "    \"\"\"takes:\n",
    "    X - list of reviews\n",
    "    fitted models and idf-vector - returns cluster nums for reviews\"\"\"\n",
    "    \n",
    "    c = countvectorizer.transform(X)\n",
    "    i = c.toarray()*idf\n",
    "    cl = clustering.predict(i)\n",
    "    return cl\n",
    "    "
   ]
  },
  {
   "cell_type": "code",
   "execution_count": 17,
   "metadata": {},
   "outputs": [],
   "source": [
    "pred = ClusterReviews(r2, cv, new_idf , km)"
   ]
  },
  {
   "cell_type": "code",
   "execution_count": 19,
   "metadata": {},
   "outputs": [
    {
     "data": {
      "text/plain": [
       "{8}"
      ]
     },
     "execution_count": 19,
     "metadata": {},
     "output_type": "execute_result"
    }
   ],
   "source": [
    "set(pred)"
   ]
  },
  {
   "cell_type": "code",
   "execution_count": 20,
   "metadata": {},
   "outputs": [],
   "source": [
    "from scraping.add_by_scrap import scrap_by_users"
   ]
  },
  {
   "cell_type": "code",
   "execution_count": 21,
   "metadata": {},
   "outputs": [],
   "source": [
    "rs = scrap_by_users('https://www.yelp.com/user_details?userid=2TO4pUS6q2UjjXbAoTgcJQ')"
   ]
  },
  {
   "cell_type": "code",
   "execution_count": 22,
   "metadata": {},
   "outputs": [
    {
     "data": {
      "text/plain": [
       "50"
      ]
     },
     "execution_count": 22,
     "metadata": {},
     "output_type": "execute_result"
    }
   ],
   "source": [
    "len(rs)"
   ]
  },
  {
   "cell_type": "code",
   "execution_count": 32,
   "metadata": {},
   "outputs": [],
   "source": [
    "def extract_bad_revs(rs):\n",
    "    r_df = pd.DataFrame(rs)\n",
    "    r_df['rating'] = r_df.rating.astype(float)\n",
    "    l = r_df[r_df.rating <=3]['text']\n",
    "    return l.tolist()"
   ]
  },
  {
   "cell_type": "code",
   "execution_count": 27,
   "metadata": {},
   "outputs": [
    {
     "name": "stdout",
     "output_type": "stream",
     "text": [
      "CPU times: user 3 ms, sys: 168 µs, total: 3.16 ms\n",
      "Wall time: 3.04 ms\n"
     ]
    }
   ],
   "source": [
    "%%time\n",
    "r_df = pd.DataFrame(rs)\n",
    "r_df['rating'] = r_df.rating.astype(float)\n",
    "l = r_df[r_df.rating <=3]['text']"
   ]
  },
  {
   "cell_type": "code",
   "execution_count": 33,
   "metadata": {},
   "outputs": [
    {
     "name": "stdout",
     "output_type": "stream",
     "text": [
      "CPU times: user 3.71 ms, sys: 1.51 ms, total: 5.22 ms\n",
      "Wall time: 5.06 ms\n"
     ]
    }
   ],
   "source": [
    "%%time\n",
    "rl = extract_bad_revs(rs)"
   ]
  },
  {
   "cell_type": "code",
   "execution_count": 35,
   "metadata": {},
   "outputs": [
    {
     "data": {
      "text/plain": [
       "[\"I've been to Shake Shack in Vegas and for some reason when I had it there, it was better? I gave it 3 stars because I don't think it's worth the wait. It opened up in Seattle not that long ago- I went on a Sunday around 11:30AM and there was already a wait. It's in Seattle so there's no parking anywhere and on of that, we waited for about 30 minutes and there were things that were items that were out of stock.My boyfriend and I ordered the Shake shack burger and a chocolate milkshake. I definitely felt super full and greased out after a couple bites.I think it was good to try out but not something I would crave or go out of my way to get. I think once it starts slowing down, it may be worth trying out.\",\n",
       " \"We got seated right away and our waiter was very attentive. The food was okay. We wanted to try 1 curry dish and 1 entrée so we could try a little bit of both. We ordered the tandoori chicken and the tikka masala \\xa0and the garlic naan (we figured we couldn't really go wrong with these as they seemed like they were the most popular). Our friends said this place was really good so we were expecting it to be amazing but the dishes we picked were just average.I do like that there's a lot of space and the staff is really nice. I think I was just expecting the food to be better than the dishes we picked. I would definitely go back and try out something else.\",\n",
       " \"The wonton noodle soup is very comforting because I love soup, but it is a little bland, everything is. I usually put in some chili, etc. to make it more flavorful. The wonton's are pretty good. The meat (brisket?) is pretty fatty so if you don't like fatty meat, I wouldn't order that. The fried rice and the rice noodles are pretty similar that they are all pretty bland. It's good but nothing special.\"]"
      ]
     },
     "execution_count": 35,
     "metadata": {},
     "output_type": "execute_result"
    }
   ],
   "source": [
    "rl"
   ]
  },
  {
   "cell_type": "code",
   "execution_count": 36,
   "metadata": {},
   "outputs": [
    {
     "data": {
      "text/plain": [
       "array([0, 5, 1], dtype=int32)"
      ]
     },
     "execution_count": 36,
     "metadata": {},
     "output_type": "execute_result"
    }
   ],
   "source": [
    "ClusterReviews(rl, cv, new_idf , km)"
   ]
  },
  {
   "cell_type": "code",
   "execution_count": 37,
   "metadata": {},
   "outputs": [
    {
     "ename": "NameError",
     "evalue": "name 'countvectorizer' is not defined",
     "output_type": "error",
     "traceback": [
      "\u001b[0;31m---------------------------------------------------------------------------\u001b[0m",
      "\u001b[0;31mNameError\u001b[0m                                 Traceback (most recent call last)",
      "\u001b[0;32m<ipython-input-37-537a565a76af>\u001b[0m in \u001b[0;36m<module>\u001b[0;34m()\u001b[0m\n\u001b[0;32m----> 1\u001b[0;31m from concept_proof import (build_restoraunts, cleaning_data, ComboModel,\n\u001b[0m\u001b[1;32m      2\u001b[0m     ClusterReviews, extract_bad_revs)\n",
      "\u001b[0;32m~/yelper/concept_proof.py\u001b[0m in \u001b[0;36m<module>\u001b[0;34m()\u001b[0m\n\u001b[1;32m     58\u001b[0m         \u001b[0;32mreturn\u001b[0m \u001b[0manswer\u001b[0m\u001b[0;34m\u001b[0m\u001b[0m\n\u001b[1;32m     59\u001b[0m \u001b[0;34m\u001b[0m\u001b[0m\n\u001b[0;32m---> 60\u001b[0;31m \u001b[0;32mclass\u001b[0m \u001b[0mClusterReviews\u001b[0m\u001b[0;34m(\u001b[0m \u001b[0mcountvectorizer\u001b[0m\u001b[0;34m,\u001b[0m \u001b[0midf\u001b[0m\u001b[0;34m,\u001b[0m \u001b[0mclustering\u001b[0m \u001b[0;34m)\u001b[0m\u001b[0;34m:\u001b[0m\u001b[0;34m\u001b[0m\u001b[0m\n\u001b[0m\u001b[1;32m     61\u001b[0m \u001b[0;34m\u001b[0m\u001b[0m\n\u001b[1;32m     62\u001b[0m     \"\"\"takes:\n",
      "\u001b[0;31mNameError\u001b[0m: name 'countvectorizer' is not defined"
     ]
    }
   ],
   "source": [
    "from concept_proof import (build_restoraunts, cleaning_data, ComboModel,\n",
    "    ClusterReviews, extract_bad_revs)\n"
   ]
  },
  {
   "cell_type": "code",
   "execution_count": null,
   "metadata": {},
   "outputs": [],
   "source": []
  }
 ],
 "metadata": {
  "kernelspec": {
   "display_name": "Python 3",
   "language": "python",
   "name": "python3"
  },
  "language_info": {
   "codemirror_mode": {
    "name": "ipython",
    "version": 3
   },
   "file_extension": ".py",
   "mimetype": "text/x-python",
   "name": "python",
   "nbconvert_exporter": "python",
   "pygments_lexer": "ipython3",
   "version": "3.6.5"
  }
 },
 "nbformat": 4,
 "nbformat_minor": 2
}
