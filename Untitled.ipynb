{
 "cells": [
  {
   "cell_type": "code",
   "execution_count": 1,
   "metadata": {},
   "outputs": [],
   "source": [
    "from sklearn.cluster import KMeans\n",
    "from sklearn.feature_extraction.text import CountVectorizer\n",
    "import numpy as np\n",
    "import pickle\n"
   ]
  },
  {
   "cell_type": "code",
   "execution_count": 2,
   "metadata": {},
   "outputs": [],
   "source": [
    "import pandas as pd"
   ]
  },
  {
   "cell_type": "code",
   "execution_count": 3,
   "metadata": {},
   "outputs": [],
   "source": [
    "\n",
    "with open('model_parts/cv.mdl','rb') as f:\n",
    "    cv = pickle.load(f)\n",
    "with open('model_parts/km.mdl','rb') as f:\n",
    "    km = pickle.load(f)\n",
    "with open('model_parts/idf', 'rb') as f:\n",
    "    new_idf =pickle.load( f)"
   ]
  },
  {
   "cell_type": "code",
   "execution_count": 4,
   "metadata": {},
   "outputs": [],
   "source": [
    "with open('r_first.txt') as f:\n",
    "    r1 = f.read()"
   ]
  },
  {
   "cell_type": "code",
   "execution_count": 15,
   "metadata": {},
   "outputs": [],
   "source": [
    "r2 = [r1,r1,r1, r1]"
   ]
  },
  {
   "cell_type": "code",
   "execution_count": 5,
   "metadata": {},
   "outputs": [],
   "source": [
    "def ClusterReviews(X, countvectorizer, idf, clustering ):\n",
    "    \"\"\"takes:\n",
    "    X - list of reviews\n",
    "    fitted models and idf-vector - returns cluster nums for reviews\"\"\"\n",
    "    \n",
    "    c = countvectorizer.transform(X)\n",
    "    i = c.toarray()*idf\n",
    "    cl = clustering.predict(i)\n",
    "    return cl\n",
    "    "
   ]
  },
  {
   "cell_type": "code",
   "execution_count": 17,
   "metadata": {},
   "outputs": [],
   "source": [
    "pred = ClusterReviews(r2, cv, new_idf , km)"
   ]
  },
  {
   "cell_type": "code",
   "execution_count": 19,
   "metadata": {},
   "outputs": [
    {
     "data": {
      "text/plain": [
       "{8}"
      ]
     },
     "execution_count": 19,
     "metadata": {},
     "output_type": "execute_result"
    }
   ],
   "source": [
    "set(pred)"
   ]
  },
  {
   "cell_type": "code",
   "execution_count": 6,
   "metadata": {},
   "outputs": [],
   "source": [
    "from scraping.add_by_scrap import scrap_by_users"
   ]
  },
  {
   "cell_type": "code",
   "execution_count": 7,
   "metadata": {},
   "outputs": [],
   "source": [
    "rs = scrap_by_users('https://www.yelp.com/user_details?userid=2TO4pUS6q2UjjXbAoTgcJQ')"
   ]
  },
  {
   "cell_type": "code",
   "execution_count": 8,
   "metadata": {},
   "outputs": [
    {
     "data": {
      "text/plain": [
       "50"
      ]
     },
     "execution_count": 8,
     "metadata": {},
     "output_type": "execute_result"
    }
   ],
   "source": [
    "len(rs)"
   ]
  },
  {
   "cell_type": "code",
   "execution_count": 9,
   "metadata": {},
   "outputs": [],
   "source": [
    "def extract_bad_revs(rs):\n",
    "    r_df = pd.DataFrame(rs)\n",
    "    r_df['rating'] = r_df.rating.astype(float)\n",
    "    l = r_df[r_df.rating <=3]['text']\n",
    "    return l.tolist()"
   ]
  },
  {
   "cell_type": "code",
   "execution_count": 10,
   "metadata": {},
   "outputs": [
    {
     "name": "stdout",
     "output_type": "stream",
     "text": [
      "CPU times: user 5.09 ms, sys: 751 µs, total: 5.85 ms\n",
      "Wall time: 5.33 ms\n"
     ]
    }
   ],
   "source": [
    "%%time\n",
    "r_df = pd.DataFrame(rs)\n",
    "r_df['rating'] = r_df.rating.astype(float)\n",
    "l = r_df[r_df.rating <=3]['text']"
   ]
  },
  {
   "cell_type": "code",
   "execution_count": 11,
   "metadata": {},
   "outputs": [
    {
     "name": "stdout",
     "output_type": "stream",
     "text": [
      "CPU times: user 3.76 ms, sys: 272 µs, total: 4.03 ms\n",
      "Wall time: 3.86 ms\n"
     ]
    }
   ],
   "source": [
    "%%time\n",
    "rl = extract_bad_revs(rs)"
   ]
  },
  {
   "cell_type": "code",
   "execution_count": 12,
   "metadata": {},
   "outputs": [
    {
     "data": {
      "text/plain": [
       "[\"I've been to Shake Shack in Vegas and for some reason when I had it there, it was better? I gave it 3 stars because I don't think it's worth the wait. It opened up in Seattle not that long ago- I went on a Sunday around 11:30AM and there was already a wait. It's in Seattle so there's no parking anywhere and on of that, we waited for about 30 minutes and there were things that were items that were out of stock.My boyfriend and I ordered the Shake shack burger and a chocolate milkshake. I definitely felt super full and greased out after a couple bites.I think it was good to try out but not something I would crave or go out of my way to get. I think once it starts slowing down, it may be worth trying out.\",\n",
       " \"We got seated right away and our waiter was very attentive. The food was okay. We wanted to try 1 curry dish and 1 entrée so we could try a little bit of both. We ordered the tandoori chicken and the tikka masala \\xa0and the garlic naan (we figured we couldn't really go wrong with these as they seemed like they were the most popular). Our friends said this place was really good so we were expecting it to be amazing but the dishes we picked were just average.I do like that there's a lot of space and the staff is really nice. I think I was just expecting the food to be better than the dishes we picked. I would definitely go back and try out something else.\",\n",
       " \"The wonton noodle soup is very comforting because I love soup, but it is a little bland, everything is. I usually put in some chili, etc. to make it more flavorful. The wonton's are pretty good. The meat (brisket?) is pretty fatty so if you don't like fatty meat, I wouldn't order that. The fried rice and the rice noodles are pretty similar that they are all pretty bland. It's good but nothing special.\"]"
      ]
     },
     "execution_count": 12,
     "metadata": {},
     "output_type": "execute_result"
    }
   ],
   "source": [
    "rl"
   ]
  },
  {
   "cell_type": "code",
   "execution_count": 13,
   "metadata": {},
   "outputs": [
    {
     "data": {
      "text/plain": [
       "array([0, 5, 1], dtype=int32)"
      ]
     },
     "execution_count": 13,
     "metadata": {},
     "output_type": "execute_result"
    }
   ],
   "source": [
    "ClusterReviews(rl, cv, new_idf , km)"
   ]
  },
  {
   "cell_type": "code",
   "execution_count": 14,
   "metadata": {},
   "outputs": [],
   "source": [
    "from concept_proof import (build_restoraunts, cleaning_data, ComboModel,\n",
    "    ClusterReviews, extract_bad_revs)\n"
   ]
  },
  {
   "cell_type": "code",
   "execution_count": 15,
   "metadata": {},
   "outputs": [],
   "source": [
    "clm = ClusterReviews(cv, new_idf , km)"
   ]
  },
  {
   "cell_type": "code",
   "execution_count": 16,
   "metadata": {},
   "outputs": [],
   "source": [
    "cllll = clm.transform(rl)"
   ]
  },
  {
   "cell_type": "code",
   "execution_count": 17,
   "metadata": {},
   "outputs": [
    {
     "data": {
      "text/plain": [
       "[0, 1, 5]"
      ]
     },
     "execution_count": 17,
     "metadata": {},
     "output_type": "execute_result"
    }
   ],
   "source": [
    "list(set(cllll))"
   ]
  },
  {
   "cell_type": "code",
   "execution_count": 18,
   "metadata": {},
   "outputs": [],
   "source": [
    "colClust_n = ['cl_t0', 'cl_t1', 'cl_t2', 'cl_t3', 'cl_t4', 'cl_t5', 'cl_t7', 'cl_t8', 'cl_t9', 'cl_t10', 'cl_t11', 'cl_t12', 'cl_t13', 'cl_t14', 'cl_t16', 'cl_t17']\n",
    "\n",
    "def cl_renaming(cls, cols = colClust_n):\n",
    "    a = ''\n",
    "    cls = list(set(cls))\n",
    "    for x in cls:\n",
    "        name = 'cl_t'+str(x)\n",
    "        if name in colClust_n:\n",
    "            a+=name+' '\n",
    "    return a"
   ]
  },
  {
   "cell_type": "code",
   "execution_count": 53,
   "metadata": {},
   "outputs": [],
   "source": [
    "a = cl_renaming(cllll)"
   ]
  },
  {
   "cell_type": "code",
   "execution_count": 54,
   "metadata": {},
   "outputs": [
    {
     "data": {
      "text/plain": [
       "['cl_t0', 'cl_t1', 'cl_t5']"
      ]
     },
     "execution_count": 54,
     "metadata": {},
     "output_type": "execute_result"
    }
   ],
   "source": [
    "a.strip().split(' ')"
   ]
  },
  {
   "cell_type": "code",
   "execution_count": 45,
   "metadata": {},
   "outputs": [],
   "source": [
    "colShow = ['name', 'BAD', 'rating', 'location' , 'url', 'image_url']\n"
   ]
  },
  {
   "cell_type": "code",
   "execution_count": 19,
   "metadata": {},
   "outputs": [],
   "source": [
    "rests  = build_restoraunts('Mill Creek, WA')"
   ]
  },
  {
   "cell_type": "code",
   "execution_count": 20,
   "metadata": {},
   "outputs": [],
   "source": [
    "rests['url'] = rests['url'].str.split('?').map(lambda x : x[0])"
   ]
  },
  {
   "cell_type": "code",
   "execution_count": 44,
   "metadata": {},
   "outputs": [
    {
     "data": {
      "text/plain": [
       "Index(['alias', 'categories', 'coordinates', 'display_phone', 'distance', 'id',\n",
       "       'image_url', 'is_closed', 'location', 'name', 'phone', 'price',\n",
       "       'rating', 'review_count', 'transactions', 'url'],\n",
       "      dtype='object')"
      ]
     },
     "execution_count": 44,
     "metadata": {},
     "output_type": "execute_result"
    }
   ],
   "source": [
    "rests.columns"
   ]
  },
  {
   "cell_type": "code",
   "execution_count": 46,
   "metadata": {},
   "outputs": [
    {
     "name": "stderr",
     "output_type": "stream",
     "text": [
      "/anaconda3/lib/python3.6/site-packages/pandas/core/indexing.py:1472: FutureWarning: \n",
      "Passing list-likes to .loc or [] with any missing label will raise\n",
      "KeyError in the future, you can use .reindex() as an alternative.\n",
      "\n",
      "See the documentation here:\n",
      "https://pandas.pydata.org/pandas-docs/stable/indexing.html#deprecate-loc-reindex-listlike\n",
      "  return self._getitem_tuple(key)\n"
     ]
    }
   ],
   "source": [
    "fff = rests.loc[:5, colShow].copy()"
   ]
  },
  {
   "cell_type": "code",
   "execution_count": 47,
   "metadata": {},
   "outputs": [
    {
     "data": {
      "text/html": [
       "<div>\n",
       "<style scoped>\n",
       "    .dataframe tbody tr th:only-of-type {\n",
       "        vertical-align: middle;\n",
       "    }\n",
       "\n",
       "    .dataframe tbody tr th {\n",
       "        vertical-align: top;\n",
       "    }\n",
       "\n",
       "    .dataframe thead th {\n",
       "        text-align: right;\n",
       "    }\n",
       "</style>\n",
       "<table border=\"1\" class=\"dataframe\">\n",
       "  <thead>\n",
       "    <tr style=\"text-align: right;\">\n",
       "      <th></th>\n",
       "      <th>name</th>\n",
       "      <th>BAD</th>\n",
       "      <th>rating</th>\n",
       "      <th>location</th>\n",
       "      <th>url</th>\n",
       "      <th>image_url</th>\n",
       "    </tr>\n",
       "  </thead>\n",
       "  <tbody>\n",
       "    <tr>\n",
       "      <th>0</th>\n",
       "      <td>MOMO Sushi</td>\n",
       "      <td>NaN</td>\n",
       "      <td>4.5</td>\n",
       "      <td>{'address1': '15603 Main St', 'address2': 'Ste B-102', 'address3': None, 'city': 'Mill Creek', 'zip_code': '98012', 'country': 'US', 'state': 'WA', 'display_address': ['15603 Main St', 'Ste B-102', 'Mill Creek, WA 98012']}</td>\n",
       "      <td>https://www.yelp.com/biz/momo-sushi-mill-creek</td>\n",
       "      <td>https://s3-media1.fl.yelpcdn.com/bphoto/mGztjsuqSqLNL8t79VQDiQ/o.jpg</td>\n",
       "    </tr>\n",
       "    <tr>\n",
       "      <th>1</th>\n",
       "      <td>Momi</td>\n",
       "      <td>NaN</td>\n",
       "      <td>4.5</td>\n",
       "      <td>{'address1': '13027 Bothell Everett Hwy', 'address2': 'Ste H', 'address3': '', 'city': 'Everett', 'zip_code': '98208', 'country': 'US', 'state': 'WA', 'display_address': ['13027 Bothell Everett Hwy', 'Ste H', 'Everett, WA 98208']}</td>\n",
       "      <td>https://www.yelp.com/biz/momi-everett</td>\n",
       "      <td>https://s3-media3.fl.yelpcdn.com/bphoto/_HGuLXRRb61eFYaH_tT7pQ/o.jpg</td>\n",
       "    </tr>\n",
       "    <tr>\n",
       "      <th>2</th>\n",
       "      <td>Tablas Woodstone Taverna</td>\n",
       "      <td>NaN</td>\n",
       "      <td>4.0</td>\n",
       "      <td>{'address1': '15522 Main St', 'address2': '', 'address3': '', 'city': 'Mill Creek', 'zip_code': '98012', 'country': 'US', 'state': 'WA', 'display_address': ['15522 Main St', 'Mill Creek, WA 98012']}</td>\n",
       "      <td>https://www.yelp.com/biz/tablas-woodstone-taverna-mill-creek</td>\n",
       "      <td>https://s3-media1.fl.yelpcdn.com/bphoto/bjCSBBGgQWDb_mvw7gzF7w/o.jpg</td>\n",
       "    </tr>\n",
       "    <tr>\n",
       "      <th>3</th>\n",
       "      <td>Azul Restaurant &amp; Lounge</td>\n",
       "      <td>NaN</td>\n",
       "      <td>4.0</td>\n",
       "      <td>{'address1': '15118 Main St', 'address2': 'Ste 100', 'address3': '', 'city': 'Mill Creek', 'zip_code': '98012', 'country': 'US', 'state': 'WA', 'display_address': ['15118 Main St', 'Ste 100', 'Mill Creek, WA 98012']}</td>\n",
       "      <td>https://www.yelp.com/biz/azul-restaurant-and-lounge-mill-creek-2</td>\n",
       "      <td>https://s3-media1.fl.yelpcdn.com/bphoto/juXBofkYdqlBZjxQjQ_1Aw/o.jpg</td>\n",
       "    </tr>\n",
       "    <tr>\n",
       "      <th>4</th>\n",
       "      <td>Chick 5</td>\n",
       "      <td>NaN</td>\n",
       "      <td>4.0</td>\n",
       "      <td>{'address1': '3922 148th St SE', 'address2': 'Ste 103', 'address3': '', 'city': 'Mill Creek', 'zip_code': '98012', 'country': 'US', 'state': 'WA', 'display_address': ['3922 148th St SE', 'Ste 103', 'Mill Creek, WA 98012']}</td>\n",
       "      <td>https://www.yelp.com/biz/chick-5-mill-creek</td>\n",
       "      <td>https://s3-media1.fl.yelpcdn.com/bphoto/scnD7JErJ_433sSy-JDy5A/o.jpg</td>\n",
       "    </tr>\n",
       "  </tbody>\n",
       "</table>\n",
       "</div>"
      ],
      "text/plain": [
       "                       name  BAD  rating  \\\n",
       "0  MOMO Sushi               NaN   4.5      \n",
       "1  Momi                     NaN   4.5      \n",
       "2  Tablas Woodstone Taverna NaN   4.0      \n",
       "3  Azul Restaurant & Lounge NaN   4.0      \n",
       "4  Chick 5                  NaN   4.0      \n",
       "\n",
       "                                                                                                                                                                                                                                 location  \\\n",
       "0  {'address1': '15603 Main St', 'address2': 'Ste B-102', 'address3': None, 'city': 'Mill Creek', 'zip_code': '98012', 'country': 'US', 'state': 'WA', 'display_address': ['15603 Main St', 'Ste B-102', 'Mill Creek, WA 98012']}           \n",
       "1  {'address1': '13027 Bothell Everett Hwy', 'address2': 'Ste H', 'address3': '', 'city': 'Everett', 'zip_code': '98208', 'country': 'US', 'state': 'WA', 'display_address': ['13027 Bothell Everett Hwy', 'Ste H', 'Everett, WA 98208']}   \n",
       "2  {'address1': '15522 Main St', 'address2': '', 'address3': '', 'city': 'Mill Creek', 'zip_code': '98012', 'country': 'US', 'state': 'WA', 'display_address': ['15522 Main St', 'Mill Creek, WA 98012']}                                   \n",
       "3  {'address1': '15118 Main St', 'address2': 'Ste 100', 'address3': '', 'city': 'Mill Creek', 'zip_code': '98012', 'country': 'US', 'state': 'WA', 'display_address': ['15118 Main St', 'Ste 100', 'Mill Creek, WA 98012']}                 \n",
       "4  {'address1': '3922 148th St SE', 'address2': 'Ste 103', 'address3': '', 'city': 'Mill Creek', 'zip_code': '98012', 'country': 'US', 'state': 'WA', 'display_address': ['3922 148th St SE', 'Ste 103', 'Mill Creek, WA 98012']}           \n",
       "\n",
       "                                                                url  \\\n",
       "0  https://www.yelp.com/biz/momo-sushi-mill-creek                     \n",
       "1  https://www.yelp.com/biz/momi-everett                              \n",
       "2  https://www.yelp.com/biz/tablas-woodstone-taverna-mill-creek       \n",
       "3  https://www.yelp.com/biz/azul-restaurant-and-lounge-mill-creek-2   \n",
       "4  https://www.yelp.com/biz/chick-5-mill-creek                        \n",
       "\n",
       "                                                              image_url  \n",
       "0  https://s3-media1.fl.yelpcdn.com/bphoto/mGztjsuqSqLNL8t79VQDiQ/o.jpg  \n",
       "1  https://s3-media3.fl.yelpcdn.com/bphoto/_HGuLXRRb61eFYaH_tT7pQ/o.jpg  \n",
       "2  https://s3-media1.fl.yelpcdn.com/bphoto/bjCSBBGgQWDb_mvw7gzF7w/o.jpg  \n",
       "3  https://s3-media1.fl.yelpcdn.com/bphoto/juXBofkYdqlBZjxQjQ_1Aw/o.jpg  \n",
       "4  https://s3-media1.fl.yelpcdn.com/bphoto/scnD7JErJ_433sSy-JDy5A/o.jpg  "
      ]
     },
     "execution_count": 47,
     "metadata": {},
     "output_type": "execute_result"
    }
   ],
   "source": []
  },
  {
   "cell_type": "code",
   "execution_count": 40,
   "metadata": {},
   "outputs": [],
   "source": [
    "pd.set_option('display.max_colwidth', -1)"
   ]
  },
  {
   "cell_type": "code",
   "execution_count": 36,
   "metadata": {},
   "outputs": [],
   "source": [
    "def rewrite(url):\n",
    "    s  = '<a href=\"'+url +'\">click</a>'\n",
    "    return s\n"
   ]
  },
  {
   "cell_type": "code",
   "execution_count": 41,
   "metadata": {},
   "outputs": [],
   "source": [
    "fff['url'] = fff['url'].apply(lambda x: '<a href=\"{0}\">link</a>'.format(x))"
   ]
  },
  {
   "cell_type": "code",
   "execution_count": 48,
   "metadata": {},
   "outputs": [],
   "source": [
    "fff['image_url'] = fff['image_url'].apply(lambda x: '<img src=\"{}\"  height=\"30\" width = \"30\" alt=\"\">'.format(x))"
   ]
  },
  {
   "cell_type": "code",
   "execution_count": 49,
   "metadata": {},
   "outputs": [
    {
     "data": {
      "text/plain": [
       "'<table border=\"1\" class=\"dataframe\">\\n  <thead>\\n    <tr style=\"text-align: right;\">\\n      <th></th>\\n      <th>name</th>\\n      <th>BAD</th>\\n      <th>rating</th>\\n      <th>location</th>\\n      <th>url</th>\\n      <th>image_url</th>\\n    </tr>\\n  </thead>\\n  <tbody>\\n    <tr>\\n      <th>0</th>\\n      <td>MOMO Sushi</td>\\n      <td>NaN</td>\\n      <td>4.5</td>\\n      <td>{\\'address1\\': \\'15603 Main St\\', \\'address2\\': \\'Ste B-102\\', \\'address3\\': None, \\'city\\': \\'Mill Creek\\', \\'zip_code\\': \\'98012\\', \\'country\\': \\'US\\', \\'state\\': \\'WA\\', \\'display_address\\': [\\'15603 Main St\\', \\'Ste B-102\\', \\'Mill Creek, WA 98012\\']}</td>\\n      <td>https://www.yelp.com/biz/momo-sushi-mill-creek</td>\\n      <td><img src=\"https://s3-media1.fl.yelpcdn.com/bphoto/mGztjsuqSqLNL8t79VQDiQ/o.jpg\" alt=\"\"> height=\"30\" width = \"30\"</td>\\n    </tr>\\n    <tr>\\n      <th>1</th>\\n      <td>Momi</td>\\n      <td>NaN</td>\\n      <td>4.5</td>\\n      <td>{\\'address1\\': \\'13027 Bothell Everett Hwy\\', \\'address2\\': \\'Ste H\\', \\'address3\\': \\'\\', \\'city\\': \\'Everett\\', \\'zip_code\\': \\'98208\\', \\'country\\': \\'US\\', \\'state\\': \\'WA\\', \\'display_address\\': [\\'13027 Bothell Everett Hwy\\', \\'Ste H\\', \\'Everett, WA 98208\\']}</td>\\n      <td>https://www.yelp.com/biz/momi-everett</td>\\n      <td><img src=\"https://s3-media3.fl.yelpcdn.com/bphoto/_HGuLXRRb61eFYaH_tT7pQ/o.jpg\" alt=\"\"> height=\"30\" width = \"30\"</td>\\n    </tr>\\n    <tr>\\n      <th>2</th>\\n      <td>Tablas Woodstone Taverna</td>\\n      <td>NaN</td>\\n      <td>4.0</td>\\n      <td>{\\'address1\\': \\'15522 Main St\\', \\'address2\\': \\'\\', \\'address3\\': \\'\\', \\'city\\': \\'Mill Creek\\', \\'zip_code\\': \\'98012\\', \\'country\\': \\'US\\', \\'state\\': \\'WA\\', \\'display_address\\': [\\'15522 Main St\\', \\'Mill Creek, WA 98012\\']}</td>\\n      <td>https://www.yelp.com/biz/tablas-woodstone-taverna-mill-creek</td>\\n      <td><img src=\"https://s3-media1.fl.yelpcdn.com/bphoto/bjCSBBGgQWDb_mvw7gzF7w/o.jpg\" alt=\"\"> height=\"30\" width = \"30\"</td>\\n    </tr>\\n    <tr>\\n      <th>3</th>\\n      <td>Azul Restaurant & Lounge</td>\\n      <td>NaN</td>\\n      <td>4.0</td>\\n      <td>{\\'address1\\': \\'15118 Main St\\', \\'address2\\': \\'Ste 100\\', \\'address3\\': \\'\\', \\'city\\': \\'Mill Creek\\', \\'zip_code\\': \\'98012\\', \\'country\\': \\'US\\', \\'state\\': \\'WA\\', \\'display_address\\': [\\'15118 Main St\\', \\'Ste 100\\', \\'Mill Creek, WA 98012\\']}</td>\\n      <td>https://www.yelp.com/biz/azul-restaurant-and-lounge-mill-creek-2</td>\\n      <td><img src=\"https://s3-media1.fl.yelpcdn.com/bphoto/juXBofkYdqlBZjxQjQ_1Aw/o.jpg\" alt=\"\"> height=\"30\" width = \"30\"</td>\\n    </tr>\\n    <tr>\\n      <th>4</th>\\n      <td>Chick 5</td>\\n      <td>NaN</td>\\n      <td>4.0</td>\\n      <td>{\\'address1\\': \\'3922 148th St SE\\', \\'address2\\': \\'Ste 103\\', \\'address3\\': \\'\\', \\'city\\': \\'Mill Creek\\', \\'zip_code\\': \\'98012\\', \\'country\\': \\'US\\', \\'state\\': \\'WA\\', \\'display_address\\': [\\'3922 148th St SE\\', \\'Ste 103\\', \\'Mill Creek, WA 98012\\']}</td>\\n      <td>https://www.yelp.com/biz/chick-5-mill-creek</td>\\n      <td><img src=\"https://s3-media1.fl.yelpcdn.com/bphoto/scnD7JErJ_433sSy-JDy5A/o.jpg\" alt=\"\"> height=\"30\" width = \"30\"</td>\\n    </tr>\\n    <tr>\\n      <th>5</th>\\n      <td>Kafe Neo - Mill Creek</td>\\n      <td>NaN</td>\\n      <td>3.5</td>\\n      <td>{\\'address1\\': \\'15130 Main St\\', \\'address2\\': \\'\\', \\'address3\\': \\'\\', \\'city\\': \\'Mill Creek\\', \\'zip_code\\': \\'98012\\', \\'country\\': \\'US\\', \\'state\\': \\'WA\\', \\'display_address\\': [\\'15130 Main St\\', \\'Mill Creek, WA 98012\\']}</td>\\n      <td>https://www.yelp.com/biz/kafe-neo-mill-creek-mill-creek-5</td>\\n      <td><img src=\"https://s3-media3.fl.yelpcdn.com/bphoto/a6amRmBVcNfsw1tRxpht3g/o.jpg\" alt=\"\"> height=\"30\" width = \"30\"</td>\\n    </tr>\\n  </tbody>\\n</table>'"
      ]
     },
     "execution_count": 49,
     "metadata": {},
     "output_type": "execute_result"
    }
   ],
   "source": [
    "fff.to_html(escape=False)"
   ]
  },
  {
   "cell_type": "code",
   "execution_count": 51,
   "metadata": {},
   "outputs": [
    {
     "data": {
      "text/plain": [
       "dict"
      ]
     },
     "execution_count": 51,
     "metadata": {},
     "output_type": "execute_result"
    }
   ],
   "source": [
    "ad1 = fff['location'][3]\n",
    "type(ad1)"
   ]
  },
  {
   "cell_type": "code",
   "execution_count": 55,
   "metadata": {},
   "outputs": [
    {
     "data": {
      "text/plain": [
       "'15118 Main StSte 100Mill Creek, WA 98012'"
      ]
     },
     "execution_count": 55,
     "metadata": {},
     "output_type": "execute_result"
    }
   ],
   "source": [
    "''.join(ad1['display_address'])"
   ]
  },
  {
   "cell_type": "code",
   "execution_count": null,
   "metadata": {},
   "outputs": [],
   "source": []
  }
 ],
 "metadata": {
  "kernelspec": {
   "display_name": "Python 3",
   "language": "python",
   "name": "python3"
  },
  "language_info": {
   "codemirror_mode": {
    "name": "ipython",
    "version": 3
   },
   "file_extension": ".py",
   "mimetype": "text/x-python",
   "name": "python",
   "nbconvert_exporter": "python",
   "pygments_lexer": "ipython3",
   "version": "3.6.5"
  }
 },
 "nbformat": 4,
 "nbformat_minor": 2
}
