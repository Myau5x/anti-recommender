{
 "cells": [
  {
   "cell_type": "code",
   "execution_count": 1,
   "metadata": {},
   "outputs": [],
   "source": [
    "import pandas as pd\n",
    "from pymongo import MongoClient\n",
    "import time\n",
    "from starting_db import retrieve_datatable"
   ]
  },
  {
   "cell_type": "code",
   "execution_count": 12,
   "metadata": {},
   "outputs": [],
   "source": [
    "import numpy as np"
   ]
  },
  {
   "cell_type": "code",
   "execution_count": 2,
   "metadata": {},
   "outputs": [],
   "source": [
    "mc = MongoClient()\n",
    "db  = mc['raw_restaurants']\n",
    "biz = db['restaurants']\n",
    "users = db['users']\n",
    "rv = db['reviews']\n",
    "rv_s = db['reviews_scrap']"
   ]
  },
  {
   "cell_type": "code",
   "execution_count": 6,
   "metadata": {},
   "outputs": [
    {
     "data": {
      "text/plain": [
       "(12834, 25022, 15520, 8631)"
      ]
     },
     "execution_count": 6,
     "metadata": {},
     "output_type": "execute_result"
    }
   ],
   "source": [
    "rv_s.count_documents({}), rv.count_documents({}), users.count_documents({}), biz.count_documents({})"
   ]
  },
  {
   "cell_type": "code",
   "execution_count": 7,
   "metadata": {},
   "outputs": [],
   "source": [
    "df_rv = retrieve_datatable(rv)"
   ]
  },
  {
   "cell_type": "code",
   "execution_count": 9,
   "metadata": {},
   "outputs": [
    {
     "data": {
      "text/plain": [
       "((25022, 8),\n",
       " Index(['_id', 'biz_id', 'id', 'rating', 'text', 'time_created', 'url', 'user'], dtype='object'))"
      ]
     },
     "execution_count": 9,
     "metadata": {},
     "output_type": "execute_result"
    }
   ],
   "source": [
    "df_rv.shape, df_rv.columns"
   ]
  },
  {
   "cell_type": "code",
   "execution_count": 14,
   "metadata": {},
   "outputs": [],
   "source": [
    "df_rv['user_id'] = df_rv.user.map(lambda x: x['id'])"
   ]
  },
  {
   "cell_type": "code",
   "execution_count": 30,
   "metadata": {},
   "outputs": [],
   "source": [
    "user_summary = df_rv.groupby('user_id')['rating'].count()"
   ]
  },
  {
   "cell_type": "code",
   "execution_count": 41,
   "metadata": {},
   "outputs": [
    {
     "data": {
      "text/plain": [
       "708"
      ]
     },
     "execution_count": 41,
     "metadata": {},
     "output_type": "execute_result"
    }
   ],
   "source": [
    "sum(user_summary >=5)"
   ]
  },
  {
   "cell_type": "code",
   "execution_count": 42,
   "metadata": {},
   "outputs": [],
   "source": [
    "sd_scr = retrieve_datatable(rv_s)"
   ]
  },
  {
   "cell_type": "code",
   "execution_count": 47,
   "metadata": {},
   "outputs": [
    {
     "data": {
      "text/plain": [
       "Index(['_id', 'alias', 'biz_id', 'category', 'date', 'id', 'rating', 'text',\n",
       "       'user_id'],\n",
       "      dtype='object')"
      ]
     },
     "execution_count": 47,
     "metadata": {},
     "output_type": "execute_result"
    }
   ],
   "source": [
    "sd_scr.columns"
   ]
  },
  {
   "cell_type": "code",
   "execution_count": 48,
   "metadata": {},
   "outputs": [
    {
     "data": {
      "text/plain": [
       "10222"
      ]
     },
     "execution_count": 48,
     "metadata": {},
     "output_type": "execute_result"
    }
   ],
   "source": [
    "len(pd.unique(sd_scr.alias))"
   ]
  },
  {
   "cell_type": "code",
   "execution_count": 51,
   "metadata": {},
   "outputs": [],
   "source": [
    "rest_summary = sd_scr.groupby('alias')['rating'].count()"
   ]
  },
  {
   "cell_type": "code",
   "execution_count": 54,
   "metadata": {},
   "outputs": [
    {
     "data": {
      "text/plain": [
       "166"
      ]
     },
     "execution_count": 54,
     "metadata": {},
     "output_type": "execute_result"
    }
   ],
   "source": [
    "sum(rest_summary >=5)"
   ]
  },
  {
   "cell_type": "code",
   "execution_count": 55,
   "metadata": {},
   "outputs": [
    {
     "data": {
      "text/plain": [
       "alias\n",
       "85-c-bakery-cafe-tukwila                        7\n",
       "a-la-mode-pies-west-seattle-seattle-2           5\n",
       "alchemy-seattle                                 6\n",
       "aqua-by-el-gaucho-seattle                       5\n",
       "arashi-ramen-tukwila-5                          5\n",
       "arthurs-seattle                                 6\n",
       "asadero-sinaloa-kent                            5\n",
       "ba-bar-seattle                                  5\n",
       "bai-tong-thai-restaurant-tukwila                5\n",
       "bakery-nouveau-seattle                         10\n",
       "bambu-seattle-2                                 5\n",
       "bar-del-corso-seattle                           5\n",
       "barolo-ristorante-seattle                       6\n",
       "beer-star-seattle-2                             5\n",
       "beths-cafe-seattle                              6\n",
       "biscuit-and-bean-seattle-4                      6\n",
       "biscuit-bitch-seattle                           7\n",
       "biscuit-bitch-seattle-9                         7\n",
       "bjs-restaurant-and-brewhouse-tukwila            5\n",
       "blarney-stone-pub-and-restaurant-seattle        5\n",
       "blue-c-sushi-tukwila                            5\n",
       "blue-star-donuts-portland                       5\n",
       "blueacre-seafood-seattle                        5\n",
       "bok-a-bok-fried-chicken-seattle                 7\n",
       "bs-po-boy-seattle                               5\n",
       "buddha-ruksa-seattle                            8\n",
       "burien-fish-house-burien                        5\n",
       "cactus-restaurants-seattle-2                   11\n",
       "caf%C3%A9-campagne-seattle-3                    5\n",
       "circa-seattle                                   8\n",
       "                                               ..\n",
       "storyville-coffee-company-seattle-9             5\n",
       "supreme-seattle-2                               6\n",
       "tacos-chukis-seattle                            7\n",
       "talaricos-pizzeria-seattle                      8\n",
       "tamari-bar-seattle                              5\n",
       "tamarind-tree-seattle                           5\n",
       "taqueria-la-fondita-2-seattle                   7\n",
       "tats-delicatessen-seattle                       8\n",
       "the-5-point-caf%C3%A9-seattle-2                 5\n",
       "the-bridge-seattle-3                           11\n",
       "the-carlile-room-seattle                        7\n",
       "the-cheesecake-factory-seattle                  7\n",
       "the-cheesecake-factory-tukwila-2                5\n",
       "the-crumpet-shop-seattle                        6\n",
       "the-matador-seattle                             7\n",
       "the-pink-door-seattle-4                         6\n",
       "the-swinery-seattle                             8\n",
       "the-walrus-and-the-carpenter-seattle            5\n",
       "the-westy-seattle-2                             5\n",
       "tilikum-place-cafe-seattle-3                    9\n",
       "toulouse-petit-kitchen-and-lounge-seattle       7\n",
       "tsukushinbo-seattle                             7\n",
       "umi-sake-house-seattle                          7\n",
       "un-bien-seattle                                 5\n",
       "unicorn-seattle                                 5\n",
       "vons-1000-spirits-seattle-4                     7\n",
       "voodoo-doughnut-portland                        9\n",
       "wallys-chowder-house-and-broiler-des-moines     5\n",
       "windy-city-pie-seattle                          5\n",
       "zippys-giant-burgers-seattle                    6\n",
       "Name: rating, Length: 166, dtype: int64"
      ]
     },
     "execution_count": 55,
     "metadata": {},
     "output_type": "execute_result"
    }
   ],
   "source": [
    "rest_summary[rest_summary >=5]"
   ]
  },
  {
   "cell_type": "code",
   "execution_count": null,
   "metadata": {},
   "outputs": [],
   "source": []
  }
 ],
 "metadata": {
  "kernelspec": {
   "display_name": "Python 3",
   "language": "python",
   "name": "python3"
  },
  "language_info": {
   "codemirror_mode": {
    "name": "ipython",
    "version": 3
   },
   "file_extension": ".py",
   "mimetype": "text/x-python",
   "name": "python",
   "nbconvert_exporter": "python",
   "pygments_lexer": "ipython3",
   "version": "3.6.5"
  }
 },
 "nbformat": 4,
 "nbformat_minor": 2
}
