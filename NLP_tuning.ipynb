{
 "cells": [
  {
   "cell_type": "code",
   "execution_count": 1,
   "metadata": {},
   "outputs": [],
   "source": [
    "import numpy as np\n",
    "\n",
    "\n",
    "import string\n",
    "import re\n",
    "\n",
    "from nltk.tokenize import word_tokenize\n",
    "from nltk.corpus import stopwords\n",
    "from nltk.stem.porter import PorterStemmer\n",
    "\n",
    "from pyspark.ml.clustering import KMeans\n",
    "from pyspark.ml.feature import CountVectorizer, IDF\n",
    "from pyspark.sql.functions import udf\n",
    "from pyspark.sql.types import ArrayType, StringType, BooleanType\n",
    "from pyspark.ml import Pipeline\n",
    "\n",
    "from nlp_cl_start import data_tokenizer"
   ]
  },
  {
   "cell_type": "code",
   "execution_count": null,
   "metadata": {},
   "outputs": [],
   "source": [
    "import pyspark as ps\n",
    "spark = (ps.sql.SparkSession.builder\n",
    "        .master(\"local[4]\")\n",
    "        .appName(\"yelp_academic\")\n",
    "        .getOrCreate()\n",
    "        )\n",
    "sc = spark.sparkContext"
   ]
  },
  {
   "cell_type": "code",
   "execution_count": 2,
   "metadata": {},
   "outputs": [],
   "source": [
    "import pandas as pd"
   ]
  },
  {
   "cell_type": "code",
   "execution_count": 3,
   "metadata": {},
   "outputs": [],
   "source": [
    "from pipe_spar import api_f, cluster_biz_by_review , cluster_user_by_review"
   ]
  },
  {
   "cell_type": "code",
   "execution_count": 4,
   "metadata": {},
   "outputs": [],
   "source": [
    "from nlp_cl_start import if_rest_udf"
   ]
  },
  {
   "cell_type": "code",
   "execution_count": 84,
   "metadata": {},
   "outputs": [],
   "source": [
    "from my_metr import transform_to_score, my_scorer, transform_aggregated\n",
    "from sklearn.metrics import accuracy_score, recall_score"
   ]
  },
  {
   "cell_type": "markdown",
   "metadata": {},
   "source": [
    "## Load data\n",
    "load all data, select bad reviews, define train and test"
   ]
  },
  {
   "cell_type": "code",
   "execution_count": 6,
   "metadata": {},
   "outputs": [],
   "source": [
    "biz = spark.read.json('yelp_dataset/yelp_academic_dataset_business.json')\n",
    "rev = spark.read.json('yelp_dataset/yelp_academic_dataset_review.json')"
   ]
  },
  {
   "cell_type": "markdown",
   "metadata": {},
   "source": [
    "1. Filter restaraunts"
   ]
  },
  {
   "cell_type": "code",
   "execution_count": 7,
   "metadata": {},
   "outputs": [],
   "source": [
    "rests = biz.filter(if_rest_udf(biz.categories))"
   ]
  },
  {
   "cell_type": "code",
   "execution_count": 8,
   "metadata": {},
   "outputs": [],
   "source": [
    "rest_rev = rev.join(rests.select('business_id','stars').withColumnRenamed('stars','rating'),'business_id')\n",
    "bad_reviews = rest_rev.filter('stars < 3')"
   ]
  },
  {
   "cell_type": "code",
   "execution_count": 31,
   "metadata": {},
   "outputs": [
    {
     "data": {
      "text/plain": [
       "768690"
      ]
     },
     "execution_count": 31,
     "metadata": {},
     "output_type": "execute_result"
    }
   ],
   "source": [
    "bad_reviews.count()"
   ]
  },
  {
   "cell_type": "markdown",
   "metadata": {},
   "source": [
    "### Now I change train sample from 20000 to 100000"
   ]
  },
  {
   "cell_type": "code",
   "execution_count": 45,
   "metadata": {},
   "outputs": [],
   "source": [
    "bad_sample = bad_reviews.sample(False, 0.127, seed =91)\n",
    "#bad_sample = bad_reviews.sample(False, 0.027, seed =91)\n"
   ]
  },
  {
   "cell_type": "code",
   "execution_count": 46,
   "metadata": {},
   "outputs": [
    {
     "name": "stdout",
     "output_type": "stream",
     "text": [
      "CPU times: user 2.23 ms, sys: 2.04 ms, total: 4.26 ms\n",
      "Wall time: 20 s\n"
     ]
    },
    {
     "data": {
      "text/plain": [
       "97353"
      ]
     },
     "execution_count": 46,
     "metadata": {},
     "output_type": "execute_result"
    }
   ],
   "source": [
    "%%time\n",
    "bad_sample.count()"
   ]
  },
  {
   "cell_type": "code",
   "execution_count": 47,
   "metadata": {},
   "outputs": [
    {
     "data": {
      "text/plain": [
       "DataFrame[business_id: string, cool: bigint, date: string, funny: bigint, review_id: string, stars: bigint, text: string, useful: bigint, user_id: string, rating: double]"
      ]
     },
     "execution_count": 47,
     "metadata": {},
     "output_type": "execute_result"
    }
   ],
   "source": [
    "bad_sample.cache()"
   ]
  },
  {
   "cell_type": "code",
   "execution_count": 107,
   "metadata": {},
   "outputs": [
    {
     "data": {
      "text/plain": [
       "True"
      ]
     },
     "execution_count": 107,
     "metadata": {},
     "output_type": "execute_result"
    }
   ],
   "source": [
    "bad_sample."
   ]
  },
  {
   "cell_type": "markdown",
   "metadata": {},
   "source": [
    "2. Tokenize sample"
   ]
  },
  {
   "cell_type": "code",
   "execution_count": 48,
   "metadata": {},
   "outputs": [],
   "source": [
    "sample_token= data_tokenizer(bad_sample)"
   ]
  },
  {
   "cell_type": "code",
   "execution_count": 49,
   "metadata": {},
   "outputs": [],
   "source": [
    "splits = sample_token.randomSplit([0.8, 0.1, 0.1], seed = 91)\n"
   ]
  },
  {
   "cell_type": "code",
   "execution_count": 50,
   "metadata": {},
   "outputs": [],
   "source": [
    "train = splits[0]\n",
    "add_cl = splits[1]\n",
    "test = splits[2]"
   ]
  },
  {
   "cell_type": "code",
   "execution_count": 52,
   "metadata": {},
   "outputs": [
    {
     "data": {
      "text/plain": [
       "Row(business_id='--9e1ONYQuAa-CB_Rrw7Tw', cool=0, date='2012-05-11', funny=0, review_id='OaRMJKI6S7LAoa8xoEaqPg', stars=2, text=\"I feel like Twitter is pretty useless so far; I have an ok amount of followers I guess, but I feel like they're all following so many people that anything I say gets lost in the mess of their feed. I could tweet all day and get very little response to anything aside from a couple loyal folks on there. And it was one such reader that led me to Delmonico recently for what he claimed to be an excellent burger. He's a food writer in town so he should know what he's talking about, right?\\n\\nDelmonico is located in the small restaurant row of the Venetian right by another great burger spot, although most people would not come here for their burger. The interior is nothing too fancy in either the bar area or more traditional area in the back. I did notice while sitting at the bar that they have an amazing bourbon selection, but since I was there during a lunch break I'll have to go back some time when I'm not on the clock. The lunch and dinner menus are a bit different, with the lunch menu featuring more sandwiches and things, so maybe the comment I just made about people not coming for a burger is wrong. Either way, this restaurant is pretty fancy and features quite a number of great sounding items aside from what I came there for.\\n\\nThe Delmonico Prime Hamburger comes on a toasted brioche roll with fries, cheddar cheese and bacon. The meat had excellent flavor from the first bite, but I noticed right away that it was way overcooked and dry. It started off extremely juicy but that faded way too fast and by the end it was very dry. The cheese was melted and had great flavor, but the bun was a tiny bit dry as well and a little too thick. The heirloom tomatoes were fantastic, but maybe a bit off-putting at first due to their green color. The bacon also had good flavor, but was a tiny bit undercooked and soggy in parts. Overall it was still decent, but could have been well beyond that if the meat had been cooked properly.\\n\\nLuckily the fries were great. Some of them were almost a bit too hard and crunchy, but they were very tasty and a welcome change to the 'typical' fries I often get around town. Something I found to be quite funny was when I asked for ketchup I was brought an insanely large bowl of it, more than probably a table full of people could have used.\\n\\nThe online menu lists the burger at $15, so I was a little surprised to see the $18 listed on the menu when I made my order. I think if it was cooked properly I would still be ok with this price given the chef, the location, etc, but because of this price I seriously frown on the fact that they couldn't cook my burger properly. If you're willing to risk this inconsistency and are ok with the cost, I think it's a good burger to check out, and has the potential to be really great, but if you're at the Venetian and are craving a guaranteed good burger for a similar cost I suggest you go next door.\", useful=2, user_id='0G9BcXSQscv_GnhlNwFfjw', rating=4.0, token=['feel', 'like', 'twitter', 'pretti', 'useless', 'far', 'ok', 'amount', 'follow', 'guess', 'feel', 'like', 'follow', 'mani', 'peopl', 'anyth', 'say', 'get', 'lost', 'mess', 'feed', 'could', 'tweet', 'day', 'get', 'littl', 'respons', 'anyth', 'asid', 'coupl', 'loyal', 'folk', 'one', 'reader', 'led', 'delmonico', 'recent', 'claim', 'excel', 'burger', 'food', 'writer', 'town', 'know', 'talk', 'right', 'delmonico', 'locat', 'small', 'restaur', 'row', 'venetian', 'right', 'anoth', 'great', 'burger', 'spot', 'although', 'peopl', 'would', 'come', 'burger', 'interior', 'noth', 'fanci', 'either', 'bar', 'area', 'tradit', 'area', 'back', 'notic', 'sit', 'bar', 'amaz', 'bourbon', 'select', 'sinc', 'lunch', 'break', 'go', 'back', 'time', 'clock', 'lunch', 'dinner', 'menu', 'bit', 'differ', 'lunch', 'menu', 'featur', 'sandwich', 'thing', 'mayb', 'comment', 'made', 'peopl', 'come', 'burger', 'wrong', 'either', 'way', 'restaur', 'pretti', 'fanci', 'featur', 'quit', 'number', 'great', 'sound', 'item', 'asid', 'came', 'delmonico', 'prime', 'hamburg', 'come', 'toast', 'brioch', 'roll', 'fri', 'cheddar', 'chees', 'bacon', 'meat', 'excel', 'flavor', 'first', 'bite', 'notic', 'right', 'away', 'way', 'overcook', 'dri', 'start', 'extrem', 'juici', 'fade', 'way', 'fast', 'end', 'dri', 'chees', 'melt', 'great', 'flavor', 'bun', 'tini', 'bit', 'dri', 'well', 'littl', 'thick', 'heirloom', 'tomato', 'fantast', 'mayb', 'bit', 'put', 'first', 'due', 'green', 'color', 'bacon', 'also', 'good', 'flavor', 'tini', 'bit', 'undercook', 'soggi', 'part', 'overal', 'still', 'decent', 'could', 'well', 'beyond', 'meat', 'cook', 'properli', 'luckili', 'fri', 'great', 'almost', 'bit', 'hard', 'crunchi', 'tasti', 'welcom', 'chang', 'typic', 'fri', 'often', 'get', 'around', 'town', 'someth', 'found', 'quit', 'funni', 'ask', 'ketchup', 'brought', 'insan', 'larg', 'bowl', 'probabl', 'tabl', 'full', 'peopl', 'could', 'use', 'onlin', 'menu', 'list', 'burger', 'littl', 'surpris', 'see', 'list', 'menu', 'made', 'order', 'think', 'cook', 'properli', 'would', 'still', 'ok', 'price', 'given', 'chef', 'locat', 'etc', 'price', 'serious', 'frown', 'fact', 'cook', 'burger', 'properli', 'will', 'risk', 'inconsist', 'ok', 'cost', 'think', 'good', 'burger', 'check', 'potenti', 'realli', 'great', 'venetian', 'crave', 'guarante', 'good', 'burger', 'similar', 'cost', 'suggest', 'go', 'next', 'door'])"
      ]
     },
     "execution_count": 52,
     "metadata": {},
     "output_type": "execute_result"
    }
   ],
   "source": [
    "train.first()"
   ]
  },
  {
   "cell_type": "code",
   "execution_count": 53,
   "metadata": {},
   "outputs": [
    {
     "data": {
      "text/plain": [
       "DataFrame[business_id: string, cool: bigint, date: string, funny: bigint, review_id: string, stars: bigint, text: string, useful: bigint, user_id: string, rating: double, token: array<string>]"
      ]
     },
     "execution_count": 53,
     "metadata": {},
     "output_type": "execute_result"
    }
   ],
   "source": [
    "train.cache()"
   ]
  },
  {
   "cell_type": "markdown",
   "metadata": {},
   "source": [
    "### Model to cluster all reviews"
   ]
  },
  {
   "cell_type": "code",
   "execution_count": 54,
   "metadata": {},
   "outputs": [],
   "source": [
    "cv = CountVectorizer(minDF=10, vocabSize=5000, inputCol='token', outputCol='vectors')\n",
    "km1 = KMeans(k = 15, featuresCol='vectors', maxIter= 30)\n",
    "\n",
    "\n",
    "pipe_count = Pipeline(stages=[cv, km1])"
   ]
  },
  {
   "cell_type": "code",
   "execution_count": 55,
   "metadata": {},
   "outputs": [
    {
     "name": "stdout",
     "output_type": "stream",
     "text": [
      "CPU times: user 115 ms, sys: 57.5 ms, total: 173 ms\n",
      "Wall time: 1min 19s\n"
     ]
    }
   ],
   "source": [
    "%%time\n",
    "pipe_cv_model = pipe_count.fit(train)"
   ]
  },
  {
   "cell_type": "markdown",
   "metadata": {},
   "source": [
    "3. Clustering user and bussiness"
   ]
  },
  {
   "cell_type": "code",
   "execution_count": 56,
   "metadata": {},
   "outputs": [
    {
     "data": {
      "text/plain": [
       "DataFrame[business_id: string, cool: bigint, date: string, funny: bigint, review_id: string, stars: bigint, text: string, useful: bigint, user_id: string, rating: double, token: array<string>]"
      ]
     },
     "execution_count": 56,
     "metadata": {},
     "output_type": "execute_result"
    }
   ],
   "source": [
    "both = train.union(add_cl)\n",
    "both.cache()"
   ]
  },
  {
   "cell_type": "code",
   "execution_count": null,
   "metadata": {},
   "outputs": [],
   "source": []
  },
  {
   "cell_type": "code",
   "execution_count": 57,
   "metadata": {},
   "outputs": [],
   "source": [
    "user_with_cl = cluster_user_by_review(both, pipe_cv_model)"
   ]
  },
  {
   "cell_type": "code",
   "execution_count": 58,
   "metadata": {},
   "outputs": [],
   "source": [
    "biz_with_cl = cluster_biz_by_review(both, pipe_cv_model)"
   ]
  },
  {
   "cell_type": "code",
   "execution_count": 62,
   "metadata": {},
   "outputs": [
    {
     "data": {
      "text/plain": [
       "DataFrame[business_id: string, biz_cl: int]"
      ]
     },
     "execution_count": 62,
     "metadata": {},
     "output_type": "execute_result"
    }
   ],
   "source": [
    "user_with_cl.cache()\n",
    "biz_with_cl.cache()"
   ]
  },
  {
   "cell_type": "code",
   "execution_count": 79,
   "metadata": {},
   "outputs": [
    {
     "data": {
      "text/plain": [
       "['business_id', 'biz_cl']"
      ]
     },
     "execution_count": 79,
     "metadata": {},
     "output_type": "execute_result"
    }
   ],
   "source": []
  },
  {
   "cell_type": "markdown",
   "metadata": {},
   "source": [
    "## Create test set \n",
    "\n",
    "I need reviews that I didn't use for clusterization restorants and user. But in same time that contains clusterized restaraunts and users"
   ]
  },
  {
   "cell_type": "code",
   "execution_count": 60,
   "metadata": {},
   "outputs": [
    {
     "data": {
      "text/plain": [
       "[Row(review_id='OaRMJKI6S7LAoa8xoEaqPg'),\n",
       " Row(review_id='syUWGlVaWBkr9iI7sMJGcw')]"
      ]
     },
     "execution_count": 60,
     "metadata": {},
     "output_type": "execute_result"
    }
   ],
   "source": [
    "train_rev_id =both.select('review_id')\n",
    "train_rev_id.take(2)"
   ]
  },
  {
   "cell_type": "code",
   "execution_count": 61,
   "metadata": {},
   "outputs": [
    {
     "name": "stdout",
     "output_type": "stream",
     "text": [
      "CPU times: user 8.59 ms, sys: 4.93 ms, total: 13.5 ms\n",
      "Wall time: 54 s\n"
     ]
    },
    {
     "data": {
      "text/plain": [
       "87551"
      ]
     },
     "execution_count": 61,
     "metadata": {},
     "output_type": "execute_result"
    }
   ],
   "source": [
    "%%time\n",
    "user_with_cl.count()"
   ]
  },
  {
   "cell_type": "code",
   "execution_count": 63,
   "metadata": {},
   "outputs": [],
   "source": [
    "#### a little bit effective\n",
    "known_rev2 = user_with_cl.join(rest_rev.select('business_id',\n",
    " 'review_id',\n",
    " 'stars',\n",
    " 'user_id',\n",
    " 'rating'), 'user_id').join(biz_with_cl, 'business_id')"
   ]
  },
  {
   "cell_type": "code",
   "execution_count": 64,
   "metadata": {},
   "outputs": [
    {
     "name": "stdout",
     "output_type": "stream",
     "text": [
      "CPU times: user 32.9 ms, sys: 14.6 ms, total: 47.5 ms\n",
      "Wall time: 27.5 s\n"
     ]
    },
    {
     "data": {
      "text/plain": [
       "13749260"
      ]
     },
     "execution_count": 64,
     "metadata": {},
     "output_type": "execute_result"
    }
   ],
   "source": [
    "%%time\n",
    "known_rev2.count()"
   ]
  },
  {
   "cell_type": "code",
   "execution_count": 65,
   "metadata": {},
   "outputs": [],
   "source": [
    "new_t = known_rev2.join(train_rev_id, 'review_id','left_anti' )"
   ]
  },
  {
   "cell_type": "code",
   "execution_count": 66,
   "metadata": {},
   "outputs": [
    {
     "name": "stdout",
     "output_type": "stream",
     "text": [
      "CPU times: user 37.1 ms, sys: 17.9 ms, total: 55 ms\n",
      "Wall time: 27.9 s\n"
     ]
    },
    {
     "data": {
      "text/plain": [
       "12438216"
      ]
     },
     "execution_count": 66,
     "metadata": {},
     "output_type": "execute_result"
    }
   ],
   "source": [
    "%%time\n",
    "new_t.count()"
   ]
  },
  {
   "cell_type": "code",
   "execution_count": 67,
   "metadata": {},
   "outputs": [
    {
     "data": {
      "text/plain": [
       "DataFrame[review_id: string, business_id: string, user_id: string, user_cl: int, stars: bigint, rating: double, biz_cl: int]"
      ]
     },
     "execution_count": 67,
     "metadata": {},
     "output_type": "execute_result"
    }
   ],
   "source": [
    "new_t.cache()"
   ]
  },
  {
   "cell_type": "code",
   "execution_count": 71,
   "metadata": {},
   "outputs": [
    {
     "data": {
      "text/plain": [
       "['review_id', 'business_id', 'user_id', 'user_cl', 'stars', 'rating', 'biz_cl']"
      ]
     },
     "execution_count": 71,
     "metadata": {},
     "output_type": "execute_result"
    }
   ],
   "source": [
    "new_t.columns"
   ]
  },
  {
   "cell_type": "code",
   "execution_count": 76,
   "metadata": {},
   "outputs": [],
   "source": [
    "new_t = new_t.withColumn('similar', (new_t.user_cl == new_t.biz_cl).cast(\"int\"))"
   ]
  },
  {
   "cell_type": "code",
   "execution_count": 80,
   "metadata": {},
   "outputs": [
    {
     "data": {
      "text/plain": [
       "['review_id', 'sum(similar)', 'avg(rating)', 'avg(stars)']"
      ]
     },
     "execution_count": 80,
     "metadata": {},
     "output_type": "execute_result"
    }
   ],
   "source": [
    "regroup = new_t.groupBy('review_id').agg({'rating': 'mean', 'stars':'mean', 'similar':'sum' })\n",
    "regroup.columns"
   ]
  },
  {
   "cell_type": "code",
   "execution_count": 81,
   "metadata": {},
   "outputs": [
    {
     "name": "stdout",
     "output_type": "stream",
     "text": [
      "CPU times: user 17.1 ms, sys: 7.95 ms, total: 25.1 ms\n",
      "Wall time: 1.97 s\n"
     ]
    },
    {
     "data": {
      "text/plain": [
       "735060"
      ]
     },
     "execution_count": 81,
     "metadata": {},
     "output_type": "execute_result"
    }
   ],
   "source": [
    "%%time\n",
    "regroup.count()"
   ]
  },
  {
   "cell_type": "code",
   "execution_count": 82,
   "metadata": {},
   "outputs": [
    {
     "data": {
      "text/html": [
       "<div>\n",
       "<style scoped>\n",
       "    .dataframe tbody tr th:only-of-type {\n",
       "        vertical-align: middle;\n",
       "    }\n",
       "\n",
       "    .dataframe tbody tr th {\n",
       "        vertical-align: top;\n",
       "    }\n",
       "\n",
       "    .dataframe thead th {\n",
       "        text-align: right;\n",
       "    }\n",
       "</style>\n",
       "<table border=\"1\" class=\"dataframe\">\n",
       "  <thead>\n",
       "    <tr style=\"text-align: right;\">\n",
       "      <th></th>\n",
       "      <th>review_id</th>\n",
       "      <th>sum(similar)</th>\n",
       "      <th>avg(rating)</th>\n",
       "      <th>avg(stars)</th>\n",
       "    </tr>\n",
       "  </thead>\n",
       "  <tbody>\n",
       "    <tr>\n",
       "      <th>0</th>\n",
       "      <td>-01ePuKPxMw1bhR4ISbIlw</td>\n",
       "      <td>1</td>\n",
       "      <td>4.0</td>\n",
       "      <td>4.0</td>\n",
       "    </tr>\n",
       "    <tr>\n",
       "      <th>1</th>\n",
       "      <td>-0XptEAda6qaK7QrkGF-IQ</td>\n",
       "      <td>1</td>\n",
       "      <td>3.0</td>\n",
       "      <td>4.0</td>\n",
       "    </tr>\n",
       "    <tr>\n",
       "      <th>2</th>\n",
       "      <td>-0u6BAh47_WiKXcjYcq8vQ</td>\n",
       "      <td>0</td>\n",
       "      <td>3.0</td>\n",
       "      <td>3.0</td>\n",
       "    </tr>\n",
       "    <tr>\n",
       "      <th>3</th>\n",
       "      <td>-1GR5fgGizpSfTMtWFQRUw</td>\n",
       "      <td>1</td>\n",
       "      <td>3.0</td>\n",
       "      <td>3.0</td>\n",
       "    </tr>\n",
       "    <tr>\n",
       "      <th>4</th>\n",
       "      <td>-1kQanNhit-7B9RBjY6p_A</td>\n",
       "      <td>6</td>\n",
       "      <td>4.0</td>\n",
       "      <td>3.0</td>\n",
       "    </tr>\n",
       "  </tbody>\n",
       "</table>\n",
       "</div>"
      ],
      "text/plain": [
       "                review_id  sum(similar)  avg(rating)  avg(stars)\n",
       "0  -01ePuKPxMw1bhR4ISbIlw             1          4.0         4.0\n",
       "1  -0XptEAda6qaK7QrkGF-IQ             1          3.0         4.0\n",
       "2  -0u6BAh47_WiKXcjYcq8vQ             0          3.0         3.0\n",
       "3  -1GR5fgGizpSfTMtWFQRUw             1          3.0         3.0\n",
       "4  -1kQanNhit-7B9RBjY6p_A             6          4.0         3.0"
      ]
     },
     "execution_count": 82,
     "metadata": {},
     "output_type": "execute_result"
    }
   ],
   "source": [
    "new_grf = regroup.toPandas()\n",
    "new_grf.head()"
   ]
  },
  {
   "cell_type": "code",
   "execution_count": 90,
   "metadata": {},
   "outputs": [
    {
     "data": {
      "text/html": [
       "<div>\n",
       "<style scoped>\n",
       "    .dataframe tbody tr th:only-of-type {\n",
       "        vertical-align: middle;\n",
       "    }\n",
       "\n",
       "    .dataframe tbody tr th {\n",
       "        vertical-align: top;\n",
       "    }\n",
       "\n",
       "    .dataframe thead th {\n",
       "        text-align: right;\n",
       "    }\n",
       "</style>\n",
       "<table border=\"1\" class=\"dataframe\">\n",
       "  <thead>\n",
       "    <tr style=\"text-align: right;\">\n",
       "      <th></th>\n",
       "      <th>review_id</th>\n",
       "      <th>sum(similar)</th>\n",
       "      <th>avg(rating)</th>\n",
       "      <th>avg(stars)</th>\n",
       "      <th>pred</th>\n",
       "      <th>act</th>\n",
       "      <th>base</th>\n",
       "      <th>base_3.5</th>\n",
       "    </tr>\n",
       "  </thead>\n",
       "  <tbody>\n",
       "    <tr>\n",
       "      <th>0</th>\n",
       "      <td>-01ePuKPxMw1bhR4ISbIlw</td>\n",
       "      <td>1</td>\n",
       "      <td>4.0</td>\n",
       "      <td>4.0</td>\n",
       "      <td>True</td>\n",
       "      <td>False</td>\n",
       "      <td>False</td>\n",
       "      <td>False</td>\n",
       "    </tr>\n",
       "    <tr>\n",
       "      <th>1</th>\n",
       "      <td>-0XptEAda6qaK7QrkGF-IQ</td>\n",
       "      <td>1</td>\n",
       "      <td>3.0</td>\n",
       "      <td>4.0</td>\n",
       "      <td>True</td>\n",
       "      <td>False</td>\n",
       "      <td>False</td>\n",
       "      <td>True</td>\n",
       "    </tr>\n",
       "    <tr>\n",
       "      <th>2</th>\n",
       "      <td>-0u6BAh47_WiKXcjYcq8vQ</td>\n",
       "      <td>0</td>\n",
       "      <td>3.0</td>\n",
       "      <td>3.0</td>\n",
       "      <td>False</td>\n",
       "      <td>False</td>\n",
       "      <td>False</td>\n",
       "      <td>True</td>\n",
       "    </tr>\n",
       "    <tr>\n",
       "      <th>3</th>\n",
       "      <td>-1GR5fgGizpSfTMtWFQRUw</td>\n",
       "      <td>1</td>\n",
       "      <td>3.0</td>\n",
       "      <td>3.0</td>\n",
       "      <td>True</td>\n",
       "      <td>False</td>\n",
       "      <td>False</td>\n",
       "      <td>True</td>\n",
       "    </tr>\n",
       "    <tr>\n",
       "      <th>4</th>\n",
       "      <td>-1kQanNhit-7B9RBjY6p_A</td>\n",
       "      <td>6</td>\n",
       "      <td>4.0</td>\n",
       "      <td>3.0</td>\n",
       "      <td>True</td>\n",
       "      <td>False</td>\n",
       "      <td>False</td>\n",
       "      <td>False</td>\n",
       "    </tr>\n",
       "  </tbody>\n",
       "</table>\n",
       "</div>"
      ],
      "text/plain": [
       "                review_id  sum(similar)  avg(rating)  avg(stars)   pred  \\\n",
       "0  -01ePuKPxMw1bhR4ISbIlw             1          4.0         4.0   True   \n",
       "1  -0XptEAda6qaK7QrkGF-IQ             1          3.0         4.0   True   \n",
       "2  -0u6BAh47_WiKXcjYcq8vQ             0          3.0         3.0  False   \n",
       "3  -1GR5fgGizpSfTMtWFQRUw             1          3.0         3.0   True   \n",
       "4  -1kQanNhit-7B9RBjY6p_A             6          4.0         3.0   True   \n",
       "\n",
       "     act   base  base_3.5  \n",
       "0  False  False     False  \n",
       "1  False  False      True  \n",
       "2  False  False      True  \n",
       "3  False  False      True  \n",
       "4  False  False     False  "
      ]
     },
     "execution_count": 90,
     "metadata": {},
     "output_type": "execute_result"
    }
   ],
   "source": [
    "new_grf = transform_aggregated(new_grf)\n",
    "new_grf.head()"
   ]
  },
  {
   "cell_type": "code",
   "execution_count": 91,
   "metadata": {},
   "outputs": [
    {
     "data": {
      "text/html": [
       "<div>\n",
       "<style scoped>\n",
       "    .dataframe tbody tr th:only-of-type {\n",
       "        vertical-align: middle;\n",
       "    }\n",
       "\n",
       "    .dataframe tbody tr th {\n",
       "        vertical-align: top;\n",
       "    }\n",
       "\n",
       "    .dataframe thead th {\n",
       "        text-align: right;\n",
       "    }\n",
       "</style>\n",
       "<table border=\"1\" class=\"dataframe\">\n",
       "  <thead>\n",
       "    <tr style=\"text-align: right;\">\n",
       "      <th></th>\n",
       "      <th>base</th>\n",
       "      <th>base_3.5</th>\n",
       "      <th>combo_35</th>\n",
       "      <th>combo_base</th>\n",
       "      <th>pred</th>\n",
       "    </tr>\n",
       "  </thead>\n",
       "  <tbody>\n",
       "    <tr>\n",
       "      <th>accuracy</th>\n",
       "      <td>0.799355</td>\n",
       "      <td>0.748716</td>\n",
       "      <td>0.450313</td>\n",
       "      <td>0.473242</td>\n",
       "      <td>0.472483</td>\n",
       "    </tr>\n",
       "    <tr>\n",
       "      <th>recall</th>\n",
       "      <td>0.181595</td>\n",
       "      <td>0.406068</td>\n",
       "      <td>0.761578</td>\n",
       "      <td>0.668570</td>\n",
       "      <td>0.587811</td>\n",
       "    </tr>\n",
       "  </tbody>\n",
       "</table>\n",
       "</div>"
      ],
      "text/plain": [
       "              base  base_3.5  combo_35  combo_base      pred\n",
       "accuracy  0.799355  0.748716  0.450313    0.473242  0.472483\n",
       "recall    0.181595  0.406068  0.761578    0.668570  0.587811"
      ]
     },
     "execution_count": 91,
     "metadata": {},
     "output_type": "execute_result"
    }
   ],
   "source": [
    "my_scorer(new_grf)"
   ]
  },
  {
   "cell_type": "code",
   "execution_count": 93,
   "metadata": {},
   "outputs": [
    {
     "data": {
      "text/plain": [
       "(0.20248279052050172, 148837)"
      ]
     },
     "execution_count": 93,
     "metadata": {},
     "output_type": "execute_result"
    }
   ],
   "source": [
    "act = new_grf.act\n",
    "act.mean(), act.sum()"
   ]
  },
  {
   "cell_type": "code",
   "execution_count": 105,
   "metadata": {},
   "outputs": [],
   "source": [
    "rand = np.random.binomial(1, 0.55, 735060 )"
   ]
  },
  {
   "cell_type": "code",
   "execution_count": 106,
   "metadata": {},
   "outputs": [
    {
     "data": {
      "text/plain": [
       "(0.47070307185807964, 0.5487479591768176)"
      ]
     },
     "execution_count": 106,
     "metadata": {},
     "output_type": "execute_result"
    }
   ],
   "source": [
    "accuracy_score(act, rand), recall_score(act, rand)"
   ]
  },
  {
   "cell_type": "code",
   "execution_count": null,
   "metadata": {},
   "outputs": [],
   "source": []
  },
  {
   "cell_type": "code",
   "execution_count": null,
   "metadata": {},
   "outputs": [],
   "source": []
  },
  {
   "cell_type": "code",
   "execution_count": 72,
   "metadata": {},
   "outputs": [],
   "source": [
    "####work only for small dataframes\n",
    "newt_df = new_t.toPandas()"
   ]
  },
  {
   "cell_type": "code",
   "execution_count": null,
   "metadata": {},
   "outputs": [],
   "source": []
  },
  {
   "cell_type": "code",
   "execution_count": 69,
   "metadata": {},
   "outputs": [],
   "source": [
    "new_gr = transform_to_score(newt_df)"
   ]
  },
  {
   "cell_type": "code",
   "execution_count": 30,
   "metadata": {},
   "outputs": [
    {
     "data": {
      "text/plain": [
       "(                        similar  stars  rating   pred    act   base  base_3.5\n",
       " review_id                                                                    \n",
       " ---94vtJ_5o_nikEs6hUjg      0.0      5     4.5  False  False  False     False\n",
       " ---L4b6VR6HoB-q7cfMWIA      1.0      5     3.5   True  False  False     False\n",
       " --0y7xOZPpiGD5d6vgfafg      0.0      1     3.5  False   True  False     False\n",
       " --74laQJk_BAMziNznD5Ig      0.0      3     3.5  False  False  False     False\n",
       " --7IGGbMWBpvFtEtXZxAZg      0.0      3     4.0  False  False  False     False,\n",
       " (163368, 7))"
      ]
     },
     "execution_count": 30,
     "metadata": {},
     "output_type": "execute_result"
    }
   ],
   "source": [
    "new_gr.head(), new_gr.shape"
   ]
  },
  {
   "cell_type": "code",
   "execution_count": 43,
   "metadata": {},
   "outputs": [
    {
     "data": {
      "text/html": [
       "<div>\n",
       "<style scoped>\n",
       "    .dataframe tbody tr th:only-of-type {\n",
       "        vertical-align: middle;\n",
       "    }\n",
       "\n",
       "    .dataframe tbody tr th {\n",
       "        vertical-align: top;\n",
       "    }\n",
       "\n",
       "    .dataframe thead th {\n",
       "        text-align: right;\n",
       "    }\n",
       "</style>\n",
       "<table border=\"1\" class=\"dataframe\">\n",
       "  <thead>\n",
       "    <tr style=\"text-align: right;\">\n",
       "      <th></th>\n",
       "      <th>base</th>\n",
       "      <th>base_3.5</th>\n",
       "      <th>combo_35</th>\n",
       "      <th>combo_base</th>\n",
       "      <th>pred</th>\n",
       "    </tr>\n",
       "  </thead>\n",
       "  <tbody>\n",
       "    <tr>\n",
       "      <th>accuracy</th>\n",
       "      <td>0.779333</td>\n",
       "      <td>0.733926</td>\n",
       "      <td>0.562301</td>\n",
       "      <td>0.593195</td>\n",
       "      <td>0.592154</td>\n",
       "    </tr>\n",
       "    <tr>\n",
       "      <th>recall</th>\n",
       "      <td>0.168927</td>\n",
       "      <td>0.396413</td>\n",
       "      <td>0.623572</td>\n",
       "      <td>0.478074</td>\n",
       "      <td>0.369211</td>\n",
       "    </tr>\n",
       "  </tbody>\n",
       "</table>\n",
       "</div>"
      ],
      "text/plain": [
       "              base  base_3.5  combo_35  combo_base      pred\n",
       "accuracy  0.779333  0.733926  0.562301    0.593195  0.592154\n",
       "recall    0.168927  0.396413  0.623572    0.478074  0.369211"
      ]
     },
     "execution_count": 43,
     "metadata": {},
     "output_type": "execute_result"
    }
   ],
   "source": [
    "my_scorer(new_gr)"
   ]
  },
  {
   "cell_type": "code",
   "execution_count": null,
   "metadata": {},
   "outputs": [],
   "source": []
  }
 ],
 "metadata": {
  "kernelspec": {
   "display_name": "Python 3",
   "language": "python",
   "name": "python3"
  },
  "language_info": {
   "codemirror_mode": {
    "name": "ipython",
    "version": 3
   },
   "file_extension": ".py",
   "mimetype": "text/x-python",
   "name": "python",
   "nbconvert_exporter": "python",
   "pygments_lexer": "ipython3",
   "version": "3.6.5"
  }
 },
 "nbformat": 4,
 "nbformat_minor": 2
}
