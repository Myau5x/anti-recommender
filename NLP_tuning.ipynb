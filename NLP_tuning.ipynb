{
 "cells": [
  {
   "cell_type": "code",
   "execution_count": 1,
   "metadata": {},
   "outputs": [],
   "source": [
    "import numpy as np\n",
    "\n",
    "\n",
    "import string\n",
    "import re\n",
    "\n",
    "from nltk.tokenize import word_tokenize\n",
    "from nltk.corpus import stopwords\n",
    "from nltk.stem.porter import PorterStemmer\n",
    "\n",
    "from pyspark.ml.clustering import KMeans\n",
    "from pyspark.ml.feature import CountVectorizer, IDF\n",
    "from pyspark.sql.functions import udf\n",
    "from pyspark.sql.types import ArrayType, StringType, BooleanType\n",
    "from pyspark.ml import Pipeline\n",
    "\n",
    "from nlp_cl_start import data_tokenizer"
   ]
  },
  {
   "cell_type": "code",
   "execution_count": 2,
   "metadata": {},
   "outputs": [],
   "source": [
    "import pyspark as ps\n",
    "spark = (ps.sql.SparkSession.builder\n",
    "        .master(\"local[4]\")\n",
    "        .appName(\"yelp_academic\")\n",
    "        .getOrCreate()\n",
    "        )\n",
    "sc = spark.sparkContext"
   ]
  },
  {
   "cell_type": "code",
   "execution_count": 3,
   "metadata": {},
   "outputs": [],
   "source": [
    "import pandas as pd"
   ]
  },
  {
   "cell_type": "code",
   "execution_count": 4,
   "metadata": {},
   "outputs": [],
   "source": [
    "from pipe_spar import api_f, cluster_biz_by_review , cluster_user_by_review"
   ]
  },
  {
   "cell_type": "code",
   "execution_count": 5,
   "metadata": {},
   "outputs": [],
   "source": [
    "from nlp_cl_start import if_rest_udf"
   ]
  },
  {
   "cell_type": "code",
   "execution_count": 6,
   "metadata": {},
   "outputs": [],
   "source": [
    "from my_metr import transform_to_score, my_scorer, transform_aggregated\n",
    "from sklearn.metrics import accuracy_score, recall_score"
   ]
  },
  {
   "cell_type": "markdown",
   "metadata": {},
   "source": [
    "## Load data\n",
    "load all data, select bad reviews, define train and test"
   ]
  },
  {
   "cell_type": "code",
   "execution_count": 7,
   "metadata": {},
   "outputs": [],
   "source": [
    "biz = spark.read.json('yelp_dataset/yelp_academic_dataset_business.json')\n",
    "rev = spark.read.json('yelp_dataset/yelp_academic_dataset_review.json')"
   ]
  },
  {
   "cell_type": "markdown",
   "metadata": {},
   "source": [
    "1. Filter restaraunts"
   ]
  },
  {
   "cell_type": "code",
   "execution_count": 8,
   "metadata": {},
   "outputs": [],
   "source": [
    "rests = biz.filter(if_rest_udf(biz.categories))"
   ]
  },
  {
   "cell_type": "code",
   "execution_count": 9,
   "metadata": {},
   "outputs": [],
   "source": [
    "rest_rev = rev.join(rests.select('business_id','stars').withColumnRenamed('stars','rating'),'business_id')\n",
    "bad_reviews = rest_rev.filter('stars < 3')"
   ]
  },
  {
   "cell_type": "code",
   "execution_count": 31,
   "metadata": {},
   "outputs": [
    {
     "data": {
      "text/plain": [
       "768690"
      ]
     },
     "execution_count": 31,
     "metadata": {},
     "output_type": "execute_result"
    }
   ],
   "source": [
    "bad_reviews.count()"
   ]
  },
  {
   "cell_type": "markdown",
   "metadata": {},
   "source": [
    "### Now I change train sample from 20000 to 100000"
   ]
  },
  {
   "cell_type": "code",
   "execution_count": 10,
   "metadata": {},
   "outputs": [],
   "source": [
    "bad_sample = bad_reviews.sample(False, 0.127, seed =91)\n",
    "#bad_sample = bad_reviews.sample(False, 0.027, seed =91)\n"
   ]
  },
  {
   "cell_type": "code",
   "execution_count": 89,
   "metadata": {},
   "outputs": [
    {
     "name": "stdout",
     "output_type": "stream",
     "text": [
      "CPU times: user 575 µs, sys: 1.04 ms, total: 1.62 ms\n",
      "Wall time: 158 ms\n"
     ]
    },
    {
     "data": {
      "text/plain": [
       "97353"
      ]
     },
     "execution_count": 89,
     "metadata": {},
     "output_type": "execute_result"
    }
   ],
   "source": [
    "%%time\n",
    "bad_sample.count()"
   ]
  },
  {
   "cell_type": "code",
   "execution_count": 11,
   "metadata": {},
   "outputs": [
    {
     "data": {
      "text/plain": [
       "DataFrame[business_id: string, cool: bigint, date: string, funny: bigint, review_id: string, stars: bigint, text: string, useful: bigint, user_id: string, rating: double]"
      ]
     },
     "execution_count": 11,
     "metadata": {},
     "output_type": "execute_result"
    }
   ],
   "source": [
    "bad_sample.cache()"
   ]
  },
  {
   "cell_type": "markdown",
   "metadata": {},
   "source": [
    "2. Tokenize sample"
   ]
  },
  {
   "cell_type": "code",
   "execution_count": 12,
   "metadata": {},
   "outputs": [],
   "source": [
    "sample_token= data_tokenizer(bad_sample)"
   ]
  },
  {
   "cell_type": "code",
   "execution_count": 13,
   "metadata": {},
   "outputs": [],
   "source": [
    "splits = sample_token.randomSplit([0.8, 0.1, 0.1], seed = 91)\n"
   ]
  },
  {
   "cell_type": "code",
   "execution_count": 14,
   "metadata": {},
   "outputs": [],
   "source": [
    "train = splits[0]\n",
    "add_cl = splits[1]\n",
    "test = splits[2]"
   ]
  },
  {
   "cell_type": "code",
   "execution_count": 16,
   "metadata": {},
   "outputs": [
    {
     "data": {
      "text/plain": [
       "Row(business_id='--9e1ONYQuAa-CB_Rrw7Tw', cool=0, date='2012-05-11', funny=0, review_id='OaRMJKI6S7LAoa8xoEaqPg', stars=2, text=\"I feel like Twitter is pretty useless so far; I have an ok amount of followers I guess, but I feel like they're all following so many people that anything I say gets lost in the mess of their feed. I could tweet all day and get very little response to anything aside from a couple loyal folks on there. And it was one such reader that led me to Delmonico recently for what he claimed to be an excellent burger. He's a food writer in town so he should know what he's talking about, right?\\n\\nDelmonico is located in the small restaurant row of the Venetian right by another great burger spot, although most people would not come here for their burger. The interior is nothing too fancy in either the bar area or more traditional area in the back. I did notice while sitting at the bar that they have an amazing bourbon selection, but since I was there during a lunch break I'll have to go back some time when I'm not on the clock. The lunch and dinner menus are a bit different, with the lunch menu featuring more sandwiches and things, so maybe the comment I just made about people not coming for a burger is wrong. Either way, this restaurant is pretty fancy and features quite a number of great sounding items aside from what I came there for.\\n\\nThe Delmonico Prime Hamburger comes on a toasted brioche roll with fries, cheddar cheese and bacon. The meat had excellent flavor from the first bite, but I noticed right away that it was way overcooked and dry. It started off extremely juicy but that faded way too fast and by the end it was very dry. The cheese was melted and had great flavor, but the bun was a tiny bit dry as well and a little too thick. The heirloom tomatoes were fantastic, but maybe a bit off-putting at first due to their green color. The bacon also had good flavor, but was a tiny bit undercooked and soggy in parts. Overall it was still decent, but could have been well beyond that if the meat had been cooked properly.\\n\\nLuckily the fries were great. Some of them were almost a bit too hard and crunchy, but they were very tasty and a welcome change to the 'typical' fries I often get around town. Something I found to be quite funny was when I asked for ketchup I was brought an insanely large bowl of it, more than probably a table full of people could have used.\\n\\nThe online menu lists the burger at $15, so I was a little surprised to see the $18 listed on the menu when I made my order. I think if it was cooked properly I would still be ok with this price given the chef, the location, etc, but because of this price I seriously frown on the fact that they couldn't cook my burger properly. If you're willing to risk this inconsistency and are ok with the cost, I think it's a good burger to check out, and has the potential to be really great, but if you're at the Venetian and are craving a guaranteed good burger for a similar cost I suggest you go next door.\", useful=2, user_id='0G9BcXSQscv_GnhlNwFfjw', rating=4.0, token=['feel', 'like', 'twitter', 'pretti', 'useless', 'far', 'ok', 'amount', 'follow', 'guess', 'feel', 'like', 'follow', 'mani', 'peopl', 'anyth', 'say', 'get', 'lost', 'mess', 'feed', 'could', 'tweet', 'day', 'get', 'littl', 'respons', 'anyth', 'asid', 'coupl', 'loyal', 'folk', 'one', 'reader', 'led', 'delmonico', 'recent', 'claim', 'excel', 'burger', 'food', 'writer', 'town', 'know', 'talk', 'right', 'delmonico', 'locat', 'small', 'restaur', 'row', 'venetian', 'right', 'anoth', 'great', 'burger', 'spot', 'although', 'peopl', 'would', 'come', 'burger', 'interior', 'noth', 'fanci', 'either', 'bar', 'area', 'tradit', 'area', 'back', 'notic', 'sit', 'bar', 'amaz', 'bourbon', 'select', 'sinc', 'lunch', 'break', 'go', 'back', 'time', 'clock', 'lunch', 'dinner', 'menu', 'bit', 'differ', 'lunch', 'menu', 'featur', 'sandwich', 'thing', 'mayb', 'comment', 'made', 'peopl', 'come', 'burger', 'wrong', 'either', 'way', 'restaur', 'pretti', 'fanci', 'featur', 'quit', 'number', 'great', 'sound', 'item', 'asid', 'came', 'delmonico', 'prime', 'hamburg', 'come', 'toast', 'brioch', 'roll', 'fri', 'cheddar', 'chees', 'bacon', 'meat', 'excel', 'flavor', 'first', 'bite', 'notic', 'right', 'away', 'way', 'overcook', 'dri', 'start', 'extrem', 'juici', 'fade', 'way', 'fast', 'end', 'dri', 'chees', 'melt', 'great', 'flavor', 'bun', 'tini', 'bit', 'dri', 'well', 'littl', 'thick', 'heirloom', 'tomato', 'fantast', 'mayb', 'bit', 'put', 'first', 'due', 'green', 'color', 'bacon', 'also', 'good', 'flavor', 'tini', 'bit', 'undercook', 'soggi', 'part', 'overal', 'still', 'decent', 'could', 'well', 'beyond', 'meat', 'cook', 'properli', 'luckili', 'fri', 'great', 'almost', 'bit', 'hard', 'crunchi', 'tasti', 'welcom', 'chang', 'typic', 'fri', 'often', 'get', 'around', 'town', 'someth', 'found', 'quit', 'funni', 'ask', 'ketchup', 'brought', 'insan', 'larg', 'bowl', 'probabl', 'tabl', 'full', 'peopl', 'could', 'use', 'onlin', 'menu', 'list', 'burger', 'littl', 'surpris', 'see', 'list', 'menu', 'made', 'order', 'think', 'cook', 'properli', 'would', 'still', 'ok', 'price', 'given', 'chef', 'locat', 'etc', 'price', 'serious', 'frown', 'fact', 'cook', 'burger', 'properli', 'will', 'risk', 'inconsist', 'ok', 'cost', 'think', 'good', 'burger', 'check', 'potenti', 'realli', 'great', 'venetian', 'crave', 'guarante', 'good', 'burger', 'similar', 'cost', 'suggest', 'go', 'next', 'door'])"
      ]
     },
     "execution_count": 16,
     "metadata": {},
     "output_type": "execute_result"
    }
   ],
   "source": [
    "train.first()"
   ]
  },
  {
   "cell_type": "code",
   "execution_count": 15,
   "metadata": {},
   "outputs": [
    {
     "data": {
      "text/plain": [
       "DataFrame[business_id: string, cool: bigint, date: string, funny: bigint, review_id: string, stars: bigint, text: string, useful: bigint, user_id: string, rating: double, token: array<string>]"
      ]
     },
     "execution_count": 15,
     "metadata": {},
     "output_type": "execute_result"
    }
   ],
   "source": [
    "train.cache()"
   ]
  },
  {
   "cell_type": "markdown",
   "metadata": {},
   "source": [
    "### Model to cluster all reviews"
   ]
  },
  {
   "cell_type": "code",
   "execution_count": 17,
   "metadata": {},
   "outputs": [],
   "source": [
    "cv = CountVectorizer(minDF=5, vocabSize=6000, inputCol='token', outputCol='vectors')\n",
    "km1 = KMeans(k = 10, featuresCol='vectors', maxIter= 22)\n",
    "\n",
    "\n",
    "pipe_count = Pipeline(stages=[cv, km1])"
   ]
  },
  {
   "cell_type": "markdown",
   "metadata": {},
   "source": [
    "### idf 22.33"
   ]
  },
  {
   "cell_type": "code",
   "execution_count": 95,
   "metadata": {},
   "outputs": [],
   "source": [
    "cv = CountVectorizer(minDF=5, vocabSize=5000, inputCol='token', outputCol='vectors')\n",
    "idf = IDF(minDocFreq=7, inputCol=\"vectors\", outputCol=\"features\")\n",
    "km2 = KMeans(k = 18, featuresCol='features', maxIter= 30)\n",
    "pipe_idf = Pipeline(stages = [cv, idf, km2])"
   ]
  },
  {
   "cell_type": "markdown",
   "metadata": {},
   "source": [
    "## idf 4/12/18 20:24 "
   ]
  },
  {
   "cell_type": "code",
   "execution_count": 16,
   "metadata": {},
   "outputs": [],
   "source": [
    "cv = CountVectorizer(minDF=5, vocabSize=5000, inputCol='token', outputCol='vectors')\n",
    "idf = IDF(minDocFreq=10, inputCol=\"vectors\", outputCol=\"features\")\n",
    "km2 = KMeans(k = 10, featuresCol='features', maxIter= 30)\n",
    "pipe_idf = Pipeline(stages = [cv, idf, km2])"
   ]
  },
  {
   "cell_type": "code",
   "execution_count": 148,
   "metadata": {},
   "outputs": [],
   "source": [
    "IDF?"
   ]
  },
  {
   "cell_type": "code",
   "execution_count": 17,
   "metadata": {},
   "outputs": [
    {
     "ename": "NameError",
     "evalue": "name 'pipe_count' is not defined",
     "output_type": "error",
     "traceback": [
      "\u001b[0;31m---------------------------------------------------------------------------\u001b[0m",
      "\u001b[0;31mNameError\u001b[0m                                 Traceback (most recent call last)",
      "\u001b[0;32m<timed exec>\u001b[0m in \u001b[0;36m<module>\u001b[0;34m()\u001b[0m\n",
      "\u001b[0;31mNameError\u001b[0m: name 'pipe_count' is not defined"
     ]
    }
   ],
   "source": [
    "%%time\n",
    "pipe_cv_model = pipe_count.fit(train)"
   ]
  },
  {
   "cell_type": "code",
   "execution_count": 18,
   "metadata": {},
   "outputs": [
    {
     "name": "stdout",
     "output_type": "stream",
     "text": [
      "CPU times: user 150 ms, sys: 69 ms, total: 219 ms\n",
      "Wall time: 1min 29s\n"
     ]
    }
   ],
   "source": [
    "%%time\n",
    "###!!!!!!!!IDF\n",
    "pipe_idf_model = pipe_idf.fit(train)"
   ]
  },
  {
   "cell_type": "markdown",
   "metadata": {},
   "source": [
    "3. Clustering user and bussiness"
   ]
  },
  {
   "cell_type": "code",
   "execution_count": 19,
   "metadata": {},
   "outputs": [
    {
     "data": {
      "text/plain": [
       "DataFrame[business_id: string, cool: bigint, date: string, funny: bigint, review_id: string, stars: bigint, text: string, useful: bigint, user_id: string, rating: double, token: array<string>]"
      ]
     },
     "execution_count": 19,
     "metadata": {},
     "output_type": "execute_result"
    }
   ],
   "source": [
    "both = train.union(add_cl)\n",
    "both.cache()"
   ]
  },
  {
   "cell_type": "code",
   "execution_count": null,
   "metadata": {},
   "outputs": [],
   "source": []
  },
  {
   "cell_type": "code",
   "execution_count": 20,
   "metadata": {},
   "outputs": [
    {
     "ename": "NameError",
     "evalue": "name 'pipe_cv_model' is not defined",
     "output_type": "error",
     "traceback": [
      "\u001b[0;31m---------------------------------------------------------------------------\u001b[0m",
      "\u001b[0;31mNameError\u001b[0m                                 Traceback (most recent call last)",
      "\u001b[0;32m<ipython-input-20-0bec0388a80b>\u001b[0m in \u001b[0;36m<module>\u001b[0;34m()\u001b[0m\n\u001b[0;32m----> 1\u001b[0;31m \u001b[0muser_with_cl\u001b[0m \u001b[0;34m=\u001b[0m \u001b[0mcluster_user_by_review\u001b[0m\u001b[0;34m(\u001b[0m\u001b[0mboth\u001b[0m\u001b[0;34m,\u001b[0m \u001b[0mpipe_cv_model\u001b[0m\u001b[0;34m)\u001b[0m\u001b[0;34m\u001b[0m\u001b[0m\n\u001b[0m",
      "\u001b[0;31mNameError\u001b[0m: name 'pipe_cv_model' is not defined"
     ]
    }
   ],
   "source": [
    "user_with_cl = cluster_user_by_review(both, pipe_cv_model)"
   ]
  },
  {
   "cell_type": "code",
   "execution_count": 118,
   "metadata": {},
   "outputs": [],
   "source": [
    "biz_with_cl = cluster_biz_by_review(both, pipe_cv_model)"
   ]
  },
  {
   "cell_type": "markdown",
   "metadata": {},
   "source": [
    "### idf 22.36"
   ]
  },
  {
   "cell_type": "code",
   "execution_count": 21,
   "metadata": {},
   "outputs": [],
   "source": [
    "user_with_cl = cluster_user_by_review(both, pipe_idf_model)\n",
    "biz_with_cl = cluster_biz_by_review(both, pipe_idf_model)"
   ]
  },
  {
   "cell_type": "code",
   "execution_count": 22,
   "metadata": {},
   "outputs": [
    {
     "data": {
      "text/plain": [
       "DataFrame[business_id: string, biz_cl: int]"
      ]
     },
     "execution_count": 22,
     "metadata": {},
     "output_type": "execute_result"
    }
   ],
   "source": [
    "user_with_cl.cache()\n",
    "biz_with_cl.cache()"
   ]
  },
  {
   "cell_type": "code",
   "execution_count": 177,
   "metadata": {},
   "outputs": [
    {
     "data": {
      "text/plain": [
       "87551"
      ]
     },
     "execution_count": 177,
     "metadata": {},
     "output_type": "execute_result"
    }
   ],
   "source": [
    "biz_with_cl.count()"
   ]
  },
  {
   "cell_type": "markdown",
   "metadata": {},
   "source": [
    "## Create test set \n",
    "\n",
    "I need reviews that I didn't use for clusterization restorants and user. But in same time that contains clusterized restaraunts and users"
   ]
  },
  {
   "cell_type": "code",
   "execution_count": 23,
   "metadata": {},
   "outputs": [
    {
     "data": {
      "text/plain": [
       "[Row(review_id='OaRMJKI6S7LAoa8xoEaqPg'),\n",
       " Row(review_id='syUWGlVaWBkr9iI7sMJGcw')]"
      ]
     },
     "execution_count": 23,
     "metadata": {},
     "output_type": "execute_result"
    }
   ],
   "source": [
    "train_rev_id =both.select('review_id')\n",
    "train_rev_id.take(2)"
   ]
  },
  {
   "cell_type": "code",
   "execution_count": 120,
   "metadata": {},
   "outputs": [
    {
     "name": "stdout",
     "output_type": "stream",
     "text": [
      "CPU times: user 5.28 ms, sys: 3.46 ms, total: 8.74 ms\n",
      "Wall time: 225 ms\n"
     ]
    },
    {
     "data": {
      "text/plain": [
       "87551"
      ]
     },
     "execution_count": 120,
     "metadata": {},
     "output_type": "execute_result"
    }
   ],
   "source": [
    "%%time\n",
    "user_with_cl.count()"
   ]
  },
  {
   "cell_type": "code",
   "execution_count": 24,
   "metadata": {},
   "outputs": [],
   "source": [
    "#### a little bit effective\n",
    "known_rev2 = user_with_cl.join(rest_rev.select('business_id',\n",
    " 'review_id',\n",
    " 'stars',\n",
    " 'user_id',\n",
    " 'rating'), 'user_id').join(biz_with_cl, 'business_id')"
   ]
  },
  {
   "cell_type": "code",
   "execution_count": 25,
   "metadata": {},
   "outputs": [
    {
     "name": "stdout",
     "output_type": "stream",
     "text": [
      "CPU times: user 98.2 ms, sys: 39.4 ms, total: 138 ms\n",
      "Wall time: 1min 53s\n"
     ]
    },
    {
     "data": {
      "text/plain": [
       "3044361"
      ]
     },
     "execution_count": 25,
     "metadata": {},
     "output_type": "execute_result"
    }
   ],
   "source": [
    "%%time\n",
    "known_rev2.count()"
   ]
  },
  {
   "cell_type": "code",
   "execution_count": 26,
   "metadata": {},
   "outputs": [],
   "source": [
    "new_t = known_rev2.join(train_rev_id, 'review_id','left_anti' )"
   ]
  },
  {
   "cell_type": "code",
   "execution_count": 190,
   "metadata": {},
   "outputs": [
    {
     "name": "stdout",
     "output_type": "stream",
     "text": [
      "CPU times: user 77.3 ms, sys: 32.1 ms, total: 109 ms\n",
      "Wall time: 1min 1s\n"
     ]
    },
    {
     "data": {
      "text/plain": [
       "12438216"
      ]
     },
     "execution_count": 190,
     "metadata": {},
     "output_type": "execute_result"
    }
   ],
   "source": [
    "%%time\n",
    "new_t.count()"
   ]
  },
  {
   "cell_type": "code",
   "execution_count": 27,
   "metadata": {},
   "outputs": [
    {
     "data": {
      "text/plain": [
       "DataFrame[review_id: string, business_id: string, user_id: string, user_cl: int, stars: bigint, rating: double, biz_cl: int]"
      ]
     },
     "execution_count": 27,
     "metadata": {},
     "output_type": "execute_result"
    }
   ],
   "source": [
    "####???\n",
    "new_t.cache()"
   ]
  },
  {
   "cell_type": "code",
   "execution_count": 191,
   "metadata": {},
   "outputs": [
    {
     "data": {
      "text/plain": [
       "['review_id', 'business_id', 'user_id', 'user_cl', 'stars', 'rating', 'biz_cl']"
      ]
     },
     "execution_count": 191,
     "metadata": {},
     "output_type": "execute_result"
    }
   ],
   "source": [
    "new_t.columns"
   ]
  },
  {
   "cell_type": "code",
   "execution_count": 28,
   "metadata": {},
   "outputs": [],
   "source": [
    "new_t = new_t.withColumn('similar', (new_t.user_cl == new_t.biz_cl).cast(\"int\"))"
   ]
  },
  {
   "cell_type": "code",
   "execution_count": 29,
   "metadata": {},
   "outputs": [
    {
     "data": {
      "text/plain": [
       "['review_id', 'sum(similar)', 'avg(rating)', 'avg(stars)']"
      ]
     },
     "execution_count": 29,
     "metadata": {},
     "output_type": "execute_result"
    }
   ],
   "source": [
    "regroup = new_t.groupBy('review_id').agg({'rating': 'mean', 'stars':'mean', 'similar':'sum' })\n",
    "regroup.columns"
   ]
  },
  {
   "cell_type": "code",
   "execution_count": 157,
   "metadata": {},
   "outputs": [
    {
     "name": "stdout",
     "output_type": "stream",
     "text": [
      "CPU times: user 79.1 ms, sys: 32 ms, total: 111 ms\n",
      "Wall time: 1min\n"
     ]
    },
    {
     "data": {
      "text/plain": [
       "735060"
      ]
     },
     "execution_count": 157,
     "metadata": {},
     "output_type": "execute_result"
    }
   ],
   "source": [
    "%%time\n",
    "regroup.count()"
   ]
  },
  {
   "cell_type": "code",
   "execution_count": 30,
   "metadata": {},
   "outputs": [
    {
     "name": "stdout",
     "output_type": "stream",
     "text": [
      "CPU times: user 4.45 s, sys: 412 ms, total: 4.86 s\n",
      "Wall time: 37.1 s\n"
     ]
    }
   ],
   "source": [
    "%%time\n",
    "new_grf = regroup.toPandas()\n",
    "new_grf.head()"
   ]
  },
  {
   "cell_type": "code",
   "execution_count": 31,
   "metadata": {},
   "outputs": [
    {
     "data": {
      "text/html": [
       "<div>\n",
       "<style scoped>\n",
       "    .dataframe tbody tr th:only-of-type {\n",
       "        vertical-align: middle;\n",
       "    }\n",
       "\n",
       "    .dataframe tbody tr th {\n",
       "        vertical-align: top;\n",
       "    }\n",
       "\n",
       "    .dataframe thead th {\n",
       "        text-align: right;\n",
       "    }\n",
       "</style>\n",
       "<table border=\"1\" class=\"dataframe\">\n",
       "  <thead>\n",
       "    <tr style=\"text-align: right;\">\n",
       "      <th></th>\n",
       "      <th>review_id</th>\n",
       "      <th>sum(similar)</th>\n",
       "      <th>avg(rating)</th>\n",
       "      <th>avg(stars)</th>\n",
       "      <th>pred</th>\n",
       "      <th>act</th>\n",
       "      <th>base</th>\n",
       "      <th>base_3.5</th>\n",
       "    </tr>\n",
       "  </thead>\n",
       "  <tbody>\n",
       "    <tr>\n",
       "      <th>0</th>\n",
       "      <td>-01ePuKPxMw1bhR4ISbIlw</td>\n",
       "      <td>1</td>\n",
       "      <td>4.0</td>\n",
       "      <td>4.0</td>\n",
       "      <td>True</td>\n",
       "      <td>False</td>\n",
       "      <td>False</td>\n",
       "      <td>False</td>\n",
       "    </tr>\n",
       "    <tr>\n",
       "      <th>1</th>\n",
       "      <td>-0XptEAda6qaK7QrkGF-IQ</td>\n",
       "      <td>1</td>\n",
       "      <td>3.0</td>\n",
       "      <td>4.0</td>\n",
       "      <td>True</td>\n",
       "      <td>False</td>\n",
       "      <td>False</td>\n",
       "      <td>True</td>\n",
       "    </tr>\n",
       "    <tr>\n",
       "      <th>2</th>\n",
       "      <td>-0u6BAh47_WiKXcjYcq8vQ</td>\n",
       "      <td>1</td>\n",
       "      <td>3.0</td>\n",
       "      <td>3.0</td>\n",
       "      <td>True</td>\n",
       "      <td>False</td>\n",
       "      <td>False</td>\n",
       "      <td>True</td>\n",
       "    </tr>\n",
       "    <tr>\n",
       "      <th>3</th>\n",
       "      <td>-1GR5fgGizpSfTMtWFQRUw</td>\n",
       "      <td>2</td>\n",
       "      <td>3.0</td>\n",
       "      <td>3.0</td>\n",
       "      <td>True</td>\n",
       "      <td>False</td>\n",
       "      <td>False</td>\n",
       "      <td>True</td>\n",
       "    </tr>\n",
       "    <tr>\n",
       "      <th>4</th>\n",
       "      <td>-1kQanNhit-7B9RBjY6p_A</td>\n",
       "      <td>2</td>\n",
       "      <td>4.0</td>\n",
       "      <td>3.0</td>\n",
       "      <td>True</td>\n",
       "      <td>False</td>\n",
       "      <td>False</td>\n",
       "      <td>False</td>\n",
       "    </tr>\n",
       "  </tbody>\n",
       "</table>\n",
       "</div>"
      ],
      "text/plain": [
       "                review_id  sum(similar)  avg(rating)  avg(stars)  pred    act  \\\n",
       "0  -01ePuKPxMw1bhR4ISbIlw             1          4.0         4.0  True  False   \n",
       "1  -0XptEAda6qaK7QrkGF-IQ             1          3.0         4.0  True  False   \n",
       "2  -0u6BAh47_WiKXcjYcq8vQ             1          3.0         3.0  True  False   \n",
       "3  -1GR5fgGizpSfTMtWFQRUw             2          3.0         3.0  True  False   \n",
       "4  -1kQanNhit-7B9RBjY6p_A             2          4.0         3.0  True  False   \n",
       "\n",
       "    base  base_3.5  \n",
       "0  False     False  \n",
       "1  False      True  \n",
       "2  False      True  \n",
       "3  False      True  \n",
       "4  False     False  "
      ]
     },
     "execution_count": 31,
     "metadata": {},
     "output_type": "execute_result"
    }
   ],
   "source": [
    "new_grf = transform_aggregated(new_grf)\n",
    "new_grf.head()"
   ]
  },
  {
   "cell_type": "code",
   "execution_count": 32,
   "metadata": {},
   "outputs": [
    {
     "data": {
      "text/html": [
       "<div>\n",
       "<style scoped>\n",
       "    .dataframe tbody tr th:only-of-type {\n",
       "        vertical-align: middle;\n",
       "    }\n",
       "\n",
       "    .dataframe tbody tr th {\n",
       "        vertical-align: top;\n",
       "    }\n",
       "\n",
       "    .dataframe thead th {\n",
       "        text-align: right;\n",
       "    }\n",
       "</style>\n",
       "<table border=\"1\" class=\"dataframe\">\n",
       "  <thead>\n",
       "    <tr style=\"text-align: right;\">\n",
       "      <th></th>\n",
       "      <th>base</th>\n",
       "      <th>base_3.5</th>\n",
       "      <th>combo_35</th>\n",
       "      <th>combo_base</th>\n",
       "      <th>pred</th>\n",
       "    </tr>\n",
       "  </thead>\n",
       "  <tbody>\n",
       "    <tr>\n",
       "      <th>accuracy</th>\n",
       "      <td>0.799355</td>\n",
       "      <td>0.748716</td>\n",
       "      <td>0.353616</td>\n",
       "      <td>0.367422</td>\n",
       "      <td>0.367484</td>\n",
       "    </tr>\n",
       "    <tr>\n",
       "      <th>recall</th>\n",
       "      <td>0.181595</td>\n",
       "      <td>0.406068</td>\n",
       "      <td>0.861614</td>\n",
       "      <td>0.808663</td>\n",
       "      <td>0.762169</td>\n",
       "    </tr>\n",
       "    <tr>\n",
       "      <th>prec</th>\n",
       "      <td>0.512817</td>\n",
       "      <td>0.385574</td>\n",
       "      <td>0.220051</td>\n",
       "      <td>0.216137</td>\n",
       "      <td>0.208920</td>\n",
       "    </tr>\n",
       "  </tbody>\n",
       "</table>\n",
       "</div>"
      ],
      "text/plain": [
       "              base  base_3.5  combo_35  combo_base      pred\n",
       "accuracy  0.799355  0.748716  0.353616    0.367422  0.367484\n",
       "recall    0.181595  0.406068  0.861614    0.808663  0.762169\n",
       "prec      0.512817  0.385574  0.220051    0.216137  0.208920"
      ]
     },
     "execution_count": 32,
     "metadata": {},
     "output_type": "execute_result"
    }
   ],
   "source": [
    "my_scorer(new_grf)"
   ]
  },
  {
   "cell_type": "code",
   "execution_count": 144,
   "metadata": {},
   "outputs": [
    {
     "data": {
      "text/plain": [
       "0.20248279052050172"
      ]
     },
     "execution_count": 144,
     "metadata": {},
     "output_type": "execute_result"
    }
   ],
   "source": [
    "act = new_grf.act\n",
    "act.mean()\n"
   ]
  },
  {
   "cell_type": "code",
   "execution_count": 161,
   "metadata": {},
   "outputs": [
    {
     "data": {
      "text/plain": [
       "(0.7080836938481212, 0.213245177264441)"
      ]
     },
     "execution_count": 161,
     "metadata": {},
     "output_type": "execute_result"
    }
   ],
   "source": [
    "new_grf['pred'].mean(), new_grf['base_3.5'].mean()"
   ]
  },
  {
   "cell_type": "markdown",
   "metadata": {},
   "source": [
    "### 0.11 5,7,18 best"
   ]
  },
  {
   "cell_type": "code",
   "execution_count": 33,
   "metadata": {},
   "outputs": [],
   "source": [
    "bad_sample2 = bad_reviews.sample(False, 0.5, seed =94)\n"
   ]
  },
  {
   "cell_type": "code",
   "execution_count": 34,
   "metadata": {},
   "outputs": [],
   "source": [
    "sample_token2= data_tokenizer(bad_sample2)"
   ]
  },
  {
   "cell_type": "code",
   "execution_count": null,
   "metadata": {},
   "outputs": [],
   "source": []
  },
  {
   "cell_type": "code",
   "execution_count": 35,
   "metadata": {},
   "outputs": [],
   "source": [
    "\n",
    "biz_with_cl = cluster_biz_by_review(sample_token2, pipe_idf_model)"
   ]
  },
  {
   "cell_type": "code",
   "execution_count": 36,
   "metadata": {},
   "outputs": [],
   "source": [
    "biz_with_cl = biz_with_cl.dropDuplicates()"
   ]
  },
  {
   "cell_type": "code",
   "execution_count": 37,
   "metadata": {},
   "outputs": [
    {
     "data": {
      "text/plain": [
       "DataFrame[business_id: string, biz_cl: int]"
      ]
     },
     "execution_count": 37,
     "metadata": {},
     "output_type": "execute_result"
    }
   ],
   "source": [
    "biz_with_cl.cache()"
   ]
  },
  {
   "cell_type": "code",
   "execution_count": 230,
   "metadata": {},
   "outputs": [
    {
     "name": "stdout",
     "output_type": "stream",
     "text": [
      "CPU times: user 19 ms, sys: 9.26 ms, total: 28.3 ms\n",
      "Wall time: 3.17 s\n"
     ]
    },
    {
     "data": {
      "text/plain": [
       "113815"
      ]
     },
     "execution_count": 230,
     "metadata": {},
     "output_type": "execute_result"
    }
   ],
   "source": [
    "%%time\n",
    "biz_with_cl.count()"
   ]
  },
  {
   "cell_type": "code",
   "execution_count": 239,
   "metadata": {},
   "outputs": [
    {
     "data": {
      "text/plain": [
       "['address',\n",
       " 'attributes',\n",
       " 'business_id',\n",
       " 'categories',\n",
       " 'city',\n",
       " 'hours',\n",
       " 'is_open',\n",
       " 'latitude',\n",
       " 'longitude',\n",
       " 'name',\n",
       " 'neighborhood',\n",
       " 'postal_code',\n",
       " 'review_count',\n",
       " 'stars',\n",
       " 'state']"
      ]
     },
     "execution_count": 239,
     "metadata": {},
     "output_type": "execute_result"
    }
   ],
   "source": []
  },
  {
   "cell_type": "code",
   "execution_count": 206,
   "metadata": {},
   "outputs": [
    {
     "data": {
      "text/plain": [
       "188593"
      ]
     },
     "execution_count": 206,
     "metadata": {},
     "output_type": "execute_result"
    }
   ],
   "source": [
    "biz.select('business_id').count()"
   ]
  },
  {
   "cell_type": "code",
   "execution_count": 38,
   "metadata": {},
   "outputs": [],
   "source": [
    "rests_id = rests.select('business_id')"
   ]
  },
  {
   "cell_type": "code",
   "execution_count": 223,
   "metadata": {},
   "outputs": [
    {
     "data": {
      "text/plain": [
       "57173"
      ]
     },
     "execution_count": 223,
     "metadata": {},
     "output_type": "execute_result"
    }
   ],
   "source": [
    "rests_id.count()"
   ]
  },
  {
   "cell_type": "code",
   "execution_count": 40,
   "metadata": {},
   "outputs": [],
   "source": [
    "b0 = rests_id.join(biz_with_cl.filter('biz_cl ==0'), 'business_id', how = 'left')"
   ]
  },
  {
   "cell_type": "code",
   "execution_count": 41,
   "metadata": {},
   "outputs": [
    {
     "data": {
      "text/plain": [
       "Row(business_id='--9e1ONYQuAa-CB_Rrw7Tw', biz_cl=None)"
      ]
     },
     "execution_count": 41,
     "metadata": {},
     "output_type": "execute_result"
    }
   ],
   "source": [
    "b0.first()"
   ]
  },
  {
   "cell_type": "code",
   "execution_count": 234,
   "metadata": {},
   "outputs": [
    {
     "name": "stdout",
     "output_type": "stream",
     "text": [
      "CPU times: user 13.2 ms, sys: 7.83 ms, total: 21 ms\n",
      "Wall time: 887 ms\n"
     ]
    },
    {
     "data": {
      "text/plain": [
       "57173"
      ]
     },
     "execution_count": 234,
     "metadata": {},
     "output_type": "execute_result"
    }
   ],
   "source": [
    "%%time\n",
    "b0.count()"
   ]
  },
  {
   "cell_type": "code",
   "execution_count": 42,
   "metadata": {},
   "outputs": [
    {
     "data": {
      "text/plain": [
       "['business_id', 'cl_0']"
      ]
     },
     "execution_count": 42,
     "metadata": {},
     "output_type": "execute_result"
    }
   ],
   "source": [
    "b0 = b0.withColumnRenamed('biz_cl', 'cl_0')\n",
    "b0.columns"
   ]
  },
  {
   "cell_type": "code",
   "execution_count": 237,
   "metadata": {},
   "outputs": [],
   "source": [
    "for i in range(1,18):\n",
    "    cond = 'biz_cl =='+str(i)\n",
    "    colName = 'cl_'+str(i)\n",
    "    b0 = b0.join(biz_with_cl.filter(cond), 'business_id', how = 'left').withColumnRenamed('biz_cl', colName)"
   ]
  },
  {
   "cell_type": "code",
   "execution_count": 43,
   "metadata": {},
   "outputs": [],
   "source": [
    "### 4.12.18\n",
    "for i in range(1,10):\n",
    "    cond = 'biz_cl =='+str(i)\n",
    "    colName = 'cl_'+str(i)\n",
    "    b0 = b0.join(biz_with_cl.filter(cond), 'business_id', how = 'left').withColumnRenamed('biz_cl', colName)"
   ]
  },
  {
   "cell_type": "code",
   "execution_count": 44,
   "metadata": {},
   "outputs": [
    {
     "data": {
      "text/plain": [
       "['business_id',\n",
       " 'cl_0',\n",
       " 'cl_1',\n",
       " 'cl_2',\n",
       " 'cl_3',\n",
       " 'cl_4',\n",
       " 'cl_5',\n",
       " 'cl_6',\n",
       " 'cl_7',\n",
       " 'cl_8',\n",
       " 'cl_9']"
      ]
     },
     "execution_count": 44,
     "metadata": {},
     "output_type": "execute_result"
    }
   ],
   "source": [
    "b0.columns"
   ]
  },
  {
   "cell_type": "code",
   "execution_count": 45,
   "metadata": {},
   "outputs": [],
   "source": [
    "biz_df_cl = rests.select(api_f).join(b0, 'business_id').toPandas()"
   ]
  },
  {
   "cell_type": "code",
   "execution_count": 46,
   "metadata": {},
   "outputs": [
    {
     "data": {
      "text/html": [
       "<div>\n",
       "<style scoped>\n",
       "    .dataframe tbody tr th:only-of-type {\n",
       "        vertical-align: middle;\n",
       "    }\n",
       "\n",
       "    .dataframe tbody tr th {\n",
       "        vertical-align: top;\n",
       "    }\n",
       "\n",
       "    .dataframe thead th {\n",
       "        text-align: right;\n",
       "    }\n",
       "</style>\n",
       "<table border=\"1\" class=\"dataframe\">\n",
       "  <thead>\n",
       "    <tr style=\"text-align: right;\">\n",
       "      <th></th>\n",
       "      <th>business_id</th>\n",
       "      <th>RestaurantsPriceRange2</th>\n",
       "      <th>stars</th>\n",
       "      <th>review_count</th>\n",
       "      <th>categories</th>\n",
       "      <th>cl_0</th>\n",
       "      <th>cl_1</th>\n",
       "      <th>cl_2</th>\n",
       "      <th>cl_3</th>\n",
       "      <th>cl_4</th>\n",
       "      <th>cl_5</th>\n",
       "      <th>cl_6</th>\n",
       "      <th>cl_7</th>\n",
       "      <th>cl_8</th>\n",
       "      <th>cl_9</th>\n",
       "    </tr>\n",
       "  </thead>\n",
       "  <tbody>\n",
       "    <tr>\n",
       "      <th>0</th>\n",
       "      <td>--9e1ONYQuAa-CB_Rrw7Tw</td>\n",
       "      <td>4</td>\n",
       "      <td>4.0</td>\n",
       "      <td>1546</td>\n",
       "      <td>Steakhouses, Restaurants, Cajun/Creole</td>\n",
       "      <td>NaN</td>\n",
       "      <td>1.0</td>\n",
       "      <td>NaN</td>\n",
       "      <td>3.0</td>\n",
       "      <td>NaN</td>\n",
       "      <td>5.0</td>\n",
       "      <td>6.0</td>\n",
       "      <td>None</td>\n",
       "      <td>8.0</td>\n",
       "      <td>NaN</td>\n",
       "    </tr>\n",
       "    <tr>\n",
       "      <th>1</th>\n",
       "      <td>-VAsjhmAbKF3Pb_-8rh3xg</td>\n",
       "      <td>1</td>\n",
       "      <td>2.0</td>\n",
       "      <td>10</td>\n",
       "      <td>Fast Food, Burgers, Restaurants</td>\n",
       "      <td>NaN</td>\n",
       "      <td>1.0</td>\n",
       "      <td>NaN</td>\n",
       "      <td>NaN</td>\n",
       "      <td>NaN</td>\n",
       "      <td>NaN</td>\n",
       "      <td>NaN</td>\n",
       "      <td>None</td>\n",
       "      <td>NaN</td>\n",
       "      <td>NaN</td>\n",
       "    </tr>\n",
       "    <tr>\n",
       "      <th>2</th>\n",
       "      <td>-cxD1NimFldATDUsN-oa3A</td>\n",
       "      <td>2</td>\n",
       "      <td>2.0</td>\n",
       "      <td>23</td>\n",
       "      <td>Mexican, Restaurants</td>\n",
       "      <td>NaN</td>\n",
       "      <td>1.0</td>\n",
       "      <td>NaN</td>\n",
       "      <td>NaN</td>\n",
       "      <td>NaN</td>\n",
       "      <td>NaN</td>\n",
       "      <td>6.0</td>\n",
       "      <td>None</td>\n",
       "      <td>NaN</td>\n",
       "      <td>NaN</td>\n",
       "    </tr>\n",
       "    <tr>\n",
       "      <th>3</th>\n",
       "      <td>-r8SvItXXG6_T3mP5GXRAw</td>\n",
       "      <td>2</td>\n",
       "      <td>4.0</td>\n",
       "      <td>10</td>\n",
       "      <td>Restaurants, Noodles, Food, Cafes, Chinese, Co...</td>\n",
       "      <td>NaN</td>\n",
       "      <td>NaN</td>\n",
       "      <td>NaN</td>\n",
       "      <td>NaN</td>\n",
       "      <td>NaN</td>\n",
       "      <td>NaN</td>\n",
       "      <td>NaN</td>\n",
       "      <td>None</td>\n",
       "      <td>NaN</td>\n",
       "      <td>NaN</td>\n",
       "    </tr>\n",
       "    <tr>\n",
       "      <th>4</th>\n",
       "      <td>0859wfd1BQHG46Zpwhc0ZQ</td>\n",
       "      <td>2</td>\n",
       "      <td>4.5</td>\n",
       "      <td>245</td>\n",
       "      <td>Nightlife, Pizza, Wine Bars, Bars, American (N...</td>\n",
       "      <td>NaN</td>\n",
       "      <td>1.0</td>\n",
       "      <td>NaN</td>\n",
       "      <td>NaN</td>\n",
       "      <td>NaN</td>\n",
       "      <td>NaN</td>\n",
       "      <td>NaN</td>\n",
       "      <td>None</td>\n",
       "      <td>NaN</td>\n",
       "      <td>NaN</td>\n",
       "    </tr>\n",
       "  </tbody>\n",
       "</table>\n",
       "</div>"
      ],
      "text/plain": [
       "              business_id RestaurantsPriceRange2  stars  review_count  \\\n",
       "0  --9e1ONYQuAa-CB_Rrw7Tw                      4    4.0          1546   \n",
       "1  -VAsjhmAbKF3Pb_-8rh3xg                      1    2.0            10   \n",
       "2  -cxD1NimFldATDUsN-oa3A                      2    2.0            23   \n",
       "3  -r8SvItXXG6_T3mP5GXRAw                      2    4.0            10   \n",
       "4  0859wfd1BQHG46Zpwhc0ZQ                      2    4.5           245   \n",
       "\n",
       "                                          categories  cl_0  cl_1  cl_2  cl_3  \\\n",
       "0             Steakhouses, Restaurants, Cajun/Creole   NaN   1.0   NaN   3.0   \n",
       "1                    Fast Food, Burgers, Restaurants   NaN   1.0   NaN   NaN   \n",
       "2                               Mexican, Restaurants   NaN   1.0   NaN   NaN   \n",
       "3  Restaurants, Noodles, Food, Cafes, Chinese, Co...   NaN   NaN   NaN   NaN   \n",
       "4  Nightlife, Pizza, Wine Bars, Bars, American (N...   NaN   1.0   NaN   NaN   \n",
       "\n",
       "   cl_4  cl_5  cl_6  cl_7  cl_8  cl_9  \n",
       "0   NaN   5.0   6.0  None   8.0   NaN  \n",
       "1   NaN   NaN   NaN  None   NaN   NaN  \n",
       "2   NaN   NaN   6.0  None   NaN   NaN  \n",
       "3   NaN   NaN   NaN  None   NaN   NaN  \n",
       "4   NaN   NaN   NaN  None   NaN   NaN  "
      ]
     },
     "execution_count": 46,
     "metadata": {},
     "output_type": "execute_result"
    }
   ],
   "source": [
    "biz_df_cl.head()"
   ]
  },
  {
   "cell_type": "code",
   "execution_count": 47,
   "metadata": {},
   "outputs": [],
   "source": [
    "biz_df_cl.to_csv('biz_cluster10.csv')"
   ]
  },
  {
   "cell_type": "code",
   "execution_count": null,
   "metadata": {},
   "outputs": [],
   "source": []
  },
  {
   "cell_type": "code",
   "execution_count": null,
   "metadata": {},
   "outputs": [],
   "source": []
  },
  {
   "cell_type": "markdown",
   "metadata": {},
   "source": [
    "## Dirty trial to test on real data"
   ]
  },
  {
   "cell_type": "code",
   "execution_count": 48,
   "metadata": {},
   "outputs": [],
   "source": [
    "from pymongo import MongoClient\n",
    "import time\n",
    "from bs4 import BeautifulSoup\n",
    "\n",
    "mc = MongoClient()\n",
    "db  = mc['raw_restaurants']"
   ]
  },
  {
   "cell_type": "code",
   "execution_count": 24,
   "metadata": {},
   "outputs": [
    {
     "name": "stderr",
     "output_type": "stream",
     "text": [
      "/anaconda3/lib/python3.6/site-packages/ipykernel_launcher.py:1: DeprecationWarning: collection_names is deprecated. Use list_collection_names instead.\n",
      "  \"\"\"Entry point for launching an IPython kernel.\n"
     ]
    },
    {
     "data": {
      "text/plain": [
       "['reviews', 'reviews_scrap', 'users', 'restaurants']"
      ]
     },
     "execution_count": 24,
     "metadata": {},
     "output_type": "execute_result"
    }
   ],
   "source": [
    "db.collection_names()"
   ]
  },
  {
   "cell_type": "code",
   "execution_count": 49,
   "metadata": {},
   "outputs": [],
   "source": [
    "rv_s = db['reviews_scrap']"
   ]
  },
  {
   "cell_type": "code",
   "execution_count": 50,
   "metadata": {},
   "outputs": [
    {
     "data": {
      "text/plain": [
       "{'_id': ObjectId('5bfb5ed579884720729dd20e'),\n",
       " 'id': 'qgpe9AFPEQ7nc5NAnuACeA',\n",
       " 'rating': '2.0',\n",
       " 'text': 'Service at this bakery has gone to the toilet. First, they don\\'t ever answer the phone. Why have a phone and not answer it? We called for 2 HRs straight and no one picked up. When we get there and ask them why they didn\\'t answer the phone, they said they were busy. So we drove across town to find out they don\\'t have the cake we need. On a separate occasion (today), we got the cake we want but they refused to write \"Happy Birthday\" on the cake. They told us they can only write \"Happy Thanksgiving\"! Unbelievable! Never again will we give them our business. I only give them 2 stars because of the quality of the cake in the past.',\n",
       " 'category': '\\nBakeries,\\n                    Desserts\\n',\n",
       " 'date': '11/22/2017',\n",
       " 'alias': 'schuberts-bakery-san-francisco',\n",
       " 'user_id': '_3KTfz0hcPl_yq4jOyOPiA'}"
      ]
     },
     "execution_count": 50,
     "metadata": {},
     "output_type": "execute_result"
    }
   ],
   "source": [
    "rv_s.find_one({'rating': '2.0'})"
   ]
  },
  {
   "cell_type": "code",
   "execution_count": 45,
   "metadata": {},
   "outputs": [
    {
     "data": {
      "text/plain": [
       "797"
      ]
     },
     "execution_count": 45,
     "metadata": {},
     "output_type": "execute_result"
    }
   ],
   "source": [
    "rv_s.count_documents( {'rating': '1.0'})"
   ]
  },
  {
   "cell_type": "code",
   "execution_count": 51,
   "metadata": {},
   "outputs": [],
   "source": [
    "scr1 = pd.DataFrame(list(rv_s.find({'rating': '1.0'})))"
   ]
  },
  {
   "cell_type": "code",
   "execution_count": 52,
   "metadata": {},
   "outputs": [],
   "source": [
    "scr2 = pd.DataFrame(list(rv_s.find({'rating': '2.0'})))"
   ]
  },
  {
   "cell_type": "code",
   "execution_count": 50,
   "metadata": {},
   "outputs": [
    {
     "data": {
      "text/plain": [
       "((797, 9), (983, 9))"
      ]
     },
     "execution_count": 50,
     "metadata": {},
     "output_type": "execute_result"
    }
   ],
   "source": [
    "scr1.shape, scr2.shape"
   ]
  },
  {
   "cell_type": "code",
   "execution_count": 53,
   "metadata": {},
   "outputs": [],
   "source": [
    "scr_b2 =pd.concat([scr1, scr2] ,axis = 0)"
   ]
  },
  {
   "cell_type": "code",
   "execution_count": 54,
   "metadata": {},
   "outputs": [],
   "source": [
    "scr_b = scr_b2[['text','user_id']].copy()"
   ]
  },
  {
   "cell_type": "code",
   "execution_count": 55,
   "metadata": {},
   "outputs": [],
   "source": [
    "scr_sp = spark.createDataFrame(scr_b)"
   ]
  },
  {
   "cell_type": "code",
   "execution_count": 56,
   "metadata": {},
   "outputs": [
    {
     "data": {
      "text/plain": [
       "Row(text=\"Rude employees, expensive, and not a lot of flavorsWe order 7 different small cups and the total came out to $45. When we asked for a receipt, the employee snapped at us. They don't have coffee flavor or coconut ice cream. Much better shaved ice else where near by like Loco Coco. Wouldn't come back or do not recommend. The ice cream place right next door would have been a better.\", user_id='_3KTfz0hcPl_yq4jOyOPiA', token=['rude', 'employe', 'expens', 'lot', 'flavorsw', 'order', 'differ', 'small', 'cup', 'total', 'came', 'ask', 'receipt', 'employe', 'snap', 'us', 'coffe', 'flavor', 'coconut', 'ice', 'cream', 'much', 'better', 'shave', 'ice', 'els', 'near', 'like', 'loco', 'coco', 'come', 'back', 'recommend', 'ice', 'cream', 'place', 'right', 'next', 'door', 'would', 'better'])"
      ]
     },
     "execution_count": 56,
     "metadata": {},
     "output_type": "execute_result"
    }
   ],
   "source": [
    "scr_token = data_tokenizer(scr_sp)\n",
    "scr_token.first()"
   ]
  },
  {
   "cell_type": "code",
   "execution_count": 57,
   "metadata": {},
   "outputs": [],
   "source": [
    "user_scr= cluster_user_by_review(scr_token, pipe_idf_model)"
   ]
  },
  {
   "cell_type": "code",
   "execution_count": 58,
   "metadata": {},
   "outputs": [
    {
     "data": {
      "text/plain": [
       "[Row(user_id='SqPqSd7ql_UD5cYxRg_prA', user_cl=8),\n",
       " Row(user_id='zriuvFjGFSjvER9OgFJCew', user_cl=6),\n",
       " Row(user_id='havBggvuzfE6IPfkT-njbg', user_cl=1)]"
      ]
     },
     "execution_count": 58,
     "metadata": {},
     "output_type": "execute_result"
    }
   ],
   "source": [
    "user_scr.take(3)"
   ]
  },
  {
   "cell_type": "code",
   "execution_count": 59,
   "metadata": {},
   "outputs": [],
   "source": [
    "user_df = user_scr.toPandas()"
   ]
  },
  {
   "cell_type": "code",
   "execution_count": 60,
   "metadata": {},
   "outputs": [
    {
     "data": {
      "text/html": [
       "<div>\n",
       "<style scoped>\n",
       "    .dataframe tbody tr th:only-of-type {\n",
       "        vertical-align: middle;\n",
       "    }\n",
       "\n",
       "    .dataframe tbody tr th {\n",
       "        vertical-align: top;\n",
       "    }\n",
       "\n",
       "    .dataframe thead th {\n",
       "        text-align: right;\n",
       "    }\n",
       "</style>\n",
       "<table border=\"1\" class=\"dataframe\">\n",
       "  <thead>\n",
       "    <tr style=\"text-align: right;\">\n",
       "      <th></th>\n",
       "      <th>user_id</th>\n",
       "      <th>user_cl</th>\n",
       "    </tr>\n",
       "  </thead>\n",
       "  <tbody>\n",
       "    <tr>\n",
       "      <th>0</th>\n",
       "      <td>SqPqSd7ql_UD5cYxRg_prA</td>\n",
       "      <td>8</td>\n",
       "    </tr>\n",
       "    <tr>\n",
       "      <th>1</th>\n",
       "      <td>zriuvFjGFSjvER9OgFJCew</td>\n",
       "      <td>6</td>\n",
       "    </tr>\n",
       "    <tr>\n",
       "      <th>2</th>\n",
       "      <td>havBggvuzfE6IPfkT-njbg</td>\n",
       "      <td>1</td>\n",
       "    </tr>\n",
       "    <tr>\n",
       "      <th>3</th>\n",
       "      <td>Y5b286tescycns--SAZ-yg</td>\n",
       "      <td>6</td>\n",
       "    </tr>\n",
       "    <tr>\n",
       "      <th>4</th>\n",
       "      <td>zxn9ZlFJKTTddjF6Du7rRA</td>\n",
       "      <td>0</td>\n",
       "    </tr>\n",
       "  </tbody>\n",
       "</table>\n",
       "</div>"
      ],
      "text/plain": [
       "                  user_id  user_cl\n",
       "0  SqPqSd7ql_UD5cYxRg_prA        8\n",
       "1  zriuvFjGFSjvER9OgFJCew        6\n",
       "2  havBggvuzfE6IPfkT-njbg        1\n",
       "3  Y5b286tescycns--SAZ-yg        6\n",
       "4  zxn9ZlFJKTTddjF6Du7rRA        0"
      ]
     },
     "execution_count": 60,
     "metadata": {},
     "output_type": "execute_result"
    }
   ],
   "source": [
    "user_df.head()"
   ]
  },
  {
   "cell_type": "code",
   "execution_count": 61,
   "metadata": {},
   "outputs": [],
   "source": [
    "user_df.to_csv('user_from_scr_clidf10.csv')"
   ]
  },
  {
   "cell_type": "code",
   "execution_count": 62,
   "metadata": {},
   "outputs": [
    {
     "data": {
      "text/plain": [
       "8"
      ]
     },
     "execution_count": 62,
     "metadata": {},
     "output_type": "execute_result"
    }
   ],
   "source": [
    "len(pd.unique(user_df.user_cl))"
   ]
  },
  {
   "cell_type": "code",
   "execution_count": 102,
   "metadata": {},
   "outputs": [
    {
     "data": {
      "text/plain": [
       "[CountVectorizer_48f9b7c8d6430072c4b0,\n",
       " IDF_4ad1b3e8bbd33e98b427,\n",
       " KMeans_44cc8d441b418e8af8a6]"
      ]
     },
     "execution_count": 102,
     "metadata": {},
     "output_type": "execute_result"
    }
   ],
   "source": []
  },
  {
   "cell_type": "markdown",
   "metadata": {},
   "source": [
    "### Finding center reviews"
   ]
  },
  {
   "cell_type": "code",
   "execution_count": null,
   "metadata": {},
   "outputs": [],
   "source": [
    "\n"
   ]
  },
  {
   "cell_type": "code",
   "execution_count": 63,
   "metadata": {},
   "outputs": [],
   "source": [
    "cvm = cv.fit(train)"
   ]
  },
  {
   "cell_type": "code",
   "execution_count": 64,
   "metadata": {},
   "outputs": [
    {
     "ename": "Py4JJavaError",
     "evalue": "An error occurred while calling o665.save.\n: java.io.IOException: Path center18idf/cv already exists. To overwrite it, please use write.overwrite().save(path) for Scala and use write().overwrite().save(path) for Java and Python.\n\tat org.apache.spark.ml.util.FileSystemOverwrite.handleOverwrite(ReadWrite.scala:503)\n\tat org.apache.spark.ml.util.MLWriter.save(ReadWrite.scala:102)\n\tat sun.reflect.NativeMethodAccessorImpl.invoke0(Native Method)\n\tat sun.reflect.NativeMethodAccessorImpl.invoke(NativeMethodAccessorImpl.java:62)\n\tat sun.reflect.DelegatingMethodAccessorImpl.invoke(DelegatingMethodAccessorImpl.java:43)\n\tat java.lang.reflect.Method.invoke(Method.java:498)\n\tat py4j.reflection.MethodInvoker.invoke(MethodInvoker.java:244)\n\tat py4j.reflection.ReflectionEngine.invoke(ReflectionEngine.java:357)\n\tat py4j.Gateway.invoke(Gateway.java:282)\n\tat py4j.commands.AbstractCommand.invokeMethod(AbstractCommand.java:132)\n\tat py4j.commands.CallCommand.execute(CallCommand.java:79)\n\tat py4j.GatewayConnection.run(GatewayConnection.java:238)\n\tat java.lang.Thread.run(Thread.java:748)\n",
     "output_type": "error",
     "traceback": [
      "\u001b[0;31m---------------------------------------------------------------------------\u001b[0m",
      "\u001b[0;31mPy4JJavaError\u001b[0m                             Traceback (most recent call last)",
      "\u001b[0;32m<ipython-input-64-b355279a2c45>\u001b[0m in \u001b[0;36m<module>\u001b[0;34m()\u001b[0m\n\u001b[0;32m----> 1\u001b[0;31m \u001b[0mcvm\u001b[0m\u001b[0;34m.\u001b[0m\u001b[0msave\u001b[0m\u001b[0;34m(\u001b[0m\u001b[0;34m'center18idf/cv'\u001b[0m\u001b[0;34m)\u001b[0m\u001b[0;34m\u001b[0m\u001b[0m\n\u001b[0m",
      "\u001b[0;32m/usr/local/Cellar/apache-spark/2.3.2/libexec/python/pyspark/ml/util.py\u001b[0m in \u001b[0;36msave\u001b[0;34m(self, path)\u001b[0m\n\u001b[1;32m    202\u001b[0m     \u001b[0;32mdef\u001b[0m \u001b[0msave\u001b[0m\u001b[0;34m(\u001b[0m\u001b[0mself\u001b[0m\u001b[0;34m,\u001b[0m \u001b[0mpath\u001b[0m\u001b[0;34m)\u001b[0m\u001b[0;34m:\u001b[0m\u001b[0;34m\u001b[0m\u001b[0m\n\u001b[1;32m    203\u001b[0m         \u001b[0;34m\"\"\"Save this ML instance to the given path, a shortcut of 'write().save(path)'.\"\"\"\u001b[0m\u001b[0;34m\u001b[0m\u001b[0m\n\u001b[0;32m--> 204\u001b[0;31m         \u001b[0mself\u001b[0m\u001b[0;34m.\u001b[0m\u001b[0mwrite\u001b[0m\u001b[0;34m(\u001b[0m\u001b[0;34m)\u001b[0m\u001b[0;34m.\u001b[0m\u001b[0msave\u001b[0m\u001b[0;34m(\u001b[0m\u001b[0mpath\u001b[0m\u001b[0;34m)\u001b[0m\u001b[0;34m\u001b[0m\u001b[0m\n\u001b[0m\u001b[1;32m    205\u001b[0m \u001b[0;34m\u001b[0m\u001b[0m\n\u001b[1;32m    206\u001b[0m \u001b[0;34m\u001b[0m\u001b[0m\n",
      "\u001b[0;32m/usr/local/Cellar/apache-spark/2.3.2/libexec/python/pyspark/ml/util.py\u001b[0m in \u001b[0;36msave\u001b[0;34m(self, path)\u001b[0m\n\u001b[1;32m    163\u001b[0m         \u001b[0;32mif\u001b[0m \u001b[0;32mnot\u001b[0m \u001b[0misinstance\u001b[0m\u001b[0;34m(\u001b[0m\u001b[0mpath\u001b[0m\u001b[0;34m,\u001b[0m \u001b[0mbasestring\u001b[0m\u001b[0;34m)\u001b[0m\u001b[0;34m:\u001b[0m\u001b[0;34m\u001b[0m\u001b[0m\n\u001b[1;32m    164\u001b[0m             \u001b[0;32mraise\u001b[0m \u001b[0mTypeError\u001b[0m\u001b[0;34m(\u001b[0m\u001b[0;34m\"path should be a basestring, got type %s\"\u001b[0m \u001b[0;34m%\u001b[0m \u001b[0mtype\u001b[0m\u001b[0;34m(\u001b[0m\u001b[0mpath\u001b[0m\u001b[0;34m)\u001b[0m\u001b[0;34m)\u001b[0m\u001b[0;34m\u001b[0m\u001b[0m\n\u001b[0;32m--> 165\u001b[0;31m         \u001b[0mself\u001b[0m\u001b[0;34m.\u001b[0m\u001b[0m_jwrite\u001b[0m\u001b[0;34m.\u001b[0m\u001b[0msave\u001b[0m\u001b[0;34m(\u001b[0m\u001b[0mpath\u001b[0m\u001b[0;34m)\u001b[0m\u001b[0;34m\u001b[0m\u001b[0m\n\u001b[0m\u001b[1;32m    166\u001b[0m \u001b[0;34m\u001b[0m\u001b[0m\n\u001b[1;32m    167\u001b[0m     \u001b[0;32mdef\u001b[0m \u001b[0moverwrite\u001b[0m\u001b[0;34m(\u001b[0m\u001b[0mself\u001b[0m\u001b[0;34m)\u001b[0m\u001b[0;34m:\u001b[0m\u001b[0;34m\u001b[0m\u001b[0m\n",
      "\u001b[0;32m/usr/local/Cellar/apache-spark/2.3.2/libexec/python/lib/py4j-0.10.7-src.zip/py4j/java_gateway.py\u001b[0m in \u001b[0;36m__call__\u001b[0;34m(self, *args)\u001b[0m\n\u001b[1;32m   1255\u001b[0m         \u001b[0manswer\u001b[0m \u001b[0;34m=\u001b[0m \u001b[0mself\u001b[0m\u001b[0;34m.\u001b[0m\u001b[0mgateway_client\u001b[0m\u001b[0;34m.\u001b[0m\u001b[0msend_command\u001b[0m\u001b[0;34m(\u001b[0m\u001b[0mcommand\u001b[0m\u001b[0;34m)\u001b[0m\u001b[0;34m\u001b[0m\u001b[0m\n\u001b[1;32m   1256\u001b[0m         return_value = get_return_value(\n\u001b[0;32m-> 1257\u001b[0;31m             answer, self.gateway_client, self.target_id, self.name)\n\u001b[0m\u001b[1;32m   1258\u001b[0m \u001b[0;34m\u001b[0m\u001b[0m\n\u001b[1;32m   1259\u001b[0m         \u001b[0;32mfor\u001b[0m \u001b[0mtemp_arg\u001b[0m \u001b[0;32min\u001b[0m \u001b[0mtemp_args\u001b[0m\u001b[0;34m:\u001b[0m\u001b[0;34m\u001b[0m\u001b[0m\n",
      "\u001b[0;32m/usr/local/Cellar/apache-spark/2.3.2/libexec/python/pyspark/sql/utils.py\u001b[0m in \u001b[0;36mdeco\u001b[0;34m(*a, **kw)\u001b[0m\n\u001b[1;32m     61\u001b[0m     \u001b[0;32mdef\u001b[0m \u001b[0mdeco\u001b[0m\u001b[0;34m(\u001b[0m\u001b[0;34m*\u001b[0m\u001b[0ma\u001b[0m\u001b[0;34m,\u001b[0m \u001b[0;34m**\u001b[0m\u001b[0mkw\u001b[0m\u001b[0;34m)\u001b[0m\u001b[0;34m:\u001b[0m\u001b[0;34m\u001b[0m\u001b[0m\n\u001b[1;32m     62\u001b[0m         \u001b[0;32mtry\u001b[0m\u001b[0;34m:\u001b[0m\u001b[0;34m\u001b[0m\u001b[0m\n\u001b[0;32m---> 63\u001b[0;31m             \u001b[0;32mreturn\u001b[0m \u001b[0mf\u001b[0m\u001b[0;34m(\u001b[0m\u001b[0;34m*\u001b[0m\u001b[0ma\u001b[0m\u001b[0;34m,\u001b[0m \u001b[0;34m**\u001b[0m\u001b[0mkw\u001b[0m\u001b[0;34m)\u001b[0m\u001b[0;34m\u001b[0m\u001b[0m\n\u001b[0m\u001b[1;32m     64\u001b[0m         \u001b[0;32mexcept\u001b[0m \u001b[0mpy4j\u001b[0m\u001b[0;34m.\u001b[0m\u001b[0mprotocol\u001b[0m\u001b[0;34m.\u001b[0m\u001b[0mPy4JJavaError\u001b[0m \u001b[0;32mas\u001b[0m \u001b[0me\u001b[0m\u001b[0;34m:\u001b[0m\u001b[0;34m\u001b[0m\u001b[0m\n\u001b[1;32m     65\u001b[0m             \u001b[0ms\u001b[0m \u001b[0;34m=\u001b[0m \u001b[0me\u001b[0m\u001b[0;34m.\u001b[0m\u001b[0mjava_exception\u001b[0m\u001b[0;34m.\u001b[0m\u001b[0mtoString\u001b[0m\u001b[0;34m(\u001b[0m\u001b[0;34m)\u001b[0m\u001b[0;34m\u001b[0m\u001b[0m\n",
      "\u001b[0;32m/usr/local/Cellar/apache-spark/2.3.2/libexec/python/lib/py4j-0.10.7-src.zip/py4j/protocol.py\u001b[0m in \u001b[0;36mget_return_value\u001b[0;34m(answer, gateway_client, target_id, name)\u001b[0m\n\u001b[1;32m    326\u001b[0m                 raise Py4JJavaError(\n\u001b[1;32m    327\u001b[0m                     \u001b[0;34m\"An error occurred while calling {0}{1}{2}.\\n\"\u001b[0m\u001b[0;34m.\u001b[0m\u001b[0;34m\u001b[0m\u001b[0m\n\u001b[0;32m--> 328\u001b[0;31m                     format(target_id, \".\", name), value)\n\u001b[0m\u001b[1;32m    329\u001b[0m             \u001b[0;32melse\u001b[0m\u001b[0;34m:\u001b[0m\u001b[0;34m\u001b[0m\u001b[0m\n\u001b[1;32m    330\u001b[0m                 raise Py4JError(\n",
      "\u001b[0;31mPy4JJavaError\u001b[0m: An error occurred while calling o665.save.\n: java.io.IOException: Path center18idf/cv already exists. To overwrite it, please use write.overwrite().save(path) for Scala and use write().overwrite().save(path) for Java and Python.\n\tat org.apache.spark.ml.util.FileSystemOverwrite.handleOverwrite(ReadWrite.scala:503)\n\tat org.apache.spark.ml.util.MLWriter.save(ReadWrite.scala:102)\n\tat sun.reflect.NativeMethodAccessorImpl.invoke0(Native Method)\n\tat sun.reflect.NativeMethodAccessorImpl.invoke(NativeMethodAccessorImpl.java:62)\n\tat sun.reflect.DelegatingMethodAccessorImpl.invoke(DelegatingMethodAccessorImpl.java:43)\n\tat java.lang.reflect.Method.invoke(Method.java:498)\n\tat py4j.reflection.MethodInvoker.invoke(MethodInvoker.java:244)\n\tat py4j.reflection.ReflectionEngine.invoke(ReflectionEngine.java:357)\n\tat py4j.Gateway.invoke(Gateway.java:282)\n\tat py4j.commands.AbstractCommand.invokeMethod(AbstractCommand.java:132)\n\tat py4j.commands.CallCommand.execute(CallCommand.java:79)\n\tat py4j.GatewayConnection.run(GatewayConnection.java:238)\n\tat java.lang.Thread.run(Thread.java:748)\n"
     ]
    }
   ],
   "source": [
    "cvm.save('center18idf/cv')"
   ]
  },
  {
   "cell_type": "code",
   "execution_count": 65,
   "metadata": {},
   "outputs": [],
   "source": [
    "cv_tr = cvm.transform(train)"
   ]
  },
  {
   "cell_type": "code",
   "execution_count": 66,
   "metadata": {},
   "outputs": [
    {
     "data": {
      "text/plain": [
       "DataFrame[business_id: string, cool: bigint, date: string, funny: bigint, review_id: string, stars: bigint, text: string, useful: bigint, user_id: string, rating: double, token: array<string>, vectors: vector]"
      ]
     },
     "execution_count": 66,
     "metadata": {},
     "output_type": "execute_result"
    }
   ],
   "source": [
    "cv_tr.cache()"
   ]
  },
  {
   "cell_type": "code",
   "execution_count": 67,
   "metadata": {},
   "outputs": [],
   "source": [
    "idfm = idf.fit(cv_tr)"
   ]
  },
  {
   "cell_type": "code",
   "execution_count": 133,
   "metadata": {},
   "outputs": [],
   "source": [
    "idfm.save('center18idf/idf')"
   ]
  },
  {
   "cell_type": "code",
   "execution_count": 68,
   "metadata": {},
   "outputs": [],
   "source": [
    "idf_tr = idfm.transform(cv_tr)"
   ]
  },
  {
   "cell_type": "code",
   "execution_count": 70,
   "metadata": {},
   "outputs": [],
   "source": [
    "km10_mdl = km2.fit(idf_tr)"
   ]
  },
  {
   "cell_type": "code",
   "execution_count": 134,
   "metadata": {},
   "outputs": [],
   "source": [
    "km2_mdl.save('center18idf/km')"
   ]
  },
  {
   "cell_type": "code",
   "execution_count": 72,
   "metadata": {},
   "outputs": [],
   "source": [
    "cluster_C = km10_mdl.clusterCenters()"
   ]
  },
  {
   "cell_type": "code",
   "execution_count": 74,
   "metadata": {},
   "outputs": [],
   "source": [
    "train_with_cl = km10_mdl.transform(idf_tr)"
   ]
  },
  {
   "cell_type": "code",
   "execution_count": 116,
   "metadata": {},
   "outputs": [],
   "source": [
    "'''cv = CountVectorizer(minDF=5, vocabSize=5000, inputCol='token', outputCol='vectors')\n",
    "idf = IDF(minDocFreq=7, inputCol=\"vectors\", outputCol=\"features\")\n",
    "km2 = KMeans(k = 18, featuresCol='features', maxIter= 30)\n",
    "'''\n",
    "pipe_idf_model.save('pipe-idf-5-7-18')"
   ]
  },
  {
   "cell_type": "code",
   "execution_count": 85,
   "metadata": {},
   "outputs": [
    {
     "name": "stdout",
     "output_type": "stream",
     "text": [
      "CPU times: user 3.94 ms, sys: 2.31 ms, total: 6.26 ms\n",
      "Wall time: 229 ms\n"
     ]
    },
    {
     "data": {
      "text/plain": [
       "44554"
      ]
     },
     "execution_count": 85,
     "metadata": {},
     "output_type": "execute_result"
    }
   ],
   "source": [
    "%%time\n",
    "train_with_cl.filter(\"prediction = 1\").count()"
   ]
  },
  {
   "cell_type": "code",
   "execution_count": 135,
   "metadata": {},
   "outputs": [
    {
     "data": {
      "text/plain": [
       "Row(text='There are many great choices for Italian in Las Vegas.  I probably won\\'t be coming back here.\\n\\nThe antipasto tray was nice.  I thought the wine  list was a little pricey.  I am not enough of a wine aficionado to wash my $20 plate of pasta down with $75+ worth of wine.\\n\\nSalads were very good.  I had the arugula salad and my husband had the tricolore salad. Unfortunately, it only set us up for disapppointment with our entrees.\\n\\nMy husband\\'s lasagna was decent -- I snuck a bite. and lasagna is one of my all-time favorite foods.  However, my risotto primavera was shockingly mediocre.  The \"primavera\" consisted of peas and cubed carrots, and the sauce was quite bland.  The dish was eerily similar to the Lipton Rice \\'n Sauce mix  I make when I am out of ideas of what to serve as a side dish at home.\\n\\nThe service was not up to par, either.  The wait time  between courses was not paced weil.  Our server put our check on the table before she asked us if we wanted dessert or coffee.  I later saw the restaurant manager scolding her.\\n\\nIf you want upscale, delicious food in this part of town, go to Rosemary\\'s.')"
      ]
     },
     "execution_count": 135,
     "metadata": {},
     "output_type": "execute_result"
    }
   ],
   "source": [
    "train_with_cl.filter(\"prediction = 17\").select('text').first()"
   ]
  },
  {
   "cell_type": "code",
   "execution_count": 137,
   "metadata": {},
   "outputs": [
    {
     "data": {
      "text/plain": [
       "\"Arrived just before 8pm on a Friday night. Came with my 8 year old son for a late dinner. Had to wait nearly 20 minutes for a table meanwhile they had a few tables open that I could see. The waitress promptly arrived, took our drink order and returned minutes later. We then placed our food order and went to the restroom to wash up. The ladies room smells like an outhouse. No joke. So gross. So, back to waiting for our food. It took quite a while. Long enough to deter me from coming back. When you're hungry, it's hard to be patient and I realize it isn't a fast food establishment. But when you're hungry, you're hungry. I ordered a medium well steak and fries and little man ordered chicken fingers and fries. Took a total of 25 minutes to arrive. My steak was a bit warmer than room temperature. Not impressed, again. Fries were hot so it was just poor timing by be kitchen staff. Food was flavourful. Steak was fairly tender but still too pink in the center for my liking. Will probably return one day but wouldn't be my first choice.\""
      ]
     },
     "execution_count": 137,
     "metadata": {},
     "output_type": "execute_result"
    }
   ],
   "source": [
    "train_with_cl.filter(\"prediction = 13\").select('text').first()['text']"
   ]
  },
  {
   "cell_type": "code",
   "execution_count": 86,
   "metadata": {},
   "outputs": [
    {
     "name": "stdout",
     "output_type": "stream",
     "text": [
      "\n",
      "cluster  0 :\n",
      "\n",
      "Overpriced and verrrrrrrrrry slow.  The pizza is good, the beer selection is fantastic, and the people are nice. Two big problems though:  1.  The pizza is much more expensive than comparable pizza elsewhere.  Beer prices are steep too.  2. Both times I've been here the pizza took far too long. I won't be coming back. If you value your time and money you'll stay away too.\n",
      "\n",
      "cluster  1 :\n",
      "\n",
      "My wife and I ate at Delmonico the night of July 4th. I had the bone-in ribeye and my wife had the filet. My wife's filet was tasty and what one would expect from a restaurant of this caliber. Unfortunately, my ribeye was tough and full of fat. I would say about half of it was edible. With al of the choices to enjoy a quality steak in Vegas, ignore the hype and go somewhere else.\n",
      "\n",
      "cluster  2 :\n",
      "\n",
      "I've appreciated Izakaya's around the world from the ultra-traditional in small-town Japan, where they are much better at sitting on the floor than me, to the ultra-hip Toronto version of Guu Izakaya.  Approaching Hanmoto, there was no moat of flaming dog turds, just a building that looked like a shack with ultra-loud music and papered-over windows.  In contrast to both the traditional and hip versions, there were no shouts of \"Irasshaimase!\" to greet us upon arrival, merely a flannel-clad waitress looking bored.\n",
      "\n",
      "The meal did start well-enough.  There are indeed several interesting cocktails on the menu (all $12-$13), which incorporate Asian flavours like kaffir lime and ginger in variants of classic cocktails.  Our first dish to arrive, the Hamachi Tartare ($14), was by far the best, and at the level of the small plates served by far fancier places like Bent.  A beautiful tartare accompanied with some ponzu, avocado, and elements of crunchiness.\n",
      "\n",
      "We then proceeded to the Nasu Dengaku ($7), the Japanese eggplant, which was lovely in flavor  and texture and covered with crunchy fried beet slivers that provided an interesting contrast.  The menu advertised a miso hollandaise sauce, but the sauce that accompanied it was as similar to that as Sesame Street is to The Walking Dead.  Instead, it was so sweet, that I highly recommend it be adopted immediately as the standard medical treatment for hypoglycemia.  \n",
      "\n",
      "\"Can I get you more drinks?\"  No, we've only had our cocktails about 10 minutes.\n",
      "\n",
      "We then proceeded to the interesting Katsu Bun ($7/piece) which consisted of a marinated pork belly served in an aggressively salted soy remoulade.  Too big for a tapas portion for one person, but impossible to share, as the restaurant refuses to provide a knife or cut it in half.  Clearly, it would ruin the \"integrity\" of the dish.\n",
      "\n",
      "\"Can I get you more drinks?\"  OK, let's have a round of Asahi's ($8 on tap).  Some passable enoki mushrooms ($7) arrived.\n",
      "\n",
      "\"Can I get you more drinks?\" No, we've only had the beers 5 minutes, but maybe you can check on the Uni Bomb we ordered long, long ago that has been forgotten.   I regretted that request immensely.\n",
      "\n",
      "Our \"Uni Bomb\" ($15) arrived, which was a do-it-yourself sort of dish of a small portion of uni on top of sushi rice with nori to wrap it in and a few sprinkles of salmon roe.  3 out of 4 of us proceeded to make our little uni wraps and started to eat it.  Unfortunately the uni tasted like rancid iodine...if iodine could somehow spoil.  In the entire collective memory of everyone who knows my boyfriend, he has never sent a dish of food back. Here, and we were in unanimous agreement, we had just been served disgusting, rotten uni, and he politely called the waitress over...\n",
      "\n",
      "\"Can I get you another drink?\"\n",
      "\"No, actually, I'm afraid we can't get eat your uni.  I'm afraid it's gone bad, and we want to send it back.  You really should alert your chef so that you don't serve this to anyone else.\"  She turned and walked in silence away.  She whispers with the chef in the corner.  We ponder if someone will come to apologize, or offer a substitute, or acknowledge the problem.  No one comes back to say anything, so we finally succeed in distracting the waitress from the cell phone.  By now the readers at home know what she will say:\n",
      "\"Can I get you another drink?\" \n",
      "\"No, just the bill, please\"\n",
      "\n",
      "Lo and behold, the \"Uni Bomb\" we returned, which contained the worst bit of seafood ever to cross my lips, is still on the bill for $15.  After being ignored for a solid 15 minutes of candy crushing, the waitress comes over and we ask her to remove the uni from the bill.  \n",
      "\n",
      "The Michelin-trained waitress explains that they discussed removing it from the bill, but more than 50% of the uni was gone, so they didn't want to take it off.  Aha, well, 3 of us had miniature spoonfuls of it, which we all hated.  She reluctantly agrees to take it off the bill.  \n",
      "\n",
      "Before, we can get the new bill, we're greeted by the manager.  100% sure of the quality of his food, he proceeds to lecture us that maybe we don't know what uni tastes like.  My boyfriend's mention of living in Japan and eating it often did nothing to shake his confidence.  He proceeded to mention that this was uni from BC, not the Chilean uni they had been serving before, and we might be unaccustomed to its taste.  Ah, so you're saying that sea urchin from BC should taste like the fish that's been thrown out of the dodgy fish markets in Kensington and left to rot for a few days in the sunshine...sure!  Not once was there an apology.\n",
      "\n",
      "We finally get our revised bill.  We ask the waitress to split it two ways.  \"Sure, but I just don't want to do the math.  You do it,\" comes the response.  \n",
      "\n",
      "We departed with no shouts of \"Arigatou gozaimashita\" or even nods from flannel-clad waitresses.  Unfortunately, the taste of the rotten uni persisted.  The 3 of us who had the \"Uni Bomb\" also got to discover its gastrointestinal \"bomb\" counterpart the next day.\n",
      "\n",
      "cluster  3 :\n",
      "\n",
      "I just experienced the worst service from Panda Express at 24th street and Baseline.  There are 2 girls taking the orders, one black and another of Asian decent. I asked if they can make more pacific shrimp and the black girl said yes in 5-6 mins. So I told her I can wait.  After 15 mins I asked if it is ready and she said.  They are making other things first.  So of c ourselves I reminded her that she said 5-6 mins.  After another 15 mins she asked if she can take my order.  I said sure.  I want the family feas, rice only in one box and rice and chow me in combined in the other box.  Why did she immediately got upset and sad they don't serve combinations and I need to just pick one.  I told her I buy the same thing every week and I wanted to know if it was just her location.  She whispered to the other girl and then she put the combination in, put only half box.  I had to ask her if she could put more and she was not happy.  So now that the shrimp is ready they need to make more chicken and green beans and she didn't want to tell the guys cooking.  I had to ask her multiple times.  Then I realize that I was standing in Panda for more than one hour with no food and had to go pack to work.  So all I got from them was bad service.  DON'T GO THERE FOLKS.  FIND ANOTHER LOCATION.\n",
      "\n",
      "cluster  4 :\n",
      "\n",
      "By far the worst sushi restaurant in town. I have been there 3 times, to be fair and give it a chance to change my mind. Each time the sushi has been dull, flavorless, and completely over priced. The service is so-so, and the menu would be impressive it the sushi had any quality to it at all. I have eaten many types of  good sushi and have never been so disappointed by the quality of food. For $14.00 I expect far more than some stale crab, limp rice, and over salted dipping sauce. Unfortunately, there are far better sushi places in town, such as Stingray and Kobe Tepan. Don't waste your time or money on Sushi 101\n",
      "\n",
      "cluster  5 :\n",
      "\n",
      "Over rated beyond belief!!\n",
      "The restaurant setting is unique in its cozy ambiance, but you pay $250 for two to eat good food not the ambiance. Our 30th anniversary, as a visitor to Phoenix, was not something to be stamped out in our culinary diary as \"outstanding\". The staff has been trained to \"sell\" the \"Goods\", but the Goods' are not there to be sold. Upon our arrival, we were given the privilege of being seated in the patio area, provided we vacated the table in \"one hour forty minutes\"!! Our server was very accommodating, well informed and courteous, but the kitchen did not take any notice of his recommendations and most of our food had to be returned for revision. The menu is structured around the fancy names, extravagant ingredients and presentation, but the quality and the \"yummy factor\" is just not there to match the intentions. My wife's orders had to be modified due to her numerous allegories, so in the spirit of fairness, I will only comment on my choices which were presented exactly as described on the menu. The lobster appetizer starter, with a fancy name ($18) turned out to be a few pieces of tasteless lobster meat in some kind of equally tasteless sauce buried in an unimpressive French Bread and accompanied with soggy and limp French Fries. The main course, the stake ($38+) was a lump of un-seasoned meat on a pile of fiery hot chilies and corn (out of a can), with a failed attempt to camouflage the tasteless meat. The reprieve came at the end of the meal. The desert and espresso was well presented and very tasty. \n",
      "If you are seeking bragging rights for a night out, this is your place. On the other hand if you are after good food, look for an establishment serving a true gourmet product.\n",
      "Fred Fardoost\n",
      "\n",
      "cluster  6 :\n",
      "\n",
      "If I could give zero stars I would. I've never written a bad review but I've never been treated like this before so I feel it is necessary. Readers digest version: \n",
      "\n",
      "Poor service. Hostesses who give your table away to the wrong party. Blatantly rude waitresses who push through in between your guests aggressively to retrieve a water glass and kick you out when you just closed out your ticket (who isn't even your waitress). A manager with zero customer service skills who dismisses your concerns about the lack of service from her waitresses, claims you are lying about your wait time, and is full of excuses. \n",
      "\n",
      "SPEND YOUR HARD EARNED MONEY SOMEWHERE ELSE!\n"
     ]
    },
    {
     "name": "stdout",
     "output_type": "stream",
     "text": [
      "\n",
      "cluster  7 :\n",
      "\n",
      "Mom's out of town for Thanksgiving so what do two grown men do???  They go out to eat!  This choice brought us to Ben & Jacks in Old Town.  I've eaten at Peter Luger's in New York but never one of Ben & Jacks spin-offs so I was excited to try it.  \n",
      "\n",
      "The dinner started off at the bar for a cocktail.  Guinness on draft is always a good idea but in a 10oz glass doesn't quite seem right.  The Stoli and Tonic I ordered was great but again the glassware made for a short pour. When the check came, almost 22 dollars for the beer and cocktail.  I don't care how high-end you are, that's absurd pricing.   \n",
      "\n",
      "Continuing on with our drink pricing fiasco we were moved from the bar to our table where we ordered a bottle of Panna for our flat water...Always a good choice when a restaurant serves it, but as we came to find when the check came, 10 dollars was the going price for that liter of water. Did I mention the word absurd?!?  I don't know if they are trying to recoup all of their start up fees in 2 weeks but at this pace they just might!   Moving on to the wine choice, it  seemed to be a little bit more reasonable as we saw a bottle of the Raymond Cabernet priced at 18 dollars a glass which would have ideally put the bottle at about 70 dollars, I say ideally because the wine list at the bar didn't have a price by the bottle for that wine ...I thought nothing of it but was definitely ready to try it and get some food in our tummies.... Things looked like they were looking up!\n",
      "\n",
      "\n",
      "We then moved to the table promptly after drinks and were met by our server.  No specials given outside of the Thanksgiving Day Pre-Fix menu so we just ordered off the menu.  Dad started with the Oysters on the Half Shell ($13.95.  Great flavor and plenty of horseradish and cocktail sauce to season! I wasn't so luck with my Baked Clams($13.95).  These little neck clams were 6 to the plate and just that....LITTLE!  While the flavor was decent, the portion could definitely use an adjustment. I also found it a tad overwhelming that the server moved my clams from one plate to the other and then seasoned with the extra white wine reduction.  Maybe it's just me, but I don't like being served like that. Sprinkle some pepper, grate some cheese but no touching the food...\n",
      "\n",
      "Well now to dinner, and good thing I was still hungry after the appetizers because the Prime Ribeye($45.95) I ordered  was massive.  The bone-in rib eye was done perfectly medium with a Gorgonzola reduction I requested on the side.  Dad got the same with some sort of Au Jus... His ordered Medium Rare and again perfectly done.  As a side we shared the German Potatoes(13.95) Kind of pricey for a side but good overall flavor.  \n",
      "\n",
      "After the meal absolutely no room to try a dessert so we asked for the check.  When it came I opened it and almost gave back all my food.  Not for pricing of the steaks but the pricing on the water and the wine.  The Raymond Cabernet came out at $90.  I don't know who is doing the math in the accounting office but  you're definitely in line for a raise! \n",
      "\n",
      "Long and the short of it...steaks were phenomenal, Antonio the server was great but everything else was mediocre at best.  Too many staff members running around and seemed like a lot of disorganization.\n",
      "\n",
      "cluster  8 :\n",
      "\n",
      "I feel like Twitter is pretty useless so far; I have an ok amount of followers I guess, but I feel like they're all following so many people that anything I say gets lost in the mess of their feed. I could tweet all day and get very little response to anything aside from a couple loyal folks on there. And it was one such reader that led me to Delmonico recently for what he claimed to be an excellent burger. He's a food writer in town so he should know what he's talking about, right?\n",
      "\n",
      "Delmonico is located in the small restaurant row of the Venetian right by another great burger spot, although most people would not come here for their burger. The interior is nothing too fancy in either the bar area or more traditional area in the back. I did notice while sitting at the bar that they have an amazing bourbon selection, but since I was there during a lunch break I'll have to go back some time when I'm not on the clock. The lunch and dinner menus are a bit different, with the lunch menu featuring more sandwiches and things, so maybe the comment I just made about people not coming for a burger is wrong. Either way, this restaurant is pretty fancy and features quite a number of great sounding items aside from what I came there for.\n",
      "\n",
      "The Delmonico Prime Hamburger comes on a toasted brioche roll with fries, cheddar cheese and bacon. The meat had excellent flavor from the first bite, but I noticed right away that it was way overcooked and dry. It started off extremely juicy but that faded way too fast and by the end it was very dry. The cheese was melted and had great flavor, but the bun was a tiny bit dry as well and a little too thick. The heirloom tomatoes were fantastic, but maybe a bit off-putting at first due to their green color. The bacon also had good flavor, but was a tiny bit undercooked and soggy in parts. Overall it was still decent, but could have been well beyond that if the meat had been cooked properly.\n",
      "\n",
      "Luckily the fries were great. Some of them were almost a bit too hard and crunchy, but they were very tasty and a welcome change to the 'typical' fries I often get around town. Something I found to be quite funny was when I asked for ketchup I was brought an insanely large bowl of it, more than probably a table full of people could have used.\n",
      "\n",
      "The online menu lists the burger at $15, so I was a little surprised to see the $18 listed on the menu when I made my order. I think if it was cooked properly I would still be ok with this price given the chef, the location, etc, but because of this price I seriously frown on the fact that they couldn't cook my burger properly. If you're willing to risk this inconsistency and are ok with the cost, I think it's a good burger to check out, and has the potential to be really great, but if you're at the Venetian and are craving a guaranteed good burger for a similar cost I suggest you go next door.\n",
      "\n",
      "cluster  9 :\n",
      "\n",
      "We were excited to try this, but our experience was less than the \"surreal dining experience\" promoted on the menu. Our party of two waited 25 minutes to be seated at the bar alongside people who arrived after but we're seated before us. We were greeted by three of the 8 or so people working behind the bar, none of whom offered us any beverages until I had asked three times for water and coffee. (Our server actually argued with me about my request stating that being seated is not a guarantee of fast service.) The beef brisket biscuits and gravy we ordered was actually sausage gravy, and the truffle French toast with asparagus and fried egg was good but not great. The highlight was the coffee, but not even that was worth the wait and poor service.\n"
     ]
    }
   ],
   "source": [
    "for i in range(10):\n",
    "    cond = 'prediction = '+str(i)\n",
    "    text = train_with_cl.filter(cond).select('text').first()['text']\n",
    "    print('\\ncluster ', i, ':\\n')\n",
    "    print(text)"
   ]
  },
  {
   "cell_type": "code",
   "execution_count": null,
   "metadata": {},
   "outputs": [],
   "source": []
  }
 ],
 "metadata": {
  "kernelspec": {
   "display_name": "Python 3",
   "language": "python",
   "name": "python3"
  },
  "language_info": {
   "codemirror_mode": {
    "name": "ipython",
    "version": 3
   },
   "file_extension": ".py",
   "mimetype": "text/x-python",
   "name": "python",
   "nbconvert_exporter": "python",
   "pygments_lexer": "ipython3",
   "version": "3.6.5"
  }
 },
 "nbformat": 4,
 "nbformat_minor": 2
}
