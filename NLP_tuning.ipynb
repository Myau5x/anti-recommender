{
 "cells": [
  {
   "cell_type": "code",
   "execution_count": 1,
   "metadata": {},
   "outputs": [],
   "source": [
    "import numpy as np\n",
    "\n",
    "\n",
    "import string\n",
    "import re\n",
    "\n",
    "from nltk.tokenize import word_tokenize\n",
    "from nltk.corpus import stopwords\n",
    "from nltk.stem.porter import PorterStemmer\n",
    "\n",
    "from pyspark.ml.clustering import KMeans\n",
    "from pyspark.ml.feature import CountVectorizer, IDF\n",
    "from pyspark.sql.functions import udf\n",
    "from pyspark.sql.types import ArrayType, StringType, BooleanType\n",
    "from pyspark.ml import Pipeline, PipelineModel\n",
    "\n",
    "from nlp_cl_start import data_tokenizer"
   ]
  },
  {
   "cell_type": "code",
   "execution_count": 2,
   "metadata": {},
   "outputs": [],
   "source": [
    "import pyspark as ps\n",
    "spark = (ps.sql.SparkSession.builder\n",
    "        .master(\"local[4]\")\n",
    "        .appName(\"yelp_academic\")\n",
    "        .getOrCreate()\n",
    "        )\n",
    "sc = spark.sparkContext"
   ]
  },
  {
   "cell_type": "code",
   "execution_count": 3,
   "metadata": {},
   "outputs": [],
   "source": [
    "import pandas as pd"
   ]
  },
  {
   "cell_type": "code",
   "execution_count": 4,
   "metadata": {},
   "outputs": [],
   "source": [
    "from pipe_spar import api_f, cluster_biz_by_review , cluster_user_by_review"
   ]
  },
  {
   "cell_type": "code",
   "execution_count": 5,
   "metadata": {},
   "outputs": [],
   "source": [
    "from nlp_cl_start import if_rest_udf"
   ]
  },
  {
   "cell_type": "code",
   "execution_count": 6,
   "metadata": {},
   "outputs": [],
   "source": [
    "from my_metr import transform_to_score, my_scorer, transform_aggregated\n",
    "from sklearn.metrics import accuracy_score, recall_score"
   ]
  },
  {
   "cell_type": "markdown",
   "metadata": {},
   "source": [
    "## Load data\n",
    "load all data, select bad reviews, define train and test"
   ]
  },
  {
   "cell_type": "code",
   "execution_count": 7,
   "metadata": {},
   "outputs": [],
   "source": [
    "biz = spark.read.json('yelp_dataset/yelp_academic_dataset_business.json')\n",
    "rev = spark.read.json('yelp_dataset/yelp_academic_dataset_review.json')"
   ]
  },
  {
   "cell_type": "markdown",
   "metadata": {},
   "source": [
    "1. Filter restaraunts"
   ]
  },
  {
   "cell_type": "code",
   "execution_count": 8,
   "metadata": {},
   "outputs": [],
   "source": [
    "rests = biz.filter(if_rest_udf(biz.categories))"
   ]
  },
  {
   "cell_type": "code",
   "execution_count": 9,
   "metadata": {},
   "outputs": [],
   "source": [
    "rest_rev = rev.join(rests.select('business_id','stars').withColumnRenamed('stars','rating'),'business_id')\n",
    "bad_reviews = rest_rev.filter('stars < 3')"
   ]
  },
  {
   "cell_type": "code",
   "execution_count": 10,
   "metadata": {},
   "outputs": [
    {
     "data": {
      "text/plain": [
       "768690"
      ]
     },
     "execution_count": 10,
     "metadata": {},
     "output_type": "execute_result"
    }
   ],
   "source": [
    "bad_reviews.count()"
   ]
  },
  {
   "cell_type": "markdown",
   "metadata": {},
   "source": [
    "### Now I change train sample from 20000 to 100000"
   ]
  },
  {
   "cell_type": "code",
   "execution_count": 10,
   "metadata": {},
   "outputs": [],
   "source": [
    "bad_sample = bad_reviews.sample(False, 0.127, seed =91)\n",
    "#bad_sample = bad_reviews.sample(False, 0.027, seed =91)\n"
   ]
  },
  {
   "cell_type": "code",
   "execution_count": 12,
   "metadata": {},
   "outputs": [
    {
     "name": "stdout",
     "output_type": "stream",
     "text": [
      "CPU times: user 1.94 ms, sys: 1.64 ms, total: 3.59 ms\n",
      "Wall time: 16.4 s\n"
     ]
    },
    {
     "data": {
      "text/plain": [
       "97353"
      ]
     },
     "execution_count": 12,
     "metadata": {},
     "output_type": "execute_result"
    }
   ],
   "source": [
    "%%time\n",
    "bad_sample.count()"
   ]
  },
  {
   "cell_type": "code",
   "execution_count": 90,
   "metadata": {},
   "outputs": [
    {
     "data": {
      "text/plain": [
       "DataFrame[business_id: string, cool: bigint, date: string, funny: bigint, review_id: string, stars: bigint, text: string, useful: bigint, user_id: string, rating: double]"
      ]
     },
     "execution_count": 90,
     "metadata": {},
     "output_type": "execute_result"
    }
   ],
   "source": [
    "bad_sample.cache()"
   ]
  },
  {
   "cell_type": "markdown",
   "metadata": {},
   "source": [
    "2. Tokenize sample"
   ]
  },
  {
   "cell_type": "code",
   "execution_count": 11,
   "metadata": {},
   "outputs": [],
   "source": [
    "sample_token= data_tokenizer(bad_sample)"
   ]
  },
  {
   "cell_type": "code",
   "execution_count": 12,
   "metadata": {},
   "outputs": [],
   "source": [
    "splits = sample_token.randomSplit([0.8, 0.1, 0.1], seed = 91)\n"
   ]
  },
  {
   "cell_type": "code",
   "execution_count": 13,
   "metadata": {},
   "outputs": [],
   "source": [
    "train = splits[0]\n",
    "add_cl = splits[1]\n",
    "test = splits[2]"
   ]
  },
  {
   "cell_type": "code",
   "execution_count": 16,
   "metadata": {},
   "outputs": [
    {
     "data": {
      "text/plain": [
       "Row(business_id='--9e1ONYQuAa-CB_Rrw7Tw', cool=0, date='2012-05-11', funny=0, review_id='OaRMJKI6S7LAoa8xoEaqPg', stars=2, text=\"I feel like Twitter is pretty useless so far; I have an ok amount of followers I guess, but I feel like they're all following so many people that anything I say gets lost in the mess of their feed. I could tweet all day and get very little response to anything aside from a couple loyal folks on there. And it was one such reader that led me to Delmonico recently for what he claimed to be an excellent burger. He's a food writer in town so he should know what he's talking about, right?\\n\\nDelmonico is located in the small restaurant row of the Venetian right by another great burger spot, although most people would not come here for their burger. The interior is nothing too fancy in either the bar area or more traditional area in the back. I did notice while sitting at the bar that they have an amazing bourbon selection, but since I was there during a lunch break I'll have to go back some time when I'm not on the clock. The lunch and dinner menus are a bit different, with the lunch menu featuring more sandwiches and things, so maybe the comment I just made about people not coming for a burger is wrong. Either way, this restaurant is pretty fancy and features quite a number of great sounding items aside from what I came there for.\\n\\nThe Delmonico Prime Hamburger comes on a toasted brioche roll with fries, cheddar cheese and bacon. The meat had excellent flavor from the first bite, but I noticed right away that it was way overcooked and dry. It started off extremely juicy but that faded way too fast and by the end it was very dry. The cheese was melted and had great flavor, but the bun was a tiny bit dry as well and a little too thick. The heirloom tomatoes were fantastic, but maybe a bit off-putting at first due to their green color. The bacon also had good flavor, but was a tiny bit undercooked and soggy in parts. Overall it was still decent, but could have been well beyond that if the meat had been cooked properly.\\n\\nLuckily the fries were great. Some of them were almost a bit too hard and crunchy, but they were very tasty and a welcome change to the 'typical' fries I often get around town. Something I found to be quite funny was when I asked for ketchup I was brought an insanely large bowl of it, more than probably a table full of people could have used.\\n\\nThe online menu lists the burger at $15, so I was a little surprised to see the $18 listed on the menu when I made my order. I think if it was cooked properly I would still be ok with this price given the chef, the location, etc, but because of this price I seriously frown on the fact that they couldn't cook my burger properly. If you're willing to risk this inconsistency and are ok with the cost, I think it's a good burger to check out, and has the potential to be really great, but if you're at the Venetian and are craving a guaranteed good burger for a similar cost I suggest you go next door.\", useful=2, user_id='0G9BcXSQscv_GnhlNwFfjw', rating=4.0, token=['feel', 'like', 'twitter', 'pretti', 'useless', 'far', 'ok', 'amount', 'follow', 'guess', 'feel', 'like', 'follow', 'mani', 'peopl', 'anyth', 'say', 'get', 'lost', 'mess', 'feed', 'could', 'tweet', 'day', 'get', 'littl', 'respons', 'anyth', 'asid', 'coupl', 'loyal', 'folk', 'one', 'reader', 'led', 'delmonico', 'recent', 'claim', 'excel', 'burger', 'food', 'writer', 'town', 'know', 'talk', 'right', 'delmonico', 'locat', 'small', 'restaur', 'row', 'venetian', 'right', 'anoth', 'great', 'burger', 'spot', 'although', 'peopl', 'would', 'come', 'burger', 'interior', 'noth', 'fanci', 'either', 'bar', 'area', 'tradit', 'area', 'back', 'notic', 'sit', 'bar', 'amaz', 'bourbon', 'select', 'sinc', 'lunch', 'break', 'go', 'back', 'time', 'clock', 'lunch', 'dinner', 'menu', 'bit', 'differ', 'lunch', 'menu', 'featur', 'sandwich', 'thing', 'mayb', 'comment', 'made', 'peopl', 'come', 'burger', 'wrong', 'either', 'way', 'restaur', 'pretti', 'fanci', 'featur', 'quit', 'number', 'great', 'sound', 'item', 'asid', 'came', 'delmonico', 'prime', 'hamburg', 'come', 'toast', 'brioch', 'roll', 'fri', 'cheddar', 'chees', 'bacon', 'meat', 'excel', 'flavor', 'first', 'bite', 'notic', 'right', 'away', 'way', 'overcook', 'dri', 'start', 'extrem', 'juici', 'fade', 'way', 'fast', 'end', 'dri', 'chees', 'melt', 'great', 'flavor', 'bun', 'tini', 'bit', 'dri', 'well', 'littl', 'thick', 'heirloom', 'tomato', 'fantast', 'mayb', 'bit', 'put', 'first', 'due', 'green', 'color', 'bacon', 'also', 'good', 'flavor', 'tini', 'bit', 'undercook', 'soggi', 'part', 'overal', 'still', 'decent', 'could', 'well', 'beyond', 'meat', 'cook', 'properli', 'luckili', 'fri', 'great', 'almost', 'bit', 'hard', 'crunchi', 'tasti', 'welcom', 'chang', 'typic', 'fri', 'often', 'get', 'around', 'town', 'someth', 'found', 'quit', 'funni', 'ask', 'ketchup', 'brought', 'insan', 'larg', 'bowl', 'probabl', 'tabl', 'full', 'peopl', 'could', 'use', 'onlin', 'menu', 'list', 'burger', 'littl', 'surpris', 'see', 'list', 'menu', 'made', 'order', 'think', 'cook', 'properli', 'would', 'still', 'ok', 'price', 'given', 'chef', 'locat', 'etc', 'price', 'serious', 'frown', 'fact', 'cook', 'burger', 'properli', 'will', 'risk', 'inconsist', 'ok', 'cost', 'think', 'good', 'burger', 'check', 'potenti', 'realli', 'great', 'venetian', 'crave', 'guarante', 'good', 'burger', 'similar', 'cost', 'suggest', 'go', 'next', 'door'])"
      ]
     },
     "execution_count": 16,
     "metadata": {},
     "output_type": "execute_result"
    }
   ],
   "source": [
    "train.first()"
   ]
  },
  {
   "cell_type": "code",
   "execution_count": 16,
   "metadata": {},
   "outputs": [
    {
     "data": {
      "text/plain": [
       "DataFrame[business_id: string, cool: bigint, date: string, funny: bigint, review_id: string, stars: bigint, text: string, useful: bigint, user_id: string, rating: double, token: array<string>]"
      ]
     },
     "execution_count": 16,
     "metadata": {},
     "output_type": "execute_result"
    }
   ],
   "source": [
    "train.cache()"
   ]
  },
  {
   "cell_type": "markdown",
   "metadata": {},
   "source": [
    "### Model to cluster all reviews"
   ]
  },
  {
   "cell_type": "code",
   "execution_count": 17,
   "metadata": {},
   "outputs": [],
   "source": [
    "cv = CountVectorizer(minDF=5, vocabSize=6000, inputCol='token', outputCol='vectors')\n",
    "km1 = KMeans(k = 10, featuresCol='vectors', maxIter= 22)\n",
    "\n",
    "\n",
    "pipe_count = Pipeline(stages=[cv, km1])"
   ]
  },
  {
   "cell_type": "markdown",
   "metadata": {},
   "source": [
    "### idf 22.33"
   ]
  },
  {
   "cell_type": "code",
   "execution_count": 17,
   "metadata": {},
   "outputs": [],
   "source": [
    "cv = CountVectorizer(minDF=5, vocabSize=5000, inputCol='token', outputCol='vectors')\n",
    "idf = IDF(minDocFreq=7, inputCol=\"vectors\", outputCol=\"features\")\n",
    "km2 = KMeans(k = 18, featuresCol='features', maxIter= 30)\n",
    "pipe_idf = Pipeline(stages = [cv, idf, km2])"
   ]
  },
  {
   "cell_type": "code",
   "execution_count": 148,
   "metadata": {},
   "outputs": [],
   "source": [
    "IDF?"
   ]
  },
  {
   "cell_type": "code",
   "execution_count": 198,
   "metadata": {},
   "outputs": [
    {
     "name": "stdout",
     "output_type": "stream",
     "text": [
      "CPU times: user 86.2 ms, sys: 40.2 ms, total: 126 ms\n",
      "Wall time: 6.79 s\n"
     ]
    }
   ],
   "source": [
    "%%time\n",
    "pipe_cv_model = pipe_count.fit(train)"
   ]
  },
  {
   "cell_type": "code",
   "execution_count": 18,
   "metadata": {},
   "outputs": [
    {
     "name": "stdout",
     "output_type": "stream",
     "text": [
      "CPU times: user 137 ms, sys: 66.8 ms, total: 204 ms\n",
      "Wall time: 1min 22s\n"
     ]
    }
   ],
   "source": [
    "%%time\n",
    "###!!!!!!!!IDF\n",
    "pipe_idf_model = pipe_idf.fit(train)"
   ]
  },
  {
   "cell_type": "markdown",
   "metadata": {},
   "source": [
    "3. Clustering user and bussiness"
   ]
  },
  {
   "cell_type": "code",
   "execution_count": 19,
   "metadata": {},
   "outputs": [
    {
     "data": {
      "text/plain": [
       "DataFrame[business_id: string, cool: bigint, date: string, funny: bigint, review_id: string, stars: bigint, text: string, useful: bigint, user_id: string, rating: double, token: array<string>]"
      ]
     },
     "execution_count": 19,
     "metadata": {},
     "output_type": "execute_result"
    }
   ],
   "source": [
    "both = train.union(add_cl)\n",
    "both.cache()"
   ]
  },
  {
   "cell_type": "code",
   "execution_count": null,
   "metadata": {},
   "outputs": [],
   "source": []
  },
  {
   "cell_type": "code",
   "execution_count": 20,
   "metadata": {},
   "outputs": [
    {
     "ename": "NameError",
     "evalue": "name 'pipe_cv_model' is not defined",
     "output_type": "error",
     "traceback": [
      "\u001b[0;31m---------------------------------------------------------------------------\u001b[0m",
      "\u001b[0;31mNameError\u001b[0m                                 Traceback (most recent call last)",
      "\u001b[0;32m<ipython-input-20-0bec0388a80b>\u001b[0m in \u001b[0;36m<module>\u001b[0;34m()\u001b[0m\n\u001b[0;32m----> 1\u001b[0;31m \u001b[0muser_with_cl\u001b[0m \u001b[0;34m=\u001b[0m \u001b[0mcluster_user_by_review\u001b[0m\u001b[0;34m(\u001b[0m\u001b[0mboth\u001b[0m\u001b[0;34m,\u001b[0m \u001b[0mpipe_cv_model\u001b[0m\u001b[0;34m)\u001b[0m\u001b[0;34m\u001b[0m\u001b[0m\n\u001b[0m",
      "\u001b[0;31mNameError\u001b[0m: name 'pipe_cv_model' is not defined"
     ]
    }
   ],
   "source": [
    "user_with_cl = cluster_user_by_review(both, pipe_cv_model)"
   ]
  },
  {
   "cell_type": "code",
   "execution_count": null,
   "metadata": {},
   "outputs": [],
   "source": [
    "biz_with_cl = cluster_biz_by_review(both, pipe_cv_model)"
   ]
  },
  {
   "cell_type": "markdown",
   "metadata": {},
   "source": [
    "### idf 22.36"
   ]
  },
  {
   "cell_type": "code",
   "execution_count": 21,
   "metadata": {},
   "outputs": [],
   "source": [
    "user_with_cl = cluster_user_by_review(both, pipe_idf_model)\n",
    "biz_with_cl = cluster_biz_by_review(both, pipe_idf_model)"
   ]
  },
  {
   "cell_type": "code",
   "execution_count": 22,
   "metadata": {},
   "outputs": [
    {
     "data": {
      "text/plain": [
       "DataFrame[business_id: string, biz_cl: int]"
      ]
     },
     "execution_count": 22,
     "metadata": {},
     "output_type": "execute_result"
    }
   ],
   "source": [
    "user_with_cl.cache()\n",
    "biz_with_cl.cache()"
   ]
  },
  {
   "cell_type": "code",
   "execution_count": 23,
   "metadata": {},
   "outputs": [
    {
     "data": {
      "text/plain": [
       "49637"
      ]
     },
     "execution_count": 23,
     "metadata": {},
     "output_type": "execute_result"
    }
   ],
   "source": [
    "biz_with_cl.count()"
   ]
  },
  {
   "cell_type": "markdown",
   "metadata": {},
   "source": [
    "## Create test set \n",
    "\n",
    "I need reviews that I didn't use for clusterization restorants and user. But in same time that contains clusterized restaraunts and users"
   ]
  },
  {
   "cell_type": "code",
   "execution_count": 24,
   "metadata": {},
   "outputs": [
    {
     "data": {
      "text/plain": [
       "[Row(review_id='OaRMJKI6S7LAoa8xoEaqPg'),\n",
       " Row(review_id='syUWGlVaWBkr9iI7sMJGcw')]"
      ]
     },
     "execution_count": 24,
     "metadata": {},
     "output_type": "execute_result"
    }
   ],
   "source": [
    "train_rev_id =both.select('review_id')\n",
    "train_rev_id.take(2)"
   ]
  },
  {
   "cell_type": "code",
   "execution_count": 120,
   "metadata": {},
   "outputs": [
    {
     "name": "stdout",
     "output_type": "stream",
     "text": [
      "CPU times: user 5.28 ms, sys: 3.46 ms, total: 8.74 ms\n",
      "Wall time: 225 ms\n"
     ]
    },
    {
     "data": {
      "text/plain": [
       "87551"
      ]
     },
     "execution_count": 120,
     "metadata": {},
     "output_type": "execute_result"
    }
   ],
   "source": [
    "%%time\n",
    "user_with_cl.count()"
   ]
  },
  {
   "cell_type": "code",
   "execution_count": 25,
   "metadata": {},
   "outputs": [],
   "source": [
    "#### a little bit effective\n",
    "known_rev2 = user_with_cl.join(rest_rev.select('business_id',\n",
    " 'review_id',\n",
    " 'stars',\n",
    " 'user_id',\n",
    " 'rating'), 'user_id').join(biz_with_cl, 'business_id')"
   ]
  },
  {
   "cell_type": "code",
   "execution_count": 26,
   "metadata": {},
   "outputs": [
    {
     "name": "stdout",
     "output_type": "stream",
     "text": [
      "CPU times: user 68.7 ms, sys: 28.4 ms, total: 97.1 ms\n",
      "Wall time: 44.8 s\n"
     ]
    },
    {
     "data": {
      "text/plain": [
       "3613519"
      ]
     },
     "execution_count": 26,
     "metadata": {},
     "output_type": "execute_result"
    }
   ],
   "source": [
    "%%time\n",
    "known_rev2.count()"
   ]
  },
  {
   "cell_type": "code",
   "execution_count": 27,
   "metadata": {},
   "outputs": [],
   "source": [
    "new_t = known_rev2.join(train_rev_id, 'review_id','left_anti' )"
   ]
  },
  {
   "cell_type": "code",
   "execution_count": 190,
   "metadata": {},
   "outputs": [
    {
     "name": "stdout",
     "output_type": "stream",
     "text": [
      "CPU times: user 77.3 ms, sys: 32.1 ms, total: 109 ms\n",
      "Wall time: 1min 1s\n"
     ]
    },
    {
     "data": {
      "text/plain": [
       "12438216"
      ]
     },
     "execution_count": 190,
     "metadata": {},
     "output_type": "execute_result"
    }
   ],
   "source": [
    "%%time\n",
    "new_t.count()"
   ]
  },
  {
   "cell_type": "code",
   "execution_count": 67,
   "metadata": {},
   "outputs": [
    {
     "data": {
      "text/plain": [
       "DataFrame[review_id: string, business_id: string, user_id: string, user_cl: int, stars: bigint, rating: double, biz_cl: int]"
      ]
     },
     "execution_count": 67,
     "metadata": {},
     "output_type": "execute_result"
    }
   ],
   "source": [
    "####???\n",
    "new_t.cache()"
   ]
  },
  {
   "cell_type": "code",
   "execution_count": 191,
   "metadata": {},
   "outputs": [
    {
     "data": {
      "text/plain": [
       "['review_id', 'business_id', 'user_id', 'user_cl', 'stars', 'rating', 'biz_cl']"
      ]
     },
     "execution_count": 191,
     "metadata": {},
     "output_type": "execute_result"
    }
   ],
   "source": [
    "new_t.columns"
   ]
  },
  {
   "cell_type": "code",
   "execution_count": 192,
   "metadata": {},
   "outputs": [],
   "source": [
    "new_t = new_t.withColumn('similar', (new_t.user_cl == new_t.biz_cl).cast(\"int\"))"
   ]
  },
  {
   "cell_type": "code",
   "execution_count": 193,
   "metadata": {},
   "outputs": [
    {
     "data": {
      "text/plain": [
       "['review_id', 'sum(similar)', 'avg(rating)', 'avg(stars)']"
      ]
     },
     "execution_count": 193,
     "metadata": {},
     "output_type": "execute_result"
    }
   ],
   "source": [
    "regroup = new_t.groupBy('review_id').agg({'rating': 'mean', 'stars':'mean', 'similar':'sum' })\n",
    "regroup.columns"
   ]
  },
  {
   "cell_type": "code",
   "execution_count": 157,
   "metadata": {},
   "outputs": [
    {
     "name": "stdout",
     "output_type": "stream",
     "text": [
      "CPU times: user 79.1 ms, sys: 32 ms, total: 111 ms\n",
      "Wall time: 1min\n"
     ]
    },
    {
     "data": {
      "text/plain": [
       "735060"
      ]
     },
     "execution_count": 157,
     "metadata": {},
     "output_type": "execute_result"
    }
   ],
   "source": [
    "%%time\n",
    "regroup.count()"
   ]
  },
  {
   "cell_type": "code",
   "execution_count": 194,
   "metadata": {},
   "outputs": [
    {
     "name": "stdout",
     "output_type": "stream",
     "text": [
      "CPU times: user 4.5 s, sys: 351 ms, total: 4.86 s\n",
      "Wall time: 1min 10s\n"
     ]
    }
   ],
   "source": [
    "%%time\n",
    "new_grf = regroup.toPandas()\n",
    "new_grf.head()"
   ]
  },
  {
   "cell_type": "code",
   "execution_count": 195,
   "metadata": {},
   "outputs": [
    {
     "data": {
      "text/html": [
       "<div>\n",
       "<style scoped>\n",
       "    .dataframe tbody tr th:only-of-type {\n",
       "        vertical-align: middle;\n",
       "    }\n",
       "\n",
       "    .dataframe tbody tr th {\n",
       "        vertical-align: top;\n",
       "    }\n",
       "\n",
       "    .dataframe thead th {\n",
       "        text-align: right;\n",
       "    }\n",
       "</style>\n",
       "<table border=\"1\" class=\"dataframe\">\n",
       "  <thead>\n",
       "    <tr style=\"text-align: right;\">\n",
       "      <th></th>\n",
       "      <th>review_id</th>\n",
       "      <th>sum(similar)</th>\n",
       "      <th>avg(rating)</th>\n",
       "      <th>avg(stars)</th>\n",
       "      <th>pred</th>\n",
       "      <th>act</th>\n",
       "      <th>base</th>\n",
       "      <th>base_3.5</th>\n",
       "    </tr>\n",
       "  </thead>\n",
       "  <tbody>\n",
       "    <tr>\n",
       "      <th>0</th>\n",
       "      <td>-01ePuKPxMw1bhR4ISbIlw</td>\n",
       "      <td>5</td>\n",
       "      <td>4.0</td>\n",
       "      <td>4.0</td>\n",
       "      <td>True</td>\n",
       "      <td>False</td>\n",
       "      <td>False</td>\n",
       "      <td>False</td>\n",
       "    </tr>\n",
       "    <tr>\n",
       "      <th>1</th>\n",
       "      <td>-0XptEAda6qaK7QrkGF-IQ</td>\n",
       "      <td>2</td>\n",
       "      <td>3.0</td>\n",
       "      <td>4.0</td>\n",
       "      <td>True</td>\n",
       "      <td>False</td>\n",
       "      <td>False</td>\n",
       "      <td>True</td>\n",
       "    </tr>\n",
       "    <tr>\n",
       "      <th>2</th>\n",
       "      <td>-0u6BAh47_WiKXcjYcq8vQ</td>\n",
       "      <td>2</td>\n",
       "      <td>3.0</td>\n",
       "      <td>3.0</td>\n",
       "      <td>True</td>\n",
       "      <td>False</td>\n",
       "      <td>False</td>\n",
       "      <td>True</td>\n",
       "    </tr>\n",
       "    <tr>\n",
       "      <th>3</th>\n",
       "      <td>-1GR5fgGizpSfTMtWFQRUw</td>\n",
       "      <td>2</td>\n",
       "      <td>3.0</td>\n",
       "      <td>3.0</td>\n",
       "      <td>True</td>\n",
       "      <td>False</td>\n",
       "      <td>False</td>\n",
       "      <td>True</td>\n",
       "    </tr>\n",
       "    <tr>\n",
       "      <th>4</th>\n",
       "      <td>-1kQanNhit-7B9RBjY6p_A</td>\n",
       "      <td>6</td>\n",
       "      <td>4.0</td>\n",
       "      <td>3.0</td>\n",
       "      <td>True</td>\n",
       "      <td>False</td>\n",
       "      <td>False</td>\n",
       "      <td>False</td>\n",
       "    </tr>\n",
       "  </tbody>\n",
       "</table>\n",
       "</div>"
      ],
      "text/plain": [
       "                review_id  sum(similar)  avg(rating)  avg(stars)  pred    act  \\\n",
       "0  -01ePuKPxMw1bhR4ISbIlw             5          4.0         4.0  True  False   \n",
       "1  -0XptEAda6qaK7QrkGF-IQ             2          3.0         4.0  True  False   \n",
       "2  -0u6BAh47_WiKXcjYcq8vQ             2          3.0         3.0  True  False   \n",
       "3  -1GR5fgGizpSfTMtWFQRUw             2          3.0         3.0  True  False   \n",
       "4  -1kQanNhit-7B9RBjY6p_A             6          4.0         3.0  True  False   \n",
       "\n",
       "    base  base_3.5  \n",
       "0  False     False  \n",
       "1  False      True  \n",
       "2  False      True  \n",
       "3  False      True  \n",
       "4  False     False  "
      ]
     },
     "execution_count": 195,
     "metadata": {},
     "output_type": "execute_result"
    }
   ],
   "source": [
    "new_grf = transform_aggregated(new_grf)\n",
    "new_grf.head()"
   ]
  },
  {
   "cell_type": "code",
   "execution_count": 196,
   "metadata": {},
   "outputs": [
    {
     "data": {
      "text/html": [
       "<div>\n",
       "<style scoped>\n",
       "    .dataframe tbody tr th:only-of-type {\n",
       "        vertical-align: middle;\n",
       "    }\n",
       "\n",
       "    .dataframe tbody tr th {\n",
       "        vertical-align: top;\n",
       "    }\n",
       "\n",
       "    .dataframe thead th {\n",
       "        text-align: right;\n",
       "    }\n",
       "</style>\n",
       "<table border=\"1\" class=\"dataframe\">\n",
       "  <thead>\n",
       "    <tr style=\"text-align: right;\">\n",
       "      <th></th>\n",
       "      <th>base</th>\n",
       "      <th>base_3.5</th>\n",
       "      <th>combo_35</th>\n",
       "      <th>combo_base</th>\n",
       "      <th>pred</th>\n",
       "    </tr>\n",
       "  </thead>\n",
       "  <tbody>\n",
       "    <tr>\n",
       "      <th>accuracy</th>\n",
       "      <td>0.799355</td>\n",
       "      <td>0.748716</td>\n",
       "      <td>0.371719</td>\n",
       "      <td>0.387243</td>\n",
       "      <td>0.387118</td>\n",
       "    </tr>\n",
       "    <tr>\n",
       "      <th>recall</th>\n",
       "      <td>0.181595</td>\n",
       "      <td>0.406068</td>\n",
       "      <td>0.844635</td>\n",
       "      <td>0.785920</td>\n",
       "      <td>0.734589</td>\n",
       "    </tr>\n",
       "    <tr>\n",
       "      <th>prec</th>\n",
       "      <td>0.512817</td>\n",
       "      <td>0.385574</td>\n",
       "      <td>0.222732</td>\n",
       "      <td>0.218429</td>\n",
       "      <td>0.210122</td>\n",
       "    </tr>\n",
       "  </tbody>\n",
       "</table>\n",
       "</div>"
      ],
      "text/plain": [
       "              base  base_3.5  combo_35  combo_base      pred\n",
       "accuracy  0.799355  0.748716  0.371719    0.387243  0.387118\n",
       "recall    0.181595  0.406068  0.844635    0.785920  0.734589\n",
       "prec      0.512817  0.385574  0.222732    0.218429  0.210122"
      ]
     },
     "execution_count": 196,
     "metadata": {},
     "output_type": "execute_result"
    }
   ],
   "source": [
    "my_scorer(new_grf)"
   ]
  },
  {
   "cell_type": "code",
   "execution_count": 144,
   "metadata": {},
   "outputs": [
    {
     "data": {
      "text/plain": [
       "0.20248279052050172"
      ]
     },
     "execution_count": 144,
     "metadata": {},
     "output_type": "execute_result"
    }
   ],
   "source": [
    "act = new_grf.act\n",
    "act.mean()\n"
   ]
  },
  {
   "cell_type": "code",
   "execution_count": 161,
   "metadata": {},
   "outputs": [
    {
     "data": {
      "text/plain": [
       "(0.7080836938481212, 0.213245177264441)"
      ]
     },
     "execution_count": 161,
     "metadata": {},
     "output_type": "execute_result"
    }
   ],
   "source": [
    "new_grf['pred'].mean(), new_grf['base_3.5'].mean()"
   ]
  },
  {
   "cell_type": "markdown",
   "metadata": {},
   "source": [
    "### 0.11 5,7,18 best"
   ]
  },
  {
   "cell_type": "code",
   "execution_count": 207,
   "metadata": {},
   "outputs": [],
   "source": [
    "bad_sample2 = bad_reviews.sample(False, 0.5, seed =94)\n"
   ]
  },
  {
   "cell_type": "code",
   "execution_count": 211,
   "metadata": {},
   "outputs": [],
   "source": [
    "sample_token2= data_tokenizer(bad_sample2)"
   ]
  },
  {
   "cell_type": "code",
   "execution_count": null,
   "metadata": {},
   "outputs": [],
   "source": []
  },
  {
   "cell_type": "code",
   "execution_count": 212,
   "metadata": {},
   "outputs": [],
   "source": [
    "\n",
    "biz_with_cl = cluster_biz_by_review(sample_token2, pipe_idf_model)"
   ]
  },
  {
   "cell_type": "code",
   "execution_count": 228,
   "metadata": {},
   "outputs": [],
   "source": [
    "biz_with_cl = biz_with_cl.dropDuplicates()"
   ]
  },
  {
   "cell_type": "code",
   "execution_count": 229,
   "metadata": {},
   "outputs": [
    {
     "data": {
      "text/plain": [
       "DataFrame[business_id: string, biz_cl: int]"
      ]
     },
     "execution_count": 229,
     "metadata": {},
     "output_type": "execute_result"
    }
   ],
   "source": [
    "biz_with_cl.cache()"
   ]
  },
  {
   "cell_type": "code",
   "execution_count": 230,
   "metadata": {},
   "outputs": [
    {
     "name": "stdout",
     "output_type": "stream",
     "text": [
      "CPU times: user 19 ms, sys: 9.26 ms, total: 28.3 ms\n",
      "Wall time: 3.17 s\n"
     ]
    },
    {
     "data": {
      "text/plain": [
       "113815"
      ]
     },
     "execution_count": 230,
     "metadata": {},
     "output_type": "execute_result"
    }
   ],
   "source": [
    "%%time\n",
    "biz_with_cl.count()"
   ]
  },
  {
   "cell_type": "code",
   "execution_count": 239,
   "metadata": {},
   "outputs": [
    {
     "data": {
      "text/plain": [
       "['address',\n",
       " 'attributes',\n",
       " 'business_id',\n",
       " 'categories',\n",
       " 'city',\n",
       " 'hours',\n",
       " 'is_open',\n",
       " 'latitude',\n",
       " 'longitude',\n",
       " 'name',\n",
       " 'neighborhood',\n",
       " 'postal_code',\n",
       " 'review_count',\n",
       " 'stars',\n",
       " 'state']"
      ]
     },
     "execution_count": 239,
     "metadata": {},
     "output_type": "execute_result"
    }
   ],
   "source": []
  },
  {
   "cell_type": "code",
   "execution_count": 206,
   "metadata": {},
   "outputs": [
    {
     "data": {
      "text/plain": [
       "188593"
      ]
     },
     "execution_count": 206,
     "metadata": {},
     "output_type": "execute_result"
    }
   ],
   "source": [
    "biz.select('business_id').count()"
   ]
  },
  {
   "cell_type": "code",
   "execution_count": 216,
   "metadata": {},
   "outputs": [],
   "source": [
    "rests_id = rests.select('business_id')"
   ]
  },
  {
   "cell_type": "code",
   "execution_count": 223,
   "metadata": {},
   "outputs": [
    {
     "data": {
      "text/plain": [
       "57173"
      ]
     },
     "execution_count": 223,
     "metadata": {},
     "output_type": "execute_result"
    }
   ],
   "source": [
    "rests_id.count()"
   ]
  },
  {
   "cell_type": "code",
   "execution_count": 233,
   "metadata": {},
   "outputs": [],
   "source": [
    "b0 = rests_id.join(biz_with_cl.filter('biz_cl ==0'), 'business_id', how = 'left')"
   ]
  },
  {
   "cell_type": "code",
   "execution_count": 221,
   "metadata": {},
   "outputs": [
    {
     "data": {
      "text/plain": [
       "Row(business_id='--9e1ONYQuAa-CB_Rrw7Tw', biz_cl=0)"
      ]
     },
     "execution_count": 221,
     "metadata": {},
     "output_type": "execute_result"
    }
   ],
   "source": [
    "b0.first()"
   ]
  },
  {
   "cell_type": "code",
   "execution_count": 234,
   "metadata": {},
   "outputs": [
    {
     "name": "stdout",
     "output_type": "stream",
     "text": [
      "CPU times: user 13.2 ms, sys: 7.83 ms, total: 21 ms\n",
      "Wall time: 887 ms\n"
     ]
    },
    {
     "data": {
      "text/plain": [
       "57173"
      ]
     },
     "execution_count": 234,
     "metadata": {},
     "output_type": "execute_result"
    }
   ],
   "source": [
    "%%time\n",
    "b0.count()"
   ]
  },
  {
   "cell_type": "code",
   "execution_count": 236,
   "metadata": {},
   "outputs": [
    {
     "data": {
      "text/plain": [
       "['business_id', 'cl_0']"
      ]
     },
     "execution_count": 236,
     "metadata": {},
     "output_type": "execute_result"
    }
   ],
   "source": [
    "b0 = b0.withColumnRenamed('biz_cl', 'cl_0')\n",
    "b0.columns"
   ]
  },
  {
   "cell_type": "code",
   "execution_count": 237,
   "metadata": {},
   "outputs": [],
   "source": [
    "for i in range(1,18):\n",
    "    cond = 'biz_cl =='+str(i)\n",
    "    colName = 'cl_'+str(i)\n",
    "    b0 = b0.join(biz_with_cl.filter(cond), 'business_id', how = 'left').withColumnRenamed('biz_cl', colName)"
   ]
  },
  {
   "cell_type": "code",
   "execution_count": 238,
   "metadata": {},
   "outputs": [
    {
     "data": {
      "text/plain": [
       "['business_id',\n",
       " 'cl_0',\n",
       " 'cl_1',\n",
       " 'cl_2',\n",
       " 'cl_3',\n",
       " 'cl_4',\n",
       " 'cl_5',\n",
       " 'cl_6',\n",
       " 'cl_7',\n",
       " 'cl_8',\n",
       " 'cl_9',\n",
       " 'cl_10',\n",
       " 'cl_11',\n",
       " 'cl_12',\n",
       " 'cl_13',\n",
       " 'cl_14',\n",
       " 'cl_15',\n",
       " 'cl_16',\n",
       " 'cl_17']"
      ]
     },
     "execution_count": 238,
     "metadata": {},
     "output_type": "execute_result"
    }
   ],
   "source": [
    "b0.columns"
   ]
  },
  {
   "cell_type": "code",
   "execution_count": 242,
   "metadata": {},
   "outputs": [],
   "source": [
    "biz_df_cl = rests.select(api_f).join(b0, 'business_id').toPandas()"
   ]
  },
  {
   "cell_type": "code",
   "execution_count": 243,
   "metadata": {},
   "outputs": [
    {
     "data": {
      "text/html": [
       "<div>\n",
       "<style scoped>\n",
       "    .dataframe tbody tr th:only-of-type {\n",
       "        vertical-align: middle;\n",
       "    }\n",
       "\n",
       "    .dataframe tbody tr th {\n",
       "        vertical-align: top;\n",
       "    }\n",
       "\n",
       "    .dataframe thead th {\n",
       "        text-align: right;\n",
       "    }\n",
       "</style>\n",
       "<table border=\"1\" class=\"dataframe\">\n",
       "  <thead>\n",
       "    <tr style=\"text-align: right;\">\n",
       "      <th></th>\n",
       "      <th>business_id</th>\n",
       "      <th>RestaurantsPriceRange2</th>\n",
       "      <th>stars</th>\n",
       "      <th>review_count</th>\n",
       "      <th>categories</th>\n",
       "      <th>cl_0</th>\n",
       "      <th>cl_1</th>\n",
       "      <th>cl_2</th>\n",
       "      <th>cl_3</th>\n",
       "      <th>cl_4</th>\n",
       "      <th>...</th>\n",
       "      <th>cl_8</th>\n",
       "      <th>cl_9</th>\n",
       "      <th>cl_10</th>\n",
       "      <th>cl_11</th>\n",
       "      <th>cl_12</th>\n",
       "      <th>cl_13</th>\n",
       "      <th>cl_14</th>\n",
       "      <th>cl_15</th>\n",
       "      <th>cl_16</th>\n",
       "      <th>cl_17</th>\n",
       "    </tr>\n",
       "  </thead>\n",
       "  <tbody>\n",
       "    <tr>\n",
       "      <th>0</th>\n",
       "      <td>--9e1ONYQuAa-CB_Rrw7Tw</td>\n",
       "      <td>4</td>\n",
       "      <td>4.0</td>\n",
       "      <td>1546</td>\n",
       "      <td>Steakhouses, Restaurants, Cajun/Creole</td>\n",
       "      <td>0.0</td>\n",
       "      <td>1.0</td>\n",
       "      <td>2.0</td>\n",
       "      <td>NaN</td>\n",
       "      <td>4.0</td>\n",
       "      <td>...</td>\n",
       "      <td>8.0</td>\n",
       "      <td>NaN</td>\n",
       "      <td>NaN</td>\n",
       "      <td>NaN</td>\n",
       "      <td>NaN</td>\n",
       "      <td>13.0</td>\n",
       "      <td>NaN</td>\n",
       "      <td>None</td>\n",
       "      <td>16.0</td>\n",
       "      <td>17.0</td>\n",
       "    </tr>\n",
       "    <tr>\n",
       "      <th>1</th>\n",
       "      <td>-VAsjhmAbKF3Pb_-8rh3xg</td>\n",
       "      <td>1</td>\n",
       "      <td>2.0</td>\n",
       "      <td>10</td>\n",
       "      <td>Fast Food, Burgers, Restaurants</td>\n",
       "      <td>NaN</td>\n",
       "      <td>1.0</td>\n",
       "      <td>NaN</td>\n",
       "      <td>NaN</td>\n",
       "      <td>NaN</td>\n",
       "      <td>...</td>\n",
       "      <td>NaN</td>\n",
       "      <td>NaN</td>\n",
       "      <td>NaN</td>\n",
       "      <td>NaN</td>\n",
       "      <td>NaN</td>\n",
       "      <td>NaN</td>\n",
       "      <td>NaN</td>\n",
       "      <td>None</td>\n",
       "      <td>NaN</td>\n",
       "      <td>NaN</td>\n",
       "    </tr>\n",
       "    <tr>\n",
       "      <th>2</th>\n",
       "      <td>-cxD1NimFldATDUsN-oa3A</td>\n",
       "      <td>2</td>\n",
       "      <td>2.0</td>\n",
       "      <td>23</td>\n",
       "      <td>Mexican, Restaurants</td>\n",
       "      <td>NaN</td>\n",
       "      <td>1.0</td>\n",
       "      <td>NaN</td>\n",
       "      <td>NaN</td>\n",
       "      <td>4.0</td>\n",
       "      <td>...</td>\n",
       "      <td>NaN</td>\n",
       "      <td>NaN</td>\n",
       "      <td>NaN</td>\n",
       "      <td>NaN</td>\n",
       "      <td>NaN</td>\n",
       "      <td>NaN</td>\n",
       "      <td>NaN</td>\n",
       "      <td>None</td>\n",
       "      <td>NaN</td>\n",
       "      <td>NaN</td>\n",
       "    </tr>\n",
       "    <tr>\n",
       "      <th>3</th>\n",
       "      <td>-r8SvItXXG6_T3mP5GXRAw</td>\n",
       "      <td>2</td>\n",
       "      <td>4.0</td>\n",
       "      <td>10</td>\n",
       "      <td>Restaurants, Noodles, Food, Cafes, Chinese, Co...</td>\n",
       "      <td>NaN</td>\n",
       "      <td>NaN</td>\n",
       "      <td>NaN</td>\n",
       "      <td>NaN</td>\n",
       "      <td>NaN</td>\n",
       "      <td>...</td>\n",
       "      <td>NaN</td>\n",
       "      <td>NaN</td>\n",
       "      <td>NaN</td>\n",
       "      <td>NaN</td>\n",
       "      <td>NaN</td>\n",
       "      <td>NaN</td>\n",
       "      <td>NaN</td>\n",
       "      <td>None</td>\n",
       "      <td>NaN</td>\n",
       "      <td>NaN</td>\n",
       "    </tr>\n",
       "    <tr>\n",
       "      <th>4</th>\n",
       "      <td>0859wfd1BQHG46Zpwhc0ZQ</td>\n",
       "      <td>2</td>\n",
       "      <td>4.5</td>\n",
       "      <td>245</td>\n",
       "      <td>Nightlife, Pizza, Wine Bars, Bars, American (N...</td>\n",
       "      <td>NaN</td>\n",
       "      <td>1.0</td>\n",
       "      <td>NaN</td>\n",
       "      <td>NaN</td>\n",
       "      <td>NaN</td>\n",
       "      <td>...</td>\n",
       "      <td>NaN</td>\n",
       "      <td>NaN</td>\n",
       "      <td>NaN</td>\n",
       "      <td>NaN</td>\n",
       "      <td>NaN</td>\n",
       "      <td>NaN</td>\n",
       "      <td>NaN</td>\n",
       "      <td>None</td>\n",
       "      <td>NaN</td>\n",
       "      <td>NaN</td>\n",
       "    </tr>\n",
       "  </tbody>\n",
       "</table>\n",
       "<p>5 rows × 23 columns</p>\n",
       "</div>"
      ],
      "text/plain": [
       "              business_id RestaurantsPriceRange2  stars  review_count  \\\n",
       "0  --9e1ONYQuAa-CB_Rrw7Tw                      4    4.0          1546   \n",
       "1  -VAsjhmAbKF3Pb_-8rh3xg                      1    2.0            10   \n",
       "2  -cxD1NimFldATDUsN-oa3A                      2    2.0            23   \n",
       "3  -r8SvItXXG6_T3mP5GXRAw                      2    4.0            10   \n",
       "4  0859wfd1BQHG46Zpwhc0ZQ                      2    4.5           245   \n",
       "\n",
       "                                          categories  cl_0  cl_1  cl_2  cl_3  \\\n",
       "0             Steakhouses, Restaurants, Cajun/Creole   0.0   1.0   2.0   NaN   \n",
       "1                    Fast Food, Burgers, Restaurants   NaN   1.0   NaN   NaN   \n",
       "2                               Mexican, Restaurants   NaN   1.0   NaN   NaN   \n",
       "3  Restaurants, Noodles, Food, Cafes, Chinese, Co...   NaN   NaN   NaN   NaN   \n",
       "4  Nightlife, Pizza, Wine Bars, Bars, American (N...   NaN   1.0   NaN   NaN   \n",
       "\n",
       "   cl_4  ...    cl_8  cl_9  cl_10  cl_11  cl_12  cl_13  cl_14  cl_15  cl_16  \\\n",
       "0   4.0  ...     8.0   NaN    NaN    NaN    NaN   13.0    NaN   None   16.0   \n",
       "1   NaN  ...     NaN   NaN    NaN    NaN    NaN    NaN    NaN   None    NaN   \n",
       "2   4.0  ...     NaN   NaN    NaN    NaN    NaN    NaN    NaN   None    NaN   \n",
       "3   NaN  ...     NaN   NaN    NaN    NaN    NaN    NaN    NaN   None    NaN   \n",
       "4   NaN  ...     NaN   NaN    NaN    NaN    NaN    NaN    NaN   None    NaN   \n",
       "\n",
       "   cl_17  \n",
       "0   17.0  \n",
       "1    NaN  \n",
       "2    NaN  \n",
       "3    NaN  \n",
       "4    NaN  \n",
       "\n",
       "[5 rows x 23 columns]"
      ]
     },
     "execution_count": 243,
     "metadata": {},
     "output_type": "execute_result"
    }
   ],
   "source": [
    "biz_df_cl.head()"
   ]
  },
  {
   "cell_type": "code",
   "execution_count": 244,
   "metadata": {},
   "outputs": [],
   "source": [
    "biz_df_cl.to_csv('biz_cluster.csv')"
   ]
  },
  {
   "cell_type": "code",
   "execution_count": null,
   "metadata": {},
   "outputs": [],
   "source": []
  },
  {
   "cell_type": "code",
   "execution_count": null,
   "metadata": {},
   "outputs": [],
   "source": []
  },
  {
   "cell_type": "markdown",
   "metadata": {},
   "source": [
    "## Dirty trial to test on real data"
   ]
  },
  {
   "cell_type": "code",
   "execution_count": 22,
   "metadata": {},
   "outputs": [],
   "source": [
    "from pymongo import MongoClient\n",
    "import time\n",
    "from bs4 import BeautifulSoup\n",
    "\n",
    "mc = MongoClient()\n",
    "db  = mc['raw_restaurants']"
   ]
  },
  {
   "cell_type": "code",
   "execution_count": 24,
   "metadata": {},
   "outputs": [
    {
     "name": "stderr",
     "output_type": "stream",
     "text": [
      "/anaconda3/lib/python3.6/site-packages/ipykernel_launcher.py:1: DeprecationWarning: collection_names is deprecated. Use list_collection_names instead.\n",
      "  \"\"\"Entry point for launching an IPython kernel.\n"
     ]
    },
    {
     "data": {
      "text/plain": [
       "['reviews', 'reviews_scrap', 'users', 'restaurants']"
      ]
     },
     "execution_count": 24,
     "metadata": {},
     "output_type": "execute_result"
    }
   ],
   "source": [
    "db.collection_names()"
   ]
  },
  {
   "cell_type": "code",
   "execution_count": 25,
   "metadata": {},
   "outputs": [],
   "source": [
    "rv_s = db['reviews_scrap']"
   ]
  },
  {
   "cell_type": "code",
   "execution_count": 38,
   "metadata": {},
   "outputs": [
    {
     "data": {
      "text/plain": [
       "{'_id': ObjectId('5bfb5ed579884720729dd20e'),\n",
       " 'id': 'qgpe9AFPEQ7nc5NAnuACeA',\n",
       " 'rating': '2.0',\n",
       " 'text': 'Service at this bakery has gone to the toilet. First, they don\\'t ever answer the phone. Why have a phone and not answer it? We called for 2 HRs straight and no one picked up. When we get there and ask them why they didn\\'t answer the phone, they said they were busy. So we drove across town to find out they don\\'t have the cake we need. On a separate occasion (today), we got the cake we want but they refused to write \"Happy Birthday\" on the cake. They told us they can only write \"Happy Thanksgiving\"! Unbelievable! Never again will we give them our business. I only give them 2 stars because of the quality of the cake in the past.',\n",
       " 'category': '\\nBakeries,\\n                    Desserts\\n',\n",
       " 'date': '11/22/2017',\n",
       " 'alias': 'schuberts-bakery-san-francisco',\n",
       " 'user_id': '_3KTfz0hcPl_yq4jOyOPiA'}"
      ]
     },
     "execution_count": 38,
     "metadata": {},
     "output_type": "execute_result"
    }
   ],
   "source": [
    "rv_s.find_one({'rating': '2.0'})"
   ]
  },
  {
   "cell_type": "code",
   "execution_count": 45,
   "metadata": {},
   "outputs": [
    {
     "data": {
      "text/plain": [
       "797"
      ]
     },
     "execution_count": 45,
     "metadata": {},
     "output_type": "execute_result"
    }
   ],
   "source": [
    "rv_s.count_documents( {'rating': '1.0'})"
   ]
  },
  {
   "cell_type": "code",
   "execution_count": 47,
   "metadata": {},
   "outputs": [],
   "source": [
    "scr1 = pd.DataFrame(list(rv_s.find({'rating': '1.0'})))"
   ]
  },
  {
   "cell_type": "code",
   "execution_count": 48,
   "metadata": {},
   "outputs": [],
   "source": [
    "scr2 = pd.DataFrame(list(rv_s.find({'rating': '2.0'})))"
   ]
  },
  {
   "cell_type": "code",
   "execution_count": 50,
   "metadata": {},
   "outputs": [
    {
     "data": {
      "text/plain": [
       "((797, 9), (983, 9))"
      ]
     },
     "execution_count": 50,
     "metadata": {},
     "output_type": "execute_result"
    }
   ],
   "source": [
    "scr1.shape, scr2.shape"
   ]
  },
  {
   "cell_type": "code",
   "execution_count": 62,
   "metadata": {},
   "outputs": [],
   "source": [
    "scr_b2 =pd.concat([scr1, scr2] ,axis = 0)"
   ]
  },
  {
   "cell_type": "code",
   "execution_count": 64,
   "metadata": {},
   "outputs": [],
   "source": [
    "scr_b = scr_b2[['text','user_id']].copy()"
   ]
  },
  {
   "cell_type": "code",
   "execution_count": 65,
   "metadata": {},
   "outputs": [],
   "source": [
    "scr_sp = spark.createDataFrame(scr_b)"
   ]
  },
  {
   "cell_type": "code",
   "execution_count": 67,
   "metadata": {},
   "outputs": [
    {
     "data": {
      "text/plain": [
       "Row(text=\"Rude employees, expensive, and not a lot of flavorsWe order 7 different small cups and the total came out to $45. When we asked for a receipt, the employee snapped at us. They don't have coffee flavor or coconut ice cream. Much better shaved ice else where near by like Loco Coco. Wouldn't come back or do not recommend. The ice cream place right next door would have been a better.\", user_id='_3KTfz0hcPl_yq4jOyOPiA', token=['rude', 'employe', 'expens', 'lot', 'flavorsw', 'order', 'differ', 'small', 'cup', 'total', 'came', 'ask', 'receipt', 'employe', 'snap', 'us', 'coffe', 'flavor', 'coconut', 'ice', 'cream', 'much', 'better', 'shave', 'ice', 'els', 'near', 'like', 'loco', 'coco', 'come', 'back', 'recommend', 'ice', 'cream', 'place', 'right', 'next', 'door', 'would', 'better'])"
      ]
     },
     "execution_count": 67,
     "metadata": {},
     "output_type": "execute_result"
    }
   ],
   "source": [
    "scr_token = data_tokenizer(scr_sp)\n",
    "scr_token.first()"
   ]
  },
  {
   "cell_type": "code",
   "execution_count": 69,
   "metadata": {},
   "outputs": [],
   "source": [
    "user_scr= cluster_user_by_review(scr_token, pipe_idf_model)"
   ]
  },
  {
   "cell_type": "code",
   "execution_count": 70,
   "metadata": {},
   "outputs": [
    {
     "data": {
      "text/plain": [
       "[Row(user_id='MVb93PtUPbSsVFa-3prvcg', user_cl=2),\n",
       " Row(user_id='6XwhYkbgsPZNQLLvTWIc3Q', user_cl=2),\n",
       " Row(user_id='Re5H1w9VR-YqlKL-ydOlOg', user_cl=0)]"
      ]
     },
     "execution_count": 70,
     "metadata": {},
     "output_type": "execute_result"
    }
   ],
   "source": [
    "user_scr.take(3)"
   ]
  },
  {
   "cell_type": "code",
   "execution_count": 73,
   "metadata": {},
   "outputs": [],
   "source": [
    "user_df = user_scr.toPandas()"
   ]
  },
  {
   "cell_type": "code",
   "execution_count": 74,
   "metadata": {},
   "outputs": [
    {
     "data": {
      "text/html": [
       "<div>\n",
       "<style scoped>\n",
       "    .dataframe tbody tr th:only-of-type {\n",
       "        vertical-align: middle;\n",
       "    }\n",
       "\n",
       "    .dataframe tbody tr th {\n",
       "        vertical-align: top;\n",
       "    }\n",
       "\n",
       "    .dataframe thead th {\n",
       "        text-align: right;\n",
       "    }\n",
       "</style>\n",
       "<table border=\"1\" class=\"dataframe\">\n",
       "  <thead>\n",
       "    <tr style=\"text-align: right;\">\n",
       "      <th></th>\n",
       "      <th>user_id</th>\n",
       "      <th>user_cl</th>\n",
       "    </tr>\n",
       "  </thead>\n",
       "  <tbody>\n",
       "    <tr>\n",
       "      <th>0</th>\n",
       "      <td>MVb93PtUPbSsVFa-3prvcg</td>\n",
       "      <td>2</td>\n",
       "    </tr>\n",
       "    <tr>\n",
       "      <th>1</th>\n",
       "      <td>6XwhYkbgsPZNQLLvTWIc3Q</td>\n",
       "      <td>2</td>\n",
       "    </tr>\n",
       "    <tr>\n",
       "      <th>2</th>\n",
       "      <td>Re5H1w9VR-YqlKL-ydOlOg</td>\n",
       "      <td>0</td>\n",
       "    </tr>\n",
       "    <tr>\n",
       "      <th>3</th>\n",
       "      <td>havBggvuzfE6IPfkT-njbg</td>\n",
       "      <td>1</td>\n",
       "    </tr>\n",
       "    <tr>\n",
       "      <th>4</th>\n",
       "      <td>_efP61KpqeC9K4TX0aqwyw</td>\n",
       "      <td>2</td>\n",
       "    </tr>\n",
       "  </tbody>\n",
       "</table>\n",
       "</div>"
      ],
      "text/plain": [
       "                  user_id  user_cl\n",
       "0  MVb93PtUPbSsVFa-3prvcg        2\n",
       "1  6XwhYkbgsPZNQLLvTWIc3Q        2\n",
       "2  Re5H1w9VR-YqlKL-ydOlOg        0\n",
       "3  havBggvuzfE6IPfkT-njbg        1\n",
       "4  _efP61KpqeC9K4TX0aqwyw        2"
      ]
     },
     "execution_count": 74,
     "metadata": {},
     "output_type": "execute_result"
    }
   ],
   "source": [
    "user_df.head()"
   ]
  },
  {
   "cell_type": "code",
   "execution_count": 78,
   "metadata": {},
   "outputs": [],
   "source": [
    "user_df.to_csv('user_from_scr_clidf18.csv')"
   ]
  },
  {
   "cell_type": "code",
   "execution_count": 77,
   "metadata": {},
   "outputs": [
    {
     "data": {
      "text/plain": [
       "14"
      ]
     },
     "execution_count": 77,
     "metadata": {},
     "output_type": "execute_result"
    }
   ],
   "source": [
    "len(pd.unique(user_df.user_cl))"
   ]
  },
  {
   "cell_type": "code",
   "execution_count": 102,
   "metadata": {},
   "outputs": [
    {
     "data": {
      "text/plain": [
       "[CountVectorizer_48f9b7c8d6430072c4b0,\n",
       " IDF_4ad1b3e8bbd33e98b427,\n",
       " KMeans_44cc8d441b418e8af8a6]"
      ]
     },
     "execution_count": 102,
     "metadata": {},
     "output_type": "execute_result"
    }
   ],
   "source": []
  },
  {
   "cell_type": "markdown",
   "metadata": {},
   "source": [
    "### Finding center reviews"
   ]
  },
  {
   "cell_type": "code",
   "execution_count": null,
   "metadata": {},
   "outputs": [],
   "source": [
    "\n"
   ]
  },
  {
   "cell_type": "code",
   "execution_count": 38,
   "metadata": {},
   "outputs": [],
   "source": [
    "cvm = cv.fit(train)"
   ]
  },
  {
   "cell_type": "code",
   "execution_count": 132,
   "metadata": {},
   "outputs": [],
   "source": [
    "cvm.save('center18idf/cv')"
   ]
  },
  {
   "cell_type": "code",
   "execution_count": 39,
   "metadata": {},
   "outputs": [],
   "source": [
    "cv_tr = cvm.transform(train)"
   ]
  },
  {
   "cell_type": "code",
   "execution_count": 40,
   "metadata": {},
   "outputs": [
    {
     "data": {
      "text/plain": [
       "DataFrame[business_id: string, cool: bigint, date: string, funny: bigint, review_id: string, stars: bigint, text: string, useful: bigint, user_id: string, rating: double, token: array<string>, vectors: vector]"
      ]
     },
     "execution_count": 40,
     "metadata": {},
     "output_type": "execute_result"
    }
   ],
   "source": [
    "cv_tr.cache()"
   ]
  },
  {
   "cell_type": "code",
   "execution_count": 41,
   "metadata": {},
   "outputs": [],
   "source": [
    "idfm = idf.fit(cv_tr)"
   ]
  },
  {
   "cell_type": "code",
   "execution_count": 133,
   "metadata": {},
   "outputs": [],
   "source": [
    "idfm.save('center18idf/idf')"
   ]
  },
  {
   "cell_type": "code",
   "execution_count": 42,
   "metadata": {},
   "outputs": [],
   "source": [
    "idf_tr = idfm.transform(cv_tr)"
   ]
  },
  {
   "cell_type": "code",
   "execution_count": 43,
   "metadata": {},
   "outputs": [],
   "source": [
    "km2_mdl = km2.fit(idf_tr)"
   ]
  },
  {
   "cell_type": "code",
   "execution_count": 134,
   "metadata": {},
   "outputs": [],
   "source": [
    "km2_mdl.save('center18idf/km')"
   ]
  },
  {
   "cell_type": "code",
   "execution_count": 44,
   "metadata": {},
   "outputs": [],
   "source": [
    "cluster_C = km2_mdl.clusterCenters()"
   ]
  },
  {
   "cell_type": "code",
   "execution_count": 53,
   "metadata": {},
   "outputs": [],
   "source": [
    "#writer = pipe_idf_model.write()"
   ]
  },
  {
   "cell_type": "code",
   "execution_count": 94,
   "metadata": {},
   "outputs": [
    {
     "data": {
      "text/plain": [
       "<pyspark.ml.util.JavaMLWriter at 0x1a11022550>"
      ]
     },
     "execution_count": 94,
     "metadata": {},
     "output_type": "execute_result"
    }
   ],
   "source": [
    "#writer.session(spark)"
   ]
  },
  {
   "cell_type": "code",
   "execution_count": 95,
   "metadata": {},
   "outputs": [],
   "source": [
    "#writer.save('tfidfkmeans')"
   ]
  },
  {
   "cell_type": "code",
   "execution_count": 73,
   "metadata": {},
   "outputs": [],
   "source": [
    "#writer.save('tfidf')"
   ]
  },
  {
   "cell_type": "code",
   "execution_count": 71,
   "metadata": {},
   "outputs": [
    {
     "data": {
      "text/plain": [
       "'2.3.2'"
      ]
     },
     "execution_count": 71,
     "metadata": {},
     "output_type": "execute_result"
    }
   ],
   "source": []
  },
  {
   "cell_type": "code",
   "execution_count": null,
   "metadata": {},
   "outputs": [],
   "source": []
  },
  {
   "cell_type": "code",
   "execution_count": 47,
   "metadata": {},
   "outputs": [
    {
     "data": {
      "text/plain": [
       "array(['us', 'wait', 'locat', 'even', 'call', 'restaur', 'like', 'servic',\n",
       "       'manag', 'would', 'back', 'ask', 'custom', 'one', 'go', 'food',\n",
       "       'get', 'place', 'time', 'order'], dtype='<U14')"
      ]
     },
     "execution_count": 47,
     "metadata": {},
     "output_type": "execute_result"
    }
   ],
   "source": [
    "vocab = np.array(cvm.vocabulary)\n",
    "vocab[np.argsort(cluster_C[0] )[-20:]]"
   ]
  },
  {
   "cell_type": "code",
   "execution_count": 50,
   "metadata": {},
   "outputs": [
    {
     "name": "stdout",
     "output_type": "stream",
     "text": [
      "cluster  0  \n",
      "\n",
      "['us' 'wait' 'locat' 'even' 'call' 'restaur' 'like' 'servic' 'manag'\n",
      " 'would' 'back' 'ask' 'custom' 'one' 'go' 'food' 'get' 'place' 'time'\n",
      " 'order']\n",
      "cluster  1  \n",
      "\n",
      "['eat' 'restaur' 'wait' 'never' 'bad' 'disappoint' 'better' 'get' 'back'\n",
      " 'price' 'time' 'like' 'tast' 'go' 'chicken' 'order' 'good' 'place'\n",
      " 'servic' 'food']\n",
      "cluster  2  \n",
      "\n",
      "['walk' 'custom' 'want' 'back' 'came' 'one' 'would' 'time' 'drink' 'get'\n",
      " 'server' 'minut' 'order' 'wait' 'told' 'manag' 'said' 'ask' 'tabl' 'us']\n",
      "cluster  3  \n",
      "\n",
      "['qui' 'en' 'j' 'c' 'ce' 'tait' 'pour' 'il' 'nou' 'une' 'l' 'la' 'je'\n",
      " 'que' 'un' 'pa' 'est' 'et' 'de' 'le']\n",
      "cluster  4  \n",
      "\n",
      "['manag' 'anoth' 'took' 'one' 'told' 'said' 'get' 'waitress' 'time' 'bar'\n",
      " 'came' 'order' 'seat' 'server' 'drink' 'ask' 'wait' 'minut' 'tabl' 'us']\n",
      "cluster  5  \n",
      "\n",
      "['soup' 'taco' 'food' 'meat' 'realli' 'place' 'restaur' 'flavor' 'salad'\n",
      " 'sushi' 'roll' 'order' 'good' 'fri' 'dish' 'like' 'rice' 'tast' 'sauc'\n",
      " 'chicken']\n",
      "cluster  6  \n",
      "\n",
      "['arriv' 'accompani' 'serv' 'bc' 'afraid' 'hip' 'rotten' 'shout' 'tartar'\n",
      " 'interest' 'cocktail' 'japan' 'contrast' 'izakaya' 'waitress' 'proceed'\n",
      " 'bill' 'ultra' 'bomb' 'uni']\n",
      "cluster  7  \n",
      "\n",
      "['good' 'said' 'get' 'one' 'wing' 'place' 'minut' 'like' 'time' 'would'\n",
      " 'top' 'sauc' 'deliveri' 'pepperoni' 'call' 'slice' 'chees' 'order'\n",
      " 'crust' 'pizza']\n",
      "cluster  8  \n",
      "\n",
      "['get' 'got' 'came' 'one' 'ring' 'tast' 'place' 'well' 'good' 'medium'\n",
      " 'like' 'cook' 'bacon' 'order' 'chees' 'onion' 'patti' 'bun' 'fri'\n",
      " 'burger']\n",
      "cluster  9  \n",
      "\n",
      "['morn' 'go' 'place' 'good' 'minut' 'drink' 'one' 'starbuck' 'cream'\n",
      " 'wait' 'shop' 'get' 'like' 'ask' 'order' 'ice' 'latt' 'breakfast' 'cup'\n",
      " 'coffe']\n",
      "cluster  10  \n",
      "\n",
      "['salti' 'belli' 'realli' 'egg' 'like' 'flavor' 'order' 'place' 'tri'\n",
      " 'tast' 'spici' 'japanes' 'miso' 'tonkotsu' 'bowl' 'soup' 'pork' 'broth'\n",
      " 'noodl' 'ramen']\n",
      "cluster  11  \n",
      "\n",
      "['came' 'good' 'biscuit' 'like' 'cook' 'scrambl' 'omelet' 'coffe' 'brown'\n",
      " 'sausag' 'order' 'benedict' 'brunch' 'potato' 'hash' 'bacon' 'toast'\n",
      " 'pancak' 'breakfast' 'egg']\n",
      "cluster  12  \n",
      "\n",
      "['realli' 'mi' 'rare' 'good' 'bo' 'order' 'like' 'tast' 'restaur' 'place'\n",
      " 'meat' 'roll' 'soup' 'spring' 'bowl' 'beef' 'noodl' 'vietnames' 'broth'\n",
      " 'pho']\n",
      "cluster  13  \n",
      "\n",
      "['would' 'ribey' 'restaur' 'meal' 'meat' 'steakhous' 'side' 'salad' 'good'\n",
      " 'came' 'cut' 'filet' 'well' 'order' 'rib' 'potato' 'cook' 'rare' 'medium'\n",
      " 'steak']\n",
      "cluster  14  \n",
      "\n",
      "['un' 'hat' 'r' 'mal' 'noch' 'ist' 'zu' 'den' 'mit' 'essen' 'es' 'ein'\n",
      " 'war' 'wir' 'ich' 'die' 'der' 'nicht' 'und' 'da']\n",
      "cluster  15  \n",
      "\n",
      "['start' 'water' 'came' 'definit' 'perfectli' 'choic' 'jack' 'dad'\n",
      " 'absurd' 'ideal' 'cocktail' 'thanksgiv' 'price' 'move' 'reduct' 'ben'\n",
      " 'dollar' 'bottl' 'clam' 'wine']\n",
      "cluster  16  \n",
      "\n",
      "['meal' 'get' 'want' 'realli' 'sauc' 'server' 'plate' 'came' 'look' 'ask'\n",
      " 'would' 'order' 'one' 'restaur' 'salad' 'like' 'dish' 'menu' 'tabl' 'us']\n",
      "cluster  17  \n",
      "\n",
      "['like' 'drink' 'want' 'would' 'one' 'list' 'waiter' 'serv' 'bar' 'dinner'\n",
      " 'ask' 'menu' 'order' 'restaur' 'tabl' 'server' 'us' 'bottl' 'glass'\n",
      " 'wine']\n"
     ]
    }
   ],
   "source": [
    "for i in range(18):\n",
    "    print('cluster ',i ,' \\n')\n",
    "    print(vocab[np.argsort(cluster_C[i] )[-20:]])"
   ]
  },
  {
   "cell_type": "code",
   "execution_count": null,
   "metadata": {},
   "outputs": [],
   "source": []
  },
  {
   "cell_type": "code",
   "execution_count": null,
   "metadata": {},
   "outputs": [],
   "source": []
  },
  {
   "cell_type": "code",
   "execution_count": null,
   "metadata": {},
   "outputs": [],
   "source": []
  },
  {
   "cell_type": "code",
   "execution_count": null,
   "metadata": {},
   "outputs": [],
   "source": []
  },
  {
   "cell_type": "code",
   "execution_count": null,
   "metadata": {},
   "outputs": [],
   "source": []
  },
  {
   "cell_type": "code",
   "execution_count": null,
   "metadata": {},
   "outputs": [],
   "source": []
  },
  {
   "cell_type": "code",
   "execution_count": null,
   "metadata": {},
   "outputs": [],
   "source": []
  },
  {
   "cell_type": "code",
   "execution_count": null,
   "metadata": {},
   "outputs": [],
   "source": []
  },
  {
   "cell_type": "code",
   "execution_count": null,
   "metadata": {},
   "outputs": [],
   "source": []
  },
  {
   "cell_type": "code",
   "execution_count": null,
   "metadata": {},
   "outputs": [],
   "source": []
  },
  {
   "cell_type": "code",
   "execution_count": 114,
   "metadata": {},
   "outputs": [],
   "source": [
    "#train_with_cl = km2_mdl.transform(idf_tr)"
   ]
  },
  {
   "cell_type": "code",
   "execution_count": 14,
   "metadata": {},
   "outputs": [],
   "source": [
    "pipe2 = PipelineModel.load('pipe-idf-5-7-18/')"
   ]
  },
  {
   "cell_type": "code",
   "execution_count": 32,
   "metadata": {},
   "outputs": [],
   "source": [
    "train_with_cl = pipe2.transform(train)"
   ]
  },
  {
   "cell_type": "code",
   "execution_count": 33,
   "metadata": {},
   "outputs": [
    {
     "data": {
      "text/plain": [
       "['business_id',\n",
       " 'cool',\n",
       " 'date',\n",
       " 'funny',\n",
       " 'review_id',\n",
       " 'stars',\n",
       " 'text',\n",
       " 'useful',\n",
       " 'user_id',\n",
       " 'rating',\n",
       " 'token',\n",
       " 'vectors',\n",
       " 'features',\n",
       " 'prediction']"
      ]
     },
     "execution_count": 33,
     "metadata": {},
     "output_type": "execute_result"
    }
   ],
   "source": [
    "train_with_cl.columns"
   ]
  },
  {
   "cell_type": "code",
   "execution_count": 116,
   "metadata": {},
   "outputs": [],
   "source": [
    "'''cv = CountVectorizer(minDF=5, vocabSize=5000, inputCol='token', outputCol='vectors')\n",
    "idf = IDF(minDocFreq=7, inputCol=\"vectors\", outputCol=\"features\")\n",
    "km2 = KMeans(k = 18, featuresCol='features', maxIter= 30)\n",
    "'''\n",
    "pipe_idf_model.save('pipe-idf-5-7-18')"
   ]
  },
  {
   "cell_type": "code",
   "execution_count": 128,
   "metadata": {},
   "outputs": [
    {
     "name": "stdout",
     "output_type": "stream",
     "text": [
      "CPU times: user 3.97 ms, sys: 2.42 ms, total: 6.39 ms\n",
      "Wall time: 278 ms\n"
     ]
    },
    {
     "data": {
      "text/plain": [
       "38341"
      ]
     },
     "execution_count": 128,
     "metadata": {},
     "output_type": "execute_result"
    }
   ],
   "source": [
    "%%time\n",
    "train_with_cl.filter(\"prediction = 1\").count()"
   ]
  },
  {
   "cell_type": "code",
   "execution_count": 88,
   "metadata": {},
   "outputs": [
    {
     "name": "stdout",
     "output_type": "stream",
     "text": [
      "{}\n",
      "CPU times: user 68.9 ms, sys: 26.3 ms, total: 95.3 ms\n",
      "Wall time: 22.9 s\n"
     ]
    }
   ],
   "source": [
    "%%time\n",
    "counts_cl = {}\n",
    "for i in range(18):\n",
    "    cond = 'prediction = '+str(i)\n",
    "    train_with_cl.filter(cond).count()\n",
    "print(counts_cl)"
   ]
  },
  {
   "cell_type": "code",
   "execution_count": 34,
   "metadata": {},
   "outputs": [
    {
     "data": {
      "text/plain": [
       "[Row(token=['mani', 'great', 'choic', 'italian', 'la', 'vega', 'probabl', 'come', 'back', 'antipasto', 'tray', 'nice', 'thought', 'wine', 'list', 'littl', 'pricey', 'enough', 'wine', 'aficionado', 'wash', 'plate', 'pasta', 'worth', 'wine', 'salad', 'good', 'arugula', 'salad', 'husband', 'tricolor', 'salad', 'unfortun', 'set', 'us', 'disapppoint', 'entre', 'husband', 'lasagna', 'decent', 'snuck', 'bite', 'lasagna', 'one', 'time', 'favorit', 'food', 'howev', 'risotto', 'primavera', 'shockingli', 'mediocr', 'primavera', 'consist', 'pea', 'cube', 'carrot', 'sauc', 'quit', 'bland', 'dish', 'eerili', 'similar', 'lipton', 'rice', 'n', 'sauc', 'mix', 'make', 'idea', 'serv', 'side', 'dish', 'home', 'servic', 'par', 'either', 'wait', 'time', 'cours', 'pace', 'weil', 'server', 'put', 'check', 'tabl', 'ask', 'us', 'want', 'dessert', 'coffe', 'later', 'saw', 'restaur', 'manag', 'scold', 'want', 'upscal', 'delici', 'food', 'part', 'town', 'go', 'rosemari'], text='There are many great choices for Italian in Las Vegas.  I probably won\\'t be coming back here.\\n\\nThe antipasto tray was nice.  I thought the wine  list was a little pricey.  I am not enough of a wine aficionado to wash my $20 plate of pasta down with $75+ worth of wine.\\n\\nSalads were very good.  I had the arugula salad and my husband had the tricolore salad. Unfortunately, it only set us up for disapppointment with our entrees.\\n\\nMy husband\\'s lasagna was decent -- I snuck a bite. and lasagna is one of my all-time favorite foods.  However, my risotto primavera was shockingly mediocre.  The \"primavera\" consisted of peas and cubed carrots, and the sauce was quite bland.  The dish was eerily similar to the Lipton Rice \\'n Sauce mix  I make when I am out of ideas of what to serve as a side dish at home.\\n\\nThe service was not up to par, either.  The wait time  between courses was not paced weil.  Our server put our check on the table before she asked us if we wanted dessert or coffee.  I later saw the restaurant manager scolding her.\\n\\nIf you want upscale, delicious food in this part of town, go to Rosemary\\'s.'),\n",
       " Row(token=['third', 'time', 'charm', 'eaten', 'three', 'time', 'busi', 'second', 'time', 'first', 'time', 'order', 'cook', 'entre', 'pretti', 'good', 'price', 'seem', 'reason', 'even', 'bottl', 'wine', 'second', 'time', 'order', 'specialti', 'roll', 'beer', 'reason', 'tast', 'good', 'howev', 'experi', 'last', 'time', 'monday', 'night', 'realli', 'bad', 'decid', 'coupl', 'glass', 'wine', 'instead', 'bottl', 'first', 'choic', 'left', 'expens', 'option', 'glass', 'big', 'deal', 'except', 'deliv', 'wine', 'glass', 'full', 'glass', 'alreadi', 'small', 'guess', 'glass', 'oz', 'size', 'oz', 'wine', 'accustom', 'gener', 'pour', 'challeng', 'server', 'said', 'half', 'glass', 'normal', 'pour', 'glass', 'realli', 'unhappi', 'suck', 'hungri', 'tempura', 'good', 'yellowtail', 'lover', 'roll', 'chewi', 'also', 'order', 'mackerel', 'sashimi', 'tri', 'yet', 'normal', 'love', 'elsewher', 'word', 'aw', 'guess', 'stale', 'cover', 'funki', 'sauc', 'finish', 'bad', 'ask', 'manag', 'told', 'ask', 'consider', 'bad', 'experi', 'server', 'interest', 'help', 'us', 'bill', 'left', 'hungri', 'never', 'go', 'back'], text=\"Third time's NOT a charm!  We have eaten here three times and it was only busy the second time we were there. First time we were there we ordered cooked entrees and it was pretty good.  Price seemed reasonable even with a bottle of wine. Second time we ordered specialty rolls and beer.  Again, reasonable and tasted good. However, our experience this last time (Monday night) was really bad.  We decided to just have a couple of glasses of wine instead of a bottle.  They were out of our first choice which left only a more expensive option by the glass.  It wouldn't have been that big of a deal except when she delivered the wine the glasses were only about 1/3 full.  And the glasses were already small.  My guess is that the glasses were 8 oz. in size and there was about 2.5 oz of wine in them!  I'm accustomed to a more generous pour, so we challenged our server.  She said that it was a half of a glass and it was what they normally pour. This was $10 a glass!  We were really unhappy but sucked it up because we were hungry.  The tempura was good, but the yellowtail lovers roll was chewy.  We also ordered mackerel sashimi which we hadn't tried here yet but we normally love when we've had it elsewhere. In a word, it was AWFUL!  My guess is that it was stale and they had to cover it up with some funky sauce.  We couldn't finish it because it was so bad.  We asked for the manager but we were told he wasn't there.  We asked for consideration because of the bad experience but the server wasn't interested in helping us at all.  Our bill was $50+ and we left hungry. Never going back.\")]"
      ]
     },
     "execution_count": 34,
     "metadata": {},
     "output_type": "execute_result"
    }
   ],
   "source": [
    "train_with_cl.filter(\"prediction = 17\").select('token','text').take(2)"
   ]
  },
  {
   "cell_type": "code",
   "execution_count": 137,
   "metadata": {},
   "outputs": [
    {
     "data": {
      "text/plain": [
       "\"Arrived just before 8pm on a Friday night. Came with my 8 year old son for a late dinner. Had to wait nearly 20 minutes for a table meanwhile they had a few tables open that I could see. The waitress promptly arrived, took our drink order and returned minutes later. We then placed our food order and went to the restroom to wash up. The ladies room smells like an outhouse. No joke. So gross. So, back to waiting for our food. It took quite a while. Long enough to deter me from coming back. When you're hungry, it's hard to be patient and I realize it isn't a fast food establishment. But when you're hungry, you're hungry. I ordered a medium well steak and fries and little man ordered chicken fingers and fries. Took a total of 25 minutes to arrive. My steak was a bit warmer than room temperature. Not impressed, again. Fries were hot so it was just poor timing by be kitchen staff. Food was flavourful. Steak was fairly tender but still too pink in the center for my liking. Will probably return one day but wouldn't be my first choice.\""
      ]
     },
     "execution_count": 137,
     "metadata": {},
     "output_type": "execute_result"
    }
   ],
   "source": [
    "train_with_cl.filter(\"prediction = 13\").select('text').first()['text']"
   ]
  },
  {
   "cell_type": "code",
   "execution_count": 37,
   "metadata": {},
   "outputs": [
    {
     "name": "stdout",
     "output_type": "stream",
     "text": [
      "\n",
      "cluster  0 :\n",
      "\n",
      "I ordered from Ramados through Just Eat. When my order was half an hour late, I called the restaurant to ask about it. The woman who answered the phone was incredibly dismissive. I was actually taken aback at how rude she was. When I asked her if she knew how much longer it would be she said she had no way of knowing and hung up on me. I finally got my food and in fact, the chicken is good but my salad arrived soggy. I'm just shocked at how outrageously bad their customer service is.\n",
      "If I could give zero stars I would. I've never written a bad review but I've never been treated like this before so I feel it is necessary. Readers digest version: \n",
      "\n",
      "Poor service. Hostesses who give your table away to the wrong party. Blatantly rude waitresses who push through in between your guests aggressively to retrieve a water glass and kick you out when you just closed out your ticket (who isn't even your waitress). A manager with zero customer service skills who dismisses your concerns about the lack of service from her waitresses, claims you are lying about your wait time, and is full of excuses. \n",
      "\n",
      "SPEND YOUR HARD EARNED MONEY SOMEWHERE ELSE!\n",
      "I spend many of my days at 7th. St. Market. It's definitely one of my favorite spots in Charlotte. So, it's unfortunate how consistently terrible Local Loaf is. Adam and his staff are always unfriendly and inattentive. This morning I decided to give them another go after many bad experiences with cold \"biscuits\" that look like dinner rolls and long waits and again they served a cold biscuit after a 10 minute wait and others being served ahead of me. I think they have potential but they do not care about their customers. For all my bad experiences I have never been apologized to or asked if I wanted my money back. I have given them so many chances and today is the last straw. \n",
      "\n",
      "Don't go here. Bring your own breakfast to the market during the week or eat Cookie Cult cookies from NJC.\n",
      "\n",
      "cluster  1 :\n",
      "\n",
      "My wife and I ate at Delmonico the night of July 4th. I had the bone-in ribeye and my wife had the filet. My wife's filet was tasty and what one would expect from a restaurant of this caliber. Unfortunately, my ribeye was tough and full of fat. I would say about half of it was edible. With al of the choices to enjoy a quality steak in Vegas, ignore the hype and go somewhere else.\n",
      "Fresh is good. Selection is good. But, standing in line behind a bunch of people who are taking their time to consider all of the possible combinations of vegetables to be cooked for them was incredibly annoying. Might go back for a regular sit-down lunch but do not like this routine at all.\n",
      "Cold tacos, watered down drinks.  Not a single Mexican person in this place.  Service was decent.\n",
      "\n",
      "cluster  2 :\n",
      "\n",
      "Never have I been more disappointed in this place. If there was an option for zero stars, I would have selected it because this place is a waste of time. I believe they should teach these owners some customer service because clearly they lack that.\n",
      "\n",
      "I have been a customer here for awhile and ordered plenty of times, in fact they even mentioned how much they remembered me. Well, you would think from people who remember your face, they would have a little bit of courtesy, no? Not these guys.\n",
      "\n",
      "For one, I hate the hours. This place still refuses to put up a sign of their hours. Why? Not? I swear they are always changing them! They are never open, how on earth can this little shack run without hours? Is there something going on under the table?\n",
      "\n",
      "I came later in the afternoon which it should have been open by now. Lights were on, TV was on and yet the door was locked. So I decided to give em a call, after no answer I decided to walk off when the chef opens the door and lets me in. I walk in and he tries to give me a menu when I simply tell him my order because it's always the same order. He mentions something I never heard of before, another combo or option. I said, \"No, the usual. What I always have. The pieces\" He nods in agreement and goes off to cook. I wait about 10-15 min or so and finally the order is done and I see all these containers. I was confused and asked what is that? He starts talking about salads and soups and shows me something I didn't even order!\n",
      "\n",
      "I kindly explain that this order is incorrect and that this is not what I normally eat here. He claims he remembers me in which I reply, \"Is that so? Than you would know that I only ever order the same thing every time. This is not what I asked for.\" He threw a fit of sighs making a big deal out of it and than suddenly the other owner comes along. The lady and starts just yelling at me like crazy. Not only was I startled by how she approached me so threateningly but yelling at me claiming the chef is right? How would she know? The door was shut and she wasn't even present when I know very well what order I made. It is not my fault he wasn't listening. \n",
      "\n",
      "She continued to yell at me in which I was upset and fed up of hearing her and cut her off completely. The chef would not budge and so I had to pay for something I obviously didn't like nor wanted to eat. He claimed he made a big discount for me. From 12 dollars to 11. WOW. BIG DISCOUNT. How about making it free because YOU messed up. Or even better, make me what I actually asked for!?\n",
      "\n",
      "These people need to learn proper customer service. No matter what business you are in, the customer is always right and you as a good business owner have to fix the problem in order to keep your customers. Apparently these guys didn't take enough classes.\n",
      "\n",
      "Well you lost a very loyal customer because as soon as I stepped out that door I knew I was never coming back. Not spending a single penny in that worthless joint. \n",
      "\n",
      "You said your miso soup was the best? I fed it to my flowers. It had no taste what so ever. Also, what the heck was that salad all about? The salad was ROTTEN. The leaves looked absolutely  expired. I lost my appetite and threw everything in the garbage.\n",
      "\n",
      "I wouldn't recommend this place guys, the food just doesn't cut it.\n",
      "Never again - Absolute horrendous service. I ordered the daily special on a friday afternoon and then waited and waited and waited some more. There were large groups ahead of me that did not receive their meals for 30 minutes or more. And she was not telling anyone ordering after me that there was a delay. There were only three girls making sandwiches and the one taking the order explained to me that the 4th person got pulled over by a cop and was arrested. I had to demand a refund several times before she actually gave it to me. On top of it, she was arguing with me about why she didn't have the sandwich ready yet and that the university location has more people. That is an internal issue that should not be used as an excuse to justify why you are unable to provide a service we pay for. I am even certain that she forgot to label my order as To Go. I have been a customer for years...but at the university location. I did not have any issues, delays or problems. This Warner location brings down the brand name, professionalism and quality. Stay away from this location, they have no idea what they're doing. To ensure qualify service and food, I would highly recommend going to the university location.\n",
      "\n",
      "Just wanted to respond to the manager - you obviously don't know what is going on in your store. I waited about 20 minutes before asking for a refund. How do I know? Perhaps because I was the customer and also, another customer went up to the counter to ask about her group's order. When she walked by me, she said they have been waiting for at least 30 minutes...!  And she was not the only one - there was a group of four people that hadn't received theirs and asked about their sandwiches. There was no bullying, when a customer has to demand for a refund because the worker refuses - that's a business stealing money from customers! Apparently, you are not experienced in good management skills. You should have stocked your store with more people - quality people that don't get pulled over and arrested. I have no reason to lie about what your employees said...! It is obvious management is in denial of their bad service, and poor training in customer service and professionalism and poor judgement in workers. Rest assured that I will have better experiences elsewhere, however your store is what needs luck.\n",
      "Well, what can I say.  Wow!  This was the WORST restaurant experience that I have had in my 43 years on this earth.  I am not exaggerating.  It was very, very painful.\n",
      "\n",
      "It started with the hostess.  A \"5-10\" minute wait was all, she said.  25 minutes later we discovered that she had mistakenly crossed out our names.  OK, no problem, mistakes happen, we understand.  She says we get the next 2 person table.  Cool.  As we are waiting, I notice a couple being seated that came in much after us.  After some questioning, she allegedly crossed out their names too.  Umm, really???  The girl had no clue.\n",
      "\n",
      "Finally got seated and the waitress tells us the kitchen is backed up and to be patient.  OK, we are patient.  We order our food, a spicy chicken sandich and a tuna sandwich.  As we are waiting, and waiting, and waiting, we hear the waitress scolding customers.....\"I told you if you didn't order right away it would take longer, you chose to wait.  Really????   At another table she says the same thing.  The table next to us, once they get their food, complain and leave without even touching it.  Oh my!!!!\n",
      "\n",
      "Apparently the kitchen is small and can't handle a crowd.  The 2 sandwiches mentioned above, took 70 minutes to get to us.....YES! 70 MINUTES!!!!!!!!  I can't believe we waited that long.  We were so mad, but at some point we were too invested.\n",
      "\n",
      "Once the food comes.....no chips.  They will be along in a bit but they were not ready yet.  Really!!!!?????\n",
      "\n",
      "The food was decent, no complaints there.  Every single table, though, was mad and upset about the wait.  It was the worst experience I have ever had at a restaurant, and I eat out A LOT!\n",
      "\n",
      "Anyway, stay away from this place.  They don't deserve your business.  This, by the way, is also the first \"bad\" review I have ever written.. They should be ashamed!\n"
     ]
    },
    {
     "name": "stdout",
     "output_type": "stream",
     "text": [
      "\n",
      "cluster  3 :\n",
      "\n",
      "Nouveau petit resto-taverne pour Fleury! Superbe décor simple et relax, sombre.. Taverne. Les gigantesques fenètres donnant sur Fleury équilibre bien le tout. \n",
      "\n",
      "Les plats sont décris comme une histoire alléchante détailler à la perfection. Les services est éfficace et sympatique. Parcontre.. La majorité des plats n'était plus disponible a notre arriver, dommage c'était les choix les plus interessant. À noter qu'ils viennent d'ouvrir.. Peux être qu'il teste ce qui fonctionne ou pas et commande en petite quantité?\n",
      "\n",
      "Mes amis on eu de la difficulté coté vin, leur palette n'est définitivement pas compatible avec celui qui selectionne le vin a l'Alexia. Elles on le même problème au restaurant bar Les incorruptible. C'est le même proprio..!\n",
      "\n",
      "Mon plat était correct, rien de très spécial mais bon pour de l'agneau a 18$. Tout le monde après leur plats on commander une entrée parce qu'on avait encore faim! Les entrées? Désastre.. Trio de tomates? Euh.. Une tomate tranché, des tomates confites en canne et de la purée de tomates? Le hummus? Hyper liquide, trop d'huile et gout tellement fumé qu'on ne goute plus aucunement les pois chiches..  Bref beaucoup de poudre aux yeux pour que de la déceptions pour toute la table.\n",
      "\n",
      "Ils viennent d'ouvrir.. J'espere qu'ils s'amélioreront. Une deuxième chance est peux être a donner dans un futur.. Lointain.\n",
      "En résumé : mauvais service , mauvaise nourriture.  À éviter (il y a de bien meilleures alternatives toutes proches).\n",
      "\n",
      "Nous y sommes allés pour le souper avec les enfants - le menu pour enfants est affiché sur le napperon à 7.99$ avec breuvage et dessert.  Toutefois, une fois les commandes passées, voyant que les enfants ne recevaient pas de breuvages, la serveuse nous apprend que le menu pour enfant à été change 'cet été' (nous sommes maintenant en septembre), et que le breuvage est maintenant .99$, le dessert 1.99$... Un peu tard pour nous en aviser!  On demande à voir le gérant (je pense que c'est le proprio qui vient)-- il ne trouve qu'à hausser les épaules...  \n",
      "Malheureusement, la qualité de la nourriture n'a pas du tout compensé pour cette déception- trop froid, cuisson imparfaite, portion inégales...  Bref, ceci fut notre dernière visite. \n",
      "On aurait dû regarder les avis Yelp avant d'y aller, ça nous apprendra! ;)\n",
      "Un des brunchs dont on entend le plus parler; une longue file d'attente pour découvrir plusieurs tables libres à l'intérieur - on a l'impression d'être témoins de la meme technique des boites de nuit qui veulent donner l'impression que c'est bondé en faisant patienter les gens à la porte. \n",
      "\n",
      "Le service est bien, les serveurs anglais se forcent pour servir en français et vice versa.\n",
      "\n",
      "Nous avons prit les oeufs benedicte sur mac and cheese avec pulled pork, les oeufs benedictine aux champignons, la poutine dejeuner, et le sandwich dejeuner El Jefe. \n",
      "Le plat d'oeuf était à la fois sans goût, à la fois trop épicé et les textures n'étaient pas au point. Les patates étaient excellente par contre. La poutine déjeuner était passable, par contre les poivrons prennent le dessus sur tout le reste. Le sandwich déjeuner était tout une déception, et clairement une erreur d'un cuisinier sans passion. Le pain était completement brulé à l'intérieur, le jaune d'oeuf trainait au fond de l'assiette, une demi-tranche de tomate servait de croquant et il y avait à peine de mayonnaise.\n",
      "\n",
      "Finalement, nous avons attendu 30-40 minutes et 8 serveurs à esquiver notre table pour se faire débarasser et avoir l'addition.\n",
      "\n",
      "cluster  4 :\n",
      "\n",
      "My wife and I decided to try Red Lobster again after the horrible service we had about two months ago.  It was a Tuesday night so no one was waiting to be seated but there was no hostess when we walked in.  After five minutes, she walked out of the bathroom with another person (waitress) and then we were seated.  In being seated in a direct line of sight to the hostess, she had to be in the bathroom at least six or seven more times and anyone coming in to eat had the same issue we did.  We finally received our water after 10 minutes of waiting and then another 10 before our order was taken.  If it was busy, sure but it was not at all.  \n",
      "Biscuits - undercooked.\n",
      "Breaded shrimp - undercooked.\n",
      "Waited 10 minutes after my meal finally arrived to get a baked potato.\n",
      "Chicken - no flavor and tasted like it just came out of the microwave.\n",
      "\n",
      "Two times in a row.  We will never eat there again.  The manager was too busy watching baseball to even notice what was going on, or just did not care.\n",
      "\n",
      "One star for a nice waitress.\n",
      "I just experienced the worst service from Panda Express at 24th street and Baseline.  There are 2 girls taking the orders, one black and another of Asian decent. I asked if they can make more pacific shrimp and the black girl said yes in 5-6 mins. So I told her I can wait.  After 15 mins I asked if it is ready and she said.  They are making other things first.  So of c ourselves I reminded her that she said 5-6 mins.  After another 15 mins she asked if she can take my order.  I said sure.  I want the family feas, rice only in one box and rice and chow me in combined in the other box.  Why did she immediately got upset and sad they don't serve combinations and I need to just pick one.  I told her I buy the same thing every week and I wanted to know if it was just her location.  She whispered to the other girl and then she put the combination in, put only half box.  I had to ask her if she could put more and she was not happy.  So now that the shrimp is ready they need to make more chicken and green beans and she didn't want to tell the guys cooking.  I had to ask her multiple times.  Then I realize that I was standing in Panda for more than one hour with no food and had to go pack to work.  So all I got from them was bad service.  DON'T GO THERE FOLKS.  FIND ANOTHER LOCATION.\n",
      "Disgusted by the sexist and cowardly management and subpar food. Husband had on a shirt with no sleeves, not a \"wife beater\" as stated by our waitress who was wearing a skimpy tank top, and was offered a shirt to put on.  He had a hoodie with him but when I pointed out how sexist it was she seemed bewildered and only asked him to put it on after we'd ordered and her manager came by.  This is not a high class place and I was the only female aside from the waitress.  It was 4 pm on a Monday.  I don't think anyone really cared.  When asked where the dress code was posted she just shook her shoulders. Asked to talk to Manger but he was too busy on the phone (ya right) working his other job as a realtor and didn't  care to talk to us after asking twice.  Will never go back and will tell everyone I know not to frequent the place. In addition as we were leaving the waitress asked if we wanted our pizza packed up but bothered to point out they don't do that when they have specials. Her tip went down really quick right there. We had never been there before and didn't even know it was  special...as if we were trying to scam them.  Never ever again.  Pizza was terrible too.\n",
      "\n",
      "cluster  5 :\n",
      "\n",
      "Over rated beyond belief!!\n",
      "The restaurant setting is unique in its cozy ambiance, but you pay $250 for two to eat good food not the ambiance. Our 30th anniversary, as a visitor to Phoenix, was not something to be stamped out in our culinary diary as \"outstanding\". The staff has been trained to \"sell\" the \"Goods\", but the Goods' are not there to be sold. Upon our arrival, we were given the privilege of being seated in the patio area, provided we vacated the table in \"one hour forty minutes\"!! Our server was very accommodating, well informed and courteous, but the kitchen did not take any notice of his recommendations and most of our food had to be returned for revision. The menu is structured around the fancy names, extravagant ingredients and presentation, but the quality and the \"yummy factor\" is just not there to match the intentions. My wife's orders had to be modified due to her numerous allegories, so in the spirit of fairness, I will only comment on my choices which were presented exactly as described on the menu. The lobster appetizer starter, with a fancy name ($18) turned out to be a few pieces of tasteless lobster meat in some kind of equally tasteless sauce buried in an unimpressive French Bread and accompanied with soggy and limp French Fries. The main course, the stake ($38+) was a lump of un-seasoned meat on a pile of fiery hot chilies and corn (out of a can), with a failed attempt to camouflage the tasteless meat. The reprieve came at the end of the meal. The desert and espresso was well presented and very tasty. \n",
      "If you are seeking bragging rights for a night out, this is your place. On the other hand if you are after good food, look for an establishment serving a true gourmet product.\n",
      "Fred Fardoost\n",
      "When I pay $40 per person for dinner at a Vegas buffet, I expect above average selection and service.  You will find neither here.\n",
      "\n",
      "The food you can find is OK, but the selection is minimal.  Noticeably absent is any Asian food.  Looking for fried rice, and maybe some orange chicken?  Not there. You'll notice that their plates are very small compared to other Vegas buffets.  There are two possible explanations for this: either because they want you to consume less food, or to make you feel less ripped off when you look at your plate after traversing the whole buffet and find only 1 or 2 items that were worth putting on your plate.\n",
      "\n",
      "As far as the service, it was non-existent.  I did not receive a single refill for my drink in the entire time I was there.  My waiter simply vanished, and the other waiters wouldn't help - they just kept telling me that my waiter would be right back.\n",
      "\n",
      "Unless you want to feel ripped off and have a bad feeling about Vegas, don't go here.  The high prices in Vegas these days usually at least come with a good experience.  The buffets at the Mirage and Bellagio are amazing, and almost identically priced to the MGM.  Go to one of those.  Avoid the MGM buffet at all costs.\n",
      "Every Indian Restaurant in the valley starts with lot of promise and will go down with the time. Here is another one with same traits. When started everything is rosy and great attention to the detail and respect to the customers? As time goes on, they think they are pioneers of the business start showing attitude. We are there for the dinner, ordered Goat Biryani, the meat is not tender and my kid commented that meat is slippery and rubbery; she is only four year old. You need to have strong teeth to eat. The chicken curry is actually smelly and it has some raw chicken feel to it. If they choose to ignore the signs it's sure will go down and history will repeat.\n",
      "\n",
      "I agree with other reviewer Rand H about Buffet comments. The chicken Biryani served in the buffet is pale not tasty at all. I completely agree about the styrofoam cups nothing upscale about it.  Nan placed at the buffet is not warm, and service is OK.\n",
      "\n",
      "Unlike other Chutney restaurants in the country(been to one in portland) they don't offer any chutnies at the dinner table as a complimentary. I was excited to hear they are opening one in Tempe with the name chutney, but looks like it's an empty promise.\n"
     ]
    },
    {
     "name": "stdout",
     "output_type": "stream",
     "text": [
      "\n",
      "cluster  6 :\n",
      "\n",
      "I've appreciated Izakaya's around the world from the ultra-traditional in small-town Japan, where they are much better at sitting on the floor than me, to the ultra-hip Toronto version of Guu Izakaya.  Approaching Hanmoto, there was no moat of flaming dog turds, just a building that looked like a shack with ultra-loud music and papered-over windows.  In contrast to both the traditional and hip versions, there were no shouts of \"Irasshaimase!\" to greet us upon arrival, merely a flannel-clad waitress looking bored.\n",
      "\n",
      "The meal did start well-enough.  There are indeed several interesting cocktails on the menu (all $12-$13), which incorporate Asian flavours like kaffir lime and ginger in variants of classic cocktails.  Our first dish to arrive, the Hamachi Tartare ($14), was by far the best, and at the level of the small plates served by far fancier places like Bent.  A beautiful tartare accompanied with some ponzu, avocado, and elements of crunchiness.\n",
      "\n",
      "We then proceeded to the Nasu Dengaku ($7), the Japanese eggplant, which was lovely in flavor  and texture and covered with crunchy fried beet slivers that provided an interesting contrast.  The menu advertised a miso hollandaise sauce, but the sauce that accompanied it was as similar to that as Sesame Street is to The Walking Dead.  Instead, it was so sweet, that I highly recommend it be adopted immediately as the standard medical treatment for hypoglycemia.  \n",
      "\n",
      "\"Can I get you more drinks?\"  No, we've only had our cocktails about 10 minutes.\n",
      "\n",
      "We then proceeded to the interesting Katsu Bun ($7/piece) which consisted of a marinated pork belly served in an aggressively salted soy remoulade.  Too big for a tapas portion for one person, but impossible to share, as the restaurant refuses to provide a knife or cut it in half.  Clearly, it would ruin the \"integrity\" of the dish.\n",
      "\n",
      "\"Can I get you more drinks?\"  OK, let's have a round of Asahi's ($8 on tap).  Some passable enoki mushrooms ($7) arrived.\n",
      "\n",
      "\"Can I get you more drinks?\" No, we've only had the beers 5 minutes, but maybe you can check on the Uni Bomb we ordered long, long ago that has been forgotten.   I regretted that request immensely.\n",
      "\n",
      "Our \"Uni Bomb\" ($15) arrived, which was a do-it-yourself sort of dish of a small portion of uni on top of sushi rice with nori to wrap it in and a few sprinkles of salmon roe.  3 out of 4 of us proceeded to make our little uni wraps and started to eat it.  Unfortunately the uni tasted like rancid iodine...if iodine could somehow spoil.  In the entire collective memory of everyone who knows my boyfriend, he has never sent a dish of food back. Here, and we were in unanimous agreement, we had just been served disgusting, rotten uni, and he politely called the waitress over...\n",
      "\n",
      "\"Can I get you another drink?\"\n",
      "\"No, actually, I'm afraid we can't get eat your uni.  I'm afraid it's gone bad, and we want to send it back.  You really should alert your chef so that you don't serve this to anyone else.\"  She turned and walked in silence away.  She whispers with the chef in the corner.  We ponder if someone will come to apologize, or offer a substitute, or acknowledge the problem.  No one comes back to say anything, so we finally succeed in distracting the waitress from the cell phone.  By now the readers at home know what she will say:\n",
      "\"Can I get you another drink?\" \n",
      "\"No, just the bill, please\"\n",
      "\n",
      "Lo and behold, the \"Uni Bomb\" we returned, which contained the worst bit of seafood ever to cross my lips, is still on the bill for $15.  After being ignored for a solid 15 minutes of candy crushing, the waitress comes over and we ask her to remove the uni from the bill.  \n",
      "\n",
      "The Michelin-trained waitress explains that they discussed removing it from the bill, but more than 50% of the uni was gone, so they didn't want to take it off.  Aha, well, 3 of us had miniature spoonfuls of it, which we all hated.  She reluctantly agrees to take it off the bill.  \n",
      "\n",
      "Before, we can get the new bill, we're greeted by the manager.  100% sure of the quality of his food, he proceeds to lecture us that maybe we don't know what uni tastes like.  My boyfriend's mention of living in Japan and eating it often did nothing to shake his confidence.  He proceeded to mention that this was uni from BC, not the Chilean uni they had been serving before, and we might be unaccustomed to its taste.  Ah, so you're saying that sea urchin from BC should taste like the fish that's been thrown out of the dodgy fish markets in Kensington and left to rot for a few days in the sunshine...sure!  Not once was there an apology.\n",
      "\n",
      "We finally get our revised bill.  We ask the waitress to split it two ways.  \"Sure, but I just don't want to do the math.  You do it,\" comes the response.  \n",
      "\n",
      "We departed with no shouts of \"Arigatou gozaimashita\" or even nods from flannel-clad waitresses.  Unfortunately, the taste of the rotten uni persisted.  The 3 of us who had the \"Uni Bomb\" also got to discover its gastrointestinal \"bomb\" counterpart the next day.\n",
      "\n",
      "cluster  7 :\n",
      "\n",
      "Overpriced and verrrrrrrrrry slow.  The pizza is good, the beer selection is fantastic, and the people are nice. Two big problems though:  1.  The pizza is much more expensive than comparable pizza elsewhere.  Beer prices are steep too.  2. Both times I've been here the pizza took far too long. I won't be coming back. If you value your time and money you'll stay away too.\n",
      "D- And that is charitable.  It took 20 minutes standing in line to order 2 pies and a salad.  We understood their recommendation of limiting the number of topping so we ordered their house specialties---Bianco and Margherita pizza and their house special Antipasto.  Antipasto was a combination of pizza toppings including 1/8 inch diced ham on a bed of undressed lettuce.  It was so poor we left 80% of the salad and had no desire to take it home with us.  We thought it was our fault for ordering antipasto at a pizzeria.\n",
      "Pizza was finally ready after another 20 minutes and the Bianco was ok, middle of the pie slightly underdone but edible.  The Margherita was raw and the crust was black, not from being overcooked but from being cooked in a filthy oven.  We nicely asked for a remake (actually saw 3 pies returned while we were there) and waited another 20 minutes only to find they had not even started our order. We actually saw the owner (or owners wife) chatting to guests while the dining room was littered with dirty tables and the kitchen seemed a disaster.  Then she just left---Las Vegas restaurant management at its finest.  We asked for a refund on the Margherita and followed her out the door.  Here is the really sad part, they weren't even busy.\n",
      "The worst pizza place. Take note that you can call in an order come to pick it up and they give your pizza away and you have to wait 10 mins for them to make another. Second time I ordered online said for me to pick it up at 7:05pm got here at 7:15 they gave my pizza away again even though I already paid online in advance. I rather go to Papa John's less stress and I get my pizza before the estimated  time. Oh and hot n ready pizzas are never ready there's a wait.\n",
      "\n",
      "cluster  8 :\n",
      "\n",
      "I feel like Twitter is pretty useless so far; I have an ok amount of followers I guess, but I feel like they're all following so many people that anything I say gets lost in the mess of their feed. I could tweet all day and get very little response to anything aside from a couple loyal folks on there. And it was one such reader that led me to Delmonico recently for what he claimed to be an excellent burger. He's a food writer in town so he should know what he's talking about, right?\n",
      "\n",
      "Delmonico is located in the small restaurant row of the Venetian right by another great burger spot, although most people would not come here for their burger. The interior is nothing too fancy in either the bar area or more traditional area in the back. I did notice while sitting at the bar that they have an amazing bourbon selection, but since I was there during a lunch break I'll have to go back some time when I'm not on the clock. The lunch and dinner menus are a bit different, with the lunch menu featuring more sandwiches and things, so maybe the comment I just made about people not coming for a burger is wrong. Either way, this restaurant is pretty fancy and features quite a number of great sounding items aside from what I came there for.\n",
      "\n",
      "The Delmonico Prime Hamburger comes on a toasted brioche roll with fries, cheddar cheese and bacon. The meat had excellent flavor from the first bite, but I noticed right away that it was way overcooked and dry. It started off extremely juicy but that faded way too fast and by the end it was very dry. The cheese was melted and had great flavor, but the bun was a tiny bit dry as well and a little too thick. The heirloom tomatoes were fantastic, but maybe a bit off-putting at first due to their green color. The bacon also had good flavor, but was a tiny bit undercooked and soggy in parts. Overall it was still decent, but could have been well beyond that if the meat had been cooked properly.\n",
      "\n",
      "Luckily the fries were great. Some of them were almost a bit too hard and crunchy, but they were very tasty and a welcome change to the 'typical' fries I often get around town. Something I found to be quite funny was when I asked for ketchup I was brought an insanely large bowl of it, more than probably a table full of people could have used.\n",
      "\n",
      "The online menu lists the burger at $15, so I was a little surprised to see the $18 listed on the menu when I made my order. I think if it was cooked properly I would still be ok with this price given the chef, the location, etc, but because of this price I seriously frown on the fact that they couldn't cook my burger properly. If you're willing to risk this inconsistency and are ok with the cost, I think it's a good burger to check out, and has the potential to be really great, but if you're at the Venetian and are craving a guaranteed good burger for a similar cost I suggest you go next door.\n",
      "Day crew really needs to get it together!! \n",
      "I have had two bad experiences in a row, last time I ordered an all American burger but  they rang me up for the \"havarti\" burger. When I told her that was incorrect she told me she would fix it at the window which makes no sense cuz by the time I get to the window it's probably already made after at the window to please make sure it was correct because I do not like grilled onions and instead she gave me an All-American with no onions!\n",
      "\n",
      "\n",
      "Now let's get to this visit, I get to the speaker she took my order correctly, then tells me she'll have my total at the window (completely understandable) until I get up there and she makes no eye contact with me, barks out the total to me, doesn't say hello, doesnt ask me how my day was, nothing. Once I give her the money she hands me my food doesn't say another word to me even when she was giving me my change she didn't count it back she just threw it in my hand! You guys have to do better with hiring because your day crew is going to ruin your business ! \n",
      "you're night crew on the other hand is awesome!\n",
      "2 stars for getting my order right \n",
      "Also learn what \"ultimate\" means,\n",
      "My bacon ultimate cheeseburger that used to have at least four slices of bacon on it now has one slice of bacon cut in half!!\n",
      "Yelpers, you let us down on this one. \n",
      "\n",
      "Precious reviewers noted that while the beer is not exceptional, the food is awesome.\n",
      "\n",
      "Not. True. This was the worst food I've ever had, by far, at a place that bills itself as a gastropub. Ironically, their slogan is \"boycott bland...\"\n",
      "\n",
      "We got the bison burger and the bacon mac and cheese. The burger was dry, tasteless, and unevenly cooked (one end was raw and the other was well done). There was no seasoning in the burger at all and it needed some sort of aioli or mayo component. There was way too much bun relative to burger. The worst part, though, was the lettuce. It literally tasted like dirt. No exaggeration--I think this was the worst burger I've ever had.\n",
      "\n",
      "The bacon mac and cheese was okay in that there was a lot of cheese, but it too was unseasoned and could have used more creamy sauce. It was basically noodles covered in grated melted cheese. \n",
      "\n",
      "French fries--hot and good. Not sure this made up for our $45 ticket. \n",
      "\n",
      "I was completely depressed to spend my hard earned money on food that was this subpar. Why didn't we say something? Service was abysmally slow, to say the least, and we had four servers over the course of our visit. We didn't want to wait any longer to get out of there.\n",
      "\n",
      "We did a flight of beers. They were perfectly fine, but not legendary. The mango IPA was tasty and I'd totally get a six pack of it. \n",
      "\n",
      "The whole restaurant has a very corporate feel, which I find strange for a brewpub/gastropub. Normally, this food and beer culture lends itself to a friendlier  feel.\n",
      "\n",
      "But whatever; I won't be back and will consider it a draw if I don't get food poisoning.\n"
     ]
    },
    {
     "name": "stdout",
     "output_type": "stream",
     "text": [
      "\n",
      "cluster  9 :\n",
      "\n",
      "We were excited to try this, but our experience was less than the \"surreal dining experience\" promoted on the menu. Our party of two waited 25 minutes to be seated at the bar alongside people who arrived after but we're seated before us. We were greeted by three of the 8 or so people working behind the bar, none of whom offered us any beverages until I had asked three times for water and coffee. (Our server actually argued with me about my request stating that being seated is not a guarantee of fast service.) The beef brisket biscuits and gravy we ordered was actually sausage gravy, and the truffle French toast with asparagus and fried egg was good but not great. The highlight was the coffee, but not even that was worth the wait and poor service.\n",
      "I, was Visiting from out of Town, &  I stopped in for a Cup of Coffee. Not One Employee even said Hello!  i waited for 10min. or longer, for service!  I walked out! I get better Service at\n",
      " Burger King! and Most likely the Coffee is Better!!\n",
      "After seeing Sweet Cakes Cafe's cinnamon rolls featured on tv this morning, we thought since it's not too far from home, we'd give it a try.  Mis-take!  The very large cinnamon rolls were individually packaged in plastic tubs (not marketed fresh, as one would expect 30 minutes after opening on a Saturday morning).  Upon opening the container, the dry, doughy, day-old roll lacked a cinnamon taste and was PLASTERED by a sweet, thick powdered sugar paste.  The coffee, thankfully, was hot enough to melt it down the throat.  \n",
      "For the price, ($12.00 even for 2 coffees and 2 cinnamon rolls), companion and I were severely disappointed.  We will take our business elsewhere next week.\n",
      "\n",
      "cluster  10 :\n",
      "\n",
      "Where to start...\n",
      "\n",
      "I used to like this place a lot and I came here often. Not sure if they changed management, but the place no longer has coupons anywhere so it's extremely overpriced. Don't be fooled by the $2 gyoza dumplings; they're the size of a quarter and there's only 3. Also, if the girl asks you if you want garlic, say no because she doesn't tell you that it's 50 cents extra and you'll never taste the difference. \n",
      "\n",
      "The flavor of the broth is good, decent portion sizes. It's better to order without meat, because I've tried all their meats and they're all pretty terrible, dry, and tough. Their chicken is actually kind of gross. Even though ramen is supposed to have a lot of toppings, only order toppings if you want to spend over 10 dollars for a bowl of noodles because each one is about $1, and they're not very good and in small portions.\n",
      "\n",
      "Their tempura is pretty good and the best deal on the menu is the udon with tempura. Their boba is pretty good for Arizona.\n",
      "\n",
      "However, I have some issues with their customer service, the last two times I've been they've over charged me by adding things like eggs that I didn't want and then would not take it off my charge. Their staff is pretty rude in general, so I probably won't go back because I seriously value an overall experience.\n",
      "\n",
      "A little disappointing because it is in a great location and there aren't many ramen places around.\n",
      "Short version of this review: If I can give zero star, I would. Please don't waste your time and money to come here.\n",
      "Long version of this review: I made a yelp account just to write this review. This is the worst taste I've ever had in a restaurant. I ordered Spicy Tonkotsu Miso Ramen, the broth tastes decent but the bamboo shoots taste horrible and smells gross. They don't taste fresh, they taste like canned bamboo shoots you can buy at China Town. The thing that upsets me most was the Buta Shio Bukkake. My girlfriend ordered it and it was nothing but udon noodles in clear soup with three extremely thin slices of burned grill pork and three sticks of green onion. The soup tastes like boiled water with oil and burned smells, and the worst thing is that it costs $9! I will attach pictures at the end of the review. It was so bad that I had to ask the server to take it back. The restaurant let me order something else instead. I ordered Chicken Karage Don, which tastes blahhh at best. The chicken tastes so bland and the miso soup that came with it tastes horrible. The tofu in the miso soup tastes like it hasn't been washed prior to cooking. I don't understand how they can serve food that tastes so bad to customers and charge this price. It's ridiculous.\n",
      "Overall, definitely avoid this restaurant at all costs if you don't want to ruin your appetite and waste your time and money. I would not even eat the food there again even for free.\n",
      "2.5 is what I'm trying to give here.\n",
      "\n",
      "So after seeing some of the reviews (at 24 reviews) they seemed like a decent place to try out.\n",
      "\n",
      "I felt that I should give them a try.    After coming back from Japan, all ramen places have just been.. blah.\n",
      "\n",
      "This one, ramen wise, I wasn't impressed.\n",
      "\n",
      "There were 3 of us. Here's what we ordered:\n",
      "\n",
      "-Yamisou tempura (a root vegetable that's on the specials menu)\n",
      "-Pork belly (small)\n",
      "-Soft bone pork (small)\n",
      "-the original ramen shiso\n",
      "-tonkatsu\n",
      "-katsu donburi with black curry\n",
      "\n",
      "The Yamisou tempura was well fried, lightly tempura battered, and fresh.  It had a good crunch and we were given a choice to dip it in wasabi salt or tempura sauce. Either/or tasted good=)\n",
      "\n",
      "The pork belly came with 4 pieces in the small order.  Absolutely terrific in texture and flavour.  It had a lot of fresh scallions on top and the fatty part was melt in your mouth, so we all rather enjoyed it.\n",
      "\n",
      "The Pork soft bone came with 4 pieces as well in the small order.  It was nice.  Chewy and wasn't too dried.  It had fresh scallions and sesame seeds on top.  The only thing was, it tasted (flavour wise) exactly like pork belly.  So it became a little boring.\n",
      "\n",
      "\n",
      "On to the ramen and rice...\n",
      "\n",
      "My mum had ordered the original ramen with shiso soup.  She said it was too salty and apart from the salty, there wasn't much flavour at all.  She said her noodles themselves were not the best she's had and they were too soft in texture.\n",
      "\n",
      "I had ordered the tonkatsu ramen.  I found that my soup base, was a tiny bit oily compared to what I'm used to.  There wasn't much flavour at all.  It was a really large portion, with 3 large pieces of pork.  The pork edges were nicely flavoured, but once again seem to taste like the pork belly and soft bone.  Some parts of the pork did have a that stinky pig smell/taste to it.  The noodle itself, although not yet soggy, it wasn't chewy/crunchy at all.  The noodles also didn't have that ramen tenacity.  I'm not sure if it was because it was over cooked.  We were there around 2pm.\n",
      "\n",
      "My bf ordered the black curry.  The name is a little misleading, because there was no actual curry.  The sauces was a really dark sticky, sweet, spicy sauce.  It was thicker than terriyaki sauce and it tasted like sweet black vinegar.  If you're Chinese and you've had the pork leg and egg vinegar soup thing that women have after they give birth, it has that similar taste.  The katsu was crispy and well fried.  I personally didn't mind the sauce, but my bf found it too sweet.\n",
      "\n",
      "\n",
      "Atmospher wise...\n",
      "\n",
      "The restaurant is like your local noodle shop, it's nothing fancy and they purposely have \"customer\" comments/writings on the plastic wall.  It's cute and comfy.  The business cards are a smart design that holds your chopsticks.  \n",
      "\n",
      "The Service and the operations :\n",
      "\n",
      "I believe it's a family owned business.  It seems the mom and dad works in the back, while the daughter was serving.  We were there on a Sunday afternoon.  They do open from 11-3 and then break in between before reopening at 6 for dinner.  I'm not sure if the dinner menu is different.  \n",
      "The mum was quick to service us when we arrived.  We took our own seats as there wasn't anyone around.  She came right over to give us menus.  I believe the daughter was in the washroom at the time.  Overall service was quick and informative.  They made sure to advise us that that black curry wasn't going to need 15 mins prep, and asked if that was ok.  They ensure the tea was always filled although there were only 2 tables including ours that day.  They did seem attentive to each table's needs.\n",
      "\n",
      "Overall:\n",
      "\n",
      "I found that the snacks were better than the noodles.  I would go back for the pork belly, to try the ox tongue, and maybe to try the dessert (since we were too full) but definitely not the ramen.  The portions seem good for the value.\n",
      "\n",
      "Would I recommend it? Definitely to try the pork belly, other wise, not really.\n",
      "\n",
      "cluster  11 :\n",
      "\n",
      "I was actually a bit disappointed by my latest experience at C's. I've had better. Typically I would give it a 3-star but some of the service wasn't the greatest and my food was cold...\n",
      "\n",
      "C's is the kind of family-friendly experience that makes it a 3 to 4 star restaurant on a good day, but on this particular day, our primary server was impatient and lacked a customer-first attitude and the quality of food was lacking. However, the service for a never less then half empty coffee mug, was superb. \n",
      "\n",
      "I do love the bakery items so couldn't resist the pecan roll, but my egg sandwich with hash browns could have been better. The hash browns were cold and the croissant was dry. The bacon however, crispy, just like I requested.\n",
      "\n",
      "But, I was with my family, we were tucked in a cozy corner booth, had great conversation and due to the history of this restaurant and the many times I've been there before, it would be a place I would recommend. I guess the day I was there was just an \"off day\". That happens.\n",
      "i had the korean steak breakfast with potato salad and poached egg. \n",
      "\n",
      "smell and appearance:\n",
      "beef was really fragrant as the server brought it to my table, and the smell was very authentic reminiscent of LA Kalbi in koreatown. smell of the potato salad was appetizing too. poached egg looked perfect done.\n",
      "\n",
      "taste and texture:\n",
      "beef was overly salty and you can tell the chef had a heavy hand in the seasoning. way too salty for a breakfast. however, that being said, the texture was amazing. excellent cut choice for the beef ribs and a lot of tenderizing has been put into it. unfortunately it was the heavy hand seasoning in the korean kalbi sauce; if it was 50% less salty it would have been perfect. i was even tempted to douse it with my water, but being in polite company i declined. \n",
      "\n",
      "the heavy hand in seasoning continued to the potato salad where the salad was overpowered by too much salt in the vinaigrette. the spring onions would come in lovely if it wasn't overpowered by the heavy seasoning again. disappointing unfortunately. texture was good, potatoes was soft with a touch of firmness then hint towards the comfort food potential that an excellent brunch portends. \n",
      "\n",
      "the poached egg was well made with yolk bursting joyfully when you break it. well done.\n",
      "\n",
      "beverages:\n",
      "the cappuccino by illy was perfect. thumbs up to our barista here! \n",
      "\n",
      "restaurant philosophy: \n",
      "definitely inspiring, nothing beats a community driven, community bonding establishment that amalgamates sustainable local produce - and integrating estranged members of the community to create unique food experiences.\n",
      "\n",
      "conclusion: based on the rave reviews here, i'm willing to give it another chance. especially the steak+potato hash was intriguing. the brunch menu at fabarnak was quite different from the brunch menu online, as it was missing the anticipated miso-mushroom benny featuring poached eggs, buttermilk biscuit, ginger-sesame hollandaise.\n",
      "we came here for breakfast.  I was expecting to be blown away by the food based on the reviews but that wasn't the case.  Although the sitting area was beautiful overlooking the bellagio and passersby, my husband and I were not impressed with our selections.  He got the chicken, Brie, and apple crepe which he said was flavorless.  The crepe itself was nearly empty.  Hecalao asked for fries on the side and ended up getting potato sticks/chips so dont order fries if you're expecting regular fries. I got the three eggs breakfast and my eggs were overcooked and the hashbrowns  were nothing to rave about.  One thing that turned me off immediately and the reason for my 2 star rather than 3 star rating was the distinct eggy/dirty smell that was surrounding us even before we received our meal.  I would pass on this place on my next trip to LV.\n"
     ]
    },
    {
     "name": "stdout",
     "output_type": "stream",
     "text": [
      "\n",
      "cluster  12 :\n",
      "\n",
      "Bad value. Did cost twice as much as other pho places in town and isn't half as good. In a vacuum, it's ok. But I just cannot recommend this place considering the competition such as Saigon pho or even pho Chandler\n",
      "We are staying in an apartment in Kesington market area for our 1st visit to Toronto. After a long day of walking/sightseeing, we were looking for something quick and nearby. We stumbled upon this pho place and since it was packed, we decided to try it.\n",
      "\n",
      "I always looked at yelp prior to going to a restaurant but this time, I didn't due to not having wifi. What a big mistake!\n",
      "\n",
      "When we first walked in, they directed us to a table then nothing... We waiting around to have someone to take our orders for at least 10 min. I finally flagged someone and she was like \"u need to fill out an order form\"... Well thanks but we didn't know. So we proceeded to find the different numbers for each item and fill the order form which happens to also be the bill. Waited another 5-10 min to have someone pick that piece of paper.\n",
      "\n",
      "Pho was just ok. Nothing special. I usually have a hard time finishing large pho in California and go for a smaller bowl but today I was hungry (probably from walking 13 miles around the city) so I went for the large bowl which seemed big with the bowl but not content. \n",
      "\n",
      "During our meal, no one came to check on us or give us more tea and we had to flag two different people before being able to get our bill.\n",
      "\n",
      "Worse service ever. I feel I just wasted one of my few meals while in Toronto. Sigh. :(\n",
      "Decided to try the new spot in the hood after a good workout. It was leg day, so naturally i was feeling like some Pho. I was sweating my crumbs off so I couldn't wait to get outta my car and into some A/C and eat some food. Turns out rice paper doesn't have A/C, i guess they can't afford it, its all good i've totes been there. However, they do offer some complimentary office fans, that they will gladly point in your direction free of charge (thankfully) to help cool you off from the heat outside. Very generous of them in my opinion, they hit that one out of the ball park. My bartender was a very stable, young man, probably in his early 30's and very confident. I first asked their permission to use the bathroom, they allowed, it was rather pleasant in there, almost a bit cooler then the dining area. I pondered for a short while if they would be upset if i asked to dine in the bathroom, seeing as the ambient temperature was a bit more tolerable than the dining area. I decided they might not want me to do that, so i never asked. The happy hour was pretty much a facade in my eyes, the big banner hung up outside is rather misleading in my opinion. The prices on everything are already so extreme, that the happy hour just appears to be normal pricing anywhere else you go. A $6 vodka soda isn't really anything a place should be bragging about for their happy hour. The food happy hour was even more insulting. Buttered noddles with a mint spring for only $9.5/7.5 on HH. Gee thanks rice paper. The pho price here is hands down, the highest I have seen in my 11 years on this earth. I asked the strapping young barman if the pho comes with a complimentary Iphone 7, he oddly enough told me, no it doesn't, it just includes the bowl of pho. I ordered the firecracker shrimp, tasted great, but it nearly cost my entire life savings. I guess I just can't afford this place as much as they can't afford an air conditioning unit. I'm hoping i win this weeks powerball, because then i certainly can say I will be back and i would love to order that pho. Thank you for the good service barman, you were a considerate man.\n",
      "\n",
      "cluster  13 :\n",
      "\n",
      "Arrived just before 8pm on a Friday night. Came with my 8 year old son for a late dinner. Had to wait nearly 20 minutes for a table meanwhile they had a few tables open that I could see. The waitress promptly arrived, took our drink order and returned minutes later. We then placed our food order and went to the restroom to wash up. The ladies room smells like an outhouse. No joke. So gross. So, back to waiting for our food. It took quite a while. Long enough to deter me from coming back. When you're hungry, it's hard to be patient and I realize it isn't a fast food establishment. But when you're hungry, you're hungry. I ordered a medium well steak and fries and little man ordered chicken fingers and fries. Took a total of 25 minutes to arrive. My steak was a bit warmer than room temperature. Not impressed, again. Fries were hot so it was just poor timing by be kitchen staff. Food was flavourful. Steak was fairly tender but still too pink in the center for my liking. Will probably return one day but wouldn't be my first choice.\n",
      "Tonight my partner and i decided to give this place a try. \n",
      "We went in around 7:45 and there was only about 5 tables seated in the entire restaurant. \n",
      "\n",
      "Because of how empty the place was, it made for an awkward night because everyone could hear everyone's conversations. \n",
      "\n",
      "I was craving a steak so i thought the Rib eye ($32) would be a good choice. It came with a side of sauteed vegetables and purple mashed potatoes. \n",
      "\n",
      "I was extremely disappointed when my meal arrived. It was extremely fatty and tasteless. I was looking for a steak to melt in my mouth and this just did not make the cut by any means. Drizzled across the top (mostly side of steak) was this horrific sauce that i can't even begin to say how horrible it was. When i tasted it, i honestly gagged and quickly washed my mouth with a gulp of soda. \n",
      "\n",
      "I then moved onto the vegetables which were disgusting. They were practically rubber and had ZERO flavor once again.\n",
      "\n",
      "I enjoyed the mashed potatoes and the complimentary pretzel bread.\n",
      "\n",
      "Our server, Leah, was absolutely amazing. She had a great personality and she was fun to talk with. She had all the characteristics of a perfect server. She handled the situation of my awful steak by taking it off the tab. \n",
      "\n",
      "I am pretty sure the manager was hibernating in his office and he was reluctant to greet our table even after the awful steak was served. He also had zero interaction with any table through out our whole stay.\n",
      "\n",
      "\n",
      "Besides the lousy music and awful tasting steak, the rest of our night was great. Our server handled the situation perfectly and she was great. \n",
      "\n",
      "Will i be back? \n",
      "Not a chance.\n",
      "(9:00 pm) They were out of prime rib, so I settled for rib eye steak (12oz). First one was tough, so  the waiter brought another. It was not much better. \n",
      "Asparagus was steamed and small stalks. They were good, but needed something to boost the flavor.\n",
      "Waiter was good and worth the tip.\n",
      "Suggestion: Prime Rib order early evening, Rib eye, don't order. It's a crap shoot at longhorn steak. Asparagus if you like it. Also, order it early evening, they run out of lemon sauce for it.\n",
      "Longhorn is now trying to compete with Outback for the worst steaks.\n",
      "\n",
      "cluster  14 :\n",
      "\n",
      "Fazit ( ausnahmsweise zuerst, weil schwerwiegend ) : Nie wieder!!!\n",
      "\n",
      "\n",
      " Wir wollten uns mit unserer kleinen Familie mal ein schönes griechisches Essen gönnen und waren voller Vorfreude denn wir gingen davon aus, daß es sich um ein hervorragendes Restaurant handelt, es wurde schließlich angebaut und aufgestockt, was uns vermuten ließ, daß dies aufgrund der hohen Nachfrage erforderlich war. Dies war jedoch aus unserer Sicht weit gefehlt!\n",
      "Das Warten auf das Essen haben wir schon deutlich kürzer erlebt und scheinbar sind auch gute Bekannte des Wirts, trotz späterer Bestellung früher dran als \"schnöde Neukunden\" wie wir. Naja manche haben halt Neukunden nicht nötig! Aber selbst ohne diese Verzögerung wäre das Warten trotzdem länger als üblich gewesen.\n",
      "Das Essen: Die in der Vorspeise angekündigten Pepperoni in Knoblauchöl entpuppten sich als süße grüne Paprika in einer Konsistenz von frisch gekochten Salatblättern. Es wurden auch keine der Sonderwünsche beachtet - nicht einmal so \"gewöhnliche\" wie Pommes statt Reis. Außergewöhnlich: Es gibt Universalfleisch ( hat auch nicht jeder ) welches sich sowohl für Suflaki als auch Kinderschnitzel eignet- leider jedoch in beiden Fällen auch trocken und steinhart war. Das Bifteki war zwar nicht hart aber ebenso trocken ( Vielleicht sollte man den 95%igen Brötchenanteil mal überdenken ) Das Gyros war dafür nicht so trocken jeoch nur weil der Fettanteil ungewöhnlich hoch war. Die Teller wurden nicht leer. Es gab zwar eine ausreichende Menge, jedoch lag der Grund eher am Gefallen des Essens selbst.\n",
      "Unser Sohn musste, trotz dreier Nachfragen, sage und schreibe eine halbe Stunde auf sein 2. Getränk warten.\n",
      "Auf die Rechnung mussten wir zum Glück \"nur\" 20 Minuten warten.\n",
      "Erlebniswert: Nicht empfehlenswert.\n",
      "Wiederholungsgefahr: 0, nichts bis absolut unwahrscheinlich.\n",
      "NIE WIEDER!\n",
      "Wir wollten mal gut essen gehen. Ja der Grieche in der Bremervörder Str. da gehen sie alle hin der soll ganz toll sein. Na ja, so war er nun wirklich:\n",
      "Ambiente: Aus meiner Sicht für einen grichen absolut langweiliges Ambiente. An unserem Tisch hing ein Bild von einem italienischen Sportwagens, was soll das bloß bei einem Griechen?\n",
      "Service: Die Bedienung schenkte uns nicht mal eine Begrüßung.\n",
      "Brot: Brot gab es keines, auf Nachfrage nachdem Essen wurde uns mitgeteilt, dass man es vergessen hätte.\n",
      "Vorspeise: Gab es einen gemischten Salat mit Krautsalat. Die Mischung von dem Saft des Krautsalates mit dem Dressing des restlichen Salates hat mich wenig begeistert.\n",
      "Service: Die Teller der Vorspeise hatten wir schon mal zum Abräumen an den Rand gestellt. Sechs mal lief eine Bedienung an uns vorbei ohne die Teller mitzunehmen. Auch als das Essen (Gyros) kam, ließ man die Teller stehen. Erst auf deutliche Aufforderung von mir wurden diese abserviert.\n",
      "Hauptgericht: Wir hatten drei mal Gyros bestellt, meine Portion war die kleinste, obgleich ich nur Gyros und Pommes bestellt hatte. Die anderen Teller waren voller, obgleich da noch Sauce mit drauf war. Bei der Sauce handelte es sich um einen kleinen Klecks, so das wir gleich welche nachbestellten für nur günstige EUR 3,90, :)) wo man anderswo gleich eine vernünftige Portion zum Essen dazu erhält. Das Gyros / Fleisch war meiner Meinung nach durchschnittlich. Die Pommes waren ungenießbar erstmal waren es viele kleine Krümelpommes und zweitens, waren diese trocken und zu lange erhitzt worden. Die Pommes gingen bei uns  zwei Portionen (die andere Portion war mit Reis) zu 90% zurück. So schlechte Pommes habe ich noch nirgends nicht mal im Imbiss serviert bekommen!\n",
      "Service: Meine Kritik teilte ich dann dem Service mit, die es damit begründete, dass an dem Sonntag so viel zu tun sei.\n",
      "Rechnung: Die Rechnung kam dann in voller Höhe, die Preise durchschnittlich am Markt gemessen, gemessen an Service und qualität des Essens meiner Meinung nach völlig überteuert!\n",
      "Fazit: Werden nicht wieder hingehen. Wenn Service und Qualität angeblich mit steigender Besucherzahl abnimmt, geben wir unser Geld lieber anderweitig aus.\n",
      "Alternativen: Waren vor längerer Zeit mal bei dem Griechen in der Innenstadt von Stade, den fand ich deutlich besser. Wer in ein gutes Restaurant mit freundlichem Service mal gehen möchte, sollte mal den Itialiener in Agahtenburg ausprobieren, den fand ich gut Service, Ambiente und Essen waren nicht zu beanstanden.\n",
      "Allgemein\n",
      "Wir waren schon öfters im Hexenturm und sonst waren wir ganz zufrieden, da das Restaurant eine gemütliche Atmosphäre verbreitet. Der Service war nie wirklich freundlich, heute war der Service jedoch unterirdisch. Mein Steak war noch fast roh und definitv nicht medium. Das Steak ging offensichtlich aus der Pfanne direkt aufs Teller, der Koch hat es wohl nicht ziehen lassen. Das darf nicht passieren. Eine Entschuldigung gab es nicht, sondern wir wurden fortan ignoriert. Der Hexenturm liegt offenbar  mitten in der Dienstleistungswüste. Insgesamt ist der Hexenturm nicht zu empfehlen.\n",
      "Bedienung\n",
      "die Bedienungen waren sehr mürrisch und unfreundlich. Mein Steak war nicht medium, sondern fast noch roh. Als ich dies bemängelte, war die Reaktion der Bedienung folgende: \"ich kenn mich damit überhaupt net aus, wie das aussehen soll.\" Sie den Teller wortlos mit und mein angeschnittenes Steak kam nachgebessert zurück ohne Entschuldigung, ohne kleines Entgegenkommen wie ein Espresso auf's Haus. Ganz im Gegenteil wir wurden mit Verachtung gestraft und nicht einmal verabschiedet. Der Service war unterirdisch.\n",
      "Das Essen\n",
      "Das Essen war im Großen und Ganzen ok, allerdings war mein Steak fast noch roh, was einfach gar nicht geht. Es war nur scharf angebraten aber dann hat es der Koch offenbar nicht bei schwacher Hitze ziehen lassen. Also Steak ist nicht zu empfehlen!\n",
      "Das Ambiente\n",
      "Der Gastraum wirkt durch die schönen Holzwände sehr gemütlich.\n",
      "Sauberkeit\n",
      "Keine Beanstandungen.\n"
     ]
    },
    {
     "name": "stdout",
     "output_type": "stream",
     "text": [
      "\n",
      "cluster  15 :\n",
      "\n",
      "Mom's out of town for Thanksgiving so what do two grown men do???  They go out to eat!  This choice brought us to Ben & Jacks in Old Town.  I've eaten at Peter Luger's in New York but never one of Ben & Jacks spin-offs so I was excited to try it.  \n",
      "\n",
      "The dinner started off at the bar for a cocktail.  Guinness on draft is always a good idea but in a 10oz glass doesn't quite seem right.  The Stoli and Tonic I ordered was great but again the glassware made for a short pour. When the check came, almost 22 dollars for the beer and cocktail.  I don't care how high-end you are, that's absurd pricing.   \n",
      "\n",
      "Continuing on with our drink pricing fiasco we were moved from the bar to our table where we ordered a bottle of Panna for our flat water...Always a good choice when a restaurant serves it, but as we came to find when the check came, 10 dollars was the going price for that liter of water. Did I mention the word absurd?!?  I don't know if they are trying to recoup all of their start up fees in 2 weeks but at this pace they just might!   Moving on to the wine choice, it  seemed to be a little bit more reasonable as we saw a bottle of the Raymond Cabernet priced at 18 dollars a glass which would have ideally put the bottle at about 70 dollars, I say ideally because the wine list at the bar didn't have a price by the bottle for that wine ...I thought nothing of it but was definitely ready to try it and get some food in our tummies.... Things looked like they were looking up!\n",
      "\n",
      "\n",
      "We then moved to the table promptly after drinks and were met by our server.  No specials given outside of the Thanksgiving Day Pre-Fix menu so we just ordered off the menu.  Dad started with the Oysters on the Half Shell ($13.95.  Great flavor and plenty of horseradish and cocktail sauce to season! I wasn't so luck with my Baked Clams($13.95).  These little neck clams were 6 to the plate and just that....LITTLE!  While the flavor was decent, the portion could definitely use an adjustment. I also found it a tad overwhelming that the server moved my clams from one plate to the other and then seasoned with the extra white wine reduction.  Maybe it's just me, but I don't like being served like that. Sprinkle some pepper, grate some cheese but no touching the food...\n",
      "\n",
      "Well now to dinner, and good thing I was still hungry after the appetizers because the Prime Ribeye($45.95) I ordered  was massive.  The bone-in rib eye was done perfectly medium with a Gorgonzola reduction I requested on the side.  Dad got the same with some sort of Au Jus... His ordered Medium Rare and again perfectly done.  As a side we shared the German Potatoes(13.95) Kind of pricey for a side but good overall flavor.  \n",
      "\n",
      "After the meal absolutely no room to try a dessert so we asked for the check.  When it came I opened it and almost gave back all my food.  Not for pricing of the steaks but the pricing on the water and the wine.  The Raymond Cabernet came out at $90.  I don't know who is doing the math in the accounting office but  you're definitely in line for a raise! \n",
      "\n",
      "Long and the short of it...steaks were phenomenal, Antonio the server was great but everything else was mediocre at best.  Too many staff members running around and seemed like a lot of disorganization.\n",
      "\n",
      "cluster  16 :\n",
      "\n",
      "When it comes to Las Vegas, one of the attractions is a gluttonous dinner at a casino buffet. Las Vegas is famously known for its buffets. When I was in Vegas years ago, I remember the glorious Caesar's Palace buffet that my family and I ate at, so I was kind of excited to find out that we got a free buffet at the MGM Grand. Sadly, the only saving grace to this buffet was that it came with our hotel room. To any visitors looking for a buffet experience, I HIGHLY recommend that you avoid this place at all cost. I would recommend eating dropped table scraps from the MGM food court before eating at this place... yes it is that bad!\n",
      "\n",
      "The service was pretty standard when it comes to service at any buffet. Waiter comes in and takes your drink order then you go to town on the food selection. I ended up eating some crab legs, and roast beef at my MGM buffet experience. The crab legs were very tasteless... almost like these legs were thawed from a frozen pack of pre-cooked crab legs that one can buy at their local super market. The texture of the legs was very dry and stringy. One would expect food of this quality at dormitory cafeteria buffet at any University on Tuesday nights, let alone, at Las Vegas. Not tasty at all. The roast beef was so-so. The slices were pretty small, and that beef itself was way overcooked, which lead to the meat being tough. It was a step above dormitory cafeteria food, but also a several steps below an average Golden Corral.\n",
      "\n",
      "The desserts were better. Its like the typical desserts that you will find at any buffet, such as the self serve ice cream, premade cakes, cookies and such. But then you would expect desserts of this quality at a generic buffet, not at a Las Vegas resort and casino. If you are staying at the MGM Grand and received a free MGM buffet voucher, then by all means, eat the free food. If the only buffet experience that you have ever had was at your undergrad dorm cafeteria, a hospital buffet or at a friend's dumpster eating 3 week old Thanksgiving left overs, then this might be your place to eat, however you will get more bang for your buck at the McDonalds food court on the other side of the building. Otherwise, stay away!!!!!!!\n",
      "This was VERY VERY DISAPPOINTING!!!! \n",
      "\n",
      "This was my first visit to Red Lobster. I had two visitors from Europe staying at my house, and they wanted sea food. I called ahead for a 6:30PM table; we showed up at 6:29PM only to be seated at 6:39PM... \n",
      "\n",
      "Our waiter never introduced himself; he didn't ask \"is this your first visit to Red Lobster?\" nor did he welcome us to Red Lobster. He never told us the daily specials.. \n",
      "\n",
      "We got our drink orders in, got our beers - and then we were left waiting for 20 minutes before our waiter came back to take our order. My guests both ordered the full \"New Orleans Salmon\". One plate came out with only a 5oz piece of fish.... I ordered a sirloin and a lobster tail. \n",
      "\n",
      " The sirloin was OK, but why not offer tenderloin..?! Also: what seafood restaurant doesn't offer Béarnaise sauce..?!! The lobster tail was a SAD SAD story! It was a total of 4 bites of lobster. I also ordered a side Lobster Mashed Potatoes which was TERRIBLE! \n",
      "\n",
      "Compared to Maestro's City Hall or Steak 44 which are great restaurants in Phoenix, this was like bad cafeteria food! The Lobster Mash was drenched in butter, and I could only eat one bite. \n",
      "\n",
      "At no point during our visit did our waiter come and ask how our food was. 2 of us ran out of beer, and it took our waiter 25 minutes(!) to return to our table to ask if we needed \"anything else\" - at which point we ordered 2 more beers, which took 5 minutes to arrive. \n",
      "\n",
      "When cleaning off the table our waiter noticed my untouched serving of \"Lobster Mashed Potatoes\" aka melted butter with mashed-up potatoes and some lobster pieces, and asked if I wanted something else ... to go with my empty plate...?!?!?! \n",
      "\n",
      "At no point during our visit did a restaurant manager stop by to check on us to see how we were doing, to welcome us, not to thank us... I am sad that I took my European visitors to Red Lobster; I'm embarrassed!!! \n",
      "\n",
      "For me dining is not about price but about quality,and this was the WORST value-for-money I have ever experienced\n",
      "Several thoughts after dining at Liverpool House because I could not get a reservation at Joe Beef:\n",
      "\n",
      "- It was your typical Saturday evening for a popular restaurant such as this; busy crowd of people looking for a good dinner in nice setting.  I had come to the Liverpool House with my companion after not being able to get a reservation/drop in spot at the bar at Joe Beef next door.  We were recommended by the Joe Beef hostess to try Liverpool House since they do not accept reservations.  \n",
      "\n",
      "- After walking into Liverpool House the man responsible for greeting and seating guests was kind enough to find seating for my companion and myself within 10 minutes after first questioning why we didn't have a reservation.  We were told we would need to order, eat and be out within the hour becuase the table was needed for a reservation, although, as the our time at Liverpool House dragged on it was 40 minutes before our waiter even took our order and there seemed to be multiple tables opening up all ove the restaurant.  (I still have not been able to get a straight answer from anyone working at Liverpool House whether reservations are accepted or required) \n",
      "\n",
      "- My companion and I ordered wine and beers by the glass.  The options are not abundant but they are unique.  There is an extensive list of wines if you choose to order it by the bottle but I would have liked to see some additional beer selections across a broader spectrum since those offered by Liverpool House were reasonably similar in taste.\n",
      "\n",
      "- The menu is written on a chalk board, paper menus are not provided.  You are expected to make your selections from here which can cause for an awkward moment when you will be standing next to one of the tables that sit directly under them.  Do not be surprised if you receive some annoyed stares from the patrons sitting at these tables if you need to hover near them as you read the menu.\n",
      "\n",
      "- My companion and I were seated in a position that was obstructed from viewing the menu options.  I have a reasonable grasp of French and am able to get by quite well, especially at a restaurant, but my companion did not speak the language.  Consequently, I was able to read the majority of the menu offerings but we had also asked the waiter for his recommendations after having told him which menu options we had been considering.  Instead of the menu options we picked out he suggested we order the lamb, a Liverpool House speciality, instead of ordering 2-3 plates to share between us.  The lamb was NOT listed on the menu under the \"Plates\" portion of the menu but we decided to take his recommendation as well as oder the tomato salad as an appatizer. \n",
      "\n",
      "-  The tomato salad was just as good as some of the best I have ever had.  The lamb was expertly prepared and the accompanying sides of steamed seasonal vegetables were equally as good.  All of the ingredients seemed fresh.  \n",
      "\n",
      "- I will admit, the lamb was HUGE.  There was enough meat to easily feed hungry 3-4 people, far more than the serving for two it is advertised as and we were lucky to have eaten half of this.  We had wished that our waiter had accurately described just how much meat would be part of the meal becuase we would have stuck with our original plate selections.\n",
      "\n",
      "- My less than stellar rating comes from the service provide by our waiter.  After seeing the size of our meal we had the discomforting feeling of having been upsold on the lamb and that our waiter had taken advantage of my less than perfect masterly of the French langugae and my companions complete lack of knowledge of the langugae.   When we told him this we during our meal he protested in the middle of the restaurant trying to justify his suggestion as being no different in size or cost than us having ordered two plates; one each.  \n",
      "\n",
      "For us, the cost was not the issue, more rather tha we felt he took advantage tof the lanuage barrier to upsell us on the most expensive menu offering that was clearly too large for the two of us.  Further, the lamb was listed under the Desserts on the menu, far away from the listing of Plates where we had been looking - which had been communicated to him.  We both found his behaviour to be both awkward and rude as he continued to protest and argue while patrons from other tables began to stare, making for a more than awkward remainder of the meal until oour eventual exit from the restaurant. \n",
      "\n",
      "Final thoughts; the food was excellent but the service of our waiter was terrible making for a sour note on the evening and will discourage me from ever returning to Liverpool House.  I will plan to share my experience with my friends and others in the hope that they will take note and either avoid Liverpool House or be better prepared.\n"
     ]
    },
    {
     "name": "stdout",
     "output_type": "stream",
     "text": [
      "\n",
      "cluster  17 :\n",
      "\n",
      "There are many great choices for Italian in Las Vegas.  I probably won't be coming back here.\n",
      "\n",
      "The antipasto tray was nice.  I thought the wine  list was a little pricey.  I am not enough of a wine aficionado to wash my $20 plate of pasta down with $75+ worth of wine.\n",
      "\n",
      "Salads were very good.  I had the arugula salad and my husband had the tricolore salad. Unfortunately, it only set us up for disapppointment with our entrees.\n",
      "\n",
      "My husband's lasagna was decent -- I snuck a bite. and lasagna is one of my all-time favorite foods.  However, my risotto primavera was shockingly mediocre.  The \"primavera\" consisted of peas and cubed carrots, and the sauce was quite bland.  The dish was eerily similar to the Lipton Rice 'n Sauce mix  I make when I am out of ideas of what to serve as a side dish at home.\n",
      "\n",
      "The service was not up to par, either.  The wait time  between courses was not paced weil.  Our server put our check on the table before she asked us if we wanted dessert or coffee.  I later saw the restaurant manager scolding her.\n",
      "\n",
      "If you want upscale, delicious food in this part of town, go to Rosemary's.\n",
      "Third time's NOT a charm!  We have eaten here three times and it was only busy the second time we were there. First time we were there we ordered cooked entrees and it was pretty good.  Price seemed reasonable even with a bottle of wine. Second time we ordered specialty rolls and beer.  Again, reasonable and tasted good. However, our experience this last time (Monday night) was really bad.  We decided to just have a couple of glasses of wine instead of a bottle.  They were out of our first choice which left only a more expensive option by the glass.  It wouldn't have been that big of a deal except when she delivered the wine the glasses were only about 1/3 full.  And the glasses were already small.  My guess is that the glasses were 8 oz. in size and there was about 2.5 oz of wine in them!  I'm accustomed to a more generous pour, so we challenged our server.  She said that it was a half of a glass and it was what they normally pour. This was $10 a glass!  We were really unhappy but sucked it up because we were hungry.  The tempura was good, but the yellowtail lovers roll was chewy.  We also ordered mackerel sashimi which we hadn't tried here yet but we normally love when we've had it elsewhere. In a word, it was AWFUL!  My guess is that it was stale and they had to cover it up with some funky sauce.  We couldn't finish it because it was so bad.  We asked for the manager but we were told he wasn't there.  We asked for consideration because of the bad experience but the server wasn't interested in helping us at all.  Our bill was $50+ and we left hungry. Never going back.\n",
      "Food **** Service *, net score **\n",
      "\n",
      "We sat at our nice table in the corner right on time (yay)... Was greeted very nicely by bus-staff and told that our waiter will be right with us (yay)... \n",
      "Another bus-staff came up to us to offer us sparkling water (yay)... \"Are you our waiter?\" uh no... ok... where is our waiter.. uh... uh... uh... ok 10-minutes, no bread, no waiter, nuttin honey....\n",
      "\n",
      "We a man in a suit for the manager and guess what ... he gets our waiter??? Hey, we asked for the manager stupid! So I asked our waiter to get the manager... out he comes.... yes sir, we're terribly sorry... I'll make sure he comes right out.. uh no, you're missing the point.. he's obviously got too many tables, put someone else on the job... sorry sir but we cannot... ugh FML...\n",
      "\n",
      "So waiter asks for our app order, we tell him we are in NO hurry.. and that we would like to see the wine list and the sommelier... the sommelier gives us his recommendations and we order an nice Barolo and wait... now the apps are out... where's our wine??? UGH... really.... food now and no wine..\n",
      "\n",
      "The food however, was really nice, the apps were great, loved the beef cheek ravioli, and the goat cheese tortelloni was - uh wait, it didn't arrive, cuz the great server we had FORGOT IT. My wife really just wanted to eat a couple of apps, and now her meal was well.. gone poof...\n",
      "\n",
      "Uh, Mr Manager... yes sir, we're terribly sorry, we'll get it out for you... \n",
      "\n",
      "$55 Veal chop arrives but not the side... hello? Mr Manager... oh the med rare veal chop was well... rare at best, but I was tired of complaining...\n",
      "\n",
      "THey comped much of the meal and apologized profusely\n"
     ]
    }
   ],
   "source": [
    "for i in range(18):\n",
    "    cond = 'prediction = '+str(i)\n",
    "    example = train_with_cl.filter(cond).select('text').take(3)\n",
    "    \n",
    "    print('\\ncluster ', i, ':\\n')\n",
    "    for row in example:\n",
    "        print(row['text'])"
   ]
  },
  {
   "cell_type": "code",
   "execution_count": 80,
   "metadata": {},
   "outputs": [],
   "source": [
    "guess = spark.read.json('guess.json')"
   ]
  },
  {
   "cell_type": "code",
   "execution_count": 83,
   "metadata": {},
   "outputs": [],
   "source": [
    "guess_tok = data_tokenizer(guess)"
   ]
  },
  {
   "cell_type": "code",
   "execution_count": 84,
   "metadata": {},
   "outputs": [],
   "source": [
    "guess_cl = pipe_idf_model.transform(guess_tok)"
   ]
  },
  {
   "cell_type": "code",
   "execution_count": 87,
   "metadata": {},
   "outputs": [
    {
     "data": {
      "text/plain": [
       "[Row(text='clean, clean, worse food, bad, no kids menu, toilet, dirty floordont  like rice beans ', prediction=1),\n",
       " Row(text='rude very noisy rude waitress, bad experience', prediction=1),\n",
       " Row(text='wait time waiting drink descent pizza, bread and butter burger', prediction=1),\n",
       " Row(text='pricey pricey overpriced wine pricey pricey pricey pricey pricey', prediction=1),\n",
       " Row(text='burger burger burger burger burger ', prediction=8),\n",
       " Row(text='order here newer come back dont get my order', prediction=1),\n",
       " Row(text='really mean soup sushi pho taste bad', prediction=1),\n",
       " Row(text='steak was overcooked', prediction=1),\n",
       " Row(text='steak was under cooked I ordered well done', prediction=1),\n",
       " Row(text='cheese was amful all other food was ok, ', prediction=1),\n",
       " Row(text='no kids menu, no highchairs', prediction=1),\n",
       " Row(text='not pay attention on us', prediction=1),\n",
       " Row(text='wait wait wait wait wait ', prediction=1),\n",
       " Row(text='noise noise noise ', prediction=1),\n",
       " Row(text='dirty dirty dirty dirty dirty dirty dirty ', prediction=1),\n",
       " Row(text='absurdabsurd absurd absurd absurd', prediction=1),\n",
       " Row(text='bad smell worse smell smell smell smell', prediction=1),\n",
       " Row(text='cant brew tea tea tea tea ', prediction=1),\n",
       " Row(text='pea pea pea pea pea ', prediction=1),\n",
       " Row(text='mediocre mediocre think it good, bad it worsen all over time', prediction=1),\n",
       " Row(text='burger salad burger burger burger fri fri fri ', prediction=8),\n",
       " Row(text='no food for vegan no food for vegetarian', prediction=1),\n",
       " Row(text='meat was good but vegetables was bad newer come back', prediction=1)]"
      ]
     },
     "execution_count": 87,
     "metadata": {},
     "output_type": "execute_result"
    }
   ],
   "source": [
    "guess_cl.select('text', 'prediction').take(23)"
   ]
  },
  {
   "cell_type": "code",
   "execution_count": null,
   "metadata": {},
   "outputs": [],
   "source": []
  }
 ],
 "metadata": {
  "kernelspec": {
   "display_name": "Python 3",
   "language": "python",
   "name": "python3"
  },
  "language_info": {
   "codemirror_mode": {
    "name": "ipython",
    "version": 3
   },
   "file_extension": ".py",
   "mimetype": "text/x-python",
   "name": "python",
   "nbconvert_exporter": "python",
   "pygments_lexer": "ipython3",
   "version": "3.6.5"
  }
 },
 "nbformat": 4,
 "nbformat_minor": 2
}
