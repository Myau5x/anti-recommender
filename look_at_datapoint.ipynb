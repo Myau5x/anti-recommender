{
 "cells": [
  {
   "cell_type": "code",
   "execution_count": 1,
   "metadata": {},
   "outputs": [],
   "source": [
    "import pandas as pd"
   ]
  },
  {
   "cell_type": "code",
   "execution_count": 2,
   "metadata": {},
   "outputs": [],
   "source": [
    "import numpy as np\n",
    "from bs4 import BeautifulSoup\n",
    "import requests"
   ]
  },
  {
   "cell_type": "code",
   "execution_count": 5,
   "metadata": {},
   "outputs": [],
   "source": [
    "import json"
   ]
  },
  {
   "cell_type": "code",
   "execution_count": 20,
   "metadata": {},
   "outputs": [],
   "source": [
    "dic = json.load(open('test.json'))"
   ]
  },
  {
   "cell_type": "code",
   "execution_count": 22,
   "metadata": {},
   "outputs": [
    {
     "data": {
      "text/plain": [
       "dict_keys(['businesses', 'total', 'region'])"
      ]
     },
     "execution_count": 22,
     "metadata": {},
     "output_type": "execute_result"
    }
   ],
   "source": [
    "dic.keys()"
   ]
  },
  {
   "cell_type": "code",
   "execution_count": 23,
   "metadata": {},
   "outputs": [
    {
     "data": {
      "text/plain": [
       "dict_keys(['id', 'alias', 'name', 'image_url', 'is_closed', 'url', 'review_count', 'categories', 'rating', 'coordinates', 'transactions', 'price', 'location', 'phone', 'display_phone', 'distance'])"
      ]
     },
     "execution_count": 23,
     "metadata": {},
     "output_type": "execute_result"
    }
   ],
   "source": [
    "dic['businesses'][0].keys()"
   ]
  },
  {
   "cell_type": "code",
   "execution_count": 24,
   "metadata": {},
   "outputs": [],
   "source": [
    "df_test = pd.DataFrame(dic['businesses'])"
   ]
  },
  {
   "cell_type": "code",
   "execution_count": 28,
   "metadata": {},
   "outputs": [
    {
     "data": {
      "text/html": [
       "<div>\n",
       "<style scoped>\n",
       "    .dataframe tbody tr th:only-of-type {\n",
       "        vertical-align: middle;\n",
       "    }\n",
       "\n",
       "    .dataframe tbody tr th {\n",
       "        vertical-align: top;\n",
       "    }\n",
       "\n",
       "    .dataframe thead th {\n",
       "        text-align: right;\n",
       "    }\n",
       "</style>\n",
       "<table border=\"1\" class=\"dataframe\">\n",
       "  <thead>\n",
       "    <tr style=\"text-align: right;\">\n",
       "      <th></th>\n",
       "      <th>0</th>\n",
       "      <th>1</th>\n",
       "      <th>2</th>\n",
       "    </tr>\n",
       "  </thead>\n",
       "  <tbody>\n",
       "    <tr>\n",
       "      <th>alias</th>\n",
       "      <td>molinari-delicatessen-san-francisco</td>\n",
       "      <td>deli-board-san-francisco</td>\n",
       "      <td>5th-avenue-deli-and-market-san-francisco</td>\n",
       "    </tr>\n",
       "    <tr>\n",
       "      <th>categories</th>\n",
       "      <td>[{'alias': 'delis', 'title': 'Delis'}]</td>\n",
       "      <td>[{'alias': 'delis', 'title': 'Delis'}, {'alias...</td>\n",
       "      <td>[{'alias': 'delis', 'title': 'Delis'}, {'alias...</td>\n",
       "    </tr>\n",
       "    <tr>\n",
       "      <th>coordinates</th>\n",
       "      <td>{'latitude': 37.79838, 'longitude': -122.40782}</td>\n",
       "      <td>{'latitude': 37.7776247966103, 'longitude': -1...</td>\n",
       "      <td>{'latitude': 37.79553, 'longitude': -122.39623}</td>\n",
       "    </tr>\n",
       "    <tr>\n",
       "      <th>display_phone</th>\n",
       "      <td>(415) 421-2337</td>\n",
       "      <td>(415) 552-7687</td>\n",
       "      <td>(415) 757-0950</td>\n",
       "    </tr>\n",
       "    <tr>\n",
       "      <th>distance</th>\n",
       "      <td>1454</td>\n",
       "      <td>1201.01</td>\n",
       "      <td>1005.12</td>\n",
       "    </tr>\n",
       "    <tr>\n",
       "      <th>id</th>\n",
       "      <td>FmGF1B-Rpsjq1f5b56qMwg</td>\n",
       "      <td>BcW0vRdM8N-rteR2FfV1jg</td>\n",
       "      <td>0mZeR3TwxmZGLCxzcf620A</td>\n",
       "    </tr>\n",
       "    <tr>\n",
       "      <th>image_url</th>\n",
       "      <td>https://s3-media1.fl.yelpcdn.com/bphoto/H_vQ3E...</td>\n",
       "      <td>https://s3-media4.fl.yelpcdn.com/bphoto/wA6jJV...</td>\n",
       "      <td>https://s3-media2.fl.yelpcdn.com/bphoto/kCw-46...</td>\n",
       "    </tr>\n",
       "    <tr>\n",
       "      <th>is_closed</th>\n",
       "      <td>False</td>\n",
       "      <td>False</td>\n",
       "      <td>False</td>\n",
       "    </tr>\n",
       "    <tr>\n",
       "      <th>location</th>\n",
       "      <td>{'address1': '373 Columbus Ave', 'address2': '...</td>\n",
       "      <td>{'address1': '1058 Folsom St', 'address2': '',...</td>\n",
       "      <td>{'address1': '4 Embarcadero Ctr', 'address2': ...</td>\n",
       "    </tr>\n",
       "    <tr>\n",
       "      <th>name</th>\n",
       "      <td>Molinari Delicatessen</td>\n",
       "      <td>Deli Board</td>\n",
       "      <td>5th Avenue Deli &amp; Market</td>\n",
       "    </tr>\n",
       "    <tr>\n",
       "      <th>phone</th>\n",
       "      <td>+14154212337</td>\n",
       "      <td>+14155527687</td>\n",
       "      <td>+14157570950</td>\n",
       "    </tr>\n",
       "    <tr>\n",
       "      <th>price</th>\n",
       "      <td>$$</td>\n",
       "      <td>$$</td>\n",
       "      <td>$</td>\n",
       "    </tr>\n",
       "    <tr>\n",
       "      <th>rating</th>\n",
       "      <td>4.5</td>\n",
       "      <td>4.5</td>\n",
       "      <td>4.5</td>\n",
       "    </tr>\n",
       "    <tr>\n",
       "      <th>review_count</th>\n",
       "      <td>1018</td>\n",
       "      <td>1167</td>\n",
       "      <td>29</td>\n",
       "    </tr>\n",
       "    <tr>\n",
       "      <th>transactions</th>\n",
       "      <td>[delivery, pickup]</td>\n",
       "      <td>[]</td>\n",
       "      <td>[pickup]</td>\n",
       "    </tr>\n",
       "    <tr>\n",
       "      <th>url</th>\n",
       "      <td>https://www.yelp.com/biz/molinari-delicatessen...</td>\n",
       "      <td>https://www.yelp.com/biz/deli-board-san-franci...</td>\n",
       "      <td>https://www.yelp.com/biz/5th-avenue-deli-and-m...</td>\n",
       "    </tr>\n",
       "  </tbody>\n",
       "</table>\n",
       "</div>"
      ],
      "text/plain": [
       "                                                               0  \\\n",
       "alias                        molinari-delicatessen-san-francisco   \n",
       "categories                [{'alias': 'delis', 'title': 'Delis'}]   \n",
       "coordinates      {'latitude': 37.79838, 'longitude': -122.40782}   \n",
       "display_phone                                     (415) 421-2337   \n",
       "distance                                                    1454   \n",
       "id                                        FmGF1B-Rpsjq1f5b56qMwg   \n",
       "image_url      https://s3-media1.fl.yelpcdn.com/bphoto/H_vQ3E...   \n",
       "is_closed                                                  False   \n",
       "location       {'address1': '373 Columbus Ave', 'address2': '...   \n",
       "name                                       Molinari Delicatessen   \n",
       "phone                                               +14154212337   \n",
       "price                                                         $$   \n",
       "rating                                                       4.5   \n",
       "review_count                                                1018   \n",
       "transactions                                  [delivery, pickup]   \n",
       "url            https://www.yelp.com/biz/molinari-delicatessen...   \n",
       "\n",
       "                                                               1  \\\n",
       "alias                                   deli-board-san-francisco   \n",
       "categories     [{'alias': 'delis', 'title': 'Delis'}, {'alias...   \n",
       "coordinates    {'latitude': 37.7776247966103, 'longitude': -1...   \n",
       "display_phone                                     (415) 552-7687   \n",
       "distance                                                 1201.01   \n",
       "id                                        BcW0vRdM8N-rteR2FfV1jg   \n",
       "image_url      https://s3-media4.fl.yelpcdn.com/bphoto/wA6jJV...   \n",
       "is_closed                                                  False   \n",
       "location       {'address1': '1058 Folsom St', 'address2': '',...   \n",
       "name                                                  Deli Board   \n",
       "phone                                               +14155527687   \n",
       "price                                                         $$   \n",
       "rating                                                       4.5   \n",
       "review_count                                                1167   \n",
       "transactions                                                  []   \n",
       "url            https://www.yelp.com/biz/deli-board-san-franci...   \n",
       "\n",
       "                                                               2  \n",
       "alias                   5th-avenue-deli-and-market-san-francisco  \n",
       "categories     [{'alias': 'delis', 'title': 'Delis'}, {'alias...  \n",
       "coordinates      {'latitude': 37.79553, 'longitude': -122.39623}  \n",
       "display_phone                                     (415) 757-0950  \n",
       "distance                                                 1005.12  \n",
       "id                                        0mZeR3TwxmZGLCxzcf620A  \n",
       "image_url      https://s3-media2.fl.yelpcdn.com/bphoto/kCw-46...  \n",
       "is_closed                                                  False  \n",
       "location       {'address1': '4 Embarcadero Ctr', 'address2': ...  \n",
       "name                                    5th Avenue Deli & Market  \n",
       "phone                                               +14157570950  \n",
       "price                                                          $  \n",
       "rating                                                       4.5  \n",
       "review_count                                                  29  \n",
       "transactions                                            [pickup]  \n",
       "url            https://www.yelp.com/biz/5th-avenue-deli-and-m...  "
      ]
     },
     "execution_count": 28,
     "metadata": {},
     "output_type": "execute_result"
    }
   ],
   "source": [
    "df_test.head(3).T"
   ]
  },
  {
   "cell_type": "code",
   "execution_count": 30,
   "metadata": {},
   "outputs": [
    {
     "name": "stdout",
     "output_type": "stream",
     "text": [
      "<class 'pandas.core.frame.DataFrame'>\n",
      "RangeIndex: 20 entries, 0 to 19\n",
      "Data columns (total 16 columns):\n",
      "alias            20 non-null object\n",
      "categories       20 non-null object\n",
      "coordinates      20 non-null object\n",
      "display_phone    20 non-null object\n",
      "distance         20 non-null float64\n",
      "id               20 non-null object\n",
      "image_url        20 non-null object\n",
      "is_closed        20 non-null bool\n",
      "location         20 non-null object\n",
      "name             20 non-null object\n",
      "phone            20 non-null object\n",
      "price            18 non-null object\n",
      "rating           20 non-null float64\n",
      "review_count     20 non-null int64\n",
      "transactions     20 non-null object\n",
      "url              20 non-null object\n",
      "dtypes: bool(1), float64(2), int64(1), object(12)\n",
      "memory usage: 2.4+ KB\n"
     ]
    }
   ],
   "source": [
    "df_test.info()"
   ]
  },
  {
   "cell_type": "code",
   "execution_count": 31,
   "metadata": {},
   "outputs": [
    {
     "data": {
      "text/html": [
       "<div>\n",
       "<style scoped>\n",
       "    .dataframe tbody tr th:only-of-type {\n",
       "        vertical-align: middle;\n",
       "    }\n",
       "\n",
       "    .dataframe tbody tr th {\n",
       "        vertical-align: top;\n",
       "    }\n",
       "\n",
       "    .dataframe thead th {\n",
       "        text-align: right;\n",
       "    }\n",
       "</style>\n",
       "<table border=\"1\" class=\"dataframe\">\n",
       "  <thead>\n",
       "    <tr style=\"text-align: right;\">\n",
       "      <th></th>\n",
       "      <th>distance</th>\n",
       "      <th>rating</th>\n",
       "      <th>review_count</th>\n",
       "    </tr>\n",
       "  </thead>\n",
       "  <tbody>\n",
       "    <tr>\n",
       "      <th>count</th>\n",
       "      <td>20.000000</td>\n",
       "      <td>20.00000</td>\n",
       "      <td>20.000000</td>\n",
       "    </tr>\n",
       "    <tr>\n",
       "      <th>mean</th>\n",
       "      <td>1006.532563</td>\n",
       "      <td>4.15000</td>\n",
       "      <td>392.900000</td>\n",
       "    </tr>\n",
       "    <tr>\n",
       "      <th>std</th>\n",
       "      <td>552.939709</td>\n",
       "      <td>0.46169</td>\n",
       "      <td>461.988596</td>\n",
       "    </tr>\n",
       "    <tr>\n",
       "      <th>min</th>\n",
       "      <td>146.380733</td>\n",
       "      <td>3.00000</td>\n",
       "      <td>4.000000</td>\n",
       "    </tr>\n",
       "    <tr>\n",
       "      <th>25%</th>\n",
       "      <td>706.308715</td>\n",
       "      <td>4.00000</td>\n",
       "      <td>60.000000</td>\n",
       "    </tr>\n",
       "    <tr>\n",
       "      <th>50%</th>\n",
       "      <td>911.951762</td>\n",
       "      <td>4.00000</td>\n",
       "      <td>182.000000</td>\n",
       "    </tr>\n",
       "    <tr>\n",
       "      <th>75%</th>\n",
       "      <td>1405.813530</td>\n",
       "      <td>4.50000</td>\n",
       "      <td>541.250000</td>\n",
       "    </tr>\n",
       "    <tr>\n",
       "      <th>max</th>\n",
       "      <td>2235.267413</td>\n",
       "      <td>5.00000</td>\n",
       "      <td>1415.000000</td>\n",
       "    </tr>\n",
       "  </tbody>\n",
       "</table>\n",
       "</div>"
      ],
      "text/plain": [
       "          distance    rating  review_count\n",
       "count    20.000000  20.00000     20.000000\n",
       "mean   1006.532563   4.15000    392.900000\n",
       "std     552.939709   0.46169    461.988596\n",
       "min     146.380733   3.00000      4.000000\n",
       "25%     706.308715   4.00000     60.000000\n",
       "50%     911.951762   4.00000    182.000000\n",
       "75%    1405.813530   4.50000    541.250000\n",
       "max    2235.267413   5.00000   1415.000000"
      ]
     },
     "execution_count": 31,
     "metadata": {},
     "output_type": "execute_result"
    }
   ],
   "source": [
    "df_test.describe()"
   ]
  },
  {
   "cell_type": "code",
   "execution_count": 33,
   "metadata": {},
   "outputs": [],
   "source": [
    "from rew_try import *"
   ]
  },
  {
   "cell_type": "code",
   "execution_count": 43,
   "metadata": {},
   "outputs": [],
   "source": [
    "rev3 =[]"
   ]
  },
  {
   "cell_type": "code",
   "execution_count": 44,
   "metadata": {},
   "outputs": [
    {
     "name": "stdout",
     "output_type": "stream",
     "text": [
      "Querying https://api.yelp.com/v3/businesses/FmGF1B-Rpsjq1f5b56qMwg/reviews ...\n",
      "Querying https://api.yelp.com/v3/businesses/BcW0vRdM8N-rteR2FfV1jg/reviews ...\n",
      "Querying https://api.yelp.com/v3/businesses/0mZeR3TwxmZGLCxzcf620A/reviews ...\n",
      "Querying https://api.yelp.com/v3/businesses/uFeOc6t94xLp-JPP6fhnaA/reviews ...\n",
      "Querying https://api.yelp.com/v3/businesses/eZ2_6Wx-Lqp_mLtG6-zzTg/reviews ...\n",
      "Querying https://api.yelp.com/v3/businesses/dv9gdJrBG7SZ8aWYkxG_3w/reviews ...\n",
      "Querying https://api.yelp.com/v3/businesses/MWV8AoySYObkfVpaLhaqKQ/reviews ...\n",
      "Querying https://api.yelp.com/v3/businesses/ZXwnSN4GlEuSTNCRrjjRMg/reviews ...\n",
      "Querying https://api.yelp.com/v3/businesses/zYUgm_qOcly8mhLdTSFnKw/reviews ...\n",
      "Querying https://api.yelp.com/v3/businesses/KRO4PzfmbRgCu1Ayt1LE1g/reviews ...\n",
      "Querying https://api.yelp.com/v3/businesses/RZKmlQqq8XN82VwcEgMhqQ/reviews ...\n",
      "Querying https://api.yelp.com/v3/businesses/U8J2_5sTiKUUVjWEf3J-Tg/reviews ...\n",
      "Querying https://api.yelp.com/v3/businesses/kK0s7FAovaLmVDM4D_NdSQ/reviews ...\n",
      "Querying https://api.yelp.com/v3/businesses/4NInBK_67cLRyUS7sq0CEg/reviews ...\n",
      "Querying https://api.yelp.com/v3/businesses/kEhq0qT_JFxgeh-pCS4lPA/reviews ...\n",
      "Querying https://api.yelp.com/v3/businesses/B61vZd9neTI8F7zZ-vApmw/reviews ...\n",
      "Querying https://api.yelp.com/v3/businesses/zHqoPRK7sWS0trwa5emlMw/reviews ...\n",
      "Querying https://api.yelp.com/v3/businesses/2TUrb8EZwHY3Ouj67sdaaA/reviews ...\n",
      "Querying https://api.yelp.com/v3/businesses/gtBDOQq3TyiiulKmJpny0g/reviews ...\n",
      "Querying https://api.yelp.com/v3/businesses/78mfppJEnc-2NBrxtS9u7A/reviews ...\n"
     ]
    }
   ],
   "source": [
    "for ids in df_test['id']:\n",
    "    response = get_reviews(API_KEY,ids)\n",
    "    rev3 +=  response.get('reviews')\n"
   ]
  },
  {
   "cell_type": "code",
   "execution_count": 39,
   "metadata": {},
   "outputs": [
    {
     "name": "stdout",
     "output_type": "stream",
     "text": [
      "Querying https://api.yelp.com/v3/businesses/FmGF1B-Rpsjq1f5b56qMwg/reviews ...\n"
     ]
    }
   ],
   "source": [
    "idx1 = 'FmGF1B-Rpsjq1f5b56qMwg'\n",
    "response = get_reviews(API_KEY,idx1)\n",
    "rev1 = response.get('reviews')\n"
   ]
  },
  {
   "cell_type": "code",
   "execution_count": 77,
   "metadata": {},
   "outputs": [
    {
     "data": {
      "text/plain": [
       "{'id': 'i5AYgyUuDRZaHrHa7CUtAA',\n",
       " 'profile_url': 'https://www.yelp.com/user_details?userid=i5AYgyUuDRZaHrHa7CUtAA',\n",
       " 'image_url': 'https://s3-media2.fl.yelpcdn.com/photo/xJ7e69EUjBlkhxs_8G7k7w/o.jpg',\n",
       " 'name': 'Duyen V.'}"
      ]
     },
     "execution_count": 77,
     "metadata": {},
     "output_type": "execute_result"
    }
   ],
   "source": [
    "rev1[0]['user']"
   ]
  },
  {
   "cell_type": "code",
   "execution_count": 78,
   "metadata": {},
   "outputs": [
    {
     "data": {
      "text/plain": [
       "dict_keys(['id', 'url', 'text', 'rating', 'time_created', 'user'])"
      ]
     },
     "execution_count": 78,
     "metadata": {},
     "output_type": "execute_result"
    }
   ],
   "source": [
    "rev1[0].keys()"
   ]
  },
  {
   "cell_type": "code",
   "execution_count": 46,
   "metadata": {},
   "outputs": [],
   "source": [
    "df_rev = pd.DataFrame(rev3)"
   ]
  },
  {
   "cell_type": "code",
   "execution_count": 47,
   "metadata": {},
   "outputs": [
    {
     "data": {
      "text/html": [
       "<div>\n",
       "<style scoped>\n",
       "    .dataframe tbody tr th:only-of-type {\n",
       "        vertical-align: middle;\n",
       "    }\n",
       "\n",
       "    .dataframe tbody tr th {\n",
       "        vertical-align: top;\n",
       "    }\n",
       "\n",
       "    .dataframe thead th {\n",
       "        text-align: right;\n",
       "    }\n",
       "</style>\n",
       "<table border=\"1\" class=\"dataframe\">\n",
       "  <thead>\n",
       "    <tr style=\"text-align: right;\">\n",
       "      <th></th>\n",
       "      <th>id</th>\n",
       "      <th>rating</th>\n",
       "      <th>text</th>\n",
       "      <th>time_created</th>\n",
       "      <th>url</th>\n",
       "      <th>user</th>\n",
       "    </tr>\n",
       "  </thead>\n",
       "  <tbody>\n",
       "    <tr>\n",
       "      <th>0</th>\n",
       "      <td>EVx3DJ-iD_qF3I2HJ0j3Zg</td>\n",
       "      <td>5</td>\n",
       "      <td>The best little Italian deli! I loved picking ...</td>\n",
       "      <td>2018-11-21 17:10:38</td>\n",
       "      <td>https://www.yelp.com/biz/molinari-delicatessen...</td>\n",
       "      <td>{'id': 'i5AYgyUuDRZaHrHa7CUtAA', 'profile_url'...</td>\n",
       "    </tr>\n",
       "    <tr>\n",
       "      <th>1</th>\n",
       "      <td>0wCzqmY7F6DA4oC2BPxgnA</td>\n",
       "      <td>5</td>\n",
       "      <td>Get in, grab a number and pick out a roll in t...</td>\n",
       "      <td>2018-11-15 13:43:49</td>\n",
       "      <td>https://www.yelp.com/biz/molinari-delicatessen...</td>\n",
       "      <td>{'id': 'sH7PXlGpyQYfN2QWNQYqVQ', 'profile_url'...</td>\n",
       "    </tr>\n",
       "    <tr>\n",
       "      <th>2</th>\n",
       "      <td>Xgm-_I6d5bLMl4_LVGF_Dw</td>\n",
       "      <td>4</td>\n",
       "      <td>I like this place. It's an uphill battle for m...</td>\n",
       "      <td>2018-11-06 21:22:17</td>\n",
       "      <td>https://www.yelp.com/biz/molinari-delicatessen...</td>\n",
       "      <td>{'id': 'RfliROP2AzcDK5vW0NaukA', 'profile_url'...</td>\n",
       "    </tr>\n",
       "    <tr>\n",
       "      <th>3</th>\n",
       "      <td>JMK_w-owxeRRkbZ8zPQ-9Q</td>\n",
       "      <td>5</td>\n",
       "      <td>Favorite sando shop everrrrr!\\n\\nAlways a trea...</td>\n",
       "      <td>2018-11-15 12:38:48</td>\n",
       "      <td>https://www.yelp.com/biz/deli-board-san-franci...</td>\n",
       "      <td>{'id': 'YpsnObXBHGyOFD8DQ1jTCA', 'profile_url'...</td>\n",
       "    </tr>\n",
       "    <tr>\n",
       "      <th>4</th>\n",
       "      <td>x4X96eMKyown55KXVpqaHg</td>\n",
       "      <td>5</td>\n",
       "      <td>If you don't know about Deli Board you're supe...</td>\n",
       "      <td>2018-11-14 13:53:37</td>\n",
       "      <td>https://www.yelp.com/biz/deli-board-san-franci...</td>\n",
       "      <td>{'id': 'iXV36GrAkYSLgIrXgLLwBw', 'profile_url'...</td>\n",
       "    </tr>\n",
       "  </tbody>\n",
       "</table>\n",
       "</div>"
      ],
      "text/plain": [
       "                       id  rating  \\\n",
       "0  EVx3DJ-iD_qF3I2HJ0j3Zg       5   \n",
       "1  0wCzqmY7F6DA4oC2BPxgnA       5   \n",
       "2  Xgm-_I6d5bLMl4_LVGF_Dw       4   \n",
       "3  JMK_w-owxeRRkbZ8zPQ-9Q       5   \n",
       "4  x4X96eMKyown55KXVpqaHg       5   \n",
       "\n",
       "                                                text         time_created  \\\n",
       "0  The best little Italian deli! I loved picking ...  2018-11-21 17:10:38   \n",
       "1  Get in, grab a number and pick out a roll in t...  2018-11-15 13:43:49   \n",
       "2  I like this place. It's an uphill battle for m...  2018-11-06 21:22:17   \n",
       "3  Favorite sando shop everrrrr!\\n\\nAlways a trea...  2018-11-15 12:38:48   \n",
       "4  If you don't know about Deli Board you're supe...  2018-11-14 13:53:37   \n",
       "\n",
       "                                                 url  \\\n",
       "0  https://www.yelp.com/biz/molinari-delicatessen...   \n",
       "1  https://www.yelp.com/biz/molinari-delicatessen...   \n",
       "2  https://www.yelp.com/biz/molinari-delicatessen...   \n",
       "3  https://www.yelp.com/biz/deli-board-san-franci...   \n",
       "4  https://www.yelp.com/biz/deli-board-san-franci...   \n",
       "\n",
       "                                                user  \n",
       "0  {'id': 'i5AYgyUuDRZaHrHa7CUtAA', 'profile_url'...  \n",
       "1  {'id': 'sH7PXlGpyQYfN2QWNQYqVQ', 'profile_url'...  \n",
       "2  {'id': 'RfliROP2AzcDK5vW0NaukA', 'profile_url'...  \n",
       "3  {'id': 'YpsnObXBHGyOFD8DQ1jTCA', 'profile_url'...  \n",
       "4  {'id': 'iXV36GrAkYSLgIrXgLLwBw', 'profile_url'...  "
      ]
     },
     "execution_count": 47,
     "metadata": {},
     "output_type": "execute_result"
    }
   ],
   "source": [
    "df_rev.head()"
   ]
  },
  {
   "cell_type": "code",
   "execution_count": 55,
   "metadata": {},
   "outputs": [
    {
     "data": {
      "text/plain": [
       "'https://www.yelp.com/biz/molinari-delicatessen-san-francisco?hrid=EVx3DJ-iD_qF3I2HJ0j3Zg&adjust_creative=KIqjD5y9rnzq9ev6ruaTHQ&utm_campaign=yelp_api_v3&utm_medium=api_v3_business_reviews&utm_source=KIqjD5y9rnzq9ev6ruaTHQ'"
      ]
     },
     "execution_count": 55,
     "metadata": {},
     "output_type": "execute_result"
    }
   ],
   "source": [
    "df_rev.url[0]"
   ]
  },
  {
   "cell_type": "code",
   "execution_count": 49,
   "metadata": {},
   "outputs": [],
   "source": [
    "from sample import get_business"
   ]
  },
  {
   "cell_type": "code",
   "execution_count": 51,
   "metadata": {},
   "outputs": [
    {
     "name": "stdout",
     "output_type": "stream",
     "text": [
      "Querying https://api.yelp.com/v3/businesses/FmGF1B-Rpsjq1f5b56qMwg ...\n",
      "Querying https://api.yelp.com/v3/businesses/BcW0vRdM8N-rteR2FfV1jg ...\n",
      "Querying https://api.yelp.com/v3/businesses/0mZeR3TwxmZGLCxzcf620A ...\n",
      "Querying https://api.yelp.com/v3/businesses/uFeOc6t94xLp-JPP6fhnaA ...\n",
      "Querying https://api.yelp.com/v3/businesses/eZ2_6Wx-Lqp_mLtG6-zzTg ...\n",
      "Querying https://api.yelp.com/v3/businesses/dv9gdJrBG7SZ8aWYkxG_3w ...\n",
      "Querying https://api.yelp.com/v3/businesses/MWV8AoySYObkfVpaLhaqKQ ...\n",
      "Querying https://api.yelp.com/v3/businesses/ZXwnSN4GlEuSTNCRrjjRMg ...\n",
      "Querying https://api.yelp.com/v3/businesses/zYUgm_qOcly8mhLdTSFnKw ...\n",
      "Querying https://api.yelp.com/v3/businesses/KRO4PzfmbRgCu1Ayt1LE1g ...\n",
      "Querying https://api.yelp.com/v3/businesses/RZKmlQqq8XN82VwcEgMhqQ ...\n",
      "Querying https://api.yelp.com/v3/businesses/U8J2_5sTiKUUVjWEf3J-Tg ...\n",
      "Querying https://api.yelp.com/v3/businesses/kK0s7FAovaLmVDM4D_NdSQ ...\n",
      "Querying https://api.yelp.com/v3/businesses/4NInBK_67cLRyUS7sq0CEg ...\n",
      "Querying https://api.yelp.com/v3/businesses/kEhq0qT_JFxgeh-pCS4lPA ...\n",
      "Querying https://api.yelp.com/v3/businesses/B61vZd9neTI8F7zZ-vApmw ...\n",
      "Querying https://api.yelp.com/v3/businesses/zHqoPRK7sWS0trwa5emlMw ...\n",
      "Querying https://api.yelp.com/v3/businesses/2TUrb8EZwHY3Ouj67sdaaA ...\n",
      "Querying https://api.yelp.com/v3/businesses/gtBDOQq3TyiiulKmJpny0g ...\n",
      "Querying https://api.yelp.com/v3/businesses/78mfppJEnc-2NBrxtS9u7A ...\n"
     ]
    }
   ],
   "source": [
    "biz = []\n",
    "for ids in df_test['id']:\n",
    "    response = get_business(API_KEY,ids)\n",
    "    biz.append(response)"
   ]
  },
  {
   "cell_type": "code",
   "execution_count": 52,
   "metadata": {},
   "outputs": [],
   "source": [
    "df_biz = pd.DataFrame(biz)"
   ]
  },
  {
   "cell_type": "code",
   "execution_count": 54,
   "metadata": {},
   "outputs": [
    {
     "data": {
      "text/html": [
       "<div>\n",
       "<style scoped>\n",
       "    .dataframe tbody tr th:only-of-type {\n",
       "        vertical-align: middle;\n",
       "    }\n",
       "\n",
       "    .dataframe tbody tr th {\n",
       "        vertical-align: top;\n",
       "    }\n",
       "\n",
       "    .dataframe thead th {\n",
       "        text-align: right;\n",
       "    }\n",
       "</style>\n",
       "<table border=\"1\" class=\"dataframe\">\n",
       "  <thead>\n",
       "    <tr style=\"text-align: right;\">\n",
       "      <th></th>\n",
       "      <th>0</th>\n",
       "      <th>1</th>\n",
       "      <th>2</th>\n",
       "      <th>3</th>\n",
       "      <th>4</th>\n",
       "    </tr>\n",
       "  </thead>\n",
       "  <tbody>\n",
       "    <tr>\n",
       "      <th>alias</th>\n",
       "      <td>molinari-delicatessen-san-francisco</td>\n",
       "      <td>deli-board-san-francisco</td>\n",
       "      <td>5th-avenue-deli-and-market-san-francisco</td>\n",
       "      <td>wise-sons-jewish-delicatessen-san-francisco-2</td>\n",
       "      <td>sammys-on-2nd-san-francisco</td>\n",
       "    </tr>\n",
       "    <tr>\n",
       "      <th>categories</th>\n",
       "      <td>[{'alias': 'delis', 'title': 'Delis'}]</td>\n",
       "      <td>[{'alias': 'delis', 'title': 'Delis'}, {'alias...</td>\n",
       "      <td>[{'alias': 'delis', 'title': 'Delis'}, {'alias...</td>\n",
       "      <td>[{'alias': 'delis', 'title': 'Delis'}, {'alias...</td>\n",
       "      <td>[{'alias': 'beer_and_wine', 'title': 'Beer, Wi...</td>\n",
       "    </tr>\n",
       "    <tr>\n",
       "      <th>coordinates</th>\n",
       "      <td>{'latitude': 37.79838, 'longitude': -122.40782}</td>\n",
       "      <td>{'latitude': 37.7776247966103, 'longitude': -1...</td>\n",
       "      <td>{'latitude': 37.79553, 'longitude': -122.39623}</td>\n",
       "      <td>{'latitude': 37.7861320529474, 'longitude': -1...</td>\n",
       "      <td>{'latitude': 37.7881, 'longitude': -122.40028}</td>\n",
       "    </tr>\n",
       "    <tr>\n",
       "      <th>display_phone</th>\n",
       "      <td>(415) 421-2337</td>\n",
       "      <td>(415) 552-7687</td>\n",
       "      <td>(415) 757-0950</td>\n",
       "      <td>(415) 655-7887</td>\n",
       "      <td>(415) 243-0311</td>\n",
       "    </tr>\n",
       "    <tr>\n",
       "      <th>hours</th>\n",
       "      <td>[{'open': [{'is_overnight': False, 'start': '0...</td>\n",
       "      <td>[{'open': [{'is_overnight': False, 'start': '1...</td>\n",
       "      <td>[{'open': [{'is_overnight': False, 'start': '0...</td>\n",
       "      <td>[{'open': [{'is_overnight': False, 'start': '1...</td>\n",
       "      <td>[{'open': [{'is_overnight': False, 'start': '0...</td>\n",
       "    </tr>\n",
       "    <tr>\n",
       "      <th>id</th>\n",
       "      <td>FmGF1B-Rpsjq1f5b56qMwg</td>\n",
       "      <td>BcW0vRdM8N-rteR2FfV1jg</td>\n",
       "      <td>0mZeR3TwxmZGLCxzcf620A</td>\n",
       "      <td>uFeOc6t94xLp-JPP6fhnaA</td>\n",
       "      <td>eZ2_6Wx-Lqp_mLtG6-zzTg</td>\n",
       "    </tr>\n",
       "    <tr>\n",
       "      <th>image_url</th>\n",
       "      <td>https://s3-media3.fl.yelpcdn.com/bphoto/6He-Nl...</td>\n",
       "      <td>https://s3-media3.fl.yelpcdn.com/bphoto/m5dL_m...</td>\n",
       "      <td>https://s3-media2.fl.yelpcdn.com/bphoto/kCw-46...</td>\n",
       "      <td>https://s3-media3.fl.yelpcdn.com/bphoto/Gp9tnI...</td>\n",
       "      <td>https://s3-media2.fl.yelpcdn.com/bphoto/GWvs00...</td>\n",
       "    </tr>\n",
       "    <tr>\n",
       "      <th>is_claimed</th>\n",
       "      <td>True</td>\n",
       "      <td>True</td>\n",
       "      <td>True</td>\n",
       "      <td>True</td>\n",
       "      <td>True</td>\n",
       "    </tr>\n",
       "    <tr>\n",
       "      <th>is_closed</th>\n",
       "      <td>False</td>\n",
       "      <td>False</td>\n",
       "      <td>False</td>\n",
       "      <td>False</td>\n",
       "      <td>False</td>\n",
       "    </tr>\n",
       "    <tr>\n",
       "      <th>location</th>\n",
       "      <td>{'address1': '373 Columbus Ave', 'address2': '...</td>\n",
       "      <td>{'address1': '1058 Folsom St', 'address2': '',...</td>\n",
       "      <td>{'address1': '4 Embarcadero Ctr', 'address2': ...</td>\n",
       "      <td>{'address1': '736 Mission St', 'address2': '',...</td>\n",
       "      <td>{'address1': '84 2nd St', 'address2': None, 'a...</td>\n",
       "    </tr>\n",
       "    <tr>\n",
       "      <th>name</th>\n",
       "      <td>Molinari Delicatessen</td>\n",
       "      <td>Deli Board</td>\n",
       "      <td>5th Avenue Deli &amp; Market</td>\n",
       "      <td>Wise Sons Jewish Delicatessen</td>\n",
       "      <td>Sammy's on 2nd</td>\n",
       "    </tr>\n",
       "    <tr>\n",
       "      <th>phone</th>\n",
       "      <td>+14154212337</td>\n",
       "      <td>+14155527687</td>\n",
       "      <td>+14157570950</td>\n",
       "      <td>+14156557887</td>\n",
       "      <td>+14152430311</td>\n",
       "    </tr>\n",
       "    <tr>\n",
       "      <th>photos</th>\n",
       "      <td>[https://s3-media3.fl.yelpcdn.com/bphoto/6He-N...</td>\n",
       "      <td>[https://s3-media3.fl.yelpcdn.com/bphoto/m5dL_...</td>\n",
       "      <td>[https://s3-media2.fl.yelpcdn.com/bphoto/kCw-4...</td>\n",
       "      <td>[https://s3-media3.fl.yelpcdn.com/bphoto/Gp9tn...</td>\n",
       "      <td>[https://s3-media2.fl.yelpcdn.com/bphoto/GWvs0...</td>\n",
       "    </tr>\n",
       "    <tr>\n",
       "      <th>price</th>\n",
       "      <td>$$</td>\n",
       "      <td>$$</td>\n",
       "      <td>$</td>\n",
       "      <td>$$</td>\n",
       "      <td>$</td>\n",
       "    </tr>\n",
       "    <tr>\n",
       "      <th>rating</th>\n",
       "      <td>4.5</td>\n",
       "      <td>4.5</td>\n",
       "      <td>4.5</td>\n",
       "      <td>3.5</td>\n",
       "      <td>4</td>\n",
       "    </tr>\n",
       "    <tr>\n",
       "      <th>review_count</th>\n",
       "      <td>1031</td>\n",
       "      <td>1181</td>\n",
       "      <td>31</td>\n",
       "      <td>268</td>\n",
       "      <td>198</td>\n",
       "    </tr>\n",
       "    <tr>\n",
       "      <th>transactions</th>\n",
       "      <td>[pickup, delivery]</td>\n",
       "      <td>[]</td>\n",
       "      <td>[pickup]</td>\n",
       "      <td>[]</td>\n",
       "      <td>[]</td>\n",
       "    </tr>\n",
       "    <tr>\n",
       "      <th>url</th>\n",
       "      <td>https://www.yelp.com/biz/molinari-delicatessen...</td>\n",
       "      <td>https://www.yelp.com/biz/deli-board-san-franci...</td>\n",
       "      <td>https://www.yelp.com/biz/5th-avenue-deli-and-m...</td>\n",
       "      <td>https://www.yelp.com/biz/wise-sons-jewish-deli...</td>\n",
       "      <td>https://www.yelp.com/biz/sammys-on-2nd-san-fra...</td>\n",
       "    </tr>\n",
       "  </tbody>\n",
       "</table>\n",
       "</div>"
      ],
      "text/plain": [
       "                                                               0  \\\n",
       "alias                        molinari-delicatessen-san-francisco   \n",
       "categories                [{'alias': 'delis', 'title': 'Delis'}]   \n",
       "coordinates      {'latitude': 37.79838, 'longitude': -122.40782}   \n",
       "display_phone                                     (415) 421-2337   \n",
       "hours          [{'open': [{'is_overnight': False, 'start': '0...   \n",
       "id                                        FmGF1B-Rpsjq1f5b56qMwg   \n",
       "image_url      https://s3-media3.fl.yelpcdn.com/bphoto/6He-Nl...   \n",
       "is_claimed                                                  True   \n",
       "is_closed                                                  False   \n",
       "location       {'address1': '373 Columbus Ave', 'address2': '...   \n",
       "name                                       Molinari Delicatessen   \n",
       "phone                                               +14154212337   \n",
       "photos         [https://s3-media3.fl.yelpcdn.com/bphoto/6He-N...   \n",
       "price                                                         $$   \n",
       "rating                                                       4.5   \n",
       "review_count                                                1031   \n",
       "transactions                                  [pickup, delivery]   \n",
       "url            https://www.yelp.com/biz/molinari-delicatessen...   \n",
       "\n",
       "                                                               1  \\\n",
       "alias                                   deli-board-san-francisco   \n",
       "categories     [{'alias': 'delis', 'title': 'Delis'}, {'alias...   \n",
       "coordinates    {'latitude': 37.7776247966103, 'longitude': -1...   \n",
       "display_phone                                     (415) 552-7687   \n",
       "hours          [{'open': [{'is_overnight': False, 'start': '1...   \n",
       "id                                        BcW0vRdM8N-rteR2FfV1jg   \n",
       "image_url      https://s3-media3.fl.yelpcdn.com/bphoto/m5dL_m...   \n",
       "is_claimed                                                  True   \n",
       "is_closed                                                  False   \n",
       "location       {'address1': '1058 Folsom St', 'address2': '',...   \n",
       "name                                                  Deli Board   \n",
       "phone                                               +14155527687   \n",
       "photos         [https://s3-media3.fl.yelpcdn.com/bphoto/m5dL_...   \n",
       "price                                                         $$   \n",
       "rating                                                       4.5   \n",
       "review_count                                                1181   \n",
       "transactions                                                  []   \n",
       "url            https://www.yelp.com/biz/deli-board-san-franci...   \n",
       "\n",
       "                                                               2  \\\n",
       "alias                   5th-avenue-deli-and-market-san-francisco   \n",
       "categories     [{'alias': 'delis', 'title': 'Delis'}, {'alias...   \n",
       "coordinates      {'latitude': 37.79553, 'longitude': -122.39623}   \n",
       "display_phone                                     (415) 757-0950   \n",
       "hours          [{'open': [{'is_overnight': False, 'start': '0...   \n",
       "id                                        0mZeR3TwxmZGLCxzcf620A   \n",
       "image_url      https://s3-media2.fl.yelpcdn.com/bphoto/kCw-46...   \n",
       "is_claimed                                                  True   \n",
       "is_closed                                                  False   \n",
       "location       {'address1': '4 Embarcadero Ctr', 'address2': ...   \n",
       "name                                    5th Avenue Deli & Market   \n",
       "phone                                               +14157570950   \n",
       "photos         [https://s3-media2.fl.yelpcdn.com/bphoto/kCw-4...   \n",
       "price                                                          $   \n",
       "rating                                                       4.5   \n",
       "review_count                                                  31   \n",
       "transactions                                            [pickup]   \n",
       "url            https://www.yelp.com/biz/5th-avenue-deli-and-m...   \n",
       "\n",
       "                                                               3  \\\n",
       "alias              wise-sons-jewish-delicatessen-san-francisco-2   \n",
       "categories     [{'alias': 'delis', 'title': 'Delis'}, {'alias...   \n",
       "coordinates    {'latitude': 37.7861320529474, 'longitude': -1...   \n",
       "display_phone                                     (415) 655-7887   \n",
       "hours          [{'open': [{'is_overnight': False, 'start': '1...   \n",
       "id                                        uFeOc6t94xLp-JPP6fhnaA   \n",
       "image_url      https://s3-media3.fl.yelpcdn.com/bphoto/Gp9tnI...   \n",
       "is_claimed                                                  True   \n",
       "is_closed                                                  False   \n",
       "location       {'address1': '736 Mission St', 'address2': '',...   \n",
       "name                               Wise Sons Jewish Delicatessen   \n",
       "phone                                               +14156557887   \n",
       "photos         [https://s3-media3.fl.yelpcdn.com/bphoto/Gp9tn...   \n",
       "price                                                         $$   \n",
       "rating                                                       3.5   \n",
       "review_count                                                 268   \n",
       "transactions                                                  []   \n",
       "url            https://www.yelp.com/biz/wise-sons-jewish-deli...   \n",
       "\n",
       "                                                               4  \n",
       "alias                                sammys-on-2nd-san-francisco  \n",
       "categories     [{'alias': 'beer_and_wine', 'title': 'Beer, Wi...  \n",
       "coordinates       {'latitude': 37.7881, 'longitude': -122.40028}  \n",
       "display_phone                                     (415) 243-0311  \n",
       "hours          [{'open': [{'is_overnight': False, 'start': '0...  \n",
       "id                                        eZ2_6Wx-Lqp_mLtG6-zzTg  \n",
       "image_url      https://s3-media2.fl.yelpcdn.com/bphoto/GWvs00...  \n",
       "is_claimed                                                  True  \n",
       "is_closed                                                  False  \n",
       "location       {'address1': '84 2nd St', 'address2': None, 'a...  \n",
       "name                                              Sammy's on 2nd  \n",
       "phone                                               +14152430311  \n",
       "photos         [https://s3-media2.fl.yelpcdn.com/bphoto/GWvs0...  \n",
       "price                                                          $  \n",
       "rating                                                         4  \n",
       "review_count                                                 198  \n",
       "transactions                                                  []  \n",
       "url            https://www.yelp.com/biz/sammys-on-2nd-san-fra...  "
      ]
     },
     "execution_count": 54,
     "metadata": {},
     "output_type": "execute_result"
    }
   ],
   "source": [
    "df_biz.head().T"
   ]
  },
  {
   "cell_type": "code",
   "execution_count": 61,
   "metadata": {},
   "outputs": [],
   "source": [
    "from yelp_api import search"
   ]
  },
  {
   "cell_type": "code",
   "execution_count": 62,
   "metadata": {},
   "outputs": [],
   "source": [
    "DEFAULT_TERM = 'restaurant'\n",
    "DEFAULT_LOCATION = 'Seattle, WA'\n",
    "SEARCH_LIMIT = 50\n"
   ]
  },
  {
   "cell_type": "code",
   "execution_count": 63,
   "metadata": {},
   "outputs": [],
   "source": [
    "response = search(API_KEY, DEFAULT_TERM, DEFAULT_LOCATION, offset = 0)"
   ]
  },
  {
   "cell_type": "code",
   "execution_count": 68,
   "metadata": {},
   "outputs": [
    {
     "data": {
      "text/plain": [
       "(dict_keys(['businesses', 'total', 'region']),\n",
       " 3300,\n",
       " {'center': {'longitude': -122.33551025390625, 'latitude': 47.62541904760501}})"
      ]
     },
     "execution_count": 68,
     "metadata": {},
     "output_type": "execute_result"
    }
   ],
   "source": [
    "response.keys(),  response['total'],response['region']"
   ]
  },
  {
   "cell_type": "code",
   "execution_count": 71,
   "metadata": {},
   "outputs": [],
   "source": [
    "response2 = search(API_KEY, DEFAULT_TERM, '98104', offset = 50)"
   ]
  },
  {
   "cell_type": "code",
   "execution_count": 72,
   "metadata": {},
   "outputs": [
    {
     "data": {
      "text/plain": [
       "(1100,\n",
       " {'center': {'longitude': -122.32975959777832, 'latitude': 47.60211133534223}})"
      ]
     },
     "execution_count": 72,
     "metadata": {},
     "output_type": "execute_result"
    }
   ],
   "source": [
    "response2['total'],response2['region']"
   ]
  },
  {
   "cell_type": "code",
   "execution_count": 73,
   "metadata": {},
   "outputs": [],
   "source": [
    "pioner= pd.DataFrame(response2['businesses'])"
   ]
  },
  {
   "cell_type": "code",
   "execution_count": null,
   "metadata": {},
   "outputs": [],
   "source": []
  }
 ],
 "metadata": {
  "kernelspec": {
   "display_name": "Python 3",
   "language": "python",
   "name": "python3"
  },
  "language_info": {
   "codemirror_mode": {
    "name": "ipython",
    "version": 3
   },
   "file_extension": ".py",
   "mimetype": "text/x-python",
   "name": "python",
   "nbconvert_exporter": "python",
   "pygments_lexer": "ipython3",
   "version": "3.6.5"
  }
 },
 "nbformat": 4,
 "nbformat_minor": 2
}
