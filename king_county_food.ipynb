{
 "cells": [
  {
   "cell_type": "code",
   "execution_count": 120,
   "metadata": {},
   "outputs": [],
   "source": [
    "from starting_db import *"
   ]
  },
  {
   "cell_type": "code",
   "execution_count": 20,
   "metadata": {},
   "outputs": [],
   "source": [
    "zips = open('king_county_zip.txt').read().split('\\n')"
   ]
  },
  {
   "cell_type": "code",
   "execution_count": 13,
   "metadata": {},
   "outputs": [
    {
     "data": {
      "text/plain": [
       "['98126',\n",
       " '98133',\n",
       " '98136',\n",
       " '98134',\n",
       " '98144',\n",
       " '98146',\n",
       " '98148',\n",
       " '98155',\n",
       " '98154',\n",
       " '98158']"
      ]
     },
     "execution_count": 13,
     "metadata": {},
     "output_type": "execute_result"
    }
   ],
   "source": [
    "zips[:10]"
   ]
  },
  {
   "cell_type": "code",
   "execution_count": 16,
   "metadata": {},
   "outputs": [],
   "source": [
    "build_restoraunts(zips)"
   ]
  },
  {
   "cell_type": "code",
   "execution_count": 130,
   "metadata": {},
   "outputs": [],
   "source": [
    "locs = ['Everett, WA', 'Leavenworth, WA', 'Spocane, WA']"
   ]
  },
  {
   "cell_type": "code",
   "execution_count": 131,
   "metadata": {},
   "outputs": [],
   "source": [
    "build_restoraunts(locs)"
   ]
  },
  {
   "cell_type": "code",
   "execution_count": 138,
   "metadata": {},
   "outputs": [
    {
     "data": {
      "text/plain": [
       "['98036', '98037']"
      ]
     },
     "execution_count": 138,
     "metadata": {},
     "output_type": "execute_result"
    }
   ],
   "source": [
    "zips2 = open('sno.txt').read().split('\\n')\n",
    "zips2[:2]"
   ]
  },
  {
   "cell_type": "code",
   "execution_count": 140,
   "metadata": {},
   "outputs": [],
   "source": [
    "build_restoraunts(zips2)"
   ]
  },
  {
   "cell_type": "code",
   "execution_count": 144,
   "metadata": {},
   "outputs": [
    {
     "name": "stderr",
     "output_type": "stream",
     "text": [
      "/anaconda3/lib/python3.6/site-packages/ipykernel_launcher.py:1: DeprecationWarning: count is deprecated. Use estimated_document_count or count_documents instead. Please note that $where must be replaced by $expr, $near must be replaced by $geoWithin with $center, and $nearSphere must be replaced by $geoWithin with $centerSphere\n",
      "  \"\"\"Entry point for launching an IPython kernel.\n"
     ]
    },
    {
     "data": {
      "text/plain": [
       "8946"
      ]
     },
     "execution_count": 144,
     "metadata": {},
     "output_type": "execute_result"
    }
   ],
   "source": [
    "biz.count()"
   ]
  },
  {
   "cell_type": "code",
   "execution_count": 142,
   "metadata": {},
   "outputs": [
    {
     "name": "stdout",
     "output_type": "stream",
     "text": [
      "get error   Resource could not be found.  for restaurant  4DxKp_A0QWVU3fKn1GB8cA\n",
      "get error   You've reached the access limit for this client. See instructions for requesting a higher access limit at https://www.yelp.com/developers/documentation/v3/rate_limiting  for restaurant  18CF03Jf74jKHOjhX157qw\n"
     ]
    }
   ],
   "source": [
    "build_review_by_API()"
   ]
  },
  {
   "cell_type": "code",
   "execution_count": 123,
   "metadata": {},
   "outputs": [],
   "source": [
    "dr = retrieve_datatable(biz)"
   ]
  },
  {
   "cell_type": "code",
   "execution_count": 124,
   "metadata": {},
   "outputs": [
    {
     "data": {
      "text/plain": [
       "(7232, 18)"
      ]
     },
     "execution_count": 124,
     "metadata": {},
     "output_type": "execute_result"
    }
   ],
   "source": [
    "dr.shape"
   ]
  },
  {
   "cell_type": "code",
   "execution_count": 128,
   "metadata": {},
   "outputs": [
    {
     "data": {
      "text/plain": [
       "11633"
      ]
     },
     "execution_count": 128,
     "metadata": {},
     "output_type": "execute_result"
    }
   ],
   "source": [
    "users.count_documents({})"
   ]
  },
  {
   "cell_type": "code",
   "execution_count": 63,
   "metadata": {},
   "outputs": [
    {
     "data": {
      "text/plain": [
       "Index(['_id', 'alias', 'categories', 'coordinates', 'display_phone',\n",
       "       'distance', 'id', 'image_url', 'is_closed', 'location', 'name', 'phone',\n",
       "       'price', 'rating', 'rev_API', 'review_count', 'transactions', 'url'],\n",
       "      dtype='object')"
      ]
     },
     "execution_count": 63,
     "metadata": {},
     "output_type": "execute_result"
    }
   ],
   "source": [
    "dr.columns"
   ]
  },
  {
   "cell_type": "code",
   "execution_count": 143,
   "metadata": {},
   "outputs": [
    {
     "data": {
      "text/plain": [
       "17"
      ]
     },
     "execution_count": 143,
     "metadata": {},
     "output_type": "execute_result"
    }
   ],
   "source": [
    "biz.count_documents({'rev_API': { '$exists' : False } })"
   ]
  },
  {
   "cell_type": "code",
   "execution_count": 113,
   "metadata": {},
   "outputs": [],
   "source": [
    "####Надо заполнить rev_API у тех про кого уже выкачала ревью вчера\n",
    "i = 0\n",
    "j = 0\n",
    "for bi in biz.find({'rev_API': { '$exists' : False } }):\n",
    "\n",
    "    if rv.find_one({'url': {'$regex': bi['alias']}}) is not None :\n",
    "        j+=1\n",
    "        biz.update_one({'id':bi['id']},{'$set': {'rev_API': '1'}})"
   ]
  },
  {
   "cell_type": "code",
   "execution_count": 103,
   "metadata": {},
   "outputs": [],
   "source": [
    "import re\n",
    "    "
   ]
  },
  {
   "cell_type": "code",
   "execution_count": 112,
   "metadata": {},
   "outputs": [
    {
     "data": {
      "text/plain": [
       "{'_id': ObjectId('5bf9bd1e7988471b045bc1e2'),\n",
       " 'id': 'gO9LUk3LU_tF6Eb75EPhpQ',\n",
       " 'url': 'https://www.yelp.com/biz/falafel-salam-seattle-9?hrid=gO9LUk3LU_tF6Eb75EPhpQ&adjust_creative=KIqjD5y9rnzq9ev6ruaTHQ&utm_campaign=yelp_api_v3&utm_medium=api_v3_business_reviews&utm_source=KIqjD5y9rnzq9ev6ruaTHQ',\n",
       " 'text': 'Falafel Salam is a customer service dream. I came in earlier today (around 1:30 pm) to grab a Postmates order. They beared with me as i messed up ordering...',\n",
       " 'rating': 5,\n",
       " 'time_created': '2018-11-08 15:17:20',\n",
       " 'user': {'id': 'krIvby3nPkonG2ZC1MDEzQ',\n",
       "  'profile_url': 'https://www.yelp.com/user_details?userid=krIvby3nPkonG2ZC1MDEzQ',\n",
       "  'image_url': 'https://s3-media2.fl.yelpcdn.com/photo/7IIQ6IJlne7hHpwxoPS2BQ/o.jpg',\n",
       "  'name': 'Lucas B.'}}"
      ]
     },
     "execution_count": 112,
     "metadata": {},
     "output_type": "execute_result"
    }
   ],
   "source": [
    "## Надо приделать бизнес айди к тем ревью, что я выкачала вчера\n",
    "s = row['url']\n",
    "alias = s.split('?')[0].split('/')[-1]\n",
    "bi = biz.find_one({'alias':alias})\n",
    "rv.update_one({'id':row['id']},{'$set' : {'biz_id' : bi['id']}})"
   ]
  },
  {
   "cell_type": "code",
   "execution_count": 116,
   "metadata": {},
   "outputs": [],
   "source": [
    "s ='https://www.yelp.com/biz/falafel-salam-seattle-9?hrid=gO9LUk3LU_tF6Eb75EPhpQ&adjust_creative=KIqjD5y9rnzq9ev6ruaTHQ&utm_campaign=yelp_api_v3&utm_medium=api_v3_business_reviews&utm_source=KIqjD5y9rnzq9ev6ruaTHQ'"
   ]
  },
  {
   "cell_type": "code",
   "execution_count": 119,
   "metadata": {},
   "outputs": [
    {
     "data": {
      "text/plain": [
       "'falafel-salam-seattle-9'"
      ]
     },
     "execution_count": 119,
     "metadata": {},
     "output_type": "execute_result"
    }
   ],
   "source": [
    "s.split('?')[0].split('/')[-1]"
   ]
  },
  {
   "cell_type": "code",
   "execution_count": 115,
   "metadata": {},
   "outputs": [
    {
     "data": {
      "text/plain": [
       "{'_id': ObjectId('5bf90d4e7988471b045ba51c'),\n",
       " 'id': 'bnSXp-06NJNy1JQ0c_1Nag',\n",
       " 'alias': 'falafel-salam-seattle-9',\n",
       " 'name': 'Falafel Salam',\n",
       " 'image_url': 'https://s3-media2.fl.yelpcdn.com/bphoto/GnFlc-H2-5MJlvyP0bHWwQ/o.jpg',\n",
       " 'is_closed': False,\n",
       " 'url': 'https://www.yelp.com/biz/falafel-salam-seattle-9?adjust_creative=KIqjD5y9rnzq9ev6ruaTHQ&utm_campaign=yelp_api_v3&utm_medium=api_v3_business_search&utm_source=KIqjD5y9rnzq9ev6ruaTHQ',\n",
       " 'review_count': 84,\n",
       " 'categories': [{'alias': 'mediterranean', 'title': 'Mediterranean'}],\n",
       " 'rating': 4.0,\n",
       " 'coordinates': {'latitude': 47.5596799135963, 'longitude': -122.386579848826},\n",
       " 'transactions': [],\n",
       " 'price': '$$',\n",
       " 'location': {'address1': '4746 California Ave SW',\n",
       "  'address2': '',\n",
       "  'address3': None,\n",
       "  'city': 'Seattle',\n",
       "  'zip_code': '98116',\n",
       "  'country': 'US',\n",
       "  'state': 'WA',\n",
       "  'display_address': ['4746 California Ave SW', 'Seattle, WA 98116']},\n",
       " 'phone': '+12063252335',\n",
       " 'display_phone': '(206) 325-2335',\n",
       " 'distance': 1182.1939270664031,\n",
       " 'rev_API': '1'}"
      ]
     },
     "execution_count": 115,
     "metadata": {},
     "output_type": "execute_result"
    }
   ],
   "source": [
    "biz.find_one({'alias':'falafel-salam-seattle-9'})"
   ]
  },
  {
   "cell_type": "code",
   "execution_count": null,
   "metadata": {},
   "outputs": [],
   "source": []
  },
  {
   "cell_type": "code",
   "execution_count": null,
   "metadata": {},
   "outputs": [],
   "source": []
  },
  {
   "cell_type": "code",
   "execution_count": 34,
   "metadata": {},
   "outputs": [],
   "source": [
    "response = get_reviews(API_KEY,'xzLAynrVb3No3ADUhMxlnQ')\n",
    "data = response.get('reviews')"
   ]
  },
  {
   "cell_type": "code",
   "execution_count": 37,
   "metadata": {},
   "outputs": [
    {
     "data": {
      "text/plain": [
       "dict_keys(['reviews', 'total', 'possible_languages'])"
      ]
     },
     "execution_count": 37,
     "metadata": {},
     "output_type": "execute_result"
    }
   ],
   "source": [
    "response.keys()\n"
   ]
  },
  {
   "cell_type": "code",
   "execution_count": 56,
   "metadata": {},
   "outputs": [],
   "source": [
    "du = retrieve_datatable(users)\n",
    "\n",
    "drev = retrieve_datatable(rv)"
   ]
  },
  {
   "cell_type": "code",
   "execution_count": 57,
   "metadata": {},
   "outputs": [
    {
     "data": {
      "text/plain": [
       "((6267, 5), (9167, 7))"
      ]
     },
     "execution_count": 57,
     "metadata": {},
     "output_type": "execute_result"
    }
   ],
   "source": [
    "du.shape, drev.shape"
   ]
  },
  {
   "cell_type": "code",
   "execution_count": 52,
   "metadata": {},
   "outputs": [
    {
     "data": {
      "text/html": [
       "<div>\n",
       "<style scoped>\n",
       "    .dataframe tbody tr th:only-of-type {\n",
       "        vertical-align: middle;\n",
       "    }\n",
       "\n",
       "    .dataframe tbody tr th {\n",
       "        vertical-align: top;\n",
       "    }\n",
       "\n",
       "    .dataframe thead th {\n",
       "        text-align: right;\n",
       "    }\n",
       "</style>\n",
       "<table border=\"1\" class=\"dataframe\">\n",
       "  <thead>\n",
       "    <tr style=\"text-align: right;\">\n",
       "      <th></th>\n",
       "      <th>_id</th>\n",
       "      <th>id</th>\n",
       "      <th>text</th>\n",
       "      <th>time_created</th>\n",
       "      <th>url</th>\n",
       "      <th>user</th>\n",
       "    </tr>\n",
       "    <tr>\n",
       "      <th>rating</th>\n",
       "      <th></th>\n",
       "      <th></th>\n",
       "      <th></th>\n",
       "      <th></th>\n",
       "      <th></th>\n",
       "      <th></th>\n",
       "    </tr>\n",
       "  </thead>\n",
       "  <tbody>\n",
       "    <tr>\n",
       "      <th>1</th>\n",
       "      <td>1055</td>\n",
       "      <td>1055</td>\n",
       "      <td>1055</td>\n",
       "      <td>1055</td>\n",
       "      <td>1055</td>\n",
       "      <td>1055</td>\n",
       "    </tr>\n",
       "    <tr>\n",
       "      <th>2</th>\n",
       "      <td>772</td>\n",
       "      <td>772</td>\n",
       "      <td>772</td>\n",
       "      <td>772</td>\n",
       "      <td>772</td>\n",
       "      <td>772</td>\n",
       "    </tr>\n",
       "    <tr>\n",
       "      <th>3</th>\n",
       "      <td>1263</td>\n",
       "      <td>1263</td>\n",
       "      <td>1263</td>\n",
       "      <td>1263</td>\n",
       "      <td>1263</td>\n",
       "      <td>1263</td>\n",
       "    </tr>\n",
       "    <tr>\n",
       "      <th>4</th>\n",
       "      <td>2395</td>\n",
       "      <td>2395</td>\n",
       "      <td>2395</td>\n",
       "      <td>2395</td>\n",
       "      <td>2395</td>\n",
       "      <td>2395</td>\n",
       "    </tr>\n",
       "    <tr>\n",
       "      <th>5</th>\n",
       "      <td>3682</td>\n",
       "      <td>3682</td>\n",
       "      <td>3682</td>\n",
       "      <td>3682</td>\n",
       "      <td>3682</td>\n",
       "      <td>3682</td>\n",
       "    </tr>\n",
       "  </tbody>\n",
       "</table>\n",
       "</div>"
      ],
      "text/plain": [
       "         _id    id  text  time_created   url  user\n",
       "rating                                            \n",
       "1       1055  1055  1055          1055  1055  1055\n",
       "2        772   772   772           772   772   772\n",
       "3       1263  1263  1263          1263  1263  1263\n",
       "4       2395  2395  2395          2395  2395  2395\n",
       "5       3682  3682  3682          3682  3682  3682"
      ]
     },
     "execution_count": 52,
     "metadata": {},
     "output_type": "execute_result"
    }
   ],
   "source": [
    "drev.groupby('rating').count()"
   ]
  },
  {
   "cell_type": "code",
   "execution_count": null,
   "metadata": {},
   "outputs": [],
   "source": []
  }
 ],
 "metadata": {
  "kernelspec": {
   "display_name": "Python 3",
   "language": "python",
   "name": "python3"
  },
  "language_info": {
   "codemirror_mode": {
    "name": "ipython",
    "version": 3
   },
   "file_extension": ".py",
   "mimetype": "text/x-python",
   "name": "python",
   "nbconvert_exporter": "python",
   "pygments_lexer": "ipython3",
   "version": "3.6.5"
  }
 },
 "nbformat": 4,
 "nbformat_minor": 2
}
