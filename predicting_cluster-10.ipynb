{
 "cells": [
  {
   "cell_type": "code",
   "execution_count": 1,
   "metadata": {},
   "outputs": [],
   "source": [
    "import pandas as pd\n",
    "import numpy as np"
   ]
  },
  {
   "cell_type": "code",
   "execution_count": 2,
   "metadata": {},
   "outputs": [],
   "source": [
    "import pickle"
   ]
  },
  {
   "cell_type": "code",
   "execution_count": 3,
   "metadata": {},
   "outputs": [],
   "source": [
    "from sklearn.model_selection import train_test_split, cross_val_score, GridSearchCV\n",
    "from sklearn.ensemble import RandomForestClassifier, GradientBoostingClassifier"
   ]
  },
  {
   "cell_type": "code",
   "execution_count": 4,
   "metadata": {},
   "outputs": [],
   "source": [
    "from sklearn.metrics import auc, roc_auc_score, roc_curve, accuracy_score,  recall_score, precision_score\n",
    "from regression_tools.dftransformers import (\n",
    "    ColumnSelector, Identity, FeatureUnion, MapFeature, Intercept)\n"
   ]
  },
  {
   "cell_type": "code",
   "execution_count": 5,
   "metadata": {},
   "outputs": [],
   "source": [
    "from my_metr import plot_roc_curve"
   ]
  },
  {
   "cell_type": "code",
   "execution_count": 6,
   "metadata": {},
   "outputs": [],
   "source": [
    "import matplotlib.pyplot as plt\n",
    "%matplotlib inline"
   ]
  },
  {
   "cell_type": "code",
   "execution_count": 8,
   "metadata": {},
   "outputs": [],
   "source": [
    "biz_df = pd.read_csv('biz_cluster10.csv')"
   ]
  },
  {
   "cell_type": "code",
   "execution_count": 9,
   "metadata": {},
   "outputs": [
    {
     "name": "stdout",
     "output_type": "stream",
     "text": [
      "<class 'pandas.core.frame.DataFrame'>\n",
      "RangeIndex: 57173 entries, 0 to 57172\n",
      "Data columns (total 16 columns):\n",
      "Unnamed: 0                57173 non-null int64\n",
      "business_id               57173 non-null object\n",
      "RestaurantsPriceRange2    51111 non-null float64\n",
      "stars                     57173 non-null float64\n",
      "review_count              57173 non-null int64\n",
      "categories                57173 non-null object\n",
      "cl_0                      3408 non-null float64\n",
      "cl_1                      39190 non-null float64\n",
      "cl_2                      1 non-null float64\n",
      "cl_3                      10110 non-null float64\n",
      "cl_4                      1618 non-null float64\n",
      "cl_5                      16383 non-null float64\n",
      "cl_6                      23148 non-null float64\n",
      "cl_7                      0 non-null float64\n",
      "cl_8                      3980 non-null float64\n",
      "cl_9                      3619 non-null float64\n",
      "dtypes: float64(12), int64(2), object(2)\n",
      "memory usage: 7.0+ MB\n"
     ]
    }
   ],
   "source": [
    "biz_df.info()"
   ]
  },
  {
   "cell_type": "code",
   "execution_count": 8,
   "metadata": {},
   "outputs": [
    {
     "data": {
      "text/html": [
       "<div>\n",
       "<style scoped>\n",
       "    .dataframe tbody tr th:only-of-type {\n",
       "        vertical-align: middle;\n",
       "    }\n",
       "\n",
       "    .dataframe tbody tr th {\n",
       "        vertical-align: top;\n",
       "    }\n",
       "\n",
       "    .dataframe thead th {\n",
       "        text-align: right;\n",
       "    }\n",
       "</style>\n",
       "<table border=\"1\" class=\"dataframe\">\n",
       "  <thead>\n",
       "    <tr style=\"text-align: right;\">\n",
       "      <th></th>\n",
       "      <th>Unnamed: 0</th>\n",
       "      <th>business_id</th>\n",
       "      <th>RestaurantsPriceRange2</th>\n",
       "      <th>stars</th>\n",
       "      <th>review_count</th>\n",
       "      <th>categories</th>\n",
       "      <th>cl_0</th>\n",
       "      <th>cl_1</th>\n",
       "      <th>cl_2</th>\n",
       "      <th>cl_3</th>\n",
       "      <th>...</th>\n",
       "      <th>cl_8</th>\n",
       "      <th>cl_9</th>\n",
       "      <th>cl_10</th>\n",
       "      <th>cl_11</th>\n",
       "      <th>cl_12</th>\n",
       "      <th>cl_13</th>\n",
       "      <th>cl_14</th>\n",
       "      <th>cl_15</th>\n",
       "      <th>cl_16</th>\n",
       "      <th>cl_17</th>\n",
       "    </tr>\n",
       "  </thead>\n",
       "  <tbody>\n",
       "    <tr>\n",
       "      <th>0</th>\n",
       "      <td>0</td>\n",
       "      <td>--9e1ONYQuAa-CB_Rrw7Tw</td>\n",
       "      <td>4.0</td>\n",
       "      <td>4.0</td>\n",
       "      <td>1546</td>\n",
       "      <td>Steakhouses, Restaurants, Cajun/Creole</td>\n",
       "      <td>0.0</td>\n",
       "      <td>1.0</td>\n",
       "      <td>2.0</td>\n",
       "      <td>NaN</td>\n",
       "      <td>...</td>\n",
       "      <td>8.0</td>\n",
       "      <td>NaN</td>\n",
       "      <td>NaN</td>\n",
       "      <td>NaN</td>\n",
       "      <td>NaN</td>\n",
       "      <td>13.0</td>\n",
       "      <td>NaN</td>\n",
       "      <td>NaN</td>\n",
       "      <td>16.0</td>\n",
       "      <td>17.0</td>\n",
       "    </tr>\n",
       "    <tr>\n",
       "      <th>1</th>\n",
       "      <td>1</td>\n",
       "      <td>-VAsjhmAbKF3Pb_-8rh3xg</td>\n",
       "      <td>1.0</td>\n",
       "      <td>2.0</td>\n",
       "      <td>10</td>\n",
       "      <td>Fast Food, Burgers, Restaurants</td>\n",
       "      <td>NaN</td>\n",
       "      <td>1.0</td>\n",
       "      <td>NaN</td>\n",
       "      <td>NaN</td>\n",
       "      <td>...</td>\n",
       "      <td>NaN</td>\n",
       "      <td>NaN</td>\n",
       "      <td>NaN</td>\n",
       "      <td>NaN</td>\n",
       "      <td>NaN</td>\n",
       "      <td>NaN</td>\n",
       "      <td>NaN</td>\n",
       "      <td>NaN</td>\n",
       "      <td>NaN</td>\n",
       "      <td>NaN</td>\n",
       "    </tr>\n",
       "    <tr>\n",
       "      <th>2</th>\n",
       "      <td>2</td>\n",
       "      <td>-cxD1NimFldATDUsN-oa3A</td>\n",
       "      <td>2.0</td>\n",
       "      <td>2.0</td>\n",
       "      <td>23</td>\n",
       "      <td>Mexican, Restaurants</td>\n",
       "      <td>NaN</td>\n",
       "      <td>1.0</td>\n",
       "      <td>NaN</td>\n",
       "      <td>NaN</td>\n",
       "      <td>...</td>\n",
       "      <td>NaN</td>\n",
       "      <td>NaN</td>\n",
       "      <td>NaN</td>\n",
       "      <td>NaN</td>\n",
       "      <td>NaN</td>\n",
       "      <td>NaN</td>\n",
       "      <td>NaN</td>\n",
       "      <td>NaN</td>\n",
       "      <td>NaN</td>\n",
       "      <td>NaN</td>\n",
       "    </tr>\n",
       "  </tbody>\n",
       "</table>\n",
       "<p>3 rows × 24 columns</p>\n",
       "</div>"
      ],
      "text/plain": [
       "   Unnamed: 0             business_id  RestaurantsPriceRange2  stars  \\\n",
       "0           0  --9e1ONYQuAa-CB_Rrw7Tw                     4.0    4.0   \n",
       "1           1  -VAsjhmAbKF3Pb_-8rh3xg                     1.0    2.0   \n",
       "2           2  -cxD1NimFldATDUsN-oa3A                     2.0    2.0   \n",
       "\n",
       "   review_count                              categories  cl_0  cl_1  cl_2  \\\n",
       "0          1546  Steakhouses, Restaurants, Cajun/Creole   0.0   1.0   2.0   \n",
       "1            10         Fast Food, Burgers, Restaurants   NaN   1.0   NaN   \n",
       "2            23                    Mexican, Restaurants   NaN   1.0   NaN   \n",
       "\n",
       "   cl_3  ...    cl_8  cl_9  cl_10  cl_11  cl_12  cl_13  cl_14  cl_15  cl_16  \\\n",
       "0   NaN  ...     8.0   NaN    NaN    NaN    NaN   13.0    NaN    NaN   16.0   \n",
       "1   NaN  ...     NaN   NaN    NaN    NaN    NaN    NaN    NaN    NaN    NaN   \n",
       "2   NaN  ...     NaN   NaN    NaN    NaN    NaN    NaN    NaN    NaN    NaN   \n",
       "\n",
       "   cl_17  \n",
       "0   17.0  \n",
       "1    NaN  \n",
       "2    NaN  \n",
       "\n",
       "[3 rows x 24 columns]"
      ]
     },
     "execution_count": 8,
     "metadata": {},
     "output_type": "execute_result"
    }
   ],
   "source": [
    "biz_df.head(3)"
   ]
  },
  {
   "cell_type": "markdown",
   "metadata": {},
   "source": [
    "### Cleaning"
   ]
  },
  {
   "cell_type": "code",
   "execution_count": 10,
   "metadata": {},
   "outputs": [],
   "source": [
    "biz_cl = biz_df.copy()\n",
    "for i in range (10):\n",
    "    col_new = 'cl_t'+str(i)\n",
    "    col_old = 'cl_'+str(i)\n",
    "    biz_cl[col_new] = ~pd.isnull(biz_df[col_old])\n",
    "    biz_cl.drop(col_old, axis =1, inplace= True)\n"
   ]
  },
  {
   "cell_type": "code",
   "execution_count": 11,
   "metadata": {},
   "outputs": [
    {
     "data": {
      "text/plain": [
       "(57173, 16)"
      ]
     },
     "execution_count": 11,
     "metadata": {},
     "output_type": "execute_result"
    }
   ],
   "source": [
    "biz_cl.shape"
   ]
  },
  {
   "cell_type": "code",
   "execution_count": 12,
   "metadata": {},
   "outputs": [],
   "source": [
    "biz_cl['how_many_cl'] = 0\n",
    "for i in range (10):\n",
    "    col_new = 'cl_t'+str(i)\n",
    "    biz_cl['how_many_cl'] += biz_cl[col_new]\n",
    "\n"
   ]
  },
  {
   "cell_type": "code",
   "execution_count": 13,
   "metadata": {},
   "outputs": [
    {
     "data": {
      "text/plain": [
       "3104"
      ]
     },
     "execution_count": 13,
     "metadata": {},
     "output_type": "execute_result"
    }
   ],
   "source": [
    "len(biz_cl[biz_cl['how_many_cl']>4])"
   ]
  },
  {
   "cell_type": "code",
   "execution_count": 14,
   "metadata": {},
   "outputs": [
    {
     "data": {
      "text/plain": [
       "713"
      ]
     },
     "execution_count": 14,
     "metadata": {},
     "output_type": "execute_result"
    }
   ],
   "source": [
    "len(biz_cl[biz_cl['how_many_cl']>5])"
   ]
  },
  {
   "cell_type": "code",
   "execution_count": 19,
   "metadata": {},
   "outputs": [
    {
     "data": {
      "text/plain": [
       "57173"
      ]
     },
     "execution_count": 19,
     "metadata": {},
     "output_type": "execute_result"
    }
   ],
   "source": [
    "len(biz_cl)"
   ]
  },
  {
   "cell_type": "code",
   "execution_count": 15,
   "metadata": {},
   "outputs": [],
   "source": [
    "def expand_features(X, col='features', inplace=False, sep=None):\n",
    "    X = X.copy() if not inplace else X\n",
    "    if sep==None:\n",
    "        for i in range(len(X[col].iloc[0])):\n",
    "             X['feature_' + str(i)] = X[col].apply(lambda x: x[i])\n",
    "    else:\n",
    "        lbls = np.unique(sep.join(X[col].unique()).split(sep))\n",
    "        lbls = np.unique([l.strip() for l in lbls])\n",
    "        for lbl in lbls:\n",
    "            X[lbl] = X[col].apply(lambda x: lbl in x)\n",
    "        X.drop(col, axis=1, inplace=True)\n",
    "    return X"
   ]
  },
  {
   "cell_type": "code",
   "execution_count": 16,
   "metadata": {},
   "outputs": [],
   "source": [
    "biz_cl1 = expand_features(biz_cl, col='categories', sep =',')"
   ]
  },
  {
   "cell_type": "code",
   "execution_count": 17,
   "metadata": {},
   "outputs": [],
   "source": [
    "biz_cl1['num_of_categ'] = biz_df.categories.map(lambda x: len(x.split(',')))"
   ]
  },
  {
   "cell_type": "code",
   "execution_count": 18,
   "metadata": {},
   "outputs": [
    {
     "data": {
      "text/plain": [
       "((57173, 724),\n",
       " Index(['Unnamed: 0', 'business_id', 'RestaurantsPriceRange2', 'stars',\n",
       "        'review_count', 'cl_t0', 'cl_t1', 'cl_t2', 'cl_t3', 'cl_t4', 'cl_t5',\n",
       "        'cl_t6', 'cl_t7', 'cl_t8', 'cl_t9', 'how_many_cl', '& Probates',\n",
       "        'Acai Bowls', 'Accessories', 'Accountants', 'Active Life',\n",
       "        'Acupuncture', 'Adult Education', 'Adult Entertainment', 'Advertising',\n",
       "        'Afghan', 'African'],\n",
       "       dtype='object'))"
      ]
     },
     "execution_count": 18,
     "metadata": {},
     "output_type": "execute_result"
    }
   ],
   "source": [
    "biz_cl1.shape, biz_cl1.columns[:27]"
   ]
  },
  {
   "cell_type": "code",
   "execution_count": 19,
   "metadata": {},
   "outputs": [],
   "source": [
    "colClust =['cl_t0', 'cl_t1', 'cl_t2', 'cl_t3', 'cl_t4', 'cl_t5',\n",
    "        'cl_t6', 'cl_t7', 'cl_t8', 'cl_t9']"
   ]
  },
  {
   "cell_type": "code",
   "execution_count": 20,
   "metadata": {},
   "outputs": [
    {
     "data": {
      "text/html": [
       "<div>\n",
       "<style scoped>\n",
       "    .dataframe tbody tr th:only-of-type {\n",
       "        vertical-align: middle;\n",
       "    }\n",
       "\n",
       "    .dataframe tbody tr th {\n",
       "        vertical-align: top;\n",
       "    }\n",
       "\n",
       "    .dataframe thead th {\n",
       "        text-align: right;\n",
       "    }\n",
       "</style>\n",
       "<table border=\"1\" class=\"dataframe\">\n",
       "  <thead>\n",
       "    <tr style=\"text-align: right;\">\n",
       "      <th></th>\n",
       "      <th>cl_t0</th>\n",
       "      <th>cl_t1</th>\n",
       "      <th>cl_t2</th>\n",
       "      <th>cl_t3</th>\n",
       "      <th>cl_t4</th>\n",
       "      <th>cl_t5</th>\n",
       "      <th>cl_t6</th>\n",
       "      <th>cl_t7</th>\n",
       "      <th>cl_t8</th>\n",
       "      <th>cl_t9</th>\n",
       "    </tr>\n",
       "  </thead>\n",
       "  <tbody>\n",
       "    <tr>\n",
       "      <th>cl_t0</th>\n",
       "      <td>1.000000</td>\n",
       "      <td>0.070472</td>\n",
       "      <td>-0.001053</td>\n",
       "      <td>0.031631</td>\n",
       "      <td>-0.039402</td>\n",
       "      <td>-0.037345</td>\n",
       "      <td>0.061130</td>\n",
       "      <td>NaN</td>\n",
       "      <td>0.017347</td>\n",
       "      <td>-0.029345</td>\n",
       "    </tr>\n",
       "    <tr>\n",
       "      <th>cl_t1</th>\n",
       "      <td>0.070472</td>\n",
       "      <td>1.000000</td>\n",
       "      <td>0.002833</td>\n",
       "      <td>0.249689</td>\n",
       "      <td>0.071763</td>\n",
       "      <td>0.282010</td>\n",
       "      <td>0.367572</td>\n",
       "      <td>NaN</td>\n",
       "      <td>0.149177</td>\n",
       "      <td>0.120866</td>\n",
       "    </tr>\n",
       "    <tr>\n",
       "      <th>cl_t2</th>\n",
       "      <td>-0.001053</td>\n",
       "      <td>0.002833</td>\n",
       "      <td>1.000000</td>\n",
       "      <td>0.009023</td>\n",
       "      <td>-0.000714</td>\n",
       "      <td>-0.002651</td>\n",
       "      <td>0.005070</td>\n",
       "      <td>NaN</td>\n",
       "      <td>-0.001144</td>\n",
       "      <td>-0.001087</td>\n",
       "    </tr>\n",
       "    <tr>\n",
       "      <th>cl_t3</th>\n",
       "      <td>0.031631</td>\n",
       "      <td>0.249689</td>\n",
       "      <td>0.009023</td>\n",
       "      <td>1.000000</td>\n",
       "      <td>0.072953</td>\n",
       "      <td>0.323030</td>\n",
       "      <td>0.383915</td>\n",
       "      <td>NaN</td>\n",
       "      <td>0.325909</td>\n",
       "      <td>0.168512</td>\n",
       "    </tr>\n",
       "    <tr>\n",
       "      <th>cl_t4</th>\n",
       "      <td>-0.039402</td>\n",
       "      <td>0.071763</td>\n",
       "      <td>-0.000714</td>\n",
       "      <td>0.072953</td>\n",
       "      <td>1.000000</td>\n",
       "      <td>0.036941</td>\n",
       "      <td>0.076691</td>\n",
       "      <td>NaN</td>\n",
       "      <td>0.044912</td>\n",
       "      <td>-0.025738</td>\n",
       "    </tr>\n",
       "    <tr>\n",
       "      <th>cl_t5</th>\n",
       "      <td>-0.037345</td>\n",
       "      <td>0.282010</td>\n",
       "      <td>-0.002651</td>\n",
       "      <td>0.323030</td>\n",
       "      <td>0.036941</td>\n",
       "      <td>1.000000</td>\n",
       "      <td>0.327355</td>\n",
       "      <td>NaN</td>\n",
       "      <td>0.263347</td>\n",
       "      <td>0.085782</td>\n",
       "    </tr>\n",
       "    <tr>\n",
       "      <th>cl_t6</th>\n",
       "      <td>0.061130</td>\n",
       "      <td>0.367572</td>\n",
       "      <td>0.005070</td>\n",
       "      <td>0.383915</td>\n",
       "      <td>0.076691</td>\n",
       "      <td>0.327355</td>\n",
       "      <td>1.000000</td>\n",
       "      <td>NaN</td>\n",
       "      <td>0.241464</td>\n",
       "      <td>0.161955</td>\n",
       "    </tr>\n",
       "    <tr>\n",
       "      <th>cl_t7</th>\n",
       "      <td>NaN</td>\n",
       "      <td>NaN</td>\n",
       "      <td>NaN</td>\n",
       "      <td>NaN</td>\n",
       "      <td>NaN</td>\n",
       "      <td>NaN</td>\n",
       "      <td>NaN</td>\n",
       "      <td>NaN</td>\n",
       "      <td>NaN</td>\n",
       "      <td>NaN</td>\n",
       "    </tr>\n",
       "    <tr>\n",
       "      <th>cl_t8</th>\n",
       "      <td>0.017347</td>\n",
       "      <td>0.149177</td>\n",
       "      <td>-0.001144</td>\n",
       "      <td>0.325909</td>\n",
       "      <td>0.044912</td>\n",
       "      <td>0.263347</td>\n",
       "      <td>0.241464</td>\n",
       "      <td>NaN</td>\n",
       "      <td>1.000000</td>\n",
       "      <td>0.108121</td>\n",
       "    </tr>\n",
       "    <tr>\n",
       "      <th>cl_t9</th>\n",
       "      <td>-0.029345</td>\n",
       "      <td>0.120866</td>\n",
       "      <td>-0.001087</td>\n",
       "      <td>0.168512</td>\n",
       "      <td>-0.025738</td>\n",
       "      <td>0.085782</td>\n",
       "      <td>0.161955</td>\n",
       "      <td>NaN</td>\n",
       "      <td>0.108121</td>\n",
       "      <td>1.000000</td>\n",
       "    </tr>\n",
       "  </tbody>\n",
       "</table>\n",
       "</div>"
      ],
      "text/plain": [
       "          cl_t0     cl_t1     cl_t2     cl_t3     cl_t4     cl_t5     cl_t6  \\\n",
       "cl_t0  1.000000  0.070472 -0.001053  0.031631 -0.039402 -0.037345  0.061130   \n",
       "cl_t1  0.070472  1.000000  0.002833  0.249689  0.071763  0.282010  0.367572   \n",
       "cl_t2 -0.001053  0.002833  1.000000  0.009023 -0.000714 -0.002651  0.005070   \n",
       "cl_t3  0.031631  0.249689  0.009023  1.000000  0.072953  0.323030  0.383915   \n",
       "cl_t4 -0.039402  0.071763 -0.000714  0.072953  1.000000  0.036941  0.076691   \n",
       "cl_t5 -0.037345  0.282010 -0.002651  0.323030  0.036941  1.000000  0.327355   \n",
       "cl_t6  0.061130  0.367572  0.005070  0.383915  0.076691  0.327355  1.000000   \n",
       "cl_t7       NaN       NaN       NaN       NaN       NaN       NaN       NaN   \n",
       "cl_t8  0.017347  0.149177 -0.001144  0.325909  0.044912  0.263347  0.241464   \n",
       "cl_t9 -0.029345  0.120866 -0.001087  0.168512 -0.025738  0.085782  0.161955   \n",
       "\n",
       "       cl_t7     cl_t8     cl_t9  \n",
       "cl_t0    NaN  0.017347 -0.029345  \n",
       "cl_t1    NaN  0.149177  0.120866  \n",
       "cl_t2    NaN -0.001144 -0.001087  \n",
       "cl_t3    NaN  0.325909  0.168512  \n",
       "cl_t4    NaN  0.044912 -0.025738  \n",
       "cl_t5    NaN  0.263347  0.085782  \n",
       "cl_t6    NaN  0.241464  0.161955  \n",
       "cl_t7    NaN       NaN       NaN  \n",
       "cl_t8    NaN  1.000000  0.108121  \n",
       "cl_t9    NaN  0.108121  1.000000  "
      ]
     },
     "execution_count": 20,
     "metadata": {},
     "output_type": "execute_result"
    }
   ],
   "source": [
    "biz_cl1[colClust].corr()"
   ]
  },
  {
   "cell_type": "code",
   "execution_count": 21,
   "metadata": {},
   "outputs": [],
   "source": [
    "mmm = biz_cl1[biz_cl1.columns[16:]].mean(axis = 0)"
   ]
  },
  {
   "cell_type": "code",
   "execution_count": 22,
   "metadata": {},
   "outputs": [
    {
     "data": {
      "text/plain": [
       "count    708.000000\n",
       "mean       0.011466\n",
       "std        0.154915\n",
       "min        0.000017\n",
       "25%        0.000017\n",
       "50%        0.000087\n",
       "75%        0.000896\n",
       "max        3.972067\n",
       "dtype: float64"
      ]
     },
     "execution_count": 22,
     "metadata": {},
     "output_type": "execute_result"
    }
   ],
   "source": [
    "mmm.describe()"
   ]
  },
  {
   "cell_type": "code",
   "execution_count": 23,
   "metadata": {},
   "outputs": [],
   "source": [
    "ll = mmm[mmm<0.0005]"
   ]
  },
  {
   "cell_type": "code",
   "execution_count": 22,
   "metadata": {},
   "outputs": [],
   "source": [
    "ll.to_csv('d.txt')"
   ]
  },
  {
   "cell_type": "code",
   "execution_count": 25,
   "metadata": {},
   "outputs": [
    {
     "data": {
      "text/plain": [
       "499"
      ]
     },
     "execution_count": 25,
     "metadata": {},
     "output_type": "execute_result"
    }
   ],
   "source": [
    "len(ll)"
   ]
  },
  {
   "cell_type": "code",
   "execution_count": 31,
   "metadata": {},
   "outputs": [
    {
     "data": {
      "text/plain": [
       "209"
      ]
     },
     "execution_count": 31,
     "metadata": {},
     "output_type": "execute_result"
    }
   ],
   "source": [
    "l2 = mmm[mmm>=0.0005]\n",
    "len(l2)"
   ]
  },
  {
   "cell_type": "code",
   "execution_count": 26,
   "metadata": {},
   "outputs": [],
   "source": [
    "fe = pd.read_csv('model_cat.csv')"
   ]
  },
  {
   "cell_type": "code",
   "execution_count": 30,
   "metadata": {},
   "outputs": [
    {
     "data": {
      "text/plain": [
       "209"
      ]
     },
     "execution_count": 30,
     "metadata": {},
     "output_type": "execute_result"
    }
   ],
   "source": [
    "len(fe)"
   ]
  },
  {
   "cell_type": "code",
   "execution_count": 44,
   "metadata": {},
   "outputs": [],
   "source": [
    "#l2.to_csv('model_cat.csv', header= True)\n"
   ]
  },
  {
   "cell_type": "code",
   "execution_count": 32,
   "metadata": {},
   "outputs": [],
   "source": [
    "biz_cl2 = biz_cl1.drop(ll.index, axis = 1)"
   ]
  },
  {
   "cell_type": "code",
   "execution_count": 33,
   "metadata": {},
   "outputs": [
    {
     "data": {
      "text/plain": [
       "(57173, 225)"
      ]
     },
     "execution_count": 33,
     "metadata": {},
     "output_type": "execute_result"
    }
   ],
   "source": [
    "biz_cl2.shape"
   ]
  },
  {
   "cell_type": "code",
   "execution_count": 34,
   "metadata": {},
   "outputs": [
    {
     "data": {
      "text/html": [
       "<div>\n",
       "<style scoped>\n",
       "    .dataframe tbody tr th:only-of-type {\n",
       "        vertical-align: middle;\n",
       "    }\n",
       "\n",
       "    .dataframe tbody tr th {\n",
       "        vertical-align: top;\n",
       "    }\n",
       "\n",
       "    .dataframe thead th {\n",
       "        text-align: right;\n",
       "    }\n",
       "</style>\n",
       "<table border=\"1\" class=\"dataframe\">\n",
       "  <thead>\n",
       "    <tr style=\"text-align: right;\">\n",
       "      <th></th>\n",
       "      <th>Unnamed: 0</th>\n",
       "      <th>RestaurantsPriceRange2</th>\n",
       "      <th>stars</th>\n",
       "      <th>review_count</th>\n",
       "      <th>how_many_cl</th>\n",
       "      <th>num_of_categ</th>\n",
       "    </tr>\n",
       "  </thead>\n",
       "  <tbody>\n",
       "    <tr>\n",
       "      <th>count</th>\n",
       "      <td>57173.000000</td>\n",
       "      <td>51111.000000</td>\n",
       "      <td>57173.000000</td>\n",
       "      <td>57173.000000</td>\n",
       "      <td>57173.000000</td>\n",
       "      <td>57173.000000</td>\n",
       "    </tr>\n",
       "    <tr>\n",
       "      <th>mean</th>\n",
       "      <td>28586.000000</td>\n",
       "      <td>1.676117</td>\n",
       "      <td>3.444930</td>\n",
       "      <td>63.924108</td>\n",
       "      <td>1.774561</td>\n",
       "      <td>3.972067</td>\n",
       "    </tr>\n",
       "    <tr>\n",
       "      <th>std</th>\n",
       "      <td>16504.567807</td>\n",
       "      <td>0.625056</td>\n",
       "      <td>0.803564</td>\n",
       "      <td>162.644692</td>\n",
       "      <td>1.483729</td>\n",
       "      <td>2.016420</td>\n",
       "    </tr>\n",
       "    <tr>\n",
       "      <th>min</th>\n",
       "      <td>0.000000</td>\n",
       "      <td>1.000000</td>\n",
       "      <td>1.000000</td>\n",
       "      <td>3.000000</td>\n",
       "      <td>0.000000</td>\n",
       "      <td>1.000000</td>\n",
       "    </tr>\n",
       "    <tr>\n",
       "      <th>25%</th>\n",
       "      <td>14293.000000</td>\n",
       "      <td>1.000000</td>\n",
       "      <td>3.000000</td>\n",
       "      <td>7.000000</td>\n",
       "      <td>1.000000</td>\n",
       "      <td>2.000000</td>\n",
       "    </tr>\n",
       "    <tr>\n",
       "      <th>50%</th>\n",
       "      <td>28586.000000</td>\n",
       "      <td>2.000000</td>\n",
       "      <td>3.500000</td>\n",
       "      <td>19.000000</td>\n",
       "      <td>2.000000</td>\n",
       "      <td>4.000000</td>\n",
       "    </tr>\n",
       "    <tr>\n",
       "      <th>75%</th>\n",
       "      <td>42879.000000</td>\n",
       "      <td>2.000000</td>\n",
       "      <td>4.000000</td>\n",
       "      <td>59.000000</td>\n",
       "      <td>3.000000</td>\n",
       "      <td>5.000000</td>\n",
       "    </tr>\n",
       "    <tr>\n",
       "      <th>max</th>\n",
       "      <td>57172.000000</td>\n",
       "      <td>4.000000</td>\n",
       "      <td>5.000000</td>\n",
       "      <td>7968.000000</td>\n",
       "      <td>8.000000</td>\n",
       "      <td>37.000000</td>\n",
       "    </tr>\n",
       "  </tbody>\n",
       "</table>\n",
       "</div>"
      ],
      "text/plain": [
       "         Unnamed: 0  RestaurantsPriceRange2         stars  review_count  \\\n",
       "count  57173.000000            51111.000000  57173.000000  57173.000000   \n",
       "mean   28586.000000                1.676117      3.444930     63.924108   \n",
       "std    16504.567807                0.625056      0.803564    162.644692   \n",
       "min        0.000000                1.000000      1.000000      3.000000   \n",
       "25%    14293.000000                1.000000      3.000000      7.000000   \n",
       "50%    28586.000000                2.000000      3.500000     19.000000   \n",
       "75%    42879.000000                2.000000      4.000000     59.000000   \n",
       "max    57172.000000                4.000000      5.000000   7968.000000   \n",
       "\n",
       "        how_many_cl  num_of_categ  \n",
       "count  57173.000000  57173.000000  \n",
       "mean       1.774561      3.972067  \n",
       "std        1.483729      2.016420  \n",
       "min        0.000000      1.000000  \n",
       "25%        1.000000      2.000000  \n",
       "50%        2.000000      4.000000  \n",
       "75%        3.000000      5.000000  \n",
       "max        8.000000     37.000000  "
      ]
     },
     "execution_count": 34,
     "metadata": {},
     "output_type": "execute_result"
    }
   ],
   "source": [
    "biz_cl2.describe()"
   ]
  },
  {
   "cell_type": "code",
   "execution_count": 42,
   "metadata": {},
   "outputs": [
    {
     "data": {
      "text/html": [
       "<div>\n",
       "<style scoped>\n",
       "    .dataframe tbody tr th:only-of-type {\n",
       "        vertical-align: middle;\n",
       "    }\n",
       "\n",
       "    .dataframe tbody tr th {\n",
       "        vertical-align: top;\n",
       "    }\n",
       "\n",
       "    .dataframe thead th {\n",
       "        text-align: right;\n",
       "    }\n",
       "</style>\n",
       "<table border=\"1\" class=\"dataframe\">\n",
       "  <thead>\n",
       "    <tr style=\"text-align: right;\">\n",
       "      <th></th>\n",
       "      <th>Unnamed: 0</th>\n",
       "      <th>business_id</th>\n",
       "      <th>RestaurantsPriceRange2</th>\n",
       "      <th>stars</th>\n",
       "      <th>review_count</th>\n",
       "      <th>cl_t0</th>\n",
       "      <th>cl_t1</th>\n",
       "      <th>cl_t2</th>\n",
       "      <th>cl_t3</th>\n",
       "      <th>cl_t4</th>\n",
       "      <th>...</th>\n",
       "      <th>Vegetarian</th>\n",
       "      <th>Venues &amp; Event Spaces</th>\n",
       "      <th>Vietnamese</th>\n",
       "      <th>Waffles</th>\n",
       "      <th>Whiskey Bars</th>\n",
       "      <th>Wine &amp; Spirits</th>\n",
       "      <th>Wine Bars</th>\n",
       "      <th>Wineries</th>\n",
       "      <th>Wraps</th>\n",
       "      <th>num_of_categ</th>\n",
       "    </tr>\n",
       "  </thead>\n",
       "  <tbody>\n",
       "    <tr>\n",
       "      <th>13</th>\n",
       "      <td>13</td>\n",
       "      <td>1hBmklxIBhw9nu9NjOTaQA</td>\n",
       "      <td>2.0</td>\n",
       "      <td>3.0</td>\n",
       "      <td>240</td>\n",
       "      <td>True</td>\n",
       "      <td>True</td>\n",
       "      <td>True</td>\n",
       "      <td>False</td>\n",
       "      <td>True</td>\n",
       "      <td>...</td>\n",
       "      <td>False</td>\n",
       "      <td>False</td>\n",
       "      <td>False</td>\n",
       "      <td>False</td>\n",
       "      <td>False</td>\n",
       "      <td>False</td>\n",
       "      <td>False</td>\n",
       "      <td>False</td>\n",
       "      <td>False</td>\n",
       "      <td>9</td>\n",
       "    </tr>\n",
       "    <tr>\n",
       "      <th>22</th>\n",
       "      <td>22</td>\n",
       "      <td>4lCTd6-EzOuKl4YbH9gnxw</td>\n",
       "      <td>2.0</td>\n",
       "      <td>4.0</td>\n",
       "      <td>30</td>\n",
       "      <td>True</td>\n",
       "      <td>False</td>\n",
       "      <td>False</td>\n",
       "      <td>False</td>\n",
       "      <td>False</td>\n",
       "      <td>...</td>\n",
       "      <td>False</td>\n",
       "      <td>False</td>\n",
       "      <td>False</td>\n",
       "      <td>False</td>\n",
       "      <td>False</td>\n",
       "      <td>False</td>\n",
       "      <td>False</td>\n",
       "      <td>False</td>\n",
       "      <td>False</td>\n",
       "      <td>8</td>\n",
       "    </tr>\n",
       "    <tr>\n",
       "      <th>42</th>\n",
       "      <td>42</td>\n",
       "      <td>9dP5WPlF2pfjMOx2UeUFnA</td>\n",
       "      <td>3.0</td>\n",
       "      <td>3.5</td>\n",
       "      <td>69</td>\n",
       "      <td>True</td>\n",
       "      <td>True</td>\n",
       "      <td>False</td>\n",
       "      <td>False</td>\n",
       "      <td>False</td>\n",
       "      <td>...</td>\n",
       "      <td>True</td>\n",
       "      <td>False</td>\n",
       "      <td>False</td>\n",
       "      <td>False</td>\n",
       "      <td>False</td>\n",
       "      <td>False</td>\n",
       "      <td>True</td>\n",
       "      <td>False</td>\n",
       "      <td>False</td>\n",
       "      <td>9</td>\n",
       "    </tr>\n",
       "    <tr>\n",
       "      <th>53</th>\n",
       "      <td>53</td>\n",
       "      <td>DEBqmgxv2yhJ93LqGpKltg</td>\n",
       "      <td>1.0</td>\n",
       "      <td>4.0</td>\n",
       "      <td>111</td>\n",
       "      <td>True</td>\n",
       "      <td>True</td>\n",
       "      <td>False</td>\n",
       "      <td>False</td>\n",
       "      <td>False</td>\n",
       "      <td>...</td>\n",
       "      <td>False</td>\n",
       "      <td>False</td>\n",
       "      <td>False</td>\n",
       "      <td>False</td>\n",
       "      <td>False</td>\n",
       "      <td>False</td>\n",
       "      <td>False</td>\n",
       "      <td>False</td>\n",
       "      <td>True</td>\n",
       "      <td>8</td>\n",
       "    </tr>\n",
       "    <tr>\n",
       "      <th>70</th>\n",
       "      <td>70</td>\n",
       "      <td>HlYzk84INQaNslFT-lyBFw</td>\n",
       "      <td>2.0</td>\n",
       "      <td>2.0</td>\n",
       "      <td>42</td>\n",
       "      <td>True</td>\n",
       "      <td>True</td>\n",
       "      <td>True</td>\n",
       "      <td>False</td>\n",
       "      <td>False</td>\n",
       "      <td>...</td>\n",
       "      <td>False</td>\n",
       "      <td>False</td>\n",
       "      <td>False</td>\n",
       "      <td>False</td>\n",
       "      <td>False</td>\n",
       "      <td>False</td>\n",
       "      <td>False</td>\n",
       "      <td>False</td>\n",
       "      <td>False</td>\n",
       "      <td>8</td>\n",
       "    </tr>\n",
       "  </tbody>\n",
       "</table>\n",
       "<p>5 rows × 233 columns</p>\n",
       "</div>"
      ],
      "text/plain": [
       "    Unnamed: 0             business_id  RestaurantsPriceRange2  stars  \\\n",
       "13          13  1hBmklxIBhw9nu9NjOTaQA                     2.0    3.0   \n",
       "22          22  4lCTd6-EzOuKl4YbH9gnxw                     2.0    4.0   \n",
       "42          42  9dP5WPlF2pfjMOx2UeUFnA                     3.0    3.5   \n",
       "53          53  DEBqmgxv2yhJ93LqGpKltg                     1.0    4.0   \n",
       "70          70  HlYzk84INQaNslFT-lyBFw                     2.0    2.0   \n",
       "\n",
       "    review_count  cl_t0  cl_t1  cl_t2  cl_t3  cl_t4      ...       Vegetarian  \\\n",
       "13           240   True   True   True  False   True      ...            False   \n",
       "22            30   True  False  False  False  False      ...            False   \n",
       "42            69   True   True  False  False  False      ...             True   \n",
       "53           111   True   True  False  False  False      ...            False   \n",
       "70            42   True   True   True  False  False      ...            False   \n",
       "\n",
       "    Venues & Event Spaces  Vietnamese  Waffles  Whiskey Bars  Wine & Spirits  \\\n",
       "13                  False       False    False         False           False   \n",
       "22                  False       False    False         False           False   \n",
       "42                  False       False    False         False           False   \n",
       "53                  False       False    False         False           False   \n",
       "70                  False       False    False         False           False   \n",
       "\n",
       "    Wine Bars  Wineries  Wraps  num_of_categ  \n",
       "13      False     False  False             9  \n",
       "22      False     False  False             8  \n",
       "42       True     False  False             9  \n",
       "53      False     False   True             8  \n",
       "70      False     False  False             8  \n",
       "\n",
       "[5 rows x 233 columns]"
      ]
     },
     "execution_count": 42,
     "metadata": {},
     "output_type": "execute_result"
    }
   ],
   "source": []
  },
  {
   "cell_type": "code",
   "execution_count": 35,
   "metadata": {},
   "outputs": [
    {
     "name": "stderr",
     "output_type": "stream",
     "text": [
      "/anaconda3/lib/python3.6/site-packages/ipykernel_launcher.py:2: SettingWithCopyWarning: \n",
      "A value is trying to be set on a copy of a slice from a DataFrame\n",
      "\n",
      "See the caveats in the documentation: http://pandas.pydata.org/pandas-docs/stable/indexing.html#indexing-view-versus-copy\n",
      "  \n"
     ]
    }
   ],
   "source": [
    "biz_cl2['rest_isna'] = pd.isnull(biz_cl2['RestaurantsPriceRange2'])\n",
    "biz_cl2['RestaurantsPriceRange2'][pd.isnull(biz_cl2['RestaurantsPriceRange2'])] =2\n",
    "\n",
    "mmmm = biz_cl2[biz_cl2.columns[21:] ].mean(axis = 0)"
   ]
  },
  {
   "cell_type": "code",
   "execution_count": 36,
   "metadata": {},
   "outputs": [],
   "source": [
    "rev_norm = biz_cl2['review_count'].map(lambda x: x if x < 250 else 250)\n",
    "biz_cl2['st_over_am'] = biz_cl2['stars']/rev_norm"
   ]
  },
  {
   "cell_type": "code",
   "execution_count": 37,
   "metadata": {},
   "outputs": [
    {
     "data": {
      "text/plain": [
       "Index(['Unnamed: 0', 'business_id', 'RestaurantsPriceRange2', 'stars',\n",
       "       'review_count', 'cl_t0', 'cl_t1', 'cl_t2', 'cl_t3', 'cl_t4',\n",
       "       ...\n",
       "       'Vietnamese', 'Waffles', 'Whiskey Bars', 'Wine & Spirits', 'Wine Bars',\n",
       "       'Wineries', 'Wraps', 'num_of_categ', 'rest_isna', 'st_over_am'],\n",
       "      dtype='object', length=227)"
      ]
     },
     "execution_count": 37,
     "metadata": {},
     "output_type": "execute_result"
    }
   ],
   "source": [
    "biz_cl2.columns"
   ]
  },
  {
   "cell_type": "code",
   "execution_count": 38,
   "metadata": {},
   "outputs": [
    {
     "data": {
      "text/plain": [
       "Index(['Acai Bowls', 'Active Life', 'Afghan', 'African', 'American (New)',\n",
       "       'American (Traditional)', 'Arabian', 'Arcades', 'Argentine',\n",
       "       'Art Galleries',\n",
       "       ...\n",
       "       'Waffles', 'Whiskey Bars', 'Wine & Spirits', 'Wine Bars', 'Wineries',\n",
       "       'Wraps', 'num_of_categ', 'rest_isna', 'st_over_am', 'stars'],\n",
       "      dtype='object', length=213)"
      ]
     },
     "execution_count": 38,
     "metadata": {},
     "output_type": "execute_result"
    }
   ],
   "source": [
    "colPred = biz_cl2.columns[2:4].union( biz_cl2.columns[16:])\n",
    "colPred"
   ]
  },
  {
   "cell_type": "code",
   "execution_count": 63,
   "metadata": {},
   "outputs": [
    {
     "data": {
      "text/plain": [
       "213"
      ]
     },
     "execution_count": 63,
     "metadata": {},
     "output_type": "execute_result"
    }
   ],
   "source": [
    "len(colPred)"
   ]
  },
  {
   "cell_type": "code",
   "execution_count": 64,
   "metadata": {},
   "outputs": [],
   "source": [
    "with open('colPred213', 'wb') as f:\n",
    "    pickle.dump(colPred, f)"
   ]
  },
  {
   "cell_type": "code",
   "execution_count": null,
   "metadata": {},
   "outputs": [],
   "source": []
  },
  {
   "cell_type": "code",
   "execution_count": 58,
   "metadata": {},
   "outputs": [
    {
     "data": {
      "text/plain": [
       "Index(['RestaurantsPriceRange2', 'stars', 'review_count'], dtype='object')"
      ]
     },
     "execution_count": 58,
     "metadata": {},
     "output_type": "execute_result"
    }
   ],
   "source": [
    "biz_cl2.columns[2:5]"
   ]
  },
  {
   "cell_type": "code",
   "execution_count": 51,
   "metadata": {},
   "outputs": [],
   "source": [
    "colClust_n = ['cl_t0', 'cl_t1',  'cl_t3', 'cl_t4', 'cl_t5', \n",
    "       'cl_t8', 'cl_t9']"
   ]
  },
  {
   "cell_type": "code",
   "execution_count": 52,
   "metadata": {},
   "outputs": [],
   "source": [
    "X = biz_cl2[colPred]\n",
    "####\n",
    "Y = biz_cl2[colClust_n] "
   ]
  },
  {
   "cell_type": "code",
   "execution_count": 67,
   "metadata": {},
   "outputs": [
    {
     "data": {
      "text/plain": [
       "213"
      ]
     },
     "execution_count": 67,
     "metadata": {},
     "output_type": "execute_result"
    }
   ],
   "source": [
    "len(colPred)"
   ]
  },
  {
   "cell_type": "code",
   "execution_count": 53,
   "metadata": {},
   "outputs": [],
   "source": [
    "X_train, X_test, Y_train, Y_test = train_test_split(  X, Y, test_size=0.33, random_state=91)"
   ]
  },
  {
   "cell_type": "code",
   "execution_count": 42,
   "metadata": {},
   "outputs": [
    {
     "data": {
      "text/plain": [
       "True"
      ]
     },
     "execution_count": 42,
     "metadata": {},
     "output_type": "execute_result"
    }
   ],
   "source": [
    "'RestaurantsPriceRange2' in X_train.columns"
   ]
  },
  {
   "cell_type": "code",
   "execution_count": 43,
   "metadata": {},
   "outputs": [
    {
     "data": {
      "text/html": [
       "<div>\n",
       "<style scoped>\n",
       "    .dataframe tbody tr th:only-of-type {\n",
       "        vertical-align: middle;\n",
       "    }\n",
       "\n",
       "    .dataframe tbody tr th {\n",
       "        vertical-align: top;\n",
       "    }\n",
       "\n",
       "    .dataframe thead th {\n",
       "        text-align: right;\n",
       "    }\n",
       "</style>\n",
       "<table border=\"1\" class=\"dataframe\">\n",
       "  <thead>\n",
       "    <tr style=\"text-align: right;\">\n",
       "      <th></th>\n",
       "      <th>cl_t0</th>\n",
       "      <th>cl_t1</th>\n",
       "      <th>cl_t2</th>\n",
       "      <th>cl_t3</th>\n",
       "      <th>cl_t4</th>\n",
       "      <th>cl_t5</th>\n",
       "      <th>cl_t8</th>\n",
       "      <th>cl_t9</th>\n",
       "    </tr>\n",
       "  </thead>\n",
       "  <tbody>\n",
       "    <tr>\n",
       "      <th>4921</th>\n",
       "      <td>False</td>\n",
       "      <td>False</td>\n",
       "      <td>False</td>\n",
       "      <td>False</td>\n",
       "      <td>False</td>\n",
       "      <td>False</td>\n",
       "      <td>False</td>\n",
       "      <td>False</td>\n",
       "    </tr>\n",
       "    <tr>\n",
       "      <th>34910</th>\n",
       "      <td>False</td>\n",
       "      <td>True</td>\n",
       "      <td>False</td>\n",
       "      <td>False</td>\n",
       "      <td>False</td>\n",
       "      <td>True</td>\n",
       "      <td>False</td>\n",
       "      <td>False</td>\n",
       "    </tr>\n",
       "    <tr>\n",
       "      <th>17982</th>\n",
       "      <td>False</td>\n",
       "      <td>True</td>\n",
       "      <td>False</td>\n",
       "      <td>False</td>\n",
       "      <td>False</td>\n",
       "      <td>False</td>\n",
       "      <td>False</td>\n",
       "      <td>False</td>\n",
       "    </tr>\n",
       "  </tbody>\n",
       "</table>\n",
       "</div>"
      ],
      "text/plain": [
       "       cl_t0  cl_t1  cl_t2  cl_t3  cl_t4  cl_t5  cl_t8  cl_t9\n",
       "4921   False  False  False  False  False  False  False  False\n",
       "34910  False   True  False  False  False   True  False  False\n",
       "17982  False   True  False  False  False  False  False  False"
      ]
     },
     "execution_count": 43,
     "metadata": {},
     "output_type": "execute_result"
    }
   ],
   "source": [
    "Y_train.head(3)"
   ]
  },
  {
   "cell_type": "code",
   "execution_count": 44,
   "metadata": {},
   "outputs": [],
   "source": [
    "cw = Y_train.mean(axis =0)"
   ]
  },
  {
   "cell_type": "code",
   "execution_count": 45,
   "metadata": {
    "scrolled": true
   },
   "outputs": [
    {
     "data": {
      "text/plain": [
       "Index(['cl_t0', 'cl_t1', 'cl_t2', 'cl_t3', 'cl_t4', 'cl_t5', 'cl_t8', 'cl_t9'], dtype='object')"
      ]
     },
     "execution_count": 45,
     "metadata": {},
     "output_type": "execute_result"
    }
   ],
   "source": [
    "cw.index"
   ]
  },
  {
   "cell_type": "code",
   "execution_count": 46,
   "metadata": {},
   "outputs": [
    {
     "data": {
      "text/plain": [
       "{'cl_t0': {1: 0.1, 0: 0.9},\n",
       " 'cl_t1': {1: 0.69, 0: 0.31000000000000005},\n",
       " 'cl_t2': {1: 0.1, 0: 0.9},\n",
       " 'cl_t3': {1: 0.18, 0: 0.8200000000000001},\n",
       " 'cl_t4': {1: 0.1, 0: 0.9},\n",
       " 'cl_t5': {1: 0.29, 0: 0.71},\n",
       " 'cl_t8': {1: 0.1, 0: 0.9},\n",
       " 'cl_t9': {1: 0.1, 0: 0.9}}"
      ]
     },
     "execution_count": 46,
     "metadata": {},
     "output_type": "execute_result"
    }
   ],
   "source": [
    "weights = {}\n",
    "for cl in cw.index:\n",
    "    weights[cl] = {}\n",
    "    weights[cl][1] = max(round(cw[cl],2),0.1)\n",
    "    weights[cl][0] = 1 - weights[cl][1]\n",
    "weights\n",
    "\n",
    "\n",
    "\n",
    "\n",
    "\n",
    "\n",
    "\n"
   ]
  },
  {
   "cell_type": "markdown",
   "metadata": {},
   "source": [
    "### looked how rf worked"
   ]
  },
  {
   "cell_type": "code",
   "execution_count": 305,
   "metadata": {},
   "outputs": [],
   "source": [
    "rf0 = RandomForestClassifier(n_estimators=400,  max_depth=6, \n",
    "                             min_samples_split=2, min_samples_leaf=1, min_weight_fraction_leaf=0.0, max_features=17, \n",
    "                             max_leaf_nodes=None, bootstrap=True, n_jobs=-1, \n",
    "                             random_state=179,   class_weight={0:1, 1:0.9})"
   ]
  },
  {
   "cell_type": "code",
   "execution_count": 306,
   "metadata": {},
   "outputs": [
    {
     "data": {
      "text/plain": [
       "RandomForestClassifier(bootstrap=True, class_weight={0: 1, 1: 0.9},\n",
       "            criterion='gini', max_depth=6, max_features=17,\n",
       "            max_leaf_nodes=None, min_impurity_decrease=0.0,\n",
       "            min_impurity_split=None, min_samples_leaf=1,\n",
       "            min_samples_split=2, min_weight_fraction_leaf=0.0,\n",
       "            n_estimators=400, n_jobs=-1, oob_score=False, random_state=179,\n",
       "            verbose=0, warm_start=False)"
      ]
     },
     "execution_count": 306,
     "metadata": {},
     "output_type": "execute_result"
    }
   ],
   "source": [
    "rf0.fit(X_train, Y_train['cl_t0'])"
   ]
  },
  {
   "cell_type": "code",
   "execution_count": 307,
   "metadata": {},
   "outputs": [],
   "source": [
    "probs = rf0.predict_proba(X_train)"
   ]
  },
  {
   "cell_type": "code",
   "execution_count": 214,
   "metadata": {},
   "outputs": [
    {
     "name": "stdout",
     "output_type": "stream",
     "text": [
      "CPU times: user 27.3 s, sys: 1.29 s, total: 28.6 s\n",
      "Wall time: 7.91 s\n"
     ]
    },
    {
     "data": {
      "text/plain": [
       "array([-0.64195637, -0.64302025, -0.64143821])"
      ]
     },
     "execution_count": 214,
     "metadata": {},
     "output_type": "execute_result"
    }
   ],
   "source": [
    "%%time\n",
    "cross_val_score(rf0,X_train,Y_train['cl_t0'],scoring= 'neg_log_loss')"
   ]
  },
  {
   "cell_type": "code",
   "execution_count": 215,
   "metadata": {},
   "outputs": [
    {
     "name": "stdout",
     "output_type": "stream",
     "text": [
      "CPU times: user 13.3 s, sys: 1.43 s, total: 14.7 s\n",
      "Wall time: 5.15 s\n"
     ]
    },
    {
     "data": {
      "text/plain": [
       "array([-0.64231128, -0.64421853, -0.64476238])"
      ]
     },
     "execution_count": 215,
     "metadata": {},
     "output_type": "execute_result"
    }
   ],
   "source": [
    "%%time\n",
    "cross_val_score(rf0,X_test,Y_test['cl_t0'],scoring= 'neg_log_loss')"
   ]
  },
  {
   "cell_type": "code",
   "execution_count": 195,
   "metadata": {},
   "outputs": [
    {
     "data": {
      "text/plain": [
       "<matplotlib.axes._subplots.AxesSubplot at 0x1a199f2ac8>"
      ]
     },
     "execution_count": 195,
     "metadata": {},
     "output_type": "execute_result"
    },
    {
     "data": {
      "image/png": "[encoded data removed]",
      "text/plain": [
       "<Figure size 432x288 with 1 Axes>"
      ]
     },
     "metadata": {},
     "output_type": "display_data"
    }
   ],
   "source": [
    "#feat_scores = pd.DataFrame({'Fraction of Samples Affected' : rf0.feature_importances_},\n",
    "                           index=X.columns)\n",
    "#feat_scores = feat_scores.sort_values(by='Fraction of Samples Affected')[:20]\n",
    "#feat_scores.plot(kind='barh')"
   ]
  },
  {
   "cell_type": "code",
   "execution_count": 308,
   "metadata": {},
   "outputs": [
    {
     "data": {
      "text/plain": [
       "0.8526941057534566"
      ]
     },
     "execution_count": 308,
     "metadata": {},
     "output_type": "execute_result"
    }
   ],
   "source": [
    "roc_auc_score(Y_train['cl_t0'], probs[:,1])"
   ]
  },
  {
   "cell_type": "code",
   "execution_count": 309,
   "metadata": {},
   "outputs": [
    {
     "data": {
      "text/plain": [
       "<matplotlib.legend.Legend at 0x1a1a1d3320>"
      ]
     },
     "execution_count": 309,
     "metadata": {},
     "output_type": "execute_result"
    },
    {
     "data": {
      "image/png": "[encoded data removed]",
      "text/plain": [
       "<Figure size 432x288 with 1 Axes>"
      ]
     },
     "metadata": {},
     "output_type": "display_data"
    }
   ],
   "source": [
    "fig, ax = plt.subplots()\n",
    "plot_roc_curve(Y_train['cl_t0'], X_train, rf0, ax,  'train-rf')\n",
    "plot_roc_curve(Y_test['cl_t0'], X_test, rf0, ax,  'test-rf')\n",
    "ax.legend()"
   ]
  },
  {
   "cell_type": "code",
   "execution_count": 310,
   "metadata": {},
   "outputs": [],
   "source": [
    "gr0 = GradientBoostingClassifier( learning_rate=0.1, n_estimators=300,\n",
    "                                  subsample=0.8,  \n",
    "                                   max_depth=7,  random_state=179, max_features='sqrt')"
   ]
  },
  {
   "cell_type": "code",
   "execution_count": 311,
   "metadata": {},
   "outputs": [
    {
     "name": "stdout",
     "output_type": "stream",
     "text": [
      "CPU times: user 22.7 s, sys: 139 ms, total: 22.9 s\n",
      "Wall time: 22.9 s\n"
     ]
    },
    {
     "data": {
      "text/plain": [
       "GradientBoostingClassifier(criterion='friedman_mse', init=None,\n",
       "              learning_rate=0.1, loss='deviance', max_depth=7,\n",
       "              max_features='sqrt', max_leaf_nodes=None,\n",
       "              min_impurity_decrease=0.0, min_impurity_split=None,\n",
       "              min_samples_leaf=1, min_samples_split=2,\n",
       "              min_weight_fraction_leaf=0.0, n_estimators=300,\n",
       "              presort='auto', random_state=179, subsample=0.8, verbose=0,\n",
       "              warm_start=False)"
      ]
     },
     "execution_count": 311,
     "metadata": {},
     "output_type": "execute_result"
    }
   ],
   "source": [
    "%%time\n",
    "gr0.fit(X_train, Y_train['cl_t0'])"
   ]
  },
  {
   "cell_type": "code",
   "execution_count": 227,
   "metadata": {},
   "outputs": [
    {
     "name": "stdout",
     "output_type": "stream",
     "text": [
      "CPU times: user 22.9 s, sys: 113 ms, total: 23 s\n",
      "Wall time: 23 s\n"
     ]
    },
    {
     "data": {
      "text/plain": [
       "array([-0.60153555, -0.60666749, -0.61542372])"
      ]
     },
     "execution_count": 227,
     "metadata": {},
     "output_type": "execute_result"
    }
   ],
   "source": [
    "%%time\n",
    "cross_val_score(gr0,X_test,Y_test['cl_t0'],scoring= 'neg_log_loss')"
   ]
  },
  {
   "cell_type": "code",
   "execution_count": 312,
   "metadata": {},
   "outputs": [
    {
     "data": {
      "text/plain": [
       "(0.9096924382208591, 0.8773976794606934)"
      ]
     },
     "execution_count": 312,
     "metadata": {},
     "output_type": "execute_result"
    }
   ],
   "source": [
    "roc_auc_score(Y_train['cl_t0'], gr0.predict_proba(X_train)[:,1]), roc_auc_score(Y_test['cl_t0'], gr0.predict_proba(X_test)[:,1])"
   ]
  },
  {
   "cell_type": "code",
   "execution_count": 313,
   "metadata": {},
   "outputs": [
    {
     "data": {
      "text/plain": [
       "<matplotlib.legend.Legend at 0x1a1a126908>"
      ]
     },
     "execution_count": 313,
     "metadata": {},
     "output_type": "execute_result"
    },
    {
     "data": {
      "image/png": "[encoded data removed]",
      "text/plain": [
       "<Figure size 432x288 with 1 Axes>"
      ]
     },
     "metadata": {},
     "output_type": "display_data"
    }
   ],
   "source": [
    "fig, ax = plt.subplots()\n",
    "plot_roc_curve(Y_train['cl_t0'], X_train, rf0, ax,  'train-rf')\n",
    "plot_roc_curve(Y_test['cl_t0'], X_test, rf0, ax,  'test-rf')\n",
    "plot_roc_curve(Y_train['cl_t0'], X_train, gr0, ax,  'train-gr')\n",
    "plot_roc_curve(Y_test['cl_t0'], X_test, gr0, ax,  'test-gr')\n",
    "\n",
    "ax.legend()"
   ]
  },
  {
   "cell_type": "markdown",
   "metadata": {},
   "source": [
    "## Gridsearch params for RF and GRBoosting"
   ]
  },
  {
   "cell_type": "code",
   "execution_count": 54,
   "metadata": {},
   "outputs": [
    {
     "name": "stdout",
     "output_type": "stream",
     "text": [
      "Fitting 3 folds for each of 12 candidates, totalling 36 fits\n"
     ]
    },
    {
     "name": "stderr",
     "output_type": "stream",
     "text": [
      "[Parallel(n_jobs=-1)]: Done  36 out of  36 | elapsed:  1.3min finished\n"
     ]
    },
    {
     "name": "stdout",
     "output_type": "stream",
     "text": [
      "Fitting 3 folds for each of 12 candidates, totalling 36 fits\n"
     ]
    },
    {
     "name": "stderr",
     "output_type": "stream",
     "text": [
      "[Parallel(n_jobs=-1)]: Done  36 out of  36 | elapsed:  1.3min finished\n"
     ]
    },
    {
     "name": "stdout",
     "output_type": "stream",
     "text": [
      "Fitting 3 folds for each of 12 candidates, totalling 36 fits\n"
     ]
    },
    {
     "name": "stderr",
     "output_type": "stream",
     "text": [
      "[Parallel(n_jobs=-1)]: Done  36 out of  36 | elapsed:  1.3min finished\n"
     ]
    },
    {
     "name": "stdout",
     "output_type": "stream",
     "text": [
      "Fitting 3 folds for each of 12 candidates, totalling 36 fits\n"
     ]
    },
    {
     "name": "stderr",
     "output_type": "stream",
     "text": [
      "[Parallel(n_jobs=-1)]: Done  36 out of  36 | elapsed:  1.2min finished\n"
     ]
    },
    {
     "name": "stdout",
     "output_type": "stream",
     "text": [
      "Fitting 3 folds for each of 12 candidates, totalling 36 fits\n"
     ]
    },
    {
     "name": "stderr",
     "output_type": "stream",
     "text": [
      "[Parallel(n_jobs=-1)]: Done  36 out of  36 | elapsed:  1.4min finished\n"
     ]
    },
    {
     "name": "stdout",
     "output_type": "stream",
     "text": [
      "Fitting 3 folds for each of 12 candidates, totalling 36 fits\n"
     ]
    },
    {
     "name": "stderr",
     "output_type": "stream",
     "text": [
      "[Parallel(n_jobs=-1)]: Done  36 out of  36 | elapsed:  1.3min finished\n"
     ]
    },
    {
     "name": "stdout",
     "output_type": "stream",
     "text": [
      "Fitting 3 folds for each of 12 candidates, totalling 36 fits\n"
     ]
    },
    {
     "name": "stderr",
     "output_type": "stream",
     "text": [
      "[Parallel(n_jobs=-1)]: Done  36 out of  36 | elapsed:  1.3min finished\n"
     ]
    },
    {
     "name": "stdout",
     "output_type": "stream",
     "text": [
      "CPU times: user 5min, sys: 3.71 s, total: 5min 4s\n",
      "Wall time: 9min 48s\n"
     ]
    }
   ],
   "source": [
    "%%time\n",
    "param_grid = {'max_depth' : [5,8, 12 ], 'max_features':[5,10,20,25] }\n",
    "clust_model_rf ={}\n",
    "for col in colClust_n:\n",
    "    rf_c_grid =  GridSearchCV(RandomForestClassifier(n_estimators=400,  \n",
    "                             min_samples_split=2, min_samples_leaf=1,   \n",
    "                             max_leaf_nodes=None, bootstrap=True, n_jobs=-1, \n",
    "                             random_state=179,   class_weight=weights[col]),\n",
    "                             param_grid,\n",
    "                             n_jobs=-1,\n",
    "                             verbose=True,\n",
    "                             scoring='neg_log_loss')\n",
    "    rf_c_grid.fit(X_train, Y_train[col])\n",
    "    clust_model_rf[col] = rf_c_grid.best_estimator_\n",
    "    #params = \n",
    "   # print(\"fot cluster \",col, \" best parameters:\", clust_model_rf[col].)"
   ]
  },
  {
   "cell_type": "code",
   "execution_count": 55,
   "metadata": {},
   "outputs": [
    {
     "name": "stdout",
     "output_type": "stream",
     "text": [
      "Fitting 3 folds for each of 6 candidates, totalling 18 fits\n"
     ]
    },
    {
     "name": "stderr",
     "output_type": "stream",
     "text": [
      "[Parallel(n_jobs=-1)]: Done  18 out of  18 | elapsed:  1.2min finished\n"
     ]
    },
    {
     "name": "stdout",
     "output_type": "stream",
     "text": [
      "Fitting 3 folds for each of 6 candidates, totalling 18 fits\n"
     ]
    },
    {
     "name": "stderr",
     "output_type": "stream",
     "text": [
      "[Parallel(n_jobs=-1)]: Done  18 out of  18 | elapsed:  1.0min finished\n"
     ]
    },
    {
     "name": "stdout",
     "output_type": "stream",
     "text": [
      "Fitting 3 folds for each of 6 candidates, totalling 18 fits\n"
     ]
    },
    {
     "name": "stderr",
     "output_type": "stream",
     "text": [
      "[Parallel(n_jobs=-1)]: Done  18 out of  18 | elapsed:  1.0min finished\n"
     ]
    },
    {
     "name": "stdout",
     "output_type": "stream",
     "text": [
      "Fitting 3 folds for each of 6 candidates, totalling 18 fits\n"
     ]
    },
    {
     "name": "stderr",
     "output_type": "stream",
     "text": [
      "[Parallel(n_jobs=-1)]: Done  18 out of  18 | elapsed:  1.1min finished\n"
     ]
    },
    {
     "name": "stdout",
     "output_type": "stream",
     "text": [
      "Fitting 3 folds for each of 6 candidates, totalling 18 fits\n"
     ]
    },
    {
     "name": "stderr",
     "output_type": "stream",
     "text": [
      "[Parallel(n_jobs=-1)]: Done  18 out of  18 | elapsed:  1.1min finished\n"
     ]
    },
    {
     "name": "stdout",
     "output_type": "stream",
     "text": [
      "Fitting 3 folds for each of 6 candidates, totalling 18 fits\n"
     ]
    },
    {
     "name": "stderr",
     "output_type": "stream",
     "text": [
      "[Parallel(n_jobs=-1)]: Done  18 out of  18 | elapsed:  1.0min finished\n"
     ]
    },
    {
     "name": "stdout",
     "output_type": "stream",
     "text": [
      "Fitting 3 folds for each of 6 candidates, totalling 18 fits\n"
     ]
    },
    {
     "name": "stderr",
     "output_type": "stream",
     "text": [
      "[Parallel(n_jobs=-1)]: Done  18 out of  18 | elapsed:  1.1min finished\n"
     ]
    },
    {
     "name": "stdout",
     "output_type": "stream",
     "text": [
      "CPU times: user 2min 33s, sys: 1.93 s, total: 2min 35s\n",
      "Wall time: 10min 7s\n"
     ]
    }
   ],
   "source": [
    "%%time\n",
    "#colClust\n",
    "param_grid = {'max_depth' : [3,6,8 ], 'learning_rate':[0.05, 0.1] }\n",
    "clust_model_gr ={}\n",
    "for col in colClust_n:\n",
    "    gr_c_grid = GridSearchCV(GradientBoostingClassifier( n_estimators=300,\n",
    "                                  subsample=0.8,  \n",
    "                                     random_state=179, max_features='sqrt'),\n",
    "                             param_grid,\n",
    "                             n_jobs=-1,\n",
    "                             verbose=True,\n",
    "                             scoring='neg_log_loss')\n",
    "    gr_c_grid.fit(X_train, Y_train[col])\n",
    "    clust_model_gr[col] = gr_c_grid.best_estimator_\n",
    "    #print(\"fot cluster \",col, \" best parameters:\", gr_c_grid.best_params_)\n",
    "    "
   ]
  },
  {
   "cell_type": "code",
   "execution_count": 56,
   "metadata": {},
   "outputs": [
    {
     "data": {
      "text/plain": [
       "dict_keys(['cl_t0', 'cl_t1', 'cl_t3', 'cl_t4', 'cl_t5', 'cl_t8', 'cl_t9'])"
      ]
     },
     "execution_count": 56,
     "metadata": {},
     "output_type": "execute_result"
    }
   ],
   "source": [
    "clust_model_rf.keys()"
   ]
  },
  {
   "cell_type": "markdown",
   "metadata": {},
   "source": [
    "# Оля ! сохрани модельки "
   ]
  },
  {
   "cell_type": "code",
   "execution_count": 271,
   "metadata": {},
   "outputs": [
    {
     "data": {
      "text/plain": [
       "dict_keys(['cl_t0'])"
      ]
     },
     "execution_count": 271,
     "metadata": {},
     "output_type": "execute_result"
    }
   ],
   "source": []
  },
  {
   "cell_type": "code",
   "execution_count": null,
   "metadata": {},
   "outputs": [],
   "source": [
    "2+2"
   ]
  },
  {
   "cell_type": "code",
   "execution_count": 64,
   "metadata": {},
   "outputs": [
    {
     "data": {
      "image/png": "[encoded data removed]",
      "text/plain": [
       "<Figure size 1440x720 with 9 Axes>"
      ]
     },
     "metadata": {},
     "output_type": "display_data"
    }
   ],
   "source": [
    "fig, axs = plt.subplots(3,3, figsize = (20,10))\n",
    "for col, ax in zip(colClust_n, axs.flatten()):\n",
    "    plot_roc_curve(Y_test[col], X_test, clust_model_rf[col], ax,  'test-rf')\n",
    "    plot_roc_curve(Y_test[col], X_test, clust_model_gr[col], ax,  'test-gr')\n",
    "    \n",
    "    ax.legend()"
   ]
  },
  {
   "cell_type": "code",
   "execution_count": 58,
   "metadata": {},
   "outputs": [
    {
     "name": "stdout",
     "output_type": "stream",
     "text": [
      "cl_t0 random forest  0.9618491001591942 \n",
      "\n",
      "cl_t0 gradient booster  0.9704478288244774 \n",
      "\n",
      "cl_t1 random forest  0.8938306383615778 \n",
      "\n",
      "cl_t1 gradient booster  0.9042941550338928 \n",
      "\n",
      "cl_t3 random forest  0.8713422173135992 \n",
      "\n",
      "cl_t3 gradient booster  0.892600541215206 \n",
      "\n",
      "cl_t4 random forest  0.9766995763990536 \n",
      "\n",
      "cl_t4 gradient booster  0.9794128401184425 \n",
      "\n",
      "cl_t5 random forest  0.8568288264152107 \n",
      "\n",
      "cl_t5 gradient booster  0.8707281741135398 \n",
      "\n",
      "cl_t8 random forest  0.8592114217295561 \n",
      "\n",
      "cl_t8 gradient booster  0.8870883355343806 \n",
      "\n",
      "cl_t9 random forest  0.8872158665563024 \n",
      "\n",
      "cl_t9 gradient booster  0.9069524711432272 \n",
      "\n"
     ]
    }
   ],
   "source": [
    "for col in colClust_n:\n",
    "    rf_auc = roc_auc_score(Y_test[col],  clust_model_rf[col].predict_proba(X_test)[:,1])\n",
    "    print(col,'random forest ',rf_auc, '\\n')\n",
    "    gr_auc = roc_auc_score(Y_test[col],  clust_model_gr[col].predict_proba(X_test)[:,1])\n",
    "    print(col,'gradient booster ',gr_auc, '\\n')\n",
    "    "
   ]
  },
  {
   "cell_type": "code",
   "execution_count": 50,
   "metadata": {},
   "outputs": [
    {
     "data": {
      "text/plain": [
       "cl_t0     0.451821\n",
       "cl_t1     0.658139\n",
       "cl_t2     0.111134\n",
       "cl_t3     0.005717\n",
       "cl_t4     0.203159\n",
       "cl_t5     0.249445\n",
       "cl_t7     0.059601\n",
       "cl_t8     0.046809\n",
       "cl_t9     0.037175\n",
       "cl_t10    0.006788\n",
       "cl_t11    0.052343\n",
       "cl_t12    0.007858\n",
       "cl_t13    0.029709\n",
       "cl_t14    0.000731\n",
       "cl_t16    0.053988\n",
       "cl_t17    0.023887\n",
       "dtype: float64"
      ]
     },
     "execution_count": 50,
     "metadata": {},
     "output_type": "execute_result"
    }
   ],
   "source": [
    "cw"
   ]
  },
  {
   "cell_type": "code",
   "execution_count": 51,
   "metadata": {},
   "outputs": [],
   "source": [
    "colOutliers = ['cl_t7', 'cl_t10', 'cl_t12', 'cl_t14', 'cl_t17']"
   ]
  },
  {
   "cell_type": "code",
   "execution_count": 59,
   "metadata": {},
   "outputs": [
    {
     "data": {
      "text/plain": [
       "GradientBoostingClassifier(criterion='friedman_mse', init=None,\n",
       "              learning_rate=0.05, loss='deviance', max_depth=8,\n",
       "              max_features='sqrt', max_leaf_nodes=None,\n",
       "              min_impurity_decrease=0.0, min_impurity_split=None,\n",
       "              min_samples_leaf=1, min_samples_split=2,\n",
       "              min_weight_fraction_leaf=0.0, n_estimators=300,\n",
       "              presort='auto', random_state=179, subsample=0.8, verbose=0,\n",
       "              warm_start=False)"
      ]
     },
     "execution_count": 59,
     "metadata": {},
     "output_type": "execute_result"
    }
   ],
   "source": [
    "clust_model_gr['cl_t4']"
   ]
  },
  {
   "cell_type": "code",
   "execution_count": 55,
   "metadata": {},
   "outputs": [],
   "source": [
    "rf4 = RandomForestClassifier(bootstrap=True, class_weight={1: 0.2, 0: 0.8},\n",
    "            criterion='gini', max_depth=7, max_features=25,\n",
    "            max_leaf_nodes=None, min_impurity_decrease=0.0,\n",
    "            min_impurity_split=None, min_samples_leaf=1,\n",
    "            min_samples_split=2, min_weight_fraction_leaf=0.0,\n",
    "            n_estimators=400, n_jobs=-1, oob_score=False, random_state=179,\n",
    "            verbose=0, warm_start=False)\n"
   ]
  },
  {
   "cell_type": "code",
   "execution_count": 60,
   "metadata": {},
   "outputs": [],
   "source": [
    "gr4 = GradientBoostingClassifier(criterion='friedman_mse', init=None,\n",
    "              learning_rate=0.1, loss='deviance', max_depth=5,\n",
    "              max_features='sqrt', max_leaf_nodes=None,\n",
    "              min_impurity_decrease=0.0, min_impurity_split=None,\n",
    "              min_samples_leaf=1, min_samples_split=2,\n",
    "              min_weight_fraction_leaf=0.0, n_estimators=300,\n",
    "              presort='auto', random_state=179, subsample=0.8, verbose=0,\n",
    "              warm_start=False)"
   ]
  },
  {
   "cell_type": "code",
   "execution_count": 56,
   "metadata": {},
   "outputs": [
    {
     "data": {
      "text/plain": [
       "array([-0.44293941, -0.44327626, -0.44027319])"
      ]
     },
     "execution_count": 56,
     "metadata": {},
     "output_type": "execute_result"
    }
   ],
   "source": [
    "cross_val_score(rf4, X_train,Y_train['cl_t4'],scoring= 'neg_log_loss')"
   ]
  },
  {
   "cell_type": "code",
   "execution_count": 61,
   "metadata": {},
   "outputs": [
    {
     "data": {
      "text/plain": [
       "array([-0.30677927, -0.30311866, -0.30227886])"
      ]
     },
     "execution_count": 61,
     "metadata": {},
     "output_type": "execute_result"
    }
   ],
   "source": [
    "cross_val_score(gr4, X_train,Y_train['cl_t4'],scoring= 'neg_log_loss')"
   ]
  },
  {
   "cell_type": "code",
   "execution_count": 64,
   "metadata": {},
   "outputs": [
    {
     "data": {
      "text/plain": [
       "RandomForestClassifier(bootstrap=True, class_weight={1: 0.2, 0: 0.8},\n",
       "            criterion='gini', max_depth=7, max_features=25,\n",
       "            max_leaf_nodes=None, min_impurity_decrease=0.0,\n",
       "            min_impurity_split=None, min_samples_leaf=1,\n",
       "            min_samples_split=2, min_weight_fraction_leaf=0.0,\n",
       "            n_estimators=400, n_jobs=-1, oob_score=False, random_state=179,\n",
       "            verbose=0, warm_start=False)"
      ]
     },
     "execution_count": 64,
     "metadata": {},
     "output_type": "execute_result"
    }
   ],
   "source": [
    "gr4.fit(X_train,Y_train['cl_t4'])\n",
    "rf4.fit(X_train,Y_train['cl_t4'])"
   ]
  },
  {
   "cell_type": "code",
   "execution_count": 65,
   "metadata": {},
   "outputs": [
    {
     "data": {
      "image/png": "[encoded data removed]",
      "text/plain": [
       "<Figure size 432x288 with 1 Axes>"
      ]
     },
     "metadata": {},
     "output_type": "display_data"
    }
   ],
   "source": [
    "\n",
    "fig, ax = plt.subplots()\n",
    "plot_roc_curve(Y_test['cl_t4'], X_test, rf4, ax,  'test-rf')\n",
    "plot_roc_curve(Y_test['cl_t4'], X_test, gr4, ax,  'test-gr')\n",
    "   "
   ]
  },
  {
   "cell_type": "code",
   "execution_count": null,
   "metadata": {},
   "outputs": [],
   "source": [
    "clust_model_gr['cl_t4'] = gr4\n",
    "clust_model_rf['cl_t4'] = rf4\n"
   ]
  },
  {
   "cell_type": "code",
   "execution_count": 76,
   "metadata": {},
   "outputs": [],
   "source": [
    "for col in colOutliers:\n",
    "\n",
    "    clust_model_gr[col] = GradientBoostingClassifier(criterion='friedman_mse', init=None,\n",
    "              learning_rate=0.1, loss='deviance', max_depth=5,\n",
    "              max_features='sqrt', max_leaf_nodes=None,\n",
    "              min_impurity_decrease=0.0, min_impurity_split=None,\n",
    "              min_samples_leaf=1, min_samples_split=2,\n",
    "              min_weight_fraction_leaf=0.0, n_estimators=300,\n",
    "              presort='auto', random_state=179, subsample=0.8, verbose=0,\n",
    "              warm_start=False)\n",
    "    clust_model_gr[col].fit(X_train,Y_train[col])\n",
    "    clust_model_rf[col] = RandomForestClassifier(n_estimators=400, max_depth=7, max_features=25, \n",
    "                             min_samples_split=2, min_samples_leaf=1,   \n",
    "                             max_leaf_nodes=None, bootstrap=True, n_jobs=-1, \n",
    "                             random_state=179,   class_weight=weights[col])\n",
    "    clust_model_rf[col].fit(X_train,Y_train[col])\n",
    "\n"
   ]
  },
  {
   "cell_type": "code",
   "execution_count": 77,
   "metadata": {},
   "outputs": [
    {
     "data": {
      "image/png": "[encoded data removed]",
      "text/plain": [
       "<Figure size 1440x720 with 4 Axes>"
      ]
     },
     "metadata": {},
     "output_type": "display_data"
    }
   ],
   "source": [
    "fig, axs = plt.subplots(2,2, figsize = (20,10))\n",
    "for col, ax in zip(colOutliers, axs.flatten()):\n",
    "    plot_roc_curve(Y_test[col], X_test, clust_model_rf[col], ax,  'test-rf')\n",
    "    plot_roc_curve(Y_test[col], X_test, clust_model_gr[col], ax,  'test-gr')\n",
    "    ax.set_title(col)\n",
    "    ax.legend()"
   ]
  },
  {
   "cell_type": "code",
   "execution_count": 60,
   "metadata": {},
   "outputs": [],
   "source": [
    "for col in colClust_n:\n",
    "    filename_gr = 'gr10boost/mgr_'+col+'.pkl'\n",
    "    with open(filename_gr, 'wb') as f:\n",
    "        pickle.dump(clust_model_gr[col], f)\n",
    "    filename_rf = 'r10forest/mrf_'+col+'.pkl'\n",
    "    with open(filename_rf, 'wb') as f:\n",
    "        pickle.dump(clust_model_rf[col], f)\n",
    "    "
   ]
  },
  {
   "cell_type": "code",
   "execution_count": null,
   "metadata": {},
   "outputs": [],
   "source": []
  },
  {
   "cell_type": "markdown",
   "metadata": {},
   "source": [
    "## unpickle, looking for threshold"
   ]
  },
  {
   "cell_type": "code",
   "execution_count": 67,
   "metadata": {},
   "outputs": [],
   "source": [
    "clust_model_gr = {}\n",
    "clust_model_rf = {}\n",
    "for col in colClust_n:\n",
    "    filename_gr = 'grboost/mgr_'+col+'.pkl'\n",
    "    with open(filename_gr,'rb') as f:\n",
    "        clust_model_gr[col]= pickle.load( f)\n",
    "    filename_rf = 'rforest/mrf_'+col+'.pkl'\n",
    "    with open(filename_rf,'rb') as f:\n",
    "        clust_model_rf[col] =pickle.load( f)"
   ]
  },
  {
   "cell_type": "code",
   "execution_count": 61,
   "metadata": {},
   "outputs": [],
   "source": [
    "def calc_thres(y_true, X, model,  thres = 0.7,label = ''):\n",
    "    \"\"\"Plot roc curve, y_true & model.predict_proba(X), ax --- axes of subplot\"\"\"\n",
    "    fpr, tpr, thr = roc_curve(y_true, model.predict_proba(X)[:,1])\n",
    "    idx = np.abs(tpr - thres).argmin()\n",
    "    print(label, ':  ', col,' ', tpr[idx], ' ', fpr[idx], ' ', thr[idx])\n",
    "    return thr[idx]"
   ]
  },
  {
   "cell_type": "code",
   "execution_count": 62,
   "metadata": {},
   "outputs": [
    {
     "name": "stdout",
     "output_type": "stream",
     "text": [
      "test-rf :   cl_t0   0.6998175182481752   0.02942831420211569   0.07342477801510229\n",
      "test-gr :   cl_t0   0.7007299270072993   0.021663290569435067   0.40925117649584686\n",
      "test-rf :   cl_t1   0.699961285327139   0.10666890643373089   0.8743882482046607\n",
      "test-gr :   cl_t1   0.700116144018583   0.08113556190156224   0.818782474971365\n",
      "test-rf :   cl_t3   0.7000903342366757   0.13777577667717245   0.07046806802661014\n",
      "test-gr :   cl_t3   0.7003914483589281   0.11153277159580627   0.27174059908992876\n",
      "test-rf :   cl_t4   0.7001934235976789   0.010408152144297314   0.1022372216341514\n",
      "test-gr :   cl_t4   0.6982591876208898   0.007302054383957278   0.4239287543479013\n",
      "test-rf :   cl_t5   0.6998689384010485   0.16285946625267983   0.17597570655907435\n",
      "test-gr :   cl_t5   0.7000561692566935   0.14341686996377614   0.3758835508767579\n",
      "test-rf :   cl_t8   0.7004608294930875   0.1607081862689286   0.014617787422720357\n",
      "test-gr :   cl_t8   0.6996927803379416   0.11949220084253671   0.1112196538843945\n",
      "test-rf :   cl_t9   0.6997411561691113   0.1218589417810153   0.018184459786480964\n",
      "test-gr :   cl_t9   0.7006039689387403   0.08995426054548535   0.10796197819575129\n"
     ]
    }
   ],
   "source": [
    "\n",
    "for col in colClust_n:\n",
    "    calc_thres(Y_test[col], X_test, clust_model_rf[col], 0.7,  'test-rf')\n",
    "    calc_thres(Y_test[col], X_test, clust_model_gr[col], 0.7,  'test-gr')\n",
    "    "
   ]
  },
  {
   "cell_type": "code",
   "execution_count": 63,
   "metadata": {},
   "outputs": [
    {
     "name": "stdout",
     "output_type": "stream",
     "text": [
      "test-rf :   cl_t0   0.7208029197080292   0.03291694800810263   0.06769838557231074\n",
      "test-gr :   cl_t0   0.7198905109489051   0.02357641233400855   0.38653860390291483\n",
      "test-rf :   cl_t1   0.7199380565234224   0.11540399798420964   0.8652908575099767\n",
      "test-gr :   cl_t1   0.7199380565234224   0.09575004199563246   0.7977294284623546\n",
      "test-rf :   cl_t3   0.7199638663053297   0.15244098539911236   0.06617415180844217\n",
      "test-gr :   cl_t3   0.7199638663053297   0.12272464140991832   0.2542358388971034\n",
      "test-rf :   cl_t4   0.7214700193423598   0.011116560405427496   0.09585348969097034\n",
      "test-gr :   cl_t4   0.7195357833655706   0.00801046264508746   0.3851789658693065\n",
      "test-rf :   cl_t5   0.7202771016663546   0.17882753012493532   0.16827459820472587\n",
      "test-gr :   cl_t5   0.7200898708107096   0.1579803356250462   0.35004048196828397\n",
      "test-rf :   cl_t8   0.7196620583717358   0.16987361949220084   0.013878379384350532\n",
      "test-gr :   cl_t8   0.7196620583717358   0.13520437208243197   0.09864722810345845\n",
      "test-rf :   cl_t9   0.719585849870578   0.13586312044723023   0.015998500523435235\n",
      "test-gr :   cl_t9   0.719585849870578   0.09447173753458693   0.10190866037056104\n"
     ]
    }
   ],
   "source": [
    "th_gr72 ={}\n",
    "th_rf72 = {}\n",
    "for col in colClust_n:\n",
    "    th_rf72[col] = max(calc_thres(Y_test[col], X_test, clust_model_rf[col], 0.72,  'test-rf'), 0.01)\n",
    "    th_gr72[col] = max(calc_thres(Y_test[col], X_test, clust_model_gr[col], 0.72,  'test-gr'),0.01)\n"
   ]
  },
  {
   "cell_type": "code",
   "execution_count": 66,
   "metadata": {},
   "outputs": [],
   "source": [
    "with open('thres_1072_gr', 'wb') as f:\n",
    "    pickle.dump(th_gr72,f)\n",
    "with open('thres_1072_rf','wb') as f:\n",
    "    pickle.dump(th_rf72,f )"
   ]
  },
  {
   "cell_type": "code",
   "execution_count": 65,
   "metadata": {},
   "outputs": [
    {
     "name": "stdout",
     "output_type": "stream",
     "text": [
      "test-rf :   cl_t0   0.3494525547445255   0.005626828719333784   0.21094267618277315\n",
      "test-gr :   cl_t0   0.34854014598540145   0.0038825118163403104   0.7640737618884302\n",
      "test-rf :   cl_t1   0.35067750677506776   0.013606584915168822   0.9380036389449167\n",
      "test-gr :   cl_t1   0.3500580720092915   0.004199563245422476   0.9699679028714339\n",
      "test-rf :   cl_t3   0.3498946100572117   0.01852447417508201   0.2376970897613922\n",
      "test-gr :   cl_t3   0.3498946100572117   0.015694346176111148   0.658621575896516\n",
      "test-rf :   cl_t4   0.35009671179883944   0.0016892812380796688   0.3514160481934994\n",
      "test-gr :   cl_t4   0.35009671179883944   0.0011443518064410659   0.8080660528375904\n",
      "test-rf :   cl_t5   0.34974723834487925   0.02055148961336586   0.45003694941409067\n",
      "test-gr :   cl_t5   0.35030893091181425   0.019812227397057736   0.7534783418257361\n",
      "test-rf :   cl_t8   0.3486943164362519   0.03330297164977798   0.06039388424350256\n",
      "test-gr :   cl_t8   0.35023041474654376   0.02311283160651258   0.37028755805581076\n",
      "test-rf :   cl_t9   0.35030198446937016   0.014681800214580158   0.10537596147929328\n",
      "test-gr :   cl_t9   0.35030198446937016   0.01005138630075103   0.48614944239253155\n"
     ]
    }
   ],
   "source": [
    "th_gr35 ={}\n",
    "th_rf35 = {}\n",
    "for col in colClust_n:\n",
    "    th_rf35[col] = max(calc_thres(Y_test[col], X_test, clust_model_rf[col], 0.35,  'test-rf'), 0.01)\n",
    "    th_gr35[col] = max(calc_thres(Y_test[col], X_test, clust_model_gr[col], 0.35,  'test-gr'),0.01)\n",
    "with open('thres_1035_gr', 'wb') as f:\n",
    "    pickle.dump(th_gr35,f)\n",
    "with open('thres_1035_rf','wb') as f:\n",
    "    pickle.dump(th_rf35,f )"
   ]
  },
  {
   "cell_type": "code",
   "execution_count": null,
   "metadata": {},
   "outputs": [],
   "source": []
  },
  {
   "cell_type": "code",
   "execution_count": null,
   "metadata": {},
   "outputs": [],
   "source": []
  },
  {
   "cell_type": "code",
   "execution_count": null,
   "metadata": {},
   "outputs": [],
   "source": []
  }
 ],
 "metadata": {
  "kernelspec": {
   "display_name": "Python 3",
   "language": "python",
   "name": "python3"
  },
  "language_info": {
   "codemirror_mode": {
    "name": "ipython",
    "version": 3
   },
   "file_extension": ".py",
   "mimetype": "text/x-python",
   "name": "python",
   "nbconvert_exporter": "python",
   "pygments_lexer": "ipython3",
   "version": "3.6.5"
  }
 },
 "nbformat": 4,
 "nbformat_minor": 2
}
