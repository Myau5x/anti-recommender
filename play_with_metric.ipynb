{
 "cells": [
  {
   "cell_type": "code",
   "execution_count": 47,
   "metadata": {},
   "outputs": [],
   "source": [
    "import pandas as pd\n",
    "import numpy as np\n",
    "import matplotlib.pyplot as plt\n",
    "%matplotlib inline\n",
    "from sklearn.metrics import roc_auc_score, roc_curve"
   ]
  },
  {
   "cell_type": "code",
   "execution_count": 65,
   "metadata": {},
   "outputs": [],
   "source": [
    "from my_metr import accu, rating_to_prob"
   ]
  },
  {
   "cell_type": "code",
   "execution_count": 42,
   "metadata": {},
   "outputs": [],
   "source": [
    "look = pd.read_csv('whats_wrong/model2_t.csv')"
   ]
  },
  {
   "cell_type": "code",
   "execution_count": 45,
   "metadata": {},
   "outputs": [],
   "source": [
    "\n",
    "\n",
    "act = look.stars\n",
    "base = look.mean_rating\n",
    "pred = look.prediction.copy()\n",
    "pred[pred>5] = 5\n",
    "pred[pred<1] = 1\n",
    "look.prediction = pred"
   ]
  },
  {
   "cell_type": "code",
   "execution_count": 35,
   "metadata": {},
   "outputs": [],
   "source": [
    "combo  = pred.copy()\n",
    "combo[pred>base] = base[pred>base]\n",
    "co2 =pred.copy()\n",
    "co2[pred<base] = base[pred<base]\n"
   ]
  },
  {
   "cell_type": "code",
   "execution_count": 36,
   "metadata": {},
   "outputs": [
    {
     "data": {
      "text/plain": [
       "[<matplotlib.lines.Line2D at 0x1a2781ef28>]"
      ]
     },
     "execution_count": 36,
     "metadata": {},
     "output_type": "execute_result"
    },
    {
     "data": {
      "image/png": "[encoded data removed]",
      "text/plain": [
       "<Figure size 432x288 with 1 Axes>"
      ]
     },
     "metadata": {},
     "output_type": "display_data"
    }
   ],
   "source": [
    "thres = np.linspace(1,5,9)\n",
    "a_base = np.zeros(9)\n",
    "a_pred = np.zeros(9)\n",
    "a_combo = np.zeros(9)\n",
    "a_co2 = np.zeros(9)\n",
    "fig, ax = plt.subplots()\n",
    "\n",
    "for i  in range(9):\n",
    "    a_base[i] = accu(act, base, thres[i])\n",
    "    a_pred[i] = accu(act, pred, thres[i])\n",
    "    a_combo[i] =accu(act, combo, thres[i])\n",
    "    a_co2[i] =accu(act, co2, thres[i])\n",
    "ax.plot(thres, a_base, color = 'r')\n",
    "ax.plot(thres, a_pred, color = 'b')\n",
    "ax.plot(thres, a_combo, color ='g')\n",
    "ax.plot(thres, a_co2, color ='y')\n",
    "                   "
   ]
  },
  {
   "cell_type": "raw",
   "metadata": {},
   "source": [
    "А что я хочу?\n",
    "Я хочу выловить как можно больше отрицательных?\n",
    "Я хочу чтобы среди положительных не попадалось отрицательных?\n",
    "Я хочу чтобы среди отрицательных было не очень много положительных?"
   ]
  },
  {
   "cell_type": "code",
   "execution_count": 21,
   "metadata": {},
   "outputs": [
    {
     "data": {
      "text/html": [
       "<div>\n",
       "<style scoped>\n",
       "    .dataframe tbody tr th:only-of-type {\n",
       "        vertical-align: middle;\n",
       "    }\n",
       "\n",
       "    .dataframe tbody tr th {\n",
       "        vertical-align: top;\n",
       "    }\n",
       "\n",
       "    .dataframe thead th {\n",
       "        text-align: right;\n",
       "    }\n",
       "</style>\n",
       "<table border=\"1\" class=\"dataframe\">\n",
       "  <thead>\n",
       "    <tr style=\"text-align: right;\">\n",
       "      <th></th>\n",
       "      <th>stars</th>\n",
       "      <th>mean_rating</th>\n",
       "      <th>prediction</th>\n",
       "    </tr>\n",
       "  </thead>\n",
       "  <tbody>\n",
       "    <tr>\n",
       "      <th>0</th>\n",
       "      <td>4</td>\n",
       "      <td>2.5</td>\n",
       "      <td>3.192871</td>\n",
       "    </tr>\n",
       "    <tr>\n",
       "      <th>1</th>\n",
       "      <td>3</td>\n",
       "      <td>2.5</td>\n",
       "      <td>4.165812</td>\n",
       "    </tr>\n",
       "    <tr>\n",
       "      <th>2</th>\n",
       "      <td>1</td>\n",
       "      <td>2.5</td>\n",
       "      <td>3.771000</td>\n",
       "    </tr>\n",
       "    <tr>\n",
       "      <th>3</th>\n",
       "      <td>3</td>\n",
       "      <td>2.5</td>\n",
       "      <td>2.182666</td>\n",
       "    </tr>\n",
       "    <tr>\n",
       "      <th>4</th>\n",
       "      <td>3</td>\n",
       "      <td>3.5</td>\n",
       "      <td>3.433749</td>\n",
       "    </tr>\n",
       "  </tbody>\n",
       "</table>\n",
       "</div>"
      ],
      "text/plain": [
       "   stars  mean_rating  prediction\n",
       "0      4          2.5    3.192871\n",
       "1      3          2.5    4.165812\n",
       "2      1          2.5    3.771000\n",
       "3      3          2.5    2.182666\n",
       "4      3          3.5    3.433749"
      ]
     },
     "execution_count": 21,
     "metadata": {},
     "output_type": "execute_result"
    }
   ],
   "source": [
    "look[['stars','mean_rating','prediction']].head()"
   ]
  },
  {
   "cell_type": "code",
   "execution_count": 24,
   "metadata": {},
   "outputs": [],
   "source": []
  },
  {
   "cell_type": "code",
   "execution_count": 46,
   "metadata": {},
   "outputs": [
    {
     "data": {
      "text/html": [
       "<div>\n",
       "<style scoped>\n",
       "    .dataframe tbody tr th:only-of-type {\n",
       "        vertical-align: middle;\n",
       "    }\n",
       "\n",
       "    .dataframe tbody tr th {\n",
       "        vertical-align: top;\n",
       "    }\n",
       "\n",
       "    .dataframe thead th {\n",
       "        text-align: right;\n",
       "    }\n",
       "</style>\n",
       "<table border=\"1\" class=\"dataframe\">\n",
       "  <thead>\n",
       "    <tr style=\"text-align: right;\">\n",
       "      <th></th>\n",
       "      <th>Unnamed: 0</th>\n",
       "      <th>stars</th>\n",
       "      <th>user_count</th>\n",
       "      <th>user_num</th>\n",
       "      <th>biz_num</th>\n",
       "      <th>prediction</th>\n",
       "      <th>mean_rating</th>\n",
       "    </tr>\n",
       "  </thead>\n",
       "  <tbody>\n",
       "    <tr>\n",
       "      <th>count</th>\n",
       "      <td>293669.000000</td>\n",
       "      <td>293669.000000</td>\n",
       "      <td>293669.000000</td>\n",
       "      <td>2.936690e+05</td>\n",
       "      <td>2.936690e+05</td>\n",
       "      <td>293669.000000</td>\n",
       "      <td>293669.000000</td>\n",
       "    </tr>\n",
       "    <tr>\n",
       "      <th>mean</th>\n",
       "      <td>146834.000000</td>\n",
       "      <td>3.701960</td>\n",
       "      <td>81.110550</td>\n",
       "      <td>7.869239e+06</td>\n",
       "      <td>-6.259119e+06</td>\n",
       "      <td>3.498915</td>\n",
       "      <td>3.704378</td>\n",
       "    </tr>\n",
       "    <tr>\n",
       "      <th>std</th>\n",
       "      <td>84775.082439</td>\n",
       "      <td>1.182502</td>\n",
       "      <td>141.256056</td>\n",
       "      <td>1.237261e+09</td>\n",
       "      <td>1.242599e+09</td>\n",
       "      <td>0.820289</td>\n",
       "      <td>0.581420</td>\n",
       "    </tr>\n",
       "    <tr>\n",
       "      <th>min</th>\n",
       "      <td>0.000000</td>\n",
       "      <td>1.000000</td>\n",
       "      <td>13.000000</td>\n",
       "      <td>-2.147428e+09</td>\n",
       "      <td>-2.147478e+09</td>\n",
       "      <td>1.000000</td>\n",
       "      <td>1.000000</td>\n",
       "    </tr>\n",
       "    <tr>\n",
       "      <th>25%</th>\n",
       "      <td>73417.000000</td>\n",
       "      <td>3.000000</td>\n",
       "      <td>21.000000</td>\n",
       "      <td>-1.052411e+09</td>\n",
       "      <td>-1.081292e+09</td>\n",
       "      <td>3.035330</td>\n",
       "      <td>3.500000</td>\n",
       "    </tr>\n",
       "    <tr>\n",
       "      <th>50%</th>\n",
       "      <td>146834.000000</td>\n",
       "      <td>4.000000</td>\n",
       "      <td>40.000000</td>\n",
       "      <td>1.184201e+07</td>\n",
       "      <td>-1.888382e+07</td>\n",
       "      <td>3.591236</td>\n",
       "      <td>4.000000</td>\n",
       "    </tr>\n",
       "    <tr>\n",
       "      <th>75%</th>\n",
       "      <td>220251.000000</td>\n",
       "      <td>5.000000</td>\n",
       "      <td>87.000000</td>\n",
       "      <td>1.086842e+09</td>\n",
       "      <td>1.059096e+09</td>\n",
       "      <td>4.066958</td>\n",
       "      <td>4.000000</td>\n",
       "    </tr>\n",
       "    <tr>\n",
       "      <th>max</th>\n",
       "      <td>293668.000000</td>\n",
       "      <td>5.000000</td>\n",
       "      <td>2316.000000</td>\n",
       "      <td>2.147407e+09</td>\n",
       "      <td>2.147459e+09</td>\n",
       "      <td>5.000000</td>\n",
       "      <td>5.000000</td>\n",
       "    </tr>\n",
       "  </tbody>\n",
       "</table>\n",
       "</div>"
      ],
      "text/plain": [
       "          Unnamed: 0          stars     user_count      user_num  \\\n",
       "count  293669.000000  293669.000000  293669.000000  2.936690e+05   \n",
       "mean   146834.000000       3.701960      81.110550  7.869239e+06   \n",
       "std     84775.082439       1.182502     141.256056  1.237261e+09   \n",
       "min         0.000000       1.000000      13.000000 -2.147428e+09   \n",
       "25%     73417.000000       3.000000      21.000000 -1.052411e+09   \n",
       "50%    146834.000000       4.000000      40.000000  1.184201e+07   \n",
       "75%    220251.000000       5.000000      87.000000  1.086842e+09   \n",
       "max    293668.000000       5.000000    2316.000000  2.147407e+09   \n",
       "\n",
       "            biz_num     prediction    mean_rating  \n",
       "count  2.936690e+05  293669.000000  293669.000000  \n",
       "mean  -6.259119e+06       3.498915       3.704378  \n",
       "std    1.242599e+09       0.820289       0.581420  \n",
       "min   -2.147478e+09       1.000000       1.000000  \n",
       "25%   -1.081292e+09       3.035330       3.500000  \n",
       "50%   -1.888382e+07       3.591236       4.000000  \n",
       "75%    1.059096e+09       4.066958       4.000000  \n",
       "max    2.147459e+09       5.000000       5.000000  "
      ]
     },
     "execution_count": 46,
     "metadata": {},
     "output_type": "execute_result"
    }
   ],
   "source": [
    "look.describe()"
   ]
  },
  {
   "cell_type": "code",
   "execution_count": 41,
   "metadata": {},
   "outputs": [
    {
     "data": {
      "text/plain": [
       "(3.1792809133547317, 3.4462038511106057, 3.591625635246152, 3.779418430390912)"
      ]
     },
     "execution_count": 41,
     "metadata": {},
     "output_type": "execute_result"
    }
   ],
   "source": [
    "pred[act<=3].mean(), base[act<=3].mean(), pred[act>=3].mean(), base[act>=3].mean()"
   ]
  },
  {
   "cell_type": "code",
   "execution_count": 55,
   "metadata": {},
   "outputs": [],
   "source": [
    "y_true = (act < 3)"
   ]
  },
  {
   "cell_type": "code",
   "execution_count": 66,
   "metadata": {},
   "outputs": [],
   "source": [
    "pred_score = rating_to_prob(pred)\n",
    "base_score = rating_to_prob(base)"
   ]
  },
  {
   "cell_type": "code",
   "execution_count": 58,
   "metadata": {},
   "outputs": [
    {
     "data": {
      "text/plain": [
       "(0.6872722109569833, 0.6962089276665383)"
      ]
     },
     "execution_count": 58,
     "metadata": {},
     "output_type": "execute_result"
    }
   ],
   "source": [
    "roc_auc_score(y_true, pred_score), roc_auc_score(y_true, base_score)"
   ]
  },
  {
   "cell_type": "code",
   "execution_count": 63,
   "metadata": {},
   "outputs": [],
   "source": [
    "\n",
    "def plot_auc (y_true, pred_score , ax, color):\n",
    "    fpr, tpr, tresh  = roc_curve(y_true, pred_score)\n",
    "    ax.plot(fpr,tpr, color = color)\n",
    "    "
   ]
  },
  {
   "cell_type": "code",
   "execution_count": 67,
   "metadata": {},
   "outputs": [
    {
     "data": {
      "image/png": "[encoded data removed]",
      "text/plain": [
       "<Figure size 432x288 with 1 Axes>"
      ]
     },
     "metadata": {},
     "output_type": "display_data"
    }
   ],
   "source": [
    "fig, ax = plt.subplots()\n",
    "plot_auc (y_true, pred_score , ax, 'r')\n",
    "plot_auc (y_true, base_score , ax, 'b')"
   ]
  },
  {
   "cell_type": "code",
   "execution_count": null,
   "metadata": {},
   "outputs": [],
   "source": []
  }
 ],
 "metadata": {
  "kernelspec": {
   "display_name": "Python 3",
   "language": "python",
   "name": "python3"
  },
  "language_info": {
   "codemirror_mode": {
    "name": "ipython",
    "version": 3
   },
   "file_extension": ".py",
   "mimetype": "text/x-python",
   "name": "python",
   "nbconvert_exporter": "python",
   "pygments_lexer": "ipython3",
   "version": "3.6.5"
  }
 },
 "nbformat": 4,
 "nbformat_minor": 2
}
