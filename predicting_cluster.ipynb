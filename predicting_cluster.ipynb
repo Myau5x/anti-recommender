{
 "cells": [
  {
   "cell_type": "code",
   "execution_count": 1,
   "metadata": {},
   "outputs": [],
   "source": [
    "import pandas as pd\n",
    "import numpy as np"
   ]
  },
  {
   "cell_type": "code",
   "execution_count": 230,
   "metadata": {},
   "outputs": [],
   "source": [
    "from sklearn.model_selection import train_test_split, cross_val_score, GridSearchCV\n",
    "from sklearn.ensemble import RandomForestClassifier, GradientBoostingClassifier"
   ]
  },
  {
   "cell_type": "code",
   "execution_count": 9,
   "metadata": {},
   "outputs": [],
   "source": [
    "from sklearn.metrics import auc, roc_auc_score, roc_curve, accuracy_score,  recall_score, precision_score\n",
    "from regression_tools.dftransformers import (\n",
    "    ColumnSelector, Identity, FeatureUnion, MapFeature, Intercept)\n"
   ]
  },
  {
   "cell_type": "code",
   "execution_count": 231,
   "metadata": {},
   "outputs": [],
   "source": [
    "from my_metr import plot_roc_curve"
   ]
  },
  {
   "cell_type": "code",
   "execution_count": 67,
   "metadata": {},
   "outputs": [],
   "source": [
    "import matplotlib.pyplot as plt\n",
    "%matplotlib inline"
   ]
  },
  {
   "cell_type": "code",
   "execution_count": 14,
   "metadata": {},
   "outputs": [],
   "source": [
    "biz_df = pd.read_csv('biz_cluster.csv')"
   ]
  },
  {
   "cell_type": "code",
   "execution_count": 3,
   "metadata": {},
   "outputs": [
    {
     "name": "stdout",
     "output_type": "stream",
     "text": [
      "<class 'pandas.core.frame.DataFrame'>\n",
      "RangeIndex: 57173 entries, 0 to 57172\n",
      "Data columns (total 24 columns):\n",
      "Unnamed: 0                57173 non-null int64\n",
      "business_id               57173 non-null object\n",
      "RestaurantsPriceRange2    51111 non-null float64\n",
      "stars                     57173 non-null float64\n",
      "review_count              57173 non-null int64\n",
      "categories                57173 non-null object\n",
      "cl_0                      25785 non-null float64\n",
      "cl_1                      37611 non-null float64\n",
      "cl_2                      6306 non-null float64\n",
      "cl_3                      327 non-null float64\n",
      "cl_4                      11547 non-null float64\n",
      "cl_5                      14129 non-null float64\n",
      "cl_6                      1 non-null float64\n",
      "cl_7                      3366 non-null float64\n",
      "cl_8                      2667 non-null float64\n",
      "cl_9                      2073 non-null float64\n",
      "cl_10                     380 non-null float64\n",
      "cl_11                     2937 non-null float64\n",
      "cl_12                     470 non-null float64\n",
      "cl_13                     1706 non-null float64\n",
      "cl_14                     37 non-null float64\n",
      "cl_15                     0 non-null float64\n",
      "cl_16                     3076 non-null float64\n",
      "cl_17                     1397 non-null float64\n",
      "dtypes: float64(20), int64(2), object(2)\n",
      "memory usage: 10.5+ MB\n"
     ]
    }
   ],
   "source": [
    "biz_df.info()"
   ]
  },
  {
   "cell_type": "code",
   "execution_count": 8,
   "metadata": {},
   "outputs": [
    {
     "data": {
      "text/html": [
       "<div>\n",
       "<style scoped>\n",
       "    .dataframe tbody tr th:only-of-type {\n",
       "        vertical-align: middle;\n",
       "    }\n",
       "\n",
       "    .dataframe tbody tr th {\n",
       "        vertical-align: top;\n",
       "    }\n",
       "\n",
       "    .dataframe thead th {\n",
       "        text-align: right;\n",
       "    }\n",
       "</style>\n",
       "<table border=\"1\" class=\"dataframe\">\n",
       "  <thead>\n",
       "    <tr style=\"text-align: right;\">\n",
       "      <th></th>\n",
       "      <th>Unnamed: 0</th>\n",
       "      <th>business_id</th>\n",
       "      <th>RestaurantsPriceRange2</th>\n",
       "      <th>stars</th>\n",
       "      <th>review_count</th>\n",
       "      <th>categories</th>\n",
       "      <th>cl_0</th>\n",
       "      <th>cl_1</th>\n",
       "      <th>cl_2</th>\n",
       "      <th>cl_3</th>\n",
       "      <th>...</th>\n",
       "      <th>cl_8</th>\n",
       "      <th>cl_9</th>\n",
       "      <th>cl_10</th>\n",
       "      <th>cl_11</th>\n",
       "      <th>cl_12</th>\n",
       "      <th>cl_13</th>\n",
       "      <th>cl_14</th>\n",
       "      <th>cl_15</th>\n",
       "      <th>cl_16</th>\n",
       "      <th>cl_17</th>\n",
       "    </tr>\n",
       "  </thead>\n",
       "  <tbody>\n",
       "    <tr>\n",
       "      <th>0</th>\n",
       "      <td>0</td>\n",
       "      <td>--9e1ONYQuAa-CB_Rrw7Tw</td>\n",
       "      <td>4.0</td>\n",
       "      <td>4.0</td>\n",
       "      <td>1546</td>\n",
       "      <td>Steakhouses, Restaurants, Cajun/Creole</td>\n",
       "      <td>0.0</td>\n",
       "      <td>1.0</td>\n",
       "      <td>2.0</td>\n",
       "      <td>NaN</td>\n",
       "      <td>...</td>\n",
       "      <td>8.0</td>\n",
       "      <td>NaN</td>\n",
       "      <td>NaN</td>\n",
       "      <td>NaN</td>\n",
       "      <td>NaN</td>\n",
       "      <td>13.0</td>\n",
       "      <td>NaN</td>\n",
       "      <td>NaN</td>\n",
       "      <td>16.0</td>\n",
       "      <td>17.0</td>\n",
       "    </tr>\n",
       "    <tr>\n",
       "      <th>1</th>\n",
       "      <td>1</td>\n",
       "      <td>-VAsjhmAbKF3Pb_-8rh3xg</td>\n",
       "      <td>1.0</td>\n",
       "      <td>2.0</td>\n",
       "      <td>10</td>\n",
       "      <td>Fast Food, Burgers, Restaurants</td>\n",
       "      <td>NaN</td>\n",
       "      <td>1.0</td>\n",
       "      <td>NaN</td>\n",
       "      <td>NaN</td>\n",
       "      <td>...</td>\n",
       "      <td>NaN</td>\n",
       "      <td>NaN</td>\n",
       "      <td>NaN</td>\n",
       "      <td>NaN</td>\n",
       "      <td>NaN</td>\n",
       "      <td>NaN</td>\n",
       "      <td>NaN</td>\n",
       "      <td>NaN</td>\n",
       "      <td>NaN</td>\n",
       "      <td>NaN</td>\n",
       "    </tr>\n",
       "    <tr>\n",
       "      <th>2</th>\n",
       "      <td>2</td>\n",
       "      <td>-cxD1NimFldATDUsN-oa3A</td>\n",
       "      <td>2.0</td>\n",
       "      <td>2.0</td>\n",
       "      <td>23</td>\n",
       "      <td>Mexican, Restaurants</td>\n",
       "      <td>NaN</td>\n",
       "      <td>1.0</td>\n",
       "      <td>NaN</td>\n",
       "      <td>NaN</td>\n",
       "      <td>...</td>\n",
       "      <td>NaN</td>\n",
       "      <td>NaN</td>\n",
       "      <td>NaN</td>\n",
       "      <td>NaN</td>\n",
       "      <td>NaN</td>\n",
       "      <td>NaN</td>\n",
       "      <td>NaN</td>\n",
       "      <td>NaN</td>\n",
       "      <td>NaN</td>\n",
       "      <td>NaN</td>\n",
       "    </tr>\n",
       "  </tbody>\n",
       "</table>\n",
       "<p>3 rows × 24 columns</p>\n",
       "</div>"
      ],
      "text/plain": [
       "   Unnamed: 0             business_id  RestaurantsPriceRange2  stars  \\\n",
       "0           0  --9e1ONYQuAa-CB_Rrw7Tw                     4.0    4.0   \n",
       "1           1  -VAsjhmAbKF3Pb_-8rh3xg                     1.0    2.0   \n",
       "2           2  -cxD1NimFldATDUsN-oa3A                     2.0    2.0   \n",
       "\n",
       "   review_count                              categories  cl_0  cl_1  cl_2  \\\n",
       "0          1546  Steakhouses, Restaurants, Cajun/Creole   0.0   1.0   2.0   \n",
       "1            10         Fast Food, Burgers, Restaurants   NaN   1.0   NaN   \n",
       "2            23                    Mexican, Restaurants   NaN   1.0   NaN   \n",
       "\n",
       "   cl_3  ...    cl_8  cl_9  cl_10  cl_11  cl_12  cl_13  cl_14  cl_15  cl_16  \\\n",
       "0   NaN  ...     8.0   NaN    NaN    NaN    NaN   13.0    NaN    NaN   16.0   \n",
       "1   NaN  ...     NaN   NaN    NaN    NaN    NaN    NaN    NaN    NaN    NaN   \n",
       "2   NaN  ...     NaN   NaN    NaN    NaN    NaN    NaN    NaN    NaN    NaN   \n",
       "\n",
       "   cl_17  \n",
       "0   17.0  \n",
       "1    NaN  \n",
       "2    NaN  \n",
       "\n",
       "[3 rows x 24 columns]"
      ]
     },
     "execution_count": 8,
     "metadata": {},
     "output_type": "execute_result"
    }
   ],
   "source": [
    "biz_df.head(3)"
   ]
  },
  {
   "cell_type": "markdown",
   "metadata": {},
   "source": [
    "### Cleaning"
   ]
  },
  {
   "cell_type": "code",
   "execution_count": 86,
   "metadata": {},
   "outputs": [],
   "source": [
    "biz_cl = biz_df.copy()\n",
    "for i in range (18):\n",
    "    col_new = 'cl_t'+str(i)\n",
    "    col_old = 'cl_'+str(i)\n",
    "    biz_cl[col_new] = ~pd.isnull(biz_df[col_old])\n",
    "    biz_cl.drop(col_old, axis =1, inplace= True)\n"
   ]
  },
  {
   "cell_type": "code",
   "execution_count": 87,
   "metadata": {},
   "outputs": [
    {
     "data": {
      "text/plain": [
       "(57173, 24)"
      ]
     },
     "execution_count": 87,
     "metadata": {},
     "output_type": "execute_result"
    }
   ],
   "source": [
    "biz_cl.shape"
   ]
  },
  {
   "cell_type": "code",
   "execution_count": 88,
   "metadata": {},
   "outputs": [],
   "source": [
    "biz_cl['how_many_cl'] = 0\n",
    "for i in range (18):\n",
    "    col_new = 'cl_t'+str(i)\n",
    "    biz_cl['how_many_cl'] += biz_cl[col_new]\n",
    "\n"
   ]
  },
  {
   "cell_type": "code",
   "execution_count": 29,
   "metadata": {},
   "outputs": [
    {
     "data": {
      "text/plain": [
       "5644"
      ]
     },
     "execution_count": 29,
     "metadata": {},
     "output_type": "execute_result"
    }
   ],
   "source": [
    "len(biz_cl[biz_cl['how_many_cl']>4])"
   ]
  },
  {
   "cell_type": "code",
   "execution_count": 30,
   "metadata": {},
   "outputs": [
    {
     "data": {
      "text/plain": [
       "2774"
      ]
     },
     "execution_count": 30,
     "metadata": {},
     "output_type": "execute_result"
    }
   ],
   "source": [
    "len(biz_cl[biz_cl['how_many_cl']>5])"
   ]
  },
  {
   "cell_type": "code",
   "execution_count": 33,
   "metadata": {},
   "outputs": [
    {
     "data": {
      "text/plain": [
       "57173"
      ]
     },
     "execution_count": 33,
     "metadata": {},
     "output_type": "execute_result"
    }
   ],
   "source": [
    "len(biz_cl)"
   ]
  },
  {
   "cell_type": "code",
   "execution_count": 111,
   "metadata": {},
   "outputs": [],
   "source": [
    "def expand_features(X, col='features', inplace=False, sep=None):\n",
    "    X = X.copy() if not inplace else X\n",
    "    if sep==None:\n",
    "        for i in range(len(X[col].iloc[0])):\n",
    "             X['feature_' + str(i)] = X[col].apply(lambda x: x[i])\n",
    "    else:\n",
    "        lbls = np.unique(sep.join(X[col].unique()).split(sep))\n",
    "        lbls = np.unique([l.strip() for l in lbls])\n",
    "        for lbl in lbls:\n",
    "            X[lbl] = X[col].apply(lambda x: lbl in x)\n",
    "        X.drop(col, axis=1, inplace=True)\n",
    "    return X"
   ]
  },
  {
   "cell_type": "code",
   "execution_count": 113,
   "metadata": {},
   "outputs": [],
   "source": [
    "biz_cl1 = expand_features(biz_cl, col='categories', sep =',')"
   ]
  },
  {
   "cell_type": "code",
   "execution_count": 123,
   "metadata": {},
   "outputs": [],
   "source": [
    "biz_cl1['num_of_categ'] = biz_df.categories.map(lambda x: len(x.split(',')))"
   ]
  },
  {
   "cell_type": "code",
   "execution_count": 133,
   "metadata": {},
   "outputs": [
    {
     "data": {
      "text/plain": [
       "((57173, 732),\n",
       " Index(['Unnamed: 0', 'business_id', 'RestaurantsPriceRange2', 'stars',\n",
       "        'review_count', 'cl_t0', 'cl_t1', 'cl_t2', 'cl_t3', 'cl_t4', 'cl_t5',\n",
       "        'cl_t6', 'cl_t7', 'cl_t8', 'cl_t9', 'cl_t10', 'cl_t11', 'cl_t12',\n",
       "        'cl_t13', 'cl_t14', 'cl_t15', 'cl_t16', 'cl_t17', 'how_many_cl',\n",
       "        'num_of_categ', '& Probates', 'Acai Bowls'],\n",
       "       dtype='object'))"
      ]
     },
     "execution_count": 133,
     "metadata": {},
     "output_type": "execute_result"
    }
   ],
   "source": [
    "biz_cl1.shape, biz_cl1.columns[:27]"
   ]
  },
  {
   "cell_type": "code",
   "execution_count": 131,
   "metadata": {},
   "outputs": [],
   "source": [
    "colClust =['cl_t0', 'cl_t1', 'cl_t2', 'cl_t3', 'cl_t4', 'cl_t5',\n",
    "        'cl_t6', 'cl_t7', 'cl_t8', 'cl_t9', 'cl_t10', 'cl_t11', 'cl_t12',\n",
    "        'cl_t13', 'cl_t14', 'cl_t15', 'cl_t16', 'cl_t17']"
   ]
  },
  {
   "cell_type": "code",
   "execution_count": 132,
   "metadata": {},
   "outputs": [
    {
     "data": {
      "text/html": [
       "<div>\n",
       "<style scoped>\n",
       "    .dataframe tbody tr th:only-of-type {\n",
       "        vertical-align: middle;\n",
       "    }\n",
       "\n",
       "    .dataframe tbody tr th {\n",
       "        vertical-align: top;\n",
       "    }\n",
       "\n",
       "    .dataframe thead th {\n",
       "        text-align: right;\n",
       "    }\n",
       "</style>\n",
       "<table border=\"1\" class=\"dataframe\">\n",
       "  <thead>\n",
       "    <tr style=\"text-align: right;\">\n",
       "      <th></th>\n",
       "      <th>cl_t0</th>\n",
       "      <th>cl_t1</th>\n",
       "      <th>cl_t2</th>\n",
       "      <th>cl_t3</th>\n",
       "      <th>cl_t4</th>\n",
       "      <th>cl_t5</th>\n",
       "      <th>cl_t6</th>\n",
       "      <th>cl_t7</th>\n",
       "      <th>cl_t8</th>\n",
       "      <th>cl_t9</th>\n",
       "      <th>cl_t10</th>\n",
       "      <th>cl_t11</th>\n",
       "      <th>cl_t12</th>\n",
       "      <th>cl_t13</th>\n",
       "      <th>cl_t14</th>\n",
       "      <th>cl_t15</th>\n",
       "      <th>cl_t16</th>\n",
       "      <th>cl_t17</th>\n",
       "    </tr>\n",
       "  </thead>\n",
       "  <tbody>\n",
       "    <tr>\n",
       "      <th>cl_t0</th>\n",
       "      <td>1.000000</td>\n",
       "      <td>0.385155</td>\n",
       "      <td>0.286471</td>\n",
       "      <td>-0.011409</td>\n",
       "      <td>0.359006</td>\n",
       "      <td>0.303135</td>\n",
       "      <td>0.004614</td>\n",
       "      <td>0.064800</td>\n",
       "      <td>0.135711</td>\n",
       "      <td>0.097607</td>\n",
       "      <td>0.030550</td>\n",
       "      <td>0.142260</td>\n",
       "      <td>0.020644</td>\n",
       "      <td>0.139987</td>\n",
       "      <td>-0.013389</td>\n",
       "      <td>NaN</td>\n",
       "      <td>0.182701</td>\n",
       "      <td>0.122248</td>\n",
       "    </tr>\n",
       "    <tr>\n",
       "      <th>cl_t1</th>\n",
       "      <td>0.385155</td>\n",
       "      <td>1.000000</td>\n",
       "      <td>0.207322</td>\n",
       "      <td>0.002877</td>\n",
       "      <td>0.283651</td>\n",
       "      <td>0.271736</td>\n",
       "      <td>0.003016</td>\n",
       "      <td>0.075600</td>\n",
       "      <td>0.117397</td>\n",
       "      <td>0.080720</td>\n",
       "      <td>0.040843</td>\n",
       "      <td>0.120563</td>\n",
       "      <td>0.031362</td>\n",
       "      <td>0.104162</td>\n",
       "      <td>0.005305</td>\n",
       "      <td>NaN</td>\n",
       "      <td>0.132429</td>\n",
       "      <td>0.083333</td>\n",
       "    </tr>\n",
       "    <tr>\n",
       "      <th>cl_t2</th>\n",
       "      <td>0.286471</td>\n",
       "      <td>0.207322</td>\n",
       "      <td>1.000000</td>\n",
       "      <td>-0.005973</td>\n",
       "      <td>0.375981</td>\n",
       "      <td>0.256510</td>\n",
       "      <td>0.011878</td>\n",
       "      <td>0.036705</td>\n",
       "      <td>0.146902</td>\n",
       "      <td>0.101063</td>\n",
       "      <td>0.030295</td>\n",
       "      <td>0.150761</td>\n",
       "      <td>0.006901</td>\n",
       "      <td>0.182404</td>\n",
       "      <td>0.002018</td>\n",
       "      <td>NaN</td>\n",
       "      <td>0.237500</td>\n",
       "      <td>0.172109</td>\n",
       "    </tr>\n",
       "    <tr>\n",
       "      <th>cl_t3</th>\n",
       "      <td>-0.011409</td>\n",
       "      <td>0.002877</td>\n",
       "      <td>-0.005973</td>\n",
       "      <td>1.000000</td>\n",
       "      <td>-0.001758</td>\n",
       "      <td>0.000640</td>\n",
       "      <td>-0.000317</td>\n",
       "      <td>-0.010102</td>\n",
       "      <td>-0.000279</td>\n",
       "      <td>0.000178</td>\n",
       "      <td>-0.000495</td>\n",
       "      <td>-0.001889</td>\n",
       "      <td>-0.006905</td>\n",
       "      <td>0.001694</td>\n",
       "      <td>0.007190</td>\n",
       "      <td>NaN</td>\n",
       "      <td>0.000418</td>\n",
       "      <td>0.010531</td>\n",
       "    </tr>\n",
       "    <tr>\n",
       "      <th>cl_t4</th>\n",
       "      <td>0.359006</td>\n",
       "      <td>0.283651</td>\n",
       "      <td>0.375981</td>\n",
       "      <td>-0.001758</td>\n",
       "      <td>1.000000</td>\n",
       "      <td>0.324164</td>\n",
       "      <td>-0.002104</td>\n",
       "      <td>0.025576</td>\n",
       "      <td>0.162456</td>\n",
       "      <td>0.102158</td>\n",
       "      <td>0.051609</td>\n",
       "      <td>0.187061</td>\n",
       "      <td>0.024644</td>\n",
       "      <td>0.209060</td>\n",
       "      <td>-0.004236</td>\n",
       "      <td>NaN</td>\n",
       "      <td>0.266616</td>\n",
       "      <td>0.198332</td>\n",
       "    </tr>\n",
       "    <tr>\n",
       "      <th>cl_t5</th>\n",
       "      <td>0.303135</td>\n",
       "      <td>0.271736</td>\n",
       "      <td>0.256510</td>\n",
       "      <td>0.000640</td>\n",
       "      <td>0.324164</td>\n",
       "      <td>1.000000</td>\n",
       "      <td>-0.002396</td>\n",
       "      <td>-0.042693</td>\n",
       "      <td>0.066129</td>\n",
       "      <td>0.032474</td>\n",
       "      <td>0.066918</td>\n",
       "      <td>0.085634</td>\n",
       "      <td>0.044841</td>\n",
       "      <td>0.147620</td>\n",
       "      <td>-0.009796</td>\n",
       "      <td>NaN</td>\n",
       "      <td>0.252479</td>\n",
       "      <td>0.143075</td>\n",
       "    </tr>\n",
       "    <tr>\n",
       "      <th>cl_t6</th>\n",
       "      <td>0.004614</td>\n",
       "      <td>0.003016</td>\n",
       "      <td>0.011878</td>\n",
       "      <td>-0.000317</td>\n",
       "      <td>-0.002104</td>\n",
       "      <td>-0.002396</td>\n",
       "      <td>1.000000</td>\n",
       "      <td>-0.001046</td>\n",
       "      <td>-0.000925</td>\n",
       "      <td>-0.000811</td>\n",
       "      <td>-0.000342</td>\n",
       "      <td>-0.000973</td>\n",
       "      <td>-0.000381</td>\n",
       "      <td>-0.000733</td>\n",
       "      <td>-0.000106</td>\n",
       "      <td>NaN</td>\n",
       "      <td>-0.000997</td>\n",
       "      <td>-0.000662</td>\n",
       "    </tr>\n",
       "    <tr>\n",
       "      <th>cl_t7</th>\n",
       "      <td>0.064800</td>\n",
       "      <td>0.075600</td>\n",
       "      <td>0.036705</td>\n",
       "      <td>-0.010102</td>\n",
       "      <td>0.025576</td>\n",
       "      <td>-0.042693</td>\n",
       "      <td>-0.001046</td>\n",
       "      <td>1.000000</td>\n",
       "      <td>-0.013043</td>\n",
       "      <td>-0.023073</td>\n",
       "      <td>-0.016801</td>\n",
       "      <td>-0.021513</td>\n",
       "      <td>-0.021948</td>\n",
       "      <td>-0.005869</td>\n",
       "      <td>-0.000521</td>\n",
       "      <td>NaN</td>\n",
       "      <td>0.007214</td>\n",
       "      <td>0.035977</td>\n",
       "    </tr>\n",
       "    <tr>\n",
       "      <th>cl_t8</th>\n",
       "      <td>0.135711</td>\n",
       "      <td>0.117397</td>\n",
       "      <td>0.146902</td>\n",
       "      <td>-0.000279</td>\n",
       "      <td>0.162456</td>\n",
       "      <td>0.066129</td>\n",
       "      <td>-0.000925</td>\n",
       "      <td>-0.013043</td>\n",
       "      <td>1.000000</td>\n",
       "      <td>0.043614</td>\n",
       "      <td>-0.008907</td>\n",
       "      <td>0.098812</td>\n",
       "      <td>-0.018302</td>\n",
       "      <td>0.096724</td>\n",
       "      <td>0.000894</td>\n",
       "      <td>NaN</td>\n",
       "      <td>0.081060</td>\n",
       "      <td>0.054167</td>\n",
       "    </tr>\n",
       "    <tr>\n",
       "      <th>cl_t9</th>\n",
       "      <td>0.097607</td>\n",
       "      <td>0.080720</td>\n",
       "      <td>0.101063</td>\n",
       "      <td>0.000178</td>\n",
       "      <td>0.102158</td>\n",
       "      <td>0.032474</td>\n",
       "      <td>-0.000811</td>\n",
       "      <td>-0.023073</td>\n",
       "      <td>0.043614</td>\n",
       "      <td>1.000000</td>\n",
       "      <td>-0.004351</td>\n",
       "      <td>0.243086</td>\n",
       "      <td>0.011356</td>\n",
       "      <td>0.052872</td>\n",
       "      <td>-0.001257</td>\n",
       "      <td>NaN</td>\n",
       "      <td>0.052032</td>\n",
       "      <td>0.042026</td>\n",
       "    </tr>\n",
       "    <tr>\n",
       "      <th>cl_t10</th>\n",
       "      <td>0.030550</td>\n",
       "      <td>0.040843</td>\n",
       "      <td>0.030295</td>\n",
       "      <td>-0.000495</td>\n",
       "      <td>0.051609</td>\n",
       "      <td>0.066918</td>\n",
       "      <td>-0.000342</td>\n",
       "      <td>-0.016801</td>\n",
       "      <td>-0.008907</td>\n",
       "      <td>-0.004351</td>\n",
       "      <td>1.000000</td>\n",
       "      <td>0.006318</td>\n",
       "      <td>0.023544</td>\n",
       "      <td>-0.000429</td>\n",
       "      <td>-0.002082</td>\n",
       "      <td>NaN</td>\n",
       "      <td>0.034876</td>\n",
       "      <td>0.010756</td>\n",
       "    </tr>\n",
       "    <tr>\n",
       "      <th>cl_t11</th>\n",
       "      <td>0.142260</td>\n",
       "      <td>0.120563</td>\n",
       "      <td>0.150761</td>\n",
       "      <td>-0.001889</td>\n",
       "      <td>0.187061</td>\n",
       "      <td>0.085634</td>\n",
       "      <td>-0.000973</td>\n",
       "      <td>-0.021513</td>\n",
       "      <td>0.098812</td>\n",
       "      <td>0.243086</td>\n",
       "      <td>0.006318</td>\n",
       "      <td>1.000000</td>\n",
       "      <td>-0.008024</td>\n",
       "      <td>0.097962</td>\n",
       "      <td>0.003425</td>\n",
       "      <td>NaN</td>\n",
       "      <td>0.088138</td>\n",
       "      <td>0.065295</td>\n",
       "    </tr>\n",
       "    <tr>\n",
       "      <th>cl_t12</th>\n",
       "      <td>0.020644</td>\n",
       "      <td>0.031362</td>\n",
       "      <td>0.006901</td>\n",
       "      <td>-0.006905</td>\n",
       "      <td>0.024644</td>\n",
       "      <td>0.044841</td>\n",
       "      <td>-0.000381</td>\n",
       "      <td>-0.021948</td>\n",
       "      <td>-0.018302</td>\n",
       "      <td>0.011356</td>\n",
       "      <td>0.023544</td>\n",
       "      <td>-0.008024</td>\n",
       "      <td>1.000000</td>\n",
       "      <td>-0.009136</td>\n",
       "      <td>-0.002317</td>\n",
       "      <td>NaN</td>\n",
       "      <td>0.007481</td>\n",
       "      <td>-0.005626</td>\n",
       "    </tr>\n",
       "    <tr>\n",
       "      <th>cl_t13</th>\n",
       "      <td>0.139987</td>\n",
       "      <td>0.104162</td>\n",
       "      <td>0.182404</td>\n",
       "      <td>0.001694</td>\n",
       "      <td>0.209060</td>\n",
       "      <td>0.147620</td>\n",
       "      <td>-0.000733</td>\n",
       "      <td>-0.005869</td>\n",
       "      <td>0.096724</td>\n",
       "      <td>0.052872</td>\n",
       "      <td>-0.000429</td>\n",
       "      <td>0.097962</td>\n",
       "      <td>-0.009136</td>\n",
       "      <td>1.000000</td>\n",
       "      <td>-0.000421</td>\n",
       "      <td>NaN</td>\n",
       "      <td>0.176879</td>\n",
       "      <td>0.167998</td>\n",
       "    </tr>\n",
       "    <tr>\n",
       "      <th>cl_t14</th>\n",
       "      <td>-0.013389</td>\n",
       "      <td>0.005305</td>\n",
       "      <td>0.002018</td>\n",
       "      <td>0.007190</td>\n",
       "      <td>-0.004236</td>\n",
       "      <td>-0.009796</td>\n",
       "      <td>-0.000106</td>\n",
       "      <td>-0.000521</td>\n",
       "      <td>0.000894</td>\n",
       "      <td>-0.001257</td>\n",
       "      <td>-0.002082</td>\n",
       "      <td>0.003425</td>\n",
       "      <td>-0.002317</td>\n",
       "      <td>-0.000421</td>\n",
       "      <td>1.000000</td>\n",
       "      <td>NaN</td>\n",
       "      <td>0.000028</td>\n",
       "      <td>0.000427</td>\n",
       "    </tr>\n",
       "    <tr>\n",
       "      <th>cl_t15</th>\n",
       "      <td>NaN</td>\n",
       "      <td>NaN</td>\n",
       "      <td>NaN</td>\n",
       "      <td>NaN</td>\n",
       "      <td>NaN</td>\n",
       "      <td>NaN</td>\n",
       "      <td>NaN</td>\n",
       "      <td>NaN</td>\n",
       "      <td>NaN</td>\n",
       "      <td>NaN</td>\n",
       "      <td>NaN</td>\n",
       "      <td>NaN</td>\n",
       "      <td>NaN</td>\n",
       "      <td>NaN</td>\n",
       "      <td>NaN</td>\n",
       "      <td>NaN</td>\n",
       "      <td>NaN</td>\n",
       "      <td>NaN</td>\n",
       "    </tr>\n",
       "    <tr>\n",
       "      <th>cl_t16</th>\n",
       "      <td>0.182701</td>\n",
       "      <td>0.132429</td>\n",
       "      <td>0.237500</td>\n",
       "      <td>0.000418</td>\n",
       "      <td>0.266616</td>\n",
       "      <td>0.252479</td>\n",
       "      <td>-0.000997</td>\n",
       "      <td>0.007214</td>\n",
       "      <td>0.081060</td>\n",
       "      <td>0.052032</td>\n",
       "      <td>0.034876</td>\n",
       "      <td>0.088138</td>\n",
       "      <td>0.007481</td>\n",
       "      <td>0.176879</td>\n",
       "      <td>0.000028</td>\n",
       "      <td>NaN</td>\n",
       "      <td>1.000000</td>\n",
       "      <td>0.209295</td>\n",
       "    </tr>\n",
       "    <tr>\n",
       "      <th>cl_t17</th>\n",
       "      <td>0.122248</td>\n",
       "      <td>0.083333</td>\n",
       "      <td>0.172109</td>\n",
       "      <td>0.010531</td>\n",
       "      <td>0.198332</td>\n",
       "      <td>0.143075</td>\n",
       "      <td>-0.000662</td>\n",
       "      <td>0.035977</td>\n",
       "      <td>0.054167</td>\n",
       "      <td>0.042026</td>\n",
       "      <td>0.010756</td>\n",
       "      <td>0.065295</td>\n",
       "      <td>-0.005626</td>\n",
       "      <td>0.167998</td>\n",
       "      <td>0.000427</td>\n",
       "      <td>NaN</td>\n",
       "      <td>0.209295</td>\n",
       "      <td>1.000000</td>\n",
       "    </tr>\n",
       "  </tbody>\n",
       "</table>\n",
       "</div>"
      ],
      "text/plain": [
       "           cl_t0     cl_t1     cl_t2     cl_t3     cl_t4     cl_t5     cl_t6  \\\n",
       "cl_t0   1.000000  0.385155  0.286471 -0.011409  0.359006  0.303135  0.004614   \n",
       "cl_t1   0.385155  1.000000  0.207322  0.002877  0.283651  0.271736  0.003016   \n",
       "cl_t2   0.286471  0.207322  1.000000 -0.005973  0.375981  0.256510  0.011878   \n",
       "cl_t3  -0.011409  0.002877 -0.005973  1.000000 -0.001758  0.000640 -0.000317   \n",
       "cl_t4   0.359006  0.283651  0.375981 -0.001758  1.000000  0.324164 -0.002104   \n",
       "cl_t5   0.303135  0.271736  0.256510  0.000640  0.324164  1.000000 -0.002396   \n",
       "cl_t6   0.004614  0.003016  0.011878 -0.000317 -0.002104 -0.002396  1.000000   \n",
       "cl_t7   0.064800  0.075600  0.036705 -0.010102  0.025576 -0.042693 -0.001046   \n",
       "cl_t8   0.135711  0.117397  0.146902 -0.000279  0.162456  0.066129 -0.000925   \n",
       "cl_t9   0.097607  0.080720  0.101063  0.000178  0.102158  0.032474 -0.000811   \n",
       "cl_t10  0.030550  0.040843  0.030295 -0.000495  0.051609  0.066918 -0.000342   \n",
       "cl_t11  0.142260  0.120563  0.150761 -0.001889  0.187061  0.085634 -0.000973   \n",
       "cl_t12  0.020644  0.031362  0.006901 -0.006905  0.024644  0.044841 -0.000381   \n",
       "cl_t13  0.139987  0.104162  0.182404  0.001694  0.209060  0.147620 -0.000733   \n",
       "cl_t14 -0.013389  0.005305  0.002018  0.007190 -0.004236 -0.009796 -0.000106   \n",
       "cl_t15       NaN       NaN       NaN       NaN       NaN       NaN       NaN   \n",
       "cl_t16  0.182701  0.132429  0.237500  0.000418  0.266616  0.252479 -0.000997   \n",
       "cl_t17  0.122248  0.083333  0.172109  0.010531  0.198332  0.143075 -0.000662   \n",
       "\n",
       "           cl_t7     cl_t8     cl_t9    cl_t10    cl_t11    cl_t12    cl_t13  \\\n",
       "cl_t0   0.064800  0.135711  0.097607  0.030550  0.142260  0.020644  0.139987   \n",
       "cl_t1   0.075600  0.117397  0.080720  0.040843  0.120563  0.031362  0.104162   \n",
       "cl_t2   0.036705  0.146902  0.101063  0.030295  0.150761  0.006901  0.182404   \n",
       "cl_t3  -0.010102 -0.000279  0.000178 -0.000495 -0.001889 -0.006905  0.001694   \n",
       "cl_t4   0.025576  0.162456  0.102158  0.051609  0.187061  0.024644  0.209060   \n",
       "cl_t5  -0.042693  0.066129  0.032474  0.066918  0.085634  0.044841  0.147620   \n",
       "cl_t6  -0.001046 -0.000925 -0.000811 -0.000342 -0.000973 -0.000381 -0.000733   \n",
       "cl_t7   1.000000 -0.013043 -0.023073 -0.016801 -0.021513 -0.021948 -0.005869   \n",
       "cl_t8  -0.013043  1.000000  0.043614 -0.008907  0.098812 -0.018302  0.096724   \n",
       "cl_t9  -0.023073  0.043614  1.000000 -0.004351  0.243086  0.011356  0.052872   \n",
       "cl_t10 -0.016801 -0.008907 -0.004351  1.000000  0.006318  0.023544 -0.000429   \n",
       "cl_t11 -0.021513  0.098812  0.243086  0.006318  1.000000 -0.008024  0.097962   \n",
       "cl_t12 -0.021948 -0.018302  0.011356  0.023544 -0.008024  1.000000 -0.009136   \n",
       "cl_t13 -0.005869  0.096724  0.052872 -0.000429  0.097962 -0.009136  1.000000   \n",
       "cl_t14 -0.000521  0.000894 -0.001257 -0.002082  0.003425 -0.002317 -0.000421   \n",
       "cl_t15       NaN       NaN       NaN       NaN       NaN       NaN       NaN   \n",
       "cl_t16  0.007214  0.081060  0.052032  0.034876  0.088138  0.007481  0.176879   \n",
       "cl_t17  0.035977  0.054167  0.042026  0.010756  0.065295 -0.005626  0.167998   \n",
       "\n",
       "          cl_t14  cl_t15    cl_t16    cl_t17  \n",
       "cl_t0  -0.013389     NaN  0.182701  0.122248  \n",
       "cl_t1   0.005305     NaN  0.132429  0.083333  \n",
       "cl_t2   0.002018     NaN  0.237500  0.172109  \n",
       "cl_t3   0.007190     NaN  0.000418  0.010531  \n",
       "cl_t4  -0.004236     NaN  0.266616  0.198332  \n",
       "cl_t5  -0.009796     NaN  0.252479  0.143075  \n",
       "cl_t6  -0.000106     NaN -0.000997 -0.000662  \n",
       "cl_t7  -0.000521     NaN  0.007214  0.035977  \n",
       "cl_t8   0.000894     NaN  0.081060  0.054167  \n",
       "cl_t9  -0.001257     NaN  0.052032  0.042026  \n",
       "cl_t10 -0.002082     NaN  0.034876  0.010756  \n",
       "cl_t11  0.003425     NaN  0.088138  0.065295  \n",
       "cl_t12 -0.002317     NaN  0.007481 -0.005626  \n",
       "cl_t13 -0.000421     NaN  0.176879  0.167998  \n",
       "cl_t14  1.000000     NaN  0.000028  0.000427  \n",
       "cl_t15       NaN     NaN       NaN       NaN  \n",
       "cl_t16  0.000028     NaN  1.000000  0.209295  \n",
       "cl_t17  0.000427     NaN  0.209295  1.000000  "
      ]
     },
     "execution_count": 132,
     "metadata": {},
     "output_type": "execute_result"
    }
   ],
   "source": [
    "biz_cl1[colClust].corr()"
   ]
  },
  {
   "cell_type": "code",
   "execution_count": 135,
   "metadata": {},
   "outputs": [],
   "source": [
    "mmm = biz_cl1[biz_cl1.columns[25:]].mean(axis = 0)"
   ]
  },
  {
   "cell_type": "code",
   "execution_count": 136,
   "metadata": {},
   "outputs": [
    {
     "data": {
      "text/plain": [
       "count    707.000000\n",
       "mean       0.005864\n",
       "std        0.042220\n",
       "min        0.000017\n",
       "25%        0.000017\n",
       "50%        0.000087\n",
       "75%        0.000883\n",
       "max        1.000000\n",
       "dtype: float64"
      ]
     },
     "execution_count": 136,
     "metadata": {},
     "output_type": "execute_result"
    }
   ],
   "source": [
    "mmm.describe()"
   ]
  },
  {
   "cell_type": "code",
   "execution_count": 151,
   "metadata": {},
   "outputs": [],
   "source": [
    "ll = mmm[mmm<0.0005]"
   ]
  },
  {
   "cell_type": "code",
   "execution_count": 152,
   "metadata": {},
   "outputs": [],
   "source": [
    "ll.to_csv('d.txt')"
   ]
  },
  {
   "cell_type": "code",
   "execution_count": 153,
   "metadata": {},
   "outputs": [
    {
     "data": {
      "text/plain": [
       "499"
      ]
     },
     "execution_count": 153,
     "metadata": {},
     "output_type": "execute_result"
    }
   ],
   "source": [
    "len(ll)"
   ]
  },
  {
   "cell_type": "code",
   "execution_count": null,
   "metadata": {},
   "outputs": [],
   "source": []
  },
  {
   "cell_type": "code",
   "execution_count": 158,
   "metadata": {},
   "outputs": [],
   "source": [
    "biz_cl2 = biz_cl1.drop(ll.index, axis = 1)"
   ]
  },
  {
   "cell_type": "code",
   "execution_count": 160,
   "metadata": {},
   "outputs": [
    {
     "data": {
      "text/plain": [
       "(57173, 233)"
      ]
     },
     "execution_count": 160,
     "metadata": {},
     "output_type": "execute_result"
    }
   ],
   "source": [
    "biz_cl2.shape"
   ]
  },
  {
   "cell_type": "code",
   "execution_count": 299,
   "metadata": {},
   "outputs": [],
   "source": []
  },
  {
   "cell_type": "code",
   "execution_count": 297,
   "metadata": {},
   "outputs": [
    {
     "data": {
      "text/plain": [
       "count    57173.000000\n",
       "mean        63.924108\n",
       "std        162.644692\n",
       "min          3.000000\n",
       "25%          7.000000\n",
       "50%         19.000000\n",
       "75%         59.000000\n",
       "max       7968.000000\n",
       "Name: review_count, dtype: float64"
      ]
     },
     "execution_count": 297,
     "metadata": {},
     "output_type": "execute_result"
    }
   ],
   "source": [
    "biz_cl2.review_count.describe()"
   ]
  },
  {
   "cell_type": "code",
   "execution_count": 161,
   "metadata": {},
   "outputs": [
    {
     "name": "stderr",
     "output_type": "stream",
     "text": [
      "/anaconda3/lib/python3.6/site-packages/ipykernel_launcher.py:2: SettingWithCopyWarning: \n",
      "A value is trying to be set on a copy of a slice from a DataFrame\n",
      "\n",
      "See the caveats in the documentation: http://pandas.pydata.org/pandas-docs/stable/indexing.html#indexing-view-versus-copy\n",
      "  \n"
     ]
    }
   ],
   "source": [
    "biz_cl2['rest_isna'] = pd.isnull(biz_cl2['RestaurantsPriceRange2'])\n",
    "biz_cl2['RestaurantsPriceRange2'][pd.isnull(biz_cl2['RestaurantsPriceRange2'])] =2\n",
    "\n",
    "mmmm = biz_cl2[biz_cl2.columns[21:] ].mean(axis = 0)"
   ]
  },
  {
   "cell_type": "code",
   "execution_count": 300,
   "metadata": {},
   "outputs": [],
   "source": [
    "rev_norm = biz_cl2['review_count'].map(lambda x: x if x < 250 else 250)\n",
    "biz_cl2['st_over_am'] = biz_cl2['stars']/rev_norm"
   ]
  },
  {
   "cell_type": "code",
   "execution_count": 281,
   "metadata": {},
   "outputs": [
    {
     "data": {
      "text/plain": [
       "Index(['Unnamed: 0', 'business_id', 'RestaurantsPriceRange2', 'stars',\n",
       "       'review_count', 'cl_t0', 'cl_t1', 'cl_t2', 'cl_t3', 'cl_t4',\n",
       "       ...\n",
       "       'Venues & Event Spaces', 'Vietnamese', 'Waffles', 'Whiskey Bars',\n",
       "       'Wine & Spirits', 'Wine Bars', 'Wineries', 'Wraps', 'rest_isna',\n",
       "       'st_over_am'],\n",
       "      dtype='object', length=235)"
      ]
     },
     "execution_count": 281,
     "metadata": {},
     "output_type": "execute_result"
    }
   ],
   "source": [
    "biz_cl2.columns"
   ]
  },
  {
   "cell_type": "code",
   "execution_count": 302,
   "metadata": {},
   "outputs": [
    {
     "data": {
      "text/plain": [
       "Index(['Acai Bowls', 'Active Life', 'Afghan', 'African', 'American (New)',\n",
       "       'American (Traditional)', 'Arabian', 'Arcades', 'Argentine',\n",
       "       'Art Galleries',\n",
       "       ...\n",
       "       'Waffles', 'Whiskey Bars', 'Wine & Spirits', 'Wine Bars', 'Wineries',\n",
       "       'Wraps', 'num_of_categ', 'rest_isna', 'st_over_am', 'stars'],\n",
       "      dtype='object', length=213)"
      ]
     },
     "execution_count": 302,
     "metadata": {},
     "output_type": "execute_result"
    }
   ],
   "source": [
    "colPred = biz_cl2.columns[2:4].union( biz_cl2.columns[24:])\n",
    "colPred"
   ]
  },
  {
   "cell_type": "code",
   "execution_count": 283,
   "metadata": {},
   "outputs": [
    {
     "data": {
      "text/plain": [
       "['cl_t0',\n",
       " 'cl_t1',\n",
       " 'cl_t2',\n",
       " 'cl_t3',\n",
       " 'cl_t4',\n",
       " 'cl_t5',\n",
       " 'cl_t7',\n",
       " 'cl_t8',\n",
       " 'cl_t9',\n",
       " 'cl_t10',\n",
       " 'cl_t11',\n",
       " 'cl_t12',\n",
       " 'cl_t13',\n",
       " 'cl_t14',\n",
       " 'cl_t16',\n",
       " 'cl_t17']"
      ]
     },
     "execution_count": 283,
     "metadata": {},
     "output_type": "execute_result"
    }
   ],
   "source": [
    "colClust_n"
   ]
  },
  {
   "cell_type": "code",
   "execution_count": 303,
   "metadata": {},
   "outputs": [],
   "source": [
    "X = biz_cl2[colPred]\n",
    "####\n",
    "Y = biz_cl2[colClust_n] "
   ]
  },
  {
   "cell_type": "code",
   "execution_count": 304,
   "metadata": {},
   "outputs": [],
   "source": [
    "X_train, X_test, Y_train, Y_test = train_test_split(  X, Y, test_size=0.33, random_state=91)"
   ]
  },
  {
   "cell_type": "code",
   "execution_count": 286,
   "metadata": {},
   "outputs": [
    {
     "data": {
      "text/html": [
       "<div>\n",
       "<style scoped>\n",
       "    .dataframe tbody tr th:only-of-type {\n",
       "        vertical-align: middle;\n",
       "    }\n",
       "\n",
       "    .dataframe tbody tr th {\n",
       "        vertical-align: top;\n",
       "    }\n",
       "\n",
       "    .dataframe thead th {\n",
       "        text-align: right;\n",
       "    }\n",
       "</style>\n",
       "<table border=\"1\" class=\"dataframe\">\n",
       "  <thead>\n",
       "    <tr style=\"text-align: right;\">\n",
       "      <th></th>\n",
       "      <th>cl_t0</th>\n",
       "      <th>cl_t1</th>\n",
       "      <th>cl_t2</th>\n",
       "      <th>cl_t3</th>\n",
       "      <th>cl_t4</th>\n",
       "      <th>cl_t5</th>\n",
       "      <th>cl_t7</th>\n",
       "      <th>cl_t8</th>\n",
       "      <th>cl_t9</th>\n",
       "      <th>cl_t10</th>\n",
       "      <th>cl_t11</th>\n",
       "      <th>cl_t12</th>\n",
       "      <th>cl_t13</th>\n",
       "      <th>cl_t14</th>\n",
       "      <th>cl_t16</th>\n",
       "      <th>cl_t17</th>\n",
       "    </tr>\n",
       "  </thead>\n",
       "  <tbody>\n",
       "    <tr>\n",
       "      <th>4921</th>\n",
       "      <td>False</td>\n",
       "      <td>False</td>\n",
       "      <td>False</td>\n",
       "      <td>False</td>\n",
       "      <td>False</td>\n",
       "      <td>False</td>\n",
       "      <td>False</td>\n",
       "      <td>False</td>\n",
       "      <td>False</td>\n",
       "      <td>False</td>\n",
       "      <td>False</td>\n",
       "      <td>False</td>\n",
       "      <td>False</td>\n",
       "      <td>False</td>\n",
       "      <td>False</td>\n",
       "      <td>False</td>\n",
       "    </tr>\n",
       "    <tr>\n",
       "      <th>34910</th>\n",
       "      <td>True</td>\n",
       "      <td>True</td>\n",
       "      <td>False</td>\n",
       "      <td>False</td>\n",
       "      <td>False</td>\n",
       "      <td>True</td>\n",
       "      <td>False</td>\n",
       "      <td>False</td>\n",
       "      <td>False</td>\n",
       "      <td>False</td>\n",
       "      <td>False</td>\n",
       "      <td>False</td>\n",
       "      <td>False</td>\n",
       "      <td>False</td>\n",
       "      <td>False</td>\n",
       "      <td>False</td>\n",
       "    </tr>\n",
       "    <tr>\n",
       "      <th>17982</th>\n",
       "      <td>True</td>\n",
       "      <td>True</td>\n",
       "      <td>False</td>\n",
       "      <td>False</td>\n",
       "      <td>False</td>\n",
       "      <td>False</td>\n",
       "      <td>False</td>\n",
       "      <td>True</td>\n",
       "      <td>False</td>\n",
       "      <td>False</td>\n",
       "      <td>False</td>\n",
       "      <td>False</td>\n",
       "      <td>False</td>\n",
       "      <td>False</td>\n",
       "      <td>False</td>\n",
       "      <td>False</td>\n",
       "    </tr>\n",
       "  </tbody>\n",
       "</table>\n",
       "</div>"
      ],
      "text/plain": [
       "       cl_t0  cl_t1  cl_t2  cl_t3  cl_t4  cl_t5  cl_t7  cl_t8  cl_t9  cl_t10  \\\n",
       "4921   False  False  False  False  False  False  False  False  False   False   \n",
       "34910   True   True  False  False  False   True  False  False  False   False   \n",
       "17982   True   True  False  False  False  False  False   True  False   False   \n",
       "\n",
       "       cl_t11  cl_t12  cl_t13  cl_t14  cl_t16  cl_t17  \n",
       "4921    False   False   False   False   False   False  \n",
       "34910   False   False   False   False   False   False  \n",
       "17982   False   False   False   False   False   False  "
      ]
     },
     "execution_count": 286,
     "metadata": {},
     "output_type": "execute_result"
    }
   ],
   "source": [
    "Y_train.head(3)"
   ]
  },
  {
   "cell_type": "code",
   "execution_count": 257,
   "metadata": {},
   "outputs": [],
   "source": [
    "cw = Y_train.mean(axis =0)"
   ]
  },
  {
   "cell_type": "code",
   "execution_count": 277,
   "metadata": {
    "scrolled": true
   },
   "outputs": [
    {
     "data": {
      "text/plain": [
       "Index(['cl_t0', 'cl_t1', 'cl_t2', 'cl_t3', 'cl_t4', 'cl_t5', 'cl_t6', 'cl_t7',\n",
       "       'cl_t8', 'cl_t9', 'cl_t10', 'cl_t11', 'cl_t12', 'cl_t13', 'cl_t14',\n",
       "       'cl_t15', 'cl_t16', 'cl_t17'],\n",
       "      dtype='object')"
      ]
     },
     "execution_count": 277,
     "metadata": {},
     "output_type": "execute_result"
    }
   ],
   "source": [
    "cw.index"
   ]
  },
  {
   "cell_type": "code",
   "execution_count": 264,
   "metadata": {},
   "outputs": [
    {
     "data": {
      "text/plain": [
       "{'cl_t0': {1: 0.45, 0: 0.55},\n",
       " 'cl_t1': {1: 0.66, 0: 0.33999999999999997},\n",
       " 'cl_t2': {1: 0.11, 0: 0.89},\n",
       " 'cl_t3': {1: 0.1, 0: 0.9},\n",
       " 'cl_t4': {1: 0.2, 0: 0.8},\n",
       " 'cl_t5': {1: 0.25, 0: 0.75},\n",
       " 'cl_t6': {1: 0.1, 0: 0.9},\n",
       " 'cl_t7': {1: 0.1, 0: 0.9},\n",
       " 'cl_t8': {1: 0.1, 0: 0.9},\n",
       " 'cl_t9': {1: 0.1, 0: 0.9},\n",
       " 'cl_t10': {1: 0.1, 0: 0.9},\n",
       " 'cl_t11': {1: 0.1, 0: 0.9},\n",
       " 'cl_t12': {1: 0.1, 0: 0.9},\n",
       " 'cl_t13': {1: 0.1, 0: 0.9},\n",
       " 'cl_t14': {1: 0.1, 0: 0.9},\n",
       " 'cl_t15': {1: 0.1, 0: 0.9},\n",
       " 'cl_t16': {1: 0.1, 0: 0.9},\n",
       " 'cl_t17': {1: 0.1, 0: 0.9}}"
      ]
     },
     "execution_count": 264,
     "metadata": {},
     "output_type": "execute_result"
    }
   ],
   "source": [
    "weights = {}\n",
    "for cl in cw.index:\n",
    "    weights[cl] = {}\n",
    "    weights[cl][1] = max(round(cw[cl],2),0.1)\n",
    "    weights[cl][0] = 1 - weights[cl][1]\n",
    "weights\n",
    "\n",
    "\n",
    "\n",
    "\n",
    "\n",
    "\n",
    "\n"
   ]
  },
  {
   "cell_type": "code",
   "execution_count": 278,
   "metadata": {},
   "outputs": [],
   "source": [
    "colClust_n = ['cl_t0', 'cl_t1', 'cl_t2', 'cl_t3', 'cl_t4', 'cl_t5',  'cl_t7',\n",
    "       'cl_t8', 'cl_t9', 'cl_t10', 'cl_t11', 'cl_t12', 'cl_t13', 'cl_t14',\n",
    "        'cl_t16', 'cl_t17']"
   ]
  },
  {
   "cell_type": "code",
   "execution_count": 305,
   "metadata": {},
   "outputs": [],
   "source": [
    "rf0 = RandomForestClassifier(n_estimators=400,  max_depth=6, \n",
    "                             min_samples_split=2, min_samples_leaf=1, min_weight_fraction_leaf=0.0, max_features=17, \n",
    "                             max_leaf_nodes=None, bootstrap=True, n_jobs=-1, \n",
    "                             random_state=179,   class_weight={0:1, 1:0.9})"
   ]
  },
  {
   "cell_type": "code",
   "execution_count": 306,
   "metadata": {},
   "outputs": [
    {
     "data": {
      "text/plain": [
       "RandomForestClassifier(bootstrap=True, class_weight={0: 1, 1: 0.9},\n",
       "            criterion='gini', max_depth=6, max_features=17,\n",
       "            max_leaf_nodes=None, min_impurity_decrease=0.0,\n",
       "            min_impurity_split=None, min_samples_leaf=1,\n",
       "            min_samples_split=2, min_weight_fraction_leaf=0.0,\n",
       "            n_estimators=400, n_jobs=-1, oob_score=False, random_state=179,\n",
       "            verbose=0, warm_start=False)"
      ]
     },
     "execution_count": 306,
     "metadata": {},
     "output_type": "execute_result"
    }
   ],
   "source": [
    "rf0.fit(X_train, Y_train['cl_t0'])"
   ]
  },
  {
   "cell_type": "code",
   "execution_count": 307,
   "metadata": {},
   "outputs": [],
   "source": [
    "probs = rf0.predict_proba(X_train)"
   ]
  },
  {
   "cell_type": "code",
   "execution_count": 214,
   "metadata": {},
   "outputs": [
    {
     "name": "stdout",
     "output_type": "stream",
     "text": [
      "CPU times: user 27.3 s, sys: 1.29 s, total: 28.6 s\n",
      "Wall time: 7.91 s\n"
     ]
    },
    {
     "data": {
      "text/plain": [
       "array([-0.64195637, -0.64302025, -0.64143821])"
      ]
     },
     "execution_count": 214,
     "metadata": {},
     "output_type": "execute_result"
    }
   ],
   "source": [
    "%%time\n",
    "cross_val_score(rf0,X_train,Y_train['cl_t0'],scoring= 'neg_log_loss')"
   ]
  },
  {
   "cell_type": "code",
   "execution_count": 215,
   "metadata": {},
   "outputs": [
    {
     "name": "stdout",
     "output_type": "stream",
     "text": [
      "CPU times: user 13.3 s, sys: 1.43 s, total: 14.7 s\n",
      "Wall time: 5.15 s\n"
     ]
    },
    {
     "data": {
      "text/plain": [
       "array([-0.64231128, -0.64421853, -0.64476238])"
      ]
     },
     "execution_count": 215,
     "metadata": {},
     "output_type": "execute_result"
    }
   ],
   "source": [
    "%%time\n",
    "cross_val_score(rf0,X_test,Y_test['cl_t0'],scoring= 'neg_log_loss')"
   ]
  },
  {
   "cell_type": "code",
   "execution_count": 195,
   "metadata": {},
   "outputs": [
    {
     "data": {
      "text/plain": [
       "<matplotlib.axes._subplots.AxesSubplot at 0x1a199f2ac8>"
      ]
     },
     "execution_count": 195,
     "metadata": {},
     "output_type": "execute_result"
    },
    {
     "data": {
      "image/png": "[encoded data removed]",
      "text/plain": [
       "<Figure size 432x288 with 1 Axes>"
      ]
     },
     "metadata": {},
     "output_type": "display_data"
    }
   ],
   "source": [
    "#feat_scores = pd.DataFrame({'Fraction of Samples Affected' : rf0.feature_importances_},\n",
    "                           index=X.columns)\n",
    "#feat_scores = feat_scores.sort_values(by='Fraction of Samples Affected')[:20]\n",
    "#feat_scores.plot(kind='barh')"
   ]
  },
  {
   "cell_type": "code",
   "execution_count": 308,
   "metadata": {},
   "outputs": [
    {
     "data": {
      "text/plain": [
       "0.8526941057534566"
      ]
     },
     "execution_count": 308,
     "metadata": {},
     "output_type": "execute_result"
    }
   ],
   "source": [
    "roc_auc_score(Y_train['cl_t0'], probs[:,1])"
   ]
  },
  {
   "cell_type": "code",
   "execution_count": 309,
   "metadata": {},
   "outputs": [
    {
     "data": {
      "text/plain": [
       "<matplotlib.legend.Legend at 0x1a1a1d3320>"
      ]
     },
     "execution_count": 309,
     "metadata": {},
     "output_type": "execute_result"
    },
    {
     "data": {
      "image/png": "[encoded data removed]",
      "text/plain": [
       "<Figure size 432x288 with 1 Axes>"
      ]
     },
     "metadata": {},
     "output_type": "display_data"
    }
   ],
   "source": [
    "fig, ax = plt.subplots()\n",
    "plot_roc_curve(Y_train['cl_t0'], X_train, rf0, ax,  'train-rf')\n",
    "plot_roc_curve(Y_test['cl_t0'], X_test, rf0, ax,  'test-rf')\n",
    "ax.legend()"
   ]
  },
  {
   "cell_type": "code",
   "execution_count": 310,
   "metadata": {},
   "outputs": [],
   "source": [
    "gr0 = GradientBoostingClassifier( learning_rate=0.1, n_estimators=300,\n",
    "                                  subsample=0.8,  \n",
    "                                   max_depth=7,  random_state=179, max_features='sqrt')"
   ]
  },
  {
   "cell_type": "code",
   "execution_count": 311,
   "metadata": {},
   "outputs": [
    {
     "name": "stdout",
     "output_type": "stream",
     "text": [
      "CPU times: user 22.7 s, sys: 139 ms, total: 22.9 s\n",
      "Wall time: 22.9 s\n"
     ]
    },
    {
     "data": {
      "text/plain": [
       "GradientBoostingClassifier(criterion='friedman_mse', init=None,\n",
       "              learning_rate=0.1, loss='deviance', max_depth=7,\n",
       "              max_features='sqrt', max_leaf_nodes=None,\n",
       "              min_impurity_decrease=0.0, min_impurity_split=None,\n",
       "              min_samples_leaf=1, min_samples_split=2,\n",
       "              min_weight_fraction_leaf=0.0, n_estimators=300,\n",
       "              presort='auto', random_state=179, subsample=0.8, verbose=0,\n",
       "              warm_start=False)"
      ]
     },
     "execution_count": 311,
     "metadata": {},
     "output_type": "execute_result"
    }
   ],
   "source": [
    "%%time\n",
    "gr0.fit(X_train, Y_train['cl_t0'])"
   ]
  },
  {
   "cell_type": "code",
   "execution_count": 227,
   "metadata": {},
   "outputs": [
    {
     "name": "stdout",
     "output_type": "stream",
     "text": [
      "CPU times: user 22.9 s, sys: 113 ms, total: 23 s\n",
      "Wall time: 23 s\n"
     ]
    },
    {
     "data": {
      "text/plain": [
       "array([-0.60153555, -0.60666749, -0.61542372])"
      ]
     },
     "execution_count": 227,
     "metadata": {},
     "output_type": "execute_result"
    }
   ],
   "source": [
    "%%time\n",
    "cross_val_score(gr0,X_test,Y_test['cl_t0'],scoring= 'neg_log_loss')"
   ]
  },
  {
   "cell_type": "code",
   "execution_count": 312,
   "metadata": {},
   "outputs": [
    {
     "data": {
      "text/plain": [
       "(0.9096924382208591, 0.8773976794606934)"
      ]
     },
     "execution_count": 312,
     "metadata": {},
     "output_type": "execute_result"
    }
   ],
   "source": [
    "roc_auc_score(Y_train['cl_t0'], gr0.predict_proba(X_train)[:,1]), roc_auc_score(Y_test['cl_t0'], gr0.predict_proba(X_test)[:,1])"
   ]
  },
  {
   "cell_type": "code",
   "execution_count": 313,
   "metadata": {},
   "outputs": [
    {
     "data": {
      "text/plain": [
       "<matplotlib.legend.Legend at 0x1a1a126908>"
      ]
     },
     "execution_count": 313,
     "metadata": {},
     "output_type": "execute_result"
    },
    {
     "data": {
      "image/png": "[encoded data removed]",
      "text/plain": [
       "<Figure size 432x288 with 1 Axes>"
      ]
     },
     "metadata": {},
     "output_type": "display_data"
    }
   ],
   "source": [
    "fig, ax = plt.subplots()\n",
    "plot_roc_curve(Y_train['cl_t0'], X_train, rf0, ax,  'train-rf')\n",
    "plot_roc_curve(Y_test['cl_t0'], X_test, rf0, ax,  'test-rf')\n",
    "plot_roc_curve(Y_train['cl_t0'], X_train, gr0, ax,  'train-gr')\n",
    "plot_roc_curve(Y_test['cl_t0'], X_test, gr0, ax,  'test-gr')\n",
    "\n",
    "ax.legend()"
   ]
  },
  {
   "cell_type": "code",
   "execution_count": null,
   "metadata": {},
   "outputs": [],
   "source": []
  },
  {
   "cell_type": "code",
   "execution_count": 315,
   "metadata": {},
   "outputs": [
    {
     "name": "stdout",
     "output_type": "stream",
     "text": [
      "Fitting 3 folds for each of 12 candidates, totalling 36 fits\n"
     ]
    },
    {
     "name": "stderr",
     "output_type": "stream",
     "text": [
      "[Parallel(n_jobs=-1)]: Done  36 out of  36 | elapsed:  1.5min finished\n"
     ]
    },
    {
     "name": "stdout",
     "output_type": "stream",
     "text": [
      "Fitting 3 folds for each of 12 candidates, totalling 36 fits\n"
     ]
    },
    {
     "name": "stderr",
     "output_type": "stream",
     "text": [
      "[Parallel(n_jobs=-1)]: Done  36 out of  36 | elapsed:  1.5min finished\n"
     ]
    },
    {
     "name": "stdout",
     "output_type": "stream",
     "text": [
      "Fitting 3 folds for each of 12 candidates, totalling 36 fits\n"
     ]
    },
    {
     "name": "stderr",
     "output_type": "stream",
     "text": [
      "[Parallel(n_jobs=-1)]: Done  36 out of  36 | elapsed:  1.4min finished\n"
     ]
    },
    {
     "name": "stdout",
     "output_type": "stream",
     "text": [
      "Fitting 3 folds for each of 12 candidates, totalling 36 fits\n"
     ]
    },
    {
     "name": "stderr",
     "output_type": "stream",
     "text": [
      "[Parallel(n_jobs=-1)]: Done  36 out of  36 | elapsed:  1.2min finished\n"
     ]
    },
    {
     "name": "stdout",
     "output_type": "stream",
     "text": [
      "Fitting 3 folds for each of 12 candidates, totalling 36 fits\n"
     ]
    },
    {
     "name": "stderr",
     "output_type": "stream",
     "text": [
      "[Parallel(n_jobs=-1)]: Done  36 out of  36 | elapsed:  1.4min finished\n"
     ]
    },
    {
     "name": "stdout",
     "output_type": "stream",
     "text": [
      "Fitting 3 folds for each of 12 candidates, totalling 36 fits\n"
     ]
    },
    {
     "name": "stderr",
     "output_type": "stream",
     "text": [
      "[Parallel(n_jobs=-1)]: Done  36 out of  36 | elapsed:  1.5min finished\n"
     ]
    },
    {
     "name": "stdout",
     "output_type": "stream",
     "text": [
      "Fitting 3 folds for each of 12 candidates, totalling 36 fits\n"
     ]
    },
    {
     "name": "stderr",
     "output_type": "stream",
     "text": [
      "[Parallel(n_jobs=-1)]: Done  36 out of  36 | elapsed:  1.4min finished\n"
     ]
    },
    {
     "name": "stdout",
     "output_type": "stream",
     "text": [
      "Fitting 3 folds for each of 12 candidates, totalling 36 fits\n"
     ]
    },
    {
     "name": "stderr",
     "output_type": "stream",
     "text": [
      "[Parallel(n_jobs=-1)]: Done  36 out of  36 | elapsed:  1.4min finished\n"
     ]
    },
    {
     "name": "stdout",
     "output_type": "stream",
     "text": [
      "Fitting 3 folds for each of 12 candidates, totalling 36 fits\n"
     ]
    },
    {
     "name": "stderr",
     "output_type": "stream",
     "text": [
      "[Parallel(n_jobs=-1)]: Done  36 out of  36 | elapsed:  1.3min finished\n"
     ]
    },
    {
     "name": "stdout",
     "output_type": "stream",
     "text": [
      "Fitting 3 folds for each of 12 candidates, totalling 36 fits\n"
     ]
    },
    {
     "name": "stderr",
     "output_type": "stream",
     "text": [
      "[Parallel(n_jobs=-1)]: Done  36 out of  36 | elapsed:  1.2min finished\n"
     ]
    },
    {
     "name": "stdout",
     "output_type": "stream",
     "text": [
      "Fitting 3 folds for each of 12 candidates, totalling 36 fits\n"
     ]
    },
    {
     "name": "stderr",
     "output_type": "stream",
     "text": [
      "[Parallel(n_jobs=-1)]: Done  36 out of  36 | elapsed:  1.4min finished\n"
     ]
    },
    {
     "name": "stdout",
     "output_type": "stream",
     "text": [
      "Fitting 3 folds for each of 12 candidates, totalling 36 fits\n"
     ]
    },
    {
     "name": "stderr",
     "output_type": "stream",
     "text": [
      "[Parallel(n_jobs=-1)]: Done  36 out of  36 | elapsed:  1.2min finished\n"
     ]
    },
    {
     "name": "stdout",
     "output_type": "stream",
     "text": [
      "Fitting 3 folds for each of 12 candidates, totalling 36 fits\n"
     ]
    },
    {
     "name": "stderr",
     "output_type": "stream",
     "text": [
      "[Parallel(n_jobs=-1)]: Done  36 out of  36 | elapsed:  1.4min finished\n"
     ]
    },
    {
     "name": "stdout",
     "output_type": "stream",
     "text": [
      "Fitting 3 folds for each of 12 candidates, totalling 36 fits\n"
     ]
    },
    {
     "name": "stderr",
     "output_type": "stream",
     "text": [
      "[Parallel(n_jobs=-1)]: Done  36 out of  36 | elapsed:  1.1min finished\n"
     ]
    },
    {
     "name": "stdout",
     "output_type": "stream",
     "text": [
      "Fitting 3 folds for each of 12 candidates, totalling 36 fits\n"
     ]
    },
    {
     "name": "stderr",
     "output_type": "stream",
     "text": [
      "[Parallel(n_jobs=-1)]: Done  36 out of  36 | elapsed:  1.4min finished\n"
     ]
    },
    {
     "name": "stdout",
     "output_type": "stream",
     "text": [
      "Fitting 3 folds for each of 12 candidates, totalling 36 fits\n"
     ]
    },
    {
     "name": "stderr",
     "output_type": "stream",
     "text": [
      "[Parallel(n_jobs=-1)]: Done  36 out of  36 | elapsed:  1.3min finished\n"
     ]
    },
    {
     "name": "stdout",
     "output_type": "stream",
     "text": [
      "CPU times: user 10min 57s, sys: 10.3 s, total: 11min 7s\n",
      "Wall time: 23min 20s\n"
     ]
    }
   ],
   "source": [
    "%%time\n",
    "param_grid = {'max_depth' : [5,8, 12 ], 'max_features':[5,10,20,25] }\n",
    "clust_model_rf ={}\n",
    "for col in colClust_n:\n",
    "    rf_c_grid =  GridSearchCV(RandomForestClassifier(n_estimators=400,  \n",
    "                             min_samples_split=2, min_samples_leaf=1,   \n",
    "                             max_leaf_nodes=None, bootstrap=True, n_jobs=-1, \n",
    "                             random_state=179,   class_weight=weights[col]),\n",
    "                             param_grid,\n",
    "                             n_jobs=-1,\n",
    "                             verbose=True,\n",
    "                             scoring='neg_log_loss')\n",
    "    rf_c_grid.fit(X_train, Y_train[col])\n",
    "    clust_model_rf[col] = rf_c_grid.best_estimator_\n",
    "    #params = \n",
    "   # print(\"fot cluster \",col, \" best parameters:\", clust_model_rf[col].)"
   ]
  },
  {
   "cell_type": "code",
   "execution_count": 316,
   "metadata": {},
   "outputs": [
    {
     "name": "stdout",
     "output_type": "stream",
     "text": [
      "Fitting 3 folds for each of 6 candidates, totalling 18 fits\n"
     ]
    },
    {
     "name": "stderr",
     "output_type": "stream",
     "text": [
      "[Parallel(n_jobs=-1)]: Done  18 out of  18 | elapsed:  1.1min finished\n"
     ]
    },
    {
     "name": "stdout",
     "output_type": "stream",
     "text": [
      "Fitting 3 folds for each of 6 candidates, totalling 18 fits\n"
     ]
    },
    {
     "name": "stderr",
     "output_type": "stream",
     "text": [
      "[Parallel(n_jobs=-1)]: Done  18 out of  18 | elapsed:  1.1min finished\n"
     ]
    },
    {
     "name": "stdout",
     "output_type": "stream",
     "text": [
      "Fitting 3 folds for each of 6 candidates, totalling 18 fits\n"
     ]
    },
    {
     "name": "stderr",
     "output_type": "stream",
     "text": [
      "[Parallel(n_jobs=-1)]: Done  18 out of  18 | elapsed:  1.1min finished\n"
     ]
    },
    {
     "name": "stdout",
     "output_type": "stream",
     "text": [
      "Fitting 3 folds for each of 6 candidates, totalling 18 fits\n"
     ]
    },
    {
     "name": "stderr",
     "output_type": "stream",
     "text": [
      "[Parallel(n_jobs=-1)]: Done  18 out of  18 | elapsed:  1.2min finished\n"
     ]
    },
    {
     "name": "stdout",
     "output_type": "stream",
     "text": [
      "Fitting 3 folds for each of 6 candidates, totalling 18 fits\n"
     ]
    },
    {
     "name": "stderr",
     "output_type": "stream",
     "text": [
      "[Parallel(n_jobs=-1)]: Done  18 out of  18 | elapsed:  1.1min finished\n"
     ]
    },
    {
     "name": "stdout",
     "output_type": "stream",
     "text": [
      "Fitting 3 folds for each of 6 candidates, totalling 18 fits\n"
     ]
    },
    {
     "name": "stderr",
     "output_type": "stream",
     "text": [
      "[Parallel(n_jobs=-1)]: Done  18 out of  18 | elapsed:  1.1min finished\n"
     ]
    },
    {
     "name": "stdout",
     "output_type": "stream",
     "text": [
      "Fitting 3 folds for each of 6 candidates, totalling 18 fits\n"
     ]
    },
    {
     "name": "stderr",
     "output_type": "stream",
     "text": [
      "[Parallel(n_jobs=-1)]: Done  18 out of  18 | elapsed:  1.3min finished\n"
     ]
    },
    {
     "name": "stdout",
     "output_type": "stream",
     "text": [
      "Fitting 3 folds for each of 6 candidates, totalling 18 fits\n"
     ]
    },
    {
     "name": "stderr",
     "output_type": "stream",
     "text": [
      "[Parallel(n_jobs=-1)]: Done  18 out of  18 | elapsed:  1.3min finished\n"
     ]
    },
    {
     "name": "stdout",
     "output_type": "stream",
     "text": [
      "Fitting 3 folds for each of 6 candidates, totalling 18 fits\n"
     ]
    },
    {
     "name": "stderr",
     "output_type": "stream",
     "text": [
      "[Parallel(n_jobs=-1)]: Done  18 out of  18 | elapsed:  1.1min finished\n"
     ]
    },
    {
     "name": "stdout",
     "output_type": "stream",
     "text": [
      "Fitting 3 folds for each of 6 candidates, totalling 18 fits\n"
     ]
    },
    {
     "name": "stderr",
     "output_type": "stream",
     "text": [
      "[Parallel(n_jobs=-1)]: Done  18 out of  18 | elapsed:  1.1min finished\n"
     ]
    },
    {
     "name": "stdout",
     "output_type": "stream",
     "text": [
      "Fitting 3 folds for each of 6 candidates, totalling 18 fits\n"
     ]
    },
    {
     "name": "stderr",
     "output_type": "stream",
     "text": [
      "[Parallel(n_jobs=-1)]: Done  18 out of  18 | elapsed:  1.2min finished\n"
     ]
    },
    {
     "name": "stdout",
     "output_type": "stream",
     "text": [
      "Fitting 3 folds for each of 6 candidates, totalling 18 fits\n"
     ]
    },
    {
     "name": "stderr",
     "output_type": "stream",
     "text": [
      "[Parallel(n_jobs=-1)]: Done  18 out of  18 | elapsed:   58.0s finished\n"
     ]
    },
    {
     "name": "stdout",
     "output_type": "stream",
     "text": [
      "Fitting 3 folds for each of 6 candidates, totalling 18 fits\n"
     ]
    },
    {
     "name": "stderr",
     "output_type": "stream",
     "text": [
      "[Parallel(n_jobs=-1)]: Done  18 out of  18 | elapsed:  1.1min finished\n"
     ]
    },
    {
     "name": "stdout",
     "output_type": "stream",
     "text": [
      "Fitting 3 folds for each of 6 candidates, totalling 18 fits\n"
     ]
    },
    {
     "name": "stderr",
     "output_type": "stream",
     "text": [
      "[Parallel(n_jobs=-1)]: Done  18 out of  18 | elapsed:   51.6s finished\n"
     ]
    },
    {
     "name": "stdout",
     "output_type": "stream",
     "text": [
      "Fitting 3 folds for each of 6 candidates, totalling 18 fits\n"
     ]
    },
    {
     "name": "stderr",
     "output_type": "stream",
     "text": [
      "[Parallel(n_jobs=-1)]: Done  18 out of  18 | elapsed:  1.1min finished\n"
     ]
    },
    {
     "name": "stdout",
     "output_type": "stream",
     "text": [
      "Fitting 3 folds for each of 6 candidates, totalling 18 fits\n"
     ]
    },
    {
     "name": "stderr",
     "output_type": "stream",
     "text": [
      "[Parallel(n_jobs=-1)]: Done  18 out of  18 | elapsed:  1.1min finished\n"
     ]
    },
    {
     "name": "stdout",
     "output_type": "stream",
     "text": [
      "CPU times: user 5min 23s, sys: 5.08 s, total: 5min 28s\n",
      "Wall time: 23min 9s\n"
     ]
    }
   ],
   "source": [
    "%%time\n",
    "#colClust\n",
    "param_grid = {'max_depth' : [3,6,8 ], 'learning_rate':[0.05, 0.1] }\n",
    "clust_model_gr ={}\n",
    "for col in colClust_n:\n",
    "    gr_c_grid = GridSearchCV(GradientBoostingClassifier( n_estimators=300,\n",
    "                                  subsample=0.8,  \n",
    "                                     random_state=179, max_features='sqrt'),\n",
    "                             param_grid,\n",
    "                             n_jobs=-1,\n",
    "                             verbose=True,\n",
    "                             scoring='neg_log_loss')\n",
    "    gr_c_grid.fit(X_train, Y_train[col])\n",
    "    clust_model_gr[col] = gr_c_grid.best_estimator_\n",
    "    #print(\"fot cluster \",col, \" best parameters:\", gr_c_grid.best_params_)\n",
    "    "
   ]
  },
  {
   "cell_type": "code",
   "execution_count": null,
   "metadata": {},
   "outputs": [],
   "source": []
  },
  {
   "cell_type": "code",
   "execution_count": 271,
   "metadata": {},
   "outputs": [
    {
     "data": {
      "text/plain": [
       "dict_keys(['cl_t0'])"
      ]
     },
     "execution_count": 271,
     "metadata": {},
     "output_type": "execute_result"
    }
   ],
   "source": []
  },
  {
   "cell_type": "code",
   "execution_count": null,
   "metadata": {},
   "outputs": [],
   "source": [
    "2+2"
   ]
  },
  {
   "cell_type": "code",
   "execution_count": 319,
   "metadata": {},
   "outputs": [
    {
     "data": {
      "image/png": "[encoded data removed]",
      "text/plain": [
       "<Figure size 1440x720 with 16 Axes>"
      ]
     },
     "metadata": {},
     "output_type": "display_data"
    }
   ],
   "source": [
    "fig, axs = plt.subplots(4,4, figsize = (20,10))\n",
    "for col, ax in zip(colClust_n, axs.flatten()):\n",
    "    plot_roc_curve(Y_test[col], X_test, clust_model_rf[col], ax,  'test-rf')\n",
    "    plot_roc_curve(Y_test[col], X_test, clust_model_gr[col], ax,  'test-gr')\n",
    "    \n",
    "    ax.legend()"
   ]
  },
  {
   "cell_type": "code",
   "execution_count": null,
   "metadata": {},
   "outputs": [],
   "source": []
  }
 ],
 "metadata": {
  "kernelspec": {
   "display_name": "Python 3",
   "language": "python",
   "name": "python3"
  },
  "language_info": {
   "codemirror_mode": {
    "name": "ipython",
    "version": 3
   },
   "file_extension": ".py",
   "mimetype": "text/x-python",
   "name": "python",
   "nbconvert_exporter": "python",
   "pygments_lexer": "ipython3",
   "version": "3.6.5"
  }
 },
 "nbformat": 4,
 "nbformat_minor": 2
}
