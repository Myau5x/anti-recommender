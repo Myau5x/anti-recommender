{
 "cells": [
  {
   "cell_type": "code",
   "execution_count": 1,
   "metadata": {},
   "outputs": [],
   "source": [
    "import pandas as pd"
   ]
  },
  {
   "cell_type": "code",
   "execution_count": 2,
   "metadata": {},
   "outputs": [],
   "source": [
    "biz_df = pd.read_csv('biz_cluster.csv')"
   ]
  },
  {
   "cell_type": "code",
   "execution_count": 6,
   "metadata": {},
   "outputs": [
    {
     "name": "stdout",
     "output_type": "stream",
     "text": [
      "<class 'pandas.core.frame.DataFrame'>\n",
      "RangeIndex: 57173 entries, 0 to 57172\n",
      "Data columns (total 24 columns):\n",
      "Unnamed: 0                57173 non-null int64\n",
      "business_id               57173 non-null object\n",
      "RestaurantsPriceRange2    51111 non-null float64\n",
      "stars                     57173 non-null float64\n",
      "review_count              57173 non-null int64\n",
      "categories                57173 non-null object\n",
      "cl_0                      25785 non-null float64\n",
      "cl_1                      37611 non-null float64\n",
      "cl_2                      6306 non-null float64\n",
      "cl_3                      327 non-null float64\n",
      "cl_4                      11547 non-null float64\n",
      "cl_5                      14129 non-null float64\n",
      "cl_6                      1 non-null float64\n",
      "cl_7                      3366 non-null float64\n",
      "cl_8                      2667 non-null float64\n",
      "cl_9                      2073 non-null float64\n",
      "cl_10                     380 non-null float64\n",
      "cl_11                     2937 non-null float64\n",
      "cl_12                     470 non-null float64\n",
      "cl_13                     1706 non-null float64\n",
      "cl_14                     37 non-null float64\n",
      "cl_15                     0 non-null float64\n",
      "cl_16                     3076 non-null float64\n",
      "cl_17                     1397 non-null float64\n",
      "dtypes: float64(20), int64(2), object(2)\n",
      "memory usage: 10.5+ MB\n"
     ]
    }
   ],
   "source": [
    "biz_df.info()"
   ]
  },
  {
   "cell_type": "code",
   "execution_count": null,
   "metadata": {},
   "outputs": [],
   "source": []
  }
 ],
 "metadata": {
  "kernelspec": {
   "display_name": "Python 3",
   "language": "python",
   "name": "python3"
  },
  "language_info": {
   "codemirror_mode": {
    "name": "ipython",
    "version": 3
   },
   "file_extension": ".py",
   "mimetype": "text/x-python",
   "name": "python",
   "nbconvert_exporter": "python",
   "pygments_lexer": "ipython3",
   "version": "3.6.5"
  }
 },
 "nbformat": 4,
 "nbformat_minor": 2
}
