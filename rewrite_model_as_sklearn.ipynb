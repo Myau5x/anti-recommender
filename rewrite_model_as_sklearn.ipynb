{
 "cells": [
  {
   "cell_type": "code",
   "execution_count": 10,
   "metadata": {},
   "outputs": [],
   "source": [
    "from sklearn.cluster import KMeans\n",
    "from sklearn.feature_extraction.text import CountVectorizer, TfidfTransformer\n"
   ]
  },
  {
   "cell_type": "code",
   "execution_count": 109,
   "metadata": {},
   "outputs": [],
   "source": [
    "import numpy as np"
   ]
  },
  {
   "cell_type": "code",
   "execution_count": 63,
   "metadata": {},
   "outputs": [],
   "source": [
    "from nltk.stem.porter import PorterStemmer\n",
    "from nlp_cl_start import tokenize"
   ]
  },
  {
   "cell_type": "code",
   "execution_count": 30,
   "metadata": {},
   "outputs": [],
   "source": [
    "import pickle"
   ]
  },
  {
   "cell_type": "code",
   "execution_count": 4,
   "metadata": {},
   "outputs": [],
   "source": [
    "km = KMeans()"
   ]
  },
  {
   "cell_type": "code",
   "execution_count": 7,
   "metadata": {},
   "outputs": [
    {
     "data": {
      "text/plain": [
       "16"
      ]
     },
     "execution_count": 7,
     "metadata": {},
     "output_type": "execute_result"
    }
   ],
   "source": [
    "km.n_clusters =16\n",
    "km.n_clusters"
   ]
  },
  {
   "cell_type": "code",
   "execution_count": 8,
   "metadata": {},
   "outputs": [],
   "source": [
    "import numpy as np"
   ]
  },
  {
   "cell_type": "code",
   "execution_count": null,
   "metadata": {},
   "outputs": [],
   "source": [
    "km.fit()"
   ]
  },
  {
   "cell_type": "code",
   "execution_count": 11,
   "metadata": {},
   "outputs": [
    {
     "name": "stderr",
     "output_type": "stream",
     "text": [
      "/anaconda3/lib/python3.6/site-packages/ipykernel_launcher.py:1: DeprecationWarning: This function is deprecated. Please call randint(0, 100 + 1) instead\n",
      "  \"\"\"Entry point for launching an IPython kernel.\n"
     ]
    }
   ],
   "source": [
    "x = np.random.random_integers(0,100, 1000)"
   ]
  },
  {
   "cell_type": "code",
   "execution_count": 13,
   "metadata": {},
   "outputs": [
    {
     "data": {
      "text/plain": [
       "KMeans(algorithm='auto', copy_x=True, init='k-means++', max_iter=300,\n",
       "    n_clusters=16, n_init=10, n_jobs=1, precompute_distances='auto',\n",
       "    random_state=None, tol=0.0001, verbose=0)"
      ]
     },
     "execution_count": 13,
     "metadata": {},
     "output_type": "execute_result"
    }
   ],
   "source": [
    "km.fit(x.reshape(-1, 1))"
   ]
  },
  {
   "cell_type": "code",
   "execution_count": 14,
   "metadata": {},
   "outputs": [
    {
     "data": {
      "text/plain": [
       "array([[22.85185185],\n",
       "       [83.80769231],\n",
       "       [46.49180328],\n",
       "       [59.25806452],\n",
       "       [ 9.75362319],\n",
       "       [91.01315789],\n",
       "       [65.79365079],\n",
       "       [34.71794872],\n",
       "       [71.42592593],\n",
       "       [15.95180723],\n",
       "       [ 2.87692308],\n",
       "       [53.27272727],\n",
       "       [77.52941176],\n",
       "       [97.63461538],\n",
       "       [40.5       ],\n",
       "       [29.86538462]])"
      ]
     },
     "execution_count": 14,
     "metadata": {},
     "output_type": "execute_result"
    }
   ],
   "source": [
    "km.cluster_centers_"
   ]
  },
  {
   "cell_type": "code",
   "execution_count": 19,
   "metadata": {},
   "outputs": [],
   "source": [
    "c =np.linspace(0,100,16)"
   ]
  },
  {
   "cell_type": "code",
   "execution_count": 20,
   "metadata": {},
   "outputs": [],
   "source": [
    "km.cluster_centers_ = c"
   ]
  },
  {
   "cell_type": "code",
   "execution_count": 21,
   "metadata": {},
   "outputs": [
    {
     "data": {
      "text/plain": [
       "array([  0.        ,   6.66666667,  13.33333333,  20.        ,\n",
       "        26.66666667,  33.33333333,  40.        ,  46.66666667,\n",
       "        53.33333333,  60.        ,  66.66666667,  73.33333333,\n",
       "        80.        ,  86.66666667,  93.33333333, 100.        ])"
      ]
     },
     "execution_count": 21,
     "metadata": {},
     "output_type": "execute_result"
    }
   ],
   "source": [
    "km.cluster_centers_"
   ]
  },
  {
   "cell_type": "code",
   "execution_count": 11,
   "metadata": {},
   "outputs": [],
   "source": [
    "cv = CountVectorizer()\n",
    "idf = TfidfTransformer()"
   ]
  },
  {
   "cell_type": "code",
   "execution_count": 16,
   "metadata": {},
   "outputs": [
    {
     "data": {
      "text/plain": [
       "CountVectorizer(analyzer='word', binary=False, decode_error='strict',\n",
       "        dtype=<class 'numpy.int64'>, encoding='utf-8', input='content',\n",
       "        lowercase=True, max_df=1.0, max_features=None, min_df=1,\n",
       "        ngram_range=(1, 1), preprocessor=None, stop_words=None,\n",
       "        strip_accents=None, token_pattern='(?u)\\\\b\\\\w\\\\w+\\\\b',\n",
       "        tokenizer=None, vocabulary=None)"
      ]
     },
     "execution_count": 16,
     "metadata": {},
     "output_type": "execute_result"
    }
   ],
   "source": [
    "cv.fit(['aaaa  dd', 'dddd gggg', 'sss dddd'])"
   ]
  },
  {
   "cell_type": "code",
   "execution_count": 20,
   "metadata": {},
   "outputs": [],
   "source": [
    "cv.vocabulary_ = {'food' :0,\n",
    " 'order':1,\n",
    " 'place':2,\n",
    " 'time':3,\n",
    " 'like':4,\n",
    " 'servic':5,\n",
    " 'good':6,\n",
    " 'go':7,\n",
    " 'get':8,\n",
    " 'one':9,\n",
    " 'us':10,\n",
    " 'would':11,\n",
    " 'back':12,\n",
    " 'ask':13,\n",
    " 'restaur':14,\n",
    " 'wait':15}"
   ]
  },
  {
   "cell_type": "code",
   "execution_count": 22,
   "metadata": {},
   "outputs": [
    {
     "data": {
      "text/plain": [
       "{'food': 0,\n",
       " 'order': 1,\n",
       " 'place': 2,\n",
       " 'time': 3,\n",
       " 'like': 4,\n",
       " 'servic': 5,\n",
       " 'good': 6,\n",
       " 'go': 7,\n",
       " 'get': 8,\n",
       " 'one': 9,\n",
       " 'us': 10,\n",
       " 'would': 11,\n",
       " 'back': 12,\n",
       " 'ask': 13,\n",
       " 'restaur': 14,\n",
       " 'wait': 15}"
      ]
     },
     "execution_count": 22,
     "metadata": {},
     "output_type": "execute_result"
    }
   ],
   "source": [
    "cv.vocabulary_"
   ]
  },
  {
   "cell_type": "code",
   "execution_count": 56,
   "metadata": {},
   "outputs": [],
   "source": [
    "rx = [\"The lunch and dinner menus are a bit different, with the lunch menu featuring more sandwiches and things, so maybe the comment I just made about people not coming for a burger is wrong. Either way, this restaurant is pretty fancy and features quite a\"]"
   ]
  },
  {
   "cell_type": "code",
   "execution_count": 28,
   "metadata": {},
   "outputs": [
    {
     "data": {
      "text/plain": [
       "(1, 16)"
      ]
     },
     "execution_count": 28,
     "metadata": {},
     "output_type": "execute_result"
    }
   ],
   "source": [
    "x.get_shape()"
   ]
  },
  {
   "cell_type": "code",
   "execution_count": null,
   "metadata": {},
   "outputs": [],
   "source": [
    "with open('model_parts/centers', 'rb') as f:\n",
    "    new_centers = pickle.load(f)\n",
    "with open('model_parts/vocab', 'rb') as f:\n",
    "    new_vocab = pickle.load(f)"
   ]
  },
  {
   "cell_type": "code",
   "execution_count": 33,
   "metadata": {},
   "outputs": [],
   "source": [
    "with open('model_parts/idf', 'rb') as f:\n",
    "    new_idf =pickle.load( f)"
   ]
  },
  {
   "cell_type": "code",
   "execution_count": 44,
   "metadata": {},
   "outputs": [
    {
     "data": {
      "text/plain": [
       "['food',\n",
       " 'order',\n",
       " 'place',\n",
       " 'time',\n",
       " 'like',\n",
       " 'servic',\n",
       " 'good',\n",
       " 'go',\n",
       " 'get',\n",
       " 'one',\n",
       " 'us',\n",
       " 'would',\n",
       " 'back',\n",
       " 'ask',\n",
       " 'restaur',\n",
       " 'wait',\n",
       " 'even',\n",
       " 'tabl',\n",
       " 'came',\n",
       " 'got',\n",
       " 'minut',\n",
       " 'come',\n",
       " 'tri',\n",
       " 'want',\n",
       " 'realli',\n",
       " 'never',\n",
       " 'tast',\n",
       " 'eat',\n",
       " 'look',\n",
       " 'chicken',\n",
       " 'drink',\n",
       " 'said',\n",
       " 'server',\n",
       " 'went',\n",
       " 'could',\n",
       " 'bad',\n",
       " 'better',\n",
       " 'say',\n",
       " 'manag',\n",
       " 'make',\n",
       " 'first',\n",
       " 'take',\n",
       " 'great',\n",
       " 'menu',\n",
       " 'peopl',\n",
       " 'price',\n",
       " 'custom',\n",
       " 'pizza',\n",
       " 'know',\n",
       " 'give',\n",
       " 'also',\n",
       " 'fri',\n",
       " 'disappoint',\n",
       " 'told',\n",
       " 'much',\n",
       " 'two',\n",
       " 'experi',\n",
       " 'took',\n",
       " 'meal',\n",
       " 'way',\n",
       " 'thing',\n",
       " 'well',\n",
       " 'sauc',\n",
       " 'anoth',\n",
       " 'waitress',\n",
       " 'star',\n",
       " 'serv',\n",
       " 'bar',\n",
       " 'think',\n",
       " 'review',\n",
       " 'salad',\n",
       " 'busi',\n",
       " 'locat',\n",
       " 'ever',\n",
       " 'hour',\n",
       " 'nice',\n",
       " 'seem',\n",
       " 'friend',\n",
       " 'still',\n",
       " 'walk',\n",
       " 'burger',\n",
       " 'call',\n",
       " 'staff',\n",
       " 'seat',\n",
       " 'chees',\n",
       " 'made',\n",
       " 'dish',\n",
       " 'cook',\n",
       " 'night',\n",
       " 'pretti',\n",
       " 'noth',\n",
       " 'need',\n",
       " 'use',\n",
       " 'last',\n",
       " 'ok',\n",
       " 'around',\n",
       " 'check',\n",
       " 'left',\n",
       " 'day',\n",
       " 'right',\n",
       " 'long',\n",
       " 'see',\n",
       " 'meat',\n",
       " 'dinner',\n",
       " 'someth',\n",
       " 'littl',\n",
       " 'work',\n",
       " 'sinc',\n",
       " 'sure',\n",
       " 'side',\n",
       " 'flavor',\n",
       " 'expect',\n",
       " 'cold',\n",
       " 'sandwich',\n",
       " 'pay',\n",
       " 'waiter',\n",
       " 'qualiti',\n",
       " 'worst',\n",
       " 'small',\n",
       " 'lunch',\n",
       " 'water',\n",
       " 'sit',\n",
       " 'plate',\n",
       " 'terribl',\n",
       " 'horribl',\n",
       " 'final',\n",
       " 'arriv',\n",
       " 'best',\n",
       " 'put',\n",
       " 'money',\n",
       " 'rice',\n",
       " 'open',\n",
       " 'return',\n",
       " 'visit',\n",
       " 'mayb',\n",
       " 'half',\n",
       " 'love',\n",
       " 'away',\n",
       " 'mani',\n",
       " 'new',\n",
       " 'top',\n",
       " 'decid',\n",
       " 'lot',\n",
       " 'rude',\n",
       " 'next',\n",
       " 'start',\n",
       " 'year',\n",
       " 'end',\n",
       " 'howev',\n",
       " 'though',\n",
       " 'steak',\n",
       " 'tell',\n",
       " 'actual',\n",
       " 'dri',\n",
       " 'roll',\n",
       " 'charg',\n",
       " 'els',\n",
       " 'close',\n",
       " 'bill',\n",
       " 'anyth',\n",
       " 'hot',\n",
       " 'bread',\n",
       " 'sushi',\n",
       " 'soup',\n",
       " 'let',\n",
       " 'alway',\n",
       " 'special',\n",
       " 'recommend',\n",
       " 'person',\n",
       " 'everyth',\n",
       " 'offer',\n",
       " 'beer',\n",
       " 'leav',\n",
       " 'feel',\n",
       " 'thought',\n",
       " 'bland',\n",
       " 'worth',\n",
       " 'wrong',\n",
       " 'gave',\n",
       " 'min',\n",
       " 'guy',\n",
       " 'taco',\n",
       " 'bit',\n",
       " 'differ',\n",
       " 'least',\n",
       " 'find',\n",
       " 'enough',\n",
       " 'fresh',\n",
       " 'area',\n",
       " 'home',\n",
       " 'point',\n",
       " 'probabl',\n",
       " 'later',\n",
       " 'brought',\n",
       " 'old',\n",
       " 'sat',\n",
       " 'beef',\n",
       " 'piec',\n",
       " 'almost',\n",
       " 'line',\n",
       " 'slow',\n",
       " 'egg',\n",
       " 'definit',\n",
       " 'big',\n",
       " 'hard',\n",
       " 'husband',\n",
       " 'someon',\n",
       " 'instead',\n",
       " 'everi',\n",
       " 'hope',\n",
       " 'fish',\n",
       " 'pm',\n",
       " 'dine',\n",
       " 'receiv',\n",
       " 'owner',\n",
       " 'enjoy',\n",
       " 'portion',\n",
       " 'reason',\n",
       " 'okay',\n",
       " 'item',\n",
       " 'parti',\n",
       " 'second',\n",
       " 'chang',\n",
       " 'care',\n",
       " 'decent',\n",
       " 'shrimp',\n",
       " 'appet',\n",
       " 'friendli',\n",
       " 'employe',\n",
       " 'tip',\n",
       " 'poor',\n",
       " 'wing',\n",
       " 'kind',\n",
       " 'bring',\n",
       " 'without',\n",
       " 'room',\n",
       " 'complet',\n",
       " 'lack',\n",
       " 'done',\n",
       " 'buffet',\n",
       " 'kitchen',\n",
       " 'either',\n",
       " 'show',\n",
       " 'kid',\n",
       " 'help',\n",
       " 'high',\n",
       " 'breakfast',\n",
       " 'potato',\n",
       " 'stop',\n",
       " 'today',\n",
       " 'hand',\n",
       " 'coupl',\n",
       " 'front',\n",
       " 'full',\n",
       " 'vega',\n",
       " 'talk',\n",
       " 'quit',\n",
       " 'three',\n",
       " 'famili',\n",
       " 'overal',\n",
       " 'happen',\n",
       " 'extra',\n",
       " 'found',\n",
       " 'insid',\n",
       " 'guess',\n",
       " 'less',\n",
       " 'drive',\n",
       " 'dessert',\n",
       " 'coffe',\n",
       " 'empti',\n",
       " 'felt',\n",
       " 'wife',\n",
       " 'option',\n",
       " 'reserv',\n",
       " 'paid',\n",
       " 'clean',\n",
       " 'pick',\n",
       " 'extrem',\n",
       " 'usual',\n",
       " 'averag',\n",
       " 'ice',\n",
       " 'mediocr',\n",
       " 'door',\n",
       " 'part',\n",
       " 'sweet',\n",
       " 'stay',\n",
       " 'chip',\n",
       " 'sever',\n",
       " 'finish',\n",
       " 'pork',\n",
       " 'group',\n",
       " 'total',\n",
       " 'ate',\n",
       " 'name',\n",
       " 'saw',\n",
       " 'whole',\n",
       " 'hostess',\n",
       " 'fine',\n",
       " 'unfortun',\n",
       " 'noodl',\n",
       " 'girl',\n",
       " 'larg',\n",
       " 'happi',\n",
       " 'aw',\n",
       " 'bartend',\n",
       " 'free',\n",
       " 'turn',\n",
       " 'understand',\n",
       " 'bite',\n",
       " 'apolog',\n",
       " 'impress',\n",
       " 'problem',\n",
       " 'wast',\n",
       " 'notic',\n",
       " 'bowl',\n",
       " 'wine',\n",
       " 'glass',\n",
       " 'super',\n",
       " 'sorri',\n",
       " 'alreadi',\n",
       " 'everyon',\n",
       " 'size',\n",
       " 'dirti',\n",
       " 'phone',\n",
       " 'grill',\n",
       " 'week',\n",
       " 'given',\n",
       " 'far',\n",
       " 'card',\n",
       " 'run',\n",
       " 'oh',\n",
       " 'absolut',\n",
       " 'onion',\n",
       " 'outsid',\n",
       " 'attent',\n",
       " 'tea',\n",
       " 'ladi',\n",
       " 'cut',\n",
       " 'mean',\n",
       " 'spici',\n",
       " 'liter',\n",
       " 'hous',\n",
       " 'expens',\n",
       " 'rather',\n",
       " 'keep',\n",
       " 'counter',\n",
       " 'slice',\n",
       " 'cream',\n",
       " 'anyon',\n",
       " 'miss',\n",
       " 'live',\n",
       " 'entir',\n",
       " 'basic',\n",
       " 'stand',\n",
       " 'store',\n",
       " 'attitud',\n",
       " 'overpr',\n",
       " 'bean',\n",
       " 'gone',\n",
       " 'chef',\n",
       " 'atmospher',\n",
       " 'refil',\n",
       " 'disgust',\n",
       " 'thank',\n",
       " 'mention',\n",
       " 'read',\n",
       " 'watch',\n",
       " 'fast',\n",
       " 'yelp',\n",
       " 'rate',\n",
       " 'fill',\n",
       " 'entre',\n",
       " 'rib',\n",
       " 'pleas',\n",
       " 'ago',\n",
       " 'salti',\n",
       " 'might',\n",
       " 'past',\n",
       " 'burrito',\n",
       " 'pasta',\n",
       " 'may',\n",
       " 'readi',\n",
       " 'fact',\n",
       " 'huge',\n",
       " 'mexican',\n",
       " 'issu',\n",
       " 'yet',\n",
       " 'includ',\n",
       " 'tomato',\n",
       " 'warm',\n",
       " 'choic',\n",
       " 'bacon',\n",
       " 'bare',\n",
       " 'ye',\n",
       " 'deal',\n",
       " 'select',\n",
       " 'delici',\n",
       " 'deliveri',\n",
       " 'la',\n",
       " 'suppos',\n",
       " 'late',\n",
       " 'cours',\n",
       " 'twice',\n",
       " 'especi',\n",
       " 'excit',\n",
       " 'amount',\n",
       " 'cup',\n",
       " 'green',\n",
       " 'mess',\n",
       " 'hungri',\n",
       " 'tasti',\n",
       " 'cheap',\n",
       " 'must',\n",
       " 'red',\n",
       " 'chines',\n",
       " 'write',\n",
       " 'regular',\n",
       " 'amaz',\n",
       " 'season',\n",
       " 'move',\n",
       " 'behind',\n",
       " 'salsa',\n",
       " 'salt',\n",
       " 'deliv',\n",
       " 'gener',\n",
       " 'wors',\n",
       " 'suck',\n",
       " 'short',\n",
       " 'sad',\n",
       " 'decor',\n",
       " 'kept',\n",
       " 'real',\n",
       " 'mind',\n",
       " 'soggi',\n",
       " 'complain',\n",
       " 'bbq',\n",
       " 'rest',\n",
       " 'spot',\n",
       " 'thai',\n",
       " 'save',\n",
       " 'box',\n",
       " 'white',\n",
       " 'gross',\n",
       " 'cost',\n",
       " 'frozen',\n",
       " 'believ',\n",
       " 'dress',\n",
       " 'sign',\n",
       " 'wish',\n",
       " 'establish',\n",
       " 'street',\n",
       " 'greet',\n",
       " 'park',\n",
       " 'although',\n",
       " 'except',\n",
       " 'town',\n",
       " 'crab',\n",
       " 'explain',\n",
       " 'dollar',\n",
       " 'bother',\n",
       " 'lettuc',\n",
       " 'month',\n",
       " 'medium',\n",
       " 'forgot',\n",
       " 'wonder',\n",
       " 'veggi',\n",
       " 'set',\n",
       " 'heard',\n",
       " 'list',\n",
       " 'anyway',\n",
       " 'smell',\n",
       " 'togeth',\n",
       " 'mistak',\n",
       " 'mix',\n",
       " 'base',\n",
       " 'treat',\n",
       " 'pass',\n",
       " 'consid',\n",
       " 'longer',\n",
       " 'main',\n",
       " 'saturday',\n",
       " 'prepar',\n",
       " 'serious',\n",
       " 'spend',\n",
       " 'eaten',\n",
       " 'floor',\n",
       " 'speak',\n",
       " 'surpris',\n",
       " 'tonight',\n",
       " 'head',\n",
       " 'birthday',\n",
       " 'greasi',\n",
       " 'soon',\n",
       " 'avoid',\n",
       " 'normal',\n",
       " 'boyfriend',\n",
       " 'hotel',\n",
       " 'chanc',\n",
       " 'cake',\n",
       " 'plu',\n",
       " 'clearli',\n",
       " 'type',\n",
       " 'abl',\n",
       " 'pepper',\n",
       " 'man',\n",
       " 'request',\n",
       " 'add',\n",
       " 'tini',\n",
       " 'honestli',\n",
       " 'ridicul',\n",
       " 'seen',\n",
       " 'state',\n",
       " 'game',\n",
       " 'tasteless',\n",
       " 'local',\n",
       " 'due',\n",
       " 'quick',\n",
       " 'ignor',\n",
       " 'cool',\n",
       " 'ad',\n",
       " 'job',\n",
       " 'cashier',\n",
       " 'four',\n",
       " 'ingredi',\n",
       " 'figur',\n",
       " 'quickli',\n",
       " 'music',\n",
       " 'salmon',\n",
       " 'hear',\n",
       " 'guest',\n",
       " 'bottl',\n",
       " 'taken',\n",
       " 'pho',\n",
       " 'patio',\n",
       " 'bag',\n",
       " 'strip',\n",
       " 'sunday',\n",
       " 'realiz',\n",
       " 'pull',\n",
       " 'eye',\n",
       " 'favorit',\n",
       " 'loud',\n",
       " 'somewher',\n",
       " 'unless',\n",
       " 'burnt',\n",
       " 'toast',\n",
       " 'overcook',\n",
       " 'french',\n",
       " 'rare',\n",
       " 'friday',\n",
       " 'lobster',\n",
       " 'rush',\n",
       " 'dog',\n",
       " 'question',\n",
       " 'veget',\n",
       " 'garlic',\n",
       " 'forev',\n",
       " 'drop',\n",
       " 'italian',\n",
       " 'suggest',\n",
       " 'bun',\n",
       " 'inform',\n",
       " 'idea',\n",
       " 'weird',\n",
       " 'across',\n",
       " 'other',\n",
       " 'appar',\n",
       " 'hate',\n",
       " 'oil',\n",
       " 'immedi',\n",
       " 'rememb',\n",
       " 'seafood',\n",
       " 'n',\n",
       " 'crowd',\n",
       " 'life',\n",
       " 'grab',\n",
       " 'hair',\n",
       " 'black',\n",
       " 'play',\n",
       " 'clear',\n",
       " 'share',\n",
       " 'avail',\n",
       " 'sour',\n",
       " 'wrap',\n",
       " 'sub',\n",
       " 'style',\n",
       " 'near',\n",
       " 'consist',\n",
       " 'fan',\n",
       " 'word',\n",
       " 'answer',\n",
       " 'stick',\n",
       " 'recent',\n",
       " 'cover',\n",
       " 'five',\n",
       " 'number',\n",
       " 'standard',\n",
       " 'low',\n",
       " 'window',\n",
       " 'light',\n",
       " 'obvious',\n",
       " 'sick',\n",
       " 'fix',\n",
       " 'crust',\n",
       " 'continu',\n",
       " 'present',\n",
       " 'butter',\n",
       " 'etc',\n",
       " 'mushroom',\n",
       " 'thru',\n",
       " 'interest',\n",
       " 'worker',\n",
       " 'knew',\n",
       " 'elsewher',\n",
       " 'wow',\n",
       " 'credit',\n",
       " 'buy',\n",
       " 'patron',\n",
       " 'possibl',\n",
       " 'spent',\n",
       " 'stuff',\n",
       " 'annoy',\n",
       " 'brunch',\n",
       " 'simpl',\n",
       " 'awesom',\n",
       " 'note',\n",
       " 'sent',\n",
       " 'curri',\n",
       " 'appear',\n",
       " 'pack',\n",
       " 'raw',\n",
       " 'cash',\n",
       " 'mac',\n",
       " 'corn',\n",
       " 'zero',\n",
       " 'simpli',\n",
       " 'brown',\n",
       " 'meh',\n",
       " 'plain',\n",
       " 'morn',\n",
       " 'de',\n",
       " 'acknowledg',\n",
       " 'bathroom',\n",
       " 'pancak',\n",
       " 'lost',\n",
       " 'face',\n",
       " 'smoke',\n",
       " 'trip',\n",
       " 'pictur',\n",
       " 'thin',\n",
       " 'singl',\n",
       " 'correct',\n",
       " 'flavour',\n",
       " 'dip',\n",
       " 'mine',\n",
       " 'daughter',\n",
       " 'addit',\n",
       " 'son',\n",
       " 'par',\n",
       " 'sausag',\n",
       " 'excel',\n",
       " 'posit',\n",
       " 'tough',\n",
       " 'crispi',\n",
       " 'upon',\n",
       " 'shop',\n",
       " 'chocol',\n",
       " 'hold',\n",
       " 'compar',\n",
       " 'car',\n",
       " 'joke',\n",
       " 'case',\n",
       " 'ramen',\n",
       " 'young',\n",
       " 'excus',\n",
       " 'per',\n",
       " 'contain',\n",
       " 'refund',\n",
       " 'respons',\n",
       " 'authent',\n",
       " 'plenti',\n",
       " 'bottom',\n",
       " 'joint',\n",
       " 'anymor',\n",
       " 'act',\n",
       " 'hit',\n",
       " 'caus',\n",
       " 'none',\n",
       " 'fun',\n",
       " 'mouth',\n",
       " 'earli',\n",
       " 'sound',\n",
       " 'confus',\n",
       " 'weekend',\n",
       " 'middl',\n",
       " 'typic',\n",
       " 'onlin',\n",
       " 'wall',\n",
       " 'plan',\n",
       " 'whatev',\n",
       " 'tortilla',\n",
       " 'club',\n",
       " 'dont',\n",
       " 'provid',\n",
       " 'tuna',\n",
       " 'ruin',\n",
       " 'train',\n",
       " 'cocktail',\n",
       " 'nasti',\n",
       " 'refus',\n",
       " 'coupon',\n",
       " 'gotten',\n",
       " 'fail',\n",
       " 'often',\n",
       " 'woman',\n",
       " 'mostli',\n",
       " 'stale',\n",
       " 'margarita',\n",
       " 'throw',\n",
       " 'assum',\n",
       " 'limit',\n",
       " 'buck',\n",
       " 'heat',\n",
       " 'send',\n",
       " 'asian',\n",
       " 'booth',\n",
       " 'chili',\n",
       " 'upset',\n",
       " 'agre',\n",
       " 'chain',\n",
       " 'shame',\n",
       " 'perhap',\n",
       " 'pour',\n",
       " 'matter',\n",
       " 'host',\n",
       " 'mcdonald',\n",
       " 'bake',\n",
       " 'soda',\n",
       " 'allow',\n",
       " 'shot',\n",
       " 'along',\n",
       " 'sort',\n",
       " 'smile',\n",
       " 'despit',\n",
       " 'comment',\n",
       " 'origin',\n",
       " 'cafe',\n",
       " 'fat',\n",
       " 'thick',\n",
       " 'broth',\n",
       " 'spice',\n",
       " 'non',\n",
       " 'situat',\n",
       " 'post',\n",
       " 'forward',\n",
       " 'station',\n",
       " 'combo',\n",
       " 'within',\n",
       " 'nearli',\n",
       " 'ahead',\n",
       " 'multipl',\n",
       " 'flavorless',\n",
       " 'third',\n",
       " 'handl',\n",
       " 'th',\n",
       " 'ring',\n",
       " 'attempt',\n",
       " 'follow',\n",
       " 'space',\n",
       " 'goe',\n",
       " 'date',\n",
       " 'accept',\n",
       " 'tender',\n",
       " 'choos',\n",
       " 'sadli',\n",
       " 'app',\n",
       " 'nacho',\n",
       " 'paper',\n",
       " 'napkin',\n",
       " 'experienc',\n",
       " 'waffl',\n",
       " 'yell',\n",
       " 'stomach',\n",
       " 'polit',\n",
       " 'undercook',\n",
       " 'neg',\n",
       " 'chewi',\n",
       " 'replac',\n",
       " 'begin',\n",
       " 'cannot',\n",
       " 'receipt',\n",
       " 'incred',\n",
       " 'forget',\n",
       " 'ambianc',\n",
       " 'sometim',\n",
       " 'regist',\n",
       " 'mom',\n",
       " 'level',\n",
       " 'pie',\n",
       " 'step',\n",
       " 'valu',\n",
       " 'stood',\n",
       " 'machin',\n",
       " 'remind',\n",
       " 'vegetarian',\n",
       " 'diner',\n",
       " 'crave',\n",
       " 'improv',\n",
       " 'e',\n",
       " 'boy',\n",
       " 'pleasant',\n",
       " 'contact',\n",
       " 'needless',\n",
       " 'soft',\n",
       " 'view',\n",
       " 'melt',\n",
       " 'girlfriend',\n",
       " 'roast',\n",
       " 'opinion',\n",
       " 'convers',\n",
       " 'complaint',\n",
       " 'textur',\n",
       " 'crap',\n",
       " 'turkey',\n",
       " 'yeah',\n",
       " 'bought',\n",
       " 'groupon',\n",
       " 'updat',\n",
       " 'tv',\n",
       " 'exactli',\n",
       " 'w',\n",
       " 'fruit',\n",
       " 'dark',\n",
       " 'fair',\n",
       " 'hell',\n",
       " 'chair',\n",
       " 'flag',\n",
       " 'doubl',\n",
       " 'citi',\n",
       " 'anywher',\n",
       " 'touch',\n",
       " 'gravi',\n",
       " 'afternoon',\n",
       " 'ined',\n",
       " 'highli',\n",
       " 'spoke',\n",
       " 'threw',\n",
       " 'didnt',\n",
       " 'separ',\n",
       " 'advertis',\n",
       " 'indian',\n",
       " 'u',\n",
       " 'burn',\n",
       " 'certainli',\n",
       " 'ran',\n",
       " 'split',\n",
       " 'chop',\n",
       " 'break',\n",
       " 'odd',\n",
       " 'proceed',\n",
       " 'le',\n",
       " 'discount',\n",
       " 'skip',\n",
       " 'ten',\n",
       " 'deep',\n",
       " 'microwav',\n",
       " 'hype',\n",
       " 'welcom',\n",
       " 'varieti',\n",
       " 'avocado',\n",
       " 'oliv',\n",
       " 'prime',\n",
       " 'bone',\n",
       " 'juic',\n",
       " 'member',\n",
       " 'meet',\n",
       " 'alright',\n",
       " 'patti',\n",
       " 'shock',\n",
       " 'enter',\n",
       " 'easi',\n",
       " 'corner',\n",
       " 'st',\n",
       " 'pad',\n",
       " 'flat',\n",
       " 'beauti',\n",
       " 'book',\n",
       " 'bagel',\n",
       " 'slightli',\n",
       " 'hardli',\n",
       " 'remov',\n",
       " 'edibl',\n",
       " 'lol',\n",
       " 'sens',\n",
       " 'prefer',\n",
       " 'fairli',\n",
       " 'deserv',\n",
       " 'mash',\n",
       " 'beyond',\n",
       " 'appreci',\n",
       " 'frustrat',\n",
       " 'plastic',\n",
       " 'b',\n",
       " 'kinda',\n",
       " 'lamb',\n",
       " 'doubt',\n",
       " 'spring',\n",
       " 'smaller',\n",
       " 'nobodi',\n",
       " 'sum',\n",
       " 'casino',\n",
       " 'otherwis',\n",
       " 'repli',\n",
       " 'fault',\n",
       " 'lemon',\n",
       " 'compani',\n",
       " 'c',\n",
       " 'warn',\n",
       " 'rock',\n",
       " 'repeat',\n",
       " 'caesar',\n",
       " 'guacamol',\n",
       " 'round',\n",
       " 'imagin',\n",
       " 'japanes',\n",
       " 'korean',\n",
       " 'concern',\n",
       " 'known',\n",
       " 'orang',\n",
       " 'oyster',\n",
       " 'chose',\n",
       " 'pickl',\n",
       " 'perfect',\n",
       " 'shake',\n",
       " 'rip',\n",
       " 'hang',\n",
       " 'comp',\n",
       " 'apart',\n",
       " 'pot',\n",
       " 'chipotl',\n",
       " 'unprofession',\n",
       " 'strang',\n",
       " 'alon',\n",
       " 'overli',\n",
       " 'purchas',\n",
       " 'specif',\n",
       " 'pricey',\n",
       " 'leg',\n",
       " 'hash',\n",
       " 'world',\n",
       " 'learn',\n",
       " 'poorli',\n",
       " 'yesterday',\n",
       " 'poison',\n",
       " 'screw',\n",
       " 'dumpl',\n",
       " 'meatbal',\n",
       " 'bunch',\n",
       " 'greas',\n",
       " 'similar',\n",
       " 'websit',\n",
       " 'truli',\n",
       " 'bell',\n",
       " 'crazi',\n",
       " 'pre',\n",
       " 'milk',\n",
       " 'frequent',\n",
       " 'american',\n",
       " 'mother',\n",
       " 'fall',\n",
       " 'besid',\n",
       " 'ball',\n",
       " 'calamari',\n",
       " 'dim',\n",
       " 'describ',\n",
       " 'brisket',\n",
       " 'desert',\n",
       " 'build',\n",
       " 'ton',\n",
       " 'previou',\n",
       " 'section',\n",
       " 'argu',\n",
       " 'downtown',\n",
       " 'neither',\n",
       " 'pita',\n",
       " 'vegan',\n",
       " 'higher',\n",
       " 'blue',\n",
       " 'bore',\n",
       " 'enchilada',\n",
       " 'straight',\n",
       " 'process',\n",
       " 'properli',\n",
       " 'event',\n",
       " 'driver',\n",
       " 'confirm',\n",
       " 'sister',\n",
       " 'sugar',\n",
       " 'ranch',\n",
       " 'underwhelm',\n",
       " ...]"
      ]
     },
     "execution_count": 44,
     "metadata": {},
     "output_type": "execute_result"
    }
   ],
   "source": [
    "new_vocab_dict = {}"
   ]
  },
  {
   "cell_type": "code",
   "execution_count": 53,
   "metadata": {},
   "outputs": [
    {
     "data": {
      "text/plain": [
       "5000"
      ]
     },
     "execution_count": 53,
     "metadata": {},
     "output_type": "execute_result"
    }
   ],
   "source": [
    "len(new_vocab)"
   ]
  },
  {
   "cell_type": "code",
   "execution_count": 52,
   "metadata": {},
   "outputs": [
    {
     "data": {
      "text/plain": [
       "{'a': 0, 'b': 1, 'c': 2}"
      ]
     },
     "execution_count": 52,
     "metadata": {},
     "output_type": "execute_result"
    }
   ],
   "source": [
    "s = {key: value for (key, value) in zip(l,range(3))}\n",
    "s"
   ]
  },
  {
   "cell_type": "code",
   "execution_count": 54,
   "metadata": {},
   "outputs": [],
   "source": [
    "new_vocab_dict = {key: value for (key, value) in zip(new_vocab,range(5000))}"
   ]
  },
  {
   "cell_type": "code",
   "execution_count": 64,
   "metadata": {},
   "outputs": [],
   "source": [
    "cv2 = CountVectorizer( tokenizer= tokenize, vocabulary= new_vocab_dict )"
   ]
  },
  {
   "cell_type": "code",
   "execution_count": 69,
   "metadata": {},
   "outputs": [],
   "source": [
    "idf2 = TfidfTransformer()"
   ]
  },
  {
   "cell_type": "code",
   "execution_count": 114,
   "metadata": {},
   "outputs": [
    {
     "ename": "AttributeError",
     "evalue": "can't set attribute",
     "output_type": "error",
     "traceback": [
      "\u001b[0;31m---------------------------------------------------------------------------\u001b[0m",
      "\u001b[0;31mAttributeError\u001b[0m                            Traceback (most recent call last)",
      "\u001b[0;32m<ipython-input-114-47ef6029097d>\u001b[0m in \u001b[0;36m<module>\u001b[0;34m()\u001b[0m\n\u001b[0;32m----> 1\u001b[0;31m \u001b[0midf2\u001b[0m\u001b[0;34m.\u001b[0m\u001b[0midf_\u001b[0m \u001b[0;34m=\u001b[0m \u001b[0mnew_idf\u001b[0m\u001b[0;34m\u001b[0m\u001b[0m\n\u001b[0m",
      "\u001b[0;31mAttributeError\u001b[0m: can't set attribute"
     ]
    }
   ],
   "source": [
    "idf2.idf_ = new_idf"
   ]
  },
  {
   "cell_type": "code",
   "execution_count": 115,
   "metadata": {},
   "outputs": [
    {
     "data": {
      "text/plain": [
       "array([0.60330892, 0.84252972, 0.89160188, ..., 7.57342848, 7.62472178,\n",
       "       7.76580038])"
      ]
     },
     "execution_count": 115,
     "metadata": {},
     "output_type": "execute_result"
    }
   ],
   "source": [
    "new_idf"
   ]
  },
  {
   "cell_type": "code",
   "execution_count": 82,
   "metadata": {},
   "outputs": [],
   "source": [
    "km2 = KMeans(n_clusters = 18)"
   ]
  },
  {
   "cell_type": "code",
   "execution_count": 93,
   "metadata": {},
   "outputs": [],
   "source": [
    "XX = cv2.transform(rx *18)"
   ]
  },
  {
   "cell_type": "code",
   "execution_count": 94,
   "metadata": {},
   "outputs": [
    {
     "data": {
      "text/plain": [
       "KMeans(algorithm='auto', copy_x=True, init='k-means++', max_iter=300,\n",
       "    n_clusters=18, n_init=10, n_jobs=1, precompute_distances='auto',\n",
       "    random_state=None, tol=0.0001, verbose=0)"
      ]
     },
     "execution_count": 94,
     "metadata": {},
     "output_type": "execute_result"
    }
   ],
   "source": [
    "km2.fit(XX)"
   ]
  },
  {
   "cell_type": "code",
   "execution_count": 112,
   "metadata": {},
   "outputs": [],
   "source": [
    "km2.cluster_centers_ = new_clusters"
   ]
  },
  {
   "cell_type": "code",
   "execution_count": 110,
   "metadata": {},
   "outputs": [],
   "source": [
    "new_clusters = np.array(new_centers)"
   ]
  },
  {
   "cell_type": "code",
   "execution_count": 111,
   "metadata": {},
   "outputs": [
    {
     "data": {
      "text/plain": [
       "numpy.ndarray"
      ]
     },
     "execution_count": 111,
     "metadata": {},
     "output_type": "execute_result"
    }
   ],
   "source": [
    "type(new_clusters)"
   ]
  },
  {
   "cell_type": "code",
   "execution_count": 101,
   "metadata": {},
   "outputs": [
    {
     "data": {
      "text/plain": [
       "<18x5000 sparse matrix of type '<class 'numpy.int64'>'\n",
       "\twith 378 stored elements in Compressed Sparse Row format>"
      ]
     },
     "execution_count": 101,
     "metadata": {},
     "output_type": "execute_result"
    }
   ],
   "source": [
    "XX"
   ]
  },
  {
   "cell_type": "code",
   "execution_count": 142,
   "metadata": {},
   "outputs": [
    {
     "data": {
      "text/plain": [
       "21"
      ]
     },
     "execution_count": 142,
     "metadata": {},
     "output_type": "execute_result"
    }
   ],
   "source": [
    "x.count_nonzero()"
   ]
  },
  {
   "cell_type": "code",
   "execution_count": 113,
   "metadata": {},
   "outputs": [
    {
     "data": {
      "text/plain": [
       "array([1], dtype=int32)"
      ]
     },
     "execution_count": 113,
     "metadata": {},
     "output_type": "execute_result"
    }
   ],
   "source": [
    "km2.predict(x)"
   ]
  },
  {
   "cell_type": "code",
   "execution_count": 116,
   "metadata": {},
   "outputs": [
    {
     "data": {
      "text/plain": [
       "TfidfTransformer(norm='l2', smooth_idf=True, sublinear_tf=False, use_idf=True)"
      ]
     },
     "execution_count": 116,
     "metadata": {},
     "output_type": "execute_result"
    }
   ],
   "source": [
    "idf2.fit(XX)"
   ]
  },
  {
   "cell_type": "code",
   "execution_count": 120,
   "metadata": {
    "scrolled": true
   },
   "outputs": [
    {
     "data": {
      "text/plain": [
       "array([3.94443898, 3.94443898, 3.94443898, ..., 3.94443898, 3.94443898,\n",
       "       3.94443898])"
      ]
     },
     "execution_count": 120,
     "metadata": {},
     "output_type": "execute_result"
    }
   ],
   "source": [
    "idf2.idf_ "
   ]
  },
  {
   "cell_type": "code",
   "execution_count": 132,
   "metadata": {},
   "outputs": [],
   "source": [
    "y =idf2.transform(x)"
   ]
  },
  {
   "cell_type": "code",
   "execution_count": 140,
   "metadata": {},
   "outputs": [
    {
     "data": {
      "text/plain": [
       "array([0.60330892, 0.84252972, 0.89160188, ..., 7.57342848, 7.62472178,\n",
       "       7.76580038])"
      ]
     },
     "execution_count": 140,
     "metadata": {},
     "output_type": "execute_result"
    }
   ],
   "source": [
    "new_idf"
   ]
  },
  {
   "cell_type": "code",
   "execution_count": 150,
   "metadata": {},
   "outputs": [
    {
     "data": {
      "text/plain": [
       "5000"
      ]
     },
     "execution_count": 150,
     "metadata": {},
     "output_type": "execute_result"
    }
   ],
   "source": [
    "len(new_idf)"
   ]
  },
  {
   "cell_type": "code",
   "execution_count": 155,
   "metadata": {},
   "outputs": [],
   "source": [
    "zz = x.toarray()[0]*new_idf"
   ]
  },
  {
   "cell_type": "code",
   "execution_count": 165,
   "metadata": {},
   "outputs": [
    {
     "data": {
      "text/plain": [
       "array([  14,   21,   43,   44,   59,   60,   80,   85,   89,  103,  113,\n",
       "        119,  134,  177,  182,  183,  241,  256,  744, 1300, 1842])"
      ]
     },
     "execution_count": 165,
     "metadata": {},
     "output_type": "execute_result"
    }
   ],
   "source": [
    "np.arange(0,5000)[zz!=0]"
   ]
  },
  {
   "cell_type": "code",
   "execution_count": 166,
   "metadata": {},
   "outputs": [
    {
     "data": {
      "text/plain": [
       "array([ 1.50396177,  1.58009069,  4.12929524,  1.97121741,  2.0138051 ,\n",
       "        2.0605039 ,  2.78739614,  2.23253067,  2.3115158 ,  2.47524029,\n",
       "        2.8910658 ,  5.27216197,  2.5848684 ,  2.78219375,  2.81168199,\n",
       "        2.79220635,  2.97982493,  3.10551089,  4.28876492,  5.16423365,\n",
       "       11.4578369 ])"
      ]
     },
     "execution_count": 166,
     "metadata": {},
     "output_type": "execute_result"
    }
   ],
   "source": [
    "zz[zz!=0]"
   ]
  },
  {
   "cell_type": "markdown",
   "metadata": {},
   "source": [
    "Pipeline: \n",
    "CountVectorizer, multiply by idf, KMeans"
   ]
  },
  {
   "cell_type": "code",
   "execution_count": 167,
   "metadata": {},
   "outputs": [],
   "source": [
    "with open('r_first.txt') as f:\n",
    "    r1 = f.read()"
   ]
  },
  {
   "cell_type": "code",
   "execution_count": 177,
   "metadata": {},
   "outputs": [],
   "source": [
    "r1_cv = cv2.transform([r1, r1])"
   ]
  },
  {
   "cell_type": "code",
   "execution_count": 178,
   "metadata": {},
   "outputs": [],
   "source": [
    "r1_idf = r1_cv.toarray()[0] *new_idf"
   ]
  },
  {
   "cell_type": "code",
   "execution_count": 181,
   "metadata": {},
   "outputs": [],
   "source": [
    "x = r1_cv.toarray() *new_idf"
   ]
  },
  {
   "cell_type": "code",
   "execution_count": 182,
   "metadata": {},
   "outputs": [
    {
     "data": {
      "text/plain": [
       "(2, 5000)"
      ]
     },
     "execution_count": 182,
     "metadata": {},
     "output_type": "execute_result"
    }
   ],
   "source": []
  },
  {
   "cell_type": "code",
   "execution_count": 179,
   "metadata": {},
   "outputs": [
    {
     "data": {
      "text/plain": [
       "{0: 0.6033089193626404,\n",
       " 1: 0.8425297209220866,\n",
       " 3: 1.1017779477994667,\n",
       " 4: 2.1827840813892454,\n",
       " 6: 3.2769326307004665,\n",
       " 7: 2.1433769259456716,\n",
       " 8: 3.516275656520924,\n",
       " 9: 1.222455509598619,\n",
       " 11: 2.5850355897301447,\n",
       " 12: 2.4453473288915886,\n",
       " 13: 1.527416566294614,\n",
       " 14: 3.0079235395776127,\n",
       " 17: 1.7455128069040162,\n",
       " 18: 1.5925194493728618,\n",
       " 21: 4.740272073154995,\n",
       " 24: 1.6629028779386974,\n",
       " 34: 5.543898176679713,\n",
       " 37: 1.890869644336753,\n",
       " 40: 3.734132011243478,\n",
       " 42: 9.55320814294323,\n",
       " 43: 8.258590471345821,\n",
       " 44: 7.884869659975887,\n",
       " 45: 3.9492724434855146,\n",
       " 48: 1.9755622334766756,\n",
       " 50: 1.9675345087042515,\n",
       " 51: 6.64805123005676,\n",
       " 59: 6.041415310754196,\n",
       " 60: 2.0605038957013675,\n",
       " 61: 4.177263098101345,\n",
       " 63: 2.13513180593985,\n",
       " 67: 4.825014218868506,\n",
       " 68: 4.266138332232245,\n",
       " 72: 4.663098402193987,\n",
       " 78: 4.423568532265932,\n",
       " 80: 22.29916909996506,\n",
       " 84: 5.000575966187348,\n",
       " 85: 4.465061336916345,\n",
       " 87: 7.091826989099719,\n",
       " 89: 4.623031595774181,\n",
       " 90: 2.253716619139134,\n",
       " 92: 2.333932676801633,\n",
       " 94: 7.051525141397213,\n",
       " 95: 2.3360561016207315,\n",
       " 96: 2.445602921033668,\n",
       " 98: 2.398550745051023,\n",
       " 99: 7.083232753633446,\n",
       " 101: 2.3736891293543856,\n",
       " 102: 5.123587376223976,\n",
       " 103: 2.4752402914372102,\n",
       " 104: 2.3776977047683916,\n",
       " 105: 7.233222101427685,\n",
       " 107: 2.4364542664020536,\n",
       " 110: 7.65605434583134,\n",
       " 113: 2.8910658007233305,\n",
       " 118: 2.524534476327981,\n",
       " 119: 7.908242952644712,\n",
       " 121: 2.5647951911157447,\n",
       " 128: 2.555652080293705,\n",
       " 134: 5.169736792193858,\n",
       " 137: 2.5762162087772125,\n",
       " 138: 2.557971498165858,\n",
       " 144: 2.5930805893835283,\n",
       " 145: 2.6255555101813868,\n",
       " 147: 2.6207754709834186,\n",
       " 153: 8.091832247474597,\n",
       " 154: 3.02880479642127,\n",
       " 159: 5.319709802576406,\n",
       " 173: 5.499048907455452,\n",
       " 177: 2.782193753480447,\n",
       " 182: 14.058409947555697,\n",
       " 183: 2.792206352772877,\n",
       " 188: 5.700950521793705,\n",
       " 191: 2.7993597600914217,\n",
       " 193: 2.9050487831553515,\n",
       " 198: 2.8350394527670133,\n",
       " 204: 2.8699979273857164,\n",
       " 219: 3.070844885328337,\n",
       " 222: 3.039754298258306,\n",
       " 224: 2.9482106012494578,\n",
       " 241: 5.959649865849403,\n",
       " 251: 3.079469225889238,\n",
       " 253: 3.0700142055076234,\n",
       " 255: 3.1080952417410352,\n",
       " 256: 6.211021779959225,\n",
       " 259: 3.0427124824781835,\n",
       " 262: 3.0842304728056567,\n",
       " 264: 3.0791898572605176,\n",
       " 277: 3.136085407196738,\n",
       " 282: 3.2417087867582928,\n",
       " 283: 3.137564916269696,\n",
       " 301: 3.2536097536667348,\n",
       " 308: 3.2744438405695764,\n",
       " 313: 6.549566913612994,\n",
       " 314: 3.523819814160618,\n",
       " 326: 3.283311565801149,\n",
       " 327: 3.2788678736487213,\n",
       " 359: 3.611663385218367,\n",
       " 367: 3.459689873212592,\n",
       " 382: 3.452360850178473,\n",
       " 388: 3.6805882965299554,\n",
       " 391: 7.559252217001225,\n",
       " 395: 3.5720219159784956,\n",
       " 405: 3.544066984695948,\n",
       " 407: 3.692896144204552,\n",
       " 408: 3.544511725641682,\n",
       " 410: 3.5409593240373143,\n",
       " 417: 3.5756866017106437,\n",
       " 433: 3.630391423584012,\n",
       " 437: 3.6226656487972506,\n",
       " 443: 7.282225547690838,\n",
       " 453: 3.6539334622744803,\n",
       " 455: 7.322810954226362,\n",
       " 468: 7.522451624790785,\n",
       " 482: 3.699626689933379,\n",
       " 487: 3.7179758286015754,\n",
       " 507: 7.644322511985151,\n",
       " 515: 3.7807522347457474,\n",
       " 545: 4.144291732189931,\n",
       " 546: 3.8920772948481823,\n",
       " 559: 3.8857998103290434,\n",
       " 560: 4.109256301717783,\n",
       " 572: 16.89059034717275,\n",
       " 592: 3.919528747323418,\n",
       " 595: 4.0837624528915635,\n",
       " 607: 4.005305229563191,\n",
       " 644: 4.050751203341463,\n",
       " 660: 8.206032063715398,\n",
       " 678: 4.191583829394987,\n",
       " 691: 4.173899157979869,\n",
       " 695: 4.183966357097593,\n",
       " 696: 4.334750030376947,\n",
       " 713: 4.199259773267091,\n",
       " 744: 4.288764917135124,\n",
       " 748: 4.285026595024516,\n",
       " 767: 8.583155717023477,\n",
       " 784: 4.338679308516836,\n",
       " 806: 4.392254524857138,\n",
       " 815: 4.4632520745964674,\n",
       " 857: 4.462137868353064,\n",
       " 867: 4.483523038970087,\n",
       " 871: 4.697042966619902,\n",
       " 898: 4.50537554740771,\n",
       " 959: 4.587746544840837,\n",
       " 992: 14.036696143489497,\n",
       " 1017: 4.743160648714868,\n",
       " 1038: 4.902734067982887,\n",
       " 1045: 4.767042380718255,\n",
       " 1105: 4.842313008508121,\n",
       " 1108: 4.870390823262661,\n",
       " 1124: 4.906200275959372,\n",
       " 1136: 5.051707859630611,\n",
       " 1145: 4.952389658428747,\n",
       " 1148: 4.888988147078251,\n",
       " 1181: 4.943339822908829,\n",
       " 1191: 5.020084671200099,\n",
       " 1248: 5.045701835570399,\n",
       " 1268: 10.115500348173146,\n",
       " 1300: 10.328467308978047,\n",
       " 1496: 5.393011023521489,\n",
       " 1499: 5.356946088600694,\n",
       " 1703: 5.690153904477499,\n",
       " 1712: 5.582135327638197,\n",
       " 1782: 5.649179830267193,\n",
       " 1787: 5.627518333486014,\n",
       " 1842: 11.457836895855486,\n",
       " 1875: 5.765139711362062,\n",
       " 2011: 5.905721661983251,\n",
       " 2206: 6.031199319800677,\n",
       " 2278: 6.031199319800677,\n",
       " 2370: 6.126509499605001,\n",
       " 2946: 6.508717745548899,\n",
       " 2988: 6.740519359606223,\n",
       " 3019: 13.21669517299548,\n",
       " 3651: 7.135173551610172,\n",
       " 3950: 7.119173210263731,\n",
       " 4024: 7.119173210263731,\n",
       " 4154: 7.167963374433163}"
      ]
     },
     "execution_count": 179,
     "metadata": {},
     "output_type": "execute_result"
    }
   ],
   "source": [
    "{key:value for (key, value) in zip(np.arange(0,5000)[r1_idf!=0],r1_idf[r1_idf!=0])}"
   ]
  },
  {
   "cell_type": "code",
   "execution_count": 184,
   "metadata": {},
   "outputs": [],
   "source": [
    "cl = km2.predict(x)"
   ]
  },
  {
   "cell_type": "code",
   "execution_count": 187,
   "metadata": {},
   "outputs": [
    {
     "data": {
      "text/plain": [
       "array([8], dtype=int32)"
      ]
     },
     "execution_count": 187,
     "metadata": {},
     "output_type": "execute_result"
    }
   ],
   "source": [
    "km2.predict(r1_idf.reshape(1,-1))"
   ]
  },
  {
   "cell_type": "code",
   "execution_count": 189,
   "metadata": {},
   "outputs": [
    {
     "data": {
      "text/plain": [
       "array([[0.60330892, 0.84252972, 0.        , ..., 0.        , 0.        ,\n",
       "        0.        ]])"
      ]
     },
     "execution_count": 189,
     "metadata": {},
     "output_type": "execute_result"
    }
   ],
   "source": [
    "cv2.transform([r1]).toarray()*new_idf"
   ]
  },
  {
   "cell_type": "code",
   "execution_count": 193,
   "metadata": {},
   "outputs": [],
   "source": [
    "with open('model_parts/cv.mdl','wb') as f:\n",
    "    pickle.dump(cv2,f)\n",
    "with open('model_parts/km.mdl','wb') as f:\n",
    "    pickle.dump(km2,f)\n"
   ]
  },
  {
   "cell_type": "code",
   "execution_count": null,
   "metadata": {},
   "outputs": [],
   "source": []
  }
 ],
 "metadata": {
  "kernelspec": {
   "display_name": "Python 3",
   "language": "python",
   "name": "python3"
  },
  "language_info": {
   "codemirror_mode": {
    "name": "ipython",
    "version": 3
   },
   "file_extension": ".py",
   "mimetype": "text/x-python",
   "name": "python",
   "nbconvert_exporter": "python",
   "pygments_lexer": "ipython3",
   "version": "3.6.5"
  }
 },
 "nbformat": 4,
 "nbformat_minor": 2
}
